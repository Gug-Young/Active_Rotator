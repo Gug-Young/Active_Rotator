{
 "cells": [
  {
   "cell_type": "code",
   "execution_count": null,
   "metadata": {},
   "outputs": [],
   "source": [
    "K,alpha,beta = symbols('K alpha beta',real=True)\n",
    "r = IndexedBase('r', real = True)\n",
    "phi = IndexedBase('phi', real = True)\n",
    "syms K alpha beta phi N\n",
    "R1 = (r11-r12)/2\n",
    "R2 = (r21-r22)/2\n",
    "dr11_dt = K/2 *(R1^2 *cos(alpha)+beta^2*R2^2*cos(alpha+2*phi) + 2*beta*R1*R2*cos(alpha+phi)-cos(alpha)/(2*N)*(r11^2+r12^2)-beta^2*cos(alpha+2*phi)/(2*N)*(r21^2+r22^2))-K/(2*N)*(R1*cos(alpha)+beta*R2*cos(alpha+phi))*(1-r11^2)\n"
   ]
  },
  {
   "cell_type": "code",
   "execution_count": null,
   "metadata": {},
   "outputs": [],
   "source": [
    "syms K beta alpha phi N\n",
    "F=-K*(beta^4*(sin(2*alpha) + sin(4*phi))/(N*cos(alpha)) - 2*sin(alpha)/N) + K*beta^2*(-beta^2*cos(alpha - 2*phi)/cos(alpha) + 1)*(-sin(alpha - 2*phi) + cos(alpha - 2*phi)*tan(alpha))/N"
   ]
  }
 ],
 "metadata": {
  "language_info": {
   "name": "python"
  }
 },
 "nbformat": 4,
 "nbformat_minor": 2
}
