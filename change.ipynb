{
 "cells": [
  {
   "cell_type": "code",
   "execution_count": null,
   "metadata": {},
   "outputs": [],
   "source": [
    "K,alpha,beta = symbols('K alpha beta',real=True)\n",
    "r = IndexedBase('r', real = True)\n",
    "phi = IndexedBase('phi', real = True)\n",
    "syms K alpha beta phi N\n",
    "R1 = (r11-r12)/2\n",
    "R2 = (r21-r22)/2\n",
    "dr11_dt = K/2 *(R1^2 *cos(alpha)+beta^2*R2^2*cos(alpha+2*phi) + 2*beta*R1*R2*cos(alpha+phi)-cos(alpha)/(2*N)*(r11^2+r12^2)-beta^2*cos(alpha+2*phi)/(2*N)*(r21^2+r22^2))-K/(2*N)*(R1*cos(alpha)+beta*R2*cos(alpha+phi))*(1-r11^2)\n"
   ]
  },
  {
   "cell_type": "code",
   "execution_count": null,
   "metadata": {},
   "outputs": [],
   "source": [
    "syms K beta alpha phi N\n",
    "F=-K*(beta^4*(sin(2*alpha) + sin(4*phi))/(N*cos(alpha)) - 2*sin(alpha)/N) + K*beta^2*(-beta^2*cos(alpha - 2*phi)/cos(alpha) + 1)*(-sin(alpha - 2*phi) + cos(alpha - 2*phi)*tan(alpha))/N"
   ]
  },
  {
   "cell_type": "code",
   "execution_count": 3,
   "metadata": {},
   "outputs": [],
   "source": [
    "from sympy import *"
   ]
  },
  {
   "cell_type": "code",
   "execution_count": 19,
   "metadata": {},
   "outputs": [],
   "source": [
    "a,b,c,d = symbols('a b c d',real = True)\n",
    "l = IndexedBase('lambda',real=True)\n",
    "L,chi =  symbols('Lambda chi')\n",
    "\n",
    "M = Matrix([[a,b,b],[b,c,d],[b,d,c]])\n",
    "MS = M.subs([(a,a-l),(c,c-l)])\n",
    "# M = M.subs([(a,l[1]),(b,2*l[2]),(c,2*l[2]+4*l[5]),(d,4*l[5]-2*l[4])])\n",
    "# M.eigenvals()"
   ]
  },
  {
   "cell_type": "code",
   "execution_count": 18,
   "metadata": {},
   "outputs": [
    {
     "data": {
      "text/latex": [
       "$\\displaystyle \\left(2 {\\lambda}_{2} - 2 {\\lambda}_{4} + 8 {\\lambda}_{5}\\right) {\\lambda}_{1} - 8 {\\lambda}_{2}^{2}$"
      ],
      "text/plain": [
       "(2*lambda[2] - 2*lambda[4] + 8*lambda[5])*lambda[1] - 8*lambda[2]**2"
      ]
     },
     "execution_count": 18,
     "metadata": {},
     "output_type": "execute_result"
    }
   ],
   "source": [
    "(a*(c+d)-2*b**2).subs([(a,l[1]),(b,2*l[2]),(c,2*l[2]+4*l[5]),(d,4*l[5]-2*l[4])])"
   ]
  },
  {
   "cell_type": "code",
   "execution_count": 22,
   "metadata": {},
   "outputs": [
    {
     "data": {
      "text/latex": [
       "$\\displaystyle - 4 \\cdot \\left(2 {\\lambda}_{2} - 2 {\\lambda}_{4} + 8 {\\lambda}_{5}\\right) {\\lambda}_{1} + \\left({\\lambda}_{1} + 2 {\\lambda}_{2} - 2 {\\lambda}_{4} + 8 {\\lambda}_{5}\\right)^{2} + 32 {\\lambda}_{2}^{2}$"
      ],
      "text/plain": [
       "-4*(2*lambda[2] - 2*lambda[4] + 8*lambda[5])*lambda[1] + (lambda[1] + 2*lambda[2] - 2*lambda[4] + 8*lambda[5])**2 + 32*lambda[2]**2"
      ]
     },
     "execution_count": 22,
     "metadata": {},
     "output_type": "execute_result"
    }
   ],
   "source": [
    "(L**2 - 4*chi).subs([(chi,a*(c+d)-2*b**2),(L,c+d+a)]).subs([(a,l[1]),(b,2*l[2]),(c,2*l[2]+4*l[5]),(d,4*l[5]-2*l[4])])"
   ]
  },
  {
   "cell_type": "code",
   "execution_count": 15,
   "metadata": {},
   "outputs": [
    {
     "data": {
      "text/latex": [
       "$\\displaystyle \\left[\\begin{matrix}a - \\lambda & b & b\\\\b & c - \\lambda & d\\\\b & d & c - \\lambda\\end{matrix}\\right]$"
      ],
      "text/plain": [
       "Matrix([\n",
       "[a - lambda,          b,          b],\n",
       "[         b, c - lambda,          d],\n",
       "[         b,          d, c - lambda]])"
      ]
     },
     "execution_count": 15,
     "metadata": {},
     "output_type": "execute_result"
    }
   ],
   "source": [
    "MS"
   ]
  },
  {
   "cell_type": "code",
   "execution_count": 14,
   "metadata": {},
   "outputs": [
    {
     "data": {
      "text/latex": [
       "$\\displaystyle a c^{2} - 2 a c \\lambda - a d^{2} + a \\lambda^{2} - 2 b^{2} c + 2 b^{2} d + 2 b^{2} \\lambda - c^{2} \\lambda + 2 c \\lambda^{2} + d^{2} \\lambda - \\lambda^{3}$"
      ],
      "text/plain": [
       "a*c**2 - 2*a*c*lambda - a*d**2 + a*lambda**2 - 2*b**2*c + 2*b**2*d + 2*b**2*lambda - c**2*lambda + 2*c*lambda**2 + d**2*lambda - lambda**3"
      ]
     },
     "execution_count": 14,
     "metadata": {},
     "output_type": "execute_result"
    }
   ],
   "source": [
    "MS.det().simplify()"
   ]
  },
  {
   "cell_type": "code",
   "execution_count": null,
   "metadata": {},
   "outputs": [],
   "source": []
  }
 ],
 "metadata": {
  "kernelspec": {
   "display_name": "Python 3",
   "language": "python",
   "name": "python3"
  },
  "language_info": {
   "codemirror_mode": {
    "name": "ipython",
    "version": 3
   },
   "file_extension": ".py",
   "mimetype": "text/x-python",
   "name": "python",
   "nbconvert_exporter": "python",
   "pygments_lexer": "ipython3",
   "version": "3.11.1"
  }
 },
 "nbformat": 4,
 "nbformat_minor": 2
}
