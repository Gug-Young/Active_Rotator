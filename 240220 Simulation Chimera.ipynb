{
 "cells": [
  {
   "cell_type": "code",
   "execution_count": 272,
   "metadata": {},
   "outputs": [],
   "source": [
    "import numpy as np\n",
    "def Kuramoto(Theta,t,omega,N,K,mk,Aij):\n",
    "    # print(\"Case m = 0\")\n",
    "    theta = 1*Theta\n",
    "    theta_i,theta_j = np.meshgrid(theta,theta,sparse=True)\n",
    "    dtheta = omega + K/mk*np.sum(Aij*np.sin(theta_j - theta_i),axis=0) \n",
    "    Theta[:N] = dtheta\n",
    "    return Theta"
   ]
  },
  {
   "cell_type": "code",
   "execution_count": 273,
   "metadata": {},
   "outputs": [],
   "source": [
    "import numpy as np\n",
    "import matplotlib.pyplot as plt\n",
    "import networkx as nx\n",
    "from numba import jit"
   ]
  },
  {
   "cell_type": "code",
   "execution_count": 309,
   "metadata": {},
   "outputs": [],
   "source": [
    "@jit(nopython = True,chache=True)\n",
    "def RKHG(f,y0,t,D,args=()):\n",
    "    n = len(t)\n",
    "    size = len(y0)\n",
    "    y = np.zeros((n, size))\n",
    "    y[0] = y0\n",
    "    h = t[1] - t[0]\n",
    "    sh = np.sqrt(h)\n",
    "    for i in range(n - 1):\n",
    "        S = np.random.choice([-1,1],size=size)\n",
    "        dW = np.random.normal(0,1,size)*sh\n",
    "        k1 = h*f(y[i],t[i],*args) + (dW - S*sh)*D\n",
    "        k2 = h*f(y[i]+k1,t[i]+h,*args) + (dW + S*sh)*D\n",
    "        y[i+1] = y[i] + 0.5*(k1+k2)\n",
    "    return y"
   ]
  },
  {
   "cell_type": "code",
   "execution_count": 310,
   "metadata": {},
   "outputs": [],
   "source": [
    "from scipy.special import erfinv\n",
    "import scipy.stats as scs\n",
    "\n",
    "def _make_init_theta_(seed,N):\n",
    "    if type(seed)==str:\n",
    "        init_theta= np.linspace(-np.pi,np.pi,N,endpoint=False)\n",
    "    else:\n",
    "        np.random.seed(seed)\n",
    "        init_theta = np.random.uniform(-np.pi, np.pi, size=N)\n",
    "    return init_theta\n",
    "def Q_Normal(N, mean=0, sigma=1,seed=None):\n",
    "    \"\"\"return theta, omega, Kc\"\"\"\n",
    "    init_theta = _make_init_theta_(seed,N)\n",
    "    init_omega = np.array([mean +sigma*(2**0.5)*erfinv((2*i - N - 1)/(N+1)) for i in range(1,N+1)])\n",
    "    Kc = 2 / (np.pi * scs.cauchy.pdf(mean, mean, sigma))\n",
    "    return init_theta, init_omega, Kc"
   ]
  },
  {
   "cell_type": "code",
   "execution_count": 630,
   "metadata": {},
   "outputs": [],
   "source": [
    "@jit(nopython = True)\n",
    "def RKHG(f,y0,t,D,args=()):\n",
    "    n = len(t)\n",
    "    size = len(y0)\n",
    "    y = np.zeros((n, size))\n",
    "    y[0] = y0\n",
    "    h = t[1] - t[0]\n",
    "    sh = np.sqrt(h)\n",
    "    for i in range(n - 1):\n",
    "        S = np.random.choice(np.array([-1,1]),size=size)\n",
    "        dW = np.random.normal(0,1,size)*sh\n",
    "        k1 = h*f(y[i],t[i],*args) + (dW - S*sh)*D\n",
    "        k2 = h*f(y[i]+k1,t[i]+h,*args) + (dW + S*sh)*D\n",
    "        y[i+1] = y[i] + 0.5*(k1+k2)\n",
    "    return y\n",
    "\n",
    "\n",
    "@jit(nopython = True,cache=True)\n",
    "def RK4(f, y0, t, args=()):\n",
    "    n = len(t)\n",
    "    y = np.zeros((n, len(y0)))\n",
    "    y[0] = y0\n",
    "\n",
    "    for i in range(n - 1):\n",
    "        h = t[i + 1] - t[i]\n",
    "        k1 = f(y[i], t[i], *args)\n",
    "        k2 = f(y[i] + k1 * h / 2.0, t[i] + h / 2.0, *args)\n",
    "        k3 = f(y[i] + k2 * h / 2.0, t[i] + h / 2.0, *args)\n",
    "        k4 = f(y[i] + k3 * h, t[i] + h, *args)\n",
    "        y[i + 1] = y[i] + (h / 6.0) * (k1 + 2 * k2 + 2 * k3 + k4)\n",
    "    return y\n",
    "\n",
    "\n",
    "\n",
    "@jit(nopython = True,cache=True)\n",
    "def Kuramoto_SOL_CHIMERA(Theta,t,omega,N,Kij,alpha):\n",
    "    # print(\"Case m = 0\")\n",
    "    Theta = Theta.copy()\n",
    "    theta = Theta[:N]\n",
    "\n",
    "    theta_i= theta.reshape(1,-1)\n",
    "    theta_j = theta_i.T\n",
    "    # theta_i,theta_j = np.meshgrid(theta,theta,sparse=True)\n",
    "    dtheta = omega +  np.sum(Kij*np.sin(theta_j - theta_i - alpha),axis=0)\n",
    "    Theta[:N] = dtheta\n",
    "    return Theta"
   ]
  },
  {
   "cell_type": "code",
   "execution_count": 631,
   "metadata": {},
   "outputs": [],
   "source": [
    "N1 = 128\n",
    "N2 = 128\n",
    "theta_init = np.random.uniform(0,np.pi,(N1+N2))"
   ]
  },
  {
   "cell_type": "code",
   "execution_count": 632,
   "metadata": {},
   "outputs": [
    {
     "data": {
      "text/plain": [
       "0.05572357206606493"
      ]
     },
     "execution_count": 632,
     "metadata": {},
     "output_type": "execute_result"
    }
   ],
   "source": [
    "N1 = 128\n",
    "N2 = 128\n",
    "theta_init = np.random.uniform(0,np.pi,(N1+N2)).astype(np.float32)\n",
    "theta_init[:N1] = np.random.uniform(0,2*np.pi,(N1)).astype(np.float32)\n",
    "theta_init[N1:] = np.random.uniform(0,2*np.pi,(N2)).astype(np.float32)\n",
    "np.abs(np.mean(np.exp(theta_init*1j),axis=0))\n"
   ]
  },
  {
   "cell_type": "code",
   "execution_count": 691,
   "metadata": {},
   "outputs": [
    {
     "data": {
      "text/plain": [
       "0.2679491924311228"
      ]
     },
     "execution_count": 691,
     "metadata": {},
     "output_type": "execute_result"
    }
   ],
   "source": [
    "2 - 3**0.5"
   ]
  },
  {
   "cell_type": "code",
   "execution_count": 719,
   "metadata": {},
   "outputs": [
    {
     "name": "stdout",
     "output_type": "stream",
     "text": [
      "A = 0.25, $\\beta$ = 0.10\n"
     ]
    }
   ],
   "source": [
    "N1 = 1024\n",
    "N2 = 1024 \n",
    "theta_init = np.random.uniform(0,2*np.pi,(N1+N2))\n",
    "theta_init[:N1] = np.random.uniform(0,2*np.pi,(N1))\n",
    "theta_init[N1:] = np.random.uniform(0,2*np.pi,(N2))\n",
    "\n",
    "\n",
    "A = 0.25\n",
    "beta = 0.1\n",
    "nu = (1-A)/2\n",
    "mu = (1+A)/2\n",
    "\n",
    "K_ij = nu*np.ones((N1+N2,N1+N2))\n",
    "K_ij[:N1,:N1] = mu\n",
    "K_ij[N1:,N1:] = mu\n",
    "t_end = 100\n",
    "dt = 0.01\n",
    "t = np.arange(0, t_end+dt/2, dt)\n",
    "omega = 1\n",
    "alpha = np.pi/2 - beta\n",
    "print(rf'A = {A:.02f}, $\\beta$ = {beta:.02f}')"
   ]
  },
  {
   "cell_type": "code",
   "execution_count": null,
   "metadata": {},
   "outputs": [
    {
     "ename": "KeyboardInterrupt",
     "evalue": "",
     "output_type": "error",
     "traceback": [
      "\u001b[0;31m---------------------------------------------------------------------------\u001b[0m",
      "\u001b[0;31mKeyboardInterrupt\u001b[0m                         Traceback (most recent call last)",
      "Cell \u001b[0;32mIn[720], line 2\u001b[0m\n\u001b[1;32m      1\u001b[0m \u001b[38;5;66;03m# alpha = np.pi/2 -0.01\u001b[39;00m\n\u001b[0;32m----> 2\u001b[0m sol \u001b[38;5;241m=\u001b[39m \u001b[43mRK4\u001b[49m\u001b[43m(\u001b[49m\u001b[43mKuramoto_SOL_CHIMERA\u001b[49m\u001b[43m,\u001b[49m\u001b[43mtheta_init\u001b[49m\u001b[43m,\u001b[49m\u001b[43mt\u001b[49m\u001b[43m,\u001b[49m\u001b[43m \u001b[49m\u001b[43margs\u001b[49m\u001b[38;5;241;43m=\u001b[39;49m\u001b[43m(\u001b[49m\u001b[43momega\u001b[49m\u001b[43m,\u001b[49m\u001b[43m \u001b[49m\u001b[43mN1\u001b[49m\u001b[38;5;241;43m+\u001b[39;49m\u001b[43mN2\u001b[49m\u001b[43m,\u001b[49m\u001b[43m \u001b[49m\u001b[43mK_ij\u001b[49m\u001b[43m,\u001b[49m\u001b[43malpha\u001b[49m\u001b[43m)\u001b[49m\u001b[43m)\u001b[49m\n",
      "File \u001b[0;32m/Library/Frameworks/Python.framework/Versions/3.11/lib/python3.11/site-packages/numba/core/serialize.py:30\u001b[0m, in \u001b[0;36m_numba_unpickle\u001b[0;34m(address, bytedata, hashed)\u001b[0m\n\u001b[1;32m     26\u001b[0m \u001b[38;5;66;03m# Keep unpickled object via `numba_unpickle` alive.\u001b[39;00m\n\u001b[1;32m     27\u001b[0m _unpickled_memo \u001b[38;5;241m=\u001b[39m {}\n\u001b[0;32m---> 30\u001b[0m \u001b[38;5;28;01mdef\u001b[39;00m \u001b[38;5;21m_numba_unpickle\u001b[39m(address, bytedata, hashed):\n\u001b[1;32m     31\u001b[0m \u001b[38;5;250m    \u001b[39m\u001b[38;5;124;03m\"\"\"Used by `numba_unpickle` from _helperlib.c\u001b[39;00m\n\u001b[1;32m     32\u001b[0m \n\u001b[1;32m     33\u001b[0m \u001b[38;5;124;03m    Parameters\u001b[39;00m\n\u001b[0;32m   (...)\u001b[0m\n\u001b[1;32m     42\u001b[0m \u001b[38;5;124;03m        unpickled object\u001b[39;00m\n\u001b[1;32m     43\u001b[0m \u001b[38;5;124;03m    \"\"\"\u001b[39;00m\n\u001b[1;32m     44\u001b[0m     key \u001b[38;5;241m=\u001b[39m (address, hashed)\n",
      "\u001b[0;31mKeyboardInterrupt\u001b[0m: "
     ]
    }
   ],
   "source": [
    "# alpha = np.pi/2 -0.01\n",
    "sol = RK4(Kuramoto_SOL_CHIMERA,theta_init,t, args=(omega, N1+N2, K_ij,alpha))\n"
   ]
  },
  {
   "cell_type": "code",
   "execution_count": null,
   "metadata": {},
   "outputs": [],
   "source": [
    "rabs1 = np.mean(np.exp(sol.T[:N1]*1j),axis=0)\n",
    "rabs2 = np.mean(np.exp(sol.T[N1:]*1j),axis=0)"
   ]
  },
  {
   "cell_type": "code",
   "execution_count": null,
   "metadata": {},
   "outputs": [
    {
     "data": {
      "text/plain": [
       "0.02573692697356538"
      ]
     },
     "execution_count": 704,
     "metadata": {},
     "output_type": "execute_result"
    }
   ],
   "source": [
    "np.abs(np.mean(np.exp(theta_init[:N1]*1j),axis=0))"
   ]
  },
  {
   "cell_type": "code",
   "execution_count": null,
   "metadata": {},
   "outputs": [],
   "source": [
    "r_I_1,psi_I_1 = np.abs(rabs1[0]),np.angle(rabs1[0])\n"
   ]
  },
  {
   "cell_type": "code",
   "execution_count": null,
   "metadata": {},
   "outputs": [],
   "source": [
    "r_I_1,psi_I_1 = np.abs(rabs1[0]),np.angle(rabs1[0])\n",
    "r_I_2,psi_I_2 = np.abs(rabs2[0]),np.angle(rabs2[0])"
   ]
  },
  {
   "cell_type": "code",
   "execution_count": null,
   "metadata": {},
   "outputs": [
    {
     "data": {
      "text/plain": [
       "<matplotlib.lines.Line2D at 0x1647de750>"
      ]
     },
     "execution_count": 707,
     "metadata": {},
     "output_type": "execute_result"
    },
    {
     "data": {
      "image/png": "[encoded data removed]",
      "text/plain": [
       "<Figure size 640x480 with 1 Axes>"
      ]
     },
     "metadata": {},
     "output_type": "display_data"
    }
   ],
   "source": [
    "plt.axhline(r_I_1)\n",
    "plt.axhline(r_I_2)"
   ]
  },
  {
   "cell_type": "code",
   "execution_count": null,
   "metadata": {},
   "outputs": [
    {
     "data": {
      "text/plain": [
       "[<matplotlib.lines.Line2D at 0x1648740d0>]"
      ]
     },
     "execution_count": 708,
     "metadata": {},
     "output_type": "execute_result"
    },
    {
     "data": {
      "image/png": "[encoded data removed]",
      "text/plain": [
       "<Figure size 640x480 with 1 Axes>"
      ]
     },
     "metadata": {},
     "output_type": "display_data"
    }
   ],
   "source": [
    "plt.plot(t,abs(rabs1))\n",
    "plt.plot(t,abs(rabs2))\n",
    "plt.xlim(t_end-10,t_end)"
   ]
  },
  {
   "cell_type": "code",
   "execution_count": null,
   "metadata": {},
   "outputs": [
    {
     "data": {
      "text/plain": [
       "<matplotlib.collections.PathCollection at 0x29d828050>"
      ]
     },
     "execution_count": 711,
     "metadata": {},
     "output_type": "execute_result"
    },
    {
     "data": {
      "image/png": "[encoded data removed]",
      "text/plain": [
       "<Figure size 640x480 with 1 Axes>"
      ]
     },
     "metadata": {},
     "output_type": "display_data"
    }
   ],
   "source": [
    "# plt.scatter(np.arange(N1+N2),sol[-1]%(np.pi*2))\n",
    "plt.scatter(np.arange(N1+N2),sol[-100]%(np.pi*2))\n"
   ]
  },
  {
   "cell_type": "code",
   "execution_count": 718,
   "metadata": {},
   "outputs": [
    {
     "data": {
      "text/plain": [
       "(array([ 1.,  0.,  1.,  3.,  2.,  2.,  6.,  6.,  9., 10., 13., 14., 23.,\n",
       "        20., 26., 32., 43., 42., 46., 38., 57., 47., 53., 49., 55., 39.,\n",
       "        41., 55., 49., 36., 36., 32., 25., 19., 20., 16., 15., 11., 10.,\n",
       "         6.,  5.,  2.,  4.,  1.,  2.,  0.,  0.,  1.,  0.,  1.]),\n",
       " array([-18089.34433433, -18046.57897342, -18003.81361251, -17961.0482516 ,\n",
       "        -17918.28289069, -17875.51752978, -17832.75216887, -17789.98680796,\n",
       "        -17747.22144705, -17704.45608614, -17661.69072523, -17618.92536432,\n",
       "        -17576.16000341, -17533.3946425 , -17490.62928159, -17447.86392068,\n",
       "        -17405.09855977, -17362.33319886, -17319.56783794, -17276.80247703,\n",
       "        -17234.03711612, -17191.27175521, -17148.5063943 , -17105.74103339,\n",
       "        -17062.97567248, -17020.21031157, -16977.44495066, -16934.67958975,\n",
       "        -16891.91422884, -16849.14886793, -16806.38350702, -16763.61814611,\n",
       "        -16720.8527852 , -16678.08742429, -16635.32206338, -16592.55670246,\n",
       "        -16549.79134155, -16507.02598064, -16464.26061973, -16421.49525882,\n",
       "        -16378.72989791, -16335.964537  , -16293.19917609, -16250.43381518,\n",
       "        -16207.66845427, -16164.90309336, -16122.13773245, -16079.37237154,\n",
       "        -16036.60701063, -15993.84164972, -15951.07628881]),\n",
       " <BarContainer object of 50 artists>)"
      ]
     },
     "execution_count": 718,
     "metadata": {},
     "output_type": "execute_result"
    },
    {
     "data": {
      "image/png": "[encoded data removed]",
      "text/plain": [
       "<Figure size 640x480 with 1 Axes>"
      ]
     },
     "metadata": {},
     "output_type": "display_data"
    }
   ],
   "source": [
    "bins = np.linspace(0,2*np.pi,20)\n",
    "# plt.hist((sol[-1]%(np.pi*2))[:N1],bins=bins)\n",
    "plt.hist((sol[-1][N1:]),bins=50)#%(np.pi*2))[N1:],bins=bins)\n",
    "# plt.hist(sol[-1][N1:])"
   ]
  },
  {
   "cell_type": "code",
   "execution_count": 713,
   "metadata": {},
   "outputs": [
    {
     "data": {
      "text/plain": [
       "<matplotlib.colorbar.Colorbar at 0x164b5fad0>"
      ]
     },
     "execution_count": 713,
     "metadata": {},
     "output_type": "execute_result"
    },
    {
     "data": {
      "image/png": "[encoded data removed]",
      "text/plain": [
       "<Figure size 640x480 with 2 Axes>"
      ]
     },
     "metadata": {},
     "output_type": "display_data"
    }
   ],
   "source": [
    "plt.imshow(K_ij)\n",
    "plt.colorbar()\n"
   ]
  },
  {
   "cell_type": "code",
   "execution_count": 39,
   "metadata": {},
   "outputs": [],
   "source": [
    "# # @jit(nopython=True)\n",
    "# def get_order_parameter(theta,N):\n",
    "#     ''' get theta and return r and theta'''\n",
    "#     rpsi = 1/N*np.sum(np.exp(1j*theta))\n",
    "#     r = np.abs(rpsi)\n",
    "#     psi = np.angle(rpsi)\n",
    "#     return r,psi\n",
    "\n",
    "# # @jit(nopython=True)\n",
    "# def Kuramoto_mf(Theta,t,omega,N,K):\n",
    "#     # print(\"Case m = 0\")\n",
    "#     Theta = Theta.copy()\n",
    "#     theta = Theta[:N]\n",
    "#     r,psi = get_order_parameter(theta,N)\n",
    "#     dtheta = omega + K*r*np.sin(psi - theta)\n",
    "#     Theta[:N] = dtheta\n",
    "#     return Theta\n",
    "\n",
    "\n",
    "# def Kuramoto(Theta,t,omega,N,K,mk,Aij):\n",
    "#     # print(\"Case m = 0\")\n",
    "#     Theta = Theta.copy()\n",
    "#     theta = Theta[:N]\n",
    "#     theta_i,theta_j = np.meshgrid(theta,theta,sparse=True)\n",
    "#     dtheta = omega + K/mk*np.sum(Aij*np.sin(theta_j - theta_i),axis=0) \n",
    "#     Theta[:N] = dtheta\n",
    "#     return Theta\n",
    "\n",
    "# # @jit(nopython=True)\n",
    "# def Kuramoto_mf_AR(Theta,t,omega,N,K,b):\n",
    "#     # print(\"Case m = 0\")\n",
    "#     Theta = Theta.copy()\n",
    "#     theta = Theta[:N]\n",
    "#     r,psi = get_order_parameter(theta,N)\n",
    "#     dtheta = omega + K*r*np.sin(psi - theta) - b*np.sin(theta)\n",
    "#     Theta[:N] = dtheta\n",
    "#     return Theta\n",
    "\n",
    "\n",
    "# def Kuramoto_AR(Theta,t,omega,N,K,mk,Aij,b):\n",
    "#     # print(\"Case m = 0\")\n",
    "#     Theta = Theta.copy()\n",
    "#     theta = Theta[:N]\n",
    "#     theta_i,theta_j = np.meshgrid(theta,theta,sparse=True)\n",
    "#     dtheta = omega +  K/mk*np.sum(Aij*np.sin(theta_j - theta_i),axis=0)  - b*np.sin(theta)\n",
    "#     Theta[:N] = dtheta\n",
    "#     return Theta\n",
    "\n",
    "# def get_order_parameter_ann(theta,N,mk,DEGT):\n",
    "#     ''' get theta and return r and theta'''\n",
    "#     rpsi = 1/(N*mk)*np.sum(DEGT*np.exp(1j*theta))\n",
    "#     r = np.abs(rpsi)\n",
    "#     psi = np.angle(rpsi)\n",
    "#     return r,psi\n",
    "\n",
    "\n",
    "\n",
    "# def Kuramoto_AMF_AR(Theta,t,omega,N,K,mk,DEGT,b):\n",
    "#     # print(\"Case m = 0\")\n",
    "#     Theta = Theta.copy()\n",
    "#     theta = Theta[:N]\n",
    "#     r,psi = get_order_parameter_ann(theta,N,mk,DEGT)\n",
    "#     dtheta = omega + K/mk*r*DEGT.flatten()*np.sin(psi - theta) - b*np.sin(theta)\n",
    "#     Theta[:N] = dtheta\n",
    "#     return Theta\n"
   ]
  },
  {
   "cell_type": "code",
   "execution_count": null,
   "metadata": {},
   "outputs": [],
   "source": [
    "mk = 5\n",
    "N = 1000\n",
    "p = mk/(N)\n",
    "# G = nx.erdos_renyi_graph(N,p)\n",
    "G = nx.barabasi_albert_graph(N,5)"
   ]
  },
  {
   "cell_type": "code",
   "execution_count": null,
   "metadata": {},
   "outputs": [
    {
     "data": {
      "text/plain": [
       "9.95"
      ]
     },
     "metadata": {},
     "output_type": "display_data"
    }
   ],
   "source": [
    "A = nx.adjacency_matrix(G)\n",
    "Aij = A.todense()\n",
    "Deg = Aij.sum(axis=1)\n",
    "DegT = Deg.reshape(-1,1)\n",
    "mk = Deg.mean()\n",
    "mk"
   ]
  },
  {
   "cell_type": "markdown",
   "metadata": {},
   "source": [
    "# 캡스톤"
   ]
  },
  {
   "cell_type": "code",
   "execution_count": 732,
   "metadata": {},
   "outputs": [],
   "source": [
    "A1_xg = 1.7\n",
    "A2_xg = 1.4\n",
    "A2_Ag = 1.4\n",
    "\n",
    "A1_prob = A1_xg/(A1_xg+A2_xg)\n",
    "A2_prob = 1 - A1_prob\n"
   ]
  },
  {
   "cell_type": "code",
   "execution_count": 733,
   "metadata": {},
   "outputs": [
    {
     "data": {
      "text/plain": [
       "0.30000000000000004"
      ]
     },
     "execution_count": 733,
     "metadata": {},
     "output_type": "execute_result"
    }
   ],
   "source": [
    "A1_xg -  A2_Ag"
   ]
  },
  {
   "cell_type": "code",
   "execution_count": 737,
   "metadata": {},
   "outputs": [
    {
     "data": {
      "text/plain": [
       "(0.5483870967741936, 0.4516129032258064)"
      ]
     },
     "execution_count": 737,
     "metadata": {},
     "output_type": "execute_result"
    }
   ],
   "source": [
    "A1_prob, A2_prob"
   ]
  },
  {
   "cell_type": "code",
   "execution_count": 738,
   "metadata": {},
   "outputs": [
    {
     "data": {
      "text/plain": [
       "0.015843059113251345"
      ]
     },
     "execution_count": 738,
     "metadata": {},
     "output_type": "execute_result"
    }
   ],
   "source": [
    "np.random.rand()"
   ]
  },
  {
   "cell_type": "code",
   "execution_count": null,
   "metadata": {},
   "outputs": [],
   "source": []
  }
 ],
 "metadata": {
  "kernelspec": {
   "display_name": "Python 3",
   "language": "python",
   "name": "python3"
  },
  "language_info": {
   "codemirror_mode": {
    "name": "ipython",
    "version": 3
   },
   "file_extension": ".py",
   "mimetype": "text/x-python",
   "name": "python",
   "nbconvert_exporter": "python",
   "pygments_lexer": "ipython3",
   "version": "3.11.1"
  }
 },
 "nbformat": 4,
 "nbformat_minor": 2
}
