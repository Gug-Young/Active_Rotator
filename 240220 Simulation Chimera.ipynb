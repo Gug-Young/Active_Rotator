{
 "cells": [
  {
   "cell_type": "code",
   "execution_count": 1,
   "metadata": {},
   "outputs": [],
   "source": [
    "import numpy as np\n",
    "def Kuramoto(Theta,t,omega,N,K,mk,Aij):\n",
    "    # print(\"Case m = 0\")\n",
    "    theta = 1*Theta\n",
    "    theta_i,theta_j = np.meshgrid(theta,theta,sparse=True)\n",
    "    dtheta = omega + K/mk*np.sum(Aij*np.sin(theta_j - theta_i),axis=0) \n",
    "    Theta[:N] = dtheta\n",
    "    return Theta"
   ]
  },
  {
   "cell_type": "code",
   "execution_count": 2,
   "metadata": {},
   "outputs": [],
   "source": [
    "import numpy as np\n",
    "import matplotlib.pyplot as plt\n",
    "import networkx as nx\n",
    "from numba import jit"
   ]
  },
  {
   "cell_type": "code",
   "execution_count": 3,
   "metadata": {},
   "outputs": [
    {
     "ename": "NameError",
     "evalue": "name 'cuda' is not defined",
     "output_type": "error",
     "traceback": [
      "\u001b[1;31m---------------------------------------------------------------------------\u001b[0m",
      "\u001b[1;31mNameError\u001b[0m                                 Traceback (most recent call last)",
      "Cell \u001b[1;32mIn [3], line 1\u001b[0m\n\u001b[1;32m----> 1\u001b[0m \u001b[38;5;129m@cuda\u001b[39m\u001b[38;5;241m.\u001b[39mjit(nopython \u001b[38;5;241m=\u001b[39m \u001b[38;5;28;01mTrue\u001b[39;00m,chache\u001b[38;5;241m=\u001b[39m\u001b[38;5;28;01mTrue\u001b[39;00m)\n\u001b[0;32m      2\u001b[0m \u001b[38;5;28;01mdef\u001b[39;00m \u001b[38;5;21mRKHG\u001b[39m(f,y0,t,D,args\u001b[38;5;241m=\u001b[39m()):\n\u001b[0;32m      3\u001b[0m     n \u001b[38;5;241m=\u001b[39m \u001b[38;5;28mlen\u001b[39m(t)\n\u001b[0;32m      4\u001b[0m     size \u001b[38;5;241m=\u001b[39m \u001b[38;5;28mlen\u001b[39m(y0)\n",
      "\u001b[1;31mNameError\u001b[0m: name 'cuda' is not defined"
     ]
    }
   ],
   "source": [
    "@cuda.jit(nopython = True,chache=True)\n",
    "def RKHG(f,y0,t,D,args=()):\n",
    "    n = len(t)\n",
    "    size = len(y0)\n",
    "    y = np.zeros((n, size))\n",
    "    y[0] = y0\n",
    "    h = t[1] - t[0]\n",
    "    sh = np.sqrt(h)\n",
    "    for i in range(n - 1):\n",
    "        S = np.random.choice([-1,1],size=size)\n",
    "        dW = np.random.normal(0,1,size)*sh\n",
    "        k1 = h*f(y[i],t[i],*args) + (dW - S*sh)*D\n",
    "        k2 = h*f(y[i]+k1,t[i]+h,*args) + (dW + S*sh)*D\n",
    "        y[i+1] = y[i] + 0.5*(k1+k2)\n",
    "    return y"
   ]
  },
  {
   "cell_type": "code",
   "execution_count": 4,
   "metadata": {},
   "outputs": [],
   "source": [
    "from scipy.special import erfinv\n",
    "import scipy.stats as scs\n",
    "\n",
    "def _make_init_theta_(seed,N):\n",
    "    if type(seed)==str:\n",
    "        init_theta= np.linspace(-np.pi,np.pi,N,endpoint=False)\n",
    "    else:\n",
    "        np.random.seed(seed)\n",
    "        init_theta = np.random.uniform(-np.pi, np.pi, size=N)\n",
    "    return init_theta\n",
    "def Q_Normal(N, mean=0, sigma=1,seed=None):\n",
    "    \"\"\"return theta, omega, Kc\"\"\"\n",
    "    init_theta = _make_init_theta_(seed,N)\n",
    "    init_omega = np.array([mean +sigma*(2**0.5)*erfinv((2*i - N - 1)/(N+1)) for i in range(1,N+1)])\n",
    "    Kc = 2 / (np.pi * scs.cauchy.pdf(mean, mean, sigma))\n",
    "    return init_theta, init_omega, Kc"
   ]
  },
  {
   "cell_type": "code",
   "execution_count": 5,
   "metadata": {},
   "outputs": [],
   "source": [
    "# @cuda.jit(nopython = True,chache=True)\n",
    "@jit(nopython = True)\n",
    "def RKHG(f,y0,t,D,args=()):\n",
    "    n = len(t)\n",
    "    size = len(y0)\n",
    "    y = np.zeros((n, size))\n",
    "    y[0] = y0\n",
    "    h = t[1] - t[0]\n",
    "    sh = np.sqrt(h)\n",
    "    for i in range(n - 1):\n",
    "        S = np.random.choice(np.array([-1,1]),size=size)\n",
    "        dW = np.random.normal(0,1,size)*sh\n",
    "        k1 = h*f(y[i],t[i],*args) + (dW - S*sh)*D\n",
    "        k2 = h*f(y[i]+k1,t[i]+h,*args) + (dW + S*sh)*D\n",
    "        y[i+1] = y[i] + 0.5*(k1+k2)\n",
    "    return y\n",
    "\n",
    "\n",
    "@jit(nopython = True,cache=True)\n",
    "def RK4(f, y0, t, args=()):\n",
    "    n = len(t)\n",
    "    y = np.zeros((n, len(y0)))\n",
    "    y[0] = y0\n",
    "\n",
    "    for i in range(n - 1):\n",
    "        h = t[i + 1] - t[i]\n",
    "        k1 = f(y[i], t[i], *args)\n",
    "        k2 = f(y[i] + k1 * h / 2.0, t[i] + h / 2.0, *args)\n",
    "        k3 = f(y[i] + k2 * h / 2.0, t[i] + h / 2.0, *args)\n",
    "        k4 = f(y[i] + k3 * h, t[i] + h, *args)\n",
    "        y[i + 1] = y[i] + (h / 6.0) * (k1 + 2 * k2 + 2 * k3 + k4)\n",
    "    return y\n",
    "\n",
    "\n",
    "\n",
    "# @cuda.jit#(nopython = True,chache=True)\n",
    "@jit(nopython = True,cache=True)\n",
    "def Kuramoto_SOL_CHIMERA(Theta,t,omega,N,Kij,alpha):\n",
    "    # print(\"Case m = 0\")\n",
    "    Theta = Theta.copy()\n",
    "    theta = Theta[:N]\n",
    "\n",
    "    theta_i= theta.reshape(1,-1)\n",
    "    theta_j = theta_i.T\n",
    "    # theta_i,theta_j = np.meshgrid(theta,theta,sparse=True)\n",
    "    dtheta = omega +  np.sum(Kij*np.sin(theta_j - theta_i - alpha),axis=0)\n",
    "    Theta[:N] = dtheta\n",
    "    return Theta"
   ]
  },
  {
   "cell_type": "code",
   "execution_count": 6,
   "metadata": {},
   "outputs": [],
   "source": [
    "N1 = 128\n",
    "N2 = 128\n",
    "theta_init = np.random.uniform(0,np.pi,(N1+N2))"
   ]
  },
  {
   "cell_type": "code",
   "execution_count": 7,
   "metadata": {},
   "outputs": [
    {
     "data": {
      "text/plain": [
       "0.045080222"
      ]
     },
     "execution_count": 7,
     "metadata": {},
     "output_type": "execute_result"
    }
   ],
   "source": [
    "N1 = 128\n",
    "N2 = 128\n",
    "theta_init = np.random.uniform(0,np.pi,(N1+N2)).astype(np.float32)\n",
    "theta_init[:N1] = np.random.uniform(0,2*np.pi,(N1)).astype(np.float32)\n",
    "theta_init[N1:] = np.random.uniform(0,2*np.pi,(N2)).astype(np.float32)\n",
    "np.abs(np.mean(np.exp(theta_init*1j),axis=0))\n"
   ]
  },
  {
   "cell_type": "code",
   "execution_count": 8,
   "metadata": {},
   "outputs": [
    {
     "data": {
      "text/plain": [
       "0.2679491924311228"
      ]
     },
     "execution_count": 8,
     "metadata": {},
     "output_type": "execute_result"
    }
   ],
   "source": [
    "2 - 3**0.5"
   ]
  },
  {
   "cell_type": "code",
   "execution_count": 9,
   "metadata": {},
   "outputs": [
    {
     "name": "stdout",
     "output_type": "stream",
     "text": [
      "A = 0.20, $\\beta$ = 0.10\n",
      "1\n",
      "2\n",
      "3\n",
      "4\n",
      "5\n",
      "6\n",
      "7\n"
     ]
    }
   ],
   "source": [
    "N1 = 128\n",
    "N2 = 128 \n",
    "theta_init = np.random.uniform(0,2*np.pi,(N1+N2))\n",
    "theta_init[:N1] = np.ones_like(np.random.uniform(0,2*np.pi,(N1)))\n",
    "theta_init[N1:] = np.random.uniform(0,2*np.pi,(N2))\n",
    "\n",
    "\n",
    "A = 0.2\n",
    "beta = 0.1\n",
    "nu = (1-A)/2\n",
    "mu = (1+A)/2\n",
    "\n",
    "K_ij = nu*np.ones((N1+N2,N1+N2))\n",
    "K_ij[:N1,:N1] = mu\n",
    "K_ij[N1:,N1:] = mu\n",
    "\n",
    "\n",
    "\n",
    "t_end = 100\n",
    "dt = 0.01\n",
    "r_last1 = 1\n",
    "r_last2 = 1\n",
    "\n",
    "print(rf'A = {A:.02f}, $\\beta$ = {beta:.02f}')\n",
    "\n",
    "num =0 \n",
    "while min(r_last1,r_last2)>0.9:\n",
    "    num +=1\n",
    "    theta_init = np.random.uniform(-np.pi,np.pi,(N1+N2))\n",
    "    theta_init[:N1] = np.ones_like(np.random.uniform(-np.pi,np.pi,(N1)))\n",
    "    theta_init[N1:] = np.random.uniform(-np.pi,np.pi,(N2))\n",
    "    \n",
    "    t = np.arange(0, t_end+dt/2, dt)\n",
    "    omega = 0\n",
    "    alpha = np.pi/2 - beta\n",
    "\n",
    "    sol = RK4(Kuramoto_SOL_CHIMERA,theta_init,t, args=(omega, N1+N2, K_ij,alpha))\n",
    "\n",
    "    rabs1 = np.mean(np.exp(sol.T[:N1]*1j),axis=0)\n",
    "    rabs2 = np.mean(np.exp(sol.T[N1:]*1j),axis=0)\n",
    "    np.abs(np.mean(np.exp(theta_init[:N1]*1j),axis=0))\n",
    "    r_I_1,psi_I_1 = abs(rabs1),np.angle(rabs1[0])\n",
    "    r_I_2,psi_I_2 = abs(rabs2),np.angle(rabs2[0])\n",
    "    # plt.axhline(r_I_1)\n",
    "    # plt.axhline(r_I_2)\n",
    "    r_last1 = r_I_1[-1]\n",
    "    r_last2 = r_I_2[-1]\n",
    "    print(num)\n",
    "    \n",
    "plt.figure()\n",
    "plt.plot(t,r_I_1)\n",
    "plt.plot(t,r_I_2)\n",
    "plt.xlabel('t')\n",
    "plt.ylabel(r'$r_{1,2}$')\n",
    "\n",
    "print(min(r_last1,r_last2))\n"
   ]
  },
  {
   "cell_type": "code",
   "execution_count": 298,
   "metadata": {},
   "outputs": [
    {
     "name": "stdout",
     "output_type": "stream",
     "text": [
      "0.984626449237887\n"
     ]
    },
    {
     "data": {
      "image/png": "[encoded data removed]",
      "text/plain": [
       "<Figure size 640x480 with 1 Axes>"
      ]
     },
     "metadata": {},
     "output_type": "display_data"
    }
   ],
   "source": [
    "t_end = 100\n",
    "t = np.arange(0, t_end+dt/2, dt)\n",
    "\n",
    "sol = RK4(Kuramoto_SOL_CHIMERA,theta_init,t, args=(omega, N1+N2, K_ij,alpha))\n",
    "\n",
    "rabs1 = np.mean(np.exp(sol.T[:N1]*1j),axis=0)\n",
    "rabs2 = np.mean(np.exp(sol.T[N1:]*1j),axis=0)\n",
    "np.abs(np.mean(np.exp(theta_init[:N1]*1j),axis=0))\n",
    "r_I_1,psi_I_1 = abs(rabs1),np.angle(rabs1[0])\n",
    "r_I_2,psi_I_2 = abs(rabs2),np.angle(rabs2[0])\n",
    "# plt.axhline(r_I_1)\n",
    "# plt.axhline(r_I_2)\n",
    "plt.figure()\n",
    "plt.plot(t,r_I_1)\n",
    "plt.plot(t,r_I_2)\n",
    "plt.xlabel('t')\n",
    "plt.ylabel(r'$r_{1,2}$')\n",
    "r_last1 = r_I_1[-1]\n",
    "r_last2 = r_I_2[-1]\n",
    "print(min(r_last1,r_last2))"
   ]
  },
  {
   "cell_type": "code",
   "execution_count": 279,
   "metadata": {},
   "outputs": [
    {
     "data": {
      "text/plain": [
       "1.0"
      ]
     },
     "execution_count": 279,
     "metadata": {},
     "output_type": "execute_result"
    }
   ],
   "source": [
    "np.ceil(16/16)"
   ]
  },
  {
   "cell_type": "code",
   "execution_count": 280,
   "metadata": {},
   "outputs": [
    {
     "data": {
      "text/plain": [
       "<matplotlib.collections.PathCollection at 0x1918d150810>"
      ]
     },
     "execution_count": 280,
     "metadata": {},
     "output_type": "execute_result"
    },
    {
     "data": {
      "image/png": "[encoded data removed]",
      "text/plain": [
       "<Figure size 640x480 with 1 Axes>"
      ]
     },
     "metadata": {},
     "output_type": "display_data"
    }
   ],
   "source": [
    "# plt.scatter(np.arange(N1+N2),sol[-1]%(np.pi*2))\n",
    "plt.scatter(np.arange(N1+N2),sol[-100]%(np.pi*2))\n"
   ]
  },
  {
   "cell_type": "code",
   "execution_count": 163,
   "metadata": {},
   "outputs": [
    {
     "data": {
      "text/plain": [
       "(array([  0., 128.,   0.,   0.,   0.,   0.,   0.,   0.,   0.,   0.,   0.,\n",
       "          0.,   0.,   0.,   0.,   0.,   0.,   0.,   0.]),\n",
       " array([0.        , 0.33069396, 0.66138793, 0.99208189, 1.32277585,\n",
       "        1.65346982, 1.98416378, 2.31485774, 2.64555171, 2.97624567,\n",
       "        3.30693964, 3.6376336 , 3.96832756, 4.29902153, 4.62971549,\n",
       "        4.96040945, 5.29110342, 5.62179738, 5.95249134, 6.28318531]),\n",
       " <BarContainer object of 19 artists>)"
      ]
     },
     "execution_count": 163,
     "metadata": {},
     "output_type": "execute_result"
    },
    {
     "data": {
      "image/png": "[encoded data removed]",
      "text/plain": [
       "<Figure size 640x480 with 1 Axes>"
      ]
     },
     "metadata": {},
     "output_type": "display_data"
    }
   ],
   "source": [
    "bins = np.linspace(0,2*np.pi,20)\n",
    "plt.hist((sol[-1]%(np.pi*2))[:N1],bins=bins)\n",
    "plt.hist((sol[-1]%(np.pi*2))[N1:],bins=bins)\n",
    "# plt.hist((sol[-1][N1:]),bins=50)#%(np.pi*2))[N1:],bins=bins)\n",
    "# plt.hist(sol[-1][N1:])"
   ]
  },
  {
   "cell_type": "code",
   "execution_count": 713,
   "metadata": {},
   "outputs": [
    {
     "data": {
      "text/plain": [
       "<matplotlib.colorbar.Colorbar at 0x164b5fad0>"
      ]
     },
     "execution_count": 713,
     "metadata": {},
     "output_type": "execute_result"
    },
    {
     "data": {
      "image/png": "[encoded data removed]",
      "text/plain": [
       "<Figure size 640x480 with 2 Axes>"
      ]
     },
     "metadata": {},
     "output_type": "display_data"
    }
   ],
   "source": [
    "plt.imshow(K_ij)\n",
    "plt.colorbar()\n"
   ]
  },
  {
   "cell_type": "code",
   "execution_count": 39,
   "metadata": {},
   "outputs": [],
   "source": [
    "# # @jit(nopython=True)\n",
    "# def get_order_parameter(theta,N):\n",
    "#     ''' get theta and return r and theta'''\n",
    "#     rpsi = 1/N*np.sum(np.exp(1j*theta))\n",
    "#     r = np.abs(rpsi)\n",
    "#     psi = np.angle(rpsi)\n",
    "#     return r,psi\n",
    "\n",
    "# # @jit(nopython=True)\n",
    "# def Kuramoto_mf(Theta,t,omega,N,K):\n",
    "#     # print(\"Case m = 0\")\n",
    "#     Theta = Theta.copy()\n",
    "#     theta = Theta[:N]\n",
    "#     r,psi = get_order_parameter(theta,N)\n",
    "#     dtheta = omega + K*r*np.sin(psi - theta)\n",
    "#     Theta[:N] = dtheta\n",
    "#     return Theta\n",
    "\n",
    "\n",
    "# def Kuramoto(Theta,t,omega,N,K,mk,Aij):\n",
    "#     # print(\"Case m = 0\")\n",
    "#     Theta = Theta.copy()\n",
    "#     theta = Theta[:N]\n",
    "#     theta_i,theta_j = np.meshgrid(theta,theta,sparse=True)\n",
    "#     dtheta = omega + K/mk*np.sum(Aij*np.sin(theta_j - theta_i),axis=0) \n",
    "#     Theta[:N] = dtheta\n",
    "#     return Theta\n",
    "\n",
    "# # @jit(nopython=True)\n",
    "# def Kuramoto_mf_AR(Theta,t,omega,N,K,b):\n",
    "#     # print(\"Case m = 0\")\n",
    "#     Theta = Theta.copy()\n",
    "#     theta = Theta[:N]\n",
    "#     r,psi = get_order_parameter(theta,N)\n",
    "#     dtheta = omega + K*r*np.sin(psi - theta) - b*np.sin(theta)\n",
    "#     Theta[:N] = dtheta\n",
    "#     return Theta\n",
    "\n",
    "\n",
    "# def Kuramoto_AR(Theta,t,omega,N,K,mk,Aij,b):\n",
    "#     # print(\"Case m = 0\")\n",
    "#     Theta = Theta.copy()\n",
    "#     theta = Theta[:N]\n",
    "#     theta_i,theta_j = np.meshgrid(theta,theta,sparse=True)\n",
    "#     dtheta = omega +  K/mk*np.sum(Aij*np.sin(theta_j - theta_i),axis=0)  - b*np.sin(theta)\n",
    "#     Theta[:N] = dtheta\n",
    "#     return Theta\n",
    "\n",
    "# def get_order_parameter_ann(theta,N,mk,DEGT):\n",
    "#     ''' get theta and return r and theta'''\n",
    "#     rpsi = 1/(N*mk)*np.sum(DEGT*np.exp(1j*theta))\n",
    "#     r = np.abs(rpsi)\n",
    "#     psi = np.angle(rpsi)\n",
    "#     return r,psi\n",
    "\n",
    "\n",
    "\n",
    "# def Kuramoto_AMF_AR(Theta,t,omega,N,K,mk,DEGT,b):\n",
    "#     # print(\"Case m = 0\")\n",
    "#     Theta = Theta.copy()\n",
    "#     theta = Theta[:N]\n",
    "#     r,psi = get_order_parameter_ann(theta,N,mk,DEGT)\n",
    "#     dtheta = omega + K/mk*r*DEGT.flatten()*np.sin(psi - theta) - b*np.sin(theta)\n",
    "#     Theta[:N] = dtheta\n",
    "#     return Theta\n"
   ]
  },
  {
   "cell_type": "code",
   "execution_count": null,
   "metadata": {},
   "outputs": [],
   "source": [
    "mk = 5\n",
    "N = 1000\n",
    "p = mk/(N)\n",
    "# G = nx.erdos_renyi_graph(N,p)\n",
    "G = nx.barabasi_albert_graph(N,5)"
   ]
  },
  {
   "cell_type": "code",
   "execution_count": null,
   "metadata": {},
   "outputs": [
    {
     "data": {
      "text/plain": [
       "9.95"
      ]
     },
     "metadata": {},
     "output_type": "display_data"
    }
   ],
   "source": [
    "A = nx.adjacency_matrix(G)\n",
    "Aij = A.todense()\n",
    "Deg = Aij.sum(axis=1)\n",
    "DegT = Deg.reshape(-1,1)\n",
    "mk = Deg.mean()\n",
    "mk"
   ]
  },
  {
   "cell_type": "markdown",
   "metadata": {},
   "source": [
    "# 캡스톤"
   ]
  },
  {
   "cell_type": "code",
   "execution_count": 732,
   "metadata": {},
   "outputs": [],
   "source": [
    "A1_xg = 1.7\n",
    "A2_xg = 1.4\n",
    "A2_Ag = 1.4\n",
    "\n",
    "A1_prob = A1_xg/(A1_xg+A2_xg)\n",
    "A2_prob = 1 - A1_prob\n"
   ]
  },
  {
   "cell_type": "code",
   "execution_count": 733,
   "metadata": {},
   "outputs": [
    {
     "data": {
      "text/plain": [
       "0.30000000000000004"
      ]
     },
     "execution_count": 733,
     "metadata": {},
     "output_type": "execute_result"
    }
   ],
   "source": [
    "A1_xg -  A2_Ag"
   ]
  },
  {
   "cell_type": "code",
   "execution_count": 737,
   "metadata": {},
   "outputs": [
    {
     "data": {
      "text/plain": [
       "(0.5483870967741936, 0.4516129032258064)"
      ]
     },
     "execution_count": 737,
     "metadata": {},
     "output_type": "execute_result"
    }
   ],
   "source": [
    "A1_prob, A2_prob"
   ]
  },
  {
   "cell_type": "code",
   "execution_count": 738,
   "metadata": {},
   "outputs": [
    {
     "data": {
      "text/plain": [
       "0.015843059113251345"
      ]
     },
     "execution_count": 738,
     "metadata": {},
     "output_type": "execute_result"
    }
   ],
   "source": [
    "np.random.rand()"
   ]
  },
  {
   "cell_type": "code",
   "execution_count": null,
   "metadata": {},
   "outputs": [],
   "source": []
  }
 ],
 "metadata": {
  "kernelspec": {
   "display_name": "Python 3",
   "language": "python",
   "name": "python3"
  },
  "language_info": {
   "codemirror_mode": {
    "name": "ipython",
    "version": 3
   },
   "file_extension": ".py",
   "mimetype": "text/x-python",
   "name": "python",
   "nbconvert_exporter": "python",
   "pygments_lexer": "ipython3",
   "version": "3.11.0"
  }
 },
 "nbformat": 4,
 "nbformat_minor": 2
}
