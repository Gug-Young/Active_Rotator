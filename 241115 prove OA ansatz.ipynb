{
 "cells": [
  {
   "cell_type": "markdown",
   "metadata": {},
   "source": [
    "# Prove the OA ansatz"
   ]
  },
  {
   "cell_type": "markdown",
   "metadata": {},
   "source": [
    "대칭과 반대칭의 성질을 가지는 OA ansatz에서 홀수 텀은 Collapse하지 않다는 사실을 어떻게 증명을 할 수 있을까?"
   ]
  },
  {
   "cell_type": "code",
   "execution_count": 1,
   "metadata": {},
   "outputs": [],
   "source": [
    "from sympy import *"
   ]
  },
  {
   "cell_type": "code",
   "execution_count": 2,
   "metadata": {},
   "outputs": [],
   "source": [
    "H,Hs = symbols('H H^*',complex=True)\n",
    "theta,t,alpha,n,omega,eta = symbols('theta t alpha n omega eta')\n",
    "a = Function('a')('t')\n",
    "a_s = Function('a^*')('t')\n",
    "b = Function('b')('t')\n",
    "b_s = Function('b^*')('t')\n",
    "A = Sum((a**n*E**((2*n-1)*I*theta)),(n,1,6)).doit()\n",
    "As = Sum((a_s**n*E**(-(2*n-1)*I*theta)),(n,1,6)).doit()\n",
    "B = Sum((b*E**(2*I*theta))**n,(n,1,6)).doit()\n",
    "Bs = Sum((b_s*E**(-2*I*theta))**n,(n,1,6)).doit()\n",
    "f = 1/(2*pi) * (1+(A+As))#+B+Bs))\n",
    "v = omega + 1/(2*I) * (H*E**(-I*(2*theta+alpha))-Hs*E**(I*(2*theta+alpha)))"
   ]
  },
  {
   "cell_type": "code",
   "execution_count": 13,
   "metadata": {},
   "outputs": [
    {
     "data": {
      "text/plain": [
       "(3*H*a(t)**3*exp(-I*alpha)/(4*pi) - 3*H^**a(t)*exp(I*alpha)/(4*pi) + 3*I*omega*a(t)**2/(2*pi) + a(t)*Derivative(a(t), t)/pi,\n",
       " 5*H*a(t)**4*exp(-I*alpha)/(4*pi) - 5*H^**a(t)**2*exp(I*alpha)/(4*pi) + 5*I*omega*a(t)**3/(2*pi) + 3*a(t)**2*Derivative(a(t), t)/(2*pi),\n",
       " H*a(t)**2*exp(-I*alpha)/(4*pi) - H^**a^*(t)*exp(I*alpha)/(4*pi) + I*omega*a(t)/(2*pi) + Derivative(a(t), t)/(2*pi))"
      ]
     },
     "execution_count": 13,
     "metadata": {},
     "output_type": "execute_result"
    }
   ],
   "source": [
    "C = together(f.diff(t)+(f*v).diff(theta)).expand()\n",
    "col_ = collect(C,E**(1j*theta))\n",
    "col_\n",
    "coeff_3 = C.coeff(E**(3*I*theta))\n",
    "coeff_5 = C.coeff(E**(5*I*theta))\n",
    "coeff_1 = C.coeff(E**(I*theta))\n",
    "\n",
    "coeff_3, coeff_5, coeff_1"
   ]
  },
  {
   "cell_type": "markdown",
   "metadata": {},
   "source": [
    "Odd term은 다음과 같이 요소가 겹치진 않는다."
   ]
  },
  {
   "cell_type": "code",
   "execution_count": 21,
   "metadata": {},
   "outputs": [
    {
     "data": {
      "text/latex": [
       "$\\displaystyle \\frac{\\left(3 H a^{2}{\\left(t \\right)} + \\left(- 3 H^{*} e^{i \\alpha} + 6 i \\omega a{\\left(t \\right)} + 4 \\frac{d}{d t} a{\\left(t \\right)}\\right) e^{i \\alpha}\\right) a{\\left(t \\right)}}{H a^{2}{\\left(t \\right)} + \\left(- H^{*} a^{*}{\\left(t \\right)} e^{i \\alpha} + 2 i \\omega a{\\left(t \\right)} + 2 \\frac{d}{d t} a{\\left(t \\right)}\\right) e^{i \\alpha}}$"
      ],
      "text/plain": [
       "(3*H*a(t)**2 + (-3*H^**exp(I*alpha) + 6*I*omega*a(t) + 4*Derivative(a(t), t))*exp(I*alpha))*a(t)/(H*a(t)**2 + (-H^**a^*(t)*exp(I*alpha) + 2*I*omega*a(t) + 2*Derivative(a(t), t))*exp(I*alpha))"
      ]
     },
     "execution_count": 21,
     "metadata": {},
     "output_type": "execute_result"
    }
   ],
   "source": [
    "# Find the factor that when multiplied with coeff_1 gives coeff_3\n",
    "factor = simplify(coeff_3 / coeff_1)\n",
    "factor"
   ]
  },
  {
   "cell_type": "markdown",
   "metadata": {},
   "source": [
    "# Check even term"
   ]
  },
  {
   "cell_type": "code",
   "execution_count": 230,
   "metadata": {},
   "outputs": [],
   "source": [
    "H,Hs = symbols('H H^*',complex=True)\n",
    "theta,t,n = symbols('theta t n')\n",
    "alpha,beta,omega,eta = symbols('alpha beta omega eta',real=True)\n",
    "a = Function('a')('t')\n",
    "a_s = Function('a^*')('t')\n",
    "b = Function('b')('t')\n",
    "b_s = Function('b^*')('t')\n",
    "A = Sum((a**n*E**((2*n-1)*I*theta)),(n,1,6)).doit()\n",
    "As = Sum((a_s**n*E**(-(2*n-1)*I*theta)),(n,1,6)).doit()\n",
    "B = Sum((b*E**(2*I*theta))**n,(n,1,6)).doit()\n",
    "Bs = Sum((b_s*E**(-2*I*theta))**n,(n,1,6)).doit()\n",
    "f = 1/(2*pi) * (1+(B+Bs))\n",
    "v = omega + 1/(2*I) * (H*E**(-I*(2*theta+alpha))-Hs*E**(I*(2*theta+alpha)))"
   ]
  },
  {
   "cell_type": "code",
   "execution_count": 231,
   "metadata": {},
   "outputs": [
    {
     "data": {
      "text/plain": [
       "(3*H*b(t)**4*exp(-I*alpha)/(2*pi) - 3*H^**b(t)**2*exp(I*alpha)/(2*pi) + 3*I*omega*b(t)**3/pi + 3*b(t)**2*Derivative(b(t), t)/(2*pi),\n",
       " H*b(t)**2*exp(-I*alpha)/(2*pi) - H^**exp(I*alpha)/(2*pi) + I*omega*b(t)/pi + Derivative(b(t), t)/(2*pi),\n",
       " H*b(t)**3*exp(-I*alpha)/pi - H^**b(t)*exp(I*alpha)/pi + 2*I*omega*b(t)**2/pi + b(t)*Derivative(b(t), t)/pi)"
      ]
     },
     "execution_count": 231,
     "metadata": {},
     "output_type": "execute_result"
    }
   ],
   "source": [
    "C = together(f.diff(t)+(f*v).diff(theta)).expand()\n",
    "col_ = collect(C,E**(1j*theta))\n",
    "col_\n",
    "coeff_4 = C.coeff(E**(4*I*theta))\n",
    "coeff_2 = C.coeff(E**(2*I*theta))\n",
    "coeff_6 = C.coeff(E**(6*I*theta))\n",
    "\n",
    "coeff_6, coeff_2, coeff_4"
   ]
  },
  {
   "cell_type": "code",
   "execution_count": 234,
   "metadata": {},
   "outputs": [
    {
     "data": {
      "text/plain": [
       "(2*b(t), 3*b(t)/2, 3*b(t)**2)"
      ]
     },
     "execution_count": 234,
     "metadata": {},
     "output_type": "execute_result"
    }
   ],
   "source": [
    "simplify(coeff_4/coeff_2),simplify(coeff_6/coeff_4), simplify(coeff_6/coeff_2)"
   ]
  },
  {
   "cell_type": "code",
   "execution_count": 235,
   "metadata": {},
   "outputs": [],
   "source": [
    "forZ2 = simplify(coeff_2*2*pi)\n",
    "Q = Function('Q_1',real=True)(t)\n",
    "chi = Function('chi_1',real=True)(t)\n",
    "b_sub = Q * exp(-I * chi)\n",
    "b_s_sub = Q * exp(I * chi)\n",
    "dZ2 = forZ2.subs({b: b_sub, b_s: b_s_sub}).doit()"
   ]
  },
  {
   "cell_type": "code",
   "execution_count": 236,
   "metadata": {},
   "outputs": [
    {
     "data": {
      "text/latex": [
       "$\\displaystyle H Q_{1}^{2}{\\left(t \\right)} e^{- i \\alpha} e^{- 2 i \\chi_{1}{\\left(t \\right)}} - H^{*} e^{i \\alpha} + 2 i \\omega Q_{1}{\\left(t \\right)} e^{- i \\chi_{1}{\\left(t \\right)}} - i Q_{1}{\\left(t \\right)} e^{- i \\chi_{1}{\\left(t \\right)}} \\frac{d}{d t} \\chi_{1}{\\left(t \\right)} + e^{- i \\chi_{1}{\\left(t \\right)}} \\frac{d}{d t} Q_{1}{\\left(t \\right)}$"
      ],
      "text/plain": [
       "H*Q_1(t)**2*exp(-I*alpha)*exp(-2*I*chi_1(t)) - H^**exp(I*alpha) + 2*I*omega*Q_1(t)*exp(-I*chi_1(t)) - I*Q_1(t)*exp(-I*chi_1(t))*Derivative(chi_1(t), t) + exp(-I*chi_1(t))*Derivative(Q_1(t), t)"
      ]
     },
     "execution_count": 236,
     "metadata": {},
     "output_type": "execute_result"
    }
   ],
   "source": [
    "dZ2"
   ]
  },
  {
   "cell_type": "code",
   "execution_count": 237,
   "metadata": {},
   "outputs": [],
   "source": [
    "Z_11 = Function('Z_11')(t)\n",
    "Z_12 = Function('Z_12')(t)\n",
    "Z_11_conj = conjugate(Z_11)\n",
    "Z_12_conj = conjugate(Z_12)\n",
    "H_sub = Z_11 ** 2 + beta * Z_11 * Z_12 + beta ** 2 * Z_12 ** 2 \n",
    "R1 = Function('R_1',real=True)(t)\n",
    "psi1 = Function('psi_1',real=True)(t)\n",
    "R2 = Function('R_2',real=True)(t)\n",
    "psi2 = Function('psi_2',real=True)(t)\n",
    "Z_11_sub = R1 * exp(-I * psi1)\n",
    "Z_12_sub = R2 * exp(-I * psi2)"
   ]
  },
  {
   "cell_type": "code",
   "execution_count": 238,
   "metadata": {},
   "outputs": [],
   "source": [
    "H_RR = H_sub.subs({Z_11:Z_11_sub,Z_12:Z_12_sub})\n",
    "HS_RR = H_sub.conjugate().subs({Z_11:Z_11_sub,Z_12:Z_12_sub})"
   ]
  },
  {
   "cell_type": "code",
   "execution_count": 239,
   "metadata": {},
   "outputs": [],
   "source": [
    "H_R, H_IMG = H_RR.simplify().as_real_imag()"
   ]
  },
  {
   "cell_type": "code",
   "execution_count": 240,
   "metadata": {},
   "outputs": [
    {
     "data": {
      "text/latex": [
       "$\\displaystyle \\beta^{2} R_{2}^{2}{\\left(t \\right)} \\cos{\\left(2 \\psi_{2}{\\left(t \\right)} \\right)} + \\beta R_{1}{\\left(t \\right)} R_{2}{\\left(t \\right)} \\cos{\\left(\\psi_{1}{\\left(t \\right)} + \\psi_{2}{\\left(t \\right)} \\right)} + R_{1}^{2}{\\left(t \\right)} \\cos{\\left(2 \\psi_{1}{\\left(t \\right)} \\right)}$"
      ],
      "text/plain": [
       "beta**2*R_2(t)**2*cos(2*psi_2(t)) + beta*R_1(t)*R_2(t)*cos(psi_1(t) + psi_2(t)) + R_1(t)**2*cos(2*psi_1(t))"
      ]
     },
     "execution_count": 240,
     "metadata": {},
     "output_type": "execute_result"
    }
   ],
   "source": [
    "H_R"
   ]
  },
  {
   "cell_type": "code",
   "execution_count": 241,
   "metadata": {},
   "outputs": [],
   "source": [
    "dZ2_exp = dZ2.subs({H:H_RR,Hs:HS_RR})"
   ]
  },
  {
   "cell_type": "code",
   "execution_count": 242,
   "metadata": {},
   "outputs": [],
   "source": [
    "dZ2_exp2 = (dZ2_exp * exp(I * chi)).expand()"
   ]
  },
  {
   "cell_type": "code",
   "execution_count": 243,
   "metadata": {},
   "outputs": [
    {
     "data": {
      "text/latex": [
       "$\\displaystyle \\beta^{2} Q_{1}^{2}{\\left(t \\right)} R_{2}^{2}{\\left(t \\right)} e^{- i \\alpha} e^{- i \\chi_{1}{\\left(t \\right)}} e^{- 2 i \\psi_{2}{\\left(t \\right)}} - \\beta^{2} R_{2}^{2}{\\left(t \\right)} e^{i \\alpha} e^{i \\chi_{1}{\\left(t \\right)}} e^{2 i \\psi_{2}{\\left(t \\right)}} + \\beta Q_{1}^{2}{\\left(t \\right)} R_{1}{\\left(t \\right)} R_{2}{\\left(t \\right)} e^{- i \\alpha} e^{- i \\chi_{1}{\\left(t \\right)}} e^{- i \\psi_{1}{\\left(t \\right)}} e^{- i \\psi_{2}{\\left(t \\right)}} - \\beta R_{1}{\\left(t \\right)} R_{2}{\\left(t \\right)} e^{i \\alpha} e^{i \\chi_{1}{\\left(t \\right)}} e^{i \\psi_{1}{\\left(t \\right)}} e^{i \\psi_{2}{\\left(t \\right)}} + 2 i \\omega Q_{1}{\\left(t \\right)} + Q_{1}^{2}{\\left(t \\right)} R_{1}^{2}{\\left(t \\right)} e^{- i \\alpha} e^{- i \\chi_{1}{\\left(t \\right)}} e^{- 2 i \\psi_{1}{\\left(t \\right)}} - i Q_{1}{\\left(t \\right)} \\frac{d}{d t} \\chi_{1}{\\left(t \\right)} - R_{1}^{2}{\\left(t \\right)} e^{i \\alpha} e^{i \\chi_{1}{\\left(t \\right)}} e^{2 i \\psi_{1}{\\left(t \\right)}} + \\frac{d}{d t} Q_{1}{\\left(t \\right)}$"
      ],
      "text/plain": [
       "beta**2*Q_1(t)**2*R_2(t)**2*exp(-I*alpha)*exp(-I*chi_1(t))*exp(-2*I*psi_2(t)) - beta**2*R_2(t)**2*exp(I*alpha)*exp(I*chi_1(t))*exp(2*I*psi_2(t)) + beta*Q_1(t)**2*R_1(t)*R_2(t)*exp(-I*alpha)*exp(-I*chi_1(t))*exp(-I*psi_1(t))*exp(-I*psi_2(t)) - beta*R_1(t)*R_2(t)*exp(I*alpha)*exp(I*chi_1(t))*exp(I*psi_1(t))*exp(I*psi_2(t)) + 2*I*omega*Q_1(t) + Q_1(t)**2*R_1(t)**2*exp(-I*alpha)*exp(-I*chi_1(t))*exp(-2*I*psi_1(t)) - I*Q_1(t)*Derivative(chi_1(t), t) - R_1(t)**2*exp(I*alpha)*exp(I*chi_1(t))*exp(2*I*psi_1(t)) + Derivative(Q_1(t), t)"
      ]
     },
     "execution_count": 243,
     "metadata": {},
     "output_type": "execute_result"
    }
   ],
   "source": [
    "dZ2_exp2"
   ]
  },
  {
   "cell_type": "code",
   "execution_count": 244,
   "metadata": {},
   "outputs": [],
   "source": [
    "dZ2_exp2_right, dZ2_exp2_left = dZ2_exp2.as_independent(Derivative)"
   ]
  },
  {
   "cell_type": "code",
   "execution_count": 245,
   "metadata": {},
   "outputs": [],
   "source": [
    "dZ2_l_real,dZ2_l_img = dZ2_exp2_right.simplify().as_real_imag()"
   ]
  },
  {
   "cell_type": "code",
   "execution_count": 280,
   "metadata": {},
   "outputs": [
    {
     "data": {
      "text/latex": [
       "$\\displaystyle - \\beta^{2} Q_{1}^{2}{\\left(t \\right)} R_{2}^{2}{\\left(t \\right)} \\sin{\\left(\\alpha + \\chi_{1}{\\left(t \\right)} + 2 \\psi_{2}{\\left(t \\right)} \\right)} - \\beta^{2} R_{2}^{2}{\\left(t \\right)} \\sin{\\left(\\alpha + \\chi_{1}{\\left(t \\right)} + 2 \\psi_{2}{\\left(t \\right)} \\right)} - \\beta Q_{1}^{2}{\\left(t \\right)} R_{1}{\\left(t \\right)} R_{2}{\\left(t \\right)} \\sin{\\left(\\alpha + \\chi_{1}{\\left(t \\right)} + \\psi_{1}{\\left(t \\right)} + \\psi_{2}{\\left(t \\right)} \\right)} - \\beta R_{1}{\\left(t \\right)} R_{2}{\\left(t \\right)} \\sin{\\left(\\alpha + \\chi_{1}{\\left(t \\right)} + \\psi_{1}{\\left(t \\right)} + \\psi_{2}{\\left(t \\right)} \\right)} + 2 \\omega Q_{1}{\\left(t \\right)} - Q_{1}^{2}{\\left(t \\right)} R_{1}^{2}{\\left(t \\right)} \\sin{\\left(\\alpha + \\chi_{1}{\\left(t \\right)} + 2 \\psi_{1}{\\left(t \\right)} \\right)} - R_{1}^{2}{\\left(t \\right)} \\sin{\\left(\\alpha + \\chi_{1}{\\left(t \\right)} + 2 \\psi_{1}{\\left(t \\right)} \\right)}$"
      ],
      "text/plain": [
       "-beta**2*Q_1(t)**2*R_2(t)**2*sin(alpha + chi_1(t) + 2*psi_2(t)) - beta**2*R_2(t)**2*sin(alpha + chi_1(t) + 2*psi_2(t)) - beta*Q_1(t)**2*R_1(t)*R_2(t)*sin(alpha + chi_1(t) + psi_1(t) + psi_2(t)) - beta*R_1(t)*R_2(t)*sin(alpha + chi_1(t) + psi_1(t) + psi_2(t)) + 2*omega*Q_1(t) - Q_1(t)**2*R_1(t)**2*sin(alpha + chi_1(t) + 2*psi_1(t)) - R_1(t)**2*sin(alpha + chi_1(t) + 2*psi_1(t))"
      ]
     },
     "execution_count": 280,
     "metadata": {},
     "output_type": "execute_result"
    }
   ],
   "source": [
    "dZ2_l_img.simplify()#.collect(Q)"
   ]
  },
  {
   "cell_type": "code",
   "execution_count": 258,
   "metadata": {},
   "outputs": [],
   "source": [
    "r_1a, r_1b,psi_1a,psi_1b = symbols('r_{1a} r_{1b} \\psi_{1a} \\psi_{1b}',real= True)"
   ]
  },
  {
   "cell_type": "code",
   "execution_count": 268,
   "metadata": {},
   "outputs": [],
   "source": [
    "Z_11 = (1+eta)/2 * r_1a *exp(I*psi_1a-I*psi1) + (1-eta)/2 * r_1b *exp(I*psi_1b-I*psi1)\n",
    "Z_21 = (1+eta)/2 * r_1a**2 *exp(2*I*psi_1a) + (1-eta)/2 * r_1b**2 *exp(2*I*psi_1b)"
   ]
  },
  {
   "cell_type": "code",
   "execution_count": 271,
   "metadata": {},
   "outputs": [],
   "source": [
    "Z_11 = (1+eta)/2 * r_1a *exp(I*psi_1a) + (1-eta)/2 * r_1b *exp(I*psi_1b)"
   ]
  },
  {
   "cell_type": "code",
   "execution_count": null,
   "metadata": {},
   "outputs": [],
   "source": [
    "Z_11_r,Z_11_i = Z_11.as_real_imag()\n",
    "Z_21_r,Z_21_i = Z_21.as_real_imag()"
   ]
  },
  {
   "cell_type": "code",
   "execution_count": 277,
   "metadata": {},
   "outputs": [
    {
     "data": {
      "text/latex": [
       "$\\displaystyle \\tan{\\left(\\psi_{1a} \\right)}$"
      ],
      "text/plain": [
       "tan(\\psi_{1a})"
      ]
     },
     "execution_count": 277,
     "metadata": {},
     "output_type": "execute_result"
    }
   ],
   "source": [
    "(Z_11_i/Z_11_r).subs(psi_1b,psi_1a+pi).simplify()"
   ]
  },
  {
   "cell_type": "code",
   "execution_count": 279,
   "metadata": {},
   "outputs": [
    {
     "data": {
      "text/latex": [
       "$\\displaystyle \\tan{\\left(2 \\psi_{1a} \\right)}$"
      ],
      "text/plain": [
       "tan(2*\\psi_{1a})"
      ]
     },
     "execution_count": 279,
     "metadata": {},
     "output_type": "execute_result"
    }
   ],
   "source": [
    "(Z_21_i/Z_21_r).subs(psi_1b,psi_1a+pi).simplify()"
   ]
  },
  {
   "cell_type": "code",
   "execution_count": null,
   "metadata": {},
   "outputs": [
    {
     "data": {
      "text/latex": [
       "$\\displaystyle \\frac{\\left(r_{1a} \\left(\\eta + 1\\right) e^{i \\psi_{1a}} - r_{1b} \\left(\\eta - 1\\right) e^{i \\psi_{1b}}\\right) e^{- i \\psi_{1}{\\left(t \\right)}}}{2}$"
      ],
      "text/plain": [
       "(r_{1a}*(eta + 1)*exp(I*\\psi_{1a}) - r_{1b}*(eta - 1)*exp(I*\\psi_{1b}))*exp(-I*psi_1(t))/2"
      ]
     },
     "execution_count": 265,
     "metadata": {},
     "output_type": "execute_result"
    }
   ],
   "source": [
    "R_11(Z_11 / exp(I*psi1)).simplify().as_real_imag()"
   ]
  },
  {
   "cell_type": "code",
   "execution_count": null,
   "metadata": {},
   "outputs": [],
   "source": []
  }
 ],
 "metadata": {
  "kernelspec": {
   "display_name": "Python 3",
   "language": "python",
   "name": "python3"
  },
  "language_info": {
   "codemirror_mode": {
    "name": "ipython",
    "version": 3
   },
   "file_extension": ".py",
   "mimetype": "text/x-python",
   "name": "python",
   "nbconvert_exporter": "python",
   "pygments_lexer": "ipython3",
   "version": "3.11.1"
  }
 },
 "nbformat": 4,
 "nbformat_minor": 2
}
