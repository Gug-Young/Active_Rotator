{
 "cells": [
  {
   "cell_type": "markdown",
   "metadata": {},
   "source": [
    "# Prove the OA ansatz"
   ]
  },
  {
   "cell_type": "markdown",
   "metadata": {},
   "source": [
    "대칭과 반대칭의 성질을 가지는 OA ansatz에서 홀수 텀은 Collapse하지 않다는 사실을 어떻게 증명을 할 수 있을까?"
   ]
  },
  {
   "cell_type": "code",
   "execution_count": 1,
   "metadata": {},
   "outputs": [],
   "source": [
    "from sympy import *"
   ]
  },
  {
   "cell_type": "code",
   "execution_count": 267,
   "metadata": {},
   "outputs": [],
   "source": [
    "H,Hs = symbols('H H^*',complex=True)\n",
    "theta,t,alpha,n,omega,eta = symbols('theta t alpha n omega eta')\n",
    "a = Function('a')('t')\n",
    "a_s = Function('a^*')('t')\n",
    "b = Function('b')('t')\n",
    "b_s = Function('b^*')('t')\n",
    "A = Sum((a**n*E**((2*n-1)*I*theta)),(n,1,8)).doit()\n",
    "As = Sum((a_s**n*E**(-(2*n-1)*I*theta)),(n,1,8)).doit()\n",
    "B = Sum((b*E**(2*I*theta))**n,(n,1,8)).doit()\n",
    "Bs = Sum((b_s*E**(-2*I*theta))**n,(n,1,8)).doit()\n",
    "f = 1/(2*pi) * (1+(A+As))#+B+Bs))\n",
    "v = omega + 1/(2*I) * (H*E**(-I*(2*theta+alpha))-Hs*E**(I*(2*theta+alpha)))"
   ]
  },
  {
   "cell_type": "code",
   "execution_count": 271,
   "metadata": {},
   "outputs": [
    {
     "data": {
      "text/plain": [
       "(3*H*a(t)**3*exp(-I*alpha)/(4*pi) - 3*H^**a(t)*exp(I*alpha)/(4*pi) + 3*I*omega*a(t)**2/(2*pi) + a(t)*Derivative(a(t), t)/pi,\n",
       " 5*H*a(t)**4*exp(-I*alpha)/(4*pi) - 5*H^**a(t)**2*exp(I*alpha)/(4*pi) + 5*I*omega*a(t)**3/(2*pi) + 3*a(t)**2*Derivative(a(t), t)/(2*pi),\n",
       " H*a(t)**2*exp(-I*alpha)/(4*pi) - H^**a^*(t)*exp(I*alpha)/(4*pi) + I*omega*a(t)/(2*pi) + Derivative(a(t), t)/(2*pi))"
      ]
     },
     "execution_count": 271,
     "metadata": {},
     "output_type": "execute_result"
    }
   ],
   "source": [
    "C = together(f.diff(t)+(f*v).diff(theta)).expand()\n",
    "col_ = collect(C,E**(1j*theta))\n",
    "col_\n",
    "coeff_7 = C.coeff(E**(7*I*theta))\n",
    "coeff_5 = C.coeff(E**(5*I*theta))\n",
    "coeff_3 = C.coeff(E**(3*I*theta))\n",
    "coeff_1 = C.coeff(E**(1*I*theta))\n",
    "\n",
    "coeff_3, coeff_5, coeff_1"
   ]
  },
  {
   "cell_type": "markdown",
   "metadata": {},
   "source": [
    "Odd term은 다음과 같이 요소가 겹치진 않는다."
   ]
  },
  {
   "cell_type": "code",
   "execution_count": 274,
   "metadata": {},
   "outputs": [
    {
     "data": {
      "text/latex": [
       "$\\displaystyle \\frac{\\left(7 H a^{2}{\\left(t \\right)} + \\left(- 7 H^{*} e^{i \\alpha} + 14 i \\omega a{\\left(t \\right)} + 8 \\frac{d}{d t} a{\\left(t \\right)}\\right) e^{i \\alpha}\\right) a^{3}{\\left(t \\right)}}{H a^{2}{\\left(t \\right)} + \\left(- H^{*} a^{*}{\\left(t \\right)} e^{i \\alpha} + 2 i \\omega a{\\left(t \\right)} + 2 \\frac{d}{d t} a{\\left(t \\right)}\\right) e^{i \\alpha}}$"
      ],
      "text/plain": [
       "(7*H*a(t)**2 + (-7*H^**exp(I*alpha) + 14*I*omega*a(t) + 8*Derivative(a(t), t))*exp(I*alpha))*a(t)**3/(H*a(t)**2 + (-H^**a^*(t)*exp(I*alpha) + 2*I*omega*a(t) + 2*Derivative(a(t), t))*exp(I*alpha))"
      ]
     },
     "execution_count": 274,
     "metadata": {},
     "output_type": "execute_result"
    }
   ],
   "source": [
    "# Find the factor that when multiplied with coeff_1 gives coeff_3\n",
    "factor = simplify(coeff_7 / coeff_1)\n",
    "factor"
   ]
  },
  {
   "cell_type": "markdown",
   "metadata": {},
   "source": [
    "# Check even term"
   ]
  },
  {
   "cell_type": "code",
   "execution_count": 3,
   "metadata": {},
   "outputs": [],
   "source": [
    "H,Hs = symbols('H H^*',complex=True)\n",
    "theta,t,n = symbols('theta t n')\n",
    "alpha,beta,omega,eta = symbols('alpha beta omega eta',real=True)\n",
    "a = Function('a')('t')\n",
    "a_s = Function('a^*')('t')\n",
    "b = Function('b')('t')\n",
    "b_s = Function('b^*')('t')\n",
    "A = Sum((a**n*E**((2*n-1)*I*theta)),(n,1,6)).doit()\n",
    "As = Sum((a_s**n*E**(-(2*n-1)*I*theta)),(n,1,6)).doit()\n",
    "B = Sum((b*E**(2*I*theta))**n,(n,1,6)).doit()\n",
    "Bs = Sum((b_s*E**(-2*I*theta))**n,(n,1,6)).doit()\n",
    "f = 1/(2*pi) * (1+(B+Bs))\n",
    "v = omega + 1/(2*I) * (H*E**(-I*(2*theta+alpha))-Hs*E**(I*(2*theta+alpha)))"
   ]
  },
  {
   "cell_type": "code",
   "execution_count": 4,
   "metadata": {},
   "outputs": [
    {
     "data": {
      "text/plain": [
       "(3*H*b(t)**4*exp(-I*alpha)/(2*pi) - 3*H^**b(t)**2*exp(I*alpha)/(2*pi) + 3*I*omega*b(t)**3/pi + 3*b(t)**2*Derivative(b(t), t)/(2*pi),\n",
       " H*b(t)**2*exp(-I*alpha)/(2*pi) - H^**exp(I*alpha)/(2*pi) + I*omega*b(t)/pi + Derivative(b(t), t)/(2*pi),\n",
       " H*b(t)**3*exp(-I*alpha)/pi - H^**b(t)*exp(I*alpha)/pi + 2*I*omega*b(t)**2/pi + b(t)*Derivative(b(t), t)/pi)"
      ]
     },
     "execution_count": 4,
     "metadata": {},
     "output_type": "execute_result"
    }
   ],
   "source": [
    "C = together(f.diff(t)+(f*v).diff(theta)).expand()\n",
    "col_ = collect(C,E**(1j*theta))\n",
    "col_\n",
    "coeff_4 = C.coeff(E**(4*I*theta))\n",
    "coeff_2 = C.coeff(E**(2*I*theta))\n",
    "coeff_6 = C.coeff(E**(6*I*theta))\n",
    "\n",
    "coeff_6, coeff_2, coeff_4"
   ]
  },
  {
   "cell_type": "code",
   "execution_count": 5,
   "metadata": {},
   "outputs": [
    {
     "data": {
      "text/plain": [
       "(2*b(t), 3*b(t)/2, 3*b(t)**2)"
      ]
     },
     "execution_count": 5,
     "metadata": {},
     "output_type": "execute_result"
    }
   ],
   "source": [
    "simplify(coeff_4/coeff_2),simplify(coeff_6/coeff_4), simplify(coeff_6/coeff_2)"
   ]
  },
  {
   "cell_type": "code",
   "execution_count": 6,
   "metadata": {},
   "outputs": [],
   "source": [
    "forZ2 = simplify(coeff_2*2*pi)\n",
    "Q = Function('Q_1',real=True)(t)\n",
    "chi = Function('chi_1',real=True)(t)\n",
    "b_sub = Q * exp(-I * chi)\n",
    "b_s_sub = Q * exp(I * chi)\n",
    "dZ2 = forZ2.subs({b: b_sub, b_s: b_s_sub}).doit()"
   ]
  },
  {
   "cell_type": "code",
   "execution_count": 7,
   "metadata": {},
   "outputs": [
    {
     "data": {
      "text/latex": [
       "$\\displaystyle H Q_{1}^{2}{\\left(t \\right)} e^{- i \\alpha} e^{- 2 i \\chi_{1}{\\left(t \\right)}} - H^{*} e^{i \\alpha} + 2 i \\omega Q_{1}{\\left(t \\right)} e^{- i \\chi_{1}{\\left(t \\right)}} - i Q_{1}{\\left(t \\right)} e^{- i \\chi_{1}{\\left(t \\right)}} \\frac{d}{d t} \\chi_{1}{\\left(t \\right)} + e^{- i \\chi_{1}{\\left(t \\right)}} \\frac{d}{d t} Q_{1}{\\left(t \\right)}$"
      ],
      "text/plain": [
       "H*Q_1(t)**2*exp(-I*alpha)*exp(-2*I*chi_1(t)) - H^**exp(I*alpha) + 2*I*omega*Q_1(t)*exp(-I*chi_1(t)) - I*Q_1(t)*exp(-I*chi_1(t))*Derivative(chi_1(t), t) + exp(-I*chi_1(t))*Derivative(Q_1(t), t)"
      ]
     },
     "execution_count": 7,
     "metadata": {},
     "output_type": "execute_result"
    }
   ],
   "source": [
    "dZ2"
   ]
  },
  {
   "cell_type": "code",
   "execution_count": 8,
   "metadata": {},
   "outputs": [],
   "source": [
    "Z_11 = Function('Z_11')(t)\n",
    "Z_12 = Function('Z_12')(t)\n",
    "Z_11_conj = conjugate(Z_11)\n",
    "Z_12_conj = conjugate(Z_12)\n",
    "H_sub = Z_11 ** 2 + beta * Z_11 * Z_12 + beta ** 2 * Z_12 ** 2 \n",
    "R1 = Function('R_1',real=True)(t)\n",
    "psi1 = Function('psi_1',real=True)(t)\n",
    "R2 = Function('R_2',real=True)(t)\n",
    "psi2 = Function('psi_2',real=True)(t)\n",
    "Z_11_sub = R1 * exp(-I * psi1)\n",
    "Z_12_sub = R2 * exp(-I * psi2)"
   ]
  },
  {
   "cell_type": "code",
   "execution_count": 9,
   "metadata": {},
   "outputs": [],
   "source": [
    "H_RR = H_sub.subs({Z_11:Z_11_sub,Z_12:Z_12_sub})\n",
    "HS_RR = H_sub.conjugate().subs({Z_11:Z_11_sub,Z_12:Z_12_sub})"
   ]
  },
  {
   "cell_type": "code",
   "execution_count": 10,
   "metadata": {},
   "outputs": [],
   "source": [
    "H_R, H_IMG = H_RR.simplify().as_real_imag()"
   ]
  },
  {
   "cell_type": "code",
   "execution_count": 11,
   "metadata": {},
   "outputs": [
    {
     "data": {
      "text/latex": [
       "$\\displaystyle \\beta^{2} R_{2}^{2}{\\left(t \\right)} \\cos{\\left(2 \\psi_{2}{\\left(t \\right)} \\right)} + \\beta R_{1}{\\left(t \\right)} R_{2}{\\left(t \\right)} \\cos{\\left(\\psi_{1}{\\left(t \\right)} + \\psi_{2}{\\left(t \\right)} \\right)} + R_{1}^{2}{\\left(t \\right)} \\cos{\\left(2 \\psi_{1}{\\left(t \\right)} \\right)}$"
      ],
      "text/plain": [
       "beta**2*R_2(t)**2*cos(2*psi_2(t)) + beta*R_1(t)*R_2(t)*cos(psi_1(t) + psi_2(t)) + R_1(t)**2*cos(2*psi_1(t))"
      ]
     },
     "execution_count": 11,
     "metadata": {},
     "output_type": "execute_result"
    }
   ],
   "source": [
    "H_R"
   ]
  },
  {
   "cell_type": "code",
   "execution_count": 12,
   "metadata": {},
   "outputs": [],
   "source": [
    "dZ2_exp = dZ2.subs({H:H_RR,Hs:HS_RR})"
   ]
  },
  {
   "cell_type": "code",
   "execution_count": 13,
   "metadata": {},
   "outputs": [],
   "source": [
    "dZ2_exp2 = (dZ2_exp * exp(I * chi)).expand()"
   ]
  },
  {
   "cell_type": "code",
   "execution_count": 14,
   "metadata": {},
   "outputs": [
    {
     "data": {
      "text/latex": [
       "$\\displaystyle \\beta^{2} Q_{1}^{2}{\\left(t \\right)} R_{2}^{2}{\\left(t \\right)} e^{- i \\alpha} e^{- i \\chi_{1}{\\left(t \\right)}} e^{- 2 i \\psi_{2}{\\left(t \\right)}} - \\beta^{2} R_{2}^{2}{\\left(t \\right)} e^{i \\alpha} e^{i \\chi_{1}{\\left(t \\right)}} e^{2 i \\psi_{2}{\\left(t \\right)}} + \\beta Q_{1}^{2}{\\left(t \\right)} R_{1}{\\left(t \\right)} R_{2}{\\left(t \\right)} e^{- i \\alpha} e^{- i \\chi_{1}{\\left(t \\right)}} e^{- i \\psi_{1}{\\left(t \\right)}} e^{- i \\psi_{2}{\\left(t \\right)}} - \\beta R_{1}{\\left(t \\right)} R_{2}{\\left(t \\right)} e^{i \\alpha} e^{i \\chi_{1}{\\left(t \\right)}} e^{i \\psi_{1}{\\left(t \\right)}} e^{i \\psi_{2}{\\left(t \\right)}} + 2 i \\omega Q_{1}{\\left(t \\right)} + Q_{1}^{2}{\\left(t \\right)} R_{1}^{2}{\\left(t \\right)} e^{- i \\alpha} e^{- i \\chi_{1}{\\left(t \\right)}} e^{- 2 i \\psi_{1}{\\left(t \\right)}} - i Q_{1}{\\left(t \\right)} \\frac{d}{d t} \\chi_{1}{\\left(t \\right)} - R_{1}^{2}{\\left(t \\right)} e^{i \\alpha} e^{i \\chi_{1}{\\left(t \\right)}} e^{2 i \\psi_{1}{\\left(t \\right)}} + \\frac{d}{d t} Q_{1}{\\left(t \\right)}$"
      ],
      "text/plain": [
       "beta**2*Q_1(t)**2*R_2(t)**2*exp(-I*alpha)*exp(-I*chi_1(t))*exp(-2*I*psi_2(t)) - beta**2*R_2(t)**2*exp(I*alpha)*exp(I*chi_1(t))*exp(2*I*psi_2(t)) + beta*Q_1(t)**2*R_1(t)*R_2(t)*exp(-I*alpha)*exp(-I*chi_1(t))*exp(-I*psi_1(t))*exp(-I*psi_2(t)) - beta*R_1(t)*R_2(t)*exp(I*alpha)*exp(I*chi_1(t))*exp(I*psi_1(t))*exp(I*psi_2(t)) + 2*I*omega*Q_1(t) + Q_1(t)**2*R_1(t)**2*exp(-I*alpha)*exp(-I*chi_1(t))*exp(-2*I*psi_1(t)) - I*Q_1(t)*Derivative(chi_1(t), t) - R_1(t)**2*exp(I*alpha)*exp(I*chi_1(t))*exp(2*I*psi_1(t)) + Derivative(Q_1(t), t)"
      ]
     },
     "execution_count": 14,
     "metadata": {},
     "output_type": "execute_result"
    }
   ],
   "source": [
    "dZ2_exp2"
   ]
  },
  {
   "cell_type": "code",
   "execution_count": 15,
   "metadata": {},
   "outputs": [],
   "source": [
    "dZ2_exp2_right, dZ2_exp2_left = dZ2_exp2.as_independent(Derivative)"
   ]
  },
  {
   "cell_type": "code",
   "execution_count": 16,
   "metadata": {},
   "outputs": [],
   "source": [
    "dZ2_l_real,dZ2_l_img = dZ2_exp2_right.simplify().as_real_imag()"
   ]
  },
  {
   "cell_type": "code",
   "execution_count": 17,
   "metadata": {},
   "outputs": [
    {
     "data": {
      "text/latex": [
       "$\\displaystyle - \\beta^{2} Q_{1}^{2}{\\left(t \\right)} R_{2}^{2}{\\left(t \\right)} \\sin{\\left(\\alpha + \\chi_{1}{\\left(t \\right)} + 2 \\psi_{2}{\\left(t \\right)} \\right)} - \\beta^{2} R_{2}^{2}{\\left(t \\right)} \\sin{\\left(\\alpha + \\chi_{1}{\\left(t \\right)} + 2 \\psi_{2}{\\left(t \\right)} \\right)} - \\beta Q_{1}^{2}{\\left(t \\right)} R_{1}{\\left(t \\right)} R_{2}{\\left(t \\right)} \\sin{\\left(\\alpha + \\chi_{1}{\\left(t \\right)} + \\psi_{1}{\\left(t \\right)} + \\psi_{2}{\\left(t \\right)} \\right)} - \\beta R_{1}{\\left(t \\right)} R_{2}{\\left(t \\right)} \\sin{\\left(\\alpha + \\chi_{1}{\\left(t \\right)} + \\psi_{1}{\\left(t \\right)} + \\psi_{2}{\\left(t \\right)} \\right)} + 2 \\omega Q_{1}{\\left(t \\right)} - Q_{1}^{2}{\\left(t \\right)} R_{1}^{2}{\\left(t \\right)} \\sin{\\left(\\alpha + \\chi_{1}{\\left(t \\right)} + 2 \\psi_{1}{\\left(t \\right)} \\right)} - R_{1}^{2}{\\left(t \\right)} \\sin{\\left(\\alpha + \\chi_{1}{\\left(t \\right)} + 2 \\psi_{1}{\\left(t \\right)} \\right)}$"
      ],
      "text/plain": [
       "-beta**2*Q_1(t)**2*R_2(t)**2*sin(alpha + chi_1(t) + 2*psi_2(t)) - beta**2*R_2(t)**2*sin(alpha + chi_1(t) + 2*psi_2(t)) - beta*Q_1(t)**2*R_1(t)*R_2(t)*sin(alpha + chi_1(t) + psi_1(t) + psi_2(t)) - beta*R_1(t)*R_2(t)*sin(alpha + chi_1(t) + psi_1(t) + psi_2(t)) + 2*omega*Q_1(t) - Q_1(t)**2*R_1(t)**2*sin(alpha + chi_1(t) + 2*psi_1(t)) - R_1(t)**2*sin(alpha + chi_1(t) + 2*psi_1(t))"
      ]
     },
     "execution_count": 17,
     "metadata": {},
     "output_type": "execute_result"
    }
   ],
   "source": [
    "dZ2_l_img.simplify()#.collect(Q)"
   ]
  },
  {
   "cell_type": "code",
   "execution_count": 18,
   "metadata": {},
   "outputs": [],
   "source": [
    "r_1a, r_1b,psi_1a,psi_1b = symbols('r_{1a} r_{1b} \\psi_{1a} \\psi_{1b}',real= True)"
   ]
  },
  {
   "cell_type": "code",
   "execution_count": 19,
   "metadata": {},
   "outputs": [],
   "source": [
    "Z_11 = (1+eta)/2 * r_1a *exp(I*psi_1a-I*psi1) + (1-eta)/2 * r_1b *exp(I*psi_1b-I*psi1)\n",
    "Z_21 = (1+eta)/2 * r_1a**2 *exp(2*I*psi_1a) + (1-eta)/2 * r_1b**2 *exp(2*I*psi_1b)"
   ]
  },
  {
   "cell_type": "code",
   "execution_count": 20,
   "metadata": {},
   "outputs": [],
   "source": [
    "Z_11 = (1+eta)/2 * r_1a *exp(I*psi_1a) + (1-eta)/2 * r_1b *exp(I*psi_1b)"
   ]
  },
  {
   "cell_type": "code",
   "execution_count": 21,
   "metadata": {},
   "outputs": [],
   "source": [
    "Z_11_r,Z_11_i = Z_11.as_real_imag()\n",
    "Z_21_r,Z_21_i = Z_21.as_real_imag()"
   ]
  },
  {
   "cell_type": "code",
   "execution_count": 22,
   "metadata": {},
   "outputs": [
    {
     "data": {
      "text/latex": [
       "$\\displaystyle \\tan{\\left(\\psi_{1a} \\right)}$"
      ],
      "text/plain": [
       "tan(\\psi_{1a})"
      ]
     },
     "execution_count": 22,
     "metadata": {},
     "output_type": "execute_result"
    }
   ],
   "source": [
    "(Z_11_i/Z_11_r).subs(psi_1b,psi_1a+pi).simplify()"
   ]
  },
  {
   "cell_type": "code",
   "execution_count": 23,
   "metadata": {},
   "outputs": [
    {
     "data": {
      "text/latex": [
       "$\\displaystyle \\tan{\\left(2 \\psi_{1a} \\right)}$"
      ],
      "text/plain": [
       "tan(2*\\psi_{1a})"
      ]
     },
     "execution_count": 23,
     "metadata": {},
     "output_type": "execute_result"
    }
   ],
   "source": [
    "(Z_21_i/Z_21_r).subs(psi_1b,psi_1a+pi).simplify()"
   ]
  },
  {
   "cell_type": "code",
   "execution_count": 24,
   "metadata": {},
   "outputs": [
    {
     "ename": "NameError",
     "evalue": "name 'R_11' is not defined",
     "output_type": "error",
     "traceback": [
      "\u001b[0;31m---------------------------------------------------------------------------\u001b[0m",
      "\u001b[0;31mNameError\u001b[0m                                 Traceback (most recent call last)",
      "Cell \u001b[0;32mIn[24], line 1\u001b[0m\n\u001b[0;32m----> 1\u001b[0m \u001b[43mR_11\u001b[49m(Z_11 \u001b[38;5;241m/\u001b[39m exp(I\u001b[38;5;241m*\u001b[39mpsi1))\u001b[38;5;241m.\u001b[39msimplify()\u001b[38;5;241m.\u001b[39mas_real_imag()\n",
      "\u001b[0;31mNameError\u001b[0m: name 'R_11' is not defined"
     ]
    }
   ],
   "source": [
    "R_11(Z_11 / exp(I*psi1)).simplify().as_real_imag()"
   ]
  },
  {
   "cell_type": "code",
   "execution_count": 54,
   "metadata": {},
   "outputs": [],
   "source": [
    "phi,R1,R2,zeta = symbols('phi R_{\\sigma} R_{\\sigma\\'} \\zeta_{\\sigma}',real=True)\n",
    "xi = R1**2 + beta**2*R2**2 * exp(-2*I*phi) + 2*beta * R1*R2*exp(-I*phi)\n",
    "# zeta = chi - 2*psi1\n",
    "E_za = exp(-I*(zeta +alpha))\n",
    "nu1 = R1**2*exp(-I*(zeta +alpha)) + beta**2*R2**2 * exp(-I*(2*phi + zeta +alpha)) + 2*beta * R1*R2*exp(-I*(phi+ zeta +alpha))\n",
    "\n",
    "RE_nu,IM_nu = nu1.as_real_imag()"
   ]
  },
  {
   "cell_type": "code",
   "execution_count": 55,
   "metadata": {},
   "outputs": [
    {
     "data": {
      "text/latex": [
       "$\\displaystyle R_{\\sigma'}$"
      ],
      "text/plain": [
       "R_{\\sigma'}"
      ]
     },
     "execution_count": 55,
     "metadata": {},
     "output_type": "execute_result"
    }
   ],
   "source": [
    "R2"
   ]
  },
  {
   "cell_type": "code",
   "execution_count": 58,
   "metadata": {},
   "outputs": [
    {
     "name": "stdout",
     "output_type": "stream",
     "text": [
      "R_{\\sigma'}^{2} \\beta^{2} \\sin{\\left(\\zeta_{\\sigma} + \\alpha + 2 \\phi \\right)} + 2 R_{\\sigma'} R_{\\sigma} \\beta \\sin{\\left(\\zeta_{\\sigma} + \\alpha + \\phi \\right)} + R_{\\sigma}^{2} \\sin{\\left(\\zeta_{\\sigma} + \\alpha \\right)}\n"
     ]
    }
   ],
   "source": [
    "print_latex(-IM_nu.trigsimp())"
   ]
  },
  {
   "cell_type": "code",
   "execution_count": 39,
   "metadata": {},
   "outputs": [
    {
     "data": {
      "text/latex": [
       "$\\displaystyle - 2 R_{2} \\beta \\left(R_{1} + R_{2} \\beta \\cos{\\left(\\phi \\right)}\\right) \\sin{\\left(\\phi \\right)} \\cos{\\left(\\alpha + \\chi_{1}{\\left(t \\right)} - 2 \\psi_{1}{\\left(t \\right)} \\right)} - \\left(R_{1}^{2} + 2 R_{1} R_{2} \\beta \\cos{\\left(\\phi \\right)} + R_{2}^{2} \\beta^{2} \\cos{\\left(2 \\phi \\right)}\\right) \\sin{\\left(\\alpha + \\chi_{1}{\\left(t \\right)} - 2 \\psi_{1}{\\left(t \\right)} \\right)}$"
      ],
      "text/plain": [
       "-2*R_2*beta*(R_1 + R_2*beta*cos(phi))*sin(phi)*cos(alpha + chi_1(t) - 2*psi_1(t)) - (R_1**2 + 2*R_1*R_2*beta*cos(phi) + R_2**2*beta**2*cos(2*phi))*sin(alpha + chi_1(t) - 2*psi_1(t))"
      ]
     },
     "execution_count": 39,
     "metadata": {},
     "output_type": "execute_result"
    }
   ],
   "source": [
    "IM_nu.trigsimp()\n"
   ]
  },
  {
   "cell_type": "markdown",
   "metadata": {},
   "source": [
    "# CHECK WITH NEW OA ansatz"
   ]
  },
  {
   "cell_type": "code",
   "execution_count": 343,
   "metadata": {},
   "outputs": [
    {
     "data": {
      "text/latex": [
       "$\\displaystyle \\frac{H \\eta a^{4}{\\left(t \\right)} e^{- i \\alpha}}{4 \\pi} + \\frac{H a^{4}{\\left(t \\right)} e^{- i \\alpha}}{4 \\pi} - \\frac{H^{*} e^{i \\alpha}}{2 \\pi} + \\frac{i \\eta \\omega a^{2}{\\left(t \\right)}}{2 \\pi} + \\frac{i \\omega a^{2}{\\left(t \\right)}}{2 \\pi}$"
      ],
      "text/plain": [
       "H*eta*a(t)**4*exp(-I*alpha)/(4*pi) + H*a(t)**4*exp(-I*alpha)/(4*pi) - H^**exp(I*alpha)/(2*pi) + I*eta*omega*a(t)**2/(2*pi) + I*omega*a(t)**2/(2*pi)"
      ]
     },
     "execution_count": 343,
     "metadata": {},
     "output_type": "execute_result"
    }
   ],
   "source": [
    "from sympy import *\n",
    "\n",
    "H,Hs = symbols('H H^*',complex=True)\n",
    "theta,t,alpha,omega,eta = symbols('theta t alpha omega eta')\n",
    "n = symbols('n', integer=True)\n",
    "\n",
    "# Sum 객체 생성\n",
    "a = Function('a')('t')\n",
    "a_s = Function('a^*')('t')\n",
    "b = Function('b')('t')\n",
    "b_s = Function('b^*')('t')\n",
    "A = Sum(a**n*exp(n*I*theta),(n,1,20)).doit()\n",
    "As = Sum(a_s**n * exp(-n * I * theta), (n, 1, 20)).doit()\n",
    "B = Sum(b**n*E**(n*I*theta),(n,1,20)).doit()\n",
    "Bs = Sum(b_s**n*E**(-n*I*theta),(n,1,20)).doit()\n",
    "f = 1/(2*pi) * (1+(1+eta)/2*(A+As))#+(1-eta)/2*(B+Bs))\n",
    "v = omega + 1/(2*I) * (H*E**(-I*(2*theta+alpha))-Hs*E**(I*(2*theta+alpha)))\n",
    "\n",
    "CC = together((f*v).simplify().diff(theta)).expand()\n",
    "CC.coeff(E**(2*I*theta))\n"
   ]
  },
  {
   "cell_type": "code",
   "execution_count": 364,
   "metadata": {},
   "outputs": [],
   "source": [
    "H,Hs = symbols('H H^*',complex=True)\n",
    "theta,t,alpha,omega,eta,n = symbols('theta t alpha omega eta n')\n",
    "# n = symbols('n', integer=True)\n",
    "\n",
    "# Sum 객체 생성\n",
    "a = Function('a')('t')\n",
    "a_s = Function('a^*')('t')\n",
    "b = Function('b')('t')\n",
    "b_s = Function('b^*')('t')\n",
    "A = Sum(a**n*exp(n*I*theta),(n,1,20)).doit()\n",
    "As = Sum(a_s**n * exp(-n * I * theta), (n, 1, 20)).doit()\n",
    "B = Sum(b**n*E**(n*I*theta),(n,1,20)).doit()\n",
    "Bs = Sum(b_s**n*E**(-n*I*theta),(n,1,20)).doit()\n",
    "# f = 1/(2*pi) * (1+(1)*(A+As)/2)#+(1-eta)/2*(B+Bs))\n",
    "f = 1/(2*pi) * (1+(1-eta)/2*(B+Bs))\n",
    "v = omega + 1/(2*I) * (H*E**(-I*(2*theta+alpha))-Hs*E**(I*(2*theta+alpha)))\n",
    "\n"
   ]
  },
  {
   "cell_type": "code",
   "execution_count": 352,
   "metadata": {},
   "outputs": [],
   "source": [
    "CC = together((f*v).simplify().diff(theta)).expand()\n",
    "BBB = collect(CC,E**(1j*theta))"
   ]
  },
  {
   "cell_type": "code",
   "execution_count": 336,
   "metadata": {},
   "outputs": [
    {
     "data": {
      "text/latex": [
       "$\\displaystyle \\frac{H \\eta a^{3}{\\left(t \\right)} e^{- i \\alpha} e^{i \\theta}}{8 \\pi} - \\frac{H \\eta a{\\left(t \\right)} e^{- i \\alpha} e^{- i \\theta}}{8 \\pi} - \\frac{5 H \\eta \\left(a^{*}\\right)^{3}{\\left(t \\right)} e^{- i \\alpha} e^{- 5 i \\theta}}{8 \\pi} - \\frac{H \\eta \\left(a^{*}\\right)^{2}{\\left(t \\right)} e^{- i \\alpha} e^{- 4 i \\theta}}{2 \\pi} - \\frac{3 H \\eta a^{*}{\\left(t \\right)} e^{- i \\alpha} e^{- 3 i \\theta}}{8 \\pi} + \\frac{H a^{3}{\\left(t \\right)} e^{- i \\alpha} e^{i \\theta}}{8 \\pi} - \\frac{H a{\\left(t \\right)} e^{- i \\alpha} e^{- i \\theta}}{8 \\pi} - \\frac{5 H \\left(a^{*}\\right)^{3}{\\left(t \\right)} e^{- i \\alpha} e^{- 5 i \\theta}}{8 \\pi} - \\frac{H \\left(a^{*}\\right)^{2}{\\left(t \\right)} e^{- i \\alpha} e^{- 4 i \\theta}}{2 \\pi} - \\frac{3 H a^{*}{\\left(t \\right)} e^{- i \\alpha} e^{- 3 i \\theta}}{8 \\pi} - \\frac{H e^{- i \\alpha} e^{- 2 i \\theta}}{2 \\pi} - \\frac{5 H^{*} \\eta a^{3}{\\left(t \\right)} e^{i \\alpha} e^{5 i \\theta}}{8 \\pi} - \\frac{H^{*} \\eta a^{2}{\\left(t \\right)} e^{i \\alpha} e^{4 i \\theta}}{2 \\pi} - \\frac{3 H^{*} \\eta a{\\left(t \\right)} e^{i \\alpha} e^{3 i \\theta}}{8 \\pi} + \\frac{H^{*} \\eta \\left(a^{*}\\right)^{3}{\\left(t \\right)} e^{i \\alpha} e^{- i \\theta}}{8 \\pi} - \\frac{H^{*} \\eta a^{*}{\\left(t \\right)} e^{i \\alpha} e^{i \\theta}}{8 \\pi} - \\frac{5 H^{*} a^{3}{\\left(t \\right)} e^{i \\alpha} e^{5 i \\theta}}{8 \\pi} - \\frac{H^{*} a^{2}{\\left(t \\right)} e^{i \\alpha} e^{4 i \\theta}}{2 \\pi} - \\frac{3 H^{*} a{\\left(t \\right)} e^{i \\alpha} e^{3 i \\theta}}{8 \\pi} + \\frac{H^{*} \\left(a^{*}\\right)^{3}{\\left(t \\right)} e^{i \\alpha} e^{- i \\theta}}{8 \\pi} - \\frac{H^{*} a^{*}{\\left(t \\right)} e^{i \\alpha} e^{i \\theta}}{8 \\pi} - \\frac{H^{*} e^{i \\alpha} e^{2 i \\theta}}{2 \\pi} + \\frac{3 i \\eta \\omega a^{3}{\\left(t \\right)} e^{3 i \\theta}}{4 \\pi} + \\frac{i \\eta \\omega a^{2}{\\left(t \\right)} e^{2 i \\theta}}{2 \\pi} + \\frac{i \\eta \\omega a{\\left(t \\right)} e^{i \\theta}}{4 \\pi} - \\frac{3 i \\eta \\omega \\left(a^{*}\\right)^{3}{\\left(t \\right)} e^{- 3 i \\theta}}{4 \\pi} - \\frac{i \\eta \\omega \\left(a^{*}\\right)^{2}{\\left(t \\right)} e^{- 2 i \\theta}}{2 \\pi} - \\frac{i \\eta \\omega a^{*}{\\left(t \\right)} e^{- i \\theta}}{4 \\pi} + \\frac{3 i \\omega a^{3}{\\left(t \\right)} e^{3 i \\theta}}{4 \\pi} + \\frac{i \\omega a^{2}{\\left(t \\right)} e^{2 i \\theta}}{2 \\pi} + \\frac{i \\omega a{\\left(t \\right)} e^{i \\theta}}{4 \\pi} - \\frac{3 i \\omega \\left(a^{*}\\right)^{3}{\\left(t \\right)} e^{- 3 i \\theta}}{4 \\pi} - \\frac{i \\omega \\left(a^{*}\\right)^{2}{\\left(t \\right)} e^{- 2 i \\theta}}{2 \\pi} - \\frac{i \\omega a^{*}{\\left(t \\right)} e^{- i \\theta}}{4 \\pi}$"
      ],
      "text/plain": [
       "H*eta*a(t)**3*exp(-I*alpha)*exp(I*theta)/(8*pi) - H*eta*a(t)*exp(-I*alpha)*exp(-I*theta)/(8*pi) - 5*H*eta*a^*(t)**3*exp(-I*alpha)*exp(-5*I*theta)/(8*pi) - H*eta*a^*(t)**2*exp(-I*alpha)*exp(-4*I*theta)/(2*pi) - 3*H*eta*a^*(t)*exp(-I*alpha)*exp(-3*I*theta)/(8*pi) + H*a(t)**3*exp(-I*alpha)*exp(I*theta)/(8*pi) - H*a(t)*exp(-I*alpha)*exp(-I*theta)/(8*pi) - 5*H*a^*(t)**3*exp(-I*alpha)*exp(-5*I*theta)/(8*pi) - H*a^*(t)**2*exp(-I*alpha)*exp(-4*I*theta)/(2*pi) - 3*H*a^*(t)*exp(-I*alpha)*exp(-3*I*theta)/(8*pi) - H*exp(-I*alpha)*exp(-2*I*theta)/(2*pi) - 5*H^**eta*a(t)**3*exp(I*alpha)*exp(5*I*theta)/(8*pi) - H^**eta*a(t)**2*exp(I*alpha)*exp(4*I*theta)/(2*pi) - 3*H^**eta*a(t)*exp(I*alpha)*exp(3*I*theta)/(8*pi) + H^**eta*a^*(t)**3*exp(I*alpha)*exp(-I*theta)/(8*pi) - H^**eta*a^*(t)*exp(I*alpha)*exp(I*theta)/(8*pi) - 5*H^**a(t)**3*exp(I*alpha)*exp(5*I*theta)/(8*pi) - H^**a(t)**2*exp(I*alpha)*exp(4*I*theta)/(2*pi) - 3*H^**a(t)*exp(I*alpha)*exp(3*I*theta)/(8*pi) + H^**a^*(t)**3*exp(I*alpha)*exp(-I*theta)/(8*pi) - H^**a^*(t)*exp(I*alpha)*exp(I*theta)/(8*pi) - H^**exp(I*alpha)*exp(2*I*theta)/(2*pi) + 3*I*eta*omega*a(t)**3*exp(3*I*theta)/(4*pi) + I*eta*omega*a(t)**2*exp(2*I*theta)/(2*pi) + I*eta*omega*a(t)*exp(I*theta)/(4*pi) - 3*I*eta*omega*a^*(t)**3*exp(-3*I*theta)/(4*pi) - I*eta*omega*a^*(t)**2*exp(-2*I*theta)/(2*pi) - I*eta*omega*a^*(t)*exp(-I*theta)/(4*pi) + 3*I*omega*a(t)**3*exp(3*I*theta)/(4*pi) + I*omega*a(t)**2*exp(2*I*theta)/(2*pi) + I*omega*a(t)*exp(I*theta)/(4*pi) - 3*I*omega*a^*(t)**3*exp(-3*I*theta)/(4*pi) - I*omega*a^*(t)**2*exp(-2*I*theta)/(2*pi) - I*omega*a^*(t)*exp(-I*theta)/(4*pi)"
      ]
     },
     "execution_count": 336,
     "metadata": {},
     "output_type": "execute_result"
    }
   ],
   "source": [
    "CC"
   ]
  },
  {
   "cell_type": "code",
   "execution_count": 333,
   "metadata": {},
   "outputs": [
    {
     "data": {
      "text/latex": [
       "$\\displaystyle - \\frac{H^{*} e^{i \\alpha}}{2 \\pi} + \\frac{i \\omega \\zeta a^{2}{\\left(t \\right)}}{2 \\pi} + \\frac{i \\omega a^{2}{\\left(t \\right)}}{2 \\pi}$"
      ],
      "text/plain": [
       "-H^**exp(I*alpha)/(2*pi) + I*omega*zeta*a(t)**2/(2*pi) + I*omega*a(t)**2/(2*pi)"
      ]
     },
     "execution_count": 333,
     "metadata": {},
     "output_type": "execute_result"
    }
   ],
   "source": [
    "CC.coeff(E**(2*I*theta))"
   ]
  },
  {
   "cell_type": "code",
   "execution_count": 303,
   "metadata": {},
   "outputs": [
    {
     "data": {
      "text/latex": [
       "$\\displaystyle 0$"
      ],
      "text/plain": [
       "0"
      ]
     },
     "execution_count": 303,
     "metadata": {},
     "output_type": "execute_result"
    }
   ],
   "source": [
    "BBB.coeff(E**(2*I*theta))"
   ]
  },
  {
   "cell_type": "code",
   "execution_count": 365,
   "metadata": {},
   "outputs": [
    {
     "data": {
      "text/plain": [
       "(-3*H*eta*b(t)**5*exp(-I*alpha)/(8*pi) + 3*H*b(t)**5*exp(-I*alpha)/(8*pi) + 3*H^**eta*b(t)*exp(I*alpha)/(8*pi) - 3*H^**b(t)*exp(I*alpha)/(8*pi) - 3*I*eta*omega*b(t)**3/(4*pi) - 3*eta*b(t)**2*Derivative(b(t), t)/(4*pi) + 3*I*omega*b(t)**3/(4*pi) + 3*b(t)**2*Derivative(b(t), t)/(4*pi),\n",
       " -H*eta*b(t)**4*exp(-I*alpha)/(4*pi) + H*b(t)**4*exp(-I*alpha)/(4*pi) - H^**exp(I*alpha)/(2*pi) - I*eta*omega*b(t)**2/(2*pi) - eta*b(t)*Derivative(b(t), t)/(2*pi) + I*omega*b(t)**2/(2*pi) + b(t)*Derivative(b(t), t)/(2*pi),\n",
       " -H*eta*b(t)**3*exp(-I*alpha)/(8*pi) + H*b(t)**3*exp(-I*alpha)/(8*pi) + H^**eta*b^*(t)*exp(I*alpha)/(8*pi) - H^**b^*(t)*exp(I*alpha)/(8*pi) - I*eta*omega*b(t)/(4*pi) - eta*Derivative(b(t), t)/(4*pi) + I*omega*b(t)/(4*pi) + Derivative(b(t), t)/(4*pi))"
      ]
     },
     "execution_count": 365,
     "metadata": {},
     "output_type": "execute_result"
    }
   ],
   "source": [
    "C = together(f.diff(t)+(f*v).diff(theta)).expand()\n",
    "col_ = collect(C,E**(1j*theta))\n",
    "col_\n",
    "coeff_6 = C.coeff(E**(6*I*theta))\n",
    "coeff_5 = C.coeff(E**(5*I*theta))\n",
    "coeff_4 = C.coeff(E**(4*I*theta))\n",
    "coeff_3 = C.coeff(E**(3*I*theta))\n",
    "coeff_2 = C.coeff(E**(2*I*theta))\n",
    "coeff_1 = C.coeff(E**(I*theta))\n",
    "\n",
    "coeff_3, coeff_2, coeff_1"
   ]
  },
  {
   "cell_type": "code",
   "execution_count": 368,
   "metadata": {},
   "outputs": [
    {
     "data": {
      "text/latex": [
       "$\\displaystyle - \\frac{H \\eta b^{4}{\\left(t \\right)} e^{- i \\alpha}}{4 \\pi} + \\frac{H b^{4}{\\left(t \\right)} e^{- i \\alpha}}{4 \\pi} - \\frac{H^{*} e^{i \\alpha}}{2 \\pi} - \\frac{i \\eta \\omega b^{2}{\\left(t \\right)}}{2 \\pi} - \\frac{\\eta b{\\left(t \\right)} \\frac{d}{d t} b{\\left(t \\right)}}{2 \\pi} + \\frac{i \\omega b^{2}{\\left(t \\right)}}{2 \\pi} + \\frac{b{\\left(t \\right)} \\frac{d}{d t} b{\\left(t \\right)}}{2 \\pi}$"
      ],
      "text/plain": [
       "-H*eta*b(t)**4*exp(-I*alpha)/(4*pi) + H*b(t)**4*exp(-I*alpha)/(4*pi) - H^**exp(I*alpha)/(2*pi) - I*eta*omega*b(t)**2/(2*pi) - eta*b(t)*Derivative(b(t), t)/(2*pi) + I*omega*b(t)**2/(2*pi) + b(t)*Derivative(b(t), t)/(2*pi)"
      ]
     },
     "execution_count": 368,
     "metadata": {},
     "output_type": "execute_result"
    }
   ],
   "source": [
    "coeff_2"
   ]
  },
  {
   "cell_type": "code",
   "execution_count": 367,
   "metadata": {},
   "outputs": [
    {
     "data": {
      "text/latex": [
       "$\\displaystyle - \\frac{H b^{3}{\\left(t \\right)} e^{- i \\alpha}}{2} + \\frac{H^{*} e^{i \\alpha}}{2 b{\\left(t \\right)}} - i \\omega b{\\left(t \\right)} - \\frac{d}{d t} b{\\left(t \\right)}$"
      ],
      "text/plain": [
       "-H*b(t)**3*exp(-I*alpha)/2 + H^**exp(I*alpha)/(2*b(t)) - I*omega*b(t) - Derivative(b(t), t)"
      ]
     },
     "execution_count": 367,
     "metadata": {},
     "output_type": "execute_result"
    }
   ],
   "source": [
    "(coeff_3/(eta-1)*2*2*pi/(3*b**2)).simplify()"
   ]
  },
  {
   "cell_type": "code",
   "execution_count": 360,
   "metadata": {},
   "outputs": [
    {
     "data": {
      "text/latex": [
       "$\\displaystyle \\frac{\\left(- H \\left(\\eta - 1\\right) b^{3}{\\left(t \\right)} - \\left(- H^{*} \\eta b^{*}{\\left(t \\right)} e^{i \\alpha} + H^{*} b^{*}{\\left(t \\right)} e^{i \\alpha} + 2 i \\eta \\omega b{\\left(t \\right)} + 2 \\eta \\frac{d}{d t} b{\\left(t \\right)} - 2 i \\omega b{\\left(t \\right)} - 2 \\frac{d}{d t} b{\\left(t \\right)}\\right) e^{i \\alpha}\\right) e^{- i \\alpha}}{8 \\pi \\left(\\eta + 1\\right)}$"
      ],
      "text/plain": [
       "(-H*(eta - 1)*b(t)**3 - (-H^**eta*b^*(t)*exp(I*alpha) + H^**b^*(t)*exp(I*alpha) + 2*I*eta*omega*b(t) + 2*eta*Derivative(b(t), t) - 2*I*omega*b(t) - 2*Derivative(b(t), t))*exp(I*alpha))*exp(-I*alpha)/(8*pi*(eta + 1))"
      ]
     },
     "execution_count": 360,
     "metadata": {},
     "output_type": "execute_result"
    }
   ],
   "source": [
    "(coeff_1/(eta+1)).simplify()"
   ]
  },
  {
   "cell_type": "code",
   "execution_count": 217,
   "metadata": {},
   "outputs": [
    {
     "data": {
      "text/latex": [
       "$\\displaystyle \\frac{H a^{3}{\\left(t \\right)} e^{- i \\alpha}}{2} - \\frac{H^{*} a^{*}{\\left(t \\right)} e^{i \\alpha}}{2} + i \\omega a{\\left(t \\right)} + \\frac{d}{d t} a{\\left(t \\right)}$"
      ],
      "text/plain": [
       "H*a(t)**3*exp(-I*alpha)/2 - H^**a^*(t)*exp(I*alpha)/2 + I*omega*a(t) + Derivative(a(t), t)"
      ]
     },
     "execution_count": 217,
     "metadata": {},
     "output_type": "execute_result"
    }
   ],
   "source": [
    "(coeff_1/(eta+1)*2*2*pi).simplify()\n"
   ]
  },
  {
   "cell_type": "markdown",
   "metadata": {},
   "source": []
  },
  {
   "cell_type": "code",
   "execution_count": 218,
   "metadata": {},
   "outputs": [
    {
     "data": {
      "text/latex": [
       "$\\displaystyle \\frac{\\left(\\eta + 1\\right) \\left(H a^{3}{\\left(t \\right)} + \\left(- H^{*} a^{*}{\\left(t \\right)} e^{i \\alpha} + 2 i \\omega a{\\left(t \\right)} + 2 \\frac{d}{d t} a{\\left(t \\right)}\\right) e^{i \\alpha}\\right) e^{- i \\alpha}}{4}$"
      ],
      "text/plain": [
       "(eta + 1)*(H*a(t)**3 + (-H^**a^*(t)*exp(I*alpha) + 2*I*omega*a(t) + 2*Derivative(a(t), t))*exp(I*alpha))*exp(-I*alpha)/4"
      ]
     },
     "execution_count": 218,
     "metadata": {},
     "output_type": "execute_result"
    }
   ],
   "source": [
    "(coeff_1.collect((a,a_s))*2*pi).simplify()"
   ]
  },
  {
   "cell_type": "code",
   "execution_count": 350,
   "metadata": {},
   "outputs": [
    {
     "data": {
      "text/latex": [
       "$\\displaystyle \\frac{5 a^{2}{\\left(t \\right)}}{3}$"
      ],
      "text/plain": [
       "5*a(t)**2/3"
      ]
     },
     "execution_count": 350,
     "metadata": {},
     "output_type": "execute_result"
    }
   ],
   "source": [
    "(coeff_5/coeff_3).simplify()#.collect((a,a_s))"
   ]
  },
  {
   "cell_type": "code",
   "execution_count": null,
   "metadata": {},
   "outputs": [
    {
     "data": {
      "text/latex": [
       "$\\displaystyle \\frac{2 \\left(H \\left(\\eta + 1\\right) a^{4}{\\left(t \\right)} + \\left(- H^{*} e^{i \\alpha} + 2 i \\eta \\omega a^{2}{\\left(t \\right)} + 2 \\eta a{\\left(t \\right)} \\frac{d}{d t} a{\\left(t \\right)} + 2 i \\omega a^{2}{\\left(t \\right)} + 2 a{\\left(t \\right)} \\frac{d}{d t} a{\\left(t \\right)}\\right) e^{i \\alpha}\\right) e^{- i \\alpha}}{3 \\left(\\eta + 1\\right) a^{2}{\\left(t \\right)}}$"
      ],
      "text/plain": [
       "2*(H*(eta + 1)*a(t)**4 + (-H^**exp(I*alpha) + 2*I*eta*omega*a(t)**2 + 2*eta*a(t)*Derivative(a(t), t) + 2*I*omega*a(t)**2 + 2*a(t)*Derivative(a(t), t))*exp(I*alpha))*exp(-I*alpha)/(3*(eta + 1)*a(t)**2)"
      ]
     },
     "execution_count": 155,
     "metadata": {},
     "output_type": "execute_result"
    }
   ],
   "source": [
    "((coeff_3/(eta+1)*2*2*pi)/a**2).simplify()"
   ]
  },
  {
   "cell_type": "code",
   "execution_count": 76,
   "metadata": {},
   "outputs": [
    {
     "data": {
      "text/latex": [
       "$\\displaystyle 2 H a^{6}{\\left(t \\right)} e^{- i \\alpha} - 2 H^{*} a^{2}{\\left(t \\right)} e^{i \\alpha} + 4 i \\omega a^{4}{\\left(t \\right)} + 4 a^{3}{\\left(t \\right)} \\frac{d}{d t} a{\\left(t \\right)}$"
      ],
      "text/plain": [
       "2*H*a(t)**6*exp(-I*alpha) - 2*H^**a(t)**2*exp(I*alpha) + 4*I*omega*a(t)**4 + 4*a(t)**3*Derivative(a(t), t)"
      ]
     },
     "execution_count": 76,
     "metadata": {},
     "output_type": "execute_result"
    }
   ],
   "source": [
    "(coeff_4/(eta+1)*2*2*pi).simplify()"
   ]
  },
  {
   "cell_type": "code",
   "execution_count": 31,
   "metadata": {},
   "outputs": [
    {
     "data": {
      "text/latex": [
       "$\\displaystyle \\left(\\frac{\\eta}{4 \\pi} + \\frac{1}{4 \\pi}\\right) \\frac{d}{d t} a{\\left(t \\right)} + \\left(\\frac{i \\eta \\omega}{4 \\pi} + \\frac{i \\omega}{4 \\pi}\\right) a{\\left(t \\right)} + \\left(\\frac{H \\eta e^{- i \\alpha}}{8 \\pi} + \\frac{H e^{- i \\alpha}}{8 \\pi}\\right) a^{3}{\\left(t \\right)} + \\left(- \\frac{H^{*} \\eta e^{i \\alpha}}{8 \\pi} - \\frac{H^{*} e^{i \\alpha}}{8 \\pi}\\right) a^{*}{\\left(t \\right)}$"
      ],
      "text/plain": [
       "(eta/(4*pi) + 1/(4*pi))*Derivative(a(t), t) + (I*eta*omega/(4*pi) + I*omega/(4*pi))*a(t) + (H*eta*exp(-I*alpha)/(8*pi) + H*exp(-I*alpha)/(8*pi))*a(t)**3 + (-H^**eta*exp(I*alpha)/(8*pi) - H^**exp(I*alpha)/(8*pi))*a^*(t)"
      ]
     },
     "execution_count": 31,
     "metadata": {},
     "output_type": "execute_result"
    }
   ],
   "source": [
    "coeff_1_a_as.as_independent((a,a_s))[0]"
   ]
  },
  {
   "cell_type": "markdown",
   "metadata": {},
   "source": [
    "# Check Dist"
   ]
  },
  {
   "cell_type": "code",
   "execution_count": 62,
   "metadata": {},
   "outputs": [],
   "source": [
    "import numpy as np\n",
    "import matplotlib.pyplot as plt"
   ]
  },
  {
   "cell_type": "code",
   "execution_count": 66,
   "metadata": {},
   "outputs": [],
   "source": [
    "def dist_ab(x, a, b, eta):\n",
    "    a_ = a*np.exp(1j*x)/(1-a*np.exp(1j*x))\n",
    "    b_ = b*np.exp(1j*x)/(1-b*np.exp(1j*x))\n",
    "    f = 1/(2*np.pi) * (1+ (1/2+eta/2)*(a_+a_.conjugate())+(1/2-eta/2)*(b_+b_.conjugate()))\n",
    "    return f.real  # 확률밀도함수는 실수부만 사용합니다.\n",
    "\n",
    "def dist(x,a,c):\n",
    "    a_ = a/(1-a*np.exp(2j*x))\n",
    "    c_ = c*np.exp(1j*x)/(1-c*np.exp(2j*x))\n",
    "    f = 1/(2*np.pi) * (1+ a_+a_.conjugate() +c_ + np.conj(c_))\n",
    "    return f.real"
   ]
  },
  {
   "cell_type": "code",
   "execution_count": 69,
   "metadata": {},
   "outputs": [
    {
     "data": {
      "image/png": "[encoded data removed]",
      "text/plain": [
       "<Figure size 640x480 with 1 Axes>"
      ]
     },
     "metadata": {},
     "output_type": "display_data"
    }
   ],
   "source": [
    "xs = np.linspace(-np.pi,np.pi,10000)\n",
    "\n",
    "B = np.linspace(0,np.pi,10)\n",
    "for b in B:\n",
    "    # plt.plot(xs,dist_ab(xs,np.sqrt(0.6)*np.exp((b)*1j),np.sqrt(0.6)*np.exp((np.pi+b)*1j),0))\n",
    "    plt.plot(xs,abs(dist(xs,np.sqrt(0.6)*np.exp((b)*1j),0.6*np.exp((2*b)*1j))))"
   ]
  },
  {
   "cell_type": "code",
   "execution_count": null,
   "metadata": {},
   "outputs": [],
   "source": []
  }
 ],
 "metadata": {
  "kernelspec": {
   "display_name": "Python 3",
   "language": "python",
   "name": "python3"
  },
  "language_info": {
   "codemirror_mode": {
    "name": "ipython",
    "version": 3
   },
   "file_extension": ".py",
   "mimetype": "text/x-python",
   "name": "python",
   "nbconvert_exporter": "python",
   "pygments_lexer": "ipython3",
   "version": "3.11.9"
  }
 },
 "nbformat": 4,
 "nbformat_minor": 2
}
