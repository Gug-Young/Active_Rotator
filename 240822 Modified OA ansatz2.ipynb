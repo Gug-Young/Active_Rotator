{
 "cells": [
  {
   "cell_type": "code",
   "execution_count": 1,
   "metadata": {},
   "outputs": [],
   "source": [
    "import numpy as np\n",
    "import matplotlib.pyplot as plt\n",
    "import sympy as sp\n",
    "from numba import jit"
   ]
  },
  {
   "cell_type": "code",
   "execution_count": 3,
   "metadata": {},
   "outputs": [],
   "source": [
    "def f_sym(x,a):\n",
    "    a_ = a*np.exp(2j*x)/(1-a*np.exp(2j*x))\n",
    "    f = 1/(2*np.pi) * (1+ (a_+a_.conjugate()))\n",
    "    return f\n",
    "\n",
    "def f_asym(x,a):\n",
    "    a_ = a*np.exp(1j*x)/(1-a*np.exp(2j*x))\n",
    "    f = 1/(2*np.pi) * ((a_+a_.conjugate()))\n",
    "    return f"
   ]
  },
  {
   "cell_type": "code",
   "execution_count": 4,
   "metadata": {},
   "outputs": [],
   "source": [
    "x = np.linspace(0,2*np.pi,1000)"
   ]
  },
  {
   "cell_type": "code",
   "execution_count": 25,
   "metadata": {},
   "outputs": [
    {
     "data": {
      "text/plain": [
       "[<matplotlib.lines.Line2D at 0x15e147c50>]"
      ]
     },
     "execution_count": 25,
     "metadata": {},
     "output_type": "execute_result"
    },
    {
     "data": {
      "image/png": "[encoded data removed]",
      "text/plain": [
       "<Figure size 640x480 with 1 Axes>"
      ]
     },
     "metadata": {},
     "output_type": "display_data"
    }
   ],
   "source": [
    "plt.plot(x,f_sym(x,0.8).real+f_asym(x,0.4).real)"
   ]
  },
  {
   "cell_type": "code",
   "execution_count": 12,
   "metadata": {},
   "outputs": [],
   "source": [
    "from sympy import *"
   ]
  },
  {
   "cell_type": "code",
   "execution_count": 13,
   "metadata": {},
   "outputs": [],
   "source": [
    "H,Hs = symbols('H H^*',complex=True)\n",
    "theta,t,alpha,n,omega,eta = symbols('theta t alpha n omega eta')\n",
    "a = Function('a')('t')\n",
    "a_s = Function('a^*')('t')\n",
    "b = Function('b')('t')\n",
    "b_s = Function('b^*')('t')\n",
    "A = Sum((a**n*(E**(I*theta))**(2*n-1)),(n,1,6)).doit()\n",
    "As = Sum((a_s**n*(E**(-I*theta))**(2*n-1)),(n,1,6)).doit()\n",
    "B = Sum((b**n*(E**(I*theta))**(2*n)),(n,1,6)).doit()\n",
    "Bs = Sum((b_s**n*(E**(-I*theta))**(2*n)),(n,1,6)).doit()\n",
    "f = 1/(2*pi) * (1+((A+As)+(B+Bs)))\n",
    "v = omega + 1/(2*I) * (H*E**(-I*(2*theta+alpha))-Hs*E**(I*(2*theta+alpha)))"
   ]
  },
  {
   "cell_type": "code",
   "execution_count": null,
   "metadata": {},
   "outputs": [
    {
     "data": {
      "text/latex": [
       "$\\displaystyle \\frac{\\frac{\\left(1 - \\eta\\right) \\left(6 b^{5}{\\left(t \\right)} e^{6 i \\theta} \\frac{d}{d t} b{\\left(t \\right)} + 5 b^{4}{\\left(t \\right)} e^{5 i \\theta} \\frac{d}{d t} b{\\left(t \\right)} + 4 b^{3}{\\left(t \\right)} e^{4 i \\theta} \\frac{d}{d t} b{\\left(t \\right)} + 3 b^{2}{\\left(t \\right)} e^{3 i \\theta} \\frac{d}{d t} b{\\left(t \\right)} + 2 b{\\left(t \\right)} e^{2 i \\theta} \\frac{d}{d t} b{\\left(t \\right)} + 6 \\left(b^{*}\\right)^{5}{\\left(t \\right)} e^{- 6 i \\theta} \\frac{d}{d t} b^{*}{\\left(t \\right)} + 5 \\left(b^{*}\\right)^{4}{\\left(t \\right)} e^{- 5 i \\theta} \\frac{d}{d t} b^{*}{\\left(t \\right)} + 4 \\left(b^{*}\\right)^{3}{\\left(t \\right)} e^{- 4 i \\theta} \\frac{d}{d t} b^{*}{\\left(t \\right)} + 3 \\left(b^{*}\\right)^{2}{\\left(t \\right)} e^{- 3 i \\theta} \\frac{d}{d t} b^{*}{\\left(t \\right)} + 2 b^{*}{\\left(t \\right)} e^{- 2 i \\theta} \\frac{d}{d t} b^{*}{\\left(t \\right)} + e^{i \\theta} \\frac{d}{d t} b{\\left(t \\right)} + e^{- i \\theta} \\frac{d}{d t} b^{*}{\\left(t \\right)}\\right)}{2} + \\frac{\\left(\\eta + 1\\right) \\left(6 a^{5}{\\left(t \\right)} e^{6 i \\theta} \\frac{d}{d t} a{\\left(t \\right)} + 5 a^{4}{\\left(t \\right)} e^{5 i \\theta} \\frac{d}{d t} a{\\left(t \\right)} + 4 a^{3}{\\left(t \\right)} e^{4 i \\theta} \\frac{d}{d t} a{\\left(t \\right)} + 3 a^{2}{\\left(t \\right)} e^{3 i \\theta} \\frac{d}{d t} a{\\left(t \\right)} + 2 a{\\left(t \\right)} e^{2 i \\theta} \\frac{d}{d t} a{\\left(t \\right)} + 6 \\left(a^{*}\\right)^{5}{\\left(t \\right)} e^{- 6 i \\theta} \\frac{d}{d t} a^{*}{\\left(t \\right)} + 5 \\left(a^{*}\\right)^{4}{\\left(t \\right)} e^{- 5 i \\theta} \\frac{d}{d t} a^{*}{\\left(t \\right)} + 4 \\left(a^{*}\\right)^{3}{\\left(t \\right)} e^{- 4 i \\theta} \\frac{d}{d t} a^{*}{\\left(t \\right)} + 3 \\left(a^{*}\\right)^{2}{\\left(t \\right)} e^{- 3 i \\theta} \\frac{d}{d t} a^{*}{\\left(t \\right)} + 2 a^{*}{\\left(t \\right)} e^{- 2 i \\theta} \\frac{d}{d t} a^{*}{\\left(t \\right)} + e^{i \\theta} \\frac{d}{d t} a{\\left(t \\right)} + e^{- i \\theta} \\frac{d}{d t} a^{*}{\\left(t \\right)}\\right)}{2}}{2 \\pi}$"
      ],
      "text/plain": [
       "((1 - eta)*(6*b(t)**5*exp(6*I*theta)*Derivative(b(t), t) + 5*b(t)**4*exp(5*I*theta)*Derivative(b(t), t) + 4*b(t)**3*exp(4*I*theta)*Derivative(b(t), t) + 3*b(t)**2*exp(3*I*theta)*Derivative(b(t), t) + 2*b(t)*exp(2*I*theta)*Derivative(b(t), t) + 6*b^*(t)**5*exp(-6*I*theta)*Derivative(b^*(t), t) + 5*b^*(t)**4*exp(-5*I*theta)*Derivative(b^*(t), t) + 4*b^*(t)**3*exp(-4*I*theta)*Derivative(b^*(t), t) + 3*b^*(t)**2*exp(-3*I*theta)*Derivative(b^*(t), t) + 2*b^*(t)*exp(-2*I*theta)*Derivative(b^*(t), t) + exp(I*theta)*Derivative(b(t), t) + exp(-I*theta)*Derivative(b^*(t), t))/2 + (eta + 1)*(6*a(t)**5*exp(6*I*theta)*Derivative(a(t), t) + 5*a(t)**4*exp(5*I*theta)*Derivative(a(t), t) + 4*a(t)**3*exp(4*I*theta)*Derivative(a(t), t) + 3*a(t)**2*exp(3*I*theta)*Derivative(a(t), t) + 2*a(t)*exp(2*I*theta)*Derivative(a(t), t) + 6*a^*(t)**5*exp(-6*I*theta)*Derivative(a^*(t), t) + 5*a^*(t)**4*exp(-5*I*theta)*Derivative(a^*(t), t) + 4*a^*(t)**3*exp(-4*I*theta)*Derivative(a^*(t), t) + 3*a^*(t)**2*exp(-3*I*theta)*Derivative(a^*(t), t) + 2*a^*(t)*exp(-2*I*theta)*Derivative(a^*(t), t) + exp(I*theta)*Derivative(a(t), t) + exp(-I*theta)*Derivative(a^*(t), t))/2)/(2*pi)"
      ]
     },
     "metadata": {},
     "output_type": "display_data"
    }
   ],
   "source": [
    "f.diff(t)"
   ]
  },
  {
   "cell_type": "code",
   "execution_count": 14,
   "metadata": {},
   "outputs": [],
   "source": [
    "col_ = collect(together(f.diff(t)+(f*v).diff(theta)).expand(),E**(1j*theta))"
   ]
  },
  {
   "cell_type": "code",
   "execution_count": 15,
   "metadata": {},
   "outputs": [
    {
     "data": {
      "text/latex": [
       "$\\displaystyle - \\frac{13 H \\left(a^{*}\\right)^{6}{\\left(t \\right)} e^{- i \\alpha}}{4 \\pi \\left(e^{1.0 i \\theta}\\right)^{13.0}} - \\frac{7 H \\left(b^{*}\\right)^{6}{\\left(t \\right)} e^{- i \\alpha}}{2 \\pi \\left(e^{1.0 i \\theta}\\right)^{14.0}} - \\frac{13 H^{*} a^{6}{\\left(t \\right)} e^{i \\alpha} \\left(e^{1.0 i \\theta}\\right)^{13.0}}{4 \\pi} - \\frac{7 H^{*} b^{6}{\\left(t \\right)} e^{i \\alpha} \\left(e^{1.0 i \\theta}\\right)^{14.0}}{2 \\pi} + \\frac{- \\frac{11 H \\left(a^{*}\\right)^{5}{\\left(t \\right)} e^{- i \\alpha}}{4 \\pi} - \\frac{11 i \\omega \\left(a^{*}\\right)^{6}{\\left(t \\right)}}{2 \\pi} + \\frac{3 \\left(a^{*}\\right)^{5}{\\left(t \\right)} \\frac{d}{d t} a^{*}{\\left(t \\right)}}{\\pi}}{\\left(e^{1.0 i \\theta}\\right)^{11.0}} + \\frac{- \\frac{3 H \\left(b^{*}\\right)^{5}{\\left(t \\right)} e^{- i \\alpha}}{\\pi} - \\frac{6 i \\omega \\left(b^{*}\\right)^{6}{\\left(t \\right)}}{\\pi} + \\frac{3 \\left(b^{*}\\right)^{5}{\\left(t \\right)} \\frac{d}{d t} b^{*}{\\left(t \\right)}}{\\pi}}{\\left(e^{1.0 i \\theta}\\right)^{12.0}} + \\left(- \\frac{11 H^{*} a^{5}{\\left(t \\right)} e^{i \\alpha}}{4 \\pi} + \\frac{11 i \\omega a^{6}{\\left(t \\right)}}{2 \\pi} + \\frac{3 a^{5}{\\left(t \\right)} \\frac{d}{d t} a{\\left(t \\right)}}{\\pi}\\right) \\left(e^{1.0 i \\theta}\\right)^{11.0} + \\left(- \\frac{3 H^{*} b^{5}{\\left(t \\right)} e^{i \\alpha}}{\\pi} + \\frac{6 i \\omega b^{6}{\\left(t \\right)}}{\\pi} + \\frac{3 b^{5}{\\left(t \\right)} \\frac{d}{d t} b{\\left(t \\right)}}{\\pi}\\right) \\left(e^{1.0 i \\theta}\\right)^{12.0} + \\frac{- \\frac{H e^{- i \\alpha}}{2 \\pi} + \\frac{H^{*} \\left(b^{*}\\right)^{2}{\\left(t \\right)} e^{i \\alpha}}{2 \\pi} - \\frac{i \\omega b^{*}{\\left(t \\right)}}{\\pi} + \\frac{\\frac{d}{d t} b^{*}{\\left(t \\right)}}{2 \\pi}}{\\left(e^{1.0 i \\theta}\\right)^{2.0}} + \\frac{- \\frac{H a{\\left(t \\right)} e^{- i \\alpha}}{4 \\pi} + \\frac{H^{*} \\left(a^{*}\\right)^{2}{\\left(t \\right)} e^{i \\alpha}}{4 \\pi} - \\frac{i \\omega a^{*}{\\left(t \\right)}}{2 \\pi} + \\frac{\\frac{d}{d t} a^{*}{\\left(t \\right)}}{2 \\pi}}{\\left(e^{1.0 i \\theta}\\right)^{1.0}} + \\left(\\frac{H a^{2}{\\left(t \\right)} e^{- i \\alpha}}{4 \\pi} - \\frac{H^{*} a^{*}{\\left(t \\right)} e^{i \\alpha}}{4 \\pi} + \\frac{i \\omega a{\\left(t \\right)}}{2 \\pi} + \\frac{\\frac{d}{d t} a{\\left(t \\right)}}{2 \\pi}\\right) \\left(e^{1.0 i \\theta}\\right)^{1.0} + \\left(\\frac{3 H a^{3}{\\left(t \\right)} e^{- i \\alpha}}{4 \\pi} - \\frac{3 H^{*} a{\\left(t \\right)} e^{i \\alpha}}{4 \\pi} + \\frac{3 i \\omega a^{2}{\\left(t \\right)}}{2 \\pi} + \\frac{a{\\left(t \\right)} \\frac{d}{d t} a{\\left(t \\right)}}{\\pi}\\right) \\left(e^{1.0 i \\theta}\\right)^{3.0} + \\left(\\frac{5 H a^{4}{\\left(t \\right)} e^{- i \\alpha}}{4 \\pi} - \\frac{5 H^{*} a^{2}{\\left(t \\right)} e^{i \\alpha}}{4 \\pi} + \\frac{5 i \\omega a^{3}{\\left(t \\right)}}{2 \\pi} + \\frac{3 a^{2}{\\left(t \\right)} \\frac{d}{d t} a{\\left(t \\right)}}{2 \\pi}\\right) \\left(e^{1.0 i \\theta}\\right)^{5.0} + \\left(\\frac{7 H a^{5}{\\left(t \\right)} e^{- i \\alpha}}{4 \\pi} - \\frac{7 H^{*} a^{3}{\\left(t \\right)} e^{i \\alpha}}{4 \\pi} + \\frac{7 i \\omega a^{4}{\\left(t \\right)}}{2 \\pi} + \\frac{2 a^{3}{\\left(t \\right)} \\frac{d}{d t} a{\\left(t \\right)}}{\\pi}\\right) \\left(e^{1.0 i \\theta}\\right)^{7.0} + \\left(\\frac{9 H a^{6}{\\left(t \\right)} e^{- i \\alpha}}{4 \\pi} - \\frac{9 H^{*} a^{4}{\\left(t \\right)} e^{i \\alpha}}{4 \\pi} + \\frac{9 i \\omega a^{5}{\\left(t \\right)}}{2 \\pi} + \\frac{5 a^{4}{\\left(t \\right)} \\frac{d}{d t} a{\\left(t \\right)}}{2 \\pi}\\right) \\left(e^{1.0 i \\theta}\\right)^{9.0} + \\frac{- \\frac{3 H a^{*}{\\left(t \\right)} e^{- i \\alpha}}{4 \\pi} + \\frac{3 H^{*} \\left(a^{*}\\right)^{3}{\\left(t \\right)} e^{i \\alpha}}{4 \\pi} - \\frac{3 i \\omega \\left(a^{*}\\right)^{2}{\\left(t \\right)}}{2 \\pi} + \\frac{a^{*}{\\left(t \\right)} \\frac{d}{d t} a^{*}{\\left(t \\right)}}{\\pi}}{\\left(e^{1.0 i \\theta}\\right)^{3.0}} + \\frac{- \\frac{5 H \\left(a^{*}\\right)^{2}{\\left(t \\right)} e^{- i \\alpha}}{4 \\pi} + \\frac{5 H^{*} \\left(a^{*}\\right)^{4}{\\left(t \\right)} e^{i \\alpha}}{4 \\pi} - \\frac{5 i \\omega \\left(a^{*}\\right)^{3}{\\left(t \\right)}}{2 \\pi} + \\frac{3 \\left(a^{*}\\right)^{2}{\\left(t \\right)} \\frac{d}{d t} a^{*}{\\left(t \\right)}}{2 \\pi}}{\\left(e^{1.0 i \\theta}\\right)^{5.0}} + \\frac{- \\frac{7 H \\left(a^{*}\\right)^{3}{\\left(t \\right)} e^{- i \\alpha}}{4 \\pi} + \\frac{7 H^{*} \\left(a^{*}\\right)^{5}{\\left(t \\right)} e^{i \\alpha}}{4 \\pi} - \\frac{7 i \\omega \\left(a^{*}\\right)^{4}{\\left(t \\right)}}{2 \\pi} + \\frac{2 \\left(a^{*}\\right)^{3}{\\left(t \\right)} \\frac{d}{d t} a^{*}{\\left(t \\right)}}{\\pi}}{\\left(e^{1.0 i \\theta}\\right)^{7.0}} + \\frac{- \\frac{9 H \\left(a^{*}\\right)^{4}{\\left(t \\right)} e^{- i \\alpha}}{4 \\pi} + \\frac{9 H^{*} \\left(a^{*}\\right)^{6}{\\left(t \\right)} e^{i \\alpha}}{4 \\pi} - \\frac{9 i \\omega \\left(a^{*}\\right)^{5}{\\left(t \\right)}}{2 \\pi} + \\frac{5 \\left(a^{*}\\right)^{4}{\\left(t \\right)} \\frac{d}{d t} a^{*}{\\left(t \\right)}}{2 \\pi}}{\\left(e^{1.0 i \\theta}\\right)^{9.0}} + \\left(\\frac{H b^{2}{\\left(t \\right)} e^{- i \\alpha}}{2 \\pi} - \\frac{H^{*} e^{i \\alpha}}{2 \\pi} + \\frac{i \\omega b{\\left(t \\right)}}{\\pi} + \\frac{\\frac{d}{d t} b{\\left(t \\right)}}{2 \\pi}\\right) \\left(e^{1.0 i \\theta}\\right)^{2.0} + \\left(\\frac{H b^{3}{\\left(t \\right)} e^{- i \\alpha}}{\\pi} - \\frac{H^{*} b{\\left(t \\right)} e^{i \\alpha}}{\\pi} + \\frac{2 i \\omega b^{2}{\\left(t \\right)}}{\\pi} + \\frac{b{\\left(t \\right)} \\frac{d}{d t} b{\\left(t \\right)}}{\\pi}\\right) \\left(e^{1.0 i \\theta}\\right)^{4.0} + \\left(\\frac{3 H b^{4}{\\left(t \\right)} e^{- i \\alpha}}{2 \\pi} - \\frac{3 H^{*} b^{2}{\\left(t \\right)} e^{i \\alpha}}{2 \\pi} + \\frac{3 i \\omega b^{3}{\\left(t \\right)}}{\\pi} + \\frac{3 b^{2}{\\left(t \\right)} \\frac{d}{d t} b{\\left(t \\right)}}{2 \\pi}\\right) \\left(e^{1.0 i \\theta}\\right)^{6.0} + \\left(\\frac{2 H b^{5}{\\left(t \\right)} e^{- i \\alpha}}{\\pi} - \\frac{2 H^{*} b^{3}{\\left(t \\right)} e^{i \\alpha}}{\\pi} + \\frac{4 i \\omega b^{4}{\\left(t \\right)}}{\\pi} + \\frac{2 b^{3}{\\left(t \\right)} \\frac{d}{d t} b{\\left(t \\right)}}{\\pi}\\right) \\left(e^{1.0 i \\theta}\\right)^{8.0} + \\left(\\frac{5 H b^{6}{\\left(t \\right)} e^{- i \\alpha}}{2 \\pi} - \\frac{5 H^{*} b^{4}{\\left(t \\right)} e^{i \\alpha}}{2 \\pi} + \\frac{5 i \\omega b^{5}{\\left(t \\right)}}{\\pi} + \\frac{5 b^{4}{\\left(t \\right)} \\frac{d}{d t} b{\\left(t \\right)}}{2 \\pi}\\right) \\left(e^{1.0 i \\theta}\\right)^{10.0} + \\frac{- \\frac{H b^{*}{\\left(t \\right)} e^{- i \\alpha}}{\\pi} + \\frac{H^{*} \\left(b^{*}\\right)^{3}{\\left(t \\right)} e^{i \\alpha}}{\\pi} - \\frac{2 i \\omega \\left(b^{*}\\right)^{2}{\\left(t \\right)}}{\\pi} + \\frac{b^{*}{\\left(t \\right)} \\frac{d}{d t} b^{*}{\\left(t \\right)}}{\\pi}}{\\left(e^{1.0 i \\theta}\\right)^{4.0}} + \\frac{- \\frac{3 H \\left(b^{*}\\right)^{2}{\\left(t \\right)} e^{- i \\alpha}}{2 \\pi} + \\frac{3 H^{*} \\left(b^{*}\\right)^{4}{\\left(t \\right)} e^{i \\alpha}}{2 \\pi} - \\frac{3 i \\omega \\left(b^{*}\\right)^{3}{\\left(t \\right)}}{\\pi} + \\frac{3 \\left(b^{*}\\right)^{2}{\\left(t \\right)} \\frac{d}{d t} b^{*}{\\left(t \\right)}}{2 \\pi}}{\\left(e^{1.0 i \\theta}\\right)^{6.0}} + \\frac{- \\frac{2 H \\left(b^{*}\\right)^{3}{\\left(t \\right)} e^{- i \\alpha}}{\\pi} + \\frac{2 H^{*} \\left(b^{*}\\right)^{5}{\\left(t \\right)} e^{i \\alpha}}{\\pi} - \\frac{4 i \\omega \\left(b^{*}\\right)^{4}{\\left(t \\right)}}{\\pi} + \\frac{2 \\left(b^{*}\\right)^{3}{\\left(t \\right)} \\frac{d}{d t} b^{*}{\\left(t \\right)}}{\\pi}}{\\left(e^{1.0 i \\theta}\\right)^{8.0}} + \\frac{- \\frac{5 H \\left(b^{*}\\right)^{4}{\\left(t \\right)} e^{- i \\alpha}}{2 \\pi} + \\frac{5 H^{*} \\left(b^{*}\\right)^{6}{\\left(t \\right)} e^{i \\alpha}}{2 \\pi} - \\frac{5 i \\omega \\left(b^{*}\\right)^{5}{\\left(t \\right)}}{\\pi} + \\frac{5 \\left(b^{*}\\right)^{4}{\\left(t \\right)} \\frac{d}{d t} b^{*}{\\left(t \\right)}}{2 \\pi}}{\\left(e^{1.0 i \\theta}\\right)^{10.0}}$"
      ],
      "text/plain": [
       "-13*H*a^*(t)**6*exp(-I*alpha)/(4*pi*exp(1.0*I*theta)**13.0) - 7*H*b^*(t)**6*exp(-I*alpha)/(2*pi*exp(1.0*I*theta)**14.0) - 13*H^**a(t)**6*exp(I*alpha)*exp(1.0*I*theta)**13.0/(4*pi) - 7*H^**b(t)**6*exp(I*alpha)*exp(1.0*I*theta)**14.0/(2*pi) + (-11*H*a^*(t)**5*exp(-I*alpha)/(4*pi) - 11*I*omega*a^*(t)**6/(2*pi) + 3*a^*(t)**5*Derivative(a^*(t), t)/pi)/exp(1.0*I*theta)**11.0 + (-3*H*b^*(t)**5*exp(-I*alpha)/pi - 6*I*omega*b^*(t)**6/pi + 3*b^*(t)**5*Derivative(b^*(t), t)/pi)/exp(1.0*I*theta)**12.0 + (-11*H^**a(t)**5*exp(I*alpha)/(4*pi) + 11*I*omega*a(t)**6/(2*pi) + 3*a(t)**5*Derivative(a(t), t)/pi)*exp(1.0*I*theta)**11.0 + (-3*H^**b(t)**5*exp(I*alpha)/pi + 6*I*omega*b(t)**6/pi + 3*b(t)**5*Derivative(b(t), t)/pi)*exp(1.0*I*theta)**12.0 + (-H*exp(-I*alpha)/(2*pi) + H^**b^*(t)**2*exp(I*alpha)/(2*pi) - I*omega*b^*(t)/pi + Derivative(b^*(t), t)/(2*pi))/exp(1.0*I*theta)**2.0 + (-H*a(t)*exp(-I*alpha)/(4*pi) + H^**a^*(t)**2*exp(I*alpha)/(4*pi) - I*omega*a^*(t)/(2*pi) + Derivative(a^*(t), t)/(2*pi))/exp(1.0*I*theta)**1.0 + (H*a(t)**2*exp(-I*alpha)/(4*pi) - H^**a^*(t)*exp(I*alpha)/(4*pi) + I*omega*a(t)/(2*pi) + Derivative(a(t), t)/(2*pi))*exp(1.0*I*theta)**1.0 + (3*H*a(t)**3*exp(-I*alpha)/(4*pi) - 3*H^**a(t)*exp(I*alpha)/(4*pi) + 3*I*omega*a(t)**2/(2*pi) + a(t)*Derivative(a(t), t)/pi)*exp(1.0*I*theta)**3.0 + (5*H*a(t)**4*exp(-I*alpha)/(4*pi) - 5*H^**a(t)**2*exp(I*alpha)/(4*pi) + 5*I*omega*a(t)**3/(2*pi) + 3*a(t)**2*Derivative(a(t), t)/(2*pi))*exp(1.0*I*theta)**5.0 + (7*H*a(t)**5*exp(-I*alpha)/(4*pi) - 7*H^**a(t)**3*exp(I*alpha)/(4*pi) + 7*I*omega*a(t)**4/(2*pi) + 2*a(t)**3*Derivative(a(t), t)/pi)*exp(1.0*I*theta)**7.0 + (9*H*a(t)**6*exp(-I*alpha)/(4*pi) - 9*H^**a(t)**4*exp(I*alpha)/(4*pi) + 9*I*omega*a(t)**5/(2*pi) + 5*a(t)**4*Derivative(a(t), t)/(2*pi))*exp(1.0*I*theta)**9.0 + (-3*H*a^*(t)*exp(-I*alpha)/(4*pi) + 3*H^**a^*(t)**3*exp(I*alpha)/(4*pi) - 3*I*omega*a^*(t)**2/(2*pi) + a^*(t)*Derivative(a^*(t), t)/pi)/exp(1.0*I*theta)**3.0 + (-5*H*a^*(t)**2*exp(-I*alpha)/(4*pi) + 5*H^**a^*(t)**4*exp(I*alpha)/(4*pi) - 5*I*omega*a^*(t)**3/(2*pi) + 3*a^*(t)**2*Derivative(a^*(t), t)/(2*pi))/exp(1.0*I*theta)**5.0 + (-7*H*a^*(t)**3*exp(-I*alpha)/(4*pi) + 7*H^**a^*(t)**5*exp(I*alpha)/(4*pi) - 7*I*omega*a^*(t)**4/(2*pi) + 2*a^*(t)**3*Derivative(a^*(t), t)/pi)/exp(1.0*I*theta)**7.0 + (-9*H*a^*(t)**4*exp(-I*alpha)/(4*pi) + 9*H^**a^*(t)**6*exp(I*alpha)/(4*pi) - 9*I*omega*a^*(t)**5/(2*pi) + 5*a^*(t)**4*Derivative(a^*(t), t)/(2*pi))/exp(1.0*I*theta)**9.0 + (H*b(t)**2*exp(-I*alpha)/(2*pi) - H^**exp(I*alpha)/(2*pi) + I*omega*b(t)/pi + Derivative(b(t), t)/(2*pi))*exp(1.0*I*theta)**2.0 + (H*b(t)**3*exp(-I*alpha)/pi - H^**b(t)*exp(I*alpha)/pi + 2*I*omega*b(t)**2/pi + b(t)*Derivative(b(t), t)/pi)*exp(1.0*I*theta)**4.0 + (3*H*b(t)**4*exp(-I*alpha)/(2*pi) - 3*H^**b(t)**2*exp(I*alpha)/(2*pi) + 3*I*omega*b(t)**3/pi + 3*b(t)**2*Derivative(b(t), t)/(2*pi))*exp(1.0*I*theta)**6.0 + (2*H*b(t)**5*exp(-I*alpha)/pi - 2*H^**b(t)**3*exp(I*alpha)/pi + 4*I*omega*b(t)**4/pi + 2*b(t)**3*Derivative(b(t), t)/pi)*exp(1.0*I*theta)**8.0 + (5*H*b(t)**6*exp(-I*alpha)/(2*pi) - 5*H^**b(t)**4*exp(I*alpha)/(2*pi) + 5*I*omega*b(t)**5/pi + 5*b(t)**4*Derivative(b(t), t)/(2*pi))*exp(1.0*I*theta)**10.0 + (-H*b^*(t)*exp(-I*alpha)/pi + H^**b^*(t)**3*exp(I*alpha)/pi - 2*I*omega*b^*(t)**2/pi + b^*(t)*Derivative(b^*(t), t)/pi)/exp(1.0*I*theta)**4.0 + (-3*H*b^*(t)**2*exp(-I*alpha)/(2*pi) + 3*H^**b^*(t)**4*exp(I*alpha)/(2*pi) - 3*I*omega*b^*(t)**3/pi + 3*b^*(t)**2*Derivative(b^*(t), t)/(2*pi))/exp(1.0*I*theta)**6.0 + (-2*H*b^*(t)**3*exp(-I*alpha)/pi + 2*H^**b^*(t)**5*exp(I*alpha)/pi - 4*I*omega*b^*(t)**4/pi + 2*b^*(t)**3*Derivative(b^*(t), t)/pi)/exp(1.0*I*theta)**8.0 + (-5*H*b^*(t)**4*exp(-I*alpha)/(2*pi) + 5*H^**b^*(t)**6*exp(I*alpha)/(2*pi) - 5*I*omega*b^*(t)**5/pi + 5*b^*(t)**4*Derivative(b^*(t), t)/(2*pi))/exp(1.0*I*theta)**10.0"
      ]
     },
     "execution_count": 15,
     "metadata": {},
     "output_type": "execute_result"
    }
   ],
   "source": [
    "col_"
   ]
  },
  {
   "cell_type": "code",
   "execution_count": 16,
   "metadata": {},
   "outputs": [],
   "source": [
    "fa = -I*omega*a + 1/2 *(Hs*a_s*E**(I*alpha)-H*a**2*E**(-I*alpha))"
   ]
  },
  {
   "cell_type": "code",
   "execution_count": 18,
   "metadata": {},
   "outputs": [
    {
     "ename": "TypeError",
     "evalue": "'Reals' object is not callable",
     "output_type": "error",
     "traceback": [
      "\u001b[0;31m---------------------------------------------------------------------------\u001b[0m",
      "\u001b[0;31mTypeError\u001b[0m                                 Traceback (most recent call last)",
      "Cell \u001b[0;32mIn[18], line 1\u001b[0m\n\u001b[0;32m----> 1\u001b[0m \u001b[43mReals\u001b[49m\u001b[43m(\u001b[49m\u001b[43mfa\u001b[49m\u001b[43m)\u001b[49m\n",
      "\u001b[0;31mTypeError\u001b[0m: 'Reals' object is not callable"
     ]
    }
   ],
   "source": [
    "Reals(fa)"
   ]
  },
  {
   "cell_type": "code",
   "execution_count": 26,
   "metadata": {},
   "outputs": [],
   "source": [
    "def to_complex(Zs):\n",
    "    a1real,a1imag,b1real,b1imag,a2real,a2imag,b2real,b2imag = Zs.T\n",
    "    a1 = a1real + 1j*a1imag\n",
    "    a2 = a2real + 1j*a2imag\n",
    "    b1 = b1real + 1j*b1imag\n",
    "    b2 = b2real + 1j*b2imag\n",
    "    return a1,b1,a2,b2"
   ]
  },
  {
   "cell_type": "code",
   "execution_count": 54,
   "metadata": {},
   "outputs": [],
   "source": [
    "@jit(nopython=True)\n",
    "def RK4(f, y0, t, args=()):\n",
    "    n = len(t)\n",
    "    y = np.zeros((n,len(y0)))\n",
    "    y[0] = y0\n",
    "\n",
    "    for i in range(n - 1):\n",
    "        h = t[i + 1] - t[i]\n",
    "        k1 = f(y[i], t[i], *args)\n",
    "        k2 = f(y[i] + k1 * h / 2.0, t[i] + h / 2.0, *args)\n",
    "        k3 = f(y[i] + k2 * h / 2.0, t[i] + h / 2.0, *args)\n",
    "        k4 = f(y[i] + k3 * h, t[i] + h, *args)\n",
    "        y[i + 1] = y[i] + (h / 6.0) * (k1 + 2 * k2 + 2 * k3 + k4)\n",
    "    return y\n",
    "\n",
    "@jit(nopython=True)\n",
    "def dZ_dt(Zs,t,alpha,beta,eta1,eta2):\n",
    "    a1real,a1imag,b1real,b1imag,a2real,a2imag,b2real,b2imag = Zs\n",
    "    a1 = a1real + 1j*a1imag\n",
    "    a2 = a2real + 1j*a2imag\n",
    "    b1 = b1real + 1j*b1imag\n",
    "    b2 = b2real + 1j*b2imag\n",
    "    Z11 = eta1*np.conj(a1)\n",
    "    Z12 = eta2*np.conj(a2)\n",
    "    H1 = Z11**2 + 2*beta*Z11*Z12 + beta**2*Z12**2\n",
    "    H2 = Z12**2 + 2*beta*Z11*Z12 + beta**2*Z11**2\n",
    "    \n",
    "    da1 = 1/2 *(np.conj(H1)*np.conj(a1)*np.exp(1j*alpha) - H1*a1**2*np.exp(-1j*alpha) )\n",
    "    db1 = (np.conj(H1)*np.exp(1j*alpha) - H1*b1**2*np.exp(-1j*alpha) )\n",
    "    da2 = 1/2 *(np.conj(H2)*np.conj(a2)*np.exp(1j*alpha) - H2*a2**2*np.exp(-1j*alpha) )\n",
    "    db2 = (np.conj(H2)*np.exp(1j*alpha) - H2*b2**2*np.exp(-1j*alpha) )\n",
    "    return np.array([da1.real,da1.imag,db1.real,db1.imag,da2.real,da2.imag,db2.real,db2.imag])\n",
    "\n",
    "def to_complex(Zs):\n",
    "    a1real,a1imag,b1real,b1imag,a2real,a2imag,b2real,b2imag = Zs.T\n",
    "    a1 = a1real + 1j*a1imag\n",
    "    a2 = a2real + 1j*a2imag\n",
    "    b1 = b1real + 1j*b1imag\n",
    "    b2 = b2real + 1j*b2imag\n",
    "    return a1,b1,a2,b2"
   ]
  },
  {
   "cell_type": "code",
   "execution_count": 56,
   "metadata": {},
   "outputs": [],
   "source": [
    "alpha = 1.2\n",
    "beta = 0.2\n",
    "eta1 = 0.2\n",
    "eta2 = 0.1"
   ]
  },
  {
   "cell_type": "code",
   "execution_count": 60,
   "metadata": {},
   "outputs": [],
   "source": [
    "t = np.arange(0,5000,0.01)"
   ]
  },
  {
   "cell_type": "code",
   "execution_count": 68,
   "metadata": {},
   "outputs": [],
   "source": [
    "A1 = 1\n",
    "A2 = np.sqrt(0.6)\n",
    "shift = 0.0 * np.pi\n",
    "\n",
    "a1 =  eta1*0.2 + 0j\n",
    "b1 =  0.2 + 0j\n",
    "a2 =  eta2 * np.sqrt(0.6) + 0j\n",
    "b2 =  0.6 + 0j\n",
    "\n",
    "Zs = RK4(dZ_dt,np.array([a1.real,a1.imag,b1.real,b1.imag,a2.real,a2.imag,b2.real,b2.imag]),t,args=(alpha,beta,eta1,eta2))#[::1000]\n",
    "a1s,b1s,a2s,b2s = to_complex(Zs)\n"
   ]
  },
  {
   "cell_type": "code",
   "execution_count": 69,
   "metadata": {},
   "outputs": [
    {
     "data": {
      "text/plain": [
       "(0.0, 1.0)"
      ]
     },
     "execution_count": 69,
     "metadata": {},
     "output_type": "execute_result"
    },
    {
     "data": {
      "image/png": "[encoded data removed]",
      "text/plain": [
       "<Figure size 640x480 with 1 Axes>"
      ]
     },
     "metadata": {},
     "output_type": "display_data"
    }
   ],
   "source": [
    "plt.plot(t,np.abs(a1s))\n",
    "plt.plot(t,np.abs(a2s))\n",
    "plt.plot(t,np.abs(b2s))\n",
    "plt.ylim(0,1)"
   ]
  },
  {
   "cell_type": "code",
   "execution_count": null,
   "metadata": {},
   "outputs": [],
   "source": []
  }
 ],
 "metadata": {
  "kernelspec": {
   "display_name": "Python 3",
   "language": "python",
   "name": "python3"
  },
  "language_info": {
   "codemirror_mode": {
    "name": "ipython",
    "version": 3
   },
   "file_extension": ".py",
   "mimetype": "text/x-python",
   "name": "python",
   "nbconvert_exporter": "python",
   "pygments_lexer": "ipython3",
   "version": "3.11.9"
  }
 },
 "nbformat": 4,
 "nbformat_minor": 2
}
