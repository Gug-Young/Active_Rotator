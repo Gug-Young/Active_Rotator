{
 "cells": [
  {
   "cell_type": "code",
   "execution_count": 2,
   "metadata": {},
   "outputs": [],
   "source": [
    "from sympy import *"
   ]
  },
  {
   "cell_type": "code",
   "execution_count": 24,
   "metadata": {},
   "outputs": [],
   "source": [
    "r, mu, alpha,beta , nu, psi = symbols('r mu alpha beta nu psi')"
   ]
  },
  {
   "cell_type": "code",
   "execution_count": 232,
   "metadata": {},
   "outputs": [],
   "source": [
    "eqpsi0 = (1+r**2)/(2*r)*(mu*r*sin(alpha)-nu*sin(psi-alpha)) - mu*sin(alpha) - nu*r*sin(psi+alpha)\n",
    "eqpsi1 = eqpsi0.subs(alpha,pi/2 - beta)\n",
    "\n",
    "eqr0 = (1-r**2)/(2)*(mu*r*cos(alpha)+nu*cos(psi-alpha))\n",
    "eqr1 = eqr0.subs(alpha,pi/2 - beta)"
   ]
  },
  {
   "cell_type": "code",
   "execution_count": 234,
   "metadata": {},
   "outputs": [],
   "source": [
    "A_ans = (sin(beta+psi) + r*sin(beta)) / (sin(beta+psi) - r*sin(beta))\n",
    "A = symbols('A')\n",
    "mu1 = (1+A)/2\n",
    "nu1 = (1-A)/2\n",
    "\n",
    "eq_psi = eqpsi1.subs(nu,nu1).subs(mu,mu1).simplify()\n",
    "eq_r = eqr1.subs(nu,nu1).subs(mu,mu1).simplify()"
   ]
  },
  {
   "cell_type": "code",
   "execution_count": 235,
   "metadata": {},
   "outputs": [
    {
     "data": {
      "image/png": "[encoded data removed]",
      "text/latex": [
       "$\\displaystyle \\frac{\\left(1 - r^{2}\\right) \\left(r \\left(A + 1\\right) \\sin{\\left(\\beta \\right)} + \\left(1 - A\\right) \\sin{\\left(\\beta + \\psi \\right)}\\right)}{4}$"
      ],
      "text/plain": [
       "⎛     2⎞                                        \n",
       "⎝1 - r ⎠⋅(r⋅(A + 1)⋅sin(β) + (1 - A)⋅sin(β + ψ))\n",
       "────────────────────────────────────────────────\n",
       "                       4                        "
      ]
     },
     "execution_count": 235,
     "metadata": {},
     "output_type": "execute_result"
    }
   ],
   "source": [
    "eq_r"
   ]
  },
  {
   "cell_type": "code",
   "execution_count": 236,
   "metadata": {},
   "outputs": [
    {
     "data": {
      "image/png": "[encoded data removed]",
      "text/latex": [
       "$\\displaystyle \\frac{\\left(1 - r^{2}\\right) \\left(r \\left(A + 1\\right) \\sin{\\left(\\beta \\right)} + \\left(1 - A\\right) \\sin{\\left(\\beta + \\psi \\right)}\\right)}{4}$"
      ],
      "text/plain": [
       "⎛     2⎞                                        \n",
       "⎝1 - r ⎠⋅(r⋅(A + 1)⋅sin(β) + (1 - A)⋅sin(β + ψ))\n",
       "────────────────────────────────────────────────\n",
       "                       4                        "
      ]
     },
     "execution_count": 236,
     "metadata": {},
     "output_type": "execute_result"
    }
   ],
   "source": [
    "eq_r"
   ]
  },
  {
   "cell_type": "code",
   "execution_count": 237,
   "metadata": {},
   "outputs": [],
   "source": [
    "EQ = Eq(0,eq_psi)"
   ]
  },
  {
   "cell_type": "code",
   "execution_count": 238,
   "metadata": {},
   "outputs": [],
   "source": [
    "d_rr =eqr1.diff(r).simplify()\n",
    "d_rpsi =eqr1.diff(psi).simplify()\n",
    "\n",
    "\n",
    "d_psir =eqpsi1.diff(r).simplify()\n",
    "d_psipsi =eqpsi1.diff(psi).simplify()\n"
   ]
  },
  {
   "cell_type": "code",
   "execution_count": 239,
   "metadata": {},
   "outputs": [],
   "source": [
    "SOL_r = solve(eq_psi.subs(A,A_ans).simplify(),r)[1]"
   ]
  },
  {
   "cell_type": "code",
   "execution_count": 284,
   "metadata": {},
   "outputs": [],
   "source": [
    "\n",
    "A_ans = (sin(beta+psi) + r*sin(beta)) / (sin(beta+psi) - r*sin(beta))\n",
    "# A = symbols('A')\n",
    "mu2 = (1+A_ans)/2\n",
    "nu2 = (1-A_ans)/2\n",
    "\n",
    "eq11 = eqr1.diff(r).subs([(mu,mu2),(nu,nu2)]).simplify()\n",
    "eq12 = eqr1.diff(psi).subs([(mu,mu2),(nu,nu2)]).simplify()\n",
    "eq21 = eqpsi1.diff(r).subs([(mu,mu2),(nu,nu2)]).simplify()\n",
    "eq22 = eqpsi1.diff(psi).subs([(mu,mu2),(nu,nu2)]).simplify()\n",
    "J = Matrix([[eq11,eq12],[eq21,eq22]])"
   ]
  },
  {
   "cell_type": "code",
   "execution_count": 290,
   "metadata": {},
   "outputs": [
    {
     "name": "stdout",
     "output_type": "stream",
     "text": [
      "\\left[\\begin{matrix}\\frac{\\left(\\frac{r^{2}}{2} - \\frac{1}{2}\\right) \\sin{\\left(\\beta \\right)} \\sin{\\left(\\beta + \\psi \\right)}}{r \\sin{\\left(\\beta \\right)} - \\sin{\\left(\\beta + \\psi \\right)}} & \\frac{r \\left(1 - r^{2}\\right) \\sin{\\left(\\beta \\right)} \\cos{\\left(\\beta + \\psi \\right)}}{2 \\left(r \\sin{\\left(\\beta \\right)} - \\sin{\\left(\\beta + \\psi \\right)}\\right)}\\\\- \\frac{3 r^{2} \\sin{\\left(\\beta \\right)} \\cos{\\left(\\beta - \\psi \\right)} + 2 r^{2} \\sin{\\left(\\psi \\right)} \\cos^{2}{\\left(\\beta \\right)} + \\sin{\\left(\\beta \\right)} \\cos{\\left(\\beta + \\psi \\right)}}{2 r \\left(r \\sin{\\left(\\beta \\right)} - \\sin{\\left(\\beta + \\psi \\right)}\\right)} & \\frac{\\left(- 2 r^{2} \\sin{\\left(\\beta - \\psi \\right)} + \\left(- r^{2} - 1\\right) \\sin{\\left(\\beta + \\psi \\right)}\\right) \\sin{\\left(\\beta \\right)}}{2 \\left(r \\sin{\\left(\\beta \\right)} - \\sin{\\left(\\beta + \\psi \\right)}\\right)}\\end{matrix}\\right]\n"
     ]
    }
   ],
   "source": [
    "print_latex(J)"
   ]
  },
  {
   "cell_type": "code",
   "execution_count": 282,
   "metadata": {},
   "outputs": [],
   "source": [
    "\n",
    "A_ans = (sin(beta+psi) + r*sin(beta)) / (sin(beta+psi) - r*sin(beta))\n",
    "# A = symbols('A')\n",
    "mu2 = (1+A_ans)/2\n",
    "nu2 = (1-A_ans)/2\n",
    "\n",
    "eq11 = eqr1.diff(r).simplify()\n",
    "eq12 = eqr1.diff(psi).simplify()\n",
    "eq21 = eqpsi1.diff(r).simplify()\n",
    "eq22 = eqpsi1.diff(psi).simplify()\n",
    "J = Matrix([[eq11,eq12],[eq21,eq22]])"
   ]
  },
  {
   "cell_type": "code",
   "execution_count": 295,
   "metadata": {},
   "outputs": [
    {
     "data": {
      "image/png": "[encoded data removed]",
      "text/latex": [
       "$\\displaystyle \\frac{\\left(\\frac{r^{2}}{2} - \\frac{1}{2}\\right) \\sin{\\left(\\beta \\right)} \\sin{\\left(\\beta + \\psi \\right)}}{r \\sin{\\left(\\beta \\right)} - \\sin{\\left(\\beta + \\psi \\right)}}$"
      ],
      "text/plain": [
       "⎛ 2    ⎞                  \n",
       "⎜r    1⎟                  \n",
       "⎜── - ─⎟⋅sin(β)⋅sin(β + ψ)\n",
       "⎝2    2⎠                  \n",
       "──────────────────────────\n",
       "  r⋅sin(β) - sin(β + ψ)   "
      ]
     },
     "execution_count": 295,
     "metadata": {},
     "output_type": "execute_result"
    }
   ],
   "source": [
    "eqr1.diff(r).subs([(mu,mu2),(nu,nu2)]).simplify()"
   ]
  },
  {
   "cell_type": "code",
   "execution_count": 277,
   "metadata": {},
   "outputs": [],
   "source": [
    "J = Matrix([[d_rr,d_rpsi],[d_psir,d_psipsi]])"
   ]
  },
  {
   "cell_type": "code",
   "execution_count": 286,
   "metadata": {},
   "outputs": [],
   "source": [
    "J_DET =  J.det().factor()"
   ]
  },
  {
   "cell_type": "code",
   "execution_count": 308,
   "metadata": {},
   "outputs": [
    {
     "name": "stdout",
     "output_type": "stream",
     "text": [
      "\\left[ -1, \\  1, \\  - \\sqrt{- \\frac{\\sin{\\left(\\beta \\right)}}{\\sin{\\left(\\beta - 2 \\psi \\right)} + 2 \\sin{\\left(\\beta + 2 \\psi \\right)}}}, \\  \\sqrt{- \\frac{\\sin{\\left(\\beta \\right)}}{\\sin{\\left(\\beta - 2 \\psi \\right)} + 2 \\sin{\\left(\\beta + 2 \\psi \\right)}}}\\right]\n"
     ]
    }
   ],
   "source": [
    "print_latex(solve(J_DET,r))"
   ]
  },
  {
   "cell_type": "code",
   "execution_count": 306,
   "metadata": {},
   "outputs": [],
   "source": [
    "TEMP = J_DET.subs(mu,(1+A_ans)/2).subs(nu,(1-A_ans)/2).factor().factor(r)#.simplify().factor()"
   ]
  },
  {
   "cell_type": "code",
   "execution_count": 307,
   "metadata": {},
   "outputs": [
    {
     "data": {
      "image/png": "[encoded data removed]",
      "text/latex": [
       "$\\displaystyle - \\frac{\\left(r - 1\\right) \\left(r + 1\\right) \\left(r^{2} \\cdot \\left(2 \\sin{\\left(\\beta \\right)} \\sin{\\left(\\beta - \\psi \\right)} \\sin{\\left(\\beta + \\psi \\right)} + \\sin{\\left(\\beta \\right)} \\sin^{2}{\\left(\\beta + \\psi \\right)} + 3 \\sin{\\left(\\beta \\right)} \\cos{\\left(\\beta - \\psi \\right)} \\cos{\\left(\\beta + \\psi \\right)} + 2 \\sin{\\left(\\psi \\right)} \\cos^{2}{\\left(\\beta \\right)} \\cos{\\left(\\beta + \\psi \\right)}\\right) + \\sin{\\left(\\beta \\right)} \\sin^{2}{\\left(\\beta + \\psi \\right)} + \\sin{\\left(\\beta \\right)} \\cos^{2}{\\left(\\beta + \\psi \\right)}\\right) \\sin{\\left(\\beta \\right)}}{4 \\left(r \\sin{\\left(\\beta \\right)} - \\sin{\\left(\\beta + \\psi \\right)}\\right)^{2}}$"
      ],
      "text/plain": [
       "                 ⎛ 2 ⎛                                           2            \n",
       "-(r - 1)⋅(r + 1)⋅⎝r ⋅⎝2⋅sin(β)⋅sin(β - ψ)⋅sin(β + ψ) + sin(β)⋅sin (β + ψ) + 3⋅\n",
       "──────────────────────────────────────────────────────────────────────────────\n",
       "                                                                              \n",
       "                                                                              \n",
       "\n",
       "                                           2              ⎞             2     \n",
       "sin(β)⋅cos(β - ψ)⋅cos(β + ψ) + 2⋅sin(ψ)⋅cos (β)⋅cos(β + ψ)⎠ + sin(β)⋅sin (β + \n",
       "──────────────────────────────────────────────────────────────────────────────\n",
       "                            2                                                 \n",
       "   4⋅(r⋅sin(β) - sin(β + ψ))                                                  \n",
       "\n",
       "               2       ⎞        \n",
       "ψ) + sin(β)⋅cos (β + ψ)⎠⋅sin(β) \n",
       "────────────────────────────────\n",
       "                                \n",
       "                                "
      ]
     },
     "execution_count": 307,
     "metadata": {},
     "output_type": "execute_result"
    }
   ],
   "source": [
    "TEMP"
   ]
  },
  {
   "cell_type": "code",
   "execution_count": 305,
   "metadata": {},
   "outputs": [
    {
     "name": "stdout",
     "output_type": "stream",
     "text": [
      "- \\frac{\\left(r - 1\\right) \\left(r + 1\\right) \\left(2 r^{2} \\sin{\\left(\\beta \\right)} \\sin{\\left(\\beta - \\psi \\right)} \\sin{\\left(\\beta + \\psi \\right)} + r^{2} \\sin{\\left(\\beta \\right)} \\sin^{2}{\\left(\\beta + \\psi \\right)} + 3 r^{2} \\sin{\\left(\\beta \\right)} \\cos{\\left(\\beta - \\psi \\right)} \\cos{\\left(\\beta + \\psi \\right)} + 2 r^{2} \\sin{\\left(\\psi \\right)} \\cos^{2}{\\left(\\beta \\right)} \\cos{\\left(\\beta + \\psi \\right)} + \\sin{\\left(\\beta \\right)} \\sin^{2}{\\left(\\beta + \\psi \\right)} + \\sin{\\left(\\beta \\right)} \\cos^{2}{\\left(\\beta + \\psi \\right)}\\right) \\sin{\\left(\\beta \\right)}}{4 \\left(r \\sin{\\left(\\beta \\right)} - \\sin{\\left(\\beta + \\psi \\right)}\\right)^{2}}\n"
     ]
    }
   ],
   "source": [
    "print_latex(TEMP)"
   ]
  },
  {
   "cell_type": "code",
   "execution_count": 281,
   "metadata": {},
   "outputs": [
    {
     "data": {
      "image/png": "[encoded data removed]",
      "text/latex": [
       "$\\displaystyle \\frac{\\left(\\sqrt{\\frac{\\sin{\\left(2 \\beta + \\psi \\right)}}{2 \\sin{\\left(\\psi \\right)} + \\sin{\\left(2 \\beta - \\psi \\right)}}} - 1\\right) \\left(\\sqrt{\\frac{\\sin{\\left(2 \\beta + \\psi \\right)}}{2 \\sin{\\left(\\psi \\right)} + \\sin{\\left(2 \\beta - \\psi \\right)}}} + 1\\right) \\left(- 4 \\left(\\cos{\\left(2 \\beta \\right)} - 1\\right)^{2} \\cos{\\left(\\beta - 3 \\psi \\right)} - 20 \\left(\\cos{\\left(2 \\beta \\right)} - 1\\right)^{2} \\cos{\\left(\\beta - \\psi \\right)} + 20 \\left(\\cos{\\left(2 \\beta \\right)} - 1\\right)^{2} \\cos{\\left(\\beta + \\psi \\right)} - 28 \\left(\\cos{\\left(2 \\beta \\right)} - 1\\right)^{2} \\cos{\\left(\\beta + 3 \\psi \\right)} - 22 \\cos{\\left(\\beta - 3 \\psi \\right)} - 30 \\cos{\\left(\\beta - \\psi \\right)} - 18 \\cos{\\left(\\beta + \\psi \\right)} + 22 \\cos{\\left(\\beta + 3 \\psi \\right)} + 3 \\cos{\\left(3 \\beta - 3 \\psi \\right)} + 7 \\cos{\\left(3 \\beta - \\psi \\right)} + 25 \\cos{\\left(3 \\beta + \\psi \\right)} + 5 \\cos{\\left(3 \\beta + 3 \\psi \\right)} + \\cos{\\left(5 \\beta - 3 \\psi \\right)} + 5 \\cos{\\left(5 \\beta - \\psi \\right)} - 5 \\cos{\\left(5 \\beta + \\psi \\right)} + 7 \\cos{\\left(5 \\beta + 3 \\psi \\right)}\\right) \\sin{\\left(\\beta \\right)}}{128 \\left(\\sqrt{\\frac{\\sin{\\left(2 \\beta + \\psi \\right)}}{2 \\sin{\\left(\\psi \\right)} + \\sin{\\left(2 \\beta - \\psi \\right)}}} \\sin{\\left(\\beta \\right)} - \\sin{\\left(\\beta + \\psi \\right)}\\right)^{2} \\cdot \\left(2 \\sin{\\left(\\psi \\right)} + \\sin{\\left(2 \\beta - \\psi \\right)}\\right)}$"
      ],
      "text/plain": [
       "⎛    _________________________    ⎞ ⎛    _________________________    ⎞       \n",
       "⎜   ╱       sin(2⋅β + ψ)          ⎟ ⎜   ╱       sin(2⋅β + ψ)          ⎟ ⎛     \n",
       "⎜  ╱  ───────────────────────  - 1⎟⋅⎜  ╱  ───────────────────────  + 1⎟⋅⎝- 4⋅(\n",
       "⎝╲╱   2⋅sin(ψ) + sin(2⋅β - ψ)     ⎠ ⎝╲╱   2⋅sin(ψ) + sin(2⋅β - ψ)     ⎠       \n",
       "──────────────────────────────────────────────────────────────────────────────\n",
       "                                                                              \n",
       "                                                                              \n",
       "                                                                              \n",
       "                                                                              \n",
       "                                                                              \n",
       "\n",
       "                                                                              \n",
       "             2                                 2                              \n",
       "cos(2⋅β) - 1) ⋅cos(β - 3⋅ψ) - 20⋅(cos(2⋅β) - 1) ⋅cos(β - ψ) + 20⋅(cos(2⋅β) - 1\n",
       "                                                                              \n",
       "──────────────────────────────────────────────────────────────────────────────\n",
       "                                                                              \n",
       "                                                                              \n",
       "                                                                              \n",
       "                                                                              \n",
       "                                                                              \n",
       "\n",
       "                                                                              \n",
       " 2                               2                                            \n",
       ") ⋅cos(β + ψ) - 28⋅(cos(2⋅β) - 1) ⋅cos(β + 3⋅ψ) - 22⋅cos(β - 3⋅ψ) - 30⋅cos(β -\n",
       "                                                                              \n",
       "──────────────────────────────────────────────────────────────────────────────\n",
       "                                                                     2        \n",
       "                  ⎛    _________________________                    ⎞         \n",
       "                  ⎜   ╱       sin(2⋅β + ψ)                          ⎟         \n",
       "              128⋅⎜  ╱  ─────────────────────── ⋅sin(β) - sin(β + ψ)⎟ ⋅(2⋅sin(\n",
       "                  ⎝╲╱   2⋅sin(ψ) + sin(2⋅β - ψ)                     ⎠         \n",
       "\n",
       "                                                                              \n",
       "                                                                              \n",
       " ψ) - 18⋅cos(β + ψ) + 22⋅cos(β + 3⋅ψ) + 3⋅cos(3⋅β - 3⋅ψ) + 7⋅cos(3⋅β - ψ) + 25\n",
       "                                                                              \n",
       "──────────────────────────────────────────────────────────────────────────────\n",
       "                                                                              \n",
       "                                                                              \n",
       "                                                                              \n",
       "ψ) + sin(2⋅β - ψ))                                                            \n",
       "                                                                              \n",
       "\n",
       "                                                                              \n",
       "                                                                              \n",
       "⋅cos(3⋅β + ψ) + 5⋅cos(3⋅β + 3⋅ψ) + cos(5⋅β - 3⋅ψ) + 5⋅cos(5⋅β - ψ) - 5⋅cos(5⋅β\n",
       "                                                                              \n",
       "──────────────────────────────────────────────────────────────────────────────\n",
       "                                                                              \n",
       "                                                                              \n",
       "                                                                              \n",
       "                                                                              \n",
       "                                                                              \n",
       "\n",
       "                                \n",
       "                        ⎞       \n",
       " + ψ) + 7⋅cos(5⋅β + 3⋅ψ)⎠⋅sin(β)\n",
       "                                \n",
       "────────────────────────────────\n",
       "                                \n",
       "                                \n",
       "                                \n",
       "                                \n",
       "                                "
      ]
     },
     "execution_count": 281,
     "metadata": {},
     "output_type": "execute_result"
    }
   ],
   "source": [
    "TEMP.subs(r,SOL_r).simplify()"
   ]
  },
  {
   "cell_type": "code",
   "execution_count": 303,
   "metadata": {},
   "outputs": [
    {
     "data": {
      "image/png": "[encoded data removed]",
      "text/latex": [
       "$\\displaystyle \\left[ - \\frac{\\left(\\sin{\\left(\\beta - 2 \\psi \\right)} + 2 \\sin{\\left(\\beta + 2 \\psi \\right)}\\right) \\sin{\\left(2 \\beta + \\psi \\right)}}{2 \\sin{\\left(\\psi \\right)} + \\sin{\\left(2 \\beta - \\psi \\right)}}\\right]$"
      ],
      "text/plain": [
       "⎡-(sin(β - 2⋅ψ) + 2⋅sin(β + 2⋅ψ))⋅sin(2⋅β + ψ) ⎤\n",
       "⎢──────────────────────────────────────────────⎥\n",
       "⎣           2⋅sin(ψ) + sin(2⋅β - ψ)            ⎦"
      ]
     },
     "execution_count": 303,
     "metadata": {},
     "output_type": "execute_result"
    }
   ],
   "source": [
    "solve(Eq(solve(Eq(0,TEMP),r)[2],SOL_r),sin(beta))"
   ]
  },
  {
   "cell_type": "code",
   "execution_count": 197,
   "metadata": {},
   "outputs": [],
   "source": [
    "J_SUB = J.subs(r,SOL_r).subs(A,A_ans)\n",
    "J_sim = Matrix([[J_SUB[0].simplify(),J_SUB[1].simplify()],[J_SUB[2].simplify(),J_SUB[3].simplify()]]) "
   ]
  },
  {
   "cell_type": "code",
   "execution_count": 198,
   "metadata": {},
   "outputs": [
    {
     "data": {
      "text/latex": [
       "$\\displaystyle \\left[\\begin{matrix}- \\frac{\\sqrt{\\frac{\\sin{\\left(2 \\beta + \\psi \\right)}}{2 \\sin{\\left(\\psi \\right)} + \\sin{\\left(2 \\beta - \\psi \\right)}}} \\left(\\sqrt{\\frac{\\sin{\\left(2 \\beta + \\psi \\right)}}{2 \\sin{\\left(\\psi \\right)} + \\sin{\\left(2 \\beta - \\psi \\right)}}} \\left(1 + \\frac{r \\sin{\\left(\\beta \\right)} + \\sin{\\left(\\beta + \\psi \\right)}}{- r \\sin{\\left(\\beta \\right)} + \\sin{\\left(\\beta + \\psi \\right)}}\\right) \\sin{\\left(\\beta \\right)} - \\left(-1 + \\frac{r \\sin{\\left(\\beta \\right)} + \\sin{\\left(\\beta + \\psi \\right)}}{- r \\sin{\\left(\\beta \\right)} + \\sin{\\left(\\beta + \\psi \\right)}}\\right) \\sin{\\left(\\beta + \\psi \\right)}\\right)}{2} - \\frac{\\left(-1 + \\frac{\\sin{\\left(2 \\beta + \\psi \\right)}}{2 \\sin{\\left(\\psi \\right)} + \\sin{\\left(2 \\beta - \\psi \\right)}}\\right) \\left(1 + \\frac{r \\sin{\\left(\\beta \\right)} + \\sin{\\left(\\beta + \\psi \\right)}}{- r \\sin{\\left(\\beta \\right)} + \\sin{\\left(\\beta + \\psi \\right)}}\\right) \\sin{\\left(\\beta \\right)}}{4} & \\frac{\\left(-1 + \\frac{r \\sin{\\left(\\beta \\right)} + \\sin{\\left(\\beta + \\psi \\right)}}{- r \\sin{\\left(\\beta \\right)} + \\sin{\\left(\\beta + \\psi \\right)}}\\right) \\left(-1 + \\frac{\\sin{\\left(2 \\beta + \\psi \\right)}}{2 \\sin{\\left(\\psi \\right)} + \\sin{\\left(2 \\beta - \\psi \\right)}}\\right) \\cos{\\left(\\beta + \\psi \\right)}}{4}\\\\\\frac{\\sqrt{\\frac{\\sin{\\left(2 \\beta + \\psi \\right)}}{2 \\sin{\\left(\\psi \\right)} + \\sin{\\left(2 \\beta - \\psi \\right)}}} \\cos{\\left(\\beta \\right)}}{2} + \\frac{\\sqrt{\\frac{\\sin{\\left(2 \\beta + \\psi \\right)}}{2 \\sin{\\left(\\psi \\right)} + \\sin{\\left(2 \\beta - \\psi \\right)}}} \\left(r \\sin{\\left(\\beta \\right)} + \\sin{\\left(\\beta + \\psi \\right)}\\right) \\cos{\\left(\\beta \\right)}}{2 \\left(- r \\sin{\\left(\\beta \\right)} + \\sin{\\left(\\beta + \\psi \\right)}\\right)} - \\frac{\\left(2 \\sin{\\left(\\psi \\right)} + \\sin{\\left(2 \\beta - \\psi \\right)}\\right) \\cos{\\left(\\beta + \\psi \\right)}}{4 \\sin{\\left(2 \\beta + \\psi \\right)}} - \\frac{\\cos{\\left(\\beta - \\psi \\right)}}{2} + \\frac{\\cos{\\left(\\beta + \\psi \\right)}}{4} + \\frac{\\left(r \\sin{\\left(\\beta \\right)} + \\sin{\\left(\\beta + \\psi \\right)}\\right) \\left(2 \\sin{\\left(\\psi \\right)} + \\sin{\\left(2 \\beta - \\psi \\right)}\\right) \\cos{\\left(\\beta + \\psi \\right)}}{4 \\left(- r \\sin{\\left(\\beta \\right)} + \\sin{\\left(\\beta + \\psi \\right)}\\right) \\sin{\\left(2 \\beta + \\psi \\right)}} + \\frac{\\left(r \\sin{\\left(\\beta \\right)} + \\sin{\\left(\\beta + \\psi \\right)}\\right) \\cos{\\left(\\beta - \\psi \\right)}}{2 \\left(- r \\sin{\\left(\\beta \\right)} + \\sin{\\left(\\beta + \\psi \\right)}\\right)} - \\frac{\\left(r \\sin{\\left(\\beta \\right)} + \\sin{\\left(\\beta + \\psi \\right)}\\right) \\cos{\\left(\\beta + \\psi \\right)}}{4 \\left(- r \\sin{\\left(\\beta \\right)} + \\sin{\\left(\\beta + \\psi \\right)}\\right)} & \\frac{\\left(-1 + \\frac{r \\sin{\\left(\\beta \\right)} + \\sin{\\left(\\beta + \\psi \\right)}}{- r \\sin{\\left(\\beta \\right)} + \\sin{\\left(\\beta + \\psi \\right)}}\\right) \\left(\\left(1 + \\frac{\\sin{\\left(2 \\beta + \\psi \\right)}}{2 \\sin{\\left(\\psi \\right)} + \\sin{\\left(2 \\beta - \\psi \\right)}}\\right) \\sin{\\left(\\beta + \\psi \\right)} + \\frac{2 \\sin{\\left(\\beta - \\psi \\right)} \\sin{\\left(2 \\beta + \\psi \\right)}}{2 \\sin{\\left(\\psi \\right)} + \\sin{\\left(2 \\beta - \\psi \\right)}}\\right)}{4 \\sqrt{\\frac{\\sin{\\left(2 \\beta + \\psi \\right)}}{2 \\sin{\\left(\\psi \\right)} + \\sin{\\left(2 \\beta - \\psi \\right)}}}}\\end{matrix}\\right]$"
      ],
      "text/plain": [
       "⎡                                                   _________________________ \n",
       "⎢                                                  ╱       sin(2⋅β + ψ)       \n",
       "⎢                                                 ╱  ─────────────────────── ⋅\n",
       "⎢                                               ╲╱   2⋅sin(ψ) + sin(2⋅β - ψ)  \n",
       "⎢                                             - ──────────────────────────────\n",
       "⎢                                                                             \n",
       "⎢                                                                             \n",
       "⎢    _________________________              _________________________         \n",
       "⎢   ╱       sin(2⋅β + ψ)                   ╱       sin(2⋅β + ψ)               \n",
       "⎢  ╱  ─────────────────────── ⋅cos(β)     ╱  ─────────────────────── ⋅(r⋅sin(β\n",
       "⎢╲╱   2⋅sin(ψ) + sin(2⋅β - ψ)           ╲╱   2⋅sin(ψ) + sin(2⋅β - ψ)          \n",
       "⎢──────────────────────────────────── + ──────────────────────────────────────\n",
       "⎢                 2                                      2⋅(-r⋅sin(β) + sin(β \n",
       "⎢                                                                             \n",
       "⎢                                                                             \n",
       "⎣                                                                             \n",
       "\n",
       "⎛    _________________________                                                \n",
       "⎜   ╱       sin(2⋅β + ψ)       ⎛    r⋅sin(β) + sin(β + ψ) ⎞          ⎛     r⋅s\n",
       "⎜  ╱  ─────────────────────── ⋅⎜1 + ──────────────────────⎟⋅sin(β) - ⎜-1 + ───\n",
       "⎝╲╱   2⋅sin(ψ) + sin(2⋅β - ψ)  ⎝    -r⋅sin(β) + sin(β + ψ)⎠          ⎝     -r⋅\n",
       "──────────────────────────────────────────────────────────────────────────────\n",
       "                                       2                                      \n",
       "                                                                              \n",
       "                                                                              \n",
       "                                                                              \n",
       ") + sin(β + ψ))⋅cos(β)                                                        \n",
       "                         (2⋅sin(ψ) + sin(2⋅β - ψ))⋅cos(β + ψ)   cos(β - ψ)   c\n",
       "────────────────────── - ──────────────────────────────────── - ────────── + ─\n",
       "+ ψ))                               4⋅sin(2⋅β + ψ)                  2         \n",
       "                                                                              \n",
       "                                                                              \n",
       "                                                                              \n",
       "\n",
       "                               ⎞                                              \n",
       "in(β) + sin(β + ψ) ⎞           ⎟   ⎛           sin(2⋅β + ψ)     ⎞ ⎛    r⋅sin(β\n",
       "───────────────────⎟⋅sin(β + ψ)⎟   ⎜-1 + ───────────────────────⎟⋅⎜1 + ───────\n",
       "sin(β) + sin(β + ψ)⎠           ⎠   ⎝     2⋅sin(ψ) + sin(2⋅β - ψ)⎠ ⎝    -r⋅sin(\n",
       "──────────────────────────────── - ───────────────────────────────────────────\n",
       "                                                                   4          \n",
       "                                                                              \n",
       "                                                                              \n",
       "                                                                              \n",
       "                                                                              \n",
       "os(β + ψ)   (r⋅sin(β) + sin(β + ψ))⋅(2⋅sin(ψ) + sin(2⋅β - ψ))⋅cos(β + ψ)   (r⋅\n",
       "───────── + ──────────────────────────────────────────────────────────── + ───\n",
       "   4                  4⋅(-r⋅sin(β) + sin(β + ψ))⋅sin(2⋅β + ψ)                 \n",
       "                                                                              \n",
       "                                                                              \n",
       "                                                                              \n",
       "\n",
       "                                                                              \n",
       ") + sin(β + ψ) ⎞                                                              \n",
       "───────────────⎟⋅sin(β)                                                       \n",
       "β) + sin(β + ψ)⎠                                                              \n",
       "───────────────────────                                                       \n",
       "                                                                              \n",
       "                                                                              \n",
       "                                                                              \n",
       "                                                                      ⎛     r⋅\n",
       "                                                                      ⎜-1 + ──\n",
       "sin(β) + sin(β + ψ))⋅cos(β - ψ)   (r⋅sin(β) + sin(β + ψ))⋅cos(β + ψ)  ⎝     -r\n",
       "─────────────────────────────── - ──────────────────────────────────  ────────\n",
       " 2⋅(-r⋅sin(β) + sin(β + ψ))           4⋅(-r⋅sin(β) + sin(β + ψ))              \n",
       "                                                                              \n",
       "                                                                              \n",
       "                                                                              \n",
       "\n",
       "                                                                              \n",
       "      ⎛     r⋅sin(β) + sin(β + ψ) ⎞ ⎛           sin(2⋅β + ψ)     ⎞            \n",
       "      ⎜-1 + ──────────────────────⎟⋅⎜-1 + ───────────────────────⎟⋅cos(β + ψ) \n",
       "      ⎝     -r⋅sin(β) + sin(β + ψ)⎠ ⎝     2⋅sin(ψ) + sin(2⋅β - ψ)⎠            \n",
       "      ─────────────────────────────────────────────────────────────────────── \n",
       "                                         4                                    \n",
       "                                                                              \n",
       "                                                                              \n",
       "sin(β) + sin(β + ψ) ⎞ ⎛⎛          sin(2⋅β + ψ)     ⎞              2⋅sin(β - ψ)\n",
       "────────────────────⎟⋅⎜⎜1 + ───────────────────────⎟⋅sin(β + ψ) + ────────────\n",
       "⋅sin(β) + sin(β + ψ)⎠ ⎝⎝    2⋅sin(ψ) + sin(2⋅β - ψ)⎠               2⋅sin(ψ) + \n",
       "──────────────────────────────────────────────────────────────────────────────\n",
       "                                _________________________                     \n",
       "                               ╱       sin(2⋅β + ψ)                           \n",
       "                          4⋅  ╱  ───────────────────────                      \n",
       "                            ╲╱   2⋅sin(ψ) + sin(2⋅β - ψ)                      \n",
       "\n",
       "              ⎤\n",
       "              ⎥\n",
       "              ⎥\n",
       "              ⎥\n",
       "              ⎥\n",
       "              ⎥\n",
       "              ⎥\n",
       "              ⎥\n",
       "⋅sin(2⋅β + ψ)⎞⎥\n",
       "─────────────⎟⎥\n",
       "sin(2⋅β - ψ) ⎠⎥\n",
       "──────────────⎥\n",
       "              ⎥\n",
       "              ⎥\n",
       "              ⎥\n",
       "              ⎦"
      ]
     },
     "execution_count": 198,
     "metadata": {},
     "output_type": "execute_result"
    }
   ],
   "source": [
    "J_SUB"
   ]
  },
  {
   "cell_type": "code",
   "execution_count": 199,
   "metadata": {},
   "outputs": [],
   "source": [
    "J_SIM_DET = J_sim.det().simplify()"
   ]
  },
  {
   "cell_type": "code",
   "execution_count": 200,
   "metadata": {},
   "outputs": [
    {
     "data": {
      "image/png": "[encoded data removed]",
      "text/latex": [
       "$\\displaystyle - \\frac{r \\left(- 32 r \\sin^{2}{\\left(\\beta \\right)} \\sin^{2}{\\left(\\psi \\right)} \\cos^{2}{\\left(\\beta + \\psi \\right)} - 16 r \\sin^{2}{\\left(\\beta \\right)} \\sin{\\left(\\psi \\right)} \\sin{\\left(2 \\beta - \\psi \\right)} \\cos^{2}{\\left(\\beta + \\psi \\right)} - 32 r \\sin^{2}{\\left(\\beta \\right)} \\sin{\\left(\\psi \\right)} \\sin{\\left(2 \\beta + \\psi \\right)} \\cos{\\left(\\beta - \\psi \\right)} \\cos{\\left(\\beta + \\psi \\right)} + 16 r \\sin^{2}{\\left(\\beta \\right)} \\sin{\\left(\\psi \\right)} \\sin{\\left(2 \\beta + \\psi \\right)} \\cos^{2}{\\left(\\beta + \\psi \\right)} - 12 r \\sin{\\left(\\beta + \\psi \\right)} \\sin{\\left(2 \\beta + \\psi \\right)} \\cos{\\left(\\beta \\right)} + 12 r \\sin{\\left(\\beta + \\psi \\right)} \\sin{\\left(2 \\beta + \\psi \\right)} \\cos{\\left(3 \\beta \\right)} - 4 r \\sin{\\left(\\beta + \\psi \\right)} \\sin{\\left(2 \\beta + \\psi \\right)} \\cos{\\left(\\beta - 2 \\psi \\right)} + 4 r \\sin{\\left(\\beta + \\psi \\right)} \\sin{\\left(2 \\beta + \\psi \\right)} \\cos{\\left(3 \\beta + 2 \\psi \\right)} - 12 \\sqrt{\\frac{\\sin{\\left(2 \\beta + \\psi \\right)}}{2 \\sin{\\left(\\psi \\right)} + \\sin{\\left(2 \\beta - \\psi \\right)}}} \\sin{\\left(\\psi \\right)} \\sin{\\left(\\beta + \\psi \\right)} \\cos{\\left(\\beta \\right)} + 12 \\sqrt{\\frac{\\sin{\\left(2 \\beta + \\psi \\right)}}{2 \\sin{\\left(\\psi \\right)} + \\sin{\\left(2 \\beta - \\psi \\right)}}} \\sin{\\left(\\psi \\right)} \\sin{\\left(\\beta + \\psi \\right)} \\cos{\\left(3 \\beta \\right)} - 4 \\sqrt{\\frac{\\sin{\\left(2 \\beta + \\psi \\right)}}{2 \\sin{\\left(\\psi \\right)} + \\sin{\\left(2 \\beta - \\psi \\right)}}} \\sin{\\left(\\psi \\right)} \\sin{\\left(\\beta + \\psi \\right)} \\cos{\\left(\\beta - 2 \\psi \\right)} + 4 \\sqrt{\\frac{\\sin{\\left(2 \\beta + \\psi \\right)}}{2 \\sin{\\left(\\psi \\right)} + \\sin{\\left(2 \\beta - \\psi \\right)}}} \\sin{\\left(\\psi \\right)} \\sin{\\left(\\beta + \\psi \\right)} \\cos{\\left(3 \\beta + 2 \\psi \\right)} - 6 \\sqrt{\\frac{\\sin{\\left(2 \\beta + \\psi \\right)}}{2 \\sin{\\left(\\psi \\right)} + \\sin{\\left(2 \\beta - \\psi \\right)}}} \\sin{\\left(\\beta + \\psi \\right)} \\sin{\\left(2 \\beta - \\psi \\right)} \\cos{\\left(\\beta \\right)} + 6 \\sqrt{\\frac{\\sin{\\left(2 \\beta + \\psi \\right)}}{2 \\sin{\\left(\\psi \\right)} + \\sin{\\left(2 \\beta - \\psi \\right)}}} \\sin{\\left(\\beta + \\psi \\right)} \\sin{\\left(2 \\beta - \\psi \\right)} \\cos{\\left(3 \\beta \\right)} - 2 \\sqrt{\\frac{\\sin{\\left(2 \\beta + \\psi \\right)}}{2 \\sin{\\left(\\psi \\right)} + \\sin{\\left(2 \\beta - \\psi \\right)}}} \\sin{\\left(\\beta + \\psi \\right)} \\sin{\\left(2 \\beta - \\psi \\right)} \\cos{\\left(\\beta - 2 \\psi \\right)} + 2 \\sqrt{\\frac{\\sin{\\left(2 \\beta + \\psi \\right)}}{2 \\sin{\\left(\\psi \\right)} + \\sin{\\left(2 \\beta - \\psi \\right)}}} \\sin{\\left(\\beta + \\psi \\right)} \\sin{\\left(2 \\beta - \\psi \\right)} \\cos{\\left(3 \\beta + 2 \\psi \\right)} + 18 \\sqrt{\\frac{\\sin{\\left(2 \\beta + \\psi \\right)}}{2 \\sin{\\left(\\psi \\right)} + \\sin{\\left(2 \\beta - \\psi \\right)}}} \\sin{\\left(\\beta + \\psi \\right)} \\sin{\\left(2 \\beta + \\psi \\right)} \\cos{\\left(\\beta \\right)} - 18 \\sqrt{\\frac{\\sin{\\left(2 \\beta + \\psi \\right)}}{2 \\sin{\\left(\\psi \\right)} + \\sin{\\left(2 \\beta - \\psi \\right)}}} \\sin{\\left(\\beta + \\psi \\right)} \\sin{\\left(2 \\beta + \\psi \\right)} \\cos{\\left(3 \\beta \\right)} + 6 \\sqrt{\\frac{\\sin{\\left(2 \\beta + \\psi \\right)}}{2 \\sin{\\left(\\psi \\right)} + \\sin{\\left(2 \\beta - \\psi \\right)}}} \\sin{\\left(\\beta + \\psi \\right)} \\sin{\\left(2 \\beta + \\psi \\right)} \\cos{\\left(\\beta - 2 \\psi \\right)} - 6 \\sqrt{\\frac{\\sin{\\left(2 \\beta + \\psi \\right)}}{2 \\sin{\\left(\\psi \\right)} + \\sin{\\left(2 \\beta - \\psi \\right)}}} \\sin{\\left(\\beta + \\psi \\right)} \\sin{\\left(2 \\beta + \\psi \\right)} \\cos{\\left(3 \\beta + 2 \\psi \\right)} - \\sqrt{\\frac{\\sin{\\left(2 \\beta + \\psi \\right)}}{2 \\sin{\\left(\\psi \\right)} + \\sin{\\left(2 \\beta - \\psi \\right)}}} \\cos{\\left(2 \\beta - 2 \\psi \\right)} + \\sqrt{\\frac{\\sin{\\left(2 \\beta + \\psi \\right)}}{2 \\sin{\\left(\\psi \\right)} + \\sin{\\left(2 \\beta - \\psi \\right)}}} \\cos{\\left(2 \\beta + 4 \\psi \\right)} + \\sqrt{\\frac{\\sin{\\left(2 \\beta + \\psi \\right)}}{2 \\sin{\\left(\\psi \\right)} + \\sin{\\left(2 \\beta - \\psi \\right)}}} \\cos{\\left(6 \\beta + 2 \\psi \\right)} - \\sqrt{\\frac{\\sin{\\left(2 \\beta + \\psi \\right)}}{2 \\sin{\\left(\\psi \\right)} + \\sin{\\left(2 \\beta - \\psi \\right)}}} \\cos{\\left(6 \\beta + 4 \\psi \\right)}\\right) \\sin^{2}{\\left(\\beta \\right)}}{16 \\left(r \\sin{\\left(\\beta \\right)} - \\sin{\\left(\\beta + \\psi \\right)}\\right)^{2} \\cdot \\left(2 \\sin{\\left(\\psi \\right)} + \\sin{\\left(2 \\beta - \\psi \\right)}\\right) \\sin{\\left(2 \\beta + \\psi \\right)}}$"
      ],
      "text/plain": [
       "   ⎛                                                                          \n",
       "   ⎜          2       2       2                  2                           2\n",
       "-r⋅⎜- 32⋅r⋅sin (β)⋅sin (ψ)⋅cos (β + ψ) - 16⋅r⋅sin (β)⋅sin(ψ)⋅sin(2⋅β - ψ)⋅cos \n",
       "   ⎝                                                                          \n",
       "──────────────────────────────────────────────────────────────────────────────\n",
       "                                                                              \n",
       "                                                                              \n",
       "\n",
       "                                                                              \n",
       "                  2                                                        2  \n",
       "(β + ψ) - 32⋅r⋅sin (β)⋅sin(ψ)⋅sin(2⋅β + ψ)⋅cos(β - ψ)⋅cos(β + ψ) + 16⋅r⋅sin (β\n",
       "                                                                              \n",
       "──────────────────────────────────────────────────────────────────────────────\n",
       "                                                                              \n",
       "                                                                              \n",
       "\n",
       "                                                                              \n",
       "                         2                                                    \n",
       ")⋅sin(ψ)⋅sin(2⋅β + ψ)⋅cos (β + ψ) - 12⋅r⋅sin(β + ψ)⋅sin(2⋅β + ψ)⋅cos(β) + 12⋅r\n",
       "                                                                              \n",
       "──────────────────────────────────────────────────────────────────────────────\n",
       "                                                                              \n",
       "                                                                              \n",
       "\n",
       "                                                                              \n",
       "                                                                              \n",
       "⋅sin(β + ψ)⋅sin(2⋅β + ψ)⋅cos(3⋅β) - 4⋅r⋅sin(β + ψ)⋅sin(2⋅β + ψ)⋅cos(β - 2⋅ψ) +\n",
       "                                                                              \n",
       "──────────────────────────────────────────────────────────────────────────────\n",
       "                                                                              \n",
       "                                                                              \n",
       "\n",
       "                                                     _________________________\n",
       "                                                    ╱       sin(2⋅β + ψ)      \n",
       " 4⋅r⋅sin(β + ψ)⋅sin(2⋅β + ψ)⋅cos(3⋅β + 2⋅ψ) - 12⋅  ╱  ─────────────────────── \n",
       "                                                 ╲╱   2⋅sin(ψ) + sin(2⋅β - ψ) \n",
       "──────────────────────────────────────────────────────────────────────────────\n",
       "                                                                              \n",
       "                                                                              \n",
       "\n",
       "                                   _________________________                  \n",
       "                                  ╱       sin(2⋅β + ψ)                        \n",
       "⋅sin(ψ)⋅sin(β + ψ)⋅cos(β) + 12⋅  ╱  ─────────────────────── ⋅sin(ψ)⋅sin(β + ψ)\n",
       "                               ╲╱   2⋅sin(ψ) + sin(2⋅β - ψ)                   \n",
       "──────────────────────────────────────────────────────────────────────────────\n",
       "                                                                              \n",
       "                                                                              \n",
       "\n",
       "                  _________________________                                   \n",
       "                 ╱       sin(2⋅β + ψ)                                         \n",
       "⋅cos(3⋅β) - 4⋅  ╱  ─────────────────────── ⋅sin(ψ)⋅sin(β + ψ)⋅cos(β - 2⋅ψ) + 4\n",
       "              ╲╱   2⋅sin(ψ) + sin(2⋅β - ψ)                                    \n",
       "──────────────────────────────────────────────────────────────────────────────\n",
       "                                                                              \n",
       "                                                                              \n",
       "\n",
       "     _________________________                                          ______\n",
       "    ╱       sin(2⋅β + ψ)                                               ╱      \n",
       "⋅  ╱  ─────────────────────── ⋅sin(ψ)⋅sin(β + ψ)⋅cos(3⋅β + 2⋅ψ) - 6⋅  ╱  ─────\n",
       " ╲╱   2⋅sin(ψ) + sin(2⋅β - ψ)                                       ╲╱   2⋅sin\n",
       "──────────────────────────────────────────────────────────────────────────────\n",
       "                                                                              \n",
       "                                                                              \n",
       "\n",
       "___________________                                        ___________________\n",
       " sin(2⋅β + ψ)                                             ╱       sin(2⋅β + ψ)\n",
       "────────────────── ⋅sin(β + ψ)⋅sin(2⋅β - ψ)⋅cos(β) + 6⋅  ╱  ──────────────────\n",
       "(ψ) + sin(2⋅β - ψ)                                     ╲╱   2⋅sin(ψ) + sin(2⋅β\n",
       "──────────────────────────────────────────────────────────────────────────────\n",
       "                                                  2                           \n",
       "                        16⋅(r⋅sin(β) - sin(β + ψ)) ⋅(2⋅sin(ψ) + sin(2⋅β - ψ))⋅\n",
       "\n",
       "______                                          _________________________     \n",
       "                                               ╱       sin(2⋅β + ψ)           \n",
       "───── ⋅sin(β + ψ)⋅sin(2⋅β - ψ)⋅cos(3⋅β) - 2⋅  ╱  ─────────────────────── ⋅sin(\n",
       " - ψ)                                       ╲╱   2⋅sin(ψ) + sin(2⋅β - ψ)      \n",
       "──────────────────────────────────────────────────────────────────────────────\n",
       "                                                                              \n",
       "sin(2⋅β + ψ)                                                                  \n",
       "\n",
       "                                         _________________________            \n",
       "                                        ╱       sin(2⋅β + ψ)                  \n",
       "β + ψ)⋅sin(2⋅β - ψ)⋅cos(β - 2⋅ψ) + 2⋅  ╱  ─────────────────────── ⋅sin(β + ψ)⋅\n",
       "                                     ╲╱   2⋅sin(ψ) + sin(2⋅β - ψ)             \n",
       "──────────────────────────────────────────────────────────────────────────────\n",
       "                                                                              \n",
       "                                                                              \n",
       "\n",
       "                                     _________________________                \n",
       "                                    ╱       sin(2⋅β + ψ)                      \n",
       "sin(2⋅β - ψ)⋅cos(3⋅β + 2⋅ψ) + 18⋅  ╱  ─────────────────────── ⋅sin(β + ψ)⋅sin(\n",
       "                                 ╲╱   2⋅sin(ψ) + sin(2⋅β - ψ)                 \n",
       "──────────────────────────────────────────────────────────────────────────────\n",
       "                                                                              \n",
       "                                                                              \n",
       "\n",
       "                         _________________________                            \n",
       "                        ╱       sin(2⋅β + ψ)                                  \n",
       "2⋅β + ψ)⋅cos(β) - 18⋅  ╱  ─────────────────────── ⋅sin(β + ψ)⋅sin(2⋅β + ψ)⋅cos\n",
       "                     ╲╱   2⋅sin(ψ) + sin(2⋅β - ψ)                             \n",
       "──────────────────────────────────────────────────────────────────────────────\n",
       "                                                                              \n",
       "                                                                              \n",
       "\n",
       "              _________________________                                       \n",
       "             ╱       sin(2⋅β + ψ)                                             \n",
       "(3⋅β) + 6⋅  ╱  ─────────────────────── ⋅sin(β + ψ)⋅sin(2⋅β + ψ)⋅cos(β - 2⋅ψ) -\n",
       "          ╲╱   2⋅sin(ψ) + sin(2⋅β - ψ)                                        \n",
       "──────────────────────────────────────────────────────────────────────────────\n",
       "                                                                              \n",
       "                                                                              \n",
       "\n",
       "       _________________________                                              \n",
       "      ╱       sin(2⋅β + ψ)                                                   ╱\n",
       " 6⋅  ╱  ─────────────────────── ⋅sin(β + ψ)⋅sin(2⋅β + ψ)⋅cos(3⋅β + 2⋅ψ) -   ╱ \n",
       "   ╲╱   2⋅sin(ψ) + sin(2⋅β - ψ)                                           ╲╱  \n",
       "──────────────────────────────────────────────────────────────────────────────\n",
       "                                                                              \n",
       "                                                                              \n",
       "\n",
       "_________________________                      _________________________      \n",
       "       sin(2⋅β + ψ)                           ╱       sin(2⋅β + ψ)            \n",
       " ─────────────────────── ⋅cos(2⋅β - 2⋅ψ) +   ╱  ─────────────────────── ⋅cos(2\n",
       " 2⋅sin(ψ) + sin(2⋅β - ψ)                   ╲╱   2⋅sin(ψ) + sin(2⋅β - ψ)       \n",
       "──────────────────────────────────────────────────────────────────────────────\n",
       "                                                                              \n",
       "                                                                              \n",
       "\n",
       "                _________________________                      _______________\n",
       "               ╱       sin(2⋅β + ψ)                           ╱       sin(2⋅β \n",
       "⋅β + 4⋅ψ) +   ╱  ─────────────────────── ⋅cos(6⋅β + 2⋅ψ) -   ╱  ──────────────\n",
       "            ╲╱   2⋅sin(ψ) + sin(2⋅β - ψ)                   ╲╱   2⋅sin(ψ) + sin\n",
       "──────────────────────────────────────────────────────────────────────────────\n",
       "                                                                              \n",
       "                                                                              \n",
       "\n",
       "__________               ⎞         \n",
       "+ ψ)                     ⎟    2    \n",
       "───────── ⋅cos(6⋅β + 4⋅ψ)⎟⋅sin (β) \n",
       "(2⋅β - ψ)                ⎠         \n",
       "───────────────────────────────────\n",
       "                                   \n",
       "                                   "
      ]
     },
     "execution_count": 200,
     "metadata": {},
     "output_type": "execute_result"
    }
   ],
   "source": [
    "J_SIM_DET.factor()"
   ]
  },
  {
   "cell_type": "code",
   "execution_count": 156,
   "metadata": {},
   "outputs": [],
   "source": [
    "J_det = JJ.det().simplify()"
   ]
  },
  {
   "cell_type": "code",
   "execution_count": 159,
   "metadata": {},
   "outputs": [],
   "source": [
    "SOL_r = solve(eq_psi.subs(A,A_ans).simplify(),r)[1]"
   ]
  },
  {
   "cell_type": "code",
   "execution_count": 161,
   "metadata": {},
   "outputs": [],
   "source": [
    "SOL_J_det = J_det.subs(r,SOL_r)"
   ]
  },
  {
   "cell_type": "code",
   "execution_count": 163,
   "metadata": {},
   "outputs": [
    {
     "data": {
      "image/png": "[encoded data removed]",
      "text/latex": [
       "$\\displaystyle \\frac{- 20 \\cos{\\left(2 \\beta \\right)} - \\cos{\\left(4 \\beta \\right)} + 2 \\cos{\\left(6 \\beta \\right)} - 8 \\cos{\\left(2 \\psi \\right)} + 5 \\cos{\\left(4 \\psi \\right)} - \\cos{\\left(2 \\beta - 4 \\psi \\right)} + 18 \\cos{\\left(2 \\beta - 2 \\psi \\right)} + 2 \\cos{\\left(2 \\beta + 2 \\psi \\right)} - 7 \\cos{\\left(2 \\beta + 4 \\psi \\right)} - 11 \\cos{\\left(4 \\beta - 2 \\psi \\right)} - 5 \\cos{\\left(4 \\beta + 2 \\psi \\right)} + \\cos{\\left(4 \\beta + 4 \\psi \\right)} + 2 \\cos{\\left(6 \\beta - 2 \\psi \\right)} + 2 \\cos{\\left(6 \\beta + 2 \\psi \\right)} + 2 \\cos{\\left(6 \\beta + 4 \\psi \\right)} + 19}{32 \\left(- \\sqrt{\\frac{\\sin{\\left(2 \\beta + \\psi \\right)}}{2 \\sin{\\left(\\psi \\right)} + \\sin{\\left(2 \\beta - \\psi \\right)}}} \\sin{\\left(\\beta \\right)} + \\sin{\\left(\\beta + \\psi \\right)}\\right)^{2} \\left(2 \\sin{\\left(\\psi \\right)} + \\sin{\\left(2 \\beta - \\psi \\right)}\\right)^{2}}$"
      ],
      "text/plain": [
       "-20⋅cos(2⋅β) - cos(4⋅β) + 2⋅cos(6⋅β) - 8⋅cos(2⋅ψ) + 5⋅cos(4⋅ψ) - cos(2⋅β - 4⋅ψ\n",
       "──────────────────────────────────────────────────────────────────────────────\n",
       "                                                                              \n",
       "                                                                              \n",
       "                                                                              \n",
       "                                                                              \n",
       "                                                                              \n",
       "\n",
       ") + 18⋅cos(2⋅β - 2⋅ψ) + 2⋅cos(2⋅β + 2⋅ψ) - 7⋅cos(2⋅β + 4⋅ψ) - 11⋅cos(4⋅β - 2⋅ψ\n",
       "──────────────────────────────────────────────────────────────────────────────\n",
       "                                                                2             \n",
       "           ⎛      _________________________                    ⎞              \n",
       "           ⎜     ╱       sin(2⋅β + ψ)                          ⎟              \n",
       "        32⋅⎜-   ╱  ─────────────────────── ⋅sin(β) + sin(β + ψ)⎟ ⋅(2⋅sin(ψ) + \n",
       "           ⎝  ╲╱   2⋅sin(ψ) + sin(2⋅β - ψ)                     ⎠              \n",
       "\n",
       ") - 5⋅cos(4⋅β + 2⋅ψ) + cos(4⋅β + 4⋅ψ) + 2⋅cos(6⋅β - 2⋅ψ) + 2⋅cos(6⋅β + 2⋅ψ) + \n",
       "──────────────────────────────────────────────────────────────────────────────\n",
       "                                                                              \n",
       "                                                                              \n",
       "             2                                                                \n",
       "sin(2⋅β - ψ))                                                                 \n",
       "                                                                              \n",
       "\n",
       "2⋅cos(6⋅β + 4⋅ψ) + 19\n",
       "─────────────────────\n",
       "                     \n",
       "                     \n",
       "                     \n",
       "                     \n",
       "                     "
      ]
     },
     "execution_count": 163,
     "metadata": {},
     "output_type": "execute_result"
    }
   ],
   "source": [
    "SOL_J_det.simplify()"
   ]
  },
  {
   "cell_type": "code",
   "execution_count": 375,
   "metadata": {},
   "outputs": [
    {
     "data": {
      "image/png": "[encoded data removed]",
      "text/latex": [
       "$\\displaystyle \\frac{\\pi}{2} - \\psi - \\frac{\\psi^{3}}{6} - \\frac{3 \\psi^{5}}{40} - \\frac{5 \\psi^{7}}{112} - \\frac{35 \\psi^{9}}{1152} - \\frac{63 \\psi^{11}}{2816} - \\frac{231 \\psi^{13}}{13312} - \\frac{143 \\psi^{15}}{10240} - \\frac{6435 \\psi^{17}}{557056} - \\frac{12155 \\psi^{19}}{1245184} + O\\left(\\psi^{20}\\right)$"
      ],
      "text/plain": [
       "         3      5      7       9       11        13        15         17      \n",
       "π       ψ    3⋅ψ    5⋅ψ    35⋅ψ    63⋅ψ     231⋅ψ     143⋅ψ     6435⋅ψ     121\n",
       "─ - ψ - ── - ──── - ──── - ───── - ────── - ─────── - ─────── - ──────── - ───\n",
       "2       6     40    112     1152    2816     13312     10240     557056     12\n",
       "\n",
       "    19         \n",
       "55⋅ψ      ⎛ 20⎞\n",
       "────── + O⎝ψ  ⎠\n",
       "45184          "
      ]
     },
     "execution_count": 375,
     "metadata": {},
     "output_type": "execute_result"
    }
   ],
   "source": [
    "acos(psi).series(psi,0,20)"
   ]
  },
  {
   "cell_type": "code",
   "execution_count": 363,
   "metadata": {},
   "outputs": [],
   "source": [
    "eq_br = sin(beta)*(sin(2*beta-psi)+2*sin(psi)) + sin(2*beta+psi)*(sin(beta-2*psi)+2*sin(beta+2*psi))\n",
    "POLY = eq_br.series(psi,0,3)"
   ]
  },
  {
   "cell_type": "code",
   "execution_count": 368,
   "metadata": {},
   "outputs": [
    {
     "ename": "KeyboardInterrupt",
     "evalue": "",
     "output_type": "error",
     "traceback": [
      "\u001b[0;31m---------------------------------------------------------------------------\u001b[0m",
      "\u001b[0;31mKeyboardInterrupt\u001b[0m                         Traceback (most recent call last)",
      "Cell \u001b[0;32mIn[368], line 1\u001b[0m\n\u001b[0;32m----> 1\u001b[0m \u001b[43msolve\u001b[49m\u001b[43m(\u001b[49m\u001b[43mPOLY\u001b[49m\u001b[43m,\u001b[49m\u001b[43mpsi\u001b[49m\u001b[43m)\u001b[49m\n",
      "File \u001b[0;32m/Library/Frameworks/Python.framework/Versions/3.11/lib/python3.11/site-packages/sympy/solvers/solvers.py:1112\u001b[0m, in \u001b[0;36msolve\u001b[0;34m(f, *symbols, **flags)\u001b[0m\n\u001b[1;32m   1108\u001b[0m \u001b[38;5;66;03m#\u001b[39;00m\n\u001b[1;32m   1109\u001b[0m \u001b[38;5;66;03m# try to get a solution\u001b[39;00m\n\u001b[1;32m   1110\u001b[0m \u001b[38;5;66;03m###########################################################################\u001b[39;00m\n\u001b[1;32m   1111\u001b[0m \u001b[38;5;28;01mif\u001b[39;00m bare_f:\n\u001b[0;32m-> 1112\u001b[0m     solution \u001b[38;5;241m=\u001b[39m \u001b[43m_solve\u001b[49m\u001b[43m(\u001b[49m\u001b[43mf\u001b[49m\u001b[43m[\u001b[49m\u001b[38;5;241;43m0\u001b[39;49m\u001b[43m]\u001b[49m\u001b[43m,\u001b[49m\u001b[43m \u001b[49m\u001b[38;5;241;43m*\u001b[39;49m\u001b[43msymbols\u001b[49m\u001b[43m,\u001b[49m\u001b[43m \u001b[49m\u001b[38;5;241;43m*\u001b[39;49m\u001b[38;5;241;43m*\u001b[39;49m\u001b[43mflags\u001b[49m\u001b[43m)\u001b[49m\n\u001b[1;32m   1113\u001b[0m \u001b[38;5;28;01melse\u001b[39;00m:\n\u001b[1;32m   1114\u001b[0m     solution \u001b[38;5;241m=\u001b[39m _solve_system(f, symbols, \u001b[38;5;241m*\u001b[39m\u001b[38;5;241m*\u001b[39mflags)\n",
      "File \u001b[0;32m/Library/Frameworks/Python.framework/Versions/3.11/lib/python3.11/site-packages/sympy/solvers/solvers.py:1656\u001b[0m, in \u001b[0;36m_solve\u001b[0;34m(f, *symbols, **flags)\u001b[0m\n\u001b[1;32m   1654\u001b[0m hints \u001b[38;5;241m=\u001b[39m (\u001b[38;5;124m'\u001b[39m\u001b[38;5;124mcubics\u001b[39m\u001b[38;5;124m'\u001b[39m, \u001b[38;5;124m'\u001b[39m\u001b[38;5;124mquartics\u001b[39m\u001b[38;5;124m'\u001b[39m, \u001b[38;5;124m'\u001b[39m\u001b[38;5;124mquintics\u001b[39m\u001b[38;5;124m'\u001b[39m)\n\u001b[1;32m   1655\u001b[0m solvers \u001b[38;5;241m=\u001b[39m {h: flags\u001b[38;5;241m.\u001b[39mget(h) \u001b[38;5;28;01mfor\u001b[39;00m h \u001b[38;5;129;01min\u001b[39;00m hints}\n\u001b[0;32m-> 1656\u001b[0m soln \u001b[38;5;241m=\u001b[39m \u001b[43mroots\u001b[49m\u001b[43m(\u001b[49m\u001b[43mpoly\u001b[49m\u001b[43m,\u001b[49m\u001b[43m \u001b[49m\u001b[38;5;241;43m*\u001b[39;49m\u001b[38;5;241;43m*\u001b[39;49m\u001b[43msolvers\u001b[49m\u001b[43m)\u001b[49m\n\u001b[1;32m   1657\u001b[0m \u001b[38;5;28;01mif\u001b[39;00m \u001b[38;5;28msum\u001b[39m(soln\u001b[38;5;241m.\u001b[39mvalues()) \u001b[38;5;241m<\u001b[39m deg:\n\u001b[1;32m   1658\u001b[0m     \u001b[38;5;66;03m# e.g. roots(32*x**5 + 400*x**4 + 2032*x**3 +\u001b[39;00m\n\u001b[1;32m   1659\u001b[0m     \u001b[38;5;66;03m#            5000*x**2 + 6250*x + 3189) -> {}\u001b[39;00m\n\u001b[1;32m   1660\u001b[0m     \u001b[38;5;66;03m# so all_roots is used and RootOf instances are\u001b[39;00m\n\u001b[1;32m   1661\u001b[0m     \u001b[38;5;66;03m# returned *unless* the system is multivariate\u001b[39;00m\n\u001b[1;32m   1662\u001b[0m     \u001b[38;5;66;03m# or high-order EX domain.\u001b[39;00m\n\u001b[1;32m   1663\u001b[0m     \u001b[38;5;28;01mtry\u001b[39;00m:\n",
      "File \u001b[0;32m/Library/Frameworks/Python.framework/Versions/3.11/lib/python3.11/site-packages/sympy/polys/polyroots.py:1098\u001b[0m, in \u001b[0;36mroots\u001b[0;34m(f, auto, cubics, trig, quartics, quintics, multiple, filter, predicate, strict, *gens, **flags)\u001b[0m\n\u001b[1;32m   1096\u001b[0m                 _update_dict(result, zeros, r, \u001b[38;5;241m1\u001b[39m)\n\u001b[1;32m   1097\u001b[0m     \u001b[38;5;28;01melse\u001b[39;00m:\n\u001b[0;32m-> 1098\u001b[0m         \u001b[38;5;28;01mfor\u001b[39;00m currentroot \u001b[38;5;129;01min\u001b[39;00m \u001b[43m_try_decompose\u001b[49m\u001b[43m(\u001b[49m\u001b[43mf\u001b[49m\u001b[43m)\u001b[49m:\n\u001b[1;32m   1099\u001b[0m             _update_dict(result, zeros, currentroot, \u001b[38;5;241m1\u001b[39m)\n\u001b[1;32m   1100\u001b[0m \u001b[38;5;28;01melse\u001b[39;00m:\n",
      "File \u001b[0;32m/Library/Frameworks/Python.framework/Versions/3.11/lib/python3.11/site-packages/sympy/polys/polyroots.py:988\u001b[0m, in \u001b[0;36mroots.<locals>._try_decompose\u001b[0;34m(f)\u001b[0m\n\u001b[1;32m    985\u001b[0m \u001b[38;5;250m\u001b[39m\u001b[38;5;124;03m\"\"\"Find roots using functional decomposition. \"\"\"\u001b[39;00m\n\u001b[1;32m    986\u001b[0m factors, roots \u001b[38;5;241m=\u001b[39m f\u001b[38;5;241m.\u001b[39mdecompose(), []\n\u001b[0;32m--> 988\u001b[0m \u001b[38;5;28;01mfor\u001b[39;00m currentroot \u001b[38;5;129;01min\u001b[39;00m \u001b[43m_try_heuristics\u001b[49m\u001b[43m(\u001b[49m\u001b[43mfactors\u001b[49m\u001b[43m[\u001b[49m\u001b[38;5;241;43m0\u001b[39;49m\u001b[43m]\u001b[49m\u001b[43m)\u001b[49m:\n\u001b[1;32m    989\u001b[0m     roots\u001b[38;5;241m.\u001b[39mappend(currentroot)\n\u001b[1;32m    991\u001b[0m \u001b[38;5;28;01mfor\u001b[39;00m currentfactor \u001b[38;5;129;01min\u001b[39;00m factors[\u001b[38;5;241m1\u001b[39m:]:\n",
      "File \u001b[0;32m/Library/Frameworks/Python.framework/Versions/3.11/lib/python3.11/site-packages/sympy/polys/polyroots.py:1034\u001b[0m, in \u001b[0;36mroots.<locals>._try_heuristics\u001b[0;34m(f)\u001b[0m\n\u001b[1;32m   1032\u001b[0m     result \u001b[38;5;241m+\u001b[39m\u001b[38;5;241m=\u001b[39m roots_cubic(f, trig\u001b[38;5;241m=\u001b[39mtrig)\n\u001b[1;32m   1033\u001b[0m \u001b[38;5;28;01melif\u001b[39;00m n \u001b[38;5;241m==\u001b[39m \u001b[38;5;241m4\u001b[39m \u001b[38;5;129;01mand\u001b[39;00m quartics:\n\u001b[0;32m-> 1034\u001b[0m     result \u001b[38;5;241m+\u001b[39m\u001b[38;5;241m=\u001b[39m \u001b[43mroots_quartic\u001b[49m\u001b[43m(\u001b[49m\u001b[43mf\u001b[49m\u001b[43m)\u001b[49m\n\u001b[1;32m   1035\u001b[0m \u001b[38;5;28;01melif\u001b[39;00m n \u001b[38;5;241m==\u001b[39m \u001b[38;5;241m5\u001b[39m \u001b[38;5;129;01mand\u001b[39;00m quintics:\n\u001b[1;32m   1036\u001b[0m     result \u001b[38;5;241m+\u001b[39m\u001b[38;5;241m=\u001b[39m roots_quintic(f)\n",
      "File \u001b[0;32m/Library/Frameworks/Python.framework/Versions/3.11/lib/python3.11/site-packages/sympy/polys/polyroots.py:323\u001b[0m, in \u001b[0;36mroots_quartic\u001b[0;34m(f)\u001b[0m\n\u001b[1;32m    320\u001b[0m     \u001b[38;5;28;01mreturn\u001b[39;00m [tmp \u001b[38;5;241m-\u001b[39m aon4 \u001b[38;5;28;01mfor\u001b[39;00m tmp \u001b[38;5;129;01min\u001b[39;00m y]\n\u001b[1;32m    321\u001b[0m \u001b[38;5;28;01melse\u001b[39;00m:\n\u001b[1;32m    322\u001b[0m     \u001b[38;5;66;03m# Descartes-Euler method, see [7]\u001b[39;00m\n\u001b[0;32m--> 323\u001b[0m     sols \u001b[38;5;241m=\u001b[39m \u001b[43m_roots_quartic_euler\u001b[49m\u001b[43m(\u001b[49m\u001b[43me\u001b[49m\u001b[43m,\u001b[49m\u001b[43m \u001b[49m\u001b[43mf\u001b[49m\u001b[43m,\u001b[49m\u001b[43m \u001b[49m\u001b[43mg\u001b[49m\u001b[43m,\u001b[49m\u001b[43m \u001b[49m\u001b[43maon4\u001b[49m\u001b[43m)\u001b[49m\n\u001b[1;32m    324\u001b[0m     \u001b[38;5;28;01mif\u001b[39;00m sols:\n\u001b[1;32m    325\u001b[0m         \u001b[38;5;28;01mreturn\u001b[39;00m sols\n",
      "File \u001b[0;32m/Library/Frameworks/Python.framework/Versions/3.11/lib/python3.11/site-packages/sympy/polys/polyroots.py:229\u001b[0m, in \u001b[0;36m_roots_quartic_euler\u001b[0;34m(p, q, r, a)\u001b[0m\n\u001b[1;32m    227\u001b[0m x \u001b[38;5;241m=\u001b[39m Dummy(\u001b[38;5;124m'\u001b[39m\u001b[38;5;124mx\u001b[39m\u001b[38;5;124m'\u001b[39m)\n\u001b[1;32m    228\u001b[0m eq \u001b[38;5;241m=\u001b[39m \u001b[38;5;241m64\u001b[39m\u001b[38;5;241m*\u001b[39mx\u001b[38;5;241m*\u001b[39m\u001b[38;5;241m*\u001b[39m\u001b[38;5;241m3\u001b[39m \u001b[38;5;241m+\u001b[39m \u001b[38;5;241m32\u001b[39m\u001b[38;5;241m*\u001b[39mp\u001b[38;5;241m*\u001b[39mx\u001b[38;5;241m*\u001b[39m\u001b[38;5;241m*\u001b[39m\u001b[38;5;241m2\u001b[39m \u001b[38;5;241m+\u001b[39m (\u001b[38;5;241m4\u001b[39m\u001b[38;5;241m*\u001b[39mp\u001b[38;5;241m*\u001b[39m\u001b[38;5;241m*\u001b[39m\u001b[38;5;241m2\u001b[39m \u001b[38;5;241m-\u001b[39m \u001b[38;5;241m16\u001b[39m\u001b[38;5;241m*\u001b[39mr)\u001b[38;5;241m*\u001b[39mx \u001b[38;5;241m-\u001b[39m q\u001b[38;5;241m*\u001b[39m\u001b[38;5;241m*\u001b[39m\u001b[38;5;241m2\u001b[39m\n\u001b[0;32m--> 229\u001b[0m xsols \u001b[38;5;241m=\u001b[39m \u001b[38;5;28mlist\u001b[39m(\u001b[43mroots\u001b[49m\u001b[43m(\u001b[49m\u001b[43mPoly\u001b[49m\u001b[43m(\u001b[49m\u001b[43meq\u001b[49m\u001b[43m,\u001b[49m\u001b[43m \u001b[49m\u001b[43mx\u001b[49m\u001b[43m)\u001b[49m\u001b[43m,\u001b[49m\u001b[43m \u001b[49m\u001b[43mcubics\u001b[49m\u001b[38;5;241;43m=\u001b[39;49m\u001b[38;5;28;43;01mFalse\u001b[39;49;00m\u001b[43m)\u001b[49m\u001b[38;5;241m.\u001b[39mkeys())\n\u001b[1;32m    230\u001b[0m xsols \u001b[38;5;241m=\u001b[39m [sol \u001b[38;5;28;01mfor\u001b[39;00m sol \u001b[38;5;129;01min\u001b[39;00m xsols \u001b[38;5;28;01mif\u001b[39;00m sol\u001b[38;5;241m.\u001b[39mis_rational \u001b[38;5;129;01mand\u001b[39;00m sol\u001b[38;5;241m.\u001b[39mis_nonzero]\n\u001b[1;32m    231\u001b[0m \u001b[38;5;28;01mif\u001b[39;00m \u001b[38;5;129;01mnot\u001b[39;00m xsols:\n",
      "File \u001b[0;32m/Library/Frameworks/Python.framework/Versions/3.11/lib/python3.11/site-packages/sympy/polys/polyroots.py:1077\u001b[0m, in \u001b[0;36mroots\u001b[0;34m(f, auto, cubics, trig, quartics, quintics, multiple, filter, predicate, strict, *gens, **flags)\u001b[0m\n\u001b[1;32m   1075\u001b[0m         _update_dict(result, zeros, r, \u001b[38;5;241m1\u001b[39m)\n\u001b[1;32m   1076\u001b[0m \u001b[38;5;28;01melse\u001b[39;00m:\n\u001b[0;32m-> 1077\u001b[0m     _, factors \u001b[38;5;241m=\u001b[39m \u001b[43mPoly\u001b[49m\u001b[43m(\u001b[49m\u001b[43mf\u001b[49m\u001b[38;5;241;43m.\u001b[39;49m\u001b[43mas_expr\u001b[49m\u001b[43m(\u001b[49m\u001b[43m)\u001b[49m\u001b[43m)\u001b[49m\u001b[38;5;241;43m.\u001b[39;49m\u001b[43mfactor_list\u001b[49m\u001b[43m(\u001b[49m\u001b[43m)\u001b[49m\n\u001b[1;32m   1078\u001b[0m     \u001b[38;5;28;01mif\u001b[39;00m \u001b[38;5;28mlen\u001b[39m(factors) \u001b[38;5;241m==\u001b[39m \u001b[38;5;241m1\u001b[39m \u001b[38;5;129;01mand\u001b[39;00m f\u001b[38;5;241m.\u001b[39mdegree() \u001b[38;5;241m==\u001b[39m \u001b[38;5;241m2\u001b[39m:\n\u001b[1;32m   1079\u001b[0m         \u001b[38;5;28;01mfor\u001b[39;00m r \u001b[38;5;129;01min\u001b[39;00m roots_quadratic(f):\n",
      "File \u001b[0;32m/Library/Frameworks/Python.framework/Versions/3.11/lib/python3.11/site-packages/sympy/polys/polytools.py:3350\u001b[0m, in \u001b[0;36mPoly.factor_list\u001b[0;34m(f)\u001b[0m\n\u001b[1;32m   3348\u001b[0m \u001b[38;5;28;01mif\u001b[39;00m \u001b[38;5;28mhasattr\u001b[39m(f\u001b[38;5;241m.\u001b[39mrep, \u001b[38;5;124m'\u001b[39m\u001b[38;5;124mfactor_list\u001b[39m\u001b[38;5;124m'\u001b[39m):\n\u001b[1;32m   3349\u001b[0m     \u001b[38;5;28;01mtry\u001b[39;00m:\n\u001b[0;32m-> 3350\u001b[0m         coeff, factors \u001b[38;5;241m=\u001b[39m \u001b[43mf\u001b[49m\u001b[38;5;241;43m.\u001b[39;49m\u001b[43mrep\u001b[49m\u001b[38;5;241;43m.\u001b[39;49m\u001b[43mfactor_list\u001b[49m\u001b[43m(\u001b[49m\u001b[43m)\u001b[49m\n\u001b[1;32m   3351\u001b[0m     \u001b[38;5;28;01mexcept\u001b[39;00m DomainError:\n\u001b[1;32m   3352\u001b[0m         \u001b[38;5;28;01mreturn\u001b[39;00m S\u001b[38;5;241m.\u001b[39mOne, [(f, \u001b[38;5;241m1\u001b[39m)]\n",
      "File \u001b[0;32m/Library/Frameworks/Python.framework/Versions/3.11/lib/python3.11/site-packages/sympy/polys/polyclasses.py:823\u001b[0m, in \u001b[0;36mDMP.factor_list\u001b[0;34m(f)\u001b[0m\n\u001b[1;32m    821\u001b[0m \u001b[38;5;28;01mdef\u001b[39;00m \u001b[38;5;21mfactor_list\u001b[39m(f):\n\u001b[1;32m    822\u001b[0m \u001b[38;5;250m    \u001b[39m\u001b[38;5;124;03m\"\"\"Returns a list of irreducible factors of ``f``. \"\"\"\u001b[39;00m\n\u001b[0;32m--> 823\u001b[0m     coeff, factors \u001b[38;5;241m=\u001b[39m \u001b[43mdmp_factor_list\u001b[49m\u001b[43m(\u001b[49m\u001b[43mf\u001b[49m\u001b[38;5;241;43m.\u001b[39;49m\u001b[43mrep\u001b[49m\u001b[43m,\u001b[49m\u001b[43m \u001b[49m\u001b[43mf\u001b[49m\u001b[38;5;241;43m.\u001b[39;49m\u001b[43mlev\u001b[49m\u001b[43m,\u001b[49m\u001b[43m \u001b[49m\u001b[43mf\u001b[49m\u001b[38;5;241;43m.\u001b[39;49m\u001b[43mdom\u001b[49m\u001b[43m)\u001b[49m\n\u001b[1;32m    824\u001b[0m     \u001b[38;5;28;01mreturn\u001b[39;00m coeff, [ (f\u001b[38;5;241m.\u001b[39mper(g), k) \u001b[38;5;28;01mfor\u001b[39;00m g, k \u001b[38;5;129;01min\u001b[39;00m factors ]\n",
      "File \u001b[0;32m/Library/Frameworks/Python.framework/Versions/3.11/lib/python3.11/site-packages/sympy/polys/factortools.py:1423\u001b[0m, in \u001b[0;36mdmp_factor_list\u001b[0;34m(f, u, K0)\u001b[0m\n\u001b[1;32m   1421\u001b[0m \u001b[38;5;28;01mif\u001b[39;00m K\u001b[38;5;241m.\u001b[39mis_ZZ:\n\u001b[1;32m   1422\u001b[0m     levels, f, v \u001b[38;5;241m=\u001b[39m dmp_exclude(f, u, K)\n\u001b[0;32m-> 1423\u001b[0m     coeff, factors \u001b[38;5;241m=\u001b[39m \u001b[43mdmp_zz_factor\u001b[49m\u001b[43m(\u001b[49m\u001b[43mf\u001b[49m\u001b[43m,\u001b[49m\u001b[43m \u001b[49m\u001b[43mv\u001b[49m\u001b[43m,\u001b[49m\u001b[43m \u001b[49m\u001b[43mK\u001b[49m\u001b[43m)\u001b[49m\n\u001b[1;32m   1425\u001b[0m     \u001b[38;5;28;01mfor\u001b[39;00m i, (f, k) \u001b[38;5;129;01min\u001b[39;00m \u001b[38;5;28menumerate\u001b[39m(factors):\n\u001b[1;32m   1426\u001b[0m         factors[i] \u001b[38;5;241m=\u001b[39m (dmp_include(f, levels, v, K), k)\n",
      "File \u001b[0;32m/Library/Frameworks/Python.framework/Versions/3.11/lib/python3.11/site-packages/sympy/polys/factortools.py:1154\u001b[0m, in \u001b[0;36mdmp_zz_factor\u001b[0;34m(f, u, K)\u001b[0m\n\u001b[1;32m   1151\u001b[0m \u001b[38;5;28;01mif\u001b[39;00m \u001b[38;5;28mall\u001b[39m(d \u001b[38;5;241m<\u001b[39m\u001b[38;5;241m=\u001b[39m \u001b[38;5;241m0\u001b[39m \u001b[38;5;28;01mfor\u001b[39;00m d \u001b[38;5;129;01min\u001b[39;00m dmp_degree_list(g, u)):\n\u001b[1;32m   1152\u001b[0m     \u001b[38;5;28;01mreturn\u001b[39;00m cont, []\n\u001b[0;32m-> 1154\u001b[0m G, g \u001b[38;5;241m=\u001b[39m \u001b[43mdmp_primitive\u001b[49m\u001b[43m(\u001b[49m\u001b[43mg\u001b[49m\u001b[43m,\u001b[49m\u001b[43m \u001b[49m\u001b[43mu\u001b[49m\u001b[43m,\u001b[49m\u001b[43m \u001b[49m\u001b[43mK\u001b[49m\u001b[43m)\u001b[49m\n\u001b[1;32m   1156\u001b[0m factors \u001b[38;5;241m=\u001b[39m []\n\u001b[1;32m   1158\u001b[0m \u001b[38;5;28;01mif\u001b[39;00m dmp_degree(g, u) \u001b[38;5;241m>\u001b[39m \u001b[38;5;241m0\u001b[39m:\n",
      "File \u001b[0;32m/Library/Frameworks/Python.framework/Versions/3.11/lib/python3.11/site-packages/sympy/polys/euclidtools.py:1818\u001b[0m, in \u001b[0;36mdmp_primitive\u001b[0;34m(f, u, K)\u001b[0m\n\u001b[1;32m   1804\u001b[0m \u001b[38;5;28;01mdef\u001b[39;00m \u001b[38;5;21mdmp_primitive\u001b[39m(f, u, K):\n\u001b[1;32m   1805\u001b[0m \u001b[38;5;250m    \u001b[39m\u001b[38;5;124;03m\"\"\"\u001b[39;00m\n\u001b[1;32m   1806\u001b[0m \u001b[38;5;124;03m    Returns multivariate content and a primitive polynomial.\u001b[39;00m\n\u001b[1;32m   1807\u001b[0m \n\u001b[0;32m   (...)\u001b[0m\n\u001b[1;32m   1816\u001b[0m \n\u001b[1;32m   1817\u001b[0m \u001b[38;5;124;03m    \"\"\"\u001b[39;00m\n\u001b[0;32m-> 1818\u001b[0m     cont, v \u001b[38;5;241m=\u001b[39m \u001b[43mdmp_content\u001b[49m\u001b[43m(\u001b[49m\u001b[43mf\u001b[49m\u001b[43m,\u001b[49m\u001b[43m \u001b[49m\u001b[43mu\u001b[49m\u001b[43m,\u001b[49m\u001b[43m \u001b[49m\u001b[43mK\u001b[49m\u001b[43m)\u001b[49m, u \u001b[38;5;241m-\u001b[39m \u001b[38;5;241m1\u001b[39m\n\u001b[1;32m   1820\u001b[0m     \u001b[38;5;28;01mif\u001b[39;00m dmp_zero_p(f, u) \u001b[38;5;129;01mor\u001b[39;00m dmp_one_p(cont, v, K):\n\u001b[1;32m   1821\u001b[0m         \u001b[38;5;28;01mreturn\u001b[39;00m cont, f\n",
      "File \u001b[0;32m/Library/Frameworks/Python.framework/Versions/3.11/lib/python3.11/site-packages/sympy/polys/euclidtools.py:1793\u001b[0m, in \u001b[0;36mdmp_content\u001b[0;34m(f, u, K)\u001b[0m\n\u001b[1;32m   1790\u001b[0m     \u001b[38;5;28;01mreturn\u001b[39;00m cont\n\u001b[1;32m   1792\u001b[0m \u001b[38;5;28;01mfor\u001b[39;00m c \u001b[38;5;129;01min\u001b[39;00m f[\u001b[38;5;241m1\u001b[39m:]:\n\u001b[0;32m-> 1793\u001b[0m     cont \u001b[38;5;241m=\u001b[39m \u001b[43mdmp_gcd\u001b[49m\u001b[43m(\u001b[49m\u001b[43mcont\u001b[49m\u001b[43m,\u001b[49m\u001b[43m \u001b[49m\u001b[43mc\u001b[49m\u001b[43m,\u001b[49m\u001b[43m \u001b[49m\u001b[43mv\u001b[49m\u001b[43m,\u001b[49m\u001b[43m \u001b[49m\u001b[43mK\u001b[49m\u001b[43m)\u001b[49m\n\u001b[1;32m   1795\u001b[0m     \u001b[38;5;28;01mif\u001b[39;00m dmp_one_p(cont, v, K):\n\u001b[1;32m   1796\u001b[0m         \u001b[38;5;28;01mbreak\u001b[39;00m\n",
      "File \u001b[0;32m/Library/Frameworks/Python.framework/Versions/3.11/lib/python3.11/site-packages/sympy/polys/euclidtools.py:1625\u001b[0m, in \u001b[0;36mdmp_gcd\u001b[0;34m(f, g, u, K)\u001b[0m\n\u001b[1;32m   1608\u001b[0m \u001b[38;5;28;01mdef\u001b[39;00m \u001b[38;5;21mdmp_gcd\u001b[39m(f, g, u, K):\n\u001b[1;32m   1609\u001b[0m \u001b[38;5;250m    \u001b[39m\u001b[38;5;124;03m\"\"\"\u001b[39;00m\n\u001b[1;32m   1610\u001b[0m \u001b[38;5;124;03m    Computes polynomial GCD of `f` and `g` in `K[X]`.\u001b[39;00m\n\u001b[1;32m   1611\u001b[0m \n\u001b[0;32m   (...)\u001b[0m\n\u001b[1;32m   1623\u001b[0m \n\u001b[1;32m   1624\u001b[0m \u001b[38;5;124;03m    \"\"\"\u001b[39;00m\n\u001b[0;32m-> 1625\u001b[0m     \u001b[38;5;28;01mreturn\u001b[39;00m \u001b[43mdmp_inner_gcd\u001b[49m\u001b[43m(\u001b[49m\u001b[43mf\u001b[49m\u001b[43m,\u001b[49m\u001b[43m \u001b[49m\u001b[43mg\u001b[49m\u001b[43m,\u001b[49m\u001b[43m \u001b[49m\u001b[43mu\u001b[49m\u001b[43m,\u001b[49m\u001b[43m \u001b[49m\u001b[43mK\u001b[49m\u001b[43m)\u001b[49m[\u001b[38;5;241m0\u001b[39m]\n",
      "File \u001b[0;32m/Library/Frameworks/Python.framework/Versions/3.11/lib/python3.11/site-packages/sympy/polys/euclidtools.py:1584\u001b[0m, in \u001b[0;36mdmp_inner_gcd\u001b[0;34m(f, g, u, K)\u001b[0m\n\u001b[1;32m   1581\u001b[0m     \u001b[38;5;28;01mreturn\u001b[39;00m dup_inner_gcd(f, g, K)\n\u001b[1;32m   1583\u001b[0m J, (f, g) \u001b[38;5;241m=\u001b[39m dmp_multi_deflate((f, g), u, K)\n\u001b[0;32m-> 1584\u001b[0m h, cff, cfg \u001b[38;5;241m=\u001b[39m \u001b[43m_dmp_inner_gcd\u001b[49m\u001b[43m(\u001b[49m\u001b[43mf\u001b[49m\u001b[43m,\u001b[49m\u001b[43m \u001b[49m\u001b[43mg\u001b[49m\u001b[43m,\u001b[49m\u001b[43m \u001b[49m\u001b[43mu\u001b[49m\u001b[43m,\u001b[49m\u001b[43m \u001b[49m\u001b[43mK\u001b[49m\u001b[43m)\u001b[49m\n\u001b[1;32m   1586\u001b[0m \u001b[38;5;28;01mreturn\u001b[39;00m (dmp_inflate(h, J, u, K),\n\u001b[1;32m   1587\u001b[0m         dmp_inflate(cff, J, u, K),\n\u001b[1;32m   1588\u001b[0m         dmp_inflate(cfg, J, u, K))\n",
      "File \u001b[0;32m/Library/Frameworks/Python.framework/Versions/3.11/lib/python3.11/site-packages/sympy/polys/euclidtools.py:1553\u001b[0m, in \u001b[0;36m_dmp_inner_gcd\u001b[0;34m(f, g, u, K)\u001b[0m\n\u001b[1;32m   1551\u001b[0m \u001b[38;5;28;01mif\u001b[39;00m K\u001b[38;5;241m.\u001b[39mis_ZZ \u001b[38;5;129;01mand\u001b[39;00m query(\u001b[38;5;124m'\u001b[39m\u001b[38;5;124mUSE_HEU_GCD\u001b[39m\u001b[38;5;124m'\u001b[39m):\n\u001b[1;32m   1552\u001b[0m     \u001b[38;5;28;01mtry\u001b[39;00m:\n\u001b[0;32m-> 1553\u001b[0m         \u001b[38;5;28;01mreturn\u001b[39;00m \u001b[43mdmp_zz_heu_gcd\u001b[49m\u001b[43m(\u001b[49m\u001b[43mf\u001b[49m\u001b[43m,\u001b[49m\u001b[43m \u001b[49m\u001b[43mg\u001b[49m\u001b[43m,\u001b[49m\u001b[43m \u001b[49m\u001b[43mu\u001b[49m\u001b[43m,\u001b[49m\u001b[43m \u001b[49m\u001b[43mK\u001b[49m\u001b[43m)\u001b[49m\n\u001b[1;32m   1554\u001b[0m     \u001b[38;5;28;01mexcept\u001b[39;00m HeuristicGCDFailed:\n\u001b[1;32m   1555\u001b[0m         \u001b[38;5;28;01mpass\u001b[39;00m\n",
      "File \u001b[0;32m/Library/Frameworks/Python.framework/Versions/3.11/lib/python3.11/site-packages/sympy/polys/euclidtools.py:1334\u001b[0m, in \u001b[0;36mdmp_zz_heu_gcd\u001b[0;34m(f, g, u, K)\u001b[0m\n\u001b[1;32m   1331\u001b[0m v \u001b[38;5;241m=\u001b[39m u \u001b[38;5;241m-\u001b[39m \u001b[38;5;241m1\u001b[39m\n\u001b[1;32m   1333\u001b[0m \u001b[38;5;28;01mif\u001b[39;00m \u001b[38;5;129;01mnot\u001b[39;00m (dmp_zero_p(ff, v) \u001b[38;5;129;01mor\u001b[39;00m dmp_zero_p(gg, v)):\n\u001b[0;32m-> 1334\u001b[0m     h, cff, cfg \u001b[38;5;241m=\u001b[39m \u001b[43mdmp_zz_heu_gcd\u001b[49m\u001b[43m(\u001b[49m\u001b[43mff\u001b[49m\u001b[43m,\u001b[49m\u001b[43m \u001b[49m\u001b[43mgg\u001b[49m\u001b[43m,\u001b[49m\u001b[43m \u001b[49m\u001b[43mv\u001b[49m\u001b[43m,\u001b[49m\u001b[43m \u001b[49m\u001b[43mK\u001b[49m\u001b[43m)\u001b[49m\n\u001b[1;32m   1336\u001b[0m     h \u001b[38;5;241m=\u001b[39m _dmp_zz_gcd_interpolate(h, x, v, K)\n\u001b[1;32m   1337\u001b[0m     h \u001b[38;5;241m=\u001b[39m dmp_ground_primitive(h, u, K)[\u001b[38;5;241m1\u001b[39m]\n",
      "File \u001b[0;32m/Library/Frameworks/Python.framework/Versions/3.11/lib/python3.11/site-packages/sympy/polys/euclidtools.py:1334\u001b[0m, in \u001b[0;36mdmp_zz_heu_gcd\u001b[0;34m(f, g, u, K)\u001b[0m\n\u001b[1;32m   1331\u001b[0m v \u001b[38;5;241m=\u001b[39m u \u001b[38;5;241m-\u001b[39m \u001b[38;5;241m1\u001b[39m\n\u001b[1;32m   1333\u001b[0m \u001b[38;5;28;01mif\u001b[39;00m \u001b[38;5;129;01mnot\u001b[39;00m (dmp_zero_p(ff, v) \u001b[38;5;129;01mor\u001b[39;00m dmp_zero_p(gg, v)):\n\u001b[0;32m-> 1334\u001b[0m     h, cff, cfg \u001b[38;5;241m=\u001b[39m \u001b[43mdmp_zz_heu_gcd\u001b[49m\u001b[43m(\u001b[49m\u001b[43mff\u001b[49m\u001b[43m,\u001b[49m\u001b[43m \u001b[49m\u001b[43mgg\u001b[49m\u001b[43m,\u001b[49m\u001b[43m \u001b[49m\u001b[43mv\u001b[49m\u001b[43m,\u001b[49m\u001b[43m \u001b[49m\u001b[43mK\u001b[49m\u001b[43m)\u001b[49m\n\u001b[1;32m   1336\u001b[0m     h \u001b[38;5;241m=\u001b[39m _dmp_zz_gcd_interpolate(h, x, v, K)\n\u001b[1;32m   1337\u001b[0m     h \u001b[38;5;241m=\u001b[39m dmp_ground_primitive(h, u, K)[\u001b[38;5;241m1\u001b[39m]\n",
      "    \u001b[0;31m[... skipping similar frames: dmp_zz_heu_gcd at line 1334 (1 times)]\u001b[0m\n",
      "File \u001b[0;32m/Library/Frameworks/Python.framework/Versions/3.11/lib/python3.11/site-packages/sympy/polys/euclidtools.py:1334\u001b[0m, in \u001b[0;36mdmp_zz_heu_gcd\u001b[0;34m(f, g, u, K)\u001b[0m\n\u001b[1;32m   1331\u001b[0m v \u001b[38;5;241m=\u001b[39m u \u001b[38;5;241m-\u001b[39m \u001b[38;5;241m1\u001b[39m\n\u001b[1;32m   1333\u001b[0m \u001b[38;5;28;01mif\u001b[39;00m \u001b[38;5;129;01mnot\u001b[39;00m (dmp_zero_p(ff, v) \u001b[38;5;129;01mor\u001b[39;00m dmp_zero_p(gg, v)):\n\u001b[0;32m-> 1334\u001b[0m     h, cff, cfg \u001b[38;5;241m=\u001b[39m \u001b[43mdmp_zz_heu_gcd\u001b[49m\u001b[43m(\u001b[49m\u001b[43mff\u001b[49m\u001b[43m,\u001b[49m\u001b[43m \u001b[49m\u001b[43mgg\u001b[49m\u001b[43m,\u001b[49m\u001b[43m \u001b[49m\u001b[43mv\u001b[49m\u001b[43m,\u001b[49m\u001b[43m \u001b[49m\u001b[43mK\u001b[49m\u001b[43m)\u001b[49m\n\u001b[1;32m   1336\u001b[0m     h \u001b[38;5;241m=\u001b[39m _dmp_zz_gcd_interpolate(h, x, v, K)\n\u001b[1;32m   1337\u001b[0m     h \u001b[38;5;241m=\u001b[39m dmp_ground_primitive(h, u, K)[\u001b[38;5;241m1\u001b[39m]\n",
      "File \u001b[0;32m/Library/Frameworks/Python.framework/Versions/3.11/lib/python3.11/site-packages/sympy/polys/euclidtools.py:1309\u001b[0m, in \u001b[0;36mdmp_zz_heu_gcd\u001b[0;34m(f, g, u, K)\u001b[0m\n\u001b[1;32m   1269\u001b[0m \u001b[38;5;250m\u001b[39m\u001b[38;5;124;03m\"\"\"\u001b[39;00m\n\u001b[1;32m   1270\u001b[0m \u001b[38;5;124;03mHeuristic polynomial GCD in `Z[X]`.\u001b[39;00m\n\u001b[1;32m   1271\u001b[0m \n\u001b[0;32m   (...)\u001b[0m\n\u001b[1;32m   1306\u001b[0m \n\u001b[1;32m   1307\u001b[0m \u001b[38;5;124;03m\"\"\"\u001b[39;00m\n\u001b[1;32m   1308\u001b[0m \u001b[38;5;28;01mif\u001b[39;00m \u001b[38;5;129;01mnot\u001b[39;00m u:\n\u001b[0;32m-> 1309\u001b[0m     \u001b[38;5;28;01mreturn\u001b[39;00m \u001b[43mdup_zz_heu_gcd\u001b[49m\u001b[43m(\u001b[49m\u001b[43mf\u001b[49m\u001b[43m,\u001b[49m\u001b[43m \u001b[49m\u001b[43mg\u001b[49m\u001b[43m,\u001b[49m\u001b[43m \u001b[49m\u001b[43mK\u001b[49m\u001b[43m)\u001b[49m\n\u001b[1;32m   1311\u001b[0m result \u001b[38;5;241m=\u001b[39m _dmp_rr_trivial_gcd(f, g, u, K)\n\u001b[1;32m   1313\u001b[0m \u001b[38;5;28;01mif\u001b[39;00m result \u001b[38;5;129;01mis\u001b[39;00m \u001b[38;5;129;01mnot\u001b[39;00m \u001b[38;5;28;01mNone\u001b[39;00m:\n",
      "File \u001b[0;32m/Library/Frameworks/Python.framework/Versions/3.11/lib/python3.11/site-packages/sympy/polys/euclidtools.py:1212\u001b[0m, in \u001b[0;36mdup_zz_heu_gcd\u001b[0;34m(f, g, K)\u001b[0m\n\u001b[1;32m   1209\u001b[0m cff \u001b[38;5;241m=\u001b[39m ff \u001b[38;5;241m/\u001b[39m\u001b[38;5;241m/\u001b[39m h\n\u001b[1;32m   1210\u001b[0m cfg \u001b[38;5;241m=\u001b[39m gg \u001b[38;5;241m/\u001b[39m\u001b[38;5;241m/\u001b[39m h\n\u001b[0;32m-> 1212\u001b[0m h \u001b[38;5;241m=\u001b[39m \u001b[43m_dup_zz_gcd_interpolate\u001b[49m\u001b[43m(\u001b[49m\u001b[43mh\u001b[49m\u001b[43m,\u001b[49m\u001b[43m \u001b[49m\u001b[43mx\u001b[49m\u001b[43m,\u001b[49m\u001b[43m \u001b[49m\u001b[43mK\u001b[49m\u001b[43m)\u001b[49m\n\u001b[1;32m   1213\u001b[0m h \u001b[38;5;241m=\u001b[39m dup_primitive(h, K)[\u001b[38;5;241m1\u001b[39m]\n\u001b[1;32m   1215\u001b[0m cff_, r \u001b[38;5;241m=\u001b[39m dup_div(f, h, K)\n",
      "File \u001b[0;32m/Library/Frameworks/Python.framework/Versions/3.11/lib/python3.11/site-packages/sympy/polys/euclidtools.py:1134\u001b[0m, in \u001b[0;36m_dup_zz_gcd_interpolate\u001b[0;34m(h, x, K)\u001b[0m\n\u001b[1;32m   1131\u001b[0m f \u001b[38;5;241m=\u001b[39m []\n\u001b[1;32m   1133\u001b[0m \u001b[38;5;28;01mwhile\u001b[39;00m h:\n\u001b[0;32m-> 1134\u001b[0m     g \u001b[38;5;241m=\u001b[39m \u001b[43mh\u001b[49m\u001b[43m \u001b[49m\u001b[38;5;241;43m%\u001b[39;49m\u001b[43m \u001b[49m\u001b[43mx\u001b[49m\n\u001b[1;32m   1136\u001b[0m     \u001b[38;5;28;01mif\u001b[39;00m g \u001b[38;5;241m>\u001b[39m x \u001b[38;5;241m/\u001b[39m\u001b[38;5;241m/\u001b[39m \u001b[38;5;241m2\u001b[39m:\n\u001b[1;32m   1137\u001b[0m         g \u001b[38;5;241m-\u001b[39m\u001b[38;5;241m=\u001b[39m x\n",
      "\u001b[0;31mKeyboardInterrupt\u001b[0m: "
     ]
    }
   ],
   "source": [
    "solve(POLY,psi)"
   ]
  },
  {
   "cell_type": "code",
   "execution_count": 347,
   "metadata": {},
   "outputs": [],
   "source": [
    "SOL_BP =  series(eq_br,beta).removeO()"
   ]
  },
  {
   "cell_type": "code",
   "execution_count": 361,
   "metadata": {},
   "outputs": [
    {
     "data": {
      "image/png": "[encoded data removed]",
      "text/latex": [
       "$\\displaystyle \\operatorname{Poly}{\\left( 2 \\frac{1}{2 \\sin{\\left(\\psi \\right)} + \\sin{\\left(2 \\beta - \\psi \\right)}}\\sin{\\left(2 \\beta + \\psi \\right)}\\sin{\\left(\\beta + 2 \\psi \\right)} + \\frac{1}{2 \\sin{\\left(\\psi \\right)} + \\sin{\\left(2 \\beta - \\psi \\right)}}\\sin{\\left(2 \\beta + \\psi \\right)}\\sin{\\left(\\beta - 2 \\psi \\right)} + \\sin{\\left(\\beta \\right)}, \\frac{1}{2 \\sin{\\left(\\psi \\right)} + \\sin{\\left(2 \\beta - \\psi \\right)}}, \\sin{\\left(2 \\beta + \\psi \\right)}, \\sin{\\left(\\beta + 2 \\psi \\right)}, \\sin{\\left(\\beta - 2 \\psi \\right)}, \\sin{\\left(\\beta \\right)}, domain=\\mathbb{Z} \\right)}$"
      ],
      "text/plain": [
       "Poly(2*(1/(2*sin(psi) + sin(2*beta - psi)))*(sin(2*beta + psi))*(sin(beta + 2*\n",
       "psi)) + (1/(2*sin(psi) + sin(2*beta - psi)))*(sin(2*beta + psi))*(sin(beta - 2\n",
       "*psi)) + (sin(beta)), 1/(2*sin(psi) + sin(2*beta - psi)), sin(2*beta + psi), s\n",
       "in(beta + 2*psi), sin(beta - 2*psi), sin(beta), domain='ZZ')"
      ]
     },
     "execution_count": 361,
     "metadata": {},
     "output_type": "execute_result"
    }
   ],
   "source": [
    "solve"
   ]
  },
  {
   "cell_type": "code",
   "execution_count": null,
   "metadata": {},
   "outputs": [],
   "source": []
  }
 ],
 "metadata": {
  "kernelspec": {
   "display_name": "Python 3",
   "language": "python",
   "name": "python3"
  },
  "language_info": {
   "codemirror_mode": {
    "name": "ipython",
    "version": 3
   },
   "file_extension": ".py",
   "mimetype": "text/x-python",
   "name": "python",
   "nbconvert_exporter": "python",
   "pygments_lexer": "ipython3",
   "version": "3.11.1"
  }
 },
 "nbformat": 4,
 "nbformat_minor": 2
}
