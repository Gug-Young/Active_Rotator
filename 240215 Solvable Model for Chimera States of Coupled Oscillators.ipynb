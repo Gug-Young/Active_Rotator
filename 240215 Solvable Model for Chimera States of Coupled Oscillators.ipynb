{
 "cells": [
  {
   "cell_type": "code",
   "execution_count": 1,
   "metadata": {},
   "outputs": [],
   "source": [
    "from sympy import *"
   ]
  },
  {
   "cell_type": "code",
   "execution_count": 2,
   "metadata": {},
   "outputs": [],
   "source": [
    "r, mu, alpha,beta , nu, psi = symbols('r mu alpha beta nu psi')"
   ]
  },
  {
   "cell_type": "code",
   "execution_count": 3,
   "metadata": {},
   "outputs": [],
   "source": [
    "eqpsi0 = (1+r**2)/(2*r)*(mu*r*sin(alpha)-nu*sin(psi-alpha)) - mu*sin(alpha) - nu*r*sin(psi+alpha)\n",
    "eqpsi1 = eqpsi0.subs(alpha,pi/2 - beta)\n",
    "\n",
    "eqr0 = (1-r**2)/(2)*(mu*r*cos(alpha)+nu*cos(psi-alpha))\n",
    "eqr1 = eqr0.subs(alpha,pi/2 - beta)"
   ]
  },
  {
   "cell_type": "code",
   "execution_count": 4,
   "metadata": {},
   "outputs": [],
   "source": [
    "A_ans = (sin(beta+psi) + r*sin(beta)) / (sin(beta+psi) - r*sin(beta))\n",
    "A = symbols('A')\n",
    "mu1 = (1+A)/2\n",
    "nu1 = (1-A)/2\n",
    "\n",
    "eq_psi = eqpsi1.subs(nu,nu1).subs(mu,mu1).simplify()\n",
    "eq_r = eqr1.subs(nu,nu1).subs(mu,mu1).simplify()"
   ]
  },
  {
   "cell_type": "code",
   "execution_count": 5,
   "metadata": {},
   "outputs": [
    {
     "data": {
      "text/latex": [
       "$\\displaystyle \\frac{\\left(1 - r^{2}\\right) \\left(r \\left(A + 1\\right) \\sin{\\left(\\beta \\right)} + \\left(1 - A\\right) \\sin{\\left(\\beta + \\psi \\right)}\\right)}{4}$"
      ],
      "text/plain": [
       "(1 - r**2)*(r*(A + 1)*sin(beta) + (1 - A)*sin(beta + psi))/4"
      ]
     },
     "execution_count": 5,
     "metadata": {},
     "output_type": "execute_result"
    }
   ],
   "source": [
    "eq_r"
   ]
  },
  {
   "cell_type": "code",
   "execution_count": 6,
   "metadata": {},
   "outputs": [
    {
     "data": {
      "text/latex": [
       "$\\displaystyle \\frac{\\left(1 - r^{2}\\right) \\left(r \\left(A + 1\\right) \\sin{\\left(\\beta \\right)} + \\left(1 - A\\right) \\sin{\\left(\\beta + \\psi \\right)}\\right)}{4}$"
      ],
      "text/plain": [
       "(1 - r**2)*(r*(A + 1)*sin(beta) + (1 - A)*sin(beta + psi))/4"
      ]
     },
     "execution_count": 6,
     "metadata": {},
     "output_type": "execute_result"
    }
   ],
   "source": [
    "eq_r"
   ]
  },
  {
   "cell_type": "code",
   "execution_count": 7,
   "metadata": {},
   "outputs": [],
   "source": [
    "EQ = Eq(0,eq_psi)"
   ]
  },
  {
   "cell_type": "code",
   "execution_count": 8,
   "metadata": {},
   "outputs": [],
   "source": [
    "d_rr =eqr1.diff(r).simplify()\n",
    "d_rpsi =eqr1.diff(psi).simplify()\n",
    "\n",
    "\n",
    "d_psir =eqpsi1.diff(r).simplify()\n",
    "d_psipsi =eqpsi1.diff(psi).simplify()\n"
   ]
  },
  {
   "cell_type": "code",
   "execution_count": 9,
   "metadata": {},
   "outputs": [],
   "source": [
    "SOL_r = solve(eq_psi.subs(A,A_ans).simplify(),r)[1]"
   ]
  },
  {
   "cell_type": "code",
   "execution_count": 10,
   "metadata": {},
   "outputs": [],
   "source": [
    "\n",
    "A_ans = (sin(beta+psi) + r*sin(beta)) / (sin(beta+psi) - r*sin(beta))\n",
    "# A = symbols('A')\n",
    "mu2 = (1+A_ans)/2\n",
    "nu2 = (1-A_ans)/2\n",
    "\n",
    "eq11 = eqr1.diff(r).subs([(mu,mu2),(nu,nu2)]).simplify()\n",
    "eq12 = eqr1.diff(psi).subs([(mu,mu2),(nu,nu2)]).simplify()\n",
    "eq21 = eqpsi1.diff(r).subs([(mu,mu2),(nu,nu2)]).simplify()\n",
    "eq22 = eqpsi1.diff(psi).subs([(mu,mu2),(nu,nu2)]).simplify()\n",
    "J = Matrix([[eq11,eq12],[eq21,eq22]])"
   ]
  },
  {
   "cell_type": "code",
   "execution_count": 11,
   "metadata": {},
   "outputs": [
    {
     "name": "stdout",
     "output_type": "stream",
     "text": [
      "\\left[\\begin{matrix}\\frac{\\left(\\frac{r^{2}}{2} - \\frac{1}{2}\\right) \\sin{\\left(\\beta \\right)} \\sin{\\left(\\beta + \\psi \\right)}}{r \\sin{\\left(\\beta \\right)} - \\sin{\\left(\\beta + \\psi \\right)}} & \\frac{r \\left(1 - r^{2}\\right) \\sin{\\left(\\beta \\right)} \\cos{\\left(\\beta + \\psi \\right)}}{2 \\left(r \\sin{\\left(\\beta \\right)} - \\sin{\\left(\\beta + \\psi \\right)}\\right)}\\\\- \\frac{3 r^{2} \\sin{\\left(\\beta \\right)} \\cos{\\left(\\beta - \\psi \\right)} + 2 r^{2} \\sin{\\left(\\psi \\right)} \\cos^{2}{\\left(\\beta \\right)} + \\sin{\\left(\\beta \\right)} \\cos{\\left(\\beta + \\psi \\right)}}{2 r \\left(r \\sin{\\left(\\beta \\right)} - \\sin{\\left(\\beta + \\psi \\right)}\\right)} & \\frac{\\left(- 2 r^{2} \\sin{\\left(\\beta - \\psi \\right)} + \\left(- r^{2} - 1\\right) \\sin{\\left(\\beta + \\psi \\right)}\\right) \\sin{\\left(\\beta \\right)}}{2 \\left(r \\sin{\\left(\\beta \\right)} - \\sin{\\left(\\beta + \\psi \\right)}\\right)}\\end{matrix}\\right]\n"
     ]
    }
   ],
   "source": [
    "print_latex(J)"
   ]
  },
  {
   "cell_type": "code",
   "execution_count": 12,
   "metadata": {},
   "outputs": [],
   "source": [
    "\n",
    "A_ans = (sin(beta+psi) + r*sin(beta)) / (sin(beta+psi) - r*sin(beta))\n",
    "# A = symbols('A')\n",
    "mu2 = (1+A_ans)/2\n",
    "nu2 = (1-A_ans)/2\n",
    "\n",
    "eq11 = eqr1.diff(r).simplify()\n",
    "eq12 = eqr1.diff(psi).simplify()\n",
    "eq21 = eqpsi1.diff(r).simplify()\n",
    "eq22 = eqpsi1.diff(psi).simplify()\n",
    "J = Matrix([[eq11,eq12],[eq21,eq22]])"
   ]
  },
  {
   "cell_type": "code",
   "execution_count": 486,
   "metadata": {},
   "outputs": [
    {
     "data": {
      "text/latex": [
       "$\\displaystyle - \\frac{3 \\mu r^{2} \\sin{\\left(\\beta \\right)}}{2} + \\frac{\\mu \\sin{\\left(\\beta \\right)}}{2} - \\nu r \\sin{\\left(\\beta + \\psi \\right)} + \\frac{\\nu \\left(- 2 r^{2} \\sin{\\left(\\beta - \\psi \\right)} + \\left(- r^{2} - 1\\right) \\sin{\\left(\\beta + \\psi \\right)}\\right)}{2 r}$"
      ],
      "text/plain": [
       "-3*mu*r**2*sin(beta)/2 + mu*sin(beta)/2 - nu*r*sin(beta + psi) + nu*(-2*r**2*sin(beta - psi) + (-r**2 - 1)*sin(beta + psi))/(2*r)"
      ]
     },
     "execution_count": 486,
     "metadata": {},
     "output_type": "execute_result"
    }
   ],
   "source": [
    "eq11+eq22"
   ]
  },
  {
   "cell_type": "code",
   "execution_count": 488,
   "metadata": {},
   "outputs": [],
   "source": [
    "Tra = eqr1.diff(r).subs([(mu,mu2),(nu,nu2)]).simplify() + eqpsi1.diff(psi).subs([(mu,mu2),(nu,nu2)]).simplify()"
   ]
  },
  {
   "cell_type": "code",
   "execution_count": 491,
   "metadata": {},
   "outputs": [
    {
     "data": {
      "text/latex": [
       "$\\displaystyle \\sqrt{\\frac{\\sin{\\left(2 \\beta + \\psi \\right)}}{2 \\sin{\\left(\\psi \\right)} + \\sin{\\left(2 \\beta - \\psi \\right)}}}$"
      ],
      "text/plain": [
       "sqrt(sin(2*beta + psi)/(2*sin(psi) + sin(2*beta - psi)))"
      ]
     },
     "execution_count": 491,
     "metadata": {},
     "output_type": "execute_result"
    }
   ],
   "source": [
    "SOL_r"
   ]
  },
  {
   "cell_type": "code",
   "execution_count": 494,
   "metadata": {},
   "outputs": [],
   "source": [
    "Tra = Tra.subs(r,SOL_r).simplify()"
   ]
  },
  {
   "cell_type": "code",
   "execution_count": 500,
   "metadata": {},
   "outputs": [],
   "source": [
    "N,D =fraction(expand_trig(Tra))"
   ]
  },
  {
   "cell_type": "code",
   "execution_count": 504,
   "metadata": {},
   "outputs": [
    {
     "name": "stdout",
     "output_type": "stream",
     "text": [
      "\\left(- 4 \\sin{\\left(\\beta \\right)} \\sin{\\left(\\psi \\right)} \\cos{\\left(\\psi \\right)} + 8 \\cos^{3}{\\left(\\beta \\right)} - 8 \\cos{\\left(\\beta \\right)}\\right) \\sin{\\left(\\beta \\right)}\n"
     ]
    }
   ],
   "source": [
    "print_latex(N)"
   ]
  },
  {
   "cell_type": "code",
   "execution_count": 505,
   "metadata": {},
   "outputs": [],
   "source": [
    "Nn = -2*cos(beta)+2*cos(3*beta) - cos(beta-2*psi) + cos(beta+2*psi)"
   ]
  },
  {
   "cell_type": "code",
   "execution_count": 508,
   "metadata": {},
   "outputs": [
    {
     "data": {
      "text/latex": [
       "$\\displaystyle - 4 \\sin{\\left(\\beta \\right)} \\sin{\\left(\\psi \\right)} \\cos{\\left(\\psi \\right)} + 8 \\cos^{3}{\\left(\\beta \\right)} - 8 \\cos{\\left(\\beta \\right)}$"
      ],
      "text/plain": [
       "-4*sin(beta)*sin(psi)*cos(psi) + 8*cos(beta)**3 - 8*cos(beta)"
      ]
     },
     "execution_count": 508,
     "metadata": {},
     "output_type": "execute_result"
    }
   ],
   "source": [
    "expand_trig(Nn).collect(cos(beta))"
   ]
  },
  {
   "cell_type": "code",
   "execution_count": 498,
   "metadata": {},
   "outputs": [
    {
     "data": {
      "text/plain": [
       "[-I*log(-sqrt(-exp(-I*beta))),\n",
       " -I*log(-sqrt(-exp(I*beta))),\n",
       " -I*log(-exp(-I*beta))/2,\n",
       " -I*log(-exp(I*beta))/2]"
      ]
     },
     "execution_count": 498,
     "metadata": {},
     "output_type": "execute_result"
    }
   ],
   "source": [
    "solve(Tra,psi)"
   ]
  },
  {
   "cell_type": "code",
   "execution_count": 497,
   "metadata": {},
   "outputs": [
    {
     "name": "stdout",
     "output_type": "stream",
     "text": [
      "\\frac{\\left(- 2 \\cos{\\left(\\beta \\right)} + 2 \\cos{\\left(3 \\beta \\right)} - \\cos{\\left(\\beta - 2 \\psi \\right)} + \\cos{\\left(\\beta + 2 \\psi \\right)}\\right) \\sin{\\left(\\beta \\right)}}{2 \\left(\\sqrt{\\frac{\\sin{\\left(2 \\beta + \\psi \\right)}}{2 \\sin{\\left(\\psi \\right)} + \\sin{\\left(2 \\beta - \\psi \\right)}}} \\sin{\\left(\\beta \\right)} - \\sin{\\left(\\beta + \\psi \\right)}\\right) \\left(2 \\sin{\\left(\\psi \\right)} + \\sin{\\left(2 \\beta - \\psi \\right)}\\right)}\n"
     ]
    }
   ],
   "source": [
    "print_latex(Tra)"
   ]
  },
  {
   "cell_type": "code",
   "execution_count": 495,
   "metadata": {},
   "outputs": [
    {
     "data": {
      "text/latex": [
       "$\\displaystyle \\frac{\\left(- 4 \\sin{\\left(\\beta \\right)} \\sin{\\left(\\psi \\right)} \\cos{\\left(\\psi \\right)} + 8 \\cos^{3}{\\left(\\beta \\right)} - 8 \\cos{\\left(\\beta \\right)}\\right) \\sin{\\left(\\beta \\right)}}{2 \\left(\\sqrt{\\frac{\\left(2 \\cos^{2}{\\left(\\beta \\right)} - 1\\right) \\sin{\\left(\\psi \\right)} + 2 \\sin{\\left(\\beta \\right)} \\cos{\\left(\\beta \\right)} \\cos{\\left(\\psi \\right)}}{- \\left(2 \\cos^{2}{\\left(\\beta \\right)} - 1\\right) \\sin{\\left(\\psi \\right)} + 2 \\sin{\\left(\\beta \\right)} \\cos{\\left(\\beta \\right)} \\cos{\\left(\\psi \\right)} + 2 \\sin{\\left(\\psi \\right)}}} \\sin{\\left(\\beta \\right)} - \\sin{\\left(\\beta \\right)} \\cos{\\left(\\psi \\right)} - \\sin{\\left(\\psi \\right)} \\cos{\\left(\\beta \\right)}\\right) \\left(- \\left(2 \\cos^{2}{\\left(\\beta \\right)} - 1\\right) \\sin{\\left(\\psi \\right)} + 2 \\sin{\\left(\\beta \\right)} \\cos{\\left(\\beta \\right)} \\cos{\\left(\\psi \\right)} + 2 \\sin{\\left(\\psi \\right)}\\right)}$"
      ],
      "text/plain": [
       "(-4*sin(beta)*sin(psi)*cos(psi) + 8*cos(beta)**3 - 8*cos(beta))*sin(beta)/(2*(sqrt(((2*cos(beta)**2 - 1)*sin(psi) + 2*sin(beta)*cos(beta)*cos(psi))/(-(2*cos(beta)**2 - 1)*sin(psi) + 2*sin(beta)*cos(beta)*cos(psi) + 2*sin(psi)))*sin(beta) - sin(beta)*cos(psi) - sin(psi)*cos(beta))*(-(2*cos(beta)**2 - 1)*sin(psi) + 2*sin(beta)*cos(beta)*cos(psi) + 2*sin(psi)))"
      ]
     },
     "execution_count": 495,
     "metadata": {},
     "output_type": "execute_result"
    }
   ],
   "source": [
    "expand_trig(Tra)"
   ]
  },
  {
   "cell_type": "code",
   "execution_count": 490,
   "metadata": {},
   "outputs": [
    {
     "name": "stdout",
     "output_type": "stream",
     "text": [
      "- \\frac{\\left(r^{2} \\sin{\\left(\\beta - \\psi \\right)} + \\sin{\\left(\\beta + \\psi \\right)}\\right) \\sin{\\left(\\beta \\right)}}{r \\sin{\\left(\\beta \\right)} - \\sin{\\left(\\beta + \\psi \\right)}}\n"
     ]
    }
   ],
   "source": [
    "print_latex(Tra.simplify())"
   ]
  },
  {
   "cell_type": "code",
   "execution_count": 20,
   "metadata": {},
   "outputs": [],
   "source": [
    "J = Matrix([[d_rr,d_rpsi],[d_psir,d_psipsi]])"
   ]
  },
  {
   "cell_type": "code",
   "execution_count": 21,
   "metadata": {},
   "outputs": [],
   "source": [
    "J_DET =  J.det().factor()"
   ]
  },
  {
   "cell_type": "code",
   "execution_count": 22,
   "metadata": {},
   "outputs": [
    {
     "data": {
      "text/plain": [
       "[]"
      ]
     },
     "execution_count": 22,
     "metadata": {},
     "output_type": "execute_result"
    }
   ],
   "source": [
    "solve(J_DET,r)"
   ]
  },
  {
   "cell_type": "code",
   "execution_count": 23,
   "metadata": {},
   "outputs": [
    {
     "name": "stdout",
     "output_type": "stream",
     "text": [
      "\\left[ \\right]\n"
     ]
    }
   ],
   "source": [
    "print_latex(solve(J_DET,r))"
   ]
  },
  {
   "cell_type": "code",
   "execution_count": 24,
   "metadata": {},
   "outputs": [],
   "source": [
    "TEMP = J_DET.subs(mu,(1+A_ans)/2).subs(nu,(1-A_ans)/2).factor().factor(r)#.simplify().factor()"
   ]
  },
  {
   "cell_type": "code",
   "execution_count": 27,
   "metadata": {},
   "outputs": [
    {
     "data": {
      "text/plain": [
       "[-1,\n",
       " 1,\n",
       " -sqrt(-sin(beta)/(sin(beta - 2*psi) + 2*sin(beta + 2*psi))),\n",
       " sqrt(-sin(beta)/(sin(beta - 2*psi) + 2*sin(beta + 2*psi)))]"
      ]
     },
     "execution_count": 27,
     "metadata": {},
     "output_type": "execute_result"
    }
   ],
   "source": [
    "solve(TEMP,r)"
   ]
  },
  {
   "cell_type": "code",
   "execution_count": 305,
   "metadata": {},
   "outputs": [
    {
     "name": "stdout",
     "output_type": "stream",
     "text": [
      "- \\frac{\\left(r - 1\\right) \\left(r + 1\\right) \\left(2 r^{2} \\sin{\\left(\\beta \\right)} \\sin{\\left(\\beta - \\psi \\right)} \\sin{\\left(\\beta + \\psi \\right)} + r^{2} \\sin{\\left(\\beta \\right)} \\sin^{2}{\\left(\\beta + \\psi \\right)} + 3 r^{2} \\sin{\\left(\\beta \\right)} \\cos{\\left(\\beta - \\psi \\right)} \\cos{\\left(\\beta + \\psi \\right)} + 2 r^{2} \\sin{\\left(\\psi \\right)} \\cos^{2}{\\left(\\beta \\right)} \\cos{\\left(\\beta + \\psi \\right)} + \\sin{\\left(\\beta \\right)} \\sin^{2}{\\left(\\beta + \\psi \\right)} + \\sin{\\left(\\beta \\right)} \\cos^{2}{\\left(\\beta + \\psi \\right)}\\right) \\sin{\\left(\\beta \\right)}}{4 \\left(r \\sin{\\left(\\beta \\right)} - \\sin{\\left(\\beta + \\psi \\right)}\\right)^{2}}\n"
     ]
    }
   ],
   "source": [
    "print_latex(TEMP)"
   ]
  },
  {
   "cell_type": "code",
   "execution_count": 281,
   "metadata": {},
   "outputs": [
    {
     "data": {
      "image/png": "[encoded data removed]",
      "text/latex": [
       "$\\displaystyle \\frac{\\left(\\sqrt{\\frac{\\sin{\\left(2 \\beta + \\psi \\right)}}{2 \\sin{\\left(\\psi \\right)} + \\sin{\\left(2 \\beta - \\psi \\right)}}} - 1\\right) \\left(\\sqrt{\\frac{\\sin{\\left(2 \\beta + \\psi \\right)}}{2 \\sin{\\left(\\psi \\right)} + \\sin{\\left(2 \\beta - \\psi \\right)}}} + 1\\right) \\left(- 4 \\left(\\cos{\\left(2 \\beta \\right)} - 1\\right)^{2} \\cos{\\left(\\beta - 3 \\psi \\right)} - 20 \\left(\\cos{\\left(2 \\beta \\right)} - 1\\right)^{2} \\cos{\\left(\\beta - \\psi \\right)} + 20 \\left(\\cos{\\left(2 \\beta \\right)} - 1\\right)^{2} \\cos{\\left(\\beta + \\psi \\right)} - 28 \\left(\\cos{\\left(2 \\beta \\right)} - 1\\right)^{2} \\cos{\\left(\\beta + 3 \\psi \\right)} - 22 \\cos{\\left(\\beta - 3 \\psi \\right)} - 30 \\cos{\\left(\\beta - \\psi \\right)} - 18 \\cos{\\left(\\beta + \\psi \\right)} + 22 \\cos{\\left(\\beta + 3 \\psi \\right)} + 3 \\cos{\\left(3 \\beta - 3 \\psi \\right)} + 7 \\cos{\\left(3 \\beta - \\psi \\right)} + 25 \\cos{\\left(3 \\beta + \\psi \\right)} + 5 \\cos{\\left(3 \\beta + 3 \\psi \\right)} + \\cos{\\left(5 \\beta - 3 \\psi \\right)} + 5 \\cos{\\left(5 \\beta - \\psi \\right)} - 5 \\cos{\\left(5 \\beta + \\psi \\right)} + 7 \\cos{\\left(5 \\beta + 3 \\psi \\right)}\\right) \\sin{\\left(\\beta \\right)}}{128 \\left(\\sqrt{\\frac{\\sin{\\left(2 \\beta + \\psi \\right)}}{2 \\sin{\\left(\\psi \\right)} + \\sin{\\left(2 \\beta - \\psi \\right)}}} \\sin{\\left(\\beta \\right)} - \\sin{\\left(\\beta + \\psi \\right)}\\right)^{2} \\cdot \\left(2 \\sin{\\left(\\psi \\right)} + \\sin{\\left(2 \\beta - \\psi \\right)}\\right)}$"
      ],
      "text/plain": [
       "⎛    _________________________    ⎞ ⎛    _________________________    ⎞       \n",
       "⎜   ╱       sin(2⋅β + ψ)          ⎟ ⎜   ╱       sin(2⋅β + ψ)          ⎟ ⎛     \n",
       "⎜  ╱  ───────────────────────  - 1⎟⋅⎜  ╱  ───────────────────────  + 1⎟⋅⎝- 4⋅(\n",
       "⎝╲╱   2⋅sin(ψ) + sin(2⋅β - ψ)     ⎠ ⎝╲╱   2⋅sin(ψ) + sin(2⋅β - ψ)     ⎠       \n",
       "──────────────────────────────────────────────────────────────────────────────\n",
       "                                                                              \n",
       "                                                                              \n",
       "                                                                              \n",
       "                                                                              \n",
       "                                                                              \n",
       "\n",
       "                                                                              \n",
       "             2                                 2                              \n",
       "cos(2⋅β) - 1) ⋅cos(β - 3⋅ψ) - 20⋅(cos(2⋅β) - 1) ⋅cos(β - ψ) + 20⋅(cos(2⋅β) - 1\n",
       "                                                                              \n",
       "──────────────────────────────────────────────────────────────────────────────\n",
       "                                                                              \n",
       "                                                                              \n",
       "                                                                              \n",
       "                                                                              \n",
       "                                                                              \n",
       "\n",
       "                                                                              \n",
       " 2                               2                                            \n",
       ") ⋅cos(β + ψ) - 28⋅(cos(2⋅β) - 1) ⋅cos(β + 3⋅ψ) - 22⋅cos(β - 3⋅ψ) - 30⋅cos(β -\n",
       "                                                                              \n",
       "──────────────────────────────────────────────────────────────────────────────\n",
       "                                                                     2        \n",
       "                  ⎛    _________________________                    ⎞         \n",
       "                  ⎜   ╱       sin(2⋅β + ψ)                          ⎟         \n",
       "              128⋅⎜  ╱  ─────────────────────── ⋅sin(β) - sin(β + ψ)⎟ ⋅(2⋅sin(\n",
       "                  ⎝╲╱   2⋅sin(ψ) + sin(2⋅β - ψ)                     ⎠         \n",
       "\n",
       "                                                                              \n",
       "                                                                              \n",
       " ψ) - 18⋅cos(β + ψ) + 22⋅cos(β + 3⋅ψ) + 3⋅cos(3⋅β - 3⋅ψ) + 7⋅cos(3⋅β - ψ) + 25\n",
       "                                                                              \n",
       "──────────────────────────────────────────────────────────────────────────────\n",
       "                                                                              \n",
       "                                                                              \n",
       "                                                                              \n",
       "ψ) + sin(2⋅β - ψ))                                                            \n",
       "                                                                              \n",
       "\n",
       "                                                                              \n",
       "                                                                              \n",
       "⋅cos(3⋅β + ψ) + 5⋅cos(3⋅β + 3⋅ψ) + cos(5⋅β - 3⋅ψ) + 5⋅cos(5⋅β - ψ) - 5⋅cos(5⋅β\n",
       "                                                                              \n",
       "──────────────────────────────────────────────────────────────────────────────\n",
       "                                                                              \n",
       "                                                                              \n",
       "                                                                              \n",
       "                                                                              \n",
       "                                                                              \n",
       "\n",
       "                                \n",
       "                        ⎞       \n",
       " + ψ) + 7⋅cos(5⋅β + 3⋅ψ)⎠⋅sin(β)\n",
       "                                \n",
       "────────────────────────────────\n",
       "                                \n",
       "                                \n",
       "                                \n",
       "                                \n",
       "                                "
      ]
     },
     "execution_count": 281,
     "metadata": {},
     "output_type": "execute_result"
    }
   ],
   "source": [
    "TEMP.subs(r,SOL_r).simplify()"
   ]
  },
  {
   "cell_type": "code",
   "execution_count": 303,
   "metadata": {},
   "outputs": [
    {
     "data": {
      "image/png": "[encoded data removed]",
      "text/latex": [
       "$\\displaystyle \\left[ - \\frac{\\left(\\sin{\\left(\\beta - 2 \\psi \\right)} + 2 \\sin{\\left(\\beta + 2 \\psi \\right)}\\right) \\sin{\\left(2 \\beta + \\psi \\right)}}{2 \\sin{\\left(\\psi \\right)} + \\sin{\\left(2 \\beta - \\psi \\right)}}\\right]$"
      ],
      "text/plain": [
       "⎡-(sin(β - 2⋅ψ) + 2⋅sin(β + 2⋅ψ))⋅sin(2⋅β + ψ) ⎤\n",
       "⎢──────────────────────────────────────────────⎥\n",
       "⎣           2⋅sin(ψ) + sin(2⋅β - ψ)            ⎦"
      ]
     },
     "execution_count": 303,
     "metadata": {},
     "output_type": "execute_result"
    }
   ],
   "source": [
    "solve(Eq(solve(Eq(0,TEMP),r)[2],SOL_r),sin(beta))"
   ]
  },
  {
   "cell_type": "code",
   "execution_count": 197,
   "metadata": {},
   "outputs": [],
   "source": [
    "J_SUB = J.subs(r,SOL_r).subs(A,A_ans)\n",
    "J_sim = Matrix([[J_SUB[0].simplify(),J_SUB[1].simplify()],[J_SUB[2].simplify(),J_SUB[3].simplify()]]) "
   ]
  },
  {
   "cell_type": "code",
   "execution_count": 198,
   "metadata": {},
   "outputs": [
    {
     "data": {
      "text/latex": [
       "$\\displaystyle \\left[\\begin{matrix}- \\frac{\\sqrt{\\frac{\\sin{\\left(2 \\beta + \\psi \\right)}}{2 \\sin{\\left(\\psi \\right)} + \\sin{\\left(2 \\beta - \\psi \\right)}}} \\left(\\sqrt{\\frac{\\sin{\\left(2 \\beta + \\psi \\right)}}{2 \\sin{\\left(\\psi \\right)} + \\sin{\\left(2 \\beta - \\psi \\right)}}} \\left(1 + \\frac{r \\sin{\\left(\\beta \\right)} + \\sin{\\left(\\beta + \\psi \\right)}}{- r \\sin{\\left(\\beta \\right)} + \\sin{\\left(\\beta + \\psi \\right)}}\\right) \\sin{\\left(\\beta \\right)} - \\left(-1 + \\frac{r \\sin{\\left(\\beta \\right)} + \\sin{\\left(\\beta + \\psi \\right)}}{- r \\sin{\\left(\\beta \\right)} + \\sin{\\left(\\beta + \\psi \\right)}}\\right) \\sin{\\left(\\beta + \\psi \\right)}\\right)}{2} - \\frac{\\left(-1 + \\frac{\\sin{\\left(2 \\beta + \\psi \\right)}}{2 \\sin{\\left(\\psi \\right)} + \\sin{\\left(2 \\beta - \\psi \\right)}}\\right) \\left(1 + \\frac{r \\sin{\\left(\\beta \\right)} + \\sin{\\left(\\beta + \\psi \\right)}}{- r \\sin{\\left(\\beta \\right)} + \\sin{\\left(\\beta + \\psi \\right)}}\\right) \\sin{\\left(\\beta \\right)}}{4} & \\frac{\\left(-1 + \\frac{r \\sin{\\left(\\beta \\right)} + \\sin{\\left(\\beta + \\psi \\right)}}{- r \\sin{\\left(\\beta \\right)} + \\sin{\\left(\\beta + \\psi \\right)}}\\right) \\left(-1 + \\frac{\\sin{\\left(2 \\beta + \\psi \\right)}}{2 \\sin{\\left(\\psi \\right)} + \\sin{\\left(2 \\beta - \\psi \\right)}}\\right) \\cos{\\left(\\beta + \\psi \\right)}}{4}\\\\\\frac{\\sqrt{\\frac{\\sin{\\left(2 \\beta + \\psi \\right)}}{2 \\sin{\\left(\\psi \\right)} + \\sin{\\left(2 \\beta - \\psi \\right)}}} \\cos{\\left(\\beta \\right)}}{2} + \\frac{\\sqrt{\\frac{\\sin{\\left(2 \\beta + \\psi \\right)}}{2 \\sin{\\left(\\psi \\right)} + \\sin{\\left(2 \\beta - \\psi \\right)}}} \\left(r \\sin{\\left(\\beta \\right)} + \\sin{\\left(\\beta + \\psi \\right)}\\right) \\cos{\\left(\\beta \\right)}}{2 \\left(- r \\sin{\\left(\\beta \\right)} + \\sin{\\left(\\beta + \\psi \\right)}\\right)} - \\frac{\\left(2 \\sin{\\left(\\psi \\right)} + \\sin{\\left(2 \\beta - \\psi \\right)}\\right) \\cos{\\left(\\beta + \\psi \\right)}}{4 \\sin{\\left(2 \\beta + \\psi \\right)}} - \\frac{\\cos{\\left(\\beta - \\psi \\right)}}{2} + \\frac{\\cos{\\left(\\beta + \\psi \\right)}}{4} + \\frac{\\left(r \\sin{\\left(\\beta \\right)} + \\sin{\\left(\\beta + \\psi \\right)}\\right) \\left(2 \\sin{\\left(\\psi \\right)} + \\sin{\\left(2 \\beta - \\psi \\right)}\\right) \\cos{\\left(\\beta + \\psi \\right)}}{4 \\left(- r \\sin{\\left(\\beta \\right)} + \\sin{\\left(\\beta + \\psi \\right)}\\right) \\sin{\\left(2 \\beta + \\psi \\right)}} + \\frac{\\left(r \\sin{\\left(\\beta \\right)} + \\sin{\\left(\\beta + \\psi \\right)}\\right) \\cos{\\left(\\beta - \\psi \\right)}}{2 \\left(- r \\sin{\\left(\\beta \\right)} + \\sin{\\left(\\beta + \\psi \\right)}\\right)} - \\frac{\\left(r \\sin{\\left(\\beta \\right)} + \\sin{\\left(\\beta + \\psi \\right)}\\right) \\cos{\\left(\\beta + \\psi \\right)}}{4 \\left(- r \\sin{\\left(\\beta \\right)} + \\sin{\\left(\\beta + \\psi \\right)}\\right)} & \\frac{\\left(-1 + \\frac{r \\sin{\\left(\\beta \\right)} + \\sin{\\left(\\beta + \\psi \\right)}}{- r \\sin{\\left(\\beta \\right)} + \\sin{\\left(\\beta + \\psi \\right)}}\\right) \\left(\\left(1 + \\frac{\\sin{\\left(2 \\beta + \\psi \\right)}}{2 \\sin{\\left(\\psi \\right)} + \\sin{\\left(2 \\beta - \\psi \\right)}}\\right) \\sin{\\left(\\beta + \\psi \\right)} + \\frac{2 \\sin{\\left(\\beta - \\psi \\right)} \\sin{\\left(2 \\beta + \\psi \\right)}}{2 \\sin{\\left(\\psi \\right)} + \\sin{\\left(2 \\beta - \\psi \\right)}}\\right)}{4 \\sqrt{\\frac{\\sin{\\left(2 \\beta + \\psi \\right)}}{2 \\sin{\\left(\\psi \\right)} + \\sin{\\left(2 \\beta - \\psi \\right)}}}}\\end{matrix}\\right]$"
      ],
      "text/plain": [
       "⎡                                                   _________________________ \n",
       "⎢                                                  ╱       sin(2⋅β + ψ)       \n",
       "⎢                                                 ╱  ─────────────────────── ⋅\n",
       "⎢                                               ╲╱   2⋅sin(ψ) + sin(2⋅β - ψ)  \n",
       "⎢                                             - ──────────────────────────────\n",
       "⎢                                                                             \n",
       "⎢                                                                             \n",
       "⎢    _________________________              _________________________         \n",
       "⎢   ╱       sin(2⋅β + ψ)                   ╱       sin(2⋅β + ψ)               \n",
       "⎢  ╱  ─────────────────────── ⋅cos(β)     ╱  ─────────────────────── ⋅(r⋅sin(β\n",
       "⎢╲╱   2⋅sin(ψ) + sin(2⋅β - ψ)           ╲╱   2⋅sin(ψ) + sin(2⋅β - ψ)          \n",
       "⎢──────────────────────────────────── + ──────────────────────────────────────\n",
       "⎢                 2                                      2⋅(-r⋅sin(β) + sin(β \n",
       "⎢                                                                             \n",
       "⎢                                                                             \n",
       "⎣                                                                             \n",
       "\n",
       "⎛    _________________________                                                \n",
       "⎜   ╱       sin(2⋅β + ψ)       ⎛    r⋅sin(β) + sin(β + ψ) ⎞          ⎛     r⋅s\n",
       "⎜  ╱  ─────────────────────── ⋅⎜1 + ──────────────────────⎟⋅sin(β) - ⎜-1 + ───\n",
       "⎝╲╱   2⋅sin(ψ) + sin(2⋅β - ψ)  ⎝    -r⋅sin(β) + sin(β + ψ)⎠          ⎝     -r⋅\n",
       "──────────────────────────────────────────────────────────────────────────────\n",
       "                                       2                                      \n",
       "                                                                              \n",
       "                                                                              \n",
       "                                                                              \n",
       ") + sin(β + ψ))⋅cos(β)                                                        \n",
       "                         (2⋅sin(ψ) + sin(2⋅β - ψ))⋅cos(β + ψ)   cos(β - ψ)   c\n",
       "────────────────────── - ──────────────────────────────────── - ────────── + ─\n",
       "+ ψ))                               4⋅sin(2⋅β + ψ)                  2         \n",
       "                                                                              \n",
       "                                                                              \n",
       "                                                                              \n",
       "\n",
       "                               ⎞                                              \n",
       "in(β) + sin(β + ψ) ⎞           ⎟   ⎛           sin(2⋅β + ψ)     ⎞ ⎛    r⋅sin(β\n",
       "───────────────────⎟⋅sin(β + ψ)⎟   ⎜-1 + ───────────────────────⎟⋅⎜1 + ───────\n",
       "sin(β) + sin(β + ψ)⎠           ⎠   ⎝     2⋅sin(ψ) + sin(2⋅β - ψ)⎠ ⎝    -r⋅sin(\n",
       "──────────────────────────────── - ───────────────────────────────────────────\n",
       "                                                                   4          \n",
       "                                                                              \n",
       "                                                                              \n",
       "                                                                              \n",
       "                                                                              \n",
       "os(β + ψ)   (r⋅sin(β) + sin(β + ψ))⋅(2⋅sin(ψ) + sin(2⋅β - ψ))⋅cos(β + ψ)   (r⋅\n",
       "───────── + ──────────────────────────────────────────────────────────── + ───\n",
       "   4                  4⋅(-r⋅sin(β) + sin(β + ψ))⋅sin(2⋅β + ψ)                 \n",
       "                                                                              \n",
       "                                                                              \n",
       "                                                                              \n",
       "\n",
       "                                                                              \n",
       ") + sin(β + ψ) ⎞                                                              \n",
       "───────────────⎟⋅sin(β)                                                       \n",
       "β) + sin(β + ψ)⎠                                                              \n",
       "───────────────────────                                                       \n",
       "                                                                              \n",
       "                                                                              \n",
       "                                                                              \n",
       "                                                                      ⎛     r⋅\n",
       "                                                                      ⎜-1 + ──\n",
       "sin(β) + sin(β + ψ))⋅cos(β - ψ)   (r⋅sin(β) + sin(β + ψ))⋅cos(β + ψ)  ⎝     -r\n",
       "─────────────────────────────── - ──────────────────────────────────  ────────\n",
       " 2⋅(-r⋅sin(β) + sin(β + ψ))           4⋅(-r⋅sin(β) + sin(β + ψ))              \n",
       "                                                                              \n",
       "                                                                              \n",
       "                                                                              \n",
       "\n",
       "                                                                              \n",
       "      ⎛     r⋅sin(β) + sin(β + ψ) ⎞ ⎛           sin(2⋅β + ψ)     ⎞            \n",
       "      ⎜-1 + ──────────────────────⎟⋅⎜-1 + ───────────────────────⎟⋅cos(β + ψ) \n",
       "      ⎝     -r⋅sin(β) + sin(β + ψ)⎠ ⎝     2⋅sin(ψ) + sin(2⋅β - ψ)⎠            \n",
       "      ─────────────────────────────────────────────────────────────────────── \n",
       "                                         4                                    \n",
       "                                                                              \n",
       "                                                                              \n",
       "sin(β) + sin(β + ψ) ⎞ ⎛⎛          sin(2⋅β + ψ)     ⎞              2⋅sin(β - ψ)\n",
       "────────────────────⎟⋅⎜⎜1 + ───────────────────────⎟⋅sin(β + ψ) + ────────────\n",
       "⋅sin(β) + sin(β + ψ)⎠ ⎝⎝    2⋅sin(ψ) + sin(2⋅β - ψ)⎠               2⋅sin(ψ) + \n",
       "──────────────────────────────────────────────────────────────────────────────\n",
       "                                _________________________                     \n",
       "                               ╱       sin(2⋅β + ψ)                           \n",
       "                          4⋅  ╱  ───────────────────────                      \n",
       "                            ╲╱   2⋅sin(ψ) + sin(2⋅β - ψ)                      \n",
       "\n",
       "              ⎤\n",
       "              ⎥\n",
       "              ⎥\n",
       "              ⎥\n",
       "              ⎥\n",
       "              ⎥\n",
       "              ⎥\n",
       "              ⎥\n",
       "⋅sin(2⋅β + ψ)⎞⎥\n",
       "─────────────⎟⎥\n",
       "sin(2⋅β - ψ) ⎠⎥\n",
       "──────────────⎥\n",
       "              ⎥\n",
       "              ⎥\n",
       "              ⎥\n",
       "              ⎦"
      ]
     },
     "execution_count": 198,
     "metadata": {},
     "output_type": "execute_result"
    }
   ],
   "source": [
    "J_SUB"
   ]
  },
  {
   "cell_type": "code",
   "execution_count": 199,
   "metadata": {},
   "outputs": [],
   "source": [
    "J_SIM_DET = J_sim.det().simplify()"
   ]
  },
  {
   "cell_type": "code",
   "execution_count": 200,
   "metadata": {},
   "outputs": [
    {
     "data": {
      "image/png": "[encoded data removed]",
      "text/latex": [
       "$\\displaystyle - \\frac{r \\left(- 32 r \\sin^{2}{\\left(\\beta \\right)} \\sin^{2}{\\left(\\psi \\right)} \\cos^{2}{\\left(\\beta + \\psi \\right)} - 16 r \\sin^{2}{\\left(\\beta \\right)} \\sin{\\left(\\psi \\right)} \\sin{\\left(2 \\beta - \\psi \\right)} \\cos^{2}{\\left(\\beta + \\psi \\right)} - 32 r \\sin^{2}{\\left(\\beta \\right)} \\sin{\\left(\\psi \\right)} \\sin{\\left(2 \\beta + \\psi \\right)} \\cos{\\left(\\beta - \\psi \\right)} \\cos{\\left(\\beta + \\psi \\right)} + 16 r \\sin^{2}{\\left(\\beta \\right)} \\sin{\\left(\\psi \\right)} \\sin{\\left(2 \\beta + \\psi \\right)} \\cos^{2}{\\left(\\beta + \\psi \\right)} - 12 r \\sin{\\left(\\beta + \\psi \\right)} \\sin{\\left(2 \\beta + \\psi \\right)} \\cos{\\left(\\beta \\right)} + 12 r \\sin{\\left(\\beta + \\psi \\right)} \\sin{\\left(2 \\beta + \\psi \\right)} \\cos{\\left(3 \\beta \\right)} - 4 r \\sin{\\left(\\beta + \\psi \\right)} \\sin{\\left(2 \\beta + \\psi \\right)} \\cos{\\left(\\beta - 2 \\psi \\right)} + 4 r \\sin{\\left(\\beta + \\psi \\right)} \\sin{\\left(2 \\beta + \\psi \\right)} \\cos{\\left(3 \\beta + 2 \\psi \\right)} - 12 \\sqrt{\\frac{\\sin{\\left(2 \\beta + \\psi \\right)}}{2 \\sin{\\left(\\psi \\right)} + \\sin{\\left(2 \\beta - \\psi \\right)}}} \\sin{\\left(\\psi \\right)} \\sin{\\left(\\beta + \\psi \\right)} \\cos{\\left(\\beta \\right)} + 12 \\sqrt{\\frac{\\sin{\\left(2 \\beta + \\psi \\right)}}{2 \\sin{\\left(\\psi \\right)} + \\sin{\\left(2 \\beta - \\psi \\right)}}} \\sin{\\left(\\psi \\right)} \\sin{\\left(\\beta + \\psi \\right)} \\cos{\\left(3 \\beta \\right)} - 4 \\sqrt{\\frac{\\sin{\\left(2 \\beta + \\psi \\right)}}{2 \\sin{\\left(\\psi \\right)} + \\sin{\\left(2 \\beta - \\psi \\right)}}} \\sin{\\left(\\psi \\right)} \\sin{\\left(\\beta + \\psi \\right)} \\cos{\\left(\\beta - 2 \\psi \\right)} + 4 \\sqrt{\\frac{\\sin{\\left(2 \\beta + \\psi \\right)}}{2 \\sin{\\left(\\psi \\right)} + \\sin{\\left(2 \\beta - \\psi \\right)}}} \\sin{\\left(\\psi \\right)} \\sin{\\left(\\beta + \\psi \\right)} \\cos{\\left(3 \\beta + 2 \\psi \\right)} - 6 \\sqrt{\\frac{\\sin{\\left(2 \\beta + \\psi \\right)}}{2 \\sin{\\left(\\psi \\right)} + \\sin{\\left(2 \\beta - \\psi \\right)}}} \\sin{\\left(\\beta + \\psi \\right)} \\sin{\\left(2 \\beta - \\psi \\right)} \\cos{\\left(\\beta \\right)} + 6 \\sqrt{\\frac{\\sin{\\left(2 \\beta + \\psi \\right)}}{2 \\sin{\\left(\\psi \\right)} + \\sin{\\left(2 \\beta - \\psi \\right)}}} \\sin{\\left(\\beta + \\psi \\right)} \\sin{\\left(2 \\beta - \\psi \\right)} \\cos{\\left(3 \\beta \\right)} - 2 \\sqrt{\\frac{\\sin{\\left(2 \\beta + \\psi \\right)}}{2 \\sin{\\left(\\psi \\right)} + \\sin{\\left(2 \\beta - \\psi \\right)}}} \\sin{\\left(\\beta + \\psi \\right)} \\sin{\\left(2 \\beta - \\psi \\right)} \\cos{\\left(\\beta - 2 \\psi \\right)} + 2 \\sqrt{\\frac{\\sin{\\left(2 \\beta + \\psi \\right)}}{2 \\sin{\\left(\\psi \\right)} + \\sin{\\left(2 \\beta - \\psi \\right)}}} \\sin{\\left(\\beta + \\psi \\right)} \\sin{\\left(2 \\beta - \\psi \\right)} \\cos{\\left(3 \\beta + 2 \\psi \\right)} + 18 \\sqrt{\\frac{\\sin{\\left(2 \\beta + \\psi \\right)}}{2 \\sin{\\left(\\psi \\right)} + \\sin{\\left(2 \\beta - \\psi \\right)}}} \\sin{\\left(\\beta + \\psi \\right)} \\sin{\\left(2 \\beta + \\psi \\right)} \\cos{\\left(\\beta \\right)} - 18 \\sqrt{\\frac{\\sin{\\left(2 \\beta + \\psi \\right)}}{2 \\sin{\\left(\\psi \\right)} + \\sin{\\left(2 \\beta - \\psi \\right)}}} \\sin{\\left(\\beta + \\psi \\right)} \\sin{\\left(2 \\beta + \\psi \\right)} \\cos{\\left(3 \\beta \\right)} + 6 \\sqrt{\\frac{\\sin{\\left(2 \\beta + \\psi \\right)}}{2 \\sin{\\left(\\psi \\right)} + \\sin{\\left(2 \\beta - \\psi \\right)}}} \\sin{\\left(\\beta + \\psi \\right)} \\sin{\\left(2 \\beta + \\psi \\right)} \\cos{\\left(\\beta - 2 \\psi \\right)} - 6 \\sqrt{\\frac{\\sin{\\left(2 \\beta + \\psi \\right)}}{2 \\sin{\\left(\\psi \\right)} + \\sin{\\left(2 \\beta - \\psi \\right)}}} \\sin{\\left(\\beta + \\psi \\right)} \\sin{\\left(2 \\beta + \\psi \\right)} \\cos{\\left(3 \\beta + 2 \\psi \\right)} - \\sqrt{\\frac{\\sin{\\left(2 \\beta + \\psi \\right)}}{2 \\sin{\\left(\\psi \\right)} + \\sin{\\left(2 \\beta - \\psi \\right)}}} \\cos{\\left(2 \\beta - 2 \\psi \\right)} + \\sqrt{\\frac{\\sin{\\left(2 \\beta + \\psi \\right)}}{2 \\sin{\\left(\\psi \\right)} + \\sin{\\left(2 \\beta - \\psi \\right)}}} \\cos{\\left(2 \\beta + 4 \\psi \\right)} + \\sqrt{\\frac{\\sin{\\left(2 \\beta + \\psi \\right)}}{2 \\sin{\\left(\\psi \\right)} + \\sin{\\left(2 \\beta - \\psi \\right)}}} \\cos{\\left(6 \\beta + 2 \\psi \\right)} - \\sqrt{\\frac{\\sin{\\left(2 \\beta + \\psi \\right)}}{2 \\sin{\\left(\\psi \\right)} + \\sin{\\left(2 \\beta - \\psi \\right)}}} \\cos{\\left(6 \\beta + 4 \\psi \\right)}\\right) \\sin^{2}{\\left(\\beta \\right)}}{16 \\left(r \\sin{\\left(\\beta \\right)} - \\sin{\\left(\\beta + \\psi \\right)}\\right)^{2} \\cdot \\left(2 \\sin{\\left(\\psi \\right)} + \\sin{\\left(2 \\beta - \\psi \\right)}\\right) \\sin{\\left(2 \\beta + \\psi \\right)}}$"
      ],
      "text/plain": [
       "   ⎛                                                                          \n",
       "   ⎜          2       2       2                  2                           2\n",
       "-r⋅⎜- 32⋅r⋅sin (β)⋅sin (ψ)⋅cos (β + ψ) - 16⋅r⋅sin (β)⋅sin(ψ)⋅sin(2⋅β - ψ)⋅cos \n",
       "   ⎝                                                                          \n",
       "──────────────────────────────────────────────────────────────────────────────\n",
       "                                                                              \n",
       "                                                                              \n",
       "\n",
       "                                                                              \n",
       "                  2                                                        2  \n",
       "(β + ψ) - 32⋅r⋅sin (β)⋅sin(ψ)⋅sin(2⋅β + ψ)⋅cos(β - ψ)⋅cos(β + ψ) + 16⋅r⋅sin (β\n",
       "                                                                              \n",
       "──────────────────────────────────────────────────────────────────────────────\n",
       "                                                                              \n",
       "                                                                              \n",
       "\n",
       "                                                                              \n",
       "                         2                                                    \n",
       ")⋅sin(ψ)⋅sin(2⋅β + ψ)⋅cos (β + ψ) - 12⋅r⋅sin(β + ψ)⋅sin(2⋅β + ψ)⋅cos(β) + 12⋅r\n",
       "                                                                              \n",
       "──────────────────────────────────────────────────────────────────────────────\n",
       "                                                                              \n",
       "                                                                              \n",
       "\n",
       "                                                                              \n",
       "                                                                              \n",
       "⋅sin(β + ψ)⋅sin(2⋅β + ψ)⋅cos(3⋅β) - 4⋅r⋅sin(β + ψ)⋅sin(2⋅β + ψ)⋅cos(β - 2⋅ψ) +\n",
       "                                                                              \n",
       "──────────────────────────────────────────────────────────────────────────────\n",
       "                                                                              \n",
       "                                                                              \n",
       "\n",
       "                                                     _________________________\n",
       "                                                    ╱       sin(2⋅β + ψ)      \n",
       " 4⋅r⋅sin(β + ψ)⋅sin(2⋅β + ψ)⋅cos(3⋅β + 2⋅ψ) - 12⋅  ╱  ─────────────────────── \n",
       "                                                 ╲╱   2⋅sin(ψ) + sin(2⋅β - ψ) \n",
       "──────────────────────────────────────────────────────────────────────────────\n",
       "                                                                              \n",
       "                                                                              \n",
       "\n",
       "                                   _________________________                  \n",
       "                                  ╱       sin(2⋅β + ψ)                        \n",
       "⋅sin(ψ)⋅sin(β + ψ)⋅cos(β) + 12⋅  ╱  ─────────────────────── ⋅sin(ψ)⋅sin(β + ψ)\n",
       "                               ╲╱   2⋅sin(ψ) + sin(2⋅β - ψ)                   \n",
       "──────────────────────────────────────────────────────────────────────────────\n",
       "                                                                              \n",
       "                                                                              \n",
       "\n",
       "                  _________________________                                   \n",
       "                 ╱       sin(2⋅β + ψ)                                         \n",
       "⋅cos(3⋅β) - 4⋅  ╱  ─────────────────────── ⋅sin(ψ)⋅sin(β + ψ)⋅cos(β - 2⋅ψ) + 4\n",
       "              ╲╱   2⋅sin(ψ) + sin(2⋅β - ψ)                                    \n",
       "──────────────────────────────────────────────────────────────────────────────\n",
       "                                                                              \n",
       "                                                                              \n",
       "\n",
       "     _________________________                                          ______\n",
       "    ╱       sin(2⋅β + ψ)                                               ╱      \n",
       "⋅  ╱  ─────────────────────── ⋅sin(ψ)⋅sin(β + ψ)⋅cos(3⋅β + 2⋅ψ) - 6⋅  ╱  ─────\n",
       " ╲╱   2⋅sin(ψ) + sin(2⋅β - ψ)                                       ╲╱   2⋅sin\n",
       "──────────────────────────────────────────────────────────────────────────────\n",
       "                                                                              \n",
       "                                                                              \n",
       "\n",
       "___________________                                        ___________________\n",
       " sin(2⋅β + ψ)                                             ╱       sin(2⋅β + ψ)\n",
       "────────────────── ⋅sin(β + ψ)⋅sin(2⋅β - ψ)⋅cos(β) + 6⋅  ╱  ──────────────────\n",
       "(ψ) + sin(2⋅β - ψ)                                     ╲╱   2⋅sin(ψ) + sin(2⋅β\n",
       "──────────────────────────────────────────────────────────────────────────────\n",
       "                                                  2                           \n",
       "                        16⋅(r⋅sin(β) - sin(β + ψ)) ⋅(2⋅sin(ψ) + sin(2⋅β - ψ))⋅\n",
       "\n",
       "______                                          _________________________     \n",
       "                                               ╱       sin(2⋅β + ψ)           \n",
       "───── ⋅sin(β + ψ)⋅sin(2⋅β - ψ)⋅cos(3⋅β) - 2⋅  ╱  ─────────────────────── ⋅sin(\n",
       " - ψ)                                       ╲╱   2⋅sin(ψ) + sin(2⋅β - ψ)      \n",
       "──────────────────────────────────────────────────────────────────────────────\n",
       "                                                                              \n",
       "sin(2⋅β + ψ)                                                                  \n",
       "\n",
       "                                         _________________________            \n",
       "                                        ╱       sin(2⋅β + ψ)                  \n",
       "β + ψ)⋅sin(2⋅β - ψ)⋅cos(β - 2⋅ψ) + 2⋅  ╱  ─────────────────────── ⋅sin(β + ψ)⋅\n",
       "                                     ╲╱   2⋅sin(ψ) + sin(2⋅β - ψ)             \n",
       "──────────────────────────────────────────────────────────────────────────────\n",
       "                                                                              \n",
       "                                                                              \n",
       "\n",
       "                                     _________________________                \n",
       "                                    ╱       sin(2⋅β + ψ)                      \n",
       "sin(2⋅β - ψ)⋅cos(3⋅β + 2⋅ψ) + 18⋅  ╱  ─────────────────────── ⋅sin(β + ψ)⋅sin(\n",
       "                                 ╲╱   2⋅sin(ψ) + sin(2⋅β - ψ)                 \n",
       "──────────────────────────────────────────────────────────────────────────────\n",
       "                                                                              \n",
       "                                                                              \n",
       "\n",
       "                         _________________________                            \n",
       "                        ╱       sin(2⋅β + ψ)                                  \n",
       "2⋅β + ψ)⋅cos(β) - 18⋅  ╱  ─────────────────────── ⋅sin(β + ψ)⋅sin(2⋅β + ψ)⋅cos\n",
       "                     ╲╱   2⋅sin(ψ) + sin(2⋅β - ψ)                             \n",
       "──────────────────────────────────────────────────────────────────────────────\n",
       "                                                                              \n",
       "                                                                              \n",
       "\n",
       "              _________________________                                       \n",
       "             ╱       sin(2⋅β + ψ)                                             \n",
       "(3⋅β) + 6⋅  ╱  ─────────────────────── ⋅sin(β + ψ)⋅sin(2⋅β + ψ)⋅cos(β - 2⋅ψ) -\n",
       "          ╲╱   2⋅sin(ψ) + sin(2⋅β - ψ)                                        \n",
       "──────────────────────────────────────────────────────────────────────────────\n",
       "                                                                              \n",
       "                                                                              \n",
       "\n",
       "       _________________________                                              \n",
       "      ╱       sin(2⋅β + ψ)                                                   ╱\n",
       " 6⋅  ╱  ─────────────────────── ⋅sin(β + ψ)⋅sin(2⋅β + ψ)⋅cos(3⋅β + 2⋅ψ) -   ╱ \n",
       "   ╲╱   2⋅sin(ψ) + sin(2⋅β - ψ)                                           ╲╱  \n",
       "──────────────────────────────────────────────────────────────────────────────\n",
       "                                                                              \n",
       "                                                                              \n",
       "\n",
       "_________________________                      _________________________      \n",
       "       sin(2⋅β + ψ)                           ╱       sin(2⋅β + ψ)            \n",
       " ─────────────────────── ⋅cos(2⋅β - 2⋅ψ) +   ╱  ─────────────────────── ⋅cos(2\n",
       " 2⋅sin(ψ) + sin(2⋅β - ψ)                   ╲╱   2⋅sin(ψ) + sin(2⋅β - ψ)       \n",
       "──────────────────────────────────────────────────────────────────────────────\n",
       "                                                                              \n",
       "                                                                              \n",
       "\n",
       "                _________________________                      _______________\n",
       "               ╱       sin(2⋅β + ψ)                           ╱       sin(2⋅β \n",
       "⋅β + 4⋅ψ) +   ╱  ─────────────────────── ⋅cos(6⋅β + 2⋅ψ) -   ╱  ──────────────\n",
       "            ╲╱   2⋅sin(ψ) + sin(2⋅β - ψ)                   ╲╱   2⋅sin(ψ) + sin\n",
       "──────────────────────────────────────────────────────────────────────────────\n",
       "                                                                              \n",
       "                                                                              \n",
       "\n",
       "__________               ⎞         \n",
       "+ ψ)                     ⎟    2    \n",
       "───────── ⋅cos(6⋅β + 4⋅ψ)⎟⋅sin (β) \n",
       "(2⋅β - ψ)                ⎠         \n",
       "───────────────────────────────────\n",
       "                                   \n",
       "                                   "
      ]
     },
     "execution_count": 200,
     "metadata": {},
     "output_type": "execute_result"
    }
   ],
   "source": [
    "J_SIM_DET.factor()"
   ]
  },
  {
   "cell_type": "code",
   "execution_count": 156,
   "metadata": {},
   "outputs": [],
   "source": [
    "J_det = JJ.det().simplify()"
   ]
  },
  {
   "cell_type": "code",
   "execution_count": 159,
   "metadata": {},
   "outputs": [],
   "source": [
    "SOL_r = solve(eq_psi.subs(A,A_ans).simplify(),r)[1]"
   ]
  },
  {
   "cell_type": "code",
   "execution_count": 161,
   "metadata": {},
   "outputs": [],
   "source": [
    "SOL_J_det = J_det.subs(r,SOL_r)"
   ]
  },
  {
   "cell_type": "code",
   "execution_count": 163,
   "metadata": {},
   "outputs": [
    {
     "data": {
      "image/png": "[encoded data removed]",
      "text/latex": [
       "$\\displaystyle \\frac{- 20 \\cos{\\left(2 \\beta \\right)} - \\cos{\\left(4 \\beta \\right)} + 2 \\cos{\\left(6 \\beta \\right)} - 8 \\cos{\\left(2 \\psi \\right)} + 5 \\cos{\\left(4 \\psi \\right)} - \\cos{\\left(2 \\beta - 4 \\psi \\right)} + 18 \\cos{\\left(2 \\beta - 2 \\psi \\right)} + 2 \\cos{\\left(2 \\beta + 2 \\psi \\right)} - 7 \\cos{\\left(2 \\beta + 4 \\psi \\right)} - 11 \\cos{\\left(4 \\beta - 2 \\psi \\right)} - 5 \\cos{\\left(4 \\beta + 2 \\psi \\right)} + \\cos{\\left(4 \\beta + 4 \\psi \\right)} + 2 \\cos{\\left(6 \\beta - 2 \\psi \\right)} + 2 \\cos{\\left(6 \\beta + 2 \\psi \\right)} + 2 \\cos{\\left(6 \\beta + 4 \\psi \\right)} + 19}{32 \\left(- \\sqrt{\\frac{\\sin{\\left(2 \\beta + \\psi \\right)}}{2 \\sin{\\left(\\psi \\right)} + \\sin{\\left(2 \\beta - \\psi \\right)}}} \\sin{\\left(\\beta \\right)} + \\sin{\\left(\\beta + \\psi \\right)}\\right)^{2} \\left(2 \\sin{\\left(\\psi \\right)} + \\sin{\\left(2 \\beta - \\psi \\right)}\\right)^{2}}$"
      ],
      "text/plain": [
       "-20⋅cos(2⋅β) - cos(4⋅β) + 2⋅cos(6⋅β) - 8⋅cos(2⋅ψ) + 5⋅cos(4⋅ψ) - cos(2⋅β - 4⋅ψ\n",
       "──────────────────────────────────────────────────────────────────────────────\n",
       "                                                                              \n",
       "                                                                              \n",
       "                                                                              \n",
       "                                                                              \n",
       "                                                                              \n",
       "\n",
       ") + 18⋅cos(2⋅β - 2⋅ψ) + 2⋅cos(2⋅β + 2⋅ψ) - 7⋅cos(2⋅β + 4⋅ψ) - 11⋅cos(4⋅β - 2⋅ψ\n",
       "──────────────────────────────────────────────────────────────────────────────\n",
       "                                                                2             \n",
       "           ⎛      _________________________                    ⎞              \n",
       "           ⎜     ╱       sin(2⋅β + ψ)                          ⎟              \n",
       "        32⋅⎜-   ╱  ─────────────────────── ⋅sin(β) + sin(β + ψ)⎟ ⋅(2⋅sin(ψ) + \n",
       "           ⎝  ╲╱   2⋅sin(ψ) + sin(2⋅β - ψ)                     ⎠              \n",
       "\n",
       ") - 5⋅cos(4⋅β + 2⋅ψ) + cos(4⋅β + 4⋅ψ) + 2⋅cos(6⋅β - 2⋅ψ) + 2⋅cos(6⋅β + 2⋅ψ) + \n",
       "──────────────────────────────────────────────────────────────────────────────\n",
       "                                                                              \n",
       "                                                                              \n",
       "             2                                                                \n",
       "sin(2⋅β - ψ))                                                                 \n",
       "                                                                              \n",
       "\n",
       "2⋅cos(6⋅β + 4⋅ψ) + 19\n",
       "─────────────────────\n",
       "                     \n",
       "                     \n",
       "                     \n",
       "                     \n",
       "                     "
      ]
     },
     "execution_count": 163,
     "metadata": {},
     "output_type": "execute_result"
    }
   ],
   "source": [
    "SOL_J_det.simplify()"
   ]
  },
  {
   "cell_type": "code",
   "execution_count": 375,
   "metadata": {},
   "outputs": [
    {
     "data": {
      "image/png": "[encoded data removed]",
      "text/latex": [
       "$\\displaystyle \\frac{\\pi}{2} - \\psi - \\frac{\\psi^{3}}{6} - \\frac{3 \\psi^{5}}{40} - \\frac{5 \\psi^{7}}{112} - \\frac{35 \\psi^{9}}{1152} - \\frac{63 \\psi^{11}}{2816} - \\frac{231 \\psi^{13}}{13312} - \\frac{143 \\psi^{15}}{10240} - \\frac{6435 \\psi^{17}}{557056} - \\frac{12155 \\psi^{19}}{1245184} + O\\left(\\psi^{20}\\right)$"
      ],
      "text/plain": [
       "         3      5      7       9       11        13        15         17      \n",
       "π       ψ    3⋅ψ    5⋅ψ    35⋅ψ    63⋅ψ     231⋅ψ     143⋅ψ     6435⋅ψ     121\n",
       "─ - ψ - ── - ──── - ──── - ───── - ────── - ─────── - ─────── - ──────── - ───\n",
       "2       6     40    112     1152    2816     13312     10240     557056     12\n",
       "\n",
       "    19         \n",
       "55⋅ψ      ⎛ 20⎞\n",
       "────── + O⎝ψ  ⎠\n",
       "45184          "
      ]
     },
     "execution_count": 375,
     "metadata": {},
     "output_type": "execute_result"
    }
   ],
   "source": [
    "acos(psi).series(psi,0,20)"
   ]
  },
  {
   "cell_type": "code",
   "execution_count": 105,
   "metadata": {},
   "outputs": [],
   "source": [
    "eq_br = sin(beta)*(sin(2*beta-psi)+2*sin(psi)) + sin(2*beta+psi)*(sin(beta-2*psi)+2*sin(beta+2*psi))\n",
    "# POLY = eq_br.series(psi,0,3)\n",
    "E_tri = expand_trig(eq_br)"
   ]
  },
  {
   "cell_type": "code",
   "execution_count": 138,
   "metadata": {},
   "outputs": [],
   "source": [
    "T = E_tri.series(psi,0,3)"
   ]
  },
  {
   "cell_type": "code",
   "execution_count": 139,
   "metadata": {},
   "outputs": [],
   "source": [
    "x,y =symbols('x y')"
   ]
  },
  {
   "cell_type": "code",
   "execution_count": 425,
   "metadata": {},
   "outputs": [
    {
     "data": {
      "text/latex": [
       "$\\displaystyle - \\frac{\\psi^{7}}{5040} + \\frac{\\psi^{5}}{120} - \\frac{\\psi^{3}}{6} + \\psi$"
      ],
      "text/plain": [
       "-psi**7/5040 + psi**5/120 - psi**3/6 + psi"
      ]
     },
     "execution_count": 425,
     "metadata": {},
     "output_type": "execute_result"
    }
   ],
   "source": [
    "CB =cos(beta).series(beta,0,3).removeO()\n",
    "SB =sin(beta).series(beta,0,4).removeO()\n",
    "Cpsi =cos(psi).series(psi,0,3).removeO()\n",
    "Spsi =sin(psi).series(psi,0,4).removeO()\n",
    "\n",
    "s_end =9\n",
    "\n",
    "S_b_P_psi = sin(beta+psi).series(beta+psi,0,s_end).removeO()\n",
    "S_b_M_2psi = sin(beta-2*psi).series(beta-2*psi,0,s_end).removeO()\n",
    "S_b_P_2psi = sin(beta+2*psi).series(beta+2*psi,0,s_end).removeO()\n",
    "S_2b_M_psi = sin(2*beta-psi).series(2*beta-psi,0,s_end).removeO()\n",
    "S_2b_P_psi = sin(2*beta+psi).series(2*beta+psi,0,s_end).removeO()\n",
    "S_b= sin(beta).series(beta,0,s_end).removeO()\n",
    "S_psi= sin(psi).series(psi,0,s_end).removeO()\n",
    "S_psi"
   ]
  },
  {
   "cell_type": "code",
   "execution_count": 409,
   "metadata": {},
   "outputs": [
    {
     "name": "stdout",
     "output_type": "stream",
     "text": [
      "x - \\frac{x^{3}}{6} + \\frac{x^{5}}{120} - \\frac{x^{7}}{5040} + O\\left(x^{9}\\right)\n"
     ]
    }
   ],
   "source": [
    "print_latex(sin(x).series(x,0,9))"
   ]
  },
  {
   "cell_type": "code",
   "execution_count": 410,
   "metadata": {},
   "outputs": [
    {
     "data": {
      "text/latex": [
       "$\\displaystyle \\beta - 2 \\psi - \\frac{\\left(\\beta - 2 \\psi\\right)^{3}}{6}$"
      ],
      "text/plain": [
       "beta - 2*psi - (beta - 2*psi)**3/6"
      ]
     },
     "execution_count": 410,
     "metadata": {},
     "output_type": "execute_result"
    }
   ],
   "source": [
    "S_b_M_2psi"
   ]
  },
  {
   "cell_type": "code",
   "execution_count": 411,
   "metadata": {},
   "outputs": [],
   "source": [
    "a,b,c,d,e,f,g,h = symbols('a b c d e f g h')"
   ]
  },
  {
   "cell_type": "code",
   "execution_count": 412,
   "metadata": {},
   "outputs": [
    {
     "data": {
      "text/latex": [
       "$\\displaystyle \\left(- \\sin{\\left(b \\right)} \\sin{\\left(c \\right)} + \\cos{\\left(b \\right)} \\cos{\\left(c \\right)}\\right) \\sin{\\left(a \\right)} + \\left(\\sin{\\left(b \\right)} \\cos{\\left(c \\right)} + \\sin{\\left(c \\right)} \\cos{\\left(b \\right)}\\right) \\cos{\\left(a \\right)}$"
      ],
      "text/plain": [
       "(-sin(b)*sin(c) + cos(b)*cos(c))*sin(a) + (sin(b)*cos(c) + sin(c)*cos(b))*cos(a)"
      ]
     },
     "execution_count": 412,
     "metadata": {},
     "output_type": "execute_result"
    }
   ],
   "source": [
    "expand_trig(sin(a+b+c))"
   ]
  },
  {
   "cell_type": "code",
   "execution_count": 413,
   "metadata": {},
   "outputs": [
    {
     "data": {
      "text/latex": [
       "$\\displaystyle \\sin{\\left(\\psi \\right)} \\sin{\\left(2 \\psi \\right)} + \\beta \\left(3 \\sin{\\left(\\psi \\right)} \\cos{\\left(2 \\psi \\right)} + \\sin{\\left(\\psi \\right)} + 2 \\sin{\\left(2 \\psi \\right)} \\cos{\\left(\\psi \\right)}\\right) + \\beta^{2} \\left(- \\frac{5 \\sin{\\left(\\psi \\right)} \\sin{\\left(2 \\psi \\right)}}{2} + 6 \\cos{\\left(\\psi \\right)} \\cos{\\left(2 \\psi \\right)} + 2 \\cos{\\left(\\psi \\right)}\\right) + \\beta^{3} \\left(- \\frac{13 \\sin{\\left(\\psi \\right)} \\cos{\\left(2 \\psi \\right)}}{2} + \\frac{11 \\sin{\\left(\\psi \\right)}}{6} - \\frac{7 \\sin{\\left(2 \\psi \\right)} \\cos{\\left(\\psi \\right)}}{3}\\right) + \\beta^{4} \\cdot \\left(\\frac{41 \\sin{\\left(\\psi \\right)} \\sin{\\left(2 \\psi \\right)}}{24} - 5 \\cos{\\left(\\psi \\right)} \\cos{\\left(2 \\psi \\right)} - \\frac{5 \\cos{\\left(\\psi \\right)}}{3}\\right) + \\beta^{5} \\cdot \\left(\\frac{121 \\sin{\\left(\\psi \\right)} \\cos{\\left(2 \\psi \\right)}}{40} - \\frac{119 \\sin{\\left(\\psi \\right)}}{120} + \\frac{61 \\sin{\\left(2 \\psi \\right)} \\cos{\\left(\\psi \\right)}}{60}\\right) + \\beta^{6} \\left(- \\frac{73 \\sin{\\left(\\psi \\right)} \\sin{\\left(2 \\psi \\right)}}{144} + \\frac{91 \\cos{\\left(\\psi \\right)} \\cos{\\left(2 \\psi \\right)}}{60} + \\frac{91 \\cos{\\left(\\psi \\right)}}{180}\\right) + \\beta^{7} \\left(- \\frac{1093 \\sin{\\left(\\psi \\right)} \\cos{\\left(2 \\psi \\right)}}{1680} + \\frac{1091 \\sin{\\left(\\psi \\right)}}{5040} - \\frac{547 \\sin{\\left(2 \\psi \\right)} \\cos{\\left(\\psi \\right)}}{2520}\\right) + \\beta^{8} \\cdot \\left(\\frac{3281 \\sin{\\left(\\psi \\right)} \\sin{\\left(2 \\psi \\right)}}{40320} - \\frac{41 \\cos{\\left(\\psi \\right)} \\cos{\\left(2 \\psi \\right)}}{168} - \\frac{41 \\cos{\\left(\\psi \\right)}}{504}\\right) + \\beta^{9} \\cdot \\left(\\frac{9841 \\sin{\\left(\\psi \\right)} \\cos{\\left(2 \\psi \\right)}}{120960} - \\frac{9839 \\sin{\\left(\\psi \\right)}}{362880} + \\frac{703 \\sin{\\left(2 \\psi \\right)} \\cos{\\left(\\psi \\right)}}{25920}\\right) + O\\left(\\beta^{10}\\right)$"
      ],
      "text/plain": [
       "sin(psi)*sin(2*psi) + beta*(3*sin(psi)*cos(2*psi) + sin(psi) + 2*sin(2*psi)*cos(psi)) + beta**2*(-5*sin(psi)*sin(2*psi)/2 + 6*cos(psi)*cos(2*psi) + 2*cos(psi)) + beta**3*(-13*sin(psi)*cos(2*psi)/2 + 11*sin(psi)/6 - 7*sin(2*psi)*cos(psi)/3) + beta**4*(41*sin(psi)*sin(2*psi)/24 - 5*cos(psi)*cos(2*psi) - 5*cos(psi)/3) + beta**5*(121*sin(psi)*cos(2*psi)/40 - 119*sin(psi)/120 + 61*sin(2*psi)*cos(psi)/60) + beta**6*(-73*sin(psi)*sin(2*psi)/144 + 91*cos(psi)*cos(2*psi)/60 + 91*cos(psi)/180) + beta**7*(-1093*sin(psi)*cos(2*psi)/1680 + 1091*sin(psi)/5040 - 547*sin(2*psi)*cos(psi)/2520) + beta**8*(3281*sin(psi)*sin(2*psi)/40320 - 41*cos(psi)*cos(2*psi)/168 - 41*cos(psi)/504) + beta**9*(9841*sin(psi)*cos(2*psi)/120960 - 9839*sin(psi)/362880 + 703*sin(2*psi)*cos(psi)/25920) + O(beta**10)"
      ]
     },
     "execution_count": 413,
     "metadata": {},
     "output_type": "execute_result"
    }
   ],
   "source": [
    "eq_br.series(beta,0,10)"
   ]
  },
  {
   "cell_type": "code",
   "execution_count": 414,
   "metadata": {},
   "outputs": [
    {
     "data": {
      "text/plain": [
       "[]"
      ]
     },
     "execution_count": 414,
     "metadata": {},
     "output_type": "execute_result"
    }
   ],
   "source": [
    "S_EQ = eq_br.subs([(sin(beta-2*psi),S_b_M_2psi),(sin(beta+2*psi),S_b_P_2psi),( sin(2*beta-psi),S_2b_M_psi),(sin(2*beta+psi),S_2b_P_psi),(sin(beta),S_b),(sin(psi),S_psi)])\n",
    "# SUBS = S_EQ.subs(psi,-2*beta+-2*beta**2+2*beta**3+Rational('11/3')*beta**4-12*beta**5-d*beta**6)\n",
    "# SUBS = S_EQ.subs(psi,a+-2*beta+-2*beta**2+2*beta**3+Rational(11,3)*beta**4+-12*beta**5+e*beta**6)\n",
    "SUBS = S_EQ.subs(psi,-2*beta-2*beta**2+2*beta**3+Rational(11,3)*beta**4+-12*beta**5-Rational(3271,180)*beta**6+h*beta**7)\n",
    "# SUBS.expand().collect(beta)\n",
    "solve(Poly(SUBS.expand(),beta).coeffs()[-1],h)"
   ]
  },
  {
   "cell_type": "code",
   "execution_count": 567,
   "metadata": {},
   "outputs": [],
   "source": [
    "SOL_psi = -2*beta-2*beta**2+2*beta**3+Rational(11,3)*beta**4+-12*beta**5-Rational(3271,180)*beta**6"
   ]
  },
  {
   "cell_type": "code",
   "execution_count": 416,
   "metadata": {},
   "outputs": [],
   "source": [
    "SOL_R_sub =SOL_r.subs([(sin(beta-2*psi),S_b_M_2psi),(sin(beta+2*psi),S_b_P_2psi),( sin(2*beta-psi),S_2b_M_psi),(sin(2*beta+psi),S_2b_P_psi),(sin(beta),S_b),(sin(psi),S_psi)])\n",
    "SOL_rpsi_sub = SOL_R_sub.series(beta,0,4).subs(psi,SOL_psi)"
   ]
  },
  {
   "cell_type": "code",
   "execution_count": 441,
   "metadata": {},
   "outputs": [],
   "source": [
    "R_up = (S_2b_P_psi).subs(psi,SOL_psi).expand(psi)\n",
    "R_down = (S_2b_M_psi + 2*S_psi).subs(psi,SOL_psi).expand(psi)\n",
    "\n",
    "r_s = sqrt(R_up,R_down).series(beta,0,5)"
   ]
  },
  {
   "cell_type": "code",
   "execution_count": 456,
   "metadata": {},
   "outputs": [],
   "source": [
    "SOL_A = (S_b*SOL_r+S_b_P_psi) -A*(-S_b*SOL_r+S_b_P_psi )\n",
    "SOL_A = SOL_A.subs(psi,SOL_psi).removeO()"
   ]
  },
  {
   "cell_type": "code",
   "execution_count": 537,
   "metadata": {},
   "outputs": [],
   "source": [
    "UP = sin(2*beta+SOL_psi).series(beta,0,9).removeO()\n",
    "DOWN = sin(2*beta-SOL_psi).series(beta,0,9).removeO() + 2*sin(SOL_psi).series(beta,0,9).removeO()\n",
    "r_s = sqrt(UP/DOWN).series(beta,0,9)"
   ]
  },
  {
   "cell_type": "code",
   "execution_count": 538,
   "metadata": {},
   "outputs": [
    {
     "name": "stdout",
     "output_type": "stream",
     "text": [
      "1 - 2 \\beta + 2 \\beta^{2} + \\frac{\\beta^{3}}{3} + \\frac{16 \\beta^{4}}{3} - \\frac{1441 \\beta^{5}}{60} + \\frac{686 \\beta^{6}}{9} - \\frac{15827 \\beta^{7}}{135} + \\frac{10691 \\beta^{8}}{180} + O\\left(\\beta^{9}\\right)\n"
     ]
    }
   ],
   "source": [
    "print_latex(r_s)"
   ]
  },
  {
   "cell_type": "code",
   "execution_count": 539,
   "metadata": {},
   "outputs": [
    {
     "name": "stdout",
     "output_type": "stream",
     "text": [
      "1 - 2 \\beta + 2 \\beta^{2} + \\frac{\\beta^{3}}{3} + \\frac{16 \\beta^{4}}{3} - \\frac{1441 \\beta^{5}}{60} + \\frac{686 \\beta^{6}}{9} - \\frac{15827 \\beta^{7}}{135} + \\frac{10691 \\beta^{8}}{180} + O\\left(\\beta^{9}\\right)\n"
     ]
    }
   ],
   "source": [
    "print_latex(r_s)"
   ]
  },
  {
   "cell_type": "code",
   "execution_count": 540,
   "metadata": {},
   "outputs": [
    {
     "name": "stdout",
     "output_type": "stream",
     "text": [
      "2 \\beta - 2 \\beta^{2} - \\frac{7 \\beta^{3}}{3} + \\frac{20 \\beta^{4}}{3} + \\frac{181 \\beta^{5}}{60} + O\\left(\\beta^{6}\\right)\n"
     ]
    }
   ],
   "source": [
    "UP_A = sin(beta+SOL_psi).series(beta,0,9).removeO() + r_s*sin(beta).series(beta,0,9).removeO()\n",
    "DOWN_A = sin(beta+SOL_psi).series(beta,0,9).removeO() - r_s*sin(beta).series(beta,0,9).removeO()\n",
    "A_SN = (UP_A/DOWN_A).series(beta,0,6)\n",
    "print_latex(A_SN)"
   ]
  },
  {
   "cell_type": "code",
   "execution_count": 485,
   "metadata": {},
   "outputs": [
    {
     "name": "stdout",
     "output_type": "stream",
     "text": [
      "\\frac{\\frac{4469 \\beta^{8}}{120} - \\frac{18059 \\beta^{7}}{5040} - \\frac{1024 \\beta^{6}}{45} - \\frac{1321 \\beta^{5}}{120} + \\frac{14 \\beta^{4}}{3} + \\frac{13 \\beta^{3}}{6} - 2 \\beta^{2} - \\beta + \\left(- \\frac{\\beta^{7}}{5040} + \\frac{\\beta^{5}}{120} - \\frac{\\beta^{3}}{6} + \\beta\\right) \\left(\\frac{10691 \\beta^{8}}{180} - \\frac{15827 \\beta^{7}}{135} + \\frac{686 \\beta^{6}}{9} - \\frac{1441 \\beta^{5}}{60} + \\frac{16 \\beta^{4}}{3} + \\frac{\\beta^{3}}{3} + 2 \\beta^{2} - 2 \\beta + 1\\right)}{\\frac{4469 \\beta^{8}}{120} - \\frac{18059 \\beta^{7}}{5040} - \\frac{1024 \\beta^{6}}{45} - \\frac{1321 \\beta^{5}}{120} + \\frac{14 \\beta^{4}}{3} + \\frac{13 \\beta^{3}}{6} - 2 \\beta^{2} - \\beta - \\left(- \\frac{\\beta^{7}}{5040} + \\frac{\\beta^{5}}{120} - \\frac{\\beta^{3}}{6} + \\beta\\right) \\left(\\frac{10691 \\beta^{8}}{180} - \\frac{15827 \\beta^{7}}{135} + \\frac{686 \\beta^{6}}{9} - \\frac{1441 \\beta^{5}}{60} + \\frac{16 \\beta^{4}}{3} + \\frac{\\beta^{3}}{3} + 2 \\beta^{2} - 2 \\beta + 1\\right)}\n"
     ]
    }
   ],
   "source": [
    "print_latex((UP_A/DOWN_A))\n"
   ]
  },
  {
   "cell_type": "code",
   "execution_count": 473,
   "metadata": {},
   "outputs": [
    {
     "data": {
      "text/latex": [
       "$\\displaystyle \\frac{\\frac{4469 \\beta^{8}}{120} - \\frac{18059 \\beta^{7}}{5040} - \\frac{1024 \\beta^{6}}{45} - \\frac{1321 \\beta^{5}}{120} + \\frac{14 \\beta^{4}}{3} + \\frac{13 \\beta^{3}}{6} - 2 \\beta^{2} - \\beta + \\left(- \\frac{\\beta^{7}}{5040} + \\frac{\\beta^{5}}{120} - \\frac{\\beta^{3}}{6} + \\beta\\right) \\left(\\frac{10691 \\beta^{8}}{180} - \\frac{15827 \\beta^{7}}{135} + \\frac{686 \\beta^{6}}{9} - \\frac{1441 \\beta^{5}}{60} + \\frac{16 \\beta^{4}}{3} + \\frac{\\beta^{3}}{3} + 2 \\beta^{2} - 2 \\beta + 1\\right)}{\\frac{4469 \\beta^{8}}{120} - \\frac{18059 \\beta^{7}}{5040} - \\frac{1024 \\beta^{6}}{45} - \\frac{1321 \\beta^{5}}{120} + \\frac{14 \\beta^{4}}{3} + \\frac{13 \\beta^{3}}{6} - 2 \\beta^{2} - \\beta - \\left(- \\frac{\\beta^{7}}{5040} + \\frac{\\beta^{5}}{120} - \\frac{\\beta^{3}}{6} + \\beta\\right) \\left(\\frac{10691 \\beta^{8}}{180} - \\frac{15827 \\beta^{7}}{135} + \\frac{686 \\beta^{6}}{9} - \\frac{1441 \\beta^{5}}{60} + \\frac{16 \\beta^{4}}{3} + \\frac{\\beta^{3}}{3} + 2 \\beta^{2} - 2 \\beta + 1\\right)}$"
      ],
      "text/plain": [
       "(4469*beta**8/120 - 18059*beta**7/5040 - 1024*beta**6/45 - 1321*beta**5/120 + 14*beta**4/3 + 13*beta**3/6 - 2*beta**2 - beta + (-beta**7/5040 + beta**5/120 - beta**3/6 + beta)*(10691*beta**8/180 - 15827*beta**7/135 + 686*beta**6/9 - 1441*beta**5/60 + 16*beta**4/3 + beta**3/3 + 2*beta**2 - 2*beta + 1))/(4469*beta**8/120 - 18059*beta**7/5040 - 1024*beta**6/45 - 1321*beta**5/120 + 14*beta**4/3 + 13*beta**3/6 - 2*beta**2 - beta - (-beta**7/5040 + beta**5/120 - beta**3/6 + beta)*(10691*beta**8/180 - 15827*beta**7/135 + 686*beta**6/9 - 1441*beta**5/60 + 16*beta**4/3 + beta**3/3 + 2*beta**2 - 2*beta + 1))"
      ]
     },
     "execution_count": 473,
     "metadata": {},
     "output_type": "execute_result"
    }
   ],
   "source": [
    "(UP_A/DOWN_A)"
   ]
  },
  {
   "cell_type": "code",
   "execution_count": 457,
   "metadata": {},
   "outputs": [
    {
     "data": {
      "text/latex": [
       "$\\displaystyle - \\frac{4006487654692822399028791 A \\beta^{42}}{30855889612800000000} - \\frac{1224851010300465423121 A \\beta^{41}}{2040733440000000} - \\frac{73880122128178394226949 A \\beta^{40}}{73466403840000000} - \\frac{5901296938385272845119 A \\beta^{39}}{12244400640000000} + \\frac{6375891828779848645709 A \\beta^{38}}{12244400640000000} + \\frac{10630755608907205139039 A \\beta^{37}}{24488801280000000} - \\frac{11983047098420654171 A \\beta^{36}}{20407334400000} - \\frac{360706587422304267589 A \\beta^{35}}{476171136000000} + \\frac{60383233316566889 A \\beta^{34}}{680244480000} + \\frac{624793671356417203 A \\beta^{33}}{1417176000000} - \\frac{1032331446172735751 A \\beta^{32}}{45349632000000} - \\frac{6626280008956753 A \\beta^{31}}{22674816000} - \\frac{1068770881473366599 A \\beta^{30}}{22674816000000} + \\frac{4219527674927731 A \\beta^{29}}{25194240000} + \\frac{23815712765465441 A \\beta^{28}}{264539520000} - \\frac{7873074861729613 A \\beta^{27}}{151165440000} - \\frac{243790683903833 A \\beta^{26}}{4199040000} + \\frac{56261700627329 A \\beta^{25}}{2799360000} + \\frac{151667343779 A \\beta^{24}}{3280500} + \\frac{233674440527 A \\beta^{23}}{34992000} - \\frac{15252821584087 A \\beta^{22}}{839808000} - \\frac{172489162081 A \\beta^{21}}{40824000} + \\frac{148381380019 A \\beta^{20}}{17496000} + \\frac{321415349 A \\beta^{19}}{86400} - \\frac{6620156851 A \\beta^{18}}{2187000} - \\frac{24450160681 A \\beta^{17}}{7776000} - \\frac{3040529 A \\beta^{16}}{32400} + \\frac{501094939 A \\beta^{15}}{388800} + \\frac{42005489 A \\beta^{14}}{226800} - \\frac{48959837 A \\beta^{13}}{64800} - \\frac{14373037 A \\beta^{12}}{43200} + \\frac{44407 A \\beta^{11}}{270} + \\frac{379229 A \\beta^{10}}{4320} - \\frac{20929 A \\beta^{9}}{360} - \\frac{4469 A \\beta^{8}}{120} - \\frac{A \\beta^{7} \\sqrt{- \\frac{\\sin{\\left(\\frac{3271 \\beta^{6}}{180} + 12 \\beta^{5} - \\frac{11 \\beta^{4}}{3} - 2 \\beta^{3} + 2 \\beta^{2} \\right)}}{- 2 \\sin{\\left(\\frac{3271 \\beta^{6}}{180} + 12 \\beta^{5} - \\frac{11 \\beta^{4}}{3} - 2 \\beta^{3} + 2 \\beta^{2} + 2 \\beta \\right)} + \\sin{\\left(\\frac{3271 \\beta^{6}}{180} + 12 \\beta^{5} - \\frac{11 \\beta^{4}}{3} - 2 \\beta^{3} + 2 \\beta^{2} + 4 \\beta \\right)}}}}{5040} + \\frac{18059 A \\beta^{7}}{5040} + \\frac{1024 A \\beta^{6}}{45} + \\frac{A \\beta^{5} \\sqrt{- \\frac{\\sin{\\left(\\frac{3271 \\beta^{6}}{180} + 12 \\beta^{5} - \\frac{11 \\beta^{4}}{3} - 2 \\beta^{3} + 2 \\beta^{2} \\right)}}{- 2 \\sin{\\left(\\frac{3271 \\beta^{6}}{180} + 12 \\beta^{5} - \\frac{11 \\beta^{4}}{3} - 2 \\beta^{3} + 2 \\beta^{2} + 2 \\beta \\right)} + \\sin{\\left(\\frac{3271 \\beta^{6}}{180} + 12 \\beta^{5} - \\frac{11 \\beta^{4}}{3} - 2 \\beta^{3} + 2 \\beta^{2} + 4 \\beta \\right)}}}}{120} + \\frac{1321 A \\beta^{5}}{120} - \\frac{14 A \\beta^{4}}{3} - \\frac{A \\beta^{3} \\sqrt{- \\frac{\\sin{\\left(\\frac{3271 \\beta^{6}}{180} + 12 \\beta^{5} - \\frac{11 \\beta^{4}}{3} - 2 \\beta^{3} + 2 \\beta^{2} \\right)}}{- 2 \\sin{\\left(\\frac{3271 \\beta^{6}}{180} + 12 \\beta^{5} - \\frac{11 \\beta^{4}}{3} - 2 \\beta^{3} + 2 \\beta^{2} + 2 \\beta \\right)} + \\sin{\\left(\\frac{3271 \\beta^{6}}{180} + 12 \\beta^{5} - \\frac{11 \\beta^{4}}{3} - 2 \\beta^{3} + 2 \\beta^{2} + 4 \\beta \\right)}}}}{6} - \\frac{13 A \\beta^{3}}{6} + 2 A \\beta^{2} + A \\beta \\sqrt{- \\frac{\\sin{\\left(\\frac{3271 \\beta^{6}}{180} + 12 \\beta^{5} - \\frac{11 \\beta^{4}}{3} - 2 \\beta^{3} + 2 \\beta^{2} \\right)}}{- 2 \\sin{\\left(\\frac{3271 \\beta^{6}}{180} + 12 \\beta^{5} - \\frac{11 \\beta^{4}}{3} - 2 \\beta^{3} + 2 \\beta^{2} + 2 \\beta \\right)} + \\sin{\\left(\\frac{3271 \\beta^{6}}{180} + 12 \\beta^{5} - \\frac{11 \\beta^{4}}{3} - 2 \\beta^{3} + 2 \\beta^{2} + 4 \\beta \\right)}}} + A \\beta + \\frac{4006487654692822399028791 \\beta^{42}}{30855889612800000000} + \\frac{1224851010300465423121 \\beta^{41}}{2040733440000000} + \\frac{73880122128178394226949 \\beta^{40}}{73466403840000000} + \\frac{5901296938385272845119 \\beta^{39}}{12244400640000000} - \\frac{6375891828779848645709 \\beta^{38}}{12244400640000000} - \\frac{10630755608907205139039 \\beta^{37}}{24488801280000000} + \\frac{11983047098420654171 \\beta^{36}}{20407334400000} + \\frac{360706587422304267589 \\beta^{35}}{476171136000000} - \\frac{60383233316566889 \\beta^{34}}{680244480000} - \\frac{624793671356417203 \\beta^{33}}{1417176000000} + \\frac{1032331446172735751 \\beta^{32}}{45349632000000} + \\frac{6626280008956753 \\beta^{31}}{22674816000} + \\frac{1068770881473366599 \\beta^{30}}{22674816000000} - \\frac{4219527674927731 \\beta^{29}}{25194240000} - \\frac{23815712765465441 \\beta^{28}}{264539520000} + \\frac{7873074861729613 \\beta^{27}}{151165440000} + \\frac{243790683903833 \\beta^{26}}{4199040000} - \\frac{56261700627329 \\beta^{25}}{2799360000} - \\frac{151667343779 \\beta^{24}}{3280500} - \\frac{233674440527 \\beta^{23}}{34992000} + \\frac{15252821584087 \\beta^{22}}{839808000} + \\frac{172489162081 \\beta^{21}}{40824000} - \\frac{148381380019 \\beta^{20}}{17496000} - \\frac{321415349 \\beta^{19}}{86400} + \\frac{6620156851 \\beta^{18}}{2187000} + \\frac{24450160681 \\beta^{17}}{7776000} + \\frac{3040529 \\beta^{16}}{32400} - \\frac{501094939 \\beta^{15}}{388800} - \\frac{42005489 \\beta^{14}}{226800} + \\frac{48959837 \\beta^{13}}{64800} + \\frac{14373037 \\beta^{12}}{43200} - \\frac{44407 \\beta^{11}}{270} - \\frac{379229 \\beta^{10}}{4320} + \\frac{20929 \\beta^{9}}{360} + \\frac{4469 \\beta^{8}}{120} - \\frac{\\beta^{7} \\sqrt{- \\frac{\\sin{\\left(\\frac{3271 \\beta^{6}}{180} + 12 \\beta^{5} - \\frac{11 \\beta^{4}}{3} - 2 \\beta^{3} + 2 \\beta^{2} \\right)}}{- 2 \\sin{\\left(\\frac{3271 \\beta^{6}}{180} + 12 \\beta^{5} - \\frac{11 \\beta^{4}}{3} - 2 \\beta^{3} + 2 \\beta^{2} + 2 \\beta \\right)} + \\sin{\\left(\\frac{3271 \\beta^{6}}{180} + 12 \\beta^{5} - \\frac{11 \\beta^{4}}{3} - 2 \\beta^{3} + 2 \\beta^{2} + 4 \\beta \\right)}}}}{5040} - \\frac{18059 \\beta^{7}}{5040} - \\frac{1024 \\beta^{6}}{45} + \\frac{\\beta^{5} \\sqrt{- \\frac{\\sin{\\left(\\frac{3271 \\beta^{6}}{180} + 12 \\beta^{5} - \\frac{11 \\beta^{4}}{3} - 2 \\beta^{3} + 2 \\beta^{2} \\right)}}{- 2 \\sin{\\left(\\frac{3271 \\beta^{6}}{180} + 12 \\beta^{5} - \\frac{11 \\beta^{4}}{3} - 2 \\beta^{3} + 2 \\beta^{2} + 2 \\beta \\right)} + \\sin{\\left(\\frac{3271 \\beta^{6}}{180} + 12 \\beta^{5} - \\frac{11 \\beta^{4}}{3} - 2 \\beta^{3} + 2 \\beta^{2} + 4 \\beta \\right)}}}}{120} - \\frac{1321 \\beta^{5}}{120} + \\frac{14 \\beta^{4}}{3} - \\frac{\\beta^{3} \\sqrt{- \\frac{\\sin{\\left(\\frac{3271 \\beta^{6}}{180} + 12 \\beta^{5} - \\frac{11 \\beta^{4}}{3} - 2 \\beta^{3} + 2 \\beta^{2} \\right)}}{- 2 \\sin{\\left(\\frac{3271 \\beta^{6}}{180} + 12 \\beta^{5} - \\frac{11 \\beta^{4}}{3} - 2 \\beta^{3} + 2 \\beta^{2} + 2 \\beta \\right)} + \\sin{\\left(\\frac{3271 \\beta^{6}}{180} + 12 \\beta^{5} - \\frac{11 \\beta^{4}}{3} - 2 \\beta^{3} + 2 \\beta^{2} + 4 \\beta \\right)}}}}{6} + \\frac{13 \\beta^{3}}{6} - 2 \\beta^{2} + \\beta \\sqrt{- \\frac{\\sin{\\left(\\frac{3271 \\beta^{6}}{180} + 12 \\beta^{5} - \\frac{11 \\beta^{4}}{3} - 2 \\beta^{3} + 2 \\beta^{2} \\right)}}{- 2 \\sin{\\left(\\frac{3271 \\beta^{6}}{180} + 12 \\beta^{5} - \\frac{11 \\beta^{4}}{3} - 2 \\beta^{3} + 2 \\beta^{2} + 2 \\beta \\right)} + \\sin{\\left(\\frac{3271 \\beta^{6}}{180} + 12 \\beta^{5} - \\frac{11 \\beta^{4}}{3} - 2 \\beta^{3} + 2 \\beta^{2} + 4 \\beta \\right)}}} - \\beta$"
      ],
      "text/plain": [
       "-4006487654692822399028791*A*beta**42/30855889612800000000 - 1224851010300465423121*A*beta**41/2040733440000000 - 73880122128178394226949*A*beta**40/73466403840000000 - 5901296938385272845119*A*beta**39/12244400640000000 + 6375891828779848645709*A*beta**38/12244400640000000 + 10630755608907205139039*A*beta**37/24488801280000000 - 11983047098420654171*A*beta**36/20407334400000 - 360706587422304267589*A*beta**35/476171136000000 + 60383233316566889*A*beta**34/680244480000 + 624793671356417203*A*beta**33/1417176000000 - 1032331446172735751*A*beta**32/45349632000000 - 6626280008956753*A*beta**31/22674816000 - 1068770881473366599*A*beta**30/22674816000000 + 4219527674927731*A*beta**29/25194240000 + 23815712765465441*A*beta**28/264539520000 - 7873074861729613*A*beta**27/151165440000 - 243790683903833*A*beta**26/4199040000 + 56261700627329*A*beta**25/2799360000 + 151667343779*A*beta**24/3280500 + 233674440527*A*beta**23/34992000 - 15252821584087*A*beta**22/839808000 - 172489162081*A*beta**21/40824000 + 148381380019*A*beta**20/17496000 + 321415349*A*beta**19/86400 - 6620156851*A*beta**18/2187000 - 24450160681*A*beta**17/7776000 - 3040529*A*beta**16/32400 + 501094939*A*beta**15/388800 + 42005489*A*beta**14/226800 - 48959837*A*beta**13/64800 - 14373037*A*beta**12/43200 + 44407*A*beta**11/270 + 379229*A*beta**10/4320 - 20929*A*beta**9/360 - 4469*A*beta**8/120 - A*beta**7*sqrt(-sin(3271*beta**6/180 + 12*beta**5 - 11*beta**4/3 - 2*beta**3 + 2*beta**2)/(-2*sin(3271*beta**6/180 + 12*beta**5 - 11*beta**4/3 - 2*beta**3 + 2*beta**2 + 2*beta) + sin(3271*beta**6/180 + 12*beta**5 - 11*beta**4/3 - 2*beta**3 + 2*beta**2 + 4*beta)))/5040 + 18059*A*beta**7/5040 + 1024*A*beta**6/45 + A*beta**5*sqrt(-sin(3271*beta**6/180 + 12*beta**5 - 11*beta**4/3 - 2*beta**3 + 2*beta**2)/(-2*sin(3271*beta**6/180 + 12*beta**5 - 11*beta**4/3 - 2*beta**3 + 2*beta**2 + 2*beta) + sin(3271*beta**6/180 + 12*beta**5 - 11*beta**4/3 - 2*beta**3 + 2*beta**2 + 4*beta)))/120 + 1321*A*beta**5/120 - 14*A*beta**4/3 - A*beta**3*sqrt(-sin(3271*beta**6/180 + 12*beta**5 - 11*beta**4/3 - 2*beta**3 + 2*beta**2)/(-2*sin(3271*beta**6/180 + 12*beta**5 - 11*beta**4/3 - 2*beta**3 + 2*beta**2 + 2*beta) + sin(3271*beta**6/180 + 12*beta**5 - 11*beta**4/3 - 2*beta**3 + 2*beta**2 + 4*beta)))/6 - 13*A*beta**3/6 + 2*A*beta**2 + A*beta*sqrt(-sin(3271*beta**6/180 + 12*beta**5 - 11*beta**4/3 - 2*beta**3 + 2*beta**2)/(-2*sin(3271*beta**6/180 + 12*beta**5 - 11*beta**4/3 - 2*beta**3 + 2*beta**2 + 2*beta) + sin(3271*beta**6/180 + 12*beta**5 - 11*beta**4/3 - 2*beta**3 + 2*beta**2 + 4*beta))) + A*beta + 4006487654692822399028791*beta**42/30855889612800000000 + 1224851010300465423121*beta**41/2040733440000000 + 73880122128178394226949*beta**40/73466403840000000 + 5901296938385272845119*beta**39/12244400640000000 - 6375891828779848645709*beta**38/12244400640000000 - 10630755608907205139039*beta**37/24488801280000000 + 11983047098420654171*beta**36/20407334400000 + 360706587422304267589*beta**35/476171136000000 - 60383233316566889*beta**34/680244480000 - 624793671356417203*beta**33/1417176000000 + 1032331446172735751*beta**32/45349632000000 + 6626280008956753*beta**31/22674816000 + 1068770881473366599*beta**30/22674816000000 - 4219527674927731*beta**29/25194240000 - 23815712765465441*beta**28/264539520000 + 7873074861729613*beta**27/151165440000 + 243790683903833*beta**26/4199040000 - 56261700627329*beta**25/2799360000 - 151667343779*beta**24/3280500 - 233674440527*beta**23/34992000 + 15252821584087*beta**22/839808000 + 172489162081*beta**21/40824000 - 148381380019*beta**20/17496000 - 321415349*beta**19/86400 + 6620156851*beta**18/2187000 + 24450160681*beta**17/7776000 + 3040529*beta**16/32400 - 501094939*beta**15/388800 - 42005489*beta**14/226800 + 48959837*beta**13/64800 + 14373037*beta**12/43200 - 44407*beta**11/270 - 379229*beta**10/4320 + 20929*beta**9/360 + 4469*beta**8/120 - beta**7*sqrt(-sin(3271*beta**6/180 + 12*beta**5 - 11*beta**4/3 - 2*beta**3 + 2*beta**2)/(-2*sin(3271*beta**6/180 + 12*beta**5 - 11*beta**4/3 - 2*beta**3 + 2*beta**2 + 2*beta) + sin(3271*beta**6/180 + 12*beta**5 - 11*beta**4/3 - 2*beta**3 + 2*beta**2 + 4*beta)))/5040 - 18059*beta**7/5040 - 1024*beta**6/45 + beta**5*sqrt(-sin(3271*beta**6/180 + 12*beta**5 - 11*beta**4/3 - 2*beta**3 + 2*beta**2)/(-2*sin(3271*beta**6/180 + 12*beta**5 - 11*beta**4/3 - 2*beta**3 + 2*beta**2 + 2*beta) + sin(3271*beta**6/180 + 12*beta**5 - 11*beta**4/3 - 2*beta**3 + 2*beta**2 + 4*beta)))/120 - 1321*beta**5/120 + 14*beta**4/3 - beta**3*sqrt(-sin(3271*beta**6/180 + 12*beta**5 - 11*beta**4/3 - 2*beta**3 + 2*beta**2)/(-2*sin(3271*beta**6/180 + 12*beta**5 - 11*beta**4/3 - 2*beta**3 + 2*beta**2 + 2*beta) + sin(3271*beta**6/180 + 12*beta**5 - 11*beta**4/3 - 2*beta**3 + 2*beta**2 + 4*beta)))/6 + 13*beta**3/6 - 2*beta**2 + beta*sqrt(-sin(3271*beta**6/180 + 12*beta**5 - 11*beta**4/3 - 2*beta**3 + 2*beta**2)/(-2*sin(3271*beta**6/180 + 12*beta**5 - 11*beta**4/3 - 2*beta**3 + 2*beta**2 + 2*beta) + sin(3271*beta**6/180 + 12*beta**5 - 11*beta**4/3 - 2*beta**3 + 2*beta**2 + 4*beta))) - beta"
      ]
     },
     "execution_count": 457,
     "metadata": {},
     "output_type": "execute_result"
    }
   ],
   "source": [
    "SOL_A.collect(beta).expand()"
   ]
  },
  {
   "cell_type": "code",
   "execution_count": 434,
   "metadata": {},
   "outputs": [
    {
     "data": {
      "text/plain": [
       "[-A*r + A + r - 1,\n",
       " 2*A - 2,\n",
       " A*r/6 - 13*A/6 - r/6 + 13/6,\n",
       " 14/3 - 14*A/3,\n",
       " -A*r/120 + 1321*A/120 + r/120 - 1321/120,\n",
       " 1024*A/45 - 1024/45,\n",
       " A*r/5040 + 18059*A/5040 - r/5040 - 18059/5040,\n",
       " 4469/120 - 4469*A/120,\n",
       " 20929/360 - 20929*A/360,\n",
       " 379229*A/4320 - 379229/4320,\n",
       " 44407*A/270 - 44407/270,\n",
       " 14373037/43200 - 14373037*A/43200,\n",
       " 48959837/64800 - 48959837*A/64800,\n",
       " 42005489*A/226800 - 42005489/226800,\n",
       " 501094939*A/388800 - 501094939/388800,\n",
       " 3040529/32400 - 3040529*A/32400,\n",
       " 24450160681/7776000 - 24450160681*A/7776000,\n",
       " 6620156851/2187000 - 6620156851*A/2187000,\n",
       " 321415349*A/86400 - 321415349/86400,\n",
       " 148381380019*A/17496000 - 148381380019/17496000,\n",
       " 172489162081/40824000 - 172489162081*A/40824000,\n",
       " 15252821584087/839808000 - 15252821584087*A/839808000,\n",
       " 233674440527*A/34992000 - 233674440527/34992000,\n",
       " 151667343779*A/3280500 - 151667343779/3280500,\n",
       " 56261700627329*A/2799360000 - 56261700627329/2799360000,\n",
       " 243790683903833/4199040000 - 243790683903833*A/4199040000,\n",
       " 7873074861729613/151165440000 - 7873074861729613*A/151165440000,\n",
       " 23815712765465441*A/264539520000 - 23815712765465441/264539520000,\n",
       " 4219527674927731*A/25194240000 - 4219527674927731/25194240000,\n",
       " 1068770881473366599/22674816000000 - 1068770881473366599*A/22674816000000,\n",
       " 6626280008956753/22674816000 - 6626280008956753*A/22674816000,\n",
       " 1032331446172735751/45349632000000 - 1032331446172735751*A/45349632000000,\n",
       " 624793671356417203*A/1417176000000 - 624793671356417203/1417176000000,\n",
       " 60383233316566889*A/680244480000 - 60383233316566889/680244480000,\n",
       " 360706587422304267589/476171136000000 - 360706587422304267589*A/476171136000000,\n",
       " 11983047098420654171/20407334400000 - 11983047098420654171*A/20407334400000,\n",
       " 10630755608907205139039*A/24488801280000000 - 10630755608907205139039/24488801280000000,\n",
       " 6375891828779848645709*A/12244400640000000 - 6375891828779848645709/12244400640000000,\n",
       " 5901296938385272845119/12244400640000000 - 5901296938385272845119*A/12244400640000000,\n",
       " 73880122128178394226949/73466403840000000 - 73880122128178394226949*A/73466403840000000,\n",
       " 1224851010300465423121/2040733440000000 - 1224851010300465423121*A/2040733440000000,\n",
       " 4006487654692822399028791/30855889612800000000 - 4006487654692822399028791*A/30855889612800000000]"
      ]
     },
     "execution_count": 434,
     "metadata": {},
     "output_type": "execute_result"
    }
   ],
   "source": [
    "SOL_A.coeffs()[::-1]"
   ]
  },
  {
   "cell_type": "code",
   "execution_count": null,
   "metadata": {},
   "outputs": [],
   "source": [
    "SOL_r.subs()"
   ]
  },
  {
   "cell_type": "code",
   "execution_count": 394,
   "metadata": {},
   "outputs": [
    {
     "ename": "KeyboardInterrupt",
     "evalue": "",
     "output_type": "error",
     "traceback": [
      "\u001b[1;31m---------------------------------------------------------------------------\u001b[0m",
      "\u001b[1;31mKeyboardInterrupt\u001b[0m                         Traceback (most recent call last)",
      "Cell \u001b[1;32mIn [394], line 1\u001b[0m\n\u001b[1;32m----> 1\u001b[0m \u001b[43mSOL_r\u001b[49m\u001b[38;5;241;43m.\u001b[39;49m\u001b[43msubs\u001b[49m\u001b[43m(\u001b[49m\u001b[43mpsi\u001b[49m\u001b[43m,\u001b[49m\u001b[43mSOL_psi\u001b[49m\u001b[43m)\u001b[49m\u001b[38;5;241;43m.\u001b[39;49m\u001b[43mseries\u001b[49m\u001b[43m(\u001b[49m\u001b[43mbeta\u001b[49m\u001b[43m,\u001b[49m\u001b[38;5;241;43m0\u001b[39;49m\u001b[43m,\u001b[49m\u001b[38;5;241;43m5\u001b[39;49m\u001b[43m)\u001b[49m\n",
      "File \u001b[1;32mc:\\Users\\kim9y\\AppData\\Local\\Programs\\Python\\Python311\\Lib\\site-packages\\sympy\\core\\expr.py:3009\u001b[0m, in \u001b[0;36mExpr.series\u001b[1;34m(self, x, x0, n, dir, logx, cdir)\u001b[0m\n\u001b[0;32m   3006\u001b[0m \u001b[38;5;28;01mif\u001b[39;00m x\u001b[38;5;241m.\u001b[39mis_positive \u001b[38;5;129;01mis\u001b[39;00m x\u001b[38;5;241m.\u001b[39mis_negative \u001b[38;5;129;01mis\u001b[39;00m \u001b[38;5;28;01mNone\u001b[39;00m \u001b[38;5;129;01mor\u001b[39;00m x\u001b[38;5;241m.\u001b[39mis_Symbol \u001b[38;5;129;01mis\u001b[39;00m \u001b[38;5;129;01mnot\u001b[39;00m \u001b[38;5;28;01mTrue\u001b[39;00m:\n\u001b[0;32m   3007\u001b[0m     \u001b[38;5;66;03m# replace x with an x that has a positive assumption\u001b[39;00m\n\u001b[0;32m   3008\u001b[0m     xpos \u001b[38;5;241m=\u001b[39m Dummy(\u001b[38;5;124m'\u001b[39m\u001b[38;5;124mx\u001b[39m\u001b[38;5;124m'\u001b[39m, positive\u001b[38;5;241m=\u001b[39m\u001b[38;5;28;01mTrue\u001b[39;00m)\n\u001b[1;32m-> 3009\u001b[0m     rv \u001b[38;5;241m=\u001b[39m \u001b[38;5;28;43mself\u001b[39;49m\u001b[38;5;241;43m.\u001b[39;49m\u001b[43msubs\u001b[49m\u001b[43m(\u001b[49m\u001b[43mx\u001b[49m\u001b[43m,\u001b[49m\u001b[43m \u001b[49m\u001b[43mxpos\u001b[49m\u001b[43m)\u001b[49m\u001b[38;5;241;43m.\u001b[39;49m\u001b[43mseries\u001b[49m\u001b[43m(\u001b[49m\u001b[43mxpos\u001b[49m\u001b[43m,\u001b[49m\u001b[43m \u001b[49m\u001b[43mx0\u001b[49m\u001b[43m,\u001b[49m\u001b[43m \u001b[49m\u001b[43mn\u001b[49m\u001b[43m,\u001b[49m\u001b[43m \u001b[49m\u001b[38;5;28;43mdir\u001b[39;49m\u001b[43m,\u001b[49m\u001b[43m \u001b[49m\u001b[43mlogx\u001b[49m\u001b[38;5;241;43m=\u001b[39;49m\u001b[43mlogx\u001b[49m\u001b[43m,\u001b[49m\u001b[43m \u001b[49m\u001b[43mcdir\u001b[49m\u001b[38;5;241;43m=\u001b[39;49m\u001b[43mcdir\u001b[49m\u001b[43m)\u001b[49m\n\u001b[0;32m   3010\u001b[0m     \u001b[38;5;28;01mif\u001b[39;00m n \u001b[38;5;129;01mis\u001b[39;00m \u001b[38;5;28;01mNone\u001b[39;00m:\n\u001b[0;32m   3011\u001b[0m         \u001b[38;5;28;01mreturn\u001b[39;00m (s\u001b[38;5;241m.\u001b[39msubs(xpos, x) \u001b[38;5;28;01mfor\u001b[39;00m s \u001b[38;5;129;01min\u001b[39;00m rv)\n",
      "File \u001b[1;32mc:\\Users\\kim9y\\AppData\\Local\\Programs\\Python\\Python311\\Lib\\site-packages\\sympy\\core\\expr.py:3017\u001b[0m, in \u001b[0;36mExpr.series\u001b[1;34m(self, x, x0, n, dir, logx, cdir)\u001b[0m\n\u001b[0;32m   3015\u001b[0m \u001b[38;5;28;01mfrom\u001b[39;00m \u001b[38;5;21;01msympy\u001b[39;00m\u001b[38;5;21;01m.\u001b[39;00m\u001b[38;5;21;01mseries\u001b[39;00m\u001b[38;5;21;01m.\u001b[39;00m\u001b[38;5;21;01morder\u001b[39;00m \u001b[38;5;28;01mimport\u001b[39;00m Order\n\u001b[0;32m   3016\u001b[0m \u001b[38;5;28;01mif\u001b[39;00m n \u001b[38;5;129;01mis\u001b[39;00m \u001b[38;5;129;01mnot\u001b[39;00m \u001b[38;5;28;01mNone\u001b[39;00m:  \u001b[38;5;66;03m# nseries handling\u001b[39;00m\n\u001b[1;32m-> 3017\u001b[0m     s1 \u001b[38;5;241m=\u001b[39m \u001b[38;5;28;43mself\u001b[39;49m\u001b[38;5;241;43m.\u001b[39;49m\u001b[43m_eval_nseries\u001b[49m\u001b[43m(\u001b[49m\u001b[43mx\u001b[49m\u001b[43m,\u001b[49m\u001b[43m \u001b[49m\u001b[43mn\u001b[49m\u001b[38;5;241;43m=\u001b[39;49m\u001b[43mn\u001b[49m\u001b[43m,\u001b[49m\u001b[43m \u001b[49m\u001b[43mlogx\u001b[49m\u001b[38;5;241;43m=\u001b[39;49m\u001b[43mlogx\u001b[49m\u001b[43m,\u001b[49m\u001b[43m \u001b[49m\u001b[43mcdir\u001b[49m\u001b[38;5;241;43m=\u001b[39;49m\u001b[43mcdir\u001b[49m\u001b[43m)\u001b[49m\n\u001b[0;32m   3018\u001b[0m     o \u001b[38;5;241m=\u001b[39m s1\u001b[38;5;241m.\u001b[39mgetO() \u001b[38;5;129;01mor\u001b[39;00m S\u001b[38;5;241m.\u001b[39mZero\n\u001b[0;32m   3019\u001b[0m     \u001b[38;5;28;01mif\u001b[39;00m o:\n\u001b[0;32m   3020\u001b[0m         \u001b[38;5;66;03m# make sure the requested order is returned\u001b[39;00m\n",
      "File \u001b[1;32mc:\\Users\\kim9y\\AppData\\Local\\Programs\\Python\\Python311\\Lib\\site-packages\\sympy\\core\\power.py:1648\u001b[0m, in \u001b[0;36mPow._eval_nseries\u001b[1;34m(self, x, n, logx, cdir)\u001b[0m\n\u001b[0;32m   1646\u001b[0m \u001b[38;5;28;01mfrom\u001b[39;00m \u001b[38;5;21;01msympy\u001b[39;00m\u001b[38;5;21;01m.\u001b[39;00m\u001b[38;5;21;01msimplify\u001b[39;00m\u001b[38;5;21;01m.\u001b[39;00m\u001b[38;5;21;01mpowsimp\u001b[39;00m \u001b[38;5;28;01mimport\u001b[39;00m powdenest\n\u001b[0;32m   1647\u001b[0m \u001b[38;5;28;01mfrom\u001b[39;00m \u001b[38;5;21;01m.\u001b[39;00m\u001b[38;5;21;01mnumbers\u001b[39;00m \u001b[38;5;28;01mimport\u001b[39;00m _illegal\n\u001b[1;32m-> 1648\u001b[0m \u001b[38;5;28mself\u001b[39m \u001b[38;5;241m=\u001b[39m \u001b[43mpowdenest\u001b[49m\u001b[43m(\u001b[49m\u001b[38;5;28;43mself\u001b[39;49m\u001b[43m,\u001b[49m\u001b[43m \u001b[49m\u001b[43mforce\u001b[49m\u001b[38;5;241;43m=\u001b[39;49m\u001b[38;5;28;43;01mTrue\u001b[39;49;00m\u001b[43m)\u001b[49m\u001b[38;5;241;43m.\u001b[39;49m\u001b[43mtrigsimp\u001b[49m\u001b[43m(\u001b[49m\u001b[43m)\u001b[49m\n\u001b[0;32m   1649\u001b[0m b, e \u001b[38;5;241m=\u001b[39m \u001b[38;5;28mself\u001b[39m\u001b[38;5;241m.\u001b[39mas_base_exp()\n\u001b[0;32m   1651\u001b[0m \u001b[38;5;28;01mif\u001b[39;00m e\u001b[38;5;241m.\u001b[39mhas(\u001b[38;5;241m*\u001b[39m_illegal):\n",
      "File \u001b[1;32mc:\\Users\\kim9y\\AppData\\Local\\Programs\\Python\\Python311\\Lib\\site-packages\\sympy\\core\\expr.py:3730\u001b[0m, in \u001b[0;36mExpr.trigsimp\u001b[1;34m(self, **args)\u001b[0m\n\u001b[0;32m   3728\u001b[0m \u001b[38;5;124;03m\"\"\"See the trigsimp function in sympy.simplify\"\"\"\u001b[39;00m\n\u001b[0;32m   3729\u001b[0m \u001b[38;5;28;01mfrom\u001b[39;00m \u001b[38;5;21;01msympy\u001b[39;00m\u001b[38;5;21;01m.\u001b[39;00m\u001b[38;5;21;01msimplify\u001b[39;00m\u001b[38;5;21;01m.\u001b[39;00m\u001b[38;5;21;01mtrigsimp\u001b[39;00m \u001b[38;5;28;01mimport\u001b[39;00m trigsimp\n\u001b[1;32m-> 3730\u001b[0m \u001b[38;5;28;01mreturn\u001b[39;00m \u001b[43mtrigsimp\u001b[49m\u001b[43m(\u001b[49m\u001b[38;5;28;43mself\u001b[39;49m\u001b[43m,\u001b[49m\u001b[43m \u001b[49m\u001b[38;5;241;43m*\u001b[39;49m\u001b[38;5;241;43m*\u001b[39;49m\u001b[43margs\u001b[49m\u001b[43m)\u001b[49m\n",
      "File \u001b[1;32mc:\\Users\\kim9y\\AppData\\Local\\Programs\\Python\\Python311\\Lib\\site-packages\\sympy\\simplify\\trigsimp.py:523\u001b[0m, in \u001b[0;36mtrigsimp\u001b[1;34m(expr, **opts)\u001b[0m\n\u001b[0;32m    512\u001b[0m     \u001b[38;5;28;01mreturn\u001b[39;00m trigsimp_groebner(new, \u001b[38;5;241m*\u001b[39m\u001b[38;5;241m*\u001b[39mopts)\n\u001b[0;32m    514\u001b[0m trigsimpfunc \u001b[38;5;241m=\u001b[39m {\n\u001b[0;32m    515\u001b[0m     \u001b[38;5;124m'\u001b[39m\u001b[38;5;124mfu\u001b[39m\u001b[38;5;124m'\u001b[39m: (\u001b[38;5;28;01mlambda\u001b[39;00m x: fu(x, \u001b[38;5;241m*\u001b[39m\u001b[38;5;241m*\u001b[39mopts)),\n\u001b[0;32m    516\u001b[0m     \u001b[38;5;124m'\u001b[39m\u001b[38;5;124mmatching\u001b[39m\u001b[38;5;124m'\u001b[39m: (\u001b[38;5;28;01mlambda\u001b[39;00m x: futrig(x)),\n\u001b[1;32m   (...)\u001b[0m\n\u001b[0;32m    520\u001b[0m     \u001b[38;5;124m'\u001b[39m\u001b[38;5;124mold\u001b[39m\u001b[38;5;124m'\u001b[39m: \u001b[38;5;28;01mlambda\u001b[39;00m x: trigsimp_old(x, \u001b[38;5;241m*\u001b[39m\u001b[38;5;241m*\u001b[39mopts),\n\u001b[0;32m    521\u001b[0m                }[method]\n\u001b[1;32m--> 523\u001b[0m \u001b[38;5;28;01mreturn\u001b[39;00m \u001b[43mtrigsimpfunc\u001b[49m\u001b[43m(\u001b[49m\u001b[43mexpr\u001b[49m\u001b[43m)\u001b[49m\n",
      "File \u001b[1;32mc:\\Users\\kim9y\\AppData\\Local\\Programs\\Python\\Python311\\Lib\\site-packages\\sympy\\simplify\\trigsimp.py:516\u001b[0m, in \u001b[0;36mtrigsimp.<locals>.<lambda>\u001b[1;34m(x)\u001b[0m\n\u001b[0;32m    511\u001b[0m         \u001b[38;5;28;01mreturn\u001b[39;00m new\n\u001b[0;32m    512\u001b[0m     \u001b[38;5;28;01mreturn\u001b[39;00m trigsimp_groebner(new, \u001b[38;5;241m*\u001b[39m\u001b[38;5;241m*\u001b[39mopts)\n\u001b[0;32m    514\u001b[0m trigsimpfunc \u001b[38;5;241m=\u001b[39m {\n\u001b[0;32m    515\u001b[0m     \u001b[38;5;124m'\u001b[39m\u001b[38;5;124mfu\u001b[39m\u001b[38;5;124m'\u001b[39m: (\u001b[38;5;28;01mlambda\u001b[39;00m x: fu(x, \u001b[38;5;241m*\u001b[39m\u001b[38;5;241m*\u001b[39mopts)),\n\u001b[1;32m--> 516\u001b[0m     \u001b[38;5;124m'\u001b[39m\u001b[38;5;124mmatching\u001b[39m\u001b[38;5;124m'\u001b[39m: (\u001b[38;5;28;01mlambda\u001b[39;00m x: \u001b[43mfutrig\u001b[49m\u001b[43m(\u001b[49m\u001b[43mx\u001b[49m\u001b[43m)\u001b[49m),\n\u001b[0;32m    517\u001b[0m     \u001b[38;5;124m'\u001b[39m\u001b[38;5;124mgroebner\u001b[39m\u001b[38;5;124m'\u001b[39m: (\u001b[38;5;28;01mlambda\u001b[39;00m x: groebnersimp(x, \u001b[38;5;241m*\u001b[39m\u001b[38;5;241m*\u001b[39mopts)),\n\u001b[0;32m    518\u001b[0m     \u001b[38;5;124m'\u001b[39m\u001b[38;5;124mcombined\u001b[39m\u001b[38;5;124m'\u001b[39m: (\u001b[38;5;28;01mlambda\u001b[39;00m x: futrig(groebnersimp(x,\n\u001b[0;32m    519\u001b[0m                            polynomial\u001b[38;5;241m=\u001b[39m\u001b[38;5;28;01mTrue\u001b[39;00m, hints\u001b[38;5;241m=\u001b[39m[\u001b[38;5;241m2\u001b[39m, tan]))),\n\u001b[0;32m    520\u001b[0m     \u001b[38;5;124m'\u001b[39m\u001b[38;5;124mold\u001b[39m\u001b[38;5;124m'\u001b[39m: \u001b[38;5;28;01mlambda\u001b[39;00m x: trigsimp_old(x, \u001b[38;5;241m*\u001b[39m\u001b[38;5;241m*\u001b[39mopts),\n\u001b[0;32m    521\u001b[0m                }[method]\n\u001b[0;32m    523\u001b[0m \u001b[38;5;28;01mreturn\u001b[39;00m trigsimpfunc(expr)\n",
      "File \u001b[1;32mc:\\Users\\kim9y\\AppData\\Local\\Programs\\Python\\Python311\\Lib\\site-packages\\sympy\\simplify\\trigsimp.py:1113\u001b[0m, in \u001b[0;36mfutrig\u001b[1;34m(e, hyper, **kwargs)\u001b[0m\n\u001b[0;32m   1110\u001b[0m     \u001b[38;5;28;01mreturn\u001b[39;00m e\n\u001b[0;32m   1112\u001b[0m old \u001b[38;5;241m=\u001b[39m e\n\u001b[1;32m-> 1113\u001b[0m e \u001b[38;5;241m=\u001b[39m \u001b[43mbottom_up\u001b[49m\u001b[43m(\u001b[49m\u001b[43me\u001b[49m\u001b[43m,\u001b[49m\u001b[43m \u001b[49m\u001b[43m_futrig\u001b[49m\u001b[43m)\u001b[49m\n\u001b[0;32m   1115\u001b[0m \u001b[38;5;28;01mif\u001b[39;00m hyper \u001b[38;5;129;01mand\u001b[39;00m e\u001b[38;5;241m.\u001b[39mhas(HyperbolicFunction):\n\u001b[0;32m   1116\u001b[0m     e, f \u001b[38;5;241m=\u001b[39m hyper_as_trig(e)\n",
      "File \u001b[1;32mc:\\Users\\kim9y\\AppData\\Local\\Programs\\Python\\Python311\\Lib\\site-packages\\sympy\\core\\traversal.py:237\u001b[0m, in \u001b[0;36mbottom_up\u001b[1;34m(rv, F, atoms, nonbasic)\u001b[0m\n\u001b[0;32m    235\u001b[0m \u001b[38;5;28;01mif\u001b[39;00m args \u001b[38;5;129;01mis\u001b[39;00m \u001b[38;5;129;01mnot\u001b[39;00m \u001b[38;5;28;01mNone\u001b[39;00m:\n\u001b[0;32m    236\u001b[0m     \u001b[38;5;28;01mif\u001b[39;00m args:\n\u001b[1;32m--> 237\u001b[0m         args \u001b[38;5;241m=\u001b[39m \u001b[38;5;28mtuple\u001b[39m(\u001b[43m[\u001b[49m\u001b[43mbottom_up\u001b[49m\u001b[43m(\u001b[49m\u001b[43ma\u001b[49m\u001b[43m,\u001b[49m\u001b[43m \u001b[49m\u001b[43mF\u001b[49m\u001b[43m,\u001b[49m\u001b[43m \u001b[49m\u001b[43matoms\u001b[49m\u001b[43m,\u001b[49m\u001b[43m \u001b[49m\u001b[43mnonbasic\u001b[49m\u001b[43m)\u001b[49m\u001b[43m \u001b[49m\u001b[38;5;28;43;01mfor\u001b[39;49;00m\u001b[43m \u001b[49m\u001b[43ma\u001b[49m\u001b[43m \u001b[49m\u001b[38;5;129;43;01min\u001b[39;49;00m\u001b[43m \u001b[49m\u001b[43margs\u001b[49m\u001b[43m]\u001b[49m)\n\u001b[0;32m    238\u001b[0m         \u001b[38;5;28;01mif\u001b[39;00m args \u001b[38;5;241m!=\u001b[39m rv\u001b[38;5;241m.\u001b[39margs:\n\u001b[0;32m    239\u001b[0m             rv \u001b[38;5;241m=\u001b[39m rv\u001b[38;5;241m.\u001b[39mfunc(\u001b[38;5;241m*\u001b[39margs)\n",
      "File \u001b[1;32mc:\\Users\\kim9y\\AppData\\Local\\Programs\\Python\\Python311\\Lib\\site-packages\\sympy\\core\\traversal.py:237\u001b[0m, in \u001b[0;36m<listcomp>\u001b[1;34m(.0)\u001b[0m\n\u001b[0;32m    235\u001b[0m \u001b[38;5;28;01mif\u001b[39;00m args \u001b[38;5;129;01mis\u001b[39;00m \u001b[38;5;129;01mnot\u001b[39;00m \u001b[38;5;28;01mNone\u001b[39;00m:\n\u001b[0;32m    236\u001b[0m     \u001b[38;5;28;01mif\u001b[39;00m args:\n\u001b[1;32m--> 237\u001b[0m         args \u001b[38;5;241m=\u001b[39m \u001b[38;5;28mtuple\u001b[39m([\u001b[43mbottom_up\u001b[49m\u001b[43m(\u001b[49m\u001b[43ma\u001b[49m\u001b[43m,\u001b[49m\u001b[43m \u001b[49m\u001b[43mF\u001b[49m\u001b[43m,\u001b[49m\u001b[43m \u001b[49m\u001b[43matoms\u001b[49m\u001b[43m,\u001b[49m\u001b[43m \u001b[49m\u001b[43mnonbasic\u001b[49m\u001b[43m)\u001b[49m \u001b[38;5;28;01mfor\u001b[39;00m a \u001b[38;5;129;01min\u001b[39;00m args])\n\u001b[0;32m    238\u001b[0m         \u001b[38;5;28;01mif\u001b[39;00m args \u001b[38;5;241m!=\u001b[39m rv\u001b[38;5;241m.\u001b[39margs:\n\u001b[0;32m    239\u001b[0m             rv \u001b[38;5;241m=\u001b[39m rv\u001b[38;5;241m.\u001b[39mfunc(\u001b[38;5;241m*\u001b[39margs)\n",
      "File \u001b[1;32mc:\\Users\\kim9y\\AppData\\Local\\Programs\\Python\\Python311\\Lib\\site-packages\\sympy\\core\\traversal.py:237\u001b[0m, in \u001b[0;36mbottom_up\u001b[1;34m(rv, F, atoms, nonbasic)\u001b[0m\n\u001b[0;32m    235\u001b[0m \u001b[38;5;28;01mif\u001b[39;00m args \u001b[38;5;129;01mis\u001b[39;00m \u001b[38;5;129;01mnot\u001b[39;00m \u001b[38;5;28;01mNone\u001b[39;00m:\n\u001b[0;32m    236\u001b[0m     \u001b[38;5;28;01mif\u001b[39;00m args:\n\u001b[1;32m--> 237\u001b[0m         args \u001b[38;5;241m=\u001b[39m \u001b[38;5;28mtuple\u001b[39m(\u001b[43m[\u001b[49m\u001b[43mbottom_up\u001b[49m\u001b[43m(\u001b[49m\u001b[43ma\u001b[49m\u001b[43m,\u001b[49m\u001b[43m \u001b[49m\u001b[43mF\u001b[49m\u001b[43m,\u001b[49m\u001b[43m \u001b[49m\u001b[43matoms\u001b[49m\u001b[43m,\u001b[49m\u001b[43m \u001b[49m\u001b[43mnonbasic\u001b[49m\u001b[43m)\u001b[49m\u001b[43m \u001b[49m\u001b[38;5;28;43;01mfor\u001b[39;49;00m\u001b[43m \u001b[49m\u001b[43ma\u001b[49m\u001b[43m \u001b[49m\u001b[38;5;129;43;01min\u001b[39;49;00m\u001b[43m \u001b[49m\u001b[43margs\u001b[49m\u001b[43m]\u001b[49m)\n\u001b[0;32m    238\u001b[0m         \u001b[38;5;28;01mif\u001b[39;00m args \u001b[38;5;241m!=\u001b[39m rv\u001b[38;5;241m.\u001b[39margs:\n\u001b[0;32m    239\u001b[0m             rv \u001b[38;5;241m=\u001b[39m rv\u001b[38;5;241m.\u001b[39mfunc(\u001b[38;5;241m*\u001b[39margs)\n",
      "File \u001b[1;32mc:\\Users\\kim9y\\AppData\\Local\\Programs\\Python\\Python311\\Lib\\site-packages\\sympy\\core\\traversal.py:237\u001b[0m, in \u001b[0;36m<listcomp>\u001b[1;34m(.0)\u001b[0m\n\u001b[0;32m    235\u001b[0m \u001b[38;5;28;01mif\u001b[39;00m args \u001b[38;5;129;01mis\u001b[39;00m \u001b[38;5;129;01mnot\u001b[39;00m \u001b[38;5;28;01mNone\u001b[39;00m:\n\u001b[0;32m    236\u001b[0m     \u001b[38;5;28;01mif\u001b[39;00m args:\n\u001b[1;32m--> 237\u001b[0m         args \u001b[38;5;241m=\u001b[39m \u001b[38;5;28mtuple\u001b[39m([\u001b[43mbottom_up\u001b[49m\u001b[43m(\u001b[49m\u001b[43ma\u001b[49m\u001b[43m,\u001b[49m\u001b[43m \u001b[49m\u001b[43mF\u001b[49m\u001b[43m,\u001b[49m\u001b[43m \u001b[49m\u001b[43matoms\u001b[49m\u001b[43m,\u001b[49m\u001b[43m \u001b[49m\u001b[43mnonbasic\u001b[49m\u001b[43m)\u001b[49m \u001b[38;5;28;01mfor\u001b[39;00m a \u001b[38;5;129;01min\u001b[39;00m args])\n\u001b[0;32m    238\u001b[0m         \u001b[38;5;28;01mif\u001b[39;00m args \u001b[38;5;241m!=\u001b[39m rv\u001b[38;5;241m.\u001b[39margs:\n\u001b[0;32m    239\u001b[0m             rv \u001b[38;5;241m=\u001b[39m rv\u001b[38;5;241m.\u001b[39mfunc(\u001b[38;5;241m*\u001b[39margs)\n",
      "    \u001b[1;31m[... skipping similar frames: <listcomp> at line 237 (1 times), bottom_up at line 237 (1 times)]\u001b[0m\n",
      "File \u001b[1;32mc:\\Users\\kim9y\\AppData\\Local\\Programs\\Python\\Python311\\Lib\\site-packages\\sympy\\core\\traversal.py:237\u001b[0m, in \u001b[0;36mbottom_up\u001b[1;34m(rv, F, atoms, nonbasic)\u001b[0m\n\u001b[0;32m    235\u001b[0m \u001b[38;5;28;01mif\u001b[39;00m args \u001b[38;5;129;01mis\u001b[39;00m \u001b[38;5;129;01mnot\u001b[39;00m \u001b[38;5;28;01mNone\u001b[39;00m:\n\u001b[0;32m    236\u001b[0m     \u001b[38;5;28;01mif\u001b[39;00m args:\n\u001b[1;32m--> 237\u001b[0m         args \u001b[38;5;241m=\u001b[39m \u001b[38;5;28mtuple\u001b[39m(\u001b[43m[\u001b[49m\u001b[43mbottom_up\u001b[49m\u001b[43m(\u001b[49m\u001b[43ma\u001b[49m\u001b[43m,\u001b[49m\u001b[43m \u001b[49m\u001b[43mF\u001b[49m\u001b[43m,\u001b[49m\u001b[43m \u001b[49m\u001b[43matoms\u001b[49m\u001b[43m,\u001b[49m\u001b[43m \u001b[49m\u001b[43mnonbasic\u001b[49m\u001b[43m)\u001b[49m\u001b[43m \u001b[49m\u001b[38;5;28;43;01mfor\u001b[39;49;00m\u001b[43m \u001b[49m\u001b[43ma\u001b[49m\u001b[43m \u001b[49m\u001b[38;5;129;43;01min\u001b[39;49;00m\u001b[43m \u001b[49m\u001b[43margs\u001b[49m\u001b[43m]\u001b[49m)\n\u001b[0;32m    238\u001b[0m         \u001b[38;5;28;01mif\u001b[39;00m args \u001b[38;5;241m!=\u001b[39m rv\u001b[38;5;241m.\u001b[39margs:\n\u001b[0;32m    239\u001b[0m             rv \u001b[38;5;241m=\u001b[39m rv\u001b[38;5;241m.\u001b[39mfunc(\u001b[38;5;241m*\u001b[39margs)\n",
      "File \u001b[1;32mc:\\Users\\kim9y\\AppData\\Local\\Programs\\Python\\Python311\\Lib\\site-packages\\sympy\\core\\traversal.py:237\u001b[0m, in \u001b[0;36m<listcomp>\u001b[1;34m(.0)\u001b[0m\n\u001b[0;32m    235\u001b[0m \u001b[38;5;28;01mif\u001b[39;00m args \u001b[38;5;129;01mis\u001b[39;00m \u001b[38;5;129;01mnot\u001b[39;00m \u001b[38;5;28;01mNone\u001b[39;00m:\n\u001b[0;32m    236\u001b[0m     \u001b[38;5;28;01mif\u001b[39;00m args:\n\u001b[1;32m--> 237\u001b[0m         args \u001b[38;5;241m=\u001b[39m \u001b[38;5;28mtuple\u001b[39m([\u001b[43mbottom_up\u001b[49m\u001b[43m(\u001b[49m\u001b[43ma\u001b[49m\u001b[43m,\u001b[49m\u001b[43m \u001b[49m\u001b[43mF\u001b[49m\u001b[43m,\u001b[49m\u001b[43m \u001b[49m\u001b[43matoms\u001b[49m\u001b[43m,\u001b[49m\u001b[43m \u001b[49m\u001b[43mnonbasic\u001b[49m\u001b[43m)\u001b[49m \u001b[38;5;28;01mfor\u001b[39;00m a \u001b[38;5;129;01min\u001b[39;00m args])\n\u001b[0;32m    238\u001b[0m         \u001b[38;5;28;01mif\u001b[39;00m args \u001b[38;5;241m!=\u001b[39m rv\u001b[38;5;241m.\u001b[39margs:\n\u001b[0;32m    239\u001b[0m             rv \u001b[38;5;241m=\u001b[39m rv\u001b[38;5;241m.\u001b[39mfunc(\u001b[38;5;241m*\u001b[39margs)\n",
      "File \u001b[1;32mc:\\Users\\kim9y\\AppData\\Local\\Programs\\Python\\Python311\\Lib\\site-packages\\sympy\\core\\traversal.py:240\u001b[0m, in \u001b[0;36mbottom_up\u001b[1;34m(rv, F, atoms, nonbasic)\u001b[0m\n\u001b[0;32m    238\u001b[0m     \u001b[38;5;28;01mif\u001b[39;00m args \u001b[38;5;241m!=\u001b[39m rv\u001b[38;5;241m.\u001b[39margs:\n\u001b[0;32m    239\u001b[0m         rv \u001b[38;5;241m=\u001b[39m rv\u001b[38;5;241m.\u001b[39mfunc(\u001b[38;5;241m*\u001b[39margs)\n\u001b[1;32m--> 240\u001b[0m     rv \u001b[38;5;241m=\u001b[39m \u001b[43mF\u001b[49m\u001b[43m(\u001b[49m\u001b[43mrv\u001b[49m\u001b[43m)\u001b[49m\n\u001b[0;32m    241\u001b[0m \u001b[38;5;28;01melif\u001b[39;00m atoms:\n\u001b[0;32m    242\u001b[0m     rv \u001b[38;5;241m=\u001b[39m F(rv)\n",
      "File \u001b[1;32mc:\\Users\\kim9y\\AppData\\Local\\Programs\\Python\\Python311\\Lib\\site-packages\\sympy\\simplify\\trigsimp.py:1180\u001b[0m, in \u001b[0;36m_futrig\u001b[1;34m(e)\u001b[0m\n\u001b[0;32m   1141\u001b[0m trigs \u001b[38;5;241m=\u001b[39m \u001b[38;5;28;01mlambda\u001b[39;00m x: x\u001b[38;5;241m.\u001b[39mhas(TrigonometricFunction)\n\u001b[0;32m   1143\u001b[0m tree \u001b[38;5;241m=\u001b[39m [identity,\n\u001b[0;32m   1144\u001b[0m     (\n\u001b[0;32m   1145\u001b[0m     TR3,  \u001b[38;5;66;03m# canonical angles\u001b[39;00m\n\u001b[1;32m   (...)\u001b[0m\n\u001b[0;32m   1178\u001b[0m         factor_terms, TR12(x), trigs)],  \u001b[38;5;66;03m# expand tan of sum\u001b[39;00m\n\u001b[0;32m   1179\u001b[0m     )]\n\u001b[1;32m-> 1180\u001b[0m e \u001b[38;5;241m=\u001b[39m \u001b[43mgreedy\u001b[49m\u001b[43m(\u001b[49m\u001b[43mtree\u001b[49m\u001b[43m,\u001b[49m\u001b[43m \u001b[49m\u001b[43mobjective\u001b[49m\u001b[38;5;241;43m=\u001b[39;49m\u001b[43mLops\u001b[49m\u001b[43m)\u001b[49m\u001b[43m(\u001b[49m\u001b[43me\u001b[49m\u001b[43m)\u001b[49m\n\u001b[0;32m   1182\u001b[0m \u001b[38;5;28;01mif\u001b[39;00m coeff \u001b[38;5;129;01mis\u001b[39;00m \u001b[38;5;129;01mnot\u001b[39;00m \u001b[38;5;28;01mNone\u001b[39;00m:\n\u001b[0;32m   1183\u001b[0m     e \u001b[38;5;241m=\u001b[39m coeff \u001b[38;5;241m*\u001b[39m e\n",
      "File \u001b[1;32mc:\\Users\\kim9y\\AppData\\Local\\Programs\\Python\\Python311\\Lib\\site-packages\\sympy\\strategies\\core.py:111\u001b[0m, in \u001b[0;36mminimize.<locals>.minrule\u001b[1;34m(expr)\u001b[0m\n\u001b[0;32m    110\u001b[0m \u001b[38;5;28;01mdef\u001b[39;00m \u001b[38;5;21mminrule\u001b[39m(expr):\n\u001b[1;32m--> 111\u001b[0m     \u001b[38;5;28;01mreturn\u001b[39;00m \u001b[38;5;28mmin\u001b[39m(\u001b[43m[\u001b[49m\u001b[43mrule\u001b[49m\u001b[43m(\u001b[49m\u001b[43mexpr\u001b[49m\u001b[43m)\u001b[49m\u001b[43m \u001b[49m\u001b[38;5;28;43;01mfor\u001b[39;49;00m\u001b[43m \u001b[49m\u001b[43mrule\u001b[49m\u001b[43m \u001b[49m\u001b[38;5;129;43;01min\u001b[39;49;00m\u001b[43m \u001b[49m\u001b[43mrules\u001b[49m\u001b[43m]\u001b[49m, key\u001b[38;5;241m=\u001b[39mobjective)\n",
      "File \u001b[1;32mc:\\Users\\kim9y\\AppData\\Local\\Programs\\Python\\Python311\\Lib\\site-packages\\sympy\\strategies\\core.py:111\u001b[0m, in \u001b[0;36m<listcomp>\u001b[1;34m(.0)\u001b[0m\n\u001b[0;32m    110\u001b[0m \u001b[38;5;28;01mdef\u001b[39;00m \u001b[38;5;21mminrule\u001b[39m(expr):\n\u001b[1;32m--> 111\u001b[0m     \u001b[38;5;28;01mreturn\u001b[39;00m \u001b[38;5;28mmin\u001b[39m([\u001b[43mrule\u001b[49m\u001b[43m(\u001b[49m\u001b[43mexpr\u001b[49m\u001b[43m)\u001b[49m \u001b[38;5;28;01mfor\u001b[39;00m rule \u001b[38;5;129;01min\u001b[39;00m rules], key\u001b[38;5;241m=\u001b[39mobjective)\n",
      "File \u001b[1;32mc:\\Users\\kim9y\\AppData\\Local\\Programs\\Python\\Python311\\Lib\\site-packages\\sympy\\strategies\\core.py:41\u001b[0m, in \u001b[0;36mchain.<locals>.chain_rl\u001b[1;34m(expr)\u001b[0m\n\u001b[0;32m     39\u001b[0m \u001b[38;5;28;01mdef\u001b[39;00m \u001b[38;5;21mchain_rl\u001b[39m(expr):\n\u001b[0;32m     40\u001b[0m     \u001b[38;5;28;01mfor\u001b[39;00m rule \u001b[38;5;129;01min\u001b[39;00m rules:\n\u001b[1;32m---> 41\u001b[0m         expr \u001b[38;5;241m=\u001b[39m \u001b[43mrule\u001b[49m\u001b[43m(\u001b[49m\u001b[43mexpr\u001b[49m\u001b[43m)\u001b[49m\n\u001b[0;32m     42\u001b[0m     \u001b[38;5;28;01mreturn\u001b[39;00m expr\n",
      "File \u001b[1;32mc:\\Users\\kim9y\\AppData\\Local\\Programs\\Python\\Python311\\Lib\\site-packages\\sympy\\strategies\\core.py:111\u001b[0m, in \u001b[0;36mminimize.<locals>.minrule\u001b[1;34m(expr)\u001b[0m\n\u001b[0;32m    110\u001b[0m \u001b[38;5;28;01mdef\u001b[39;00m \u001b[38;5;21mminrule\u001b[39m(expr):\n\u001b[1;32m--> 111\u001b[0m     \u001b[38;5;28;01mreturn\u001b[39;00m \u001b[38;5;28mmin\u001b[39m(\u001b[43m[\u001b[49m\u001b[43mrule\u001b[49m\u001b[43m(\u001b[49m\u001b[43mexpr\u001b[49m\u001b[43m)\u001b[49m\u001b[43m \u001b[49m\u001b[38;5;28;43;01mfor\u001b[39;49;00m\u001b[43m \u001b[49m\u001b[43mrule\u001b[49m\u001b[43m \u001b[49m\u001b[38;5;129;43;01min\u001b[39;49;00m\u001b[43m \u001b[49m\u001b[43mrules\u001b[49m\u001b[43m]\u001b[49m, key\u001b[38;5;241m=\u001b[39mobjective)\n",
      "File \u001b[1;32mc:\\Users\\kim9y\\AppData\\Local\\Programs\\Python\\Python311\\Lib\\site-packages\\sympy\\strategies\\core.py:111\u001b[0m, in \u001b[0;36m<listcomp>\u001b[1;34m(.0)\u001b[0m\n\u001b[0;32m    110\u001b[0m \u001b[38;5;28;01mdef\u001b[39;00m \u001b[38;5;21mminrule\u001b[39m(expr):\n\u001b[1;32m--> 111\u001b[0m     \u001b[38;5;28;01mreturn\u001b[39;00m \u001b[38;5;28mmin\u001b[39m([\u001b[43mrule\u001b[49m\u001b[43m(\u001b[49m\u001b[43mexpr\u001b[49m\u001b[43m)\u001b[49m \u001b[38;5;28;01mfor\u001b[39;00m rule \u001b[38;5;129;01min\u001b[39;00m rules], key\u001b[38;5;241m=\u001b[39mobjective)\n",
      "File \u001b[1;32mc:\\Users\\kim9y\\AppData\\Local\\Programs\\Python\\Python311\\Lib\\site-packages\\sympy\\simplify\\fu.py:481\u001b[0m, in \u001b[0;36mTR8\u001b[1;34m(rv, first)\u001b[0m\n\u001b[0;32m    478\u001b[0m         args\u001b[38;5;241m.\u001b[39mappend(sin(s\u001b[38;5;241m.\u001b[39mpop()))\n\u001b[0;32m    479\u001b[0m     \u001b[38;5;28;01mreturn\u001b[39;00m TR8(expand_mul(Mul(\u001b[38;5;241m*\u001b[39margs)))\n\u001b[1;32m--> 481\u001b[0m \u001b[38;5;28;01mreturn\u001b[39;00m \u001b[43mbottom_up\u001b[49m\u001b[43m(\u001b[49m\u001b[43mrv\u001b[49m\u001b[43m,\u001b[49m\u001b[43m \u001b[49m\u001b[43mf\u001b[49m\u001b[43m)\u001b[49m\n",
      "File \u001b[1;32mc:\\Users\\kim9y\\AppData\\Local\\Programs\\Python\\Python311\\Lib\\site-packages\\sympy\\core\\traversal.py:237\u001b[0m, in \u001b[0;36mbottom_up\u001b[1;34m(rv, F, atoms, nonbasic)\u001b[0m\n\u001b[0;32m    235\u001b[0m \u001b[38;5;28;01mif\u001b[39;00m args \u001b[38;5;129;01mis\u001b[39;00m \u001b[38;5;129;01mnot\u001b[39;00m \u001b[38;5;28;01mNone\u001b[39;00m:\n\u001b[0;32m    236\u001b[0m     \u001b[38;5;28;01mif\u001b[39;00m args:\n\u001b[1;32m--> 237\u001b[0m         args \u001b[38;5;241m=\u001b[39m \u001b[38;5;28mtuple\u001b[39m(\u001b[43m[\u001b[49m\u001b[43mbottom_up\u001b[49m\u001b[43m(\u001b[49m\u001b[43ma\u001b[49m\u001b[43m,\u001b[49m\u001b[43m \u001b[49m\u001b[43mF\u001b[49m\u001b[43m,\u001b[49m\u001b[43m \u001b[49m\u001b[43matoms\u001b[49m\u001b[43m,\u001b[49m\u001b[43m \u001b[49m\u001b[43mnonbasic\u001b[49m\u001b[43m)\u001b[49m\u001b[43m \u001b[49m\u001b[38;5;28;43;01mfor\u001b[39;49;00m\u001b[43m \u001b[49m\u001b[43ma\u001b[49m\u001b[43m \u001b[49m\u001b[38;5;129;43;01min\u001b[39;49;00m\u001b[43m \u001b[49m\u001b[43margs\u001b[49m\u001b[43m]\u001b[49m)\n\u001b[0;32m    238\u001b[0m         \u001b[38;5;28;01mif\u001b[39;00m args \u001b[38;5;241m!=\u001b[39m rv\u001b[38;5;241m.\u001b[39margs:\n\u001b[0;32m    239\u001b[0m             rv \u001b[38;5;241m=\u001b[39m rv\u001b[38;5;241m.\u001b[39mfunc(\u001b[38;5;241m*\u001b[39margs)\n",
      "File \u001b[1;32mc:\\Users\\kim9y\\AppData\\Local\\Programs\\Python\\Python311\\Lib\\site-packages\\sympy\\core\\traversal.py:237\u001b[0m, in \u001b[0;36m<listcomp>\u001b[1;34m(.0)\u001b[0m\n\u001b[0;32m    235\u001b[0m \u001b[38;5;28;01mif\u001b[39;00m args \u001b[38;5;129;01mis\u001b[39;00m \u001b[38;5;129;01mnot\u001b[39;00m \u001b[38;5;28;01mNone\u001b[39;00m:\n\u001b[0;32m    236\u001b[0m     \u001b[38;5;28;01mif\u001b[39;00m args:\n\u001b[1;32m--> 237\u001b[0m         args \u001b[38;5;241m=\u001b[39m \u001b[38;5;28mtuple\u001b[39m([\u001b[43mbottom_up\u001b[49m\u001b[43m(\u001b[49m\u001b[43ma\u001b[49m\u001b[43m,\u001b[49m\u001b[43m \u001b[49m\u001b[43mF\u001b[49m\u001b[43m,\u001b[49m\u001b[43m \u001b[49m\u001b[43matoms\u001b[49m\u001b[43m,\u001b[49m\u001b[43m \u001b[49m\u001b[43mnonbasic\u001b[49m\u001b[43m)\u001b[49m \u001b[38;5;28;01mfor\u001b[39;00m a \u001b[38;5;129;01min\u001b[39;00m args])\n\u001b[0;32m    238\u001b[0m         \u001b[38;5;28;01mif\u001b[39;00m args \u001b[38;5;241m!=\u001b[39m rv\u001b[38;5;241m.\u001b[39margs:\n\u001b[0;32m    239\u001b[0m             rv \u001b[38;5;241m=\u001b[39m rv\u001b[38;5;241m.\u001b[39mfunc(\u001b[38;5;241m*\u001b[39margs)\n",
      "File \u001b[1;32mc:\\Users\\kim9y\\AppData\\Local\\Programs\\Python\\Python311\\Lib\\site-packages\\sympy\\core\\traversal.py:240\u001b[0m, in \u001b[0;36mbottom_up\u001b[1;34m(rv, F, atoms, nonbasic)\u001b[0m\n\u001b[0;32m    238\u001b[0m     \u001b[38;5;28;01mif\u001b[39;00m args \u001b[38;5;241m!=\u001b[39m rv\u001b[38;5;241m.\u001b[39margs:\n\u001b[0;32m    239\u001b[0m         rv \u001b[38;5;241m=\u001b[39m rv\u001b[38;5;241m.\u001b[39mfunc(\u001b[38;5;241m*\u001b[39margs)\n\u001b[1;32m--> 240\u001b[0m     rv \u001b[38;5;241m=\u001b[39m \u001b[43mF\u001b[49m\u001b[43m(\u001b[49m\u001b[43mrv\u001b[49m\u001b[43m)\u001b[49m\n\u001b[0;32m    241\u001b[0m \u001b[38;5;28;01melif\u001b[39;00m atoms:\n\u001b[0;32m    242\u001b[0m     rv \u001b[38;5;241m=\u001b[39m F(rv)\n",
      "File \u001b[1;32mc:\\Users\\kim9y\\AppData\\Local\\Programs\\Python\\Python311\\Lib\\site-packages\\sympy\\simplify\\fu.py:436\u001b[0m, in \u001b[0;36mTR8.<locals>.f\u001b[1;34m(rv)\u001b[0m\n\u001b[0;32m    434\u001b[0m \u001b[38;5;28;01mif\u001b[39;00m first:\n\u001b[0;32m    435\u001b[0m     n, d \u001b[38;5;241m=\u001b[39m [expand_mul(i) \u001b[38;5;28;01mfor\u001b[39;00m i \u001b[38;5;129;01min\u001b[39;00m rv\u001b[38;5;241m.\u001b[39mas_numer_denom()]\n\u001b[1;32m--> 436\u001b[0m     newn \u001b[38;5;241m=\u001b[39m \u001b[43mTR8\u001b[49m\u001b[43m(\u001b[49m\u001b[43mn\u001b[49m\u001b[43m,\u001b[49m\u001b[43m \u001b[49m\u001b[43mfirst\u001b[49m\u001b[38;5;241;43m=\u001b[39;49m\u001b[38;5;28;43;01mFalse\u001b[39;49;00m\u001b[43m)\u001b[49m\n\u001b[0;32m    437\u001b[0m     newd \u001b[38;5;241m=\u001b[39m TR8(d, first\u001b[38;5;241m=\u001b[39m\u001b[38;5;28;01mFalse\u001b[39;00m)\n\u001b[0;32m    438\u001b[0m     \u001b[38;5;28;01mif\u001b[39;00m newn \u001b[38;5;241m!=\u001b[39m n \u001b[38;5;129;01mor\u001b[39;00m newd \u001b[38;5;241m!=\u001b[39m d:\n",
      "File \u001b[1;32mc:\\Users\\kim9y\\AppData\\Local\\Programs\\Python\\Python311\\Lib\\site-packages\\sympy\\simplify\\fu.py:481\u001b[0m, in \u001b[0;36mTR8\u001b[1;34m(rv, first)\u001b[0m\n\u001b[0;32m    478\u001b[0m         args\u001b[38;5;241m.\u001b[39mappend(sin(s\u001b[38;5;241m.\u001b[39mpop()))\n\u001b[0;32m    479\u001b[0m     \u001b[38;5;28;01mreturn\u001b[39;00m TR8(expand_mul(Mul(\u001b[38;5;241m*\u001b[39margs)))\n\u001b[1;32m--> 481\u001b[0m \u001b[38;5;28;01mreturn\u001b[39;00m \u001b[43mbottom_up\u001b[49m\u001b[43m(\u001b[49m\u001b[43mrv\u001b[49m\u001b[43m,\u001b[49m\u001b[43m \u001b[49m\u001b[43mf\u001b[49m\u001b[43m)\u001b[49m\n",
      "File \u001b[1;32mc:\\Users\\kim9y\\AppData\\Local\\Programs\\Python\\Python311\\Lib\\site-packages\\sympy\\core\\traversal.py:237\u001b[0m, in \u001b[0;36mbottom_up\u001b[1;34m(rv, F, atoms, nonbasic)\u001b[0m\n\u001b[0;32m    235\u001b[0m \u001b[38;5;28;01mif\u001b[39;00m args \u001b[38;5;129;01mis\u001b[39;00m \u001b[38;5;129;01mnot\u001b[39;00m \u001b[38;5;28;01mNone\u001b[39;00m:\n\u001b[0;32m    236\u001b[0m     \u001b[38;5;28;01mif\u001b[39;00m args:\n\u001b[1;32m--> 237\u001b[0m         args \u001b[38;5;241m=\u001b[39m \u001b[38;5;28mtuple\u001b[39m(\u001b[43m[\u001b[49m\u001b[43mbottom_up\u001b[49m\u001b[43m(\u001b[49m\u001b[43ma\u001b[49m\u001b[43m,\u001b[49m\u001b[43m \u001b[49m\u001b[43mF\u001b[49m\u001b[43m,\u001b[49m\u001b[43m \u001b[49m\u001b[43matoms\u001b[49m\u001b[43m,\u001b[49m\u001b[43m \u001b[49m\u001b[43mnonbasic\u001b[49m\u001b[43m)\u001b[49m\u001b[43m \u001b[49m\u001b[38;5;28;43;01mfor\u001b[39;49;00m\u001b[43m \u001b[49m\u001b[43ma\u001b[49m\u001b[43m \u001b[49m\u001b[38;5;129;43;01min\u001b[39;49;00m\u001b[43m \u001b[49m\u001b[43margs\u001b[49m\u001b[43m]\u001b[49m)\n\u001b[0;32m    238\u001b[0m         \u001b[38;5;28;01mif\u001b[39;00m args \u001b[38;5;241m!=\u001b[39m rv\u001b[38;5;241m.\u001b[39margs:\n\u001b[0;32m    239\u001b[0m             rv \u001b[38;5;241m=\u001b[39m rv\u001b[38;5;241m.\u001b[39mfunc(\u001b[38;5;241m*\u001b[39margs)\n",
      "File \u001b[1;32mc:\\Users\\kim9y\\AppData\\Local\\Programs\\Python\\Python311\\Lib\\site-packages\\sympy\\core\\traversal.py:237\u001b[0m, in \u001b[0;36m<listcomp>\u001b[1;34m(.0)\u001b[0m\n\u001b[0;32m    235\u001b[0m \u001b[38;5;28;01mif\u001b[39;00m args \u001b[38;5;129;01mis\u001b[39;00m \u001b[38;5;129;01mnot\u001b[39;00m \u001b[38;5;28;01mNone\u001b[39;00m:\n\u001b[0;32m    236\u001b[0m     \u001b[38;5;28;01mif\u001b[39;00m args:\n\u001b[1;32m--> 237\u001b[0m         args \u001b[38;5;241m=\u001b[39m \u001b[38;5;28mtuple\u001b[39m([\u001b[43mbottom_up\u001b[49m\u001b[43m(\u001b[49m\u001b[43ma\u001b[49m\u001b[43m,\u001b[49m\u001b[43m \u001b[49m\u001b[43mF\u001b[49m\u001b[43m,\u001b[49m\u001b[43m \u001b[49m\u001b[43matoms\u001b[49m\u001b[43m,\u001b[49m\u001b[43m \u001b[49m\u001b[43mnonbasic\u001b[49m\u001b[43m)\u001b[49m \u001b[38;5;28;01mfor\u001b[39;00m a \u001b[38;5;129;01min\u001b[39;00m args])\n\u001b[0;32m    238\u001b[0m         \u001b[38;5;28;01mif\u001b[39;00m args \u001b[38;5;241m!=\u001b[39m rv\u001b[38;5;241m.\u001b[39margs:\n\u001b[0;32m    239\u001b[0m             rv \u001b[38;5;241m=\u001b[39m rv\u001b[38;5;241m.\u001b[39mfunc(\u001b[38;5;241m*\u001b[39margs)\n",
      "File \u001b[1;32mc:\\Users\\kim9y\\AppData\\Local\\Programs\\Python\\Python311\\Lib\\site-packages\\sympy\\core\\traversal.py:240\u001b[0m, in \u001b[0;36mbottom_up\u001b[1;34m(rv, F, atoms, nonbasic)\u001b[0m\n\u001b[0;32m    238\u001b[0m     \u001b[38;5;28;01mif\u001b[39;00m args \u001b[38;5;241m!=\u001b[39m rv\u001b[38;5;241m.\u001b[39margs:\n\u001b[0;32m    239\u001b[0m         rv \u001b[38;5;241m=\u001b[39m rv\u001b[38;5;241m.\u001b[39mfunc(\u001b[38;5;241m*\u001b[39margs)\n\u001b[1;32m--> 240\u001b[0m     rv \u001b[38;5;241m=\u001b[39m \u001b[43mF\u001b[49m\u001b[43m(\u001b[49m\u001b[43mrv\u001b[49m\u001b[43m)\u001b[49m\n\u001b[0;32m    241\u001b[0m \u001b[38;5;28;01melif\u001b[39;00m atoms:\n\u001b[0;32m    242\u001b[0m     rv \u001b[38;5;241m=\u001b[39m F(rv)\n",
      "File \u001b[1;32mc:\\Users\\kim9y\\AppData\\Local\\Programs\\Python\\Python311\\Lib\\site-packages\\sympy\\simplify\\fu.py:479\u001b[0m, in \u001b[0;36mTR8.<locals>.f\u001b[1;34m(rv)\u001b[0m\n\u001b[0;32m    477\u001b[0m \u001b[38;5;28;01mif\u001b[39;00m s:\n\u001b[0;32m    478\u001b[0m     args\u001b[38;5;241m.\u001b[39mappend(sin(s\u001b[38;5;241m.\u001b[39mpop()))\n\u001b[1;32m--> 479\u001b[0m \u001b[38;5;28;01mreturn\u001b[39;00m \u001b[43mTR8\u001b[49m\u001b[43m(\u001b[49m\u001b[43mexpand_mul\u001b[49m\u001b[43m(\u001b[49m\u001b[43mMul\u001b[49m\u001b[43m(\u001b[49m\u001b[38;5;241;43m*\u001b[39;49m\u001b[43margs\u001b[49m\u001b[43m)\u001b[49m\u001b[43m)\u001b[49m\u001b[43m)\u001b[49m\n",
      "File \u001b[1;32mc:\\Users\\kim9y\\AppData\\Local\\Programs\\Python\\Python311\\Lib\\site-packages\\sympy\\simplify\\fu.py:481\u001b[0m, in \u001b[0;36mTR8\u001b[1;34m(rv, first)\u001b[0m\n\u001b[0;32m    478\u001b[0m         args\u001b[38;5;241m.\u001b[39mappend(sin(s\u001b[38;5;241m.\u001b[39mpop()))\n\u001b[0;32m    479\u001b[0m     \u001b[38;5;28;01mreturn\u001b[39;00m TR8(expand_mul(Mul(\u001b[38;5;241m*\u001b[39margs)))\n\u001b[1;32m--> 481\u001b[0m \u001b[38;5;28;01mreturn\u001b[39;00m \u001b[43mbottom_up\u001b[49m\u001b[43m(\u001b[49m\u001b[43mrv\u001b[49m\u001b[43m,\u001b[49m\u001b[43m \u001b[49m\u001b[43mf\u001b[49m\u001b[43m)\u001b[49m\n",
      "File \u001b[1;32mc:\\Users\\kim9y\\AppData\\Local\\Programs\\Python\\Python311\\Lib\\site-packages\\sympy\\core\\traversal.py:237\u001b[0m, in \u001b[0;36mbottom_up\u001b[1;34m(rv, F, atoms, nonbasic)\u001b[0m\n\u001b[0;32m    235\u001b[0m \u001b[38;5;28;01mif\u001b[39;00m args \u001b[38;5;129;01mis\u001b[39;00m \u001b[38;5;129;01mnot\u001b[39;00m \u001b[38;5;28;01mNone\u001b[39;00m:\n\u001b[0;32m    236\u001b[0m     \u001b[38;5;28;01mif\u001b[39;00m args:\n\u001b[1;32m--> 237\u001b[0m         args \u001b[38;5;241m=\u001b[39m \u001b[38;5;28mtuple\u001b[39m(\u001b[43m[\u001b[49m\u001b[43mbottom_up\u001b[49m\u001b[43m(\u001b[49m\u001b[43ma\u001b[49m\u001b[43m,\u001b[49m\u001b[43m \u001b[49m\u001b[43mF\u001b[49m\u001b[43m,\u001b[49m\u001b[43m \u001b[49m\u001b[43matoms\u001b[49m\u001b[43m,\u001b[49m\u001b[43m \u001b[49m\u001b[43mnonbasic\u001b[49m\u001b[43m)\u001b[49m\u001b[43m \u001b[49m\u001b[38;5;28;43;01mfor\u001b[39;49;00m\u001b[43m \u001b[49m\u001b[43ma\u001b[49m\u001b[43m \u001b[49m\u001b[38;5;129;43;01min\u001b[39;49;00m\u001b[43m \u001b[49m\u001b[43margs\u001b[49m\u001b[43m]\u001b[49m)\n\u001b[0;32m    238\u001b[0m         \u001b[38;5;28;01mif\u001b[39;00m args \u001b[38;5;241m!=\u001b[39m rv\u001b[38;5;241m.\u001b[39margs:\n\u001b[0;32m    239\u001b[0m             rv \u001b[38;5;241m=\u001b[39m rv\u001b[38;5;241m.\u001b[39mfunc(\u001b[38;5;241m*\u001b[39margs)\n",
      "File \u001b[1;32mc:\\Users\\kim9y\\AppData\\Local\\Programs\\Python\\Python311\\Lib\\site-packages\\sympy\\core\\traversal.py:237\u001b[0m, in \u001b[0;36m<listcomp>\u001b[1;34m(.0)\u001b[0m\n\u001b[0;32m    235\u001b[0m \u001b[38;5;28;01mif\u001b[39;00m args \u001b[38;5;129;01mis\u001b[39;00m \u001b[38;5;129;01mnot\u001b[39;00m \u001b[38;5;28;01mNone\u001b[39;00m:\n\u001b[0;32m    236\u001b[0m     \u001b[38;5;28;01mif\u001b[39;00m args:\n\u001b[1;32m--> 237\u001b[0m         args \u001b[38;5;241m=\u001b[39m \u001b[38;5;28mtuple\u001b[39m([\u001b[43mbottom_up\u001b[49m\u001b[43m(\u001b[49m\u001b[43ma\u001b[49m\u001b[43m,\u001b[49m\u001b[43m \u001b[49m\u001b[43mF\u001b[49m\u001b[43m,\u001b[49m\u001b[43m \u001b[49m\u001b[43matoms\u001b[49m\u001b[43m,\u001b[49m\u001b[43m \u001b[49m\u001b[43mnonbasic\u001b[49m\u001b[43m)\u001b[49m \u001b[38;5;28;01mfor\u001b[39;00m a \u001b[38;5;129;01min\u001b[39;00m args])\n\u001b[0;32m    238\u001b[0m         \u001b[38;5;28;01mif\u001b[39;00m args \u001b[38;5;241m!=\u001b[39m rv\u001b[38;5;241m.\u001b[39margs:\n\u001b[0;32m    239\u001b[0m             rv \u001b[38;5;241m=\u001b[39m rv\u001b[38;5;241m.\u001b[39mfunc(\u001b[38;5;241m*\u001b[39margs)\n",
      "File \u001b[1;32mc:\\Users\\kim9y\\AppData\\Local\\Programs\\Python\\Python311\\Lib\\site-packages\\sympy\\core\\traversal.py:240\u001b[0m, in \u001b[0;36mbottom_up\u001b[1;34m(rv, F, atoms, nonbasic)\u001b[0m\n\u001b[0;32m    238\u001b[0m     \u001b[38;5;28;01mif\u001b[39;00m args \u001b[38;5;241m!=\u001b[39m rv\u001b[38;5;241m.\u001b[39margs:\n\u001b[0;32m    239\u001b[0m         rv \u001b[38;5;241m=\u001b[39m rv\u001b[38;5;241m.\u001b[39mfunc(\u001b[38;5;241m*\u001b[39margs)\n\u001b[1;32m--> 240\u001b[0m     rv \u001b[38;5;241m=\u001b[39m \u001b[43mF\u001b[49m\u001b[43m(\u001b[49m\u001b[43mrv\u001b[49m\u001b[43m)\u001b[49m\n\u001b[0;32m    241\u001b[0m \u001b[38;5;28;01melif\u001b[39;00m atoms:\n\u001b[0;32m    242\u001b[0m     rv \u001b[38;5;241m=\u001b[39m F(rv)\n",
      "File \u001b[1;32mc:\\Users\\kim9y\\AppData\\Local\\Programs\\Python\\Python311\\Lib\\site-packages\\sympy\\simplify\\fu.py:436\u001b[0m, in \u001b[0;36mTR8.<locals>.f\u001b[1;34m(rv)\u001b[0m\n\u001b[0;32m    434\u001b[0m \u001b[38;5;28;01mif\u001b[39;00m first:\n\u001b[0;32m    435\u001b[0m     n, d \u001b[38;5;241m=\u001b[39m [expand_mul(i) \u001b[38;5;28;01mfor\u001b[39;00m i \u001b[38;5;129;01min\u001b[39;00m rv\u001b[38;5;241m.\u001b[39mas_numer_denom()]\n\u001b[1;32m--> 436\u001b[0m     newn \u001b[38;5;241m=\u001b[39m \u001b[43mTR8\u001b[49m\u001b[43m(\u001b[49m\u001b[43mn\u001b[49m\u001b[43m,\u001b[49m\u001b[43m \u001b[49m\u001b[43mfirst\u001b[49m\u001b[38;5;241;43m=\u001b[39;49m\u001b[38;5;28;43;01mFalse\u001b[39;49;00m\u001b[43m)\u001b[49m\n\u001b[0;32m    437\u001b[0m     newd \u001b[38;5;241m=\u001b[39m TR8(d, first\u001b[38;5;241m=\u001b[39m\u001b[38;5;28;01mFalse\u001b[39;00m)\n\u001b[0;32m    438\u001b[0m     \u001b[38;5;28;01mif\u001b[39;00m newn \u001b[38;5;241m!=\u001b[39m n \u001b[38;5;129;01mor\u001b[39;00m newd \u001b[38;5;241m!=\u001b[39m d:\n",
      "File \u001b[1;32mc:\\Users\\kim9y\\AppData\\Local\\Programs\\Python\\Python311\\Lib\\site-packages\\sympy\\simplify\\fu.py:481\u001b[0m, in \u001b[0;36mTR8\u001b[1;34m(rv, first)\u001b[0m\n\u001b[0;32m    478\u001b[0m         args\u001b[38;5;241m.\u001b[39mappend(sin(s\u001b[38;5;241m.\u001b[39mpop()))\n\u001b[0;32m    479\u001b[0m     \u001b[38;5;28;01mreturn\u001b[39;00m TR8(expand_mul(Mul(\u001b[38;5;241m*\u001b[39margs)))\n\u001b[1;32m--> 481\u001b[0m \u001b[38;5;28;01mreturn\u001b[39;00m \u001b[43mbottom_up\u001b[49m\u001b[43m(\u001b[49m\u001b[43mrv\u001b[49m\u001b[43m,\u001b[49m\u001b[43m \u001b[49m\u001b[43mf\u001b[49m\u001b[43m)\u001b[49m\n",
      "File \u001b[1;32mc:\\Users\\kim9y\\AppData\\Local\\Programs\\Python\\Python311\\Lib\\site-packages\\sympy\\core\\traversal.py:240\u001b[0m, in \u001b[0;36mbottom_up\u001b[1;34m(rv, F, atoms, nonbasic)\u001b[0m\n\u001b[0;32m    238\u001b[0m     \u001b[38;5;28;01mif\u001b[39;00m args \u001b[38;5;241m!=\u001b[39m rv\u001b[38;5;241m.\u001b[39margs:\n\u001b[0;32m    239\u001b[0m         rv \u001b[38;5;241m=\u001b[39m rv\u001b[38;5;241m.\u001b[39mfunc(\u001b[38;5;241m*\u001b[39margs)\n\u001b[1;32m--> 240\u001b[0m     rv \u001b[38;5;241m=\u001b[39m \u001b[43mF\u001b[49m\u001b[43m(\u001b[49m\u001b[43mrv\u001b[49m\u001b[43m)\u001b[49m\n\u001b[0;32m    241\u001b[0m \u001b[38;5;28;01melif\u001b[39;00m atoms:\n\u001b[0;32m    242\u001b[0m     rv \u001b[38;5;241m=\u001b[39m F(rv)\n",
      "File \u001b[1;32mc:\\Users\\kim9y\\AppData\\Local\\Programs\\Python\\Python311\\Lib\\site-packages\\sympy\\simplify\\fu.py:479\u001b[0m, in \u001b[0;36mTR8.<locals>.f\u001b[1;34m(rv)\u001b[0m\n\u001b[0;32m    477\u001b[0m \u001b[38;5;28;01mif\u001b[39;00m s:\n\u001b[0;32m    478\u001b[0m     args\u001b[38;5;241m.\u001b[39mappend(sin(s\u001b[38;5;241m.\u001b[39mpop()))\n\u001b[1;32m--> 479\u001b[0m \u001b[38;5;28;01mreturn\u001b[39;00m TR8(\u001b[43mexpand_mul\u001b[49m\u001b[43m(\u001b[49m\u001b[43mMul\u001b[49m\u001b[43m(\u001b[49m\u001b[38;5;241;43m*\u001b[39;49m\u001b[43margs\u001b[49m\u001b[43m)\u001b[49m\u001b[43m)\u001b[49m)\n",
      "File \u001b[1;32mc:\\Users\\kim9y\\AppData\\Local\\Programs\\Python\\Python311\\Lib\\site-packages\\sympy\\core\\function.py:2859\u001b[0m, in \u001b[0;36mexpand_mul\u001b[1;34m(expr, deep)\u001b[0m\n\u001b[0;32m   2845\u001b[0m \u001b[38;5;28;01mdef\u001b[39;00m \u001b[38;5;21mexpand_mul\u001b[39m(expr, deep\u001b[38;5;241m=\u001b[39m\u001b[38;5;28;01mTrue\u001b[39;00m):\n\u001b[0;32m   2846\u001b[0m     \u001b[38;5;124;03m\"\"\"\u001b[39;00m\n\u001b[0;32m   2847\u001b[0m \u001b[38;5;124;03m    Wrapper around expand that only uses the mul hint.  See the expand\u001b[39;00m\n\u001b[0;32m   2848\u001b[0m \u001b[38;5;124;03m    docstring for more information.\u001b[39;00m\n\u001b[1;32m   (...)\u001b[0m\n\u001b[0;32m   2857\u001b[0m \n\u001b[0;32m   2858\u001b[0m \u001b[38;5;124;03m    \"\"\"\u001b[39;00m\n\u001b[1;32m-> 2859\u001b[0m     \u001b[38;5;28;01mreturn\u001b[39;00m \u001b[43msympify\u001b[49m\u001b[43m(\u001b[49m\u001b[43mexpr\u001b[49m\u001b[43m)\u001b[49m\u001b[38;5;241;43m.\u001b[39;49m\u001b[43mexpand\u001b[49m\u001b[43m(\u001b[49m\u001b[43mdeep\u001b[49m\u001b[38;5;241;43m=\u001b[39;49m\u001b[43mdeep\u001b[49m\u001b[43m,\u001b[49m\u001b[43m \u001b[49m\u001b[43mmul\u001b[49m\u001b[38;5;241;43m=\u001b[39;49m\u001b[38;5;28;43;01mTrue\u001b[39;49;00m\u001b[43m,\u001b[49m\u001b[43m \u001b[49m\u001b[43mpower_exp\u001b[49m\u001b[38;5;241;43m=\u001b[39;49m\u001b[38;5;28;43;01mFalse\u001b[39;49;00m\u001b[43m,\u001b[49m\n\u001b[0;32m   2860\u001b[0m \u001b[43m    \u001b[49m\u001b[43mpower_base\u001b[49m\u001b[38;5;241;43m=\u001b[39;49m\u001b[38;5;28;43;01mFalse\u001b[39;49;00m\u001b[43m,\u001b[49m\u001b[43m \u001b[49m\u001b[43mbasic\u001b[49m\u001b[38;5;241;43m=\u001b[39;49m\u001b[38;5;28;43;01mFalse\u001b[39;49;00m\u001b[43m,\u001b[49m\u001b[43m \u001b[49m\u001b[43mmultinomial\u001b[49m\u001b[38;5;241;43m=\u001b[39;49m\u001b[38;5;28;43;01mFalse\u001b[39;49;00m\u001b[43m,\u001b[49m\u001b[43m \u001b[49m\u001b[43mlog\u001b[49m\u001b[38;5;241;43m=\u001b[39;49m\u001b[38;5;28;43;01mFalse\u001b[39;49;00m\u001b[43m)\u001b[49m\n",
      "File \u001b[1;32mc:\\Users\\kim9y\\AppData\\Local\\Programs\\Python\\Python311\\Lib\\site-packages\\sympy\\core\\cache.py:70\u001b[0m, in \u001b[0;36m__cacheit.<locals>.func_wrapper.<locals>.wrapper\u001b[1;34m(*args, **kwargs)\u001b[0m\n\u001b[0;32m     67\u001b[0m \u001b[38;5;129m@wraps\u001b[39m(func)\n\u001b[0;32m     68\u001b[0m \u001b[38;5;28;01mdef\u001b[39;00m \u001b[38;5;21mwrapper\u001b[39m(\u001b[38;5;241m*\u001b[39margs, \u001b[38;5;241m*\u001b[39m\u001b[38;5;241m*\u001b[39mkwargs):\n\u001b[0;32m     69\u001b[0m     \u001b[38;5;28;01mtry\u001b[39;00m:\n\u001b[1;32m---> 70\u001b[0m         retval \u001b[38;5;241m=\u001b[39m \u001b[43mcfunc\u001b[49m\u001b[43m(\u001b[49m\u001b[38;5;241;43m*\u001b[39;49m\u001b[43margs\u001b[49m\u001b[43m,\u001b[49m\u001b[43m \u001b[49m\u001b[38;5;241;43m*\u001b[39;49m\u001b[38;5;241;43m*\u001b[39;49m\u001b[43mkwargs\u001b[49m\u001b[43m)\u001b[49m\n\u001b[0;32m     71\u001b[0m     \u001b[38;5;28;01mexcept\u001b[39;00m \u001b[38;5;167;01mTypeError\u001b[39;00m \u001b[38;5;28;01mas\u001b[39;00m e:\n\u001b[0;32m     72\u001b[0m         \u001b[38;5;28;01mif\u001b[39;00m \u001b[38;5;129;01mnot\u001b[39;00m e\u001b[38;5;241m.\u001b[39margs \u001b[38;5;129;01mor\u001b[39;00m \u001b[38;5;129;01mnot\u001b[39;00m e\u001b[38;5;241m.\u001b[39margs[\u001b[38;5;241m0\u001b[39m]\u001b[38;5;241m.\u001b[39mstartswith(\u001b[38;5;124m'\u001b[39m\u001b[38;5;124munhashable type:\u001b[39m\u001b[38;5;124m'\u001b[39m):\n",
      "File \u001b[1;32mc:\\Users\\kim9y\\AppData\\Local\\Programs\\Python\\Python311\\Lib\\site-packages\\sympy\\core\\expr.py:3651\u001b[0m, in \u001b[0;36mExpr.expand\u001b[1;34m(self, deep, modulus, power_base, power_exp, mul, log, multinomial, basic, **hints)\u001b[0m\n\u001b[0;32m   3649\u001b[0m     \u001b[38;5;28;01mif\u001b[39;00m use_hint:\n\u001b[0;32m   3650\u001b[0m         hint \u001b[38;5;241m=\u001b[39m \u001b[38;5;124m'\u001b[39m\u001b[38;5;124m_eval_expand_\u001b[39m\u001b[38;5;124m'\u001b[39m \u001b[38;5;241m+\u001b[39m hint\n\u001b[1;32m-> 3651\u001b[0m         expr, hit \u001b[38;5;241m=\u001b[39m \u001b[43mExpr\u001b[49m\u001b[38;5;241;43m.\u001b[39;49m\u001b[43m_expand_hint\u001b[49m\u001b[43m(\u001b[49m\u001b[43mexpr\u001b[49m\u001b[43m,\u001b[49m\u001b[43m \u001b[49m\u001b[43mhint\u001b[49m\u001b[43m,\u001b[49m\u001b[43m \u001b[49m\u001b[43mdeep\u001b[49m\u001b[38;5;241;43m=\u001b[39;49m\u001b[43mdeep\u001b[49m\u001b[43m,\u001b[49m\u001b[43m \u001b[49m\u001b[38;5;241;43m*\u001b[39;49m\u001b[38;5;241;43m*\u001b[39;49m\u001b[43mhints\u001b[49m\u001b[43m)\u001b[49m\n\u001b[0;32m   3653\u001b[0m \u001b[38;5;28;01mwhile\u001b[39;00m \u001b[38;5;28;01mTrue\u001b[39;00m:\n\u001b[0;32m   3654\u001b[0m     was \u001b[38;5;241m=\u001b[39m expr\n",
      "File \u001b[1;32mc:\\Users\\kim9y\\AppData\\Local\\Programs\\Python\\Python311\\Lib\\site-packages\\sympy\\core\\expr.py:3592\u001b[0m, in \u001b[0;36mExpr._expand_hint\u001b[1;34m(expr, hint, deep, **hints)\u001b[0m\n\u001b[0;32m   3589\u001b[0m         expr \u001b[38;5;241m=\u001b[39m expr\u001b[38;5;241m.\u001b[39mfunc(\u001b[38;5;241m*\u001b[39msargs)\n\u001b[0;32m   3591\u001b[0m \u001b[38;5;28;01mif\u001b[39;00m \u001b[38;5;28mhasattr\u001b[39m(expr, hint):\n\u001b[1;32m-> 3592\u001b[0m     newexpr \u001b[38;5;241m=\u001b[39m \u001b[38;5;28;43mgetattr\u001b[39;49m\u001b[43m(\u001b[49m\u001b[43mexpr\u001b[49m\u001b[43m,\u001b[49m\u001b[43m \u001b[49m\u001b[43mhint\u001b[49m\u001b[43m)\u001b[49m\u001b[43m(\u001b[49m\u001b[38;5;241;43m*\u001b[39;49m\u001b[38;5;241;43m*\u001b[39;49m\u001b[43mhints\u001b[49m\u001b[43m)\u001b[49m\n\u001b[0;32m   3593\u001b[0m     \u001b[38;5;28;01mif\u001b[39;00m newexpr \u001b[38;5;241m!=\u001b[39m expr:\n\u001b[0;32m   3594\u001b[0m         \u001b[38;5;28;01mreturn\u001b[39;00m (newexpr, \u001b[38;5;28;01mTrue\u001b[39;00m)\n",
      "File \u001b[1;32mc:\\Users\\kim9y\\AppData\\Local\\Programs\\Python\\Python311\\Lib\\site-packages\\sympy\\core\\mul.py:922\u001b[0m, in \u001b[0;36mMul._eval_expand_mul\u001b[1;34m(self, **hints)\u001b[0m\n\u001b[0;32m    919\u001b[0m \u001b[38;5;66;03m# Handle things like 1/(x*(x + 1)), which are automatically converted\u001b[39;00m\n\u001b[0;32m    920\u001b[0m \u001b[38;5;66;03m# to 1/x*1/(x + 1)\u001b[39;00m\n\u001b[0;32m    921\u001b[0m expr \u001b[38;5;241m=\u001b[39m \u001b[38;5;28mself\u001b[39m\n\u001b[1;32m--> 922\u001b[0m n, d \u001b[38;5;241m=\u001b[39m \u001b[43mfraction\u001b[49m\u001b[43m(\u001b[49m\u001b[43mexpr\u001b[49m\u001b[43m)\u001b[49m\n\u001b[0;32m    923\u001b[0m \u001b[38;5;28;01mif\u001b[39;00m d\u001b[38;5;241m.\u001b[39mis_Mul:\n\u001b[0;32m    924\u001b[0m     n, d \u001b[38;5;241m=\u001b[39m [i\u001b[38;5;241m.\u001b[39m_eval_expand_mul(\u001b[38;5;241m*\u001b[39m\u001b[38;5;241m*\u001b[39mhints) \u001b[38;5;28;01mif\u001b[39;00m i\u001b[38;5;241m.\u001b[39mis_Mul \u001b[38;5;28;01melse\u001b[39;00m i\n\u001b[0;32m    925\u001b[0m         \u001b[38;5;28;01mfor\u001b[39;00m i \u001b[38;5;129;01min\u001b[39;00m (n, d)]\n",
      "File \u001b[1;32mc:\\Users\\kim9y\\AppData\\Local\\Programs\\Python\\Python311\\Lib\\site-packages\\sympy\\simplify\\radsimp.py:1141\u001b[0m, in \u001b[0;36mfraction\u001b[1;34m(expr, exact)\u001b[0m\n\u001b[0;32m   1139\u001b[0m     \u001b[38;5;28;01melse\u001b[39;00m:\n\u001b[0;32m   1140\u001b[0m         numer\u001b[38;5;241m.\u001b[39mappend(term)\n\u001b[1;32m-> 1141\u001b[0m \u001b[38;5;28;01mreturn\u001b[39;00m \u001b[43mMul\u001b[49m\u001b[43m(\u001b[49m\u001b[38;5;241;43m*\u001b[39;49m\u001b[43mnumer\u001b[49m\u001b[43m,\u001b[49m\u001b[43m \u001b[49m\u001b[43mevaluate\u001b[49m\u001b[38;5;241;43m=\u001b[39;49m\u001b[38;5;129;43;01mnot\u001b[39;49;00m\u001b[43m \u001b[49m\u001b[43mexact\u001b[49m\u001b[43m)\u001b[49m, Mul(\u001b[38;5;241m*\u001b[39mdenom, evaluate\u001b[38;5;241m=\u001b[39m\u001b[38;5;129;01mnot\u001b[39;00m exact)\n",
      "File \u001b[1;32mc:\\Users\\kim9y\\AppData\\Local\\Programs\\Python\\Python311\\Lib\\site-packages\\sympy\\core\\cache.py:70\u001b[0m, in \u001b[0;36m__cacheit.<locals>.func_wrapper.<locals>.wrapper\u001b[1;34m(*args, **kwargs)\u001b[0m\n\u001b[0;32m     67\u001b[0m \u001b[38;5;129m@wraps\u001b[39m(func)\n\u001b[0;32m     68\u001b[0m \u001b[38;5;28;01mdef\u001b[39;00m \u001b[38;5;21mwrapper\u001b[39m(\u001b[38;5;241m*\u001b[39margs, \u001b[38;5;241m*\u001b[39m\u001b[38;5;241m*\u001b[39mkwargs):\n\u001b[0;32m     69\u001b[0m     \u001b[38;5;28;01mtry\u001b[39;00m:\n\u001b[1;32m---> 70\u001b[0m         retval \u001b[38;5;241m=\u001b[39m \u001b[43mcfunc\u001b[49m\u001b[43m(\u001b[49m\u001b[38;5;241;43m*\u001b[39;49m\u001b[43margs\u001b[49m\u001b[43m,\u001b[49m\u001b[43m \u001b[49m\u001b[38;5;241;43m*\u001b[39;49m\u001b[38;5;241;43m*\u001b[39;49m\u001b[43mkwargs\u001b[49m\u001b[43m)\u001b[49m\n\u001b[0;32m     71\u001b[0m     \u001b[38;5;28;01mexcept\u001b[39;00m \u001b[38;5;167;01mTypeError\u001b[39;00m \u001b[38;5;28;01mas\u001b[39;00m e:\n\u001b[0;32m     72\u001b[0m         \u001b[38;5;28;01mif\u001b[39;00m \u001b[38;5;129;01mnot\u001b[39;00m e\u001b[38;5;241m.\u001b[39margs \u001b[38;5;129;01mor\u001b[39;00m \u001b[38;5;129;01mnot\u001b[39;00m e\u001b[38;5;241m.\u001b[39margs[\u001b[38;5;241m0\u001b[39m]\u001b[38;5;241m.\u001b[39mstartswith(\u001b[38;5;124m'\u001b[39m\u001b[38;5;124munhashable type:\u001b[39m\u001b[38;5;124m'\u001b[39m):\n",
      "File \u001b[1;32mc:\\Users\\kim9y\\AppData\\Local\\Programs\\Python\\Python311\\Lib\\site-packages\\sympy\\core\\operations.py:98\u001b[0m, in \u001b[0;36mAssocOp.__new__\u001b[1;34m(cls, evaluate, _sympify, *args)\u001b[0m\n\u001b[0;32m     95\u001b[0m \u001b[38;5;28;01mif\u001b[39;00m \u001b[38;5;28mlen\u001b[39m(args) \u001b[38;5;241m==\u001b[39m \u001b[38;5;241m1\u001b[39m:\n\u001b[0;32m     96\u001b[0m     \u001b[38;5;28;01mreturn\u001b[39;00m args[\u001b[38;5;241m0\u001b[39m]\n\u001b[1;32m---> 98\u001b[0m c_part, nc_part, order_symbols \u001b[38;5;241m=\u001b[39m \u001b[38;5;28;43mcls\u001b[39;49m\u001b[38;5;241;43m.\u001b[39;49m\u001b[43mflatten\u001b[49m\u001b[43m(\u001b[49m\u001b[43margs\u001b[49m\u001b[43m)\u001b[49m\n\u001b[0;32m     99\u001b[0m is_commutative \u001b[38;5;241m=\u001b[39m \u001b[38;5;129;01mnot\u001b[39;00m nc_part\n\u001b[0;32m    100\u001b[0m obj \u001b[38;5;241m=\u001b[39m \u001b[38;5;28mcls\u001b[39m\u001b[38;5;241m.\u001b[39m_from_args(c_part \u001b[38;5;241m+\u001b[39m nc_part, is_commutative)\n",
      "File \u001b[1;32mc:\\Users\\kim9y\\AppData\\Local\\Programs\\Python\\Python311\\Lib\\site-packages\\sympy\\core\\mul.py:707\u001b[0m, in \u001b[0;36mMul.flatten\u001b[1;34m(cls, seq)\u001b[0m\n\u001b[0;32m    705\u001b[0m \u001b[38;5;66;03m# current code expects coeff to be always in slot-0\u001b[39;00m\n\u001b[0;32m    706\u001b[0m \u001b[38;5;28;01mif\u001b[39;00m coeff \u001b[38;5;129;01mis\u001b[39;00m \u001b[38;5;129;01mnot\u001b[39;00m S\u001b[38;5;241m.\u001b[39mOne:\n\u001b[1;32m--> 707\u001b[0m     c_part\u001b[38;5;241m.\u001b[39minsert(\u001b[38;5;241m0\u001b[39m, coeff)\n\u001b[0;32m    709\u001b[0m \u001b[38;5;66;03m# we are done\u001b[39;00m\n\u001b[0;32m    710\u001b[0m \u001b[38;5;28;01mif\u001b[39;00m (global_parameters\u001b[38;5;241m.\u001b[39mdistribute \u001b[38;5;129;01mand\u001b[39;00m \u001b[38;5;129;01mnot\u001b[39;00m nc_part \u001b[38;5;129;01mand\u001b[39;00m \u001b[38;5;28mlen\u001b[39m(c_part) \u001b[38;5;241m==\u001b[39m \u001b[38;5;241m2\u001b[39m \u001b[38;5;129;01mand\u001b[39;00m\n\u001b[0;32m    711\u001b[0m         c_part[\u001b[38;5;241m0\u001b[39m]\u001b[38;5;241m.\u001b[39mis_Number \u001b[38;5;129;01mand\u001b[39;00m c_part[\u001b[38;5;241m0\u001b[39m]\u001b[38;5;241m.\u001b[39mis_finite \u001b[38;5;129;01mand\u001b[39;00m c_part[\u001b[38;5;241m1\u001b[39m]\u001b[38;5;241m.\u001b[39mis_Add):\n\u001b[0;32m    712\u001b[0m     \u001b[38;5;66;03m# 2*(1+a) -> 2 + 2 * a\u001b[39;00m\n",
      "\u001b[1;31mKeyboardInterrupt\u001b[0m: "
     ]
    }
   ],
   "source": [
    "SOL_r.subs(sin()).subs(psi,SOL_psi).series(beta,0,5)"
   ]
  },
  {
   "cell_type": "code",
   "execution_count": 381,
   "metadata": {},
   "outputs": [
    {
     "data": {
      "text/latex": [
       "$\\displaystyle \\frac{5906010121200000 + 11812020242400000 \\beta^{2} + O\\left(\\beta^{3}\\right)}{259200 \\cdot \\left(8 \\beta^{24} - 432 \\beta^{22} + 12312 \\beta^{20} - 232632 \\beta^{18} + 3177468 \\beta^{16} - 32577552 \\beta^{14} + 253639512 \\beta^{12} - 1491708960 \\beta^{10} + 6471573570 \\beta^{8} - 19771573500 \\beta^{6} + 39494923650 \\beta^{4} - 45571065750 \\beta^{2} + 22785532875\\right)}$"
      ],
      "text/plain": [
       "(5906010121200000 + 11812020242400000*beta**2 + O(beta**3))/(259200*(8*beta**24 - 432*beta**22 + 12312*beta**20 - 232632*beta**18 + 3177468*beta**16 - 32577552*beta**14 + 253639512*beta**12 - 1491708960*beta**10 + 6471573570*beta**8 - 19771573500*beta**6 + 39494923650*beta**4 - 45571065750*beta**2 + 22785532875))"
      ]
     },
     "execution_count": 381,
     "metadata": {},
     "output_type": "execute_result"
    }
   ],
   "source": [
    "SOL_rpsi_sub.simplify()"
   ]
  },
  {
   "cell_type": "code",
   "execution_count": 378,
   "metadata": {},
   "outputs": [
    {
     "data": {
      "text/latex": [
       "$\\displaystyle \\sqrt{\\frac{- \\frac{3271 \\beta^{6}}{180} - 12 \\beta^{5} + \\frac{11 \\beta^{4}}{3} + 2 \\beta^{3} - 2 \\beta^{2} + \\frac{\\left(- \\frac{3271 \\beta^{6}}{180} - 12 \\beta^{5} + \\frac{11 \\beta^{4}}{3} + 2 \\beta^{3} - 2 \\beta^{2}\\right)^{9}}{362880} - \\frac{\\left(- \\frac{3271 \\beta^{6}}{180} - 12 \\beta^{5} + \\frac{11 \\beta^{4}}{3} + 2 \\beta^{3} - 2 \\beta^{2}\\right)^{7}}{5040} + \\frac{\\left(- \\frac{3271 \\beta^{6}}{180} - 12 \\beta^{5} + \\frac{11 \\beta^{4}}{3} + 2 \\beta^{3} - 2 \\beta^{2}\\right)^{5}}{120} - \\frac{\\left(- \\frac{3271 \\beta^{6}}{180} - 12 \\beta^{5} + \\frac{11 \\beta^{4}}{3} + 2 \\beta^{3} - 2 \\beta^{2}\\right)^{3}}{6}}{- \\frac{3271 \\beta^{6}}{180} - 12 \\beta^{5} + \\frac{11 \\beta^{4}}{3} + 2 \\beta^{3} - 2 \\beta^{2} + \\frac{\\left(- \\frac{3271 \\beta^{6}}{180} - 12 \\beta^{5} + \\frac{11 \\beta^{4}}{3} + 2 \\beta^{3} - 2 \\beta^{2} - 2 \\beta\\right)^{9}}{181440} - \\frac{\\left(- \\frac{3271 \\beta^{6}}{180} - 12 \\beta^{5} + \\frac{11 \\beta^{4}}{3} + 2 \\beta^{3} - 2 \\beta^{2} - 2 \\beta\\right)^{7}}{2520} + \\frac{\\left(- \\frac{3271 \\beta^{6}}{180} - 12 \\beta^{5} + \\frac{11 \\beta^{4}}{3} + 2 \\beta^{3} - 2 \\beta^{2} - 2 \\beta\\right)^{5}}{60} - \\frac{\\left(- \\frac{3271 \\beta^{6}}{180} - 12 \\beta^{5} + \\frac{11 \\beta^{4}}{3} + 2 \\beta^{3} - 2 \\beta^{2} - 2 \\beta\\right)^{3}}{3} + \\frac{\\left(\\frac{3271 \\beta^{6}}{180} + 12 \\beta^{5} - \\frac{11 \\beta^{4}}{3} - 2 \\beta^{3} + 2 \\beta^{2} + 4 \\beta\\right)^{9}}{362880} - \\frac{\\left(\\frac{3271 \\beta^{6}}{180} + 12 \\beta^{5} - \\frac{11 \\beta^{4}}{3} - 2 \\beta^{3} + 2 \\beta^{2} + 4 \\beta\\right)^{7}}{5040} + \\frac{\\left(\\frac{3271 \\beta^{6}}{180} + 12 \\beta^{5} - \\frac{11 \\beta^{4}}{3} - 2 \\beta^{3} + 2 \\beta^{2} + 4 \\beta\\right)^{5}}{120} - \\frac{\\left(\\frac{3271 \\beta^{6}}{180} + 12 \\beta^{5} - \\frac{11 \\beta^{4}}{3} - 2 \\beta^{3} + 2 \\beta^{2} + 4 \\beta\\right)^{3}}{6}}}$"
      ],
      "text/plain": [
       "sqrt((-3271*beta**6/180 - 12*beta**5 + 11*beta**4/3 + 2*beta**3 - 2*beta**2 + (-3271*beta**6/180 - 12*beta**5 + 11*beta**4/3 + 2*beta**3 - 2*beta**2)**9/362880 - (-3271*beta**6/180 - 12*beta**5 + 11*beta**4/3 + 2*beta**3 - 2*beta**2)**7/5040 + (-3271*beta**6/180 - 12*beta**5 + 11*beta**4/3 + 2*beta**3 - 2*beta**2)**5/120 - (-3271*beta**6/180 - 12*beta**5 + 11*beta**4/3 + 2*beta**3 - 2*beta**2)**3/6)/(-3271*beta**6/180 - 12*beta**5 + 11*beta**4/3 + 2*beta**3 - 2*beta**2 + (-3271*beta**6/180 - 12*beta**5 + 11*beta**4/3 + 2*beta**3 - 2*beta**2 - 2*beta)**9/181440 - (-3271*beta**6/180 - 12*beta**5 + 11*beta**4/3 + 2*beta**3 - 2*beta**2 - 2*beta)**7/2520 + (-3271*beta**6/180 - 12*beta**5 + 11*beta**4/3 + 2*beta**3 - 2*beta**2 - 2*beta)**5/60 - (-3271*beta**6/180 - 12*beta**5 + 11*beta**4/3 + 2*beta**3 - 2*beta**2 - 2*beta)**3/3 + (3271*beta**6/180 + 12*beta**5 - 11*beta**4/3 - 2*beta**3 + 2*beta**2 + 4*beta)**9/362880 - (3271*beta**6/180 + 12*beta**5 - 11*beta**4/3 - 2*beta**3 + 2*beta**2 + 4*beta)**7/5040 + (3271*beta**6/180 + 12*beta**5 - 11*beta**4/3 - 2*beta**3 + 2*beta**2 + 4*beta)**5/120 - (3271*beta**6/180 + 12*beta**5 - 11*beta**4/3 - 2*beta**3 + 2*beta**2 + 4*beta)**3/6))"
      ]
     },
     "execution_count": 378,
     "metadata": {},
     "output_type": "execute_result"
    }
   ],
   "source": [
    "SOL_rpsi_sub"
   ]
  },
  {
   "cell_type": "code",
   "execution_count": 332,
   "metadata": {},
   "outputs": [
    {
     "data": {
      "text/latex": [
       "$\\displaystyle \\operatorname{Poly}{\\left( \\left(\\frac{d^{18}}{257191200} - \\frac{d^{17}}{7144200} + \\frac{17 d^{16}}{7144200} - \\frac{68 d^{15}}{2679075} + \\frac{34 d^{14}}{178605} - \\frac{136 d^{13}}{127575} + \\frac{1768 d^{12}}{382725} - \\frac{14144 d^{11}}{893025} + \\frac{38896 d^{10}}{893025} - \\frac{155584 d^{9}}{1607445} + \\frac{155584 d^{8}}{893025} - \\frac{226304 d^{7}}{893025} + \\frac{113152 d^{6}}{382725} - \\frac{34816 d^{5}}{127575} + \\frac{34816 d^{4}}{178605} - \\frac{278528 d^{3}}{2679075} + \\frac{34816 d^{2}}{893025} - \\frac{8192 d}{893025} + \\frac{8192}{8037225}\\right) \\beta^{36} + \\left(- \\frac{d^{17}}{57153600} + \\frac{17 d^{16}}{28576800} - \\frac{17 d^{15}}{1786050} + \\frac{17 d^{14}}{178605} - \\frac{17 d^{13}}{25515} + \\frac{442 d^{12}}{127575} - \\frac{1768 d^{11}}{127575} + \\frac{38896 d^{10}}{893025} - \\frac{19448 d^{9}}{178605} + \\frac{38896 d^{8}}{178605} - \\frac{311168 d^{7}}{893025} + \\frac{56576 d^{6}}{127575} - \\frac{56576 d^{5}}{127575} + \\frac{8704 d^{4}}{25515} - \\frac{34816 d^{3}}{178605} + \\frac{69632 d^{2}}{893025} - \\frac{17408 d}{893025} + \\frac{2048}{893025}\\right) \\beta^{35} + \\left(- \\frac{d^{16}}{4082400} + \\frac{d^{15}}{127575} - \\frac{d^{14}}{8505} + \\frac{4 d^{13}}{3645} - \\frac{26 d^{12}}{3645} + \\frac{208 d^{11}}{6075} - \\frac{2288 d^{10}}{18225} + \\frac{9152 d^{9}}{25515} - \\frac{2288 d^{8}}{2835} + \\frac{36608 d^{7}}{25515} - \\frac{36608 d^{6}}{18225} + \\frac{13312 d^{5}}{6075} - \\frac{6656 d^{4}}{3645} + \\frac{4096 d^{3}}{3645} - \\frac{4096 d^{2}}{8505} + \\frac{16384 d}{127575} - \\frac{2048}{127575}\\right) \\beta^{34} + \\left(\\frac{71 d^{15}}{24494400} - \\frac{71 d^{14}}{816480} + \\frac{71 d^{13}}{58320} - \\frac{923 d^{12}}{87480} + \\frac{923 d^{11}}{14580} - \\frac{10153 d^{10}}{36450} + \\frac{10153 d^{9}}{10935} - \\frac{20306 d^{8}}{8505} + \\frac{40612 d^{7}}{8505} - \\frac{81224 d^{6}}{10935} + \\frac{162448 d^{5}}{18225} - \\frac{29536 d^{4}}{3645} + \\frac{59072 d^{3}}{10935} - \\frac{9088 d^{2}}{3645} + \\frac{18176 d}{25515} - \\frac{36352}{382725}\\right) \\beta^{33} + \\left(- \\frac{d^{16}}{2857680} + \\frac{2 d^{15}}{178605} - \\frac{41641 d^{14}}{228614400} + \\frac{5347 d^{13}}{2721600} - \\frac{125333 d^{12}}{8164800} + \\frac{92053 d^{11}}{1020600} - \\frac{829543 d^{10}}{2041200} + \\frac{563849 d^{9}}{396900} - \\frac{4617041 d^{8}}{1190700} + \\frac{7391956 d^{7}}{893025} - \\frac{1756469 d^{6}}{127575} + \\frac{2253212 d^{5}}{127575} - \\frac{728884 d^{4}}{42525} + \\frac{1553056 d^{3}}{127575} - \\frac{5333296 d^{2}}{893025} + \\frac{1615808 d}{893025} - \\frac{75968}{297675}\\right) \\beta^{32} + \\left(\\frac{43 d^{15}}{28576800} - \\frac{43 d^{14}}{952560} + \\frac{43919 d^{13}}{65318400} - \\frac{213187 d^{12}}{32659200} + \\frac{41249 d^{11}}{907200} - \\frac{967681 d^{10}}{4082400} + \\frac{85657 d^{9}}{90720} - \\frac{4609319 d^{8}}{1587600} + \\frac{4117399 d^{7}}{595350} - \\frac{1624051 d^{6}}{127575} + \\frac{1525667 d^{5}}{85050} - \\frac{96941 d^{4}}{5103} + \\frac{1867268 d^{3}}{127575} - \\frac{109832 d^{2}}{14175} + \\frac{2251432 d}{893025} - \\frac{4528}{11907}\\right) \\beta^{31} + \\left(\\frac{11 d^{14}}{544320} - \\frac{11 d^{13}}{19440} + \\frac{1427273 d^{12}}{195955200} - \\frac{466313 d^{11}}{8164800} + \\frac{2486803 d^{10}}{8164800} - \\frac{1429747 d^{9}}{1224720} + \\frac{901219 d^{8}}{272160} - \\frac{599203 d^{7}}{85050} + \\frac{410443 d^{6}}{36450} - \\frac{569206 d^{5}}{42525} + \\frac{4367 d^{4}}{378} - \\frac{529804 d^{3}}{76545} + \\frac{337612 d^{2}}{127575} - \\frac{69008 d}{127575} + \\frac{1912}{54675}\\right) \\beta^{30} + \\left(- \\frac{3763 d^{13}}{16329600} + \\frac{48919 d^{12}}{8164800} - \\frac{13134677 d^{11}}{182891520} + \\frac{240261571 d^{10}}{457228800} - \\frac{886853 d^{9}}{338688} + \\frac{357552943 d^{8}}{38102400} - \\frac{79005509 d^{7}}{3175200} + \\frac{6725543 d^{6}}{136080} - \\frac{25017971 d^{5}}{340200} + \\frac{11566885 d^{4}}{142884} - \\frac{228903917 d^{3}}{3572100} + \\frac{61690831 d^{2}}{1786050} - \\frac{2029319 d}{178605} + \\frac{512774}{297675}\\right) \\beta^{29} + \\left(\\frac{167 d^{14}}{9525600} - \\frac{167 d^{13}}{340200} + \\frac{244067 d^{12}}{32659200} - \\frac{35041 d^{11}}{453600} + \\frac{594575447 d^{10}}{1045094400} - \\frac{37864103 d^{9}}{12441600} + \\frac{116176657 d^{8}}{9676800} - \\frac{1345690981 d^{7}}{38102400} + \\frac{847589861 d^{6}}{10886400} - \\frac{348955427 d^{5}}{2721600} + \\frac{47055037 d^{4}}{302400} - \\frac{138021209 d^{3}}{1020600} + \\frac{5165557 d^{2}}{64800} - \\frac{29162419 d}{1020600} + \\frac{1245107}{264600}\\right) \\beta^{28} + \\left(- \\frac{197 d^{13}}{2721600} + \\frac{2561 d^{12}}{1360800} - \\frac{557687 d^{11}}{21772800} + \\frac{2528669 d^{10}}{10886400} - \\frac{45561073 d^{9}}{30481920} + \\frac{177318503 d^{8}}{25401600} - \\frac{2816123 d^{7}}{117600} + \\frac{4587941 d^{6}}{75600} - \\frac{3674641 d^{5}}{32400} + \\frac{10507657 d^{4}}{68040} - \\frac{6341087 d^{3}}{42525} + \\frac{28822424 d^{2}}{297675} - \\frac{22595021 d}{595350} + \\frac{2021597}{297675}\\right) \\beta^{27} + \\left(- \\frac{73 d^{12}}{77760} + \\frac{73 d^{11}}{3240} - \\frac{4526111 d^{10}}{18662400} + \\frac{1442591 d^{9}}{933120} - \\frac{671711 d^{8}}{103680} + \\frac{363359 d^{7}}{19440} - \\frac{1464281 d^{6}}{38880} + \\frac{847577 d^{5}}{16200} - \\frac{462137 d^{4}}{9720} + \\frac{29311 d^{3}}{1215} - \\frac{241 d^{2}}{108} - \\frac{15073 d}{3645} + \\frac{29089}{18225}\\right) \\beta^{26} + \\left(\\frac{56587 d^{11}}{5443200} - \\frac{622457 d^{10}}{2721600} + \\frac{173842381 d^{9}}{76204800} - \\frac{172951223 d^{8}}{12700800} + \\frac{24712485983 d^{7}}{457228800} - \\frac{978233299 d^{6}}{6531840} + \\frac{1609001039 d^{5}}{5443200} - \\frac{3392862187 d^{4}}{8164800} + \\frac{1664349403 d^{3}}{4082400} - \\frac{421992307 d^{2}}{1587600} + \\frac{740337137 d}{7144200} - \\frac{65359031}{3572100}\\right) \\beta^{25} + \\left(- \\frac{137 d^{12}}{272160} + \\frac{137 d^{11}}{11340} - \\frac{3940283 d^{10}}{21772800} + \\frac{670441 d^{9}}{362880} - \\frac{183436031 d^{8}}{14515200} + \\frac{53393551 d^{7}}{907200} - \\frac{6234694451 d^{6}}{32659200} + \\frac{1189572827 d^{5}}{2721600} - \\frac{384195509 d^{4}}{544320} + \\frac{804800701 d^{3}}{1020600} - \\frac{395480959 d^{2}}{680400} + \\frac{43330891 d}{170100} - \\frac{2569103}{51030}\\right) \\beta^{24} + \\left(\\frac{251 d^{11}}{129600} - \\frac{2761 d^{10}}{64800} + \\frac{1123 d^{9}}{2016} - \\frac{74297 d^{8}}{15120} + \\frac{46173139 d^{7}}{1587600} - \\frac{2645063 d^{6}}{22680} + \\frac{10490119481 d^{5}}{32659200} - \\frac{1990770617 d^{4}}{3265920} + \\frac{641166041 d^{3}}{816480} - \\frac{191672923 d^{2}}{291600} + \\frac{659483677 d}{2041200} - \\frac{506422031}{7144200}\\right) \\beta^{23} + \\left(\\frac{6101 d^{10}}{259200} - \\frac{6101 d^{9}}{12960} + \\frac{7276417 d^{8}}{1814400} - \\frac{2151577 d^{7}}{113400} + \\frac{324937 d^{6}}{6048} - \\frac{10020721 d^{5}}{113400} + \\frac{68302609 d^{4}}{1088640} + \\frac{30094411 d^{3}}{680400} - \\frac{30530867 d^{2}}{226800} + \\frac{3788327 d}{34020} - \\frac{11520763}{340200}\\right) \\beta^{22} + \\left(- \\frac{22297 d^{9}}{90720} + \\frac{22297 d^{8}}{5040} - \\frac{10627933 d^{7}}{302400} + \\frac{3492893 d^{6}}{21600} - \\frac{5168418023 d^{5}}{10886400} + \\frac{1003593863 d^{4}}{1088640} - \\frac{1034980199 d^{3}}{874800} + \\frac{123327649 d^{2}}{127575} - \\frac{930201959 d}{2041200} + \\frac{288574109}{3061800}\\right) \\beta^{21} + \\left(\\frac{7381 d^{10}}{907200} - \\frac{7381 d^{9}}{45360} + \\frac{3419 d^{8}}{1344} - \\frac{94807 d^{7}}{3780} + \\frac{17058301 d^{6}}{115200} - \\frac{15762679 d^{5}}{28800} + \\frac{712479721 d^{4}}{544320} - \\frac{2471708 d^{3}}{1215} + \\frac{902939797 d^{2}}{453600} - \\frac{380014343 d}{340200} + \\frac{6674711}{24300}\\right) \\beta^{20} + \\left(- \\frac{41 d^{9}}{1512} + \\frac{41 d^{8}}{84} - \\frac{1015919 d^{7}}{151200} + \\frac{622319 d^{6}}{10800} - \\frac{293351 d^{5}}{1008} + \\frac{6780553 d^{4}}{7560} - \\frac{14043800077 d^{3}}{8164800} + \\frac{2738859469 d^{2}}{1360800} - \\frac{37715875009 d}{28576800} + \\frac{7889831}{21168}\\right) \\beta^{19} + \\left(- \\frac{41 d^{8}}{144} + \\frac{41 d^{7}}{9} - \\frac{3523859 d^{6}}{129600} + \\frac{768659 d^{5}}{10800} - \\frac{55897 d^{4}}{1512} - \\frac{684878 d^{3}}{2835} + \\frac{280104451 d^{2}}{453600} - \\frac{9892837 d}{16200} + \\frac{9767560531}{42865200}\\right) \\beta^{18} + \\left(\\frac{431 d^{7}}{168} - \\frac{431 d^{6}}{12} + \\frac{15914827 d^{5}}{75600} - \\frac{5053627 d^{4}}{7560} + \\frac{3367169203 d^{3}}{2721600} - \\frac{601037683 d^{2}}{453600} + \\frac{5360470889 d}{7144200} - \\frac{60280121}{357210}\\right) \\beta^{17} + \\left(- \\frac{41 d^{8}}{504} + \\frac{82 d^{7}}{63} - \\frac{16289 d^{6}}{864} + \\frac{11041 d^{5}}{72} - \\frac{11621879 d^{4}}{17280} + \\frac{3628759 d^{3}}{2160} - \\frac{1093320157 d^{2}}{453600} + \\frac{210434977 d}{113400} - \\frac{1417527283}{2381400}\\right) \\beta^{16} + \\left(\\frac{13 d^{7}}{60} - \\frac{91 d^{6}}{30} + \\frac{967 d^{5}}{24} - \\frac{3379 d^{4}}{12} + \\frac{11388617 d^{3}}{11340} - \\frac{3607361 d^{2}}{1890} + \\frac{2525416189 d}{1360800} - \\frac{70852507}{97200}\\right) \\beta^{15} + \\left(\\frac{637 d^{6}}{360} - \\frac{637 d^{5}}{30} + \\frac{31865 d^{4}}{432} - \\frac{1289 d^{3}}{54} - \\frac{445229 d^{2}}{1260} + \\frac{660019 d}{945} - \\frac{30726377}{75600}\\right) \\beta^{14} + \\left(- \\frac{119 d^{5}}{10} + 119 d^{4} - \\frac{224521 d^{3}}{504} + \\frac{64585 d^{2}}{84} - \\frac{265547203 d}{453600} + \\frac{4406149}{32400}\\right) \\beta^{13} + \\left(\\frac{91 d^{6}}{180} - \\frac{91 d^{5}}{15} + \\frac{4475 d^{4}}{72} - \\frac{3019 d^{3}}{9} + \\frac{500299 d^{2}}{576} - \\frac{83967 d}{80} + \\frac{6741872}{14175}\\right) \\beta^{12} + \\left(- d^{5} + 10 d^{4} - \\frac{5159 d^{3}}{60} + \\frac{3559 d^{2}}{10} - \\frac{1189067 d}{1890} + \\frac{372839}{945}\\right) \\beta^{11} + \\left(- \\frac{35 d^{4}}{6} + \\frac{140 d^{3}}{3} - \\frac{37913 d^{2}}{360} + \\frac{4313 d}{90} + \\frac{44162}{945}\\right) \\beta^{10} + \\left(25 d^{3} - 150 d^{2} + \\frac{4387 d}{15} - \\frac{2774}{15}\\right) \\beta^{9} + \\left(- \\frac{5 d^{4}}{3} + \\frac{40 d^{3}}{3} - \\frac{895 d^{2}}{12} + \\frac{575 d}{3} - \\frac{848}{5}\\right) \\beta^{8} + \\left(2 d^{3} - 12 d^{2} + 36 d - 40\\right) \\beta^{7} + \\left(7 d^{2} - 28 d + \\frac{112}{3}\\right) \\beta^{6} + \\left(16 - 8 d\\right) \\beta^{5} + \\left(2 d^{2} - 8 d\\right) \\beta^{4}, \\beta, domain=\\mathbb{Q}\\left[d\\right] \\right)}$"
      ],
      "text/plain": [
       "Poly((d**18/257191200 - d**17/7144200 + 17*d**16/7144200 - 68*d**15/2679075 + 34*d**14/178605 - 136*d**13/127575 + 1768*d**12/382725 - 14144*d**11/893025 + 38896*d**10/893025 - 155584*d**9/1607445 + 155584*d**8/893025 - 226304*d**7/893025 + 113152*d**6/382725 - 34816*d**5/127575 + 34816*d**4/178605 - 278528*d**3/2679075 + 34816*d**2/893025 - 8192*d/893025 + 8192/8037225)*beta**36 + (-d**17/57153600 + 17*d**16/28576800 - 17*d**15/1786050 + 17*d**14/178605 - 17*d**13/25515 + 442*d**12/127575 - 1768*d**11/127575 + 38896*d**10/893025 - 19448*d**9/178605 + 38896*d**8/178605 - 311168*d**7/893025 + 56576*d**6/127575 - 56576*d**5/127575 + 8704*d**4/25515 - 34816*d**3/178605 + 69632*d**2/893025 - 17408*d/893025 + 2048/893025)*beta**35 + (-d**16/4082400 + d**15/127575 - d**14/8505 + 4*d**13/3645 - 26*d**12/3645 + 208*d**11/6075 - 2288*d**10/18225 + 9152*d**9/25515 - 2288*d**8/2835 + 36608*d**7/25515 - 36608*d**6/18225 + 13312*d**5/6075 - 6656*d**4/3645 + 4096*d**3/3645 - 4096*d**2/8505 + 16384*d/127575 - 2048/127575)*beta**34 + (71*d**15/24494400 - 71*d**14/816480 + 71*d**13/58320 - 923*d**12/87480 + 923*d**11/14580 - 10153*d**10/36450 + 10153*d**9/10935 - 20306*d**8/8505 + 40612*d**7/8505 - 81224*d**6/10935 + 162448*d**5/18225 - 29536*d**4/3645 + 59072*d**3/10935 - 9088*d**2/3645 + 18176*d/25515 - 36352/382725)*beta**33 + (-d**16/2857680 + 2*d**15/178605 - 41641*d**14/228614400 + 5347*d**13/2721600 - 125333*d**12/8164800 + 92053*d**11/1020600 - 829543*d**10/2041200 + 563849*d**9/396900 - 4617041*d**8/1190700 + 7391956*d**7/893025 - 1756469*d**6/127575 + 2253212*d**5/127575 - 728884*d**4/42525 + 1553056*d**3/127575 - 5333296*d**2/893025 + 1615808*d/893025 - 75968/297675)*beta**32 + (43*d**15/28576800 - 43*d**14/952560 + 43919*d**13/65318400 - 213187*d**12/32659200 + 41249*d**11/907200 - 967681*d**10/4082400 + 85657*d**9/90720 - 4609319*d**8/1587600 + 4117399*d**7/595350 - 1624051*d**6/127575 + 1525667*d**5/85050 - 96941*d**4/5103 + 1867268*d**3/127575 - 109832*d**2/14175 + 2251432*d/893025 - 4528/11907)*beta**31 + (11*d**14/544320 - 11*d**13/19440 + 1427273*d**12/195955200 - 466313*d**11/8164800 + 2486803*d**10/8164800 - 1429747*d**9/1224720 + 901219*d**8/272160 - 599203*d**7/85050 + 410443*d**6/36450 - 569206*d**5/42525 + 4367*d**4/378 - 529804*d**3/76545 + 337612*d**2/127575 - 69008*d/127575 + 1912/54675)*beta**30 + (-3763*d**13/16329600 + 48919*d**12/8164800 - 13134677*d**11/182891520 + 240261571*d**10/457228800 - 886853*d**9/338688 + 357552943*d**8/38102400 - 79005509*d**7/3175200 + 6725543*d**6/136080 - 25017971*d**5/340200 + 11566885*d**4/142884 - 228903917*d**3/3572100 + 61690831*d**2/1786050 - 2029319*d/178605 + 512774/297675)*beta**29 + (167*d**14/9525600 - 167*d**13/340200 + 244067*d**12/32659200 - 35041*d**11/453600 + 594575447*d**10/1045094400 - 37864103*d**9/12441600 + 116176657*d**8/9676800 - 1345690981*d**7/38102400 + 847589861*d**6/10886400 - 348955427*d**5/2721600 + 47055037*d**4/302400 - 138021209*d**3/1020600 + 5165557*d**2/64800 - 29162419*d/1020600 + 1245107/264600)*beta**28 + (-197*d**13/2721600 + 2561*d**12/1360800 - 557687*d**11/21772800 + 2528669*d**10/10886400 - 45561073*d**9/30481920 + 177318503*d**8/25401600 - 2816123*d**7/117600 + 4587941*d**6/75600 - 3674641*d**5/32400 + 10507657*d**4/68040 - 6341087*d**3/42525 + 28822424*d**2/297675 - 22595021*d/595350 + 2021597/297675)*beta**27 + (-73*d**12/77760 + 73*d**11/3240 - 4526111*d**10/18662400 + 1442591*d**9/933120 - 671711*d**8/103680 + 363359*d**7/19440 - 1464281*d**6/38880 + 847577*d**5/16200 - 462137*d**4/9720 + 29311*d**3/1215 - 241*d**2/108 - 15073*d/3645 + 29089/18225)*beta**26 + (56587*d**11/5443200 - 622457*d**10/2721600 + 173842381*d**9/76204800 - 172951223*d**8/12700800 + 24712485983*d**7/457228800 - 978233299*d**6/6531840 + 1609001039*d**5/5443200 - 3392862187*d**4/8164800 + 1664349403*d**3/4082400 - 421992307*d**2/1587600 + 740337137*d/7144200 - 65359031/3572100)*beta**25 + (-137*d**12/272160 + 137*d**11/11340 - 3940283*d**10/21772800 + 670441*d**9/362880 - 183436031*d**8/14515200 + 53393551*d**7/907200 - 6234694451*d**6/32659200 + 1189572827*d**5/2721600 - 384195509*d**4/544320 + 804800701*d**3/1020600 - 395480959*d**2/680400 + 43330891*d/170100 - 2569103/51030)*beta**24 + (251*d**11/129600 - 2761*d**10/64800 + 1123*d**9/2016 - 74297*d**8/15120 + 46173139*d**7/1587600 - 2645063*d**6/22680 + 10490119481*d**5/32659200 - 1990770617*d**4/3265920 + 641166041*d**3/816480 - 191672923*d**2/291600 + 659483677*d/2041200 - 506422031/7144200)*beta**23 + (6101*d**10/259200 - 6101*d**9/12960 + 7276417*d**8/1814400 - 2151577*d**7/113400 + 324937*d**6/6048 - 10020721*d**5/113400 + 68302609*d**4/1088640 + 30094411*d**3/680400 - 30530867*d**2/226800 + 3788327*d/34020 - 11520763/340200)*beta**22 + (-22297*d**9/90720 + 22297*d**8/5040 - 10627933*d**7/302400 + 3492893*d**6/21600 - 5168418023*d**5/10886400 + 1003593863*d**4/1088640 - 1034980199*d**3/874800 + 123327649*d**2/127575 - 930201959*d/2041200 + 288574109/3061800)*beta**21 + (7381*d**10/907200 - 7381*d**9/45360 + 3419*d**8/1344 - 94807*d**7/3780 + 17058301*d**6/115200 - 15762679*d**5/28800 + 712479721*d**4/544320 - 2471708*d**3/1215 + 902939797*d**2/453600 - 380014343*d/340200 + 6674711/24300)*beta**20 + (-41*d**9/1512 + 41*d**8/84 - 1015919*d**7/151200 + 622319*d**6/10800 - 293351*d**5/1008 + 6780553*d**4/7560 - 14043800077*d**3/8164800 + 2738859469*d**2/1360800 - 37715875009*d/28576800 + 7889831/21168)*beta**19 + (-41*d**8/144 + 41*d**7/9 - 3523859*d**6/129600 + 768659*d**5/10800 - 55897*d**4/1512 - 684878*d**3/2835 + 280104451*d**2/453600 - 9892837*d/16200 + 9767560531/42865200)*beta**18 + (431*d**7/168 - 431*d**6/12 + 15914827*d**5/75600 - 5053627*d**4/7560 + 3367169203*d**3/2721600 - 601037683*d**2/453600 + 5360470889*d/7144200 - 60280121/357210)*beta**17 + (-41*d**8/504 + 82*d**7/63 - 16289*d**6/864 + 11041*d**5/72 - 11621879*d**4/17280 + 3628759*d**3/2160 - 1093320157*d**2/453600 + 210434977*d/113400 - 1417527283/2381400)*beta**16 + (13*d**7/60 - 91*d**6/30 + 967*d**5/24 - 3379*d**4/12 + 11388617*d**3/11340 - 3607361*d**2/1890 + 2525416189*d/1360800 - 70852507/97200)*beta**15 + (637*d**6/360 - 637*d**5/30 + 31865*d**4/432 - 1289*d**3/54 - 445229*d**2/1260 + 660019*d/945 - 30726377/75600)*beta**14 + (-119*d**5/10 + 119*d**4 - 224521*d**3/504 + 64585*d**2/84 - 265547203*d/453600 + 4406149/32400)*beta**13 + (91*d**6/180 - 91*d**5/15 + 4475*d**4/72 - 3019*d**3/9 + 500299*d**2/576 - 83967*d/80 + 6741872/14175)*beta**12 + (-d**5 + 10*d**4 - 5159*d**3/60 + 3559*d**2/10 - 1189067*d/1890 + 372839/945)*beta**11 + (-35*d**4/6 + 140*d**3/3 - 37913*d**2/360 + 4313*d/90 + 44162/945)*beta**10 + (25*d**3 - 150*d**2 + 4387*d/15 - 2774/15)*beta**9 + (-5*d**4/3 + 40*d**3/3 - 895*d**2/12 + 575*d/3 - 848/5)*beta**8 + (2*d**3 - 12*d**2 + 36*d - 40)*beta**7 + (7*d**2 - 28*d + 112/3)*beta**6 + (16 - 8*d)*beta**5 + (2*d**2 - 8*d)*beta**4, beta, domain='QQ[d]')"
      ]
     },
     "execution_count": 332,
     "metadata": {},
     "output_type": "execute_result"
    }
   ],
   "source": [
    "Poly(SUBS.expand(),beta)"
   ]
  },
  {
   "cell_type": "code",
   "execution_count": 321,
   "metadata": {},
   "outputs": [
    {
     "data": {
      "text/latex": [
       "$\\displaystyle \\beta^{18} \\left(\\frac{b^{18}}{257191200} + \\frac{b^{17}}{8164800} + \\frac{11 b^{16}}{7144200} + \\frac{1873 b^{15}}{171460800} + \\frac{11519 b^{14}}{228614400} + \\frac{10663 b^{13}}{65318400} + \\frac{76547 b^{12}}{195955200} + \\frac{13351 b^{11}}{18662400} + \\frac{7507121 b^{10}}{7315660800} + \\frac{19136137 b^{9}}{16460236800} + \\frac{1891429 b^{8}}{1828915200} + \\frac{109033 b^{7}}{152409600} + \\frac{7561 b^{6}}{19595520} + \\frac{1777 b^{5}}{10886400} + \\frac{2929 b^{4}}{57153600} + \\frac{311 b^{3}}{28576800} + \\frac{61 b^{2}}{28576800} + \\frac{b}{9525600} + \\frac{1}{64297800}\\right) + \\beta^{16} \\left(- \\frac{b^{16}}{2857680} - \\frac{277 b^{15}}{28576800} - \\frac{391 b^{14}}{3810240} - \\frac{9803 b^{13}}{16329600} - \\frac{14741 b^{12}}{6531840} - \\frac{129127 b^{11}}{21772800} - \\frac{42919 b^{10}}{3732480} - \\frac{1942091 b^{9}}{114307200} - \\frac{1487 b^{8}}{76800} - \\frac{971041 b^{7}}{57153600} - \\frac{93589 b^{6}}{8164800} - \\frac{21517 b^{5}}{3628800} - \\frac{9229 b^{4}}{4082400} - \\frac{65 b^{3}}{108864} - \\frac{8 b^{2}}{59535} - \\frac{13 b}{1587600} - \\frac{1}{714420}\\right) + \\beta^{14} \\cdot \\left(\\frac{167 b^{14}}{9525600} + \\frac{1139 b^{13}}{2721600} + \\frac{9691 b^{12}}{2721600} + \\frac{12701 b^{11}}{777600} + \\frac{1044301 b^{10}}{21772800} + \\frac{540361 b^{9}}{5443200} + \\frac{8633 b^{8}}{56700} + \\frac{222739 b^{7}}{1270080} + \\frac{220279 b^{6}}{1451520} + \\frac{540091 b^{5}}{5443200} + \\frac{262751 b^{4}}{5443200} + \\frac{979 b^{3}}{60480} + \\frac{5911 b^{2}}{1360800} + \\frac{157 b}{453600} + \\frac{167}{2381400}\\right) + \\beta^{12} \\left(- \\frac{137 b^{12}}{272160} - \\frac{9203 b^{11}}{907200} - \\frac{24221 b^{10}}{362880} - \\frac{7991 b^{9}}{34020} - \\frac{4649 b^{8}}{8640} - \\frac{18817 b^{7}}{21600} - \\frac{43981 b^{6}}{43200} - \\frac{2741 b^{5}}{3150} - \\frac{66377 b^{4}}{120960} - \\frac{4499 b^{3}}{19440} - \\frac{17677 b^{2}}{226800} - \\frac{1241 b}{151200} - \\frac{137}{68040}\\right) + \\beta^{10} \\cdot \\left(\\frac{7381 b^{10}}{907200} + \\frac{6151 b^{9}}{45360} + \\frac{83 b^{8}}{120} + \\frac{2069 b^{7}}{1080} + \\frac{4897 b^{6}}{1440} + \\frac{917 b^{5}}{225} + \\frac{2489 b^{4}}{720} + \\frac{14213 b^{3}}{7560} + \\frac{781 b^{2}}{960} + \\frac{703 b}{6480} + \\frac{7381}{226800}\\right) + \\beta^{8} \\left(- \\frac{41 b^{8}}{504} - \\frac{1367 b^{7}}{1260} - \\frac{517 b^{6}}{120} - \\frac{401 b^{5}}{45} - \\frac{275 b^{4}}{24} - \\frac{1577 b^{3}}{180} - \\frac{607 b^{2}}{120} - \\frac{547 b}{630} - \\frac{41}{126}\\right) + \\beta^{6} \\cdot \\left(\\frac{91 b^{6}}{180} + \\frac{76 b^{5}}{15} + \\frac{29 b^{4}}{2} + \\frac{173 b^{3}}{9} + \\frac{67 b^{2}}{4} + \\frac{61 b}{15} + \\frac{91}{45}\\right) + \\beta^{4} \\left(- \\frac{5 b^{4}}{3} - \\frac{34 b^{3}}{3} - 21 b^{2} - \\frac{28 b}{3} - \\frac{20}{3}\\right) + \\beta^{2} \\cdot \\left(2 b^{2} + 8 b + 8\\right)$"
      ],
      "text/plain": [
       "beta**18*(b**18/257191200 + b**17/8164800 + 11*b**16/7144200 + 1873*b**15/171460800 + 11519*b**14/228614400 + 10663*b**13/65318400 + 76547*b**12/195955200 + 13351*b**11/18662400 + 7507121*b**10/7315660800 + 19136137*b**9/16460236800 + 1891429*b**8/1828915200 + 109033*b**7/152409600 + 7561*b**6/19595520 + 1777*b**5/10886400 + 2929*b**4/57153600 + 311*b**3/28576800 + 61*b**2/28576800 + b/9525600 + 1/64297800) + beta**16*(-b**16/2857680 - 277*b**15/28576800 - 391*b**14/3810240 - 9803*b**13/16329600 - 14741*b**12/6531840 - 129127*b**11/21772800 - 42919*b**10/3732480 - 1942091*b**9/114307200 - 1487*b**8/76800 - 971041*b**7/57153600 - 93589*b**6/8164800 - 21517*b**5/3628800 - 9229*b**4/4082400 - 65*b**3/108864 - 8*b**2/59535 - 13*b/1587600 - 1/714420) + beta**14*(167*b**14/9525600 + 1139*b**13/2721600 + 9691*b**12/2721600 + 12701*b**11/777600 + 1044301*b**10/21772800 + 540361*b**9/5443200 + 8633*b**8/56700 + 222739*b**7/1270080 + 220279*b**6/1451520 + 540091*b**5/5443200 + 262751*b**4/5443200 + 979*b**3/60480 + 5911*b**2/1360800 + 157*b/453600 + 167/2381400) + beta**12*(-137*b**12/272160 - 9203*b**11/907200 - 24221*b**10/362880 - 7991*b**9/34020 - 4649*b**8/8640 - 18817*b**7/21600 - 43981*b**6/43200 - 2741*b**5/3150 - 66377*b**4/120960 - 4499*b**3/19440 - 17677*b**2/226800 - 1241*b/151200 - 137/68040) + beta**10*(7381*b**10/907200 + 6151*b**9/45360 + 83*b**8/120 + 2069*b**7/1080 + 4897*b**6/1440 + 917*b**5/225 + 2489*b**4/720 + 14213*b**3/7560 + 781*b**2/960 + 703*b/6480 + 7381/226800) + beta**8*(-41*b**8/504 - 1367*b**7/1260 - 517*b**6/120 - 401*b**5/45 - 275*b**4/24 - 1577*b**3/180 - 607*b**2/120 - 547*b/630 - 41/126) + beta**6*(91*b**6/180 + 76*b**5/15 + 29*b**4/2 + 173*b**3/9 + 67*b**2/4 + 61*b/15 + 91/45) + beta**4*(-5*b**4/3 - 34*b**3/3 - 21*b**2 - 28*b/3 - 20/3) + beta**2*(2*b**2 + 8*b + 8)"
      ]
     },
     "execution_count": 321,
     "metadata": {},
     "output_type": "execute_result"
    }
   ],
   "source": [
    "SUBS.expand().collect(beta)"
   ]
  },
  {
   "cell_type": "code",
   "execution_count": 314,
   "metadata": {},
   "outputs": [
    {
     "data": {
      "text/latex": [
       "$\\displaystyle \\left(\\frac{\\beta^{9}}{362880} - \\frac{\\beta^{7}}{5040} + \\frac{\\beta^{5}}{120} - \\frac{\\beta^{3}}{6} + \\beta\\right) \\left(a + b \\beta + \\beta^{6} g + \\beta^{5} f + \\beta^{4} e + \\beta^{3} d + \\beta^{2} c + 2 \\beta + \\frac{\\left(a + b \\beta + \\beta^{6} g + \\beta^{5} f + \\beta^{4} e + \\beta^{3} d + \\beta^{2} c\\right)^{9}}{181440} - \\frac{\\left(a + b \\beta + \\beta^{6} g + \\beta^{5} f + \\beta^{4} e + \\beta^{3} d + \\beta^{2} c\\right)^{7}}{2520} + \\frac{\\left(a + b \\beta + \\beta^{6} g + \\beta^{5} f + \\beta^{4} e + \\beta^{3} d + \\beta^{2} c\\right)^{5}}{60} - \\frac{\\left(a + b \\beta + \\beta^{6} g + \\beta^{5} f + \\beta^{4} e + \\beta^{3} d + \\beta^{2} c\\right)^{3}}{3} + \\frac{\\left(- a - b \\beta - \\beta^{6} g - \\beta^{5} f - \\beta^{4} e - \\beta^{3} d - \\beta^{2} c + 2 \\beta\\right)^{9}}{362880} - \\frac{\\left(- a - b \\beta - \\beta^{6} g - \\beta^{5} f - \\beta^{4} e - \\beta^{3} d - \\beta^{2} c + 2 \\beta\\right)^{7}}{5040} + \\frac{\\left(- a - b \\beta - \\beta^{6} g - \\beta^{5} f - \\beta^{4} e - \\beta^{3} d - \\beta^{2} c + 2 \\beta\\right)^{5}}{120} - \\frac{\\left(- a - b \\beta - \\beta^{6} g - \\beta^{5} f - \\beta^{4} e - \\beta^{3} d - \\beta^{2} c + 2 \\beta\\right)^{3}}{6}\\right) + \\left(a + b \\beta + \\beta^{6} g + \\beta^{5} f + \\beta^{4} e + \\beta^{3} d + \\beta^{2} c + 2 \\beta + \\frac{\\left(a + b \\beta + \\beta^{6} g + \\beta^{5} f + \\beta^{4} e + \\beta^{3} d + \\beta^{2} c + 2 \\beta\\right)^{9}}{362880} - \\frac{\\left(a + b \\beta + \\beta^{6} g + \\beta^{5} f + \\beta^{4} e + \\beta^{3} d + \\beta^{2} c + 2 \\beta\\right)^{7}}{5040} + \\frac{\\left(a + b \\beta + \\beta^{6} g + \\beta^{5} f + \\beta^{4} e + \\beta^{3} d + \\beta^{2} c + 2 \\beta\\right)^{5}}{120} - \\frac{\\left(a + b \\beta + \\beta^{6} g + \\beta^{5} f + \\beta^{4} e + \\beta^{3} d + \\beta^{2} c + 2 \\beta\\right)^{3}}{6}\\right) \\left(2 a + 2 b \\beta + 2 \\beta^{6} g + 2 \\beta^{5} f + 2 \\beta^{4} e + 2 \\beta^{3} d + 2 \\beta^{2} c + 3 \\beta + \\frac{\\left(- 2 a - 2 b \\beta - 2 \\beta^{6} g - 2 \\beta^{5} f - 2 \\beta^{4} e - 2 \\beta^{3} d - 2 \\beta^{2} c + \\beta\\right)^{9}}{362880} - \\frac{\\left(- 2 a - 2 b \\beta - 2 \\beta^{6} g - 2 \\beta^{5} f - 2 \\beta^{4} e - 2 \\beta^{3} d - 2 \\beta^{2} c + \\beta\\right)^{7}}{5040} + \\frac{\\left(- 2 a - 2 b \\beta - 2 \\beta^{6} g - 2 \\beta^{5} f - 2 \\beta^{4} e - 2 \\beta^{3} d - 2 \\beta^{2} c + \\beta\\right)^{5}}{120} - \\frac{\\left(- 2 a - 2 b \\beta - 2 \\beta^{6} g - 2 \\beta^{5} f - 2 \\beta^{4} e - 2 \\beta^{3} d - 2 \\beta^{2} c + \\beta\\right)^{3}}{6} + \\frac{\\left(2 a + 2 b \\beta + 2 \\beta^{6} g + 2 \\beta^{5} f + 2 \\beta^{4} e + 2 \\beta^{3} d + 2 \\beta^{2} c + \\beta\\right)^{9}}{181440} - \\frac{\\left(2 a + 2 b \\beta + 2 \\beta^{6} g + 2 \\beta^{5} f + 2 \\beta^{4} e + 2 \\beta^{3} d + 2 \\beta^{2} c + \\beta\\right)^{7}}{2520} + \\frac{\\left(2 a + 2 b \\beta + 2 \\beta^{6} g + 2 \\beta^{5} f + 2 \\beta^{4} e + 2 \\beta^{3} d + 2 \\beta^{2} c + \\beta\\right)^{5}}{60} - \\frac{\\left(2 a + 2 b \\beta + 2 \\beta^{6} g + 2 \\beta^{5} f + 2 \\beta^{4} e + 2 \\beta^{3} d + 2 \\beta^{2} c + \\beta\\right)^{3}}{3}\\right)$"
      ],
      "text/plain": [
       "(beta**9/362880 - beta**7/5040 + beta**5/120 - beta**3/6 + beta)*(a + b*beta + beta**6*g + beta**5*f + beta**4*e + beta**3*d + beta**2*c + 2*beta + (a + b*beta + beta**6*g + beta**5*f + beta**4*e + beta**3*d + beta**2*c)**9/181440 - (a + b*beta + beta**6*g + beta**5*f + beta**4*e + beta**3*d + beta**2*c)**7/2520 + (a + b*beta + beta**6*g + beta**5*f + beta**4*e + beta**3*d + beta**2*c)**5/60 - (a + b*beta + beta**6*g + beta**5*f + beta**4*e + beta**3*d + beta**2*c)**3/3 + (-a - b*beta - beta**6*g - beta**5*f - beta**4*e - beta**3*d - beta**2*c + 2*beta)**9/362880 - (-a - b*beta - beta**6*g - beta**5*f - beta**4*e - beta**3*d - beta**2*c + 2*beta)**7/5040 + (-a - b*beta - beta**6*g - beta**5*f - beta**4*e - beta**3*d - beta**2*c + 2*beta)**5/120 - (-a - b*beta - beta**6*g - beta**5*f - beta**4*e - beta**3*d - beta**2*c + 2*beta)**3/6) + (a + b*beta + beta**6*g + beta**5*f + beta**4*e + beta**3*d + beta**2*c + 2*beta + (a + b*beta + beta**6*g + beta**5*f + beta**4*e + beta**3*d + beta**2*c + 2*beta)**9/362880 - (a + b*beta + beta**6*g + beta**5*f + beta**4*e + beta**3*d + beta**2*c + 2*beta)**7/5040 + (a + b*beta + beta**6*g + beta**5*f + beta**4*e + beta**3*d + beta**2*c + 2*beta)**5/120 - (a + b*beta + beta**6*g + beta**5*f + beta**4*e + beta**3*d + beta**2*c + 2*beta)**3/6)*(2*a + 2*b*beta + 2*beta**6*g + 2*beta**5*f + 2*beta**4*e + 2*beta**3*d + 2*beta**2*c + 3*beta + (-2*a - 2*b*beta - 2*beta**6*g - 2*beta**5*f - 2*beta**4*e - 2*beta**3*d - 2*beta**2*c + beta)**9/362880 - (-2*a - 2*b*beta - 2*beta**6*g - 2*beta**5*f - 2*beta**4*e - 2*beta**3*d - 2*beta**2*c + beta)**7/5040 + (-2*a - 2*b*beta - 2*beta**6*g - 2*beta**5*f - 2*beta**4*e - 2*beta**3*d - 2*beta**2*c + beta)**5/120 - (-2*a - 2*b*beta - 2*beta**6*g - 2*beta**5*f - 2*beta**4*e - 2*beta**3*d - 2*beta**2*c + beta)**3/6 + (2*a + 2*b*beta + 2*beta**6*g + 2*beta**5*f + 2*beta**4*e + 2*beta**3*d + 2*beta**2*c + beta)**9/181440 - (2*a + 2*b*beta + 2*beta**6*g + 2*beta**5*f + 2*beta**4*e + 2*beta**3*d + 2*beta**2*c + beta)**7/2520 + (2*a + 2*b*beta + 2*beta**6*g + 2*beta**5*f + 2*beta**4*e + 2*beta**3*d + 2*beta**2*c + beta)**5/60 - (2*a + 2*b*beta + 2*beta**6*g + 2*beta**5*f + 2*beta**4*e + 2*beta**3*d + 2*beta**2*c + beta)**3/3)"
      ]
     },
     "execution_count": 314,
     "metadata": {},
     "output_type": "execute_result"
    }
   ],
   "source": [
    "SUBS"
   ]
  },
  {
   "cell_type": "code",
   "execution_count": 304,
   "metadata": {},
   "outputs": [
    {
     "data": {
      "text/latex": [
       "$\\displaystyle \\frac{a^{18}}{257191200} - \\frac{a^{16}}{2857680} + \\frac{167 a^{14}}{9525600} - \\frac{137 a^{12}}{272160} + \\frac{7381 a^{10}}{907200} - \\frac{41 a^{8}}{504} + \\frac{91 a^{6}}{180} - \\frac{5 a^{4}}{3} + 2 a^{2}$"
      ],
      "text/plain": [
       "a**18/257191200 - a**16/2857680 + 167*a**14/9525600 - 137*a**12/272160 + 7381*a**10/907200 - 41*a**8/504 + 91*a**6/180 - 5*a**4/3 + 2*a**2"
      ]
     },
     "execution_count": 304,
     "metadata": {},
     "output_type": "execute_result"
    }
   ],
   "source": [
    "Poly(SUBS.expand(),beta).coeffs()[-1]"
   ]
  },
  {
   "cell_type": "code",
   "execution_count": 273,
   "metadata": {},
   "outputs": [
    {
     "data": {
      "text/plain": [
       "360"
      ]
     },
     "execution_count": 273,
     "metadata": {},
     "output_type": "execute_result"
    }
   ],
   "source": [
    "8*45"
   ]
  },
  {
   "cell_type": "code",
   "execution_count": 279,
   "metadata": {},
   "outputs": [
    {
     "data": {
      "text/latex": [
       "$\\displaystyle \\frac{3271}{180}$"
      ],
      "text/plain": [
       "3271/180"
      ]
     },
     "execution_count": 279,
     "metadata": {},
     "output_type": "execute_result"
    }
   ],
   "source": [
    "Rational('6542/360')"
   ]
  },
  {
   "cell_type": "code",
   "execution_count": 185,
   "metadata": {},
   "outputs": [],
   "source": [
    "C = E_tri.subs(sin(beta),SB).subs(cos(beta),CB).subs(sin(psi),Spsi).subs(cos(psi),Cpsi)#.subs(cos(psi)**2,Cpsi**2)"
   ]
  },
  {
   "cell_type": "code",
   "execution_count": 143,
   "metadata": {},
   "outputs": [
    {
     "data": {
      "text/plain": [
       "[(sqrt(2)*sqrt((72*sin(beta)**4*cos(beta) + O(psi**3))*cos(beta)) - 4*sin(beta)*cos(beta)**2)/(2*(1 - 10*sin(beta)**2)*cos(beta)),\n",
       " (sqrt(2)*sqrt((72*sin(beta)**4*cos(beta) + O(psi**3))*cos(beta)) + 4*sin(beta)*cos(beta)**2)/(2*(10*sin(beta)**2 - 1)*cos(beta))]"
      ]
     },
     "execution_count": 143,
     "metadata": {},
     "output_type": "execute_result"
    }
   ],
   "source": [
    "solve(T,psi)"
   ]
  },
  {
   "cell_type": "code",
   "execution_count": 131,
   "metadata": {},
   "outputs": [],
   "source": []
  },
  {
   "cell_type": "code",
   "execution_count": 132,
   "metadata": {},
   "outputs": [
    {
     "data": {
      "text/plain": [
       "[2*(beta**3 - 3*beta - sqrt(4 - beta**2))/(beta**4 - 4*beta**2 + 2),\n",
       " 2*(beta**3 - 3*beta + sqrt(4 - beta**2))/(beta**4 - 4*beta**2 + 2)]"
      ]
     },
     "execution_count": 132,
     "metadata": {},
     "output_type": "execute_result"
    }
   ],
   "source": [
    "T = C.simplify().subs(psi,-2*beta + a*beta**2)\n",
    "solve(T,a)"
   ]
  },
  {
   "cell_type": "code",
   "execution_count": 133,
   "metadata": {},
   "outputs": [
    {
     "data": {
      "text/plain": [
       "[2*beta*(beta**2 - beta*sqrt(4 - beta**2) - 2)/(beta**4 - 4*beta**2 + 2),\n",
       " 2*beta*(beta**2 + beta*sqrt(4 - beta**2) - 2)/(beta**4 - 4*beta**2 + 2)]"
      ]
     },
     "execution_count": 133,
     "metadata": {},
     "output_type": "execute_result"
    }
   ],
   "source": [
    "solve(C,psi)"
   ]
  },
  {
   "cell_type": "code",
   "execution_count": 347,
   "metadata": {},
   "outputs": [],
   "source": [
    "SOL_BP =  series(eq_br,beta).removeO()"
   ]
  },
  {
   "cell_type": "code",
   "execution_count": 361,
   "metadata": {},
   "outputs": [
    {
     "data": {
      "image/png": "[encoded data removed]",
      "text/latex": [
       "$\\displaystyle \\operatorname{Poly}{\\left( 2 \\frac{1}{2 \\sin{\\left(\\psi \\right)} + \\sin{\\left(2 \\beta - \\psi \\right)}}\\sin{\\left(2 \\beta + \\psi \\right)}\\sin{\\left(\\beta + 2 \\psi \\right)} + \\frac{1}{2 \\sin{\\left(\\psi \\right)} + \\sin{\\left(2 \\beta - \\psi \\right)}}\\sin{\\left(2 \\beta + \\psi \\right)}\\sin{\\left(\\beta - 2 \\psi \\right)} + \\sin{\\left(\\beta \\right)}, \\frac{1}{2 \\sin{\\left(\\psi \\right)} + \\sin{\\left(2 \\beta - \\psi \\right)}}, \\sin{\\left(2 \\beta + \\psi \\right)}, \\sin{\\left(\\beta + 2 \\psi \\right)}, \\sin{\\left(\\beta - 2 \\psi \\right)}, \\sin{\\left(\\beta \\right)}, domain=\\mathbb{Z} \\right)}$"
      ],
      "text/plain": [
       "Poly(2*(1/(2*sin(psi) + sin(2*beta - psi)))*(sin(2*beta + psi))*(sin(beta + 2*\n",
       "psi)) + (1/(2*sin(psi) + sin(2*beta - psi)))*(sin(2*beta + psi))*(sin(beta - 2\n",
       "*psi)) + (sin(beta)), 1/(2*sin(psi) + sin(2*beta - psi)), sin(2*beta + psi), s\n",
       "in(beta + 2*psi), sin(beta - 2*psi), sin(beta), domain='ZZ')"
      ]
     },
     "execution_count": 361,
     "metadata": {},
     "output_type": "execute_result"
    }
   ],
   "source": [
    "solve"
   ]
  },
  {
   "cell_type": "markdown",
   "metadata": {},
   "source": [
    "# Hopf bifurcation curve"
   ]
  },
  {
   "cell_type": "code",
   "execution_count": 521,
   "metadata": {},
   "outputs": [],
   "source": [
    "SOL_psi_H = -Rational(1,2)*asin(2*sin(2*beta))"
   ]
  },
  {
   "cell_type": "code",
   "execution_count": 526,
   "metadata": {},
   "outputs": [],
   "source": [
    "psi_H = SOL_psi_H.series(beta,0,8).removeO()"
   ]
  },
  {
   "cell_type": "code",
   "execution_count": 527,
   "metadata": {},
   "outputs": [
    {
     "name": "stdout",
     "output_type": "stream",
     "text": [
      "- \\frac{3704 \\beta^{7}}{15} - 28 \\beta^{5} - 4 \\beta^{3} - 2 \\beta\n"
     ]
    }
   ],
   "source": [
    "print_latex(psi_H)"
   ]
  },
  {
   "cell_type": "code",
   "execution_count": 533,
   "metadata": {},
   "outputs": [],
   "source": [
    "UP = sin(2*beta+psi_H).series(beta,0,9).removeO()\n",
    "DOWN = sin(2*beta-psi_H).series(beta,0,9).removeO() + 2*sin(psi_H).series(beta,0,9).removeO()\n",
    "r_s = sqrt(UP/DOWN).series(beta,0,9).removeO()"
   ]
  },
  {
   "cell_type": "code",
   "execution_count": 529,
   "metadata": {},
   "outputs": [
    {
     "name": "stdout",
     "output_type": "stream",
     "text": [
      "\\sqrt{\\frac{- \\frac{3704 \\beta^{7}}{15} - 28 \\beta^{5} - 4 \\beta^{3}}{- \\frac{1624 \\beta^{7}}{5} - 36 \\beta^{5} - 12 \\beta^{3}}}\n"
     ]
    }
   ],
   "source": [
    "print_latex(sqrt(UP/DOWN))"
   ]
  },
  {
   "cell_type": "code",
   "execution_count": 535,
   "metadata": {},
   "outputs": [],
   "source": [
    "UP_A = sin(beta+psi_H).series(beta,0,9).removeO() + r_s*sin(beta).series(beta,0,9).removeO()\n",
    "DOWN_A = sin(beta+psi_H).series(beta,0,9).removeO() - r_s*sin(beta).series(beta,0,9).removeO()\n",
    "A_H = (UP_A/DOWN_A).series(beta,0,6).simplify()\n",
    "# print_latex((UP_A/DOWN_A).series(beta,0,6))"
   ]
  },
  {
   "cell_type": "code",
   "execution_count": 536,
   "metadata": {},
   "outputs": [
    {
     "name": "stdout",
     "output_type": "stream",
     "text": [
      "2 - \\sqrt{3} + 4 \\sqrt{3} \\beta^{2} - 6 \\beta^{2} + \\frac{26 \\sqrt{3} \\beta^{4}}{3} - 10 \\beta^{4} + O\\left(\\beta^{6}\\right)\n"
     ]
    }
   ],
   "source": [
    "print_latex(A_H)\n"
   ]
  },
  {
   "cell_type": "code",
   "execution_count": 558,
   "metadata": {},
   "outputs": [],
   "source": [
    "P = Poly((A_H - A_SN).removeO(),beta)"
   ]
  },
  {
   "cell_type": "code",
   "execution_count": 564,
   "metadata": {},
   "outputs": [
    {
     "data": {
      "text/latex": [
       "$\\displaystyle 2 - \\sqrt{3} - 2 \\beta + 4 \\sqrt{3} \\beta^{2} - 4 \\beta^{2} + \\frac{7 \\beta^{3}}{3} + \\frac{26 \\sqrt{3} \\beta^{4}}{3} - \\frac{50 \\beta^{4}}{3} - \\frac{181 \\beta^{5}}{60} + O\\left(\\beta^{6}\\right)$"
      ],
      "text/plain": [
       "2 - sqrt(3) - 2*beta + 4*sqrt(3)*beta**2 - 4*beta**2 + 7*beta**3/3 + 26*sqrt(3)*beta**4/3 - 50*beta**4/3 - 181*beta**5/60 + O(beta**6)"
      ]
     },
     "execution_count": 564,
     "metadata": {},
     "output_type": "execute_result"
    }
   ],
   "source": [
    "(A_H - A_SN)"
   ]
  },
  {
   "cell_type": "code",
   "execution_count": 565,
   "metadata": {},
   "outputs": [],
   "source": [
    "Y = 2-sqrt(3) -2*x + (-4+4*sqrt(3))*x**2 + Rational(7/3)*x**3"
   ]
  },
  {
   "cell_type": "code",
   "execution_count": 566,
   "metadata": {},
   "outputs": [
    {
     "data": {
      "text/plain": [
       "[-9007199254740992*sqrt(3)/15762598695796737 + 9007199254740992/15762598695796737 - (-1/2 + sqrt(3)*I/2)*(22817710804108119093841496113152*sqrt(3)/27606613071636999357616802205241 + (-9007199254740992/5254199565265579 + 9007199254740992*sqrt(3)/5254199565265579)**3 + 136906264824648795627842269347840/27606613071636999357616802205241 + sqrt(-4*((-9007199254740992/5254199565265579 + 9007199254740992*sqrt(3)/5254199565265579)**2 + 13510798882111488/5254199565265579)**3 + (45635421608216238187682992226304*sqrt(3)/27606613071636999357616802205241 + 2*(-9007199254740992/5254199565265579 + 9007199254740992*sqrt(3)/5254199565265579)**3 + 273812529649297591255684538695680/27606613071636999357616802205241)**2)/2)**(1/3)/3 - ((-9007199254740992/5254199565265579 + 9007199254740992*sqrt(3)/5254199565265579)**2 + 13510798882111488/5254199565265579)/(3*(-1/2 + sqrt(3)*I/2)*(22817710804108119093841496113152*sqrt(3)/27606613071636999357616802205241 + (-9007199254740992/5254199565265579 + 9007199254740992*sqrt(3)/5254199565265579)**3 + 136906264824648795627842269347840/27606613071636999357616802205241 + sqrt(-4*((-9007199254740992/5254199565265579 + 9007199254740992*sqrt(3)/5254199565265579)**2 + 13510798882111488/5254199565265579)**3 + (45635421608216238187682992226304*sqrt(3)/27606613071636999357616802205241 + 2*(-9007199254740992/5254199565265579 + 9007199254740992*sqrt(3)/5254199565265579)**3 + 273812529649297591255684538695680/27606613071636999357616802205241)**2)/2)**(1/3)),\n",
       " -9007199254740992*sqrt(3)/15762598695796737 + 9007199254740992/15762598695796737 - ((-9007199254740992/5254199565265579 + 9007199254740992*sqrt(3)/5254199565265579)**2 + 13510798882111488/5254199565265579)/(3*(-1/2 - sqrt(3)*I/2)*(22817710804108119093841496113152*sqrt(3)/27606613071636999357616802205241 + (-9007199254740992/5254199565265579 + 9007199254740992*sqrt(3)/5254199565265579)**3 + 136906264824648795627842269347840/27606613071636999357616802205241 + sqrt(-4*((-9007199254740992/5254199565265579 + 9007199254740992*sqrt(3)/5254199565265579)**2 + 13510798882111488/5254199565265579)**3 + (45635421608216238187682992226304*sqrt(3)/27606613071636999357616802205241 + 2*(-9007199254740992/5254199565265579 + 9007199254740992*sqrt(3)/5254199565265579)**3 + 273812529649297591255684538695680/27606613071636999357616802205241)**2)/2)**(1/3)) - (-1/2 - sqrt(3)*I/2)*(22817710804108119093841496113152*sqrt(3)/27606613071636999357616802205241 + (-9007199254740992/5254199565265579 + 9007199254740992*sqrt(3)/5254199565265579)**3 + 136906264824648795627842269347840/27606613071636999357616802205241 + sqrt(-4*((-9007199254740992/5254199565265579 + 9007199254740992*sqrt(3)/5254199565265579)**2 + 13510798882111488/5254199565265579)**3 + (45635421608216238187682992226304*sqrt(3)/27606613071636999357616802205241 + 2*(-9007199254740992/5254199565265579 + 9007199254740992*sqrt(3)/5254199565265579)**3 + 273812529649297591255684538695680/27606613071636999357616802205241)**2)/2)**(1/3)/3,\n",
       " -9007199254740992*sqrt(3)/15762598695796737 + 9007199254740992/15762598695796737 - (22817710804108119093841496113152*sqrt(3)/27606613071636999357616802205241 + (-9007199254740992/5254199565265579 + 9007199254740992*sqrt(3)/5254199565265579)**3 + 136906264824648795627842269347840/27606613071636999357616802205241 + sqrt(-4*((-9007199254740992/5254199565265579 + 9007199254740992*sqrt(3)/5254199565265579)**2 + 13510798882111488/5254199565265579)**3 + (45635421608216238187682992226304*sqrt(3)/27606613071636999357616802205241 + 2*(-9007199254740992/5254199565265579 + 9007199254740992*sqrt(3)/5254199565265579)**3 + 273812529649297591255684538695680/27606613071636999357616802205241)**2)/2)**(1/3)/3 - ((-9007199254740992/5254199565265579 + 9007199254740992*sqrt(3)/5254199565265579)**2 + 13510798882111488/5254199565265579)/(3*(22817710804108119093841496113152*sqrt(3)/27606613071636999357616802205241 + (-9007199254740992/5254199565265579 + 9007199254740992*sqrt(3)/5254199565265579)**3 + 136906264824648795627842269347840/27606613071636999357616802205241 + sqrt(-4*((-9007199254740992/5254199565265579 + 9007199254740992*sqrt(3)/5254199565265579)**2 + 13510798882111488/5254199565265579)**3 + (45635421608216238187682992226304*sqrt(3)/27606613071636999357616802205241 + 2*(-9007199254740992/5254199565265579 + 9007199254740992*sqrt(3)/5254199565265579)**3 + 273812529649297591255684538695680/27606613071636999357616802205241)**2)/2)**(1/3))]"
      ]
     },
     "execution_count": 566,
     "metadata": {},
     "output_type": "execute_result"
    }
   ],
   "source": [
    "solve(Y,x)"
   ]
  },
  {
   "cell_type": "code",
   "execution_count": 571,
   "metadata": {},
   "outputs": [
    {
     "data": {
      "text/latex": [
       "$\\displaystyle - \\frac{3271 \\beta^{6}}{180} - 12 \\beta^{5} + \\frac{11 \\beta^{4}}{3} + 2 \\beta^{3} - 2 \\beta^{2} - 2 \\beta + \\frac{\\operatorname{asin}{\\left(2 \\sin{\\left(2 \\beta \\right)} \\right)}}{2}$"
      ],
      "text/plain": [
       "-3271*beta**6/180 - 12*beta**5 + 11*beta**4/3 + 2*beta**3 - 2*beta**2 - 2*beta + asin(2*sin(2*beta))/2"
      ]
     },
     "execution_count": 571,
     "metadata": {},
     "output_type": "execute_result"
    }
   ],
   "source": [
    "SOL_psi - SOL_psi_H"
   ]
  },
  {
   "cell_type": "code",
   "execution_count": null,
   "metadata": {},
   "outputs": [],
   "source": []
  }
 ],
 "metadata": {
  "kernelspec": {
   "display_name": "Python 3",
   "language": "python",
   "name": "python3"
  },
  "language_info": {
   "codemirror_mode": {
    "name": "ipython",
    "version": 3
   },
   "file_extension": ".py",
   "mimetype": "text/x-python",
   "name": "python",
   "nbconvert_exporter": "python",
   "pygments_lexer": "ipython3",
   "version": "3.11.1"
  }
 },
 "nbformat": 4,
 "nbformat_minor": 2
}
