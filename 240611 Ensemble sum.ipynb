{
 "cells": [
  {
   "cell_type": "code",
   "execution_count": 1,
   "metadata": {},
   "outputs": [],
   "source": [
    "import numpy as np\n",
    "import matplotlib.pyplot as plt\n",
    "import glob"
   ]
  },
  {
   "cell_type": "code",
   "execution_count": 79,
   "metadata": {},
   "outputs": [],
   "source": [
    "E_list = glob.glob('DATA/SF Rotation*')"
   ]
  },
  {
   "cell_type": "code",
   "execution_count": 80,
   "metadata": {},
   "outputs": [
    {
     "data": {
      "text/plain": [
       "['DATA/SF Rotation 30.npz',\n",
       " 'DATA/SF Rotation 10.npz',\n",
       " 'DATA/SF Rotation 70.npz']"
      ]
     },
     "execution_count": 80,
     "metadata": {},
     "output_type": "execute_result"
    }
   ],
   "source": [
    "E_list"
   ]
  },
  {
   "cell_type": "code",
   "execution_count": 81,
   "metadata": {},
   "outputs": [],
   "source": [
    "# for E in E_list: \n",
    "A = np.load(E_list[1])\n",
    "B = np.load(E_list[2])\n",
    "# D = np.load(E_list[2])\n"
   ]
  },
  {
   "cell_type": "code",
   "execution_count": 82,
   "metadata": {},
   "outputs": [],
   "source": [
    "Keys = [*A.keys()]"
   ]
  },
  {
   "cell_type": "code",
   "execution_count": 83,
   "metadata": {},
   "outputs": [],
   "source": [
    "C = {}"
   ]
  },
  {
   "cell_type": "code",
   "execution_count": 84,
   "metadata": {},
   "outputs": [
    {
     "name": "stdout",
     "output_type": "stream",
     "text": [
      "(70, 41)\n",
      "(10, 41)\n",
      "(70, 41)\n",
      "(10, 41)\n",
      "(70, 41)\n",
      "(10, 41)\n",
      "(70, 41, 1000)\n",
      "(10, 41, 1000)\n"
     ]
    }
   ],
   "source": [
    "for key in Keys:\n",
    "    if key != 'Ds':\n",
    "        print(B[key].shape)\n",
    "        print(A[key].shape)\n",
    "        C[key] = np.r_[B[key],A[key]]\n",
    "    else:\n",
    "        C[key] = A[key]"
   ]
  },
  {
   "cell_type": "code",
   "execution_count": 85,
   "metadata": {},
   "outputs": [
    {
     "name": "stdout",
     "output_type": "stream",
     "text": [
      "(80, 41)\n",
      "(80, 41)\n",
      "(80, 41)\n",
      "(80, 41, 1000)\n",
      "(41,)\n"
     ]
    }
   ],
   "source": [
    "for key in Keys:\n",
    "    print(C[key].shape)"
   ]
  },
  {
   "cell_type": "code",
   "execution_count": 26,
   "metadata": {},
   "outputs": [
    {
     "data": {
      "text/plain": [
       "(100, 41)"
      ]
     },
     "execution_count": 26,
     "metadata": {},
     "output_type": "execute_result"
    }
   ],
   "source": [
    "C['B_RM'].shape"
   ]
  },
  {
   "cell_type": "code",
   "execution_count": 24,
   "metadata": {},
   "outputs": [
    {
     "data": {
      "text/plain": [
       "(90, 41)"
      ]
     },
     "execution_count": 24,
     "metadata": {},
     "output_type": "execute_result"
    }
   ],
   "source": [
    "B['B_RM'].shape"
   ]
  },
  {
   "cell_type": "code",
   "execution_count": 87,
   "metadata": {},
   "outputs": [],
   "source": [
    "net = E_list[0].split('/')[1].split(' ')[0]\n",
    "np.savez(f'DATA/{net} Rotation 80',B_RM = C['B_RM'],B_S=C['B_S'],B_C=C['B_C'],B_T=C['B_T'],Ds=C['Ds'])"
   ]
  },
  {
   "cell_type": "code",
   "execution_count": null,
   "metadata": {},
   "outputs": [],
   "source": []
  }
 ],
 "metadata": {
  "kernelspec": {
   "display_name": "Python 3",
   "language": "python",
   "name": "python3"
  },
  "language_info": {
   "codemirror_mode": {
    "name": "ipython",
    "version": 3
   },
   "file_extension": ".py",
   "mimetype": "text/x-python",
   "name": "python",
   "nbconvert_exporter": "python",
   "pygments_lexer": "ipython3",
   "version": "3.11.1"
  }
 },
 "nbformat": 4,
 "nbformat_minor": 2
}
