{
 "cells": [
  {
   "cell_type": "code",
   "execution_count": 1,
   "metadata": {},
   "outputs": [],
   "source": [
    "import numpy as np\n",
    "import matplotlib.pyplot as plt\n",
    "from numba import jit\n",
    "import matplotlib as mpl\n",
    "from tqdm.notebook import tqdm"
   ]
  },
  {
   "cell_type": "code",
   "execution_count": 56,
   "metadata": {},
   "outputs": [],
   "source": [
    "def dist(x,a,c):\n",
    "    a_ = a/(1-a*np.exp(2j*x))\n",
    "    c_ = (c*np.exp(1j*x))/(1-c*np.exp(2j*x))\n",
    "    f = 1/(2*np.pi) * (1+a_+c_ + np.conj(a_)+np.conj(c_))\n",
    "    return f\n",
    "xs = np.linspace(0,np.pi*2,1000)"
   ]
  },
  {
   "cell_type": "code",
   "execution_count": 57,
   "metadata": {},
   "outputs": [
    {
     "name": "stderr",
     "output_type": "stream",
     "text": [
      "/Library/Frameworks/Python.framework/Versions/3.11/lib/python3.11/site-packages/matplotlib/cbook/__init__.py:1335: ComplexWarning: Casting complex values to real discards the imaginary part\n",
      "  return np.asarray(x, float)\n"
     ]
    },
    {
     "data": {
      "image/png": "[encoded data removed]",
      "text/plain": [
       "<Figure size 640x480 with 1 Axes>"
      ]
     },
     "metadata": {},
     "output_type": "display_data"
    }
   ],
   "source": [
    "A = np.random.normal(np.pi/2,0.3,3000)\n",
    "B = np.random.normal(3*np.pi/2,0.3,6000)\n",
    "C = np.r_[A,B]\n",
    "plt.hist(C%(2*np.pi),bins=100,density=True)\n",
    "# plt.hist((2*C)%(2*np.pi),bins=100)\n",
    "Z1 = np.mean(np.exp(1j*C))\n",
    "Z2 = np.mean(np.exp(2j*C))\n",
    "\n",
    "plt.xlim(0,2*np.pi)\n",
    "f = dist(xs,Z2.conj(),Z1.conj())\n",
    "plt.plot(xs,f)\n",
    "x_ ,= np.where(f<0)\n",
    "# plt.plot(xs,dist(xs,Z2.conj(),Z1.conj()))\n"
   ]
  },
  {
   "cell_type": "code",
   "execution_count": null,
   "metadata": {},
   "outputs": [],
   "source": [
    "x1 = xs[:len(xs)//2]\n",
    "x2 = xs[len(xs)//2:]\n",
    "\n",
    "f1 = dist(x1,Z2.conj(),Z1.conj())\n",
    "f2 = dist(x2,Z2.conj(),Z1.conj())\n",
    "\n",
    "f1_arg, = np.where(f1<0)\n",
    "f1_0 = np.where(f1)\n",
    "f1[f1_arg] += f2[f1_arg]"
   ]
  },
  {
   "cell_type": "code",
   "execution_count": 51,
   "metadata": {},
   "outputs": [
    {
     "data": {
      "text/plain": [
       "array([  0,   1,   2,   3,   4,   5,   6,   7,   8,   9,  10,  11,  12,\n",
       "        13,  14,  15,  16,  17,  18,  19,  20,  21,  22,  23,  24,  25,\n",
       "        26,  27,  28,  29,  30,  31,  32,  33,  34,  35,  36,  37,  38,\n",
       "        39,  40,  41,  42,  43,  44,  45,  46,  47,  48,  49,  50,  51,\n",
       "        52,  53,  54,  55,  56,  57,  58,  59,  60,  61,  62,  63,  64,\n",
       "        65,  66,  67,  68,  69,  70,  71,  72,  73,  74,  75,  76,  77,\n",
       "        78,  79,  80,  81,  82,  83,  84,  85,  86,  87,  88,  89,  90,\n",
       "        91,  92,  93,  94,  95,  96,  97,  98,  99, 100, 101, 102, 103,\n",
       "       104, 105, 106, 107, 108, 109, 110, 111, 112, 113, 114, 115, 116,\n",
       "       117, 118, 119, 120, 121, 122, 123, 124, 125, 126, 127, 128, 129,\n",
       "       130, 131, 132, 133, 134, 135, 136, 137, 138, 139, 140, 141, 142,\n",
       "       143, 144, 145, 146, 147, 148, 149, 150, 151, 152, 153, 154, 155,\n",
       "       156, 157, 158, 159, 160, 161, 162, 163, 164, 165, 166, 167, 168,\n",
       "       169, 170, 171, 172, 173, 174, 175, 176, 177, 178, 179, 180, 181,\n",
       "       182, 183, 184, 185, 186, 187, 188, 189, 190, 191, 192, 193, 194,\n",
       "       195, 196, 197, 198, 199, 200, 201, 202, 203, 204, 205, 206, 207,\n",
       "       208, 209, 210, 211, 212, 213, 214, 215, 216, 217, 218, 219, 220,\n",
       "       221, 222, 223, 224, 225, 226, 227, 228, 229, 230, 231, 232, 233,\n",
       "       234, 235, 236, 237, 238, 239, 240, 241, 242, 243, 244, 245, 246,\n",
       "       247, 248, 249, 250, 251, 252, 253, 254, 255, 256, 257, 258, 259,\n",
       "       260, 261, 262, 263, 264, 265, 266, 267, 268, 269, 270, 271, 272,\n",
       "       273, 274, 275, 276, 277, 278, 279, 280, 281, 282, 283, 284, 285,\n",
       "       286, 287, 288, 289, 290, 291, 292, 293, 294, 295, 296, 297, 298,\n",
       "       299, 300, 301, 302, 303, 304, 305, 306, 307, 308, 309, 310, 311,\n",
       "       312, 313, 314, 315, 316, 317, 318, 319, 320, 321, 322, 323, 324,\n",
       "       325, 326, 327, 328, 329, 330, 331, 332, 333, 334, 335, 336, 337,\n",
       "       338, 339, 340, 341, 342, 343, 344, 345, 346, 347, 348, 349, 350,\n",
       "       351, 352, 353, 354, 355, 356, 357, 358, 359, 360, 361, 362, 363,\n",
       "       364, 365, 366, 367, 368, 369, 370, 371, 372, 373, 374, 375, 376,\n",
       "       377, 378, 379, 380, 381, 382, 383, 384, 385, 386, 387, 388, 389,\n",
       "       390, 391, 392, 393, 394, 395, 396, 397, 398, 399, 400, 401, 402,\n",
       "       403, 404, 405, 406, 407, 408, 409, 410, 411, 412, 413, 414, 415,\n",
       "       416, 417, 418, 419, 420, 421, 422, 423, 424, 425, 426, 427, 428,\n",
       "       429, 430, 431, 432, 433, 434, 435, 436, 437, 438, 439, 694, 695,\n",
       "       696, 697, 698, 699, 700, 701, 702, 703, 704, 705, 706, 707, 708,\n",
       "       709, 710, 711, 712, 713, 714, 715, 716, 717, 718, 719, 720, 721,\n",
       "       722, 723, 724, 725, 726, 727, 728, 729, 730, 731, 732, 733, 734,\n",
       "       735, 736, 737, 738, 739, 740, 741, 742, 743, 744, 745, 746, 747,\n",
       "       748, 749, 750, 751, 752, 753, 754, 755, 756, 757, 758, 759, 760,\n",
       "       761, 762, 763, 764, 765, 766, 767, 768, 769, 770, 771, 772, 773,\n",
       "       774, 775, 776, 777, 778, 779, 780, 781, 782, 783, 784, 785, 786,\n",
       "       787, 788, 789, 790, 791, 792, 793, 794, 971, 972, 973, 974, 975,\n",
       "       976, 977, 978, 979, 980, 981, 982, 983, 984, 985, 986, 987, 988,\n",
       "       989, 990, 991, 992, 993, 994, 995, 996, 997, 998, 999])"
      ]
     },
     "execution_count": 51,
     "metadata": {},
     "output_type": "execute_result"
    }
   ],
   "source": [
    "\n",
    "x_ ,= np.where(f<0)\n"
   ]
  },
  {
   "cell_type": "code",
   "execution_count": 16,
   "metadata": {},
   "outputs": [
    {
     "data": {
      "text/plain": [
       "0.833749263077023"
      ]
     },
     "execution_count": 16,
     "metadata": {},
     "output_type": "execute_result"
    }
   ],
   "source": [
    "np.abs(Z2)"
   ]
  },
  {
   "cell_type": "code",
   "execution_count": null,
   "metadata": {},
   "outputs": [],
   "source": [
    "for index in range(1,50000,5000):\n",
    "    num_bin = 50\n",
    "    bins = np.linspace(0,2*np.pi,num_bin+1)\n",
    "    bin_ = np.linspace(0,2*np.pi,num_bin)\n",
    "    cs1,_ = np.histogram(sol[-index,:N1]%(np.pi*2),bins=bins,density=True)\n",
    "    cs2,_ = np.histogram(sol[-index,N1:]%(np.pi*2),bins=bins,density=True)\n",
    "    cs1 = cs1 / np.max(cs1)\n",
    "    cs2 = cs2 / np.max(cs2)\n",
    "\n",
    "\n",
    "    bottom = 1\n",
    "    max_height = 2\n",
    "    radii1 = max_height*cs1\n",
    "    radii2 = max_height*cs2\n",
    "    width = (2*np.pi) / num_bin\n",
    "\n",
    "    ax = plt.subplot(111, polar=True)\n",
    "    bars1 = ax.bar(bin_, radii1, width=width, bottom=bottom)\n",
    "    # bars2 = ax.bar(bin_, radii2, width=width, bottom=bottom)\n",
    "\n",
    "    # Use custom colors and opacity\n",
    "    for r, bar in zip(radii1, bars1):\n",
    "        bar.set_facecolor(plt.cm.jet(r/5))\n",
    "        bar.set_alpha(0.8)\n",
    "\n",
    "    # for r, bar in zip(radii2, bars2):\n",
    "    #     bar.set_facecolor(plt.cm.jet_r(r/5))\n",
    "    #     bar.set_alpha(0.8)\n",
    "\n",
    "    plt.show()"
   ]
  }
 ],
 "metadata": {
  "kernelspec": {
   "display_name": "Python 3",
   "language": "python",
   "name": "python3"
  },
  "language_info": {
   "codemirror_mode": {
    "name": "ipython",
    "version": 3
   },
   "file_extension": ".py",
   "mimetype": "text/x-python",
   "name": "python",
   "nbconvert_exporter": "python",
   "pygments_lexer": "ipython3",
   "version": "3.11.1"
  }
 },
 "nbformat": 4,
 "nbformat_minor": 2
}
