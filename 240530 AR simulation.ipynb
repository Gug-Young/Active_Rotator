{
 "cells": [
  {
   "cell_type": "code",
   "execution_count": 1,
   "metadata": {},
   "outputs": [],
   "source": [
    "import numpy as np\n",
    "import matplotlib.pyplot as plt\n",
    "from numba import jit\n",
    "from tqdm.notebook import tqdm"
   ]
  },
  {
   "cell_type": "code",
   "execution_count": 4,
   "metadata": {},
   "outputs": [],
   "source": [
    "@jit(nopython = True)\n",
    "def RKHG(f,y0,t,D,args=()):\n",
    "    n = len(t)\n",
    "    size = len(y0)\n",
    "    y = np.zeros((n, size))\n",
    "    y[0] = y0\n",
    "    h = t[1] - t[0]\n",
    "    sh = np.sqrt(h)\n",
    "    for i in range(n - 1):\n",
    "        S = np.random.choice(np.array([-1,1]),size=size)\n",
    "        dW = np.random.normal(0,sh,size)\n",
    "        k1 = h*f(y[i],t[i],*args) + (dW - S*sh)*D\n",
    "        k2 = h*f(y[i]+k1,t[i]+h,*args) + (dW + S*sh)*D\n",
    "        y[i+1] = y[i] + 0.5*(k1+k2)\n",
    "    return y"
   ]
  },
  {
   "cell_type": "code",
   "execution_count": 5,
   "metadata": {},
   "outputs": [],
   "source": [
    "@jit(nopython=True)\n",
    "def get_order_parameter(theta,N):\n",
    "    ''' get theta and return r and theta'''\n",
    "    rpsi = 1/N*np.sum(np.exp(1j*theta))\n",
    "    r = np.abs(rpsi)\n",
    "    psi = np.angle(rpsi)\n",
    "    return r,psi\n",
    "\n",
    "@jit(nopython=True)\n",
    "def Kuramoto_mf_AR(Theta,t,omega,N,K,b):\n",
    "    # print(\"Case m = 0\")\n",
    "    Theta = Theta.copy()\n",
    "    theta = Theta[:N]\n",
    "    r,psi = get_order_parameter(theta,N)\n",
    "    dtheta = omega + K*r*np.sin(psi - theta) - b*np.sin(theta)\n",
    "    Theta[:N] = dtheta\n",
    "    return Theta"
   ]
  },
  {
   "cell_type": "code",
   "execution_count": 7,
   "metadata": {},
   "outputs": [],
   "source": [
    "N = 100\n",
    "theta_random = np.random.uniform(0,2*np.pi,N)\n",
    "omega = 1"
   ]
  },
  {
   "cell_type": "code",
   "execution_count": 8,
   "metadata": {},
   "outputs": [
    {
     "data": {
      "text/plain": [
       "<matplotlib.legend.Legend at 0x1380fd310>"
      ]
     },
     "execution_count": 8,
     "metadata": {},
     "output_type": "execute_result"
    },
    {
     "data": {
      "image/png": "[encoded data removed]",
      "text/plain": [
       "<Figure size 640x480 with 1 Axes>"
      ]
     },
     "metadata": {},
     "output_type": "display_data"
    }
   ],
   "source": [
    "K = 1\n",
    "t_end = 500\n",
    "dt = 0.1\n",
    "t = np.arange(0, t_end+dt/2, dt)\n",
    "# D = MAX_D\n",
    "# D = 0.6\n",
    "\n",
    "D=0.4\n",
    "b=1.05\n",
    "\n",
    "# Ds =np.linspace(0.4,0.7,20)\n",
    "# chis = []\n",
    "# d_rsigma = []\n",
    "sol = RKHG(Kuramoto_mf_AR,theta_random,t,D, args=(omega, N, K,b))\n",
    "# sol = RKHG(Kuramoto_AR,theta_random,t,D, args=(omega, N, K,b))\n",
    "th = 0\n",
    "theta_s = sol[th:,:N]\n",
    "rabs = np.mean(np.exp(theta_s.T*1j),axis=0)\n",
    "# rabs = rabs_[len(t)//2:]\n",
    "r = np.abs(rabs)\n",
    "r_mean = np.mean(r[-len(r)//2:])\n",
    "sigma_phi = np.mean(rabs[-len(r)//2:])\n",
    "sigma = np.abs(sigma_phi)\n",
    "psi = np.angle(sigma_phi)\n",
    "chi = np.mean(np.abs(rabs-sigma_phi)**2)*N\n",
    "\n",
    "\n",
    "\n",
    "A = (sol+np.pi)%(2*np.pi) - np.pi\n",
    "bins = np.linspace(-np.pi,np.pi,100)\n",
    "\n",
    "# plt.axes(polar=True)\n",
    "plt.hist(np.angle(rabs[len(r)//2:]),bins=bins, histtype='step', stacked=True, fill=False,label='high degree',density=True)\n",
    "\n",
    "plt.hist(A[len(A)//2:,:50].flatten(),bins=bins, histtype='step', stacked=True, fill=False,label='high degree',density=True)\n",
    "plt.hist(A[len(A)//2:,-50:].flatten(),bins=bins, histtype='step', stacked=True, fill=False,label='low degree',density=True)\n",
    "plt.legend()"
   ]
  },
  {
   "cell_type": "code",
   "execution_count": 12,
   "metadata": {},
   "outputs": [
    {
     "data": {
      "text/plain": [
       "[<matplotlib.lines.Line2D at 0x16c534a90>,\n",
       " <matplotlib.lines.Line2D at 0x16c5d3210>,\n",
       " <matplotlib.lines.Line2D at 0x16c5d3510>,\n",
       " <matplotlib.lines.Line2D at 0x16c5d38d0>,\n",
       " <matplotlib.lines.Line2D at 0x16c5d3b90>,\n",
       " <matplotlib.lines.Line2D at 0x16c5e0150>,\n",
       " <matplotlib.lines.Line2D at 0x16c5e0590>,\n",
       " <matplotlib.lines.Line2D at 0x16c5e0950>,\n",
       " <matplotlib.lines.Line2D at 0x16c5d3cd0>,\n",
       " <matplotlib.lines.Line2D at 0x16c5e1110>,\n",
       " <matplotlib.lines.Line2D at 0x1382b8110>,\n",
       " <matplotlib.lines.Line2D at 0x16c5e14d0>,\n",
       " <matplotlib.lines.Line2D at 0x16c5e15d0>,\n",
       " <matplotlib.lines.Line2D at 0x16c5d3390>,\n",
       " <matplotlib.lines.Line2D at 0x16c5e2010>,\n",
       " <matplotlib.lines.Line2D at 0x16c5e2390>,\n",
       " <matplotlib.lines.Line2D at 0x13db68690>,\n",
       " <matplotlib.lines.Line2D at 0x13833abd0>,\n",
       " <matplotlib.lines.Line2D at 0x16c5e2f50>,\n",
       " <matplotlib.lines.Line2D at 0x14f79b2d0>,\n",
       " <matplotlib.lines.Line2D at 0x16c5e3550>,\n",
       " <matplotlib.lines.Line2D at 0x16c5e3910>,\n",
       " <matplotlib.lines.Line2D at 0x16c5e3c90>,\n",
       " <matplotlib.lines.Line2D at 0x16c5e4190>,\n",
       " <matplotlib.lines.Line2D at 0x16c5e4410>,\n",
       " <matplotlib.lines.Line2D at 0x16c5e47d0>,\n",
       " <matplotlib.lines.Line2D at 0x16c5bcc90>,\n",
       " <matplotlib.lines.Line2D at 0x16c5e4f10>,\n",
       " <matplotlib.lines.Line2D at 0x16c5e52d0>,\n",
       " <matplotlib.lines.Line2D at 0x16c5bd790>,\n",
       " <matplotlib.lines.Line2D at 0x16c5bf4d0>,\n",
       " <matplotlib.lines.Line2D at 0x16c5e5d90>,\n",
       " <matplotlib.lines.Line2D at 0x16c5e62d0>,\n",
       " <matplotlib.lines.Line2D at 0x16c5e64d0>,\n",
       " <matplotlib.lines.Line2D at 0x16c5e6850>,\n",
       " <matplotlib.lines.Line2D at 0x12fcc6cd0>,\n",
       " <matplotlib.lines.Line2D at 0x16c5e6f50>,\n",
       " <matplotlib.lines.Line2D at 0x16c5e7310>,\n",
       " <matplotlib.lines.Line2D at 0x16c5e76d0>,\n",
       " <matplotlib.lines.Line2D at 0x16c5e7a90>,\n",
       " <matplotlib.lines.Line2D at 0x16c5bff50>,\n",
       " <matplotlib.lines.Line2D at 0x1382f2cd0>,\n",
       " <matplotlib.lines.Line2D at 0x14f7aa850>,\n",
       " <matplotlib.lines.Line2D at 0x1382b0a10>,\n",
       " <matplotlib.lines.Line2D at 0x16c5e8c90>,\n",
       " <matplotlib.lines.Line2D at 0x14f7abf90>,\n",
       " <matplotlib.lines.Line2D at 0x16c5d14d0>,\n",
       " <matplotlib.lines.Line2D at 0x16c5d3690>,\n",
       " <matplotlib.lines.Line2D at 0x16c5e9ad0>,\n",
       " <matplotlib.lines.Line2D at 0x1382c3150>,\n",
       " <matplotlib.lines.Line2D at 0x16c5ea210>,\n",
       " <matplotlib.lines.Line2D at 0x16c5ea5d0>,\n",
       " <matplotlib.lines.Line2D at 0x13db6aa90>,\n",
       " <matplotlib.lines.Line2D at 0x16c5ead10>,\n",
       " <matplotlib.lines.Line2D at 0x14f79b1d0>,\n",
       " <matplotlib.lines.Line2D at 0x16c5e1b90>,\n",
       " <matplotlib.lines.Line2D at 0x16c5b38d0>,\n",
       " <matplotlib.lines.Line2D at 0x16c5e1290>,\n",
       " <matplotlib.lines.Line2D at 0x16c5ebf50>,\n",
       " <matplotlib.lines.Line2D at 0x16c5bed50>,\n",
       " <matplotlib.lines.Line2D at 0x16c5ec610>,\n",
       " <matplotlib.lines.Line2D at 0x16c5ec9d0>,\n",
       " <matplotlib.lines.Line2D at 0x16c5be050>,\n",
       " <matplotlib.lines.Line2D at 0x16c5ed110>,\n",
       " <matplotlib.lines.Line2D at 0x16c5ed4d0>,\n",
       " <matplotlib.lines.Line2D at 0x16c5ed890>,\n",
       " <matplotlib.lines.Line2D at 0x16c5edc50>,\n",
       " <matplotlib.lines.Line2D at 0x16c5ee010>,\n",
       " <matplotlib.lines.Line2D at 0x1380064d0>,\n",
       " <matplotlib.lines.Line2D at 0x16c5ee750>,\n",
       " <matplotlib.lines.Line2D at 0x16c5ee850>,\n",
       " <matplotlib.lines.Line2D at 0x16c5bef90>,\n",
       " <matplotlib.lines.Line2D at 0x16c5ef210>,\n",
       " <matplotlib.lines.Line2D at 0x16c5ef5d0>,\n",
       " <matplotlib.lines.Line2D at 0x13db0fa90>,\n",
       " <matplotlib.lines.Line2D at 0x138217e10>,\n",
       " <matplotlib.lines.Line2D at 0x14f7bc1d0>,\n",
       " <matplotlib.lines.Line2D at 0x13d9ec550>,\n",
       " <matplotlib.lines.Line2D at 0x16c5e48d0>,\n",
       " <matplotlib.lines.Line2D at 0x16c5bcc50>,\n",
       " <matplotlib.lines.Line2D at 0x1382e4fd0>,\n",
       " <matplotlib.lines.Line2D at 0x16c5f53d0>,\n",
       " <matplotlib.lines.Line2D at 0x14f7b56d0>,\n",
       " <matplotlib.lines.Line2D at 0x16c5f5ad0>,\n",
       " <matplotlib.lines.Line2D at 0x16c5f5cd0>,\n",
       " <matplotlib.lines.Line2D at 0x14f7bcf90>,\n",
       " <matplotlib.lines.Line2D at 0x16c5ee4d0>,\n",
       " <matplotlib.lines.Line2D at 0x16c5f6750>,\n",
       " <matplotlib.lines.Line2D at 0x16c5eebd0>,\n",
       " <matplotlib.lines.Line2D at 0x16c5f6e50>,\n",
       " <matplotlib.lines.Line2D at 0x16c5f71d0>,\n",
       " <matplotlib.lines.Line2D at 0x16c5f7590>,\n",
       " <matplotlib.lines.Line2D at 0x16c5f7950>,\n",
       " <matplotlib.lines.Line2D at 0x16c5f7cd0>,\n",
       " <matplotlib.lines.Line2D at 0x16c6000d0>,\n",
       " <matplotlib.lines.Line2D at 0x16c600450>,\n",
       " <matplotlib.lines.Line2D at 0x16c600810>,\n",
       " <matplotlib.lines.Line2D at 0x16c600bd0>,\n",
       " <matplotlib.lines.Line2D at 0x16c5c1050>,\n",
       " <matplotlib.lines.Line2D at 0x16c6012d0>]"
      ]
     },
     "execution_count": 12,
     "metadata": {},
     "output_type": "execute_result"
    },
    {
     "data": {
      "image/png": "[encoded data removed]",
      "text/plain": [
       "<Figure size 640x480 with 1 Axes>"
      ]
     },
     "metadata": {},
     "output_type": "display_data"
    }
   ],
   "source": [
    "plt.plot(np.floor_divide(sol,2*np.pi))"
   ]
  },
  {
   "cell_type": "code",
   "execution_count": null,
   "metadata": {},
   "outputs": [],
   "source": []
  }
 ],
 "metadata": {
  "kernelspec": {
   "display_name": "Python 3",
   "language": "python",
   "name": "python3"
  },
  "language_info": {
   "codemirror_mode": {
    "name": "ipython",
    "version": 3
   },
   "file_extension": ".py",
   "mimetype": "text/x-python",
   "name": "python",
   "nbconvert_exporter": "python",
   "pygments_lexer": "ipython3",
   "version": "3.11.1"
  }
 },
 "nbformat": 4,
 "nbformat_minor": 2
}
