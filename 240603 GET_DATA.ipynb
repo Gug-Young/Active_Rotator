{
 "cells": [
  {
   "cell_type": "markdown",
   "metadata": {},
   "source": [
    "# ER NETWORK"
   ]
  },
  {
   "cell_type": "code",
   "execution_count": 1,
   "metadata": {},
   "outputs": [],
   "source": [
    "from To_sim.for_multi import get_r_sigma_Z\n",
    "import numpy as np\n",
    "\n",
    "\n",
    "from To_sim.for_multi import get_r_sigma_Z_MF\n",
    "import numpy as np\n",
    "import parmap\n",
    "from tqdm.notebook import tqdm\n",
    "import networkx as nx\n",
    "import matplotlib.pyplot as plt\n",
    "N = 1000\n",
    "omega = 1"
   ]
  },
  {
   "cell_type": "code",
   "execution_count": 18,
   "metadata": {},
   "outputs": [],
   "source": [
    "# 초기 네트워크 생성 파라미터 설정\n",
    "num_nodes = 1000\n",
    "p = 6 / (num_nodes - 1)\n",
    "\n",
    "def generate_network(num_nodes, p):\n",
    "    while True:\n",
    "        # ER 네트워크 생성\n",
    "        G = nx.erdos_renyi_graph(num_nodes, p)\n",
    "        \n",
    "        # 외부 링크가 없는 노드 제거\n",
    "        G.remove_nodes_from(list(nx.isolates(G)))\n",
    "        \n",
    "        # 노드 수가 1000개가 되면 종료\n",
    "        if len(G.nodes()) == num_nodes:\n",
    "            break\n",
    "    \n",
    "    return G\n",
    "\n",
    "# 네트워크 생성\n",
    "G = generate_network(num_nodes, p)"
   ]
  },
  {
   "cell_type": "code",
   "execution_count": 19,
   "metadata": {},
   "outputs": [
    {
     "name": "stdout",
     "output_type": "stream",
     "text": [
      "6.11\n"
     ]
    },
    {
     "name": "stderr",
     "output_type": "stream",
     "text": [
      "/var/folders/lj/v2s5sd8n1cv2xdh0yw2kf0x00000gn/T/ipykernel_24360/3818068186.py:1: FutureWarning: adjacency_matrix will return a scipy.sparse array instead of a matrix in Networkx 3.0.\n",
      "  A = nx.adjacency_matrix(G)\n"
     ]
    }
   ],
   "source": [
    "A = nx.adjacency_matrix(G)\n",
    "Aij = A.todense()\n",
    "Deg = Aij.sum(axis=1)\n",
    "DegT = Deg.reshape(-1,1)\n",
    "mk = Deg.mean()\n",
    "print(mk)"
   ]
  },
  {
   "cell_type": "code",
   "execution_count": 22,
   "metadata": {},
   "outputs": [],
   "source": [
    "K = 5\n",
    "t_end = 200\n",
    "dt = 0.1\n",
    "t = np.arange(0, t_end+dt/2, dt)"
   ]
  },
  {
   "cell_type": "code",
   "execution_count": 23,
   "metadata": {},
   "outputs": [
    {
     "data": {
      "text/plain": [
       "(31, 19)"
      ]
     },
     "execution_count": 23,
     "metadata": {},
     "output_type": "execute_result"
    }
   ],
   "source": [
    "seed =0 \n",
    "\n",
    "db = 0.04\n",
    "Ds = np.linspace(0,K*0.8,31)\n",
    "bs = np.arange(0,1+0.1*K+db/2,db*2)\n",
    "len(Ds), len(bs)"
   ]
  },
  {
   "cell_type": "code",
   "execution_count": null,
   "metadata": {},
   "outputs": [],
   "source": [
    "Aij = A.todense()\n",
    "Deg = Aij.sum(axis=1)\n",
    "DegT = Deg.reshape(-1,1)\n",
    "mk = Deg.mean()\n",
    "\n",
    "np.random.seed(seed)\n",
    "theta_random = np.random.uniform(0,2*np.pi,N)\n",
    "\n",
    "th = len(t)//2\n",
    "D_rij = []\n",
    "D_sigmaij = []\n",
    "D_chiij = []\n",
    "for D in tqdm(Ds):\n",
    "    D_rs = []\n",
    "    D_sigmas = []    \n",
    "    D_chis = []\n",
    "    for r_m,sigma,chi in parmap.map(get_r_sigma_Z,bs,theta_random,t,D,omega,N,K,mk,Aij,pm_pbar=False, pm_processes=10):\n",
    "        D_rs.append(r_m)\n",
    "        D_sigmas.append(sigma)\n",
    "        D_chis.append(chi)\n",
    "    D_rij.append(D_rs)\n",
    "    D_sigmaij.append(D_sigmas)\n",
    "    D_chiij.append(D_chis)      \n",
    "\n",
    "D_rij = np.array(D_rij)\n",
    "D_sigmaij = np.array(D_sigmaij)\n",
    "D_chiij = np.array(D_chiij)\n",
    "np.savez(f'DATA/ER N = {N} mk = {mk} db={db} K = {K} {seed:03d}',Ds=Ds,bs=bs,D_mrij=D_rij,D_sij = D_sigmaij,D_chiij=D_chiij,G = G)\n",
    "CS  = plt.pcolormesh(Ds,bs,abs(D_chiij).T)\n",
    "plt.show()"
   ]
  },
  {
   "cell_type": "markdown",
   "metadata": {},
   "source": [
    "# SF DATA"
   ]
  },
  {
   "cell_type": "code",
   "execution_count": null,
   "metadata": {},
   "outputs": [],
   "source": [
    "m = 3\n",
    "G = nx.barabasi_albert_graph(N,m)\n",
    "A = nx.adjacency_matrix(G)\n",
    "Aij = A.todense()\n",
    "Deg = Aij.sum(axis=1)\n",
    "DegT = Deg.reshape(-1,1)\n",
    "mk = Deg.mean()\n",
    "th = len(t)//2\n",
    "\n",
    "D_rij = []\n",
    "D_sigmaij = []\n",
    "D_chiij = []\n",
    "for D in tqdm(Ds):\n",
    "    D_rs = []\n",
    "    D_sigmas = []    \n",
    "    D_chis = []\n",
    "    for r_m,sigma,chi in parmap.map(get_r_sigma_Z,bs,theta_random,t,D,omega,N,K,mk,Aij,pm_pbar=False, pm_processes=8):\n",
    "        D_rs.append(r_m)\n",
    "        D_sigmas.append(sigma)\n",
    "        D_chis.append(chi)\n",
    "    D_rij.append(D_rs)\n",
    "    D_sigmaij.append(D_sigmas)\n",
    "    D_chiij.append(D_chis)\n",
    "\n",
    "D_rij = np.array(D_rij)\n",
    "D_sigmaij = np.array(D_sigmaij)\n",
    "D_chiij = np.array(D_chiij)\n",
    "np.savez(f'DATA/SF N = {N} m = {m} db={db} {seed:03d}',Ds=Ds,bs=bs,D_mrij=D_rij,D_sij = D_sigmaij,D_chiij=D_chiij,G = G)\n",
    "CS  = plt.pcolormesh(2*Ds,bs,abs(D_chiij).T)\n",
    "plt.title(f'm={m}')\n",
    "plt.show()"
   ]
  }
 ],
 "metadata": {
  "kernelspec": {
   "display_name": "Python 3",
   "language": "python",
   "name": "python3"
  },
  "language_info": {
   "codemirror_mode": {
    "name": "ipython",
    "version": 3
   },
   "file_extension": ".py",
   "mimetype": "text/x-python",
   "name": "python",
   "nbconvert_exporter": "python",
   "pygments_lexer": "ipython3",
   "version": "3.11.1"
  }
 },
 "nbformat": 4,
 "nbformat_minor": 2
}
