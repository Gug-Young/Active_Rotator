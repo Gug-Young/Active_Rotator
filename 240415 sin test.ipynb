{
 "cells": [
  {
   "cell_type": "code",
   "execution_count": 1,
   "metadata": {},
   "outputs": [],
   "source": [
    "from sympy import *"
   ]
  },
  {
   "cell_type": "code",
   "execution_count": 30,
   "metadata": {},
   "outputs": [],
   "source": [
    "i,j,k,K,theta,r = symbols('i j k K theta r')"
   ]
  },
  {
   "cell_type": "code",
   "execution_count": 3,
   "metadata": {},
   "outputs": [
    {
     "data": {
      "text/latex": [
       "$\\displaystyle 2 \\sin{\\left(- 2 i + j + k \\right)} + \\sin{\\left(i + j - 2 k \\right)}$"
      ],
      "text/plain": [
       "2*sin(-2*i + j + k) + sin(i + j - 2*k)"
      ]
     },
     "execution_count": 3,
     "metadata": {},
     "output_type": "execute_result"
    }
   ],
   "source": [
    "sin(i+j-2*k) + sin(j+k-2*i) + sin(k+j - 2*i)"
   ]
  },
  {
   "cell_type": "code",
   "execution_count": 22,
   "metadata": {},
   "outputs": [],
   "source": [
    "A = 0\n",
    "for x in [i,j,k]:\n",
    "    for y in [i,j,k]:\n",
    "        if len(set([x,y,i]))==3:\n",
    "            A += sin(2*x-y-i)"
   ]
  },
  {
   "cell_type": "code",
   "execution_count": 27,
   "metadata": {},
   "outputs": [],
   "source": [
    "B = 0\n",
    "C = 0\n",
    "for x in [i,j,k]:\n",
    "    for y in [i,j,k]:\n",
    "        if len(set([x,y,i]))==3:\n",
    "            B += sin(x+y-2*i)\n",
    "        elif len(set([x,y,i])) == 2:\n",
    "            C += sin(x+y-2*i)\n",
    "            "
   ]
  },
  {
   "cell_type": "code",
   "execution_count": 28,
   "metadata": {},
   "outputs": [
    {
     "data": {
      "text/latex": [
       "$\\displaystyle - 2 \\sin{\\left(i - j \\right)} - 2 \\sin{\\left(i - k \\right)} - \\sin{\\left(2 i - 2 j \\right)} - \\sin{\\left(2 i - 2 k \\right)}$"
      ],
      "text/plain": [
       "-2*sin(i - j) - 2*sin(i - k) - sin(2*i - 2*j) - sin(2*i - 2*k)"
      ]
     },
     "execution_count": 28,
     "metadata": {},
     "output_type": "execute_result"
    }
   ],
   "source": [
    "C"
   ]
  },
  {
   "cell_type": "code",
   "execution_count": 24,
   "metadata": {},
   "outputs": [
    {
     "data": {
      "text/latex": [
       "$\\displaystyle - \\sin{\\left(i - 2 j + k \\right)} - \\sin{\\left(i + j - 2 k \\right)}$"
      ],
      "text/plain": [
       "-sin(i - 2*j + k) - sin(i + j - 2*k)"
      ]
     },
     "execution_count": 24,
     "metadata": {},
     "output_type": "execute_result"
    }
   ],
   "source": [
    "A.simplify()"
   ]
  },
  {
   "cell_type": "code",
   "execution_count": 26,
   "metadata": {},
   "outputs": [
    {
     "data": {
      "text/latex": [
       "$\\displaystyle - \\sin{\\left(2 i - 2 j \\right)} - \\sin{\\left(2 i - 2 k \\right)} - \\sin{\\left(i - 2 j + k \\right)} - \\sin{\\left(i + j - 2 k \\right)}$"
      ],
      "text/plain": [
       "-sin(2*i - 2*j) - sin(2*i - 2*k) - sin(i - 2*j + k) - sin(i + j - 2*k)"
      ]
     },
     "execution_count": 26,
     "metadata": {},
     "output_type": "execute_result"
    }
   ],
   "source": [
    "B"
   ]
  },
  {
   "cell_type": "code",
   "execution_count": 32,
   "metadata": {},
   "outputs": [],
   "source": [
    "K,theta,r1,r2,N,psi1,psi2 = symbols('K theta r1 r2 N psi1 psi2')"
   ]
  },
  {
   "cell_type": "code",
   "execution_count": 53,
   "metadata": {},
   "outputs": [],
   "source": [
    "A = K*r1**2*E**(I*(2*psi1 - 2*theta)) - 2*K*r1/N*E**(I*(psi1-theta)) - K/N*r2*E**(I*(psi2-2*theta))"
   ]
  },
  {
   "cell_type": "code",
   "execution_count": 58,
   "metadata": {},
   "outputs": [
    {
     "data": {
      "text/latex": [
       "$\\displaystyle \\frac{K \\left(N r_{1}^{2} e^{2 i \\psi_{1}} - 2 r_{1} e^{i \\left(\\psi_{1} + \\theta\\right)} - r_{2} e^{i \\psi_{2}}\\right)}{N}$"
      ],
      "text/plain": [
       "K*(N*r1**2*exp(2*I*psi1) - 2*r1*exp(I*(psi1 + theta)) - r2*exp(I*psi2))/N"
      ]
     },
     "execution_count": 58,
     "metadata": {},
     "output_type": "execute_result"
    }
   ],
   "source": [
    "(A*E**(2*I*theta)).simplify()"
   ]
  },
  {
   "cell_type": "code",
   "execution_count": 2,
   "metadata": {},
   "outputs": [],
   "source": [
    "K2, A ,Z1, Z2, N, ET = symbols('K2 A Z1 Z2 N ET ')"
   ]
  },
  {
   "cell_type": "code",
   "execution_count": 6,
   "metadata": {},
   "outputs": [
    {
     "data": {
      "text/latex": [
       "$\\displaystyle \\frac{A ET K_{2} \\left(ET \\left(N Z_{1}^{2} - Z_{2}\\right) - 2 Z_{1}\\right)}{N}$"
      ],
      "text/plain": [
       "A*ET*K2*(ET*(N*Z1**2 - Z2) - 2*Z1)/N"
      ]
     },
     "execution_count": 6,
     "metadata": {},
     "output_type": "execute_result"
    }
   ],
   "source": [
    "((((K2*A*(Z1**2-Z2/N))*ET - (2*K2*Z1*A/N)))*ET).simplify()"
   ]
  },
  {
   "cell_type": "code",
   "execution_count": 9,
   "metadata": {},
   "outputs": [
    {
     "data": {
      "text/latex": [
       "$\\displaystyle \\frac{A ET K_{2} \\left(ET \\left(N Z_{1}^{2} - Z_{2}\\right) - 2 Z_{1}\\right)}{N}$"
      ],
      "text/plain": [
       "A*ET*K2*(ET*(N*Z1**2 - Z2) - 2*Z1)/N"
      ]
     },
     "execution_count": 9,
     "metadata": {},
     "output_type": "execute_result"
    }
   ],
   "source": [
    "((K2*A*(Z1**2-Z2/N))*ET*ET -2*K2*A/N*Z1*ET) .simplify()"
   ]
  },
  {
   "cell_type": "code",
   "execution_count": 10,
   "metadata": {},
   "outputs": [],
   "source": [
    "a,b,c,d,e = symbols('a b c d e')"
   ]
  },
  {
   "cell_type": "code",
   "execution_count": 12,
   "metadata": {},
   "outputs": [
    {
     "data": {
      "text/latex": [
       "$\\displaystyle a^{2} + 2 a b + 2 a c + 2 a d + 2 a e + b^{2} + 2 b c + 2 b d + 2 b e + c^{2} + 2 c d + 2 c e + d^{2} + 2 d e + e^{2}$"
      ],
      "text/plain": [
       "a**2 + 2*a*b + 2*a*c + 2*a*d + 2*a*e + b**2 + 2*b*c + 2*b*d + 2*b*e + c**2 + 2*c*d + 2*c*e + d**2 + 2*d*e + e**2"
      ]
     },
     "execution_count": 12,
     "metadata": {},
     "output_type": "execute_result"
    }
   ],
   "source": [
    "expand(((a+b+c+d+e)**2))"
   ]
  },
  {
   "cell_type": "code",
   "execution_count": null,
   "metadata": {},
   "outputs": [],
   "source": []
  }
 ],
 "metadata": {
  "kernelspec": {
   "display_name": "Python 3",
   "language": "python",
   "name": "python3"
  },
  "language_info": {
   "codemirror_mode": {
    "name": "ipython",
    "version": 3
   },
   "file_extension": ".py",
   "mimetype": "text/x-python",
   "name": "python",
   "nbconvert_exporter": "python",
   "pygments_lexer": "ipython3",
   "version": "3.11.1"
  }
 },
 "nbformat": 4,
 "nbformat_minor": 2
}
