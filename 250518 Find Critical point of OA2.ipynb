{
 "cells": [
  {
   "cell_type": "code",
   "execution_count": 1,
   "metadata": {},
   "outputs": [],
   "source": [
    "import numpy as np\n",
    "import matplotlib.pyplot as plt"
   ]
  },
  {
   "cell_type": "code",
   "execution_count": 2,
   "metadata": {},
   "outputs": [],
   "source": [
    "import sympy as sp\n",
    "import numpy as np\n",
    "import matplotlib.pyplot as plt\n",
    "from scipy.optimize import root_scalar\n",
    "from parfor import parfor\n",
    "from tqdm.notebook import tqdm"
   ]
  },
  {
   "cell_type": "code",
   "execution_count": 3,
   "metadata": {},
   "outputs": [],
   "source": [
    "eta1,eta2,r,phi,alpha,beta = sp.symbols('eta1 eta2 r phi alpha beta',real=True)\n",
    "beta_rp = eta2*r/(eta1*sp.cos(alpha+2*phi))*(-sp.cos(alpha+phi)+sp.sqrt(sp.cos(alpha+phi)**2-sp.cos(alpha)*sp.cos(alpha+2*phi)))\n",
    "beta_rm = eta2*r/(eta1*sp.cos(alpha+2*phi))*(-sp.cos(alpha+phi)-sp.sqrt(sp.cos(alpha+phi)**2-sp.cos(alpha)*sp.cos(alpha+2*phi)))\n",
    "\n",
    "dr = sp.Rational(1,2) *1/ r * (1-r**4)*(eta2**2 * r**2 * sp.cos(alpha) + 2 * beta*eta1*eta2*r*sp.cos(alpha+phi) + beta **2 *eta1**2 * sp.cos(alpha + 2*phi))\n",
    "dpsi2 = - sp.Rational(1,2) *1/r**2 * (1+r**4)*(eta2**2 * r**2 * sp.sin(alpha) + 2 * beta*eta1*eta2*r*sp.sin(alpha+phi) + beta**2 * eta1**2 * sp.sin(alpha+2*phi))\n",
    "dpsi1 = - sp.Rational(1,2) * (2)*(eta1**2 *sp.sin(alpha) + 2 * beta*eta1*eta2*r *sp.sin(alpha-phi) + beta**2 * eta2**2 * r**2 * sp.sin(alpha-2*phi))\n",
    "dphi = dpsi2 - dpsi1\n",
    "sol_rs =  sp.solve(dr,r)"
   ]
  },
  {
   "cell_type": "code",
   "execution_count": 5,
   "metadata": {},
   "outputs": [
    {
     "data": {
      "text/plain": [
       "[-1,\n",
       " 1,\n",
       " beta*eta1*(-cos(alpha + phi) + Abs(sin(phi)))/(eta2*cos(alpha)),\n",
       " -beta*eta1*(cos(alpha + phi) + Abs(sin(phi)))/(eta2*cos(alpha))]"
      ]
     },
     "execution_count": 5,
     "metadata": {},
     "output_type": "execute_result"
    }
   ],
   "source": [
    "sol_rs"
   ]
  },
  {
   "cell_type": "code",
   "execution_count": 6,
   "metadata": {},
   "outputs": [],
   "source": [
    "dr_0eta0 = (beta **2 *eta1**2 * sp.cos(alpha + 2*phi))"
   ]
  },
  {
   "cell_type": "code",
   "execution_count": 10,
   "metadata": {},
   "outputs": [
    {
     "data": {
      "text/plain": [
       "[beta*eta1*(-cos(alpha + phi) + Abs(sin(phi)))/(eta2*cos(alpha)),\n",
       " -beta*eta1*(cos(alpha + phi) + Abs(sin(phi)))/(eta2*cos(alpha))]"
      ]
     },
     "execution_count": 10,
     "metadata": {},
     "output_type": "execute_result"
    }
   ],
   "source": [
    "A = eta2**2 * r**2 * sp.cos(alpha) + 2 * beta*eta1*eta2*r*sp.cos(alpha+phi) + beta **2 *eta1**2 * sp.cos(alpha + 2*phi)\n",
    "sp.solve(A,r)"
   ]
  },
  {
   "cell_type": "code",
   "execution_count": null,
   "metadata": {},
   "outputs": [
    {
     "data": {
      "text/plain": [
       "[]"
      ]
     },
     "metadata": {},
     "output_type": "display_data"
    }
   ],
   "source": [
    "dr_0 = dr.subs(eta2,0)\n",
    "\n",
    "\n",
    "sp.solve(dr_0eta0,phi)"
   ]
  },
  {
   "cell_type": "code",
   "execution_count": null,
   "metadata": {},
   "outputs": [
    {
     "data": {
      "text/latex": [
       "$\\displaystyle - \\frac{\\beta \\eta_{1} \\left(\\cos{\\left(\\alpha + \\phi \\right)} + \\left|{\\sin{\\left(\\phi \\right)}}\\right|\\right)}{\\eta_{2} \\cos{\\left(\\alpha \\right)}}$"
      ],
      "text/plain": [
       "-beta*eta1*(cos(alpha + phi) + Abs(sin(phi)))/(eta2*cos(alpha))"
      ]
     },
     "metadata": {},
     "output_type": "display_data"
    }
   ],
   "source": [
    "sp.solve(dr,r)[4]"
   ]
  },
  {
   "cell_type": "code",
   "execution_count": null,
   "metadata": {},
   "outputs": [
    {
     "data": {
      "text/latex": [
       "$\\displaystyle \\beta^{2} \\eta_{2}^{2} r^{2} \\sin{\\left(\\alpha - 2 \\phi \\right)} + 2 \\beta \\eta_{1} \\eta_{2} r \\sin{\\left(\\alpha - \\phi \\right)} + \\eta_{1}^{2} \\sin{\\left(\\alpha \\right)} + \\left(- \\frac{r^{2}}{2} - \\frac{1}{2}\\right) \\left(\\beta^{2} \\eta_{1}^{2} \\sin{\\left(\\alpha + 2 \\phi \\right)} + 2 \\beta \\eta_{1} \\eta_{2} r \\sin{\\left(\\alpha + \\phi \\right)} + \\eta_{2}^{2} r^{2} \\sin{\\left(\\alpha \\right)}\\right)$"
      ],
      "text/plain": [
       "beta**2*eta2**2*r**2*sin(alpha - 2*phi) + 2*beta*eta1*eta2*r*sin(alpha - phi) + eta1**2*sin(alpha) + (-r**2/2 - 1/2)*(beta**2*eta1**2*sin(alpha + 2*phi) + 2*beta*eta1*eta2*r*sin(alpha + phi) + eta2**2*r**2*sin(alpha))"
      ]
     },
     "metadata": {},
     "output_type": "display_data"
    }
   ],
   "source": [
    "dphi.trigsimp()"
   ]
  }
 ],
 "metadata": {
  "kernelspec": {
   "display_name": "Python 3",
   "language": "python",
   "name": "python3"
  },
  "language_info": {
   "codemirror_mode": {
    "name": "ipython",
    "version": 3
   },
   "file_extension": ".py",
   "mimetype": "text/x-python",
   "name": "python",
   "nbconvert_exporter": "python",
   "pygments_lexer": "ipython3",
   "version": "3.11.9"
  }
 },
 "nbformat": 4,
 "nbformat_minor": 2
}
