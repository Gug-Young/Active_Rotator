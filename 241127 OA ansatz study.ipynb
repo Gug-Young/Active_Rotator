{
 "cells": [
  {
   "cell_type": "code",
   "execution_count": 1,
   "metadata": {},
   "outputs": [],
   "source": [
    "from sympy import *"
   ]
  },
  {
   "cell_type": "code",
   "execution_count": null,
   "metadata": {},
   "outputs": [],
   "source": [
    "H,Hs = symbols('H H^*',complex=True)\n",
    "theta,t,alpha,n,omega,eta = symbols('theta t alpha n omega eta')\n",
    "a = Function('a')('t')\n",
    "a_s = Function('a^*')('t')\n",
    "# b = Function('b')('t')\n",
    "# b_s = Function('b^*')('t')\n",
    "A = Sum((a**n*E**((2*n-1)*I*theta)),(n,1,8)).doit()\n",
    "As = Sum((a_s**n*E**(-(2*n-1)*I*theta)),(n,1,8)).doit()\n",
    "B = Sum((b*E**(2*I*theta))**n,(n,1,8)).doit()\n",
    "Bs = Sum((b_s*E**(-2*I*theta))**n,(n,1,8)).doit()\n",
    "f = 1/(2*pi) * (1+(A+As))#+B+Bs))\n",
    "v = omega + 1/(2*I) * (H*E**(-I*(2*theta+alpha))-Hs*E**(I*(2*theta+alpha)))"
   ]
  },
  {
   "cell_type": "code",
   "execution_count": null,
   "metadata": {},
   "outputs": [],
   "source": [
    "H,Hs = symbols('z_1 z_1^*',complex=True)\n",
    "theta,t,n,K = symbols('theta t n K')\n",
    "alpha,beta,omega,eta = symbols('alpha beta omega eta',real=True)\n",
    "a = Function('alpha')('t')\n",
    "a_s = Function('alpha^*')('t')\n",
    "b = Function('b')('t')\n",
    "b_s = Function('b^*')('t')\n",
    "A = Sum(a**n*exp(n*I*theta),(n,1,5)).doit()\n",
    "As = Sum(a_s**n * exp(-n * I * theta), (n, 1, 5)).doit()\n",
    "B = Sum(b**n*E**(n*I*theta),(n,1,5)).doit()\n",
    "Bs = Sum(b_s**n*E**(-n*I*theta),(n,1,5)).doit()\n",
    "f = 1/(2*pi) * (1+(A+As))#+(1-eta)/2*(B+Bs))\n",
    "# f = 1/(2*pi) * (1+(B+Bs))\n",
    "v = omega + K/(2*I) * (H*E**(-I*(theta))-Hs*E**(I*(theta)))"
   ]
  },
  {
   "cell_type": "code",
   "execution_count": 13,
   "metadata": {},
   "outputs": [],
   "source": [
    "C = together(f.diff(t)+(f*v).diff(theta)).expand()\n",
    "col_ = collect(C,E**(1j*theta))"
   ]
  },
  {
   "cell_type": "code",
   "execution_count": 14,
   "metadata": {},
   "outputs": [
    {
     "name": "stdout",
     "output_type": "stream",
     "text": [
      "- \\frac{3 K r \\left(\\alpha^{*}\\right)^{5}{\\left(t \\right)}}{2 \\pi \\left(e^{1.0 i \\theta}\\right)^{6.0}} - \\frac{3 K r^{*} \\alpha^{5}{\\left(t \\right)} \\left(e^{1.0 i \\theta}\\right)^{6.0}}{2 \\pi} + \\frac{- \\frac{5 K r \\left(\\alpha^{*}\\right)^{4}{\\left(t \\right)}}{4 \\pi} - \\frac{5 i \\omega \\left(\\alpha^{*}\\right)^{5}{\\left(t \\right)}}{2 \\pi} + \\frac{5 \\left(\\alpha^{*}\\right)^{4}{\\left(t \\right)} \\frac{d}{d t} \\alpha^{*}{\\left(t \\right)}}{2 \\pi}}{\\left(e^{1.0 i \\theta}\\right)^{5.0}} + \\left(- \\frac{5 K r^{*} \\alpha^{4}{\\left(t \\right)}}{4 \\pi} + \\frac{5 i \\omega \\alpha^{5}{\\left(t \\right)}}{2 \\pi} + \\frac{5 \\alpha^{4}{\\left(t \\right)} \\frac{d}{d t} \\alpha{\\left(t \\right)}}{2 \\pi}\\right) \\left(e^{1.0 i \\theta}\\right)^{5.0} + \\frac{- \\frac{K r}{4 \\pi} + \\frac{K r^{*} \\left(\\alpha^{*}\\right)^{2}{\\left(t \\right)}}{4 \\pi} - \\frac{i \\omega \\alpha^{*}{\\left(t \\right)}}{2 \\pi} + \\frac{\\frac{d}{d t} \\alpha^{*}{\\left(t \\right)}}{2 \\pi}}{\\left(e^{1.0 i \\theta}\\right)^{1.0}} + \\left(\\frac{K r \\alpha^{2}{\\left(t \\right)}}{4 \\pi} - \\frac{K r^{*}}{4 \\pi} + \\frac{i \\omega \\alpha{\\left(t \\right)}}{2 \\pi} + \\frac{\\frac{d}{d t} \\alpha{\\left(t \\right)}}{2 \\pi}\\right) \\left(e^{1.0 i \\theta}\\right)^{1.0} + \\left(\\frac{K r \\alpha^{3}{\\left(t \\right)}}{2 \\pi} - \\frac{K r^{*} \\alpha{\\left(t \\right)}}{2 \\pi} + \\frac{i \\omega \\alpha^{2}{\\left(t \\right)}}{\\pi} + \\frac{\\alpha{\\left(t \\right)} \\frac{d}{d t} \\alpha{\\left(t \\right)}}{\\pi}\\right) \\left(e^{1.0 i \\theta}\\right)^{2.0} + \\left(\\frac{3 K r \\alpha^{4}{\\left(t \\right)}}{4 \\pi} - \\frac{3 K r^{*} \\alpha^{2}{\\left(t \\right)}}{4 \\pi} + \\frac{3 i \\omega \\alpha^{3}{\\left(t \\right)}}{2 \\pi} + \\frac{3 \\alpha^{2}{\\left(t \\right)} \\frac{d}{d t} \\alpha{\\left(t \\right)}}{2 \\pi}\\right) \\left(e^{1.0 i \\theta}\\right)^{3.0} + \\left(\\frac{K r \\alpha^{5}{\\left(t \\right)}}{\\pi} - \\frac{K r^{*} \\alpha^{3}{\\left(t \\right)}}{\\pi} + \\frac{2 i \\omega \\alpha^{4}{\\left(t \\right)}}{\\pi} + \\frac{2 \\alpha^{3}{\\left(t \\right)} \\frac{d}{d t} \\alpha{\\left(t \\right)}}{\\pi}\\right) \\left(e^{1.0 i \\theta}\\right)^{4.0} + \\frac{- \\frac{K r \\alpha^{*}{\\left(t \\right)}}{2 \\pi} + \\frac{K r^{*} \\left(\\alpha^{*}\\right)^{3}{\\left(t \\right)}}{2 \\pi} - \\frac{i \\omega \\left(\\alpha^{*}\\right)^{2}{\\left(t \\right)}}{\\pi} + \\frac{\\alpha^{*}{\\left(t \\right)} \\frac{d}{d t} \\alpha^{*}{\\left(t \\right)}}{\\pi}}{\\left(e^{1.0 i \\theta}\\right)^{2.0}} + \\frac{- \\frac{3 K r \\left(\\alpha^{*}\\right)^{2}{\\left(t \\right)}}{4 \\pi} + \\frac{3 K r^{*} \\left(\\alpha^{*}\\right)^{4}{\\left(t \\right)}}{4 \\pi} - \\frac{3 i \\omega \\left(\\alpha^{*}\\right)^{3}{\\left(t \\right)}}{2 \\pi} + \\frac{3 \\left(\\alpha^{*}\\right)^{2}{\\left(t \\right)} \\frac{d}{d t} \\alpha^{*}{\\left(t \\right)}}{2 \\pi}}{\\left(e^{1.0 i \\theta}\\right)^{3.0}} + \\frac{- \\frac{K r \\left(\\alpha^{*}\\right)^{3}{\\left(t \\right)}}{\\pi} + \\frac{K r^{*} \\left(\\alpha^{*}\\right)^{5}{\\left(t \\right)}}{\\pi} - \\frac{2 i \\omega \\left(\\alpha^{*}\\right)^{4}{\\left(t \\right)}}{\\pi} + \\frac{2 \\left(\\alpha^{*}\\right)^{3}{\\left(t \\right)} \\frac{d}{d t} \\alpha^{*}{\\left(t \\right)}}{\\pi}}{\\left(e^{1.0 i \\theta}\\right)^{4.0}}\n"
     ]
    }
   ],
   "source": [
    "print_latex(col_)"
   ]
  },
  {
   "cell_type": "code",
   "execution_count": 11,
   "metadata": {},
   "outputs": [
    {
     "data": {
      "text/plain": [
       "(-3*r^**alpha(t)**5/(2*pi),\n",
       " I*omega*alpha(t)**2/pi + r*alpha(t)**3/(2*pi) - r^**alpha(t)/(2*pi) + alpha(t)*Derivative(alpha(t), t)/pi,\n",
       " 2*I*omega*alpha(t)**4/pi + r*alpha(t)**5/pi - r^**alpha(t)**3/pi + 2*alpha(t)**3*Derivative(alpha(t), t)/pi)"
      ]
     },
     "execution_count": 11,
     "metadata": {},
     "output_type": "execute_result"
    }
   ],
   "source": [
    "C = together(f.diff(t)+(f*v).diff(theta)).expand()\n",
    "col_ = collect(C,E**(1j*theta))\n",
    "col_\n",
    "coeff_4 = C.coeff(E**(4*I*theta))\n",
    "coeff_2 = C.coeff(E**(2*I*theta))\n",
    "coeff_6 = C.coeff(E**(6*I*theta))\n",
    "\n",
    "coeff_6, coeff_2, coeff_4"
   ]
  },
  {
   "cell_type": "code",
   "execution_count": null,
   "metadata": {},
   "outputs": [
    {
     "data": {
      "text/plain": [
       "(3*H*a(t)**3*exp(-I*alpha)/(4*pi) - 3*H^**a(t)*exp(I*alpha)/(4*pi) + 3*I*omega*a(t)**2/(2*pi) + a(t)*Derivative(a(t), t)/pi,\n",
       " 5*H*a(t)**4*exp(-I*alpha)/(4*pi) - 5*H^**a(t)**2*exp(I*alpha)/(4*pi) + 5*I*omega*a(t)**3/(2*pi) + 3*a(t)**2*Derivative(a(t), t)/(2*pi),\n",
       " H*a(t)**2*exp(-I*alpha)/(4*pi) - H^**a^*(t)*exp(I*alpha)/(4*pi) + I*omega*a(t)/(2*pi) + Derivative(a(t), t)/(2*pi))"
      ]
     },
     "metadata": {},
     "output_type": "display_data"
    }
   ],
   "source": [
    "C = together(f.diff(t)+(f*v).diff(theta)).expand()\n",
    "col_ = collect(C,E**(1j*theta))\n",
    "col_\n",
    "coeff_7 = C.coeff(E**(7*I*theta))\n",
    "coeff_5 = C.coeff(E**(5*I*theta))\n",
    "coeff_3 = C.coeff(E**(3*I*theta))\n",
    "coeff_1 = C.coeff(E**(1*I*theta))\n",
    "\n",
    "coeff_3, coeff_5, coeff_1"
   ]
  },
  {
   "cell_type": "markdown",
   "metadata": {},
   "source": [
    "# Abrupt desynchronized"
   ]
  },
  {
   "cell_type": "code",
   "execution_count": 32,
   "metadata": {},
   "outputs": [],
   "source": [
    "H,Hs = symbols('z_1 z_1^*',complex=True)\n",
    "theta,t,alpha,n,omega,eta = symbols('theta t alpha n omega eta')\n",
    "a = Function('a')('t')\n",
    "a_s = Function('a^*')('t')\n",
    "b = Function('b')('t')\n",
    "b_s = Function('b^*')('t')\n",
    "A = Sum((b**n*E**((2*n-1)*I*theta)),(n,1,8)).doit()\n",
    "As = Sum((b_s**n*E**(-(2*n-1)*I*theta)),(n,1,8)).doit()\n",
    "# B = Sum((a*E**(2*I*theta))**n,(n,1,8)).doit()\n",
    "# Bs = Sum((a_s*E**(-2*I*theta))**n,(n,1,8)).doit()\n",
    "# f = 1/(2*pi) * (1+(B+Bs))\n",
    "f = 1/(2*pi) * (1+(A+As))\n",
    "v = omega + K/(2*I) * (H**2*E**(-I*(2*theta))-Hs**2*E**(I*(2*theta)))"
   ]
  },
  {
   "cell_type": "code",
   "execution_count": 33,
   "metadata": {},
   "outputs": [],
   "source": [
    "C = together(f.diff(t)+(f*v).diff(theta)).expand()\n",
    "col_ = collect(C,E**(1j*theta))"
   ]
  },
  {
   "cell_type": "code",
   "execution_count": 26,
   "metadata": {},
   "outputs": [
    {
     "name": "stdout",
     "output_type": "stream",
     "text": [
      "- \\frac{9 K z_{1}^{2} \\left(a^{*}\\right)^{8}{\\left(t \\right)}}{2 \\pi \\left(e^{1.0 i \\theta}\\right)^{18.0}} - \\frac{9 K \\left(z^{*}_{1}\\right)^{2} a^{8}{\\left(t \\right)} \\left(e^{1.0 i \\theta}\\right)^{18.0}}{2 \\pi} + \\frac{- \\frac{4 K z_{1}^{2} \\left(a^{*}\\right)^{7}{\\left(t \\right)}}{\\pi} - \\frac{8 i \\omega \\left(a^{*}\\right)^{8}{\\left(t \\right)}}{\\pi} + \\frac{4 \\left(a^{*}\\right)^{7}{\\left(t \\right)} \\frac{d}{d t} a^{*}{\\left(t \\right)}}{\\pi}}{\\left(e^{1.0 i \\theta}\\right)^{16.0}} + \\left(- \\frac{4 K \\left(z^{*}_{1}\\right)^{2} a^{7}{\\left(t \\right)}}{\\pi} + \\frac{8 i \\omega a^{8}{\\left(t \\right)}}{\\pi} + \\frac{4 a^{7}{\\left(t \\right)} \\frac{d}{d t} a{\\left(t \\right)}}{\\pi}\\right) \\left(e^{1.0 i \\theta}\\right)^{16.0} + \\frac{- \\frac{K z_{1}^{2}}{2 \\pi} + \\frac{K \\left(z^{*}_{1}\\right)^{2} \\left(a^{*}\\right)^{2}{\\left(t \\right)}}{2 \\pi} - \\frac{i \\omega a^{*}{\\left(t \\right)}}{\\pi} + \\frac{\\frac{d}{d t} a^{*}{\\left(t \\right)}}{2 \\pi}}{\\left(e^{1.0 i \\theta}\\right)^{2.0}} + \\left(\\frac{K z_{1}^{2} a^{2}{\\left(t \\right)}}{2 \\pi} - \\frac{K \\left(z^{*}_{1}\\right)^{2}}{2 \\pi} + \\frac{i \\omega a{\\left(t \\right)}}{\\pi} + \\frac{\\frac{d}{d t} a{\\left(t \\right)}}{2 \\pi}\\right) \\left(e^{1.0 i \\theta}\\right)^{2.0} + \\left(\\frac{K z_{1}^{2} a^{3}{\\left(t \\right)}}{\\pi} - \\frac{K \\left(z^{*}_{1}\\right)^{2} a{\\left(t \\right)}}{\\pi} + \\frac{2 i \\omega a^{2}{\\left(t \\right)}}{\\pi} + \\frac{a{\\left(t \\right)} \\frac{d}{d t} a{\\left(t \\right)}}{\\pi}\\right) \\left(e^{1.0 i \\theta}\\right)^{4.0} + \\left(\\frac{3 K z_{1}^{2} a^{4}{\\left(t \\right)}}{2 \\pi} - \\frac{3 K \\left(z^{*}_{1}\\right)^{2} a^{2}{\\left(t \\right)}}{2 \\pi} + \\frac{3 i \\omega a^{3}{\\left(t \\right)}}{\\pi} + \\frac{3 a^{2}{\\left(t \\right)} \\frac{d}{d t} a{\\left(t \\right)}}{2 \\pi}\\right) \\left(e^{1.0 i \\theta}\\right)^{6.0} + \\left(\\frac{2 K z_{1}^{2} a^{5}{\\left(t \\right)}}{\\pi} - \\frac{2 K \\left(z^{*}_{1}\\right)^{2} a^{3}{\\left(t \\right)}}{\\pi} + \\frac{4 i \\omega a^{4}{\\left(t \\right)}}{\\pi} + \\frac{2 a^{3}{\\left(t \\right)} \\frac{d}{d t} a{\\left(t \\right)}}{\\pi}\\right) \\left(e^{1.0 i \\theta}\\right)^{8.0} + \\left(\\frac{5 K z_{1}^{2} a^{6}{\\left(t \\right)}}{2 \\pi} - \\frac{5 K \\left(z^{*}_{1}\\right)^{2} a^{4}{\\left(t \\right)}}{2 \\pi} + \\frac{5 i \\omega a^{5}{\\left(t \\right)}}{\\pi} + \\frac{5 a^{4}{\\left(t \\right)} \\frac{d}{d t} a{\\left(t \\right)}}{2 \\pi}\\right) \\left(e^{1.0 i \\theta}\\right)^{10.0} + \\left(\\frac{3 K z_{1}^{2} a^{7}{\\left(t \\right)}}{\\pi} - \\frac{3 K \\left(z^{*}_{1}\\right)^{2} a^{5}{\\left(t \\right)}}{\\pi} + \\frac{6 i \\omega a^{6}{\\left(t \\right)}}{\\pi} + \\frac{3 a^{5}{\\left(t \\right)} \\frac{d}{d t} a{\\left(t \\right)}}{\\pi}\\right) \\left(e^{1.0 i \\theta}\\right)^{12.0} + \\left(\\frac{7 K z_{1}^{2} a^{8}{\\left(t \\right)}}{2 \\pi} - \\frac{7 K \\left(z^{*}_{1}\\right)^{2} a^{6}{\\left(t \\right)}}{2 \\pi} + \\frac{7 i \\omega a^{7}{\\left(t \\right)}}{\\pi} + \\frac{7 a^{6}{\\left(t \\right)} \\frac{d}{d t} a{\\left(t \\right)}}{2 \\pi}\\right) \\left(e^{1.0 i \\theta}\\right)^{14.0} + \\frac{- \\frac{K z_{1}^{2} a^{*}{\\left(t \\right)}}{\\pi} + \\frac{K \\left(z^{*}_{1}\\right)^{2} \\left(a^{*}\\right)^{3}{\\left(t \\right)}}{\\pi} - \\frac{2 i \\omega \\left(a^{*}\\right)^{2}{\\left(t \\right)}}{\\pi} + \\frac{a^{*}{\\left(t \\right)} \\frac{d}{d t} a^{*}{\\left(t \\right)}}{\\pi}}{\\left(e^{1.0 i \\theta}\\right)^{4.0}} + \\frac{- \\frac{3 K z_{1}^{2} \\left(a^{*}\\right)^{2}{\\left(t \\right)}}{2 \\pi} + \\frac{3 K \\left(z^{*}_{1}\\right)^{2} \\left(a^{*}\\right)^{4}{\\left(t \\right)}}{2 \\pi} - \\frac{3 i \\omega \\left(a^{*}\\right)^{3}{\\left(t \\right)}}{\\pi} + \\frac{3 \\left(a^{*}\\right)^{2}{\\left(t \\right)} \\frac{d}{d t} a^{*}{\\left(t \\right)}}{2 \\pi}}{\\left(e^{1.0 i \\theta}\\right)^{6.0}} + \\frac{- \\frac{2 K z_{1}^{2} \\left(a^{*}\\right)^{3}{\\left(t \\right)}}{\\pi} + \\frac{2 K \\left(z^{*}_{1}\\right)^{2} \\left(a^{*}\\right)^{5}{\\left(t \\right)}}{\\pi} - \\frac{4 i \\omega \\left(a^{*}\\right)^{4}{\\left(t \\right)}}{\\pi} + \\frac{2 \\left(a^{*}\\right)^{3}{\\left(t \\right)} \\frac{d}{d t} a^{*}{\\left(t \\right)}}{\\pi}}{\\left(e^{1.0 i \\theta}\\right)^{8.0}} + \\frac{- \\frac{5 K z_{1}^{2} \\left(a^{*}\\right)^{4}{\\left(t \\right)}}{2 \\pi} + \\frac{5 K \\left(z^{*}_{1}\\right)^{2} \\left(a^{*}\\right)^{6}{\\left(t \\right)}}{2 \\pi} - \\frac{5 i \\omega \\left(a^{*}\\right)^{5}{\\left(t \\right)}}{\\pi} + \\frac{5 \\left(a^{*}\\right)^{4}{\\left(t \\right)} \\frac{d}{d t} a^{*}{\\left(t \\right)}}{2 \\pi}}{\\left(e^{1.0 i \\theta}\\right)^{10.0}} + \\frac{- \\frac{3 K z_{1}^{2} \\left(a^{*}\\right)^{5}{\\left(t \\right)}}{\\pi} + \\frac{3 K \\left(z^{*}_{1}\\right)^{2} \\left(a^{*}\\right)^{7}{\\left(t \\right)}}{\\pi} - \\frac{6 i \\omega \\left(a^{*}\\right)^{6}{\\left(t \\right)}}{\\pi} + \\frac{3 \\left(a^{*}\\right)^{5}{\\left(t \\right)} \\frac{d}{d t} a^{*}{\\left(t \\right)}}{\\pi}}{\\left(e^{1.0 i \\theta}\\right)^{12.0}} + \\frac{- \\frac{7 K z_{1}^{2} \\left(a^{*}\\right)^{6}{\\left(t \\right)}}{2 \\pi} + \\frac{7 K \\left(z^{*}_{1}\\right)^{2} \\left(a^{*}\\right)^{8}{\\left(t \\right)}}{2 \\pi} - \\frac{7 i \\omega \\left(a^{*}\\right)^{7}{\\left(t \\right)}}{\\pi} + \\frac{7 \\left(a^{*}\\right)^{6}{\\left(t \\right)} \\frac{d}{d t} a^{*}{\\left(t \\right)}}{2 \\pi}}{\\left(e^{1.0 i \\theta}\\right)^{14.0}}\n"
     ]
    }
   ],
   "source": [
    "print_latex(col_)"
   ]
  },
  {
   "cell_type": "code",
   "execution_count": 27,
   "metadata": {},
   "outputs": [
    {
     "data": {
      "text/plain": [
       "(3*K*z_1**2*a(t)**4/(2*pi) - 3*K*z_1^***2*a(t)**2/(2*pi) + 3*I*omega*a(t)**3/pi + 3*a(t)**2*Derivative(a(t), t)/(2*pi),\n",
       " K*z_1**2*a(t)**2/(2*pi) - K*z_1^***2/(2*pi) + I*omega*a(t)/pi + Derivative(a(t), t)/(2*pi),\n",
       " K*z_1**2*a(t)**3/pi - K*z_1^***2*a(t)/pi + 2*I*omega*a(t)**2/pi + a(t)*Derivative(a(t), t)/pi)"
      ]
     },
     "execution_count": 27,
     "metadata": {},
     "output_type": "execute_result"
    }
   ],
   "source": [
    "C = together(f.diff(t)+(f*v).diff(theta)).expand()\n",
    "col_ = collect(C,E**(1j*theta))\n",
    "col_\n",
    "coeff_4 = C.coeff(E**(4*I*theta))\n",
    "coeff_2 = C.coeff(E**(2*I*theta))\n",
    "coeff_6 = C.coeff(E**(6*I*theta))\n",
    "\n",
    "coeff_6, coeff_2, coeff_4"
   ]
  },
  {
   "cell_type": "code",
   "execution_count": 31,
   "metadata": {},
   "outputs": [
    {
     "name": "stdout",
     "output_type": "stream",
     "text": [
      "\\frac{3 \\left(K z_{1}^{2} a^{2}{\\left(t \\right)} - K \\left(z^{*}_{1}\\right)^{2} + 2 i \\omega a{\\left(t \\right)} + \\frac{d}{d t} a{\\left(t \\right)}\\right) a^{2}{\\left(t \\right)}}{2 \\pi}\n"
     ]
    }
   ],
   "source": [
    "print_latex(coeff_6.simplify())"
   ]
  },
  {
   "cell_type": "code",
   "execution_count": 34,
   "metadata": {},
   "outputs": [
    {
     "data": {
      "text/plain": [
       "(3*K*z_1**2*b(t)**3/(4*pi) - 3*K*z_1^***2*b(t)/(4*pi) + 3*I*omega*b(t)**2/(2*pi) + b(t)*Derivative(b(t), t)/pi,\n",
       " 5*K*z_1**2*b(t)**4/(4*pi) - 5*K*z_1^***2*b(t)**2/(4*pi) + 5*I*omega*b(t)**3/(2*pi) + 3*b(t)**2*Derivative(b(t), t)/(2*pi),\n",
       " K*z_1**2*b(t)**2/(4*pi) - K*z_1^***2*b^*(t)/(4*pi) + I*omega*b(t)/(2*pi) + Derivative(b(t), t)/(2*pi))"
      ]
     },
     "execution_count": 34,
     "metadata": {},
     "output_type": "execute_result"
    }
   ],
   "source": [
    "C = together(f.diff(t)+(f*v).diff(theta)).expand()\n",
    "col_ = collect(C,E**(1j*theta))\n",
    "col_\n",
    "coeff_7 = C.coeff(E**(7*I*theta))\n",
    "coeff_5 = C.coeff(E**(5*I*theta))\n",
    "coeff_3 = C.coeff(E**(3*I*theta))\n",
    "coeff_1 = C.coeff(E**(1*I*theta))\n",
    "\n",
    "coeff_3, coeff_5, coeff_1"
   ]
  },
  {
   "cell_type": "code",
   "execution_count": null,
   "metadata": {},
   "outputs": [
    {
     "name": "stdout",
     "output_type": "stream",
     "text": [
      "\\frac{\\left(7 K z_{1}^{2} b^{2}{\\left(t \\right)} - 7 K \\left(z^{*}_{1}\\right)^{2} + 14 i \\omega b{\\left(t \\right)} + 8 \\frac{d}{d t} b{\\left(t \\right)}\\right) b^{3}{\\left(t \\right)}}{4 \\pi}\n"
     ]
    }
   ],
   "source": [
    "print_latex(coeff_3.simplify())"
   ]
  },
  {
   "cell_type": "code",
   "execution_count": 43,
   "metadata": {},
   "outputs": [
    {
     "data": {
      "text/latex": [
       "$\\displaystyle \\frac{\\left(5 K z_{1}^{2} b^{2}{\\left(t \\right)} - 5 K \\left(z^{*}_{1}\\right)^{2} + 10 i \\omega b{\\left(t \\right)} + 6 \\frac{d}{d t} b{\\left(t \\right)}\\right) b^{2}{\\left(t \\right)}}{4 \\pi}$"
      ],
      "text/plain": [
       "(5*K*z_1**2*b(t)**2 - 5*K*z_1^***2 + 10*I*omega*b(t) + 6*Derivative(b(t), t))*b(t)**2/(4*pi)"
      ]
     },
     "execution_count": 43,
     "metadata": {},
     "output_type": "execute_result"
    }
   ],
   "source": [
    "coeff_5.simplify()"
   ]
  },
  {
   "cell_type": "code",
   "execution_count": null,
   "metadata": {},
   "outputs": [],
   "source": []
  }
 ],
 "metadata": {
  "kernelspec": {
   "display_name": "Python 3",
   "language": "python",
   "name": "python3"
  },
  "language_info": {
   "codemirror_mode": {
    "name": "ipython",
    "version": 3
   },
   "file_extension": ".py",
   "mimetype": "text/x-python",
   "name": "python",
   "nbconvert_exporter": "python",
   "pygments_lexer": "ipython3",
   "version": "3.11.9"
  }
 },
 "nbformat": 4,
 "nbformat_minor": 2
}
