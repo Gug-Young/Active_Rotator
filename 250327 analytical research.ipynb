{
 "cells": [
  {
   "cell_type": "code",
   "execution_count": 1,
   "metadata": {},
   "outputs": [],
   "source": [
    "from sympy import *"
   ]
  },
  {
   "cell_type": "markdown",
   "metadata": {},
   "source": [
    "# general form of OA"
   ]
  },
  {
   "cell_type": "code",
   "execution_count": 25,
   "metadata": {},
   "outputs": [],
   "source": [
    "H,Hs = symbols('H H^*',complex=True)\n",
    "theta,t,alpha,n,omega,eta,K = symbols('theta t alpha n omega eta_\\sigma K')\n",
    "a = Function('a')('t')\n",
    "a_s = Function('a^*')('t')\n",
    "\n",
    "n_ = 20  # 원하는 함수 개수\n",
    "a_n = [Function(f'a_{i}')(t) for i in range(1, n_+1)]\n",
    "as_n = [Function(f'a^*_{i}')(t) for i in range(1, n_+1)]\n",
    "\n",
    "A = 0\n",
    "As = 0\n",
    "for n in range(1,8,2):\n",
    "    A += eta*Function(f'a_{n}')(t) * E**(n*I*theta)\n",
    "    As += eta*Function(f'a^*_{n}')(t) * E**(-n*I*theta)    \n",
    "    n += 1\n",
    "    A += Function(f'a_{n}')(t) * E**(n*I*theta)\n",
    "    As += Function(f'a^*_{n}')(t) * E**(-n*I*theta)\n",
    "\n",
    "f = 1/(2*pi) * (1+(A+As))\n",
    "v = omega + 1/(2*I) * (H*E**(-I*(2*theta+alpha))-Hs*E**(I*(2*theta+alpha)))"
   ]
  },
  {
   "cell_type": "markdown",
   "metadata": {},
   "source": [
    "# OA Ansatz"
   ]
  },
  {
   "cell_type": "code",
   "execution_count": 97,
   "metadata": {},
   "outputs": [],
   "source": [
    "H,Hs = symbols('H H^*',complex=True)\n",
    "theta,t,alpha,n,omega,eta,K = symbols('theta t alpha n omega eta_\\sigma K')\n",
    "a = Function('a')('t')\n",
    "a_s = Function('a^*')('t')\n",
    "A = 0\n",
    "As = 0\n",
    "for n in range(1,60,2):\n",
    "    A += eta*a**n* E**(n*I*theta)\n",
    "    As += a_s**n * E**(-n*I*theta)    \n",
    "    n += 1\n",
    "    A += a**n* E**(n*I*theta)\n",
    "    As += a_s**n * E**(-n*I*theta)\n",
    "\n",
    "f = 1/(2*pi) * (1+(A+As))\n",
    "v = omega + 1/(2*I) * (H*E**(-I*(2*theta+alpha))-Hs*E**(I*(2*theta+alpha)))"
   ]
  },
  {
   "cell_type": "code",
   "execution_count": 99,
   "metadata": {},
   "outputs": [],
   "source": [
    "C = together(f.diff(t)+(f*v).diff(theta)).expand()"
   ]
  },
  {
   "cell_type": "code",
   "execution_count": 100,
   "metadata": {},
   "outputs": [],
   "source": [
    "col_ = collect(C,E**(1j*theta))"
   ]
  },
  {
   "cell_type": "code",
   "execution_count": 101,
   "metadata": {},
   "outputs": [
    {
     "name": "stdout",
     "output_type": "stream",
     "text": [
      "e^{i \\theta}\n"
     ]
    }
   ],
   "source": [
    "print_latex(E**(I*theta))"
   ]
  },
  {
   "cell_type": "code",
   "execution_count": null,
   "metadata": {},
   "outputs": [],
   "source": [
    "col_ = collect(C,E**(1j*theta))\n",
    "col_\n",
    "\n",
    "coeff_even = []\n",
    "coeff_odd = []\n",
    "for i in range(1, 50,2):\n",
    "    coeff_odd.append(C.coeff(E**(i*I*theta)))\n",
    "    i +=1\n",
    "    coeff_even.append(C.coeff(E**(i *I*theta)))"
   ]
  },
  {
   "cell_type": "code",
   "execution_count": 139,
   "metadata": {},
   "outputs": [],
   "source": [
    "AAA = (coeff_even[0].collect(pi)*pi.collect(a)/a).simplify()"
   ]
  },
  {
   "cell_type": "code",
   "execution_count": 125,
   "metadata": {},
   "outputs": [],
   "source": [
    "coeff_even = [(coeff_even[i].collect([pi,a])/AAA).simplify() for i in range(25)]"
   ]
  },
  {
   "cell_type": "code",
   "execution_count": 126,
   "metadata": {},
   "outputs": [],
   "source": [
    "coeff_odd = [(coeff_odd[i].collect([pi,a])/AAA).simplify() for i in range(25)]"
   ]
  },
  {
   "cell_type": "code",
   "execution_count": 138,
   "metadata": {},
   "outputs": [
    {
     "name": "stdout",
     "output_type": "stream",
     "text": [
      "\\frac{H a^{3}{\\left(t \\right)} e^{- i \\alpha}}{2} - \\frac{H^{*} e^{i \\alpha}}{2 a{\\left(t \\right)}} + i \\omega a{\\left(t \\right)} + \\frac{d}{d t} a{\\left(t \\right)}\n"
     ]
    }
   ],
   "source": [
    "print_latex(AAA)"
   ]
  },
  {
   "cell_type": "code",
   "execution_count": 137,
   "metadata": {},
   "outputs": [
    {
     "data": {
      "text/latex": [
       "$\\displaystyle \\frac{a{\\left(t \\right)}}{\\pi}$"
      ],
      "text/plain": [
       "a(t)/pi"
      ]
     },
     "execution_count": 137,
     "metadata": {},
     "output_type": "execute_result"
    }
   ],
   "source": [
    "coeff_even[0]"
   ]
  },
  {
   "cell_type": "code",
   "execution_count": 136,
   "metadata": {},
   "outputs": [
    {
     "data": {
      "text/latex": [
       "$\\displaystyle \\frac{7 \\eta_{\\sigma} a^{6}{\\left(t \\right)}}{2 \\pi}$"
      ],
      "text/plain": [
       "7*eta_\\sigma*a(t)**6/(2*pi)"
      ]
     },
     "execution_count": 136,
     "metadata": {},
     "output_type": "execute_result"
    }
   ],
   "source": [
    "coeff_odd[3]"
   ]
  },
  {
   "cell_type": "code",
   "execution_count": null,
   "metadata": {},
   "outputs": [],
   "source": [
    "H,Hs = symbols('H H^*',complex=True)\n",
    "theta,t,n = symbols('theta t n')\n",
    "alpha,beta,omega,eta = symbols('alpha beta omega eta',real=True)\n",
    "a = Function('a')('t')\n",
    "a_s = Function('a^*')('t')\n",
    "B = Sum((b*E**(2*I*theta))**n,(n,1,6)).doit()\n",
    "Bs = Sum((b_s*E**(-2*I*theta))**n,(n,1,6)).doit()\n",
    "f = 1/(2*pi) * (1+(B+Bs))\n",
    "v = omega + 1/(2*I) * (H*E**(-I*(2*theta+alpha))-Hs*E**(I*(2*theta+alpha)))"
   ]
  }
 ],
 "metadata": {
  "kernelspec": {
   "display_name": "Python 3",
   "language": "python",
   "name": "python3"
  },
  "language_info": {
   "codemirror_mode": {
    "name": "ipython",
    "version": 3
   },
   "file_extension": ".py",
   "mimetype": "text/x-python",
   "name": "python",
   "nbconvert_exporter": "python",
   "pygments_lexer": "ipython3",
   "version": "3.11.1"
  }
 },
 "nbformat": 4,
 "nbformat_minor": 2
}
