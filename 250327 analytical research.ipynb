{
 "cells": [
  {
   "cell_type": "code",
   "execution_count": 182,
   "metadata": {},
   "outputs": [],
   "source": [
    "from sympy import *"
   ]
  },
  {
   "cell_type": "markdown",
   "metadata": {},
   "source": [
    "# general form of OA"
   ]
  },
  {
   "cell_type": "code",
   "execution_count": 54,
   "metadata": {},
   "outputs": [],
   "source": [
    "H,Hs = symbols('H_\\sigma H^*_\\sigma',complex=True)\n",
    "theta,t,alpha,n,omega,eta,K = symbols('theta t alpha n omega eta_\\sigma K')\n",
    "a = Function('a')('t')\n",
    "a_s = Function('a^*')('t')\n",
    "\n",
    "n_ = 20  # 원하는 함수 개수\n",
    "a_n = [Function(f'a_{i}')(t) for i in range(1, n_+1)]\n",
    "as_n = [Function(f'a^*_{i}')(t) for i in range(1, n_+1)]\n",
    "\n",
    "A = 0\n",
    "As = 0\n",
    "for n in range(1,8,2):\n",
    "    A += eta*Function(f'a_{n}')(t) * E**(n*I*theta)\n",
    "    As += eta*Function(f'a^*_{n}')(t) * E**(-n*I*theta)    \n",
    "    n += 1\n",
    "    A += Function(f'a_{n}')(t) * E**(n*I*theta)\n",
    "    As += Function(f'a^*_{n}')(t) * E**(-n*I*theta)\n",
    "\n",
    "f = 1/(2*pi) * (1+(A+As))\n",
    "v = omega + 1/(2*I) * (H*E**(-I*(2*theta+alpha))-Hs*E**(I*(2*theta+alpha)))"
   ]
  },
  {
   "cell_type": "markdown",
   "metadata": {},
   "source": [
    "# OA Ansatz"
   ]
  },
  {
   "cell_type": "code",
   "execution_count": 183,
   "metadata": {},
   "outputs": [],
   "source": [
    "H,Hs = symbols('H_\\sigma H^*_\\sigma',complex=True)\n",
    "theta,t,alpha,n,omega,eta,K = symbols('theta t alpha n omega eta_\\sigma K')\n",
    "a = Function('a_\\sigma')('t')\n",
    "a_s = Function('a^*_\\sigma')('t')\n",
    "b = Function('b_\\sigma')('t')\n",
    "b_s = Function('b^*_\\sigma')('t')\n",
    "\n",
    "A = 0\n",
    "As = 0\n",
    "for n in range(1,60,2):\n",
    "    A += eta*b**n* E**(n*I*theta)\n",
    "    As += eta*b_s**n * E**(-n*I*theta)    \n",
    "    n += 1\n",
    "    A += a**n* E**(n*I*theta)\n",
    "    As += a_s**n * E**(-n*I*theta)\n",
    "\n",
    "f = 1/(2*pi) * (1+(A+As))\n",
    "v = omega + 1/(2*I) * (H*E**(-I*(2*theta+alpha))-Hs*E**(I*(2*theta+alpha)))"
   ]
  },
  {
   "cell_type": "code",
   "execution_count": 184,
   "metadata": {},
   "outputs": [],
   "source": [
    "F = 1/(2*pi) *( 1 + a**2 * E**(I*2*theta)/(1- a**2 * E**(I*2*theta)))"
   ]
  },
  {
   "cell_type": "code",
   "execution_count": 212,
   "metadata": {},
   "outputs": [],
   "source": [
    "FN = 1/(pi) * (1-a**2 * cos(2*theta)+eta*a*(1-a**2)*cos(theta)) / (1-2*a**2*cos(2*theta)+a**4) - 1/(2*pi)"
   ]
  },
  {
   "cell_type": "code",
   "execution_count": 213,
   "metadata": {},
   "outputs": [
    {
     "data": {
      "text/latex": [
       "$\\displaystyle \\frac{- 2 \\eta_{\\sigma} \\left(a_{\\sigma}^{2}{\\left(t \\right)} - 1\\right) a_{\\sigma}{\\left(t \\right)} \\cos{\\left(\\theta \\right)} - a_{\\sigma}^{4}{\\left(t \\right)} + 1}{2 \\pi \\left(a_{\\sigma}^{4}{\\left(t \\right)} - 2 a_{\\sigma}^{2}{\\left(t \\right)} \\cos{\\left(2 \\theta \\right)} + 1\\right)}$"
      ],
      "text/plain": [
       "(-2*eta_\\sigma*(a_\\sigma(t)**2 - 1)*a_\\sigma(t)*cos(theta) - a_\\sigma(t)**4 + 1)/(2*pi*(a_\\sigma(t)**4 - 2*a_\\sigma(t)**2*cos(2*theta) + 1))"
      ]
     },
     "execution_count": 213,
     "metadata": {},
     "output_type": "execute_result"
    }
   ],
   "source": [
    "simplify(FN)"
   ]
  },
  {
   "cell_type": "code",
   "execution_count": 80,
   "metadata": {},
   "outputs": [],
   "source": [
    "C = together(f.diff(t)+(f*v).diff(theta)).expand()"
   ]
  },
  {
   "cell_type": "code",
   "execution_count": 81,
   "metadata": {},
   "outputs": [],
   "source": [
    "col_ = collect(C,E**(1j*theta))"
   ]
  },
  {
   "cell_type": "code",
   "execution_count": 82,
   "metadata": {},
   "outputs": [
    {
     "name": "stdout",
     "output_type": "stream",
     "text": [
      "e^{i \\theta}\n"
     ]
    }
   ],
   "source": [
    "print_latex(E**(I*theta))"
   ]
  },
  {
   "cell_type": "code",
   "execution_count": 119,
   "metadata": {},
   "outputs": [],
   "source": [
    "col_ = collect(C,E**(1j*theta))\n",
    "col_\n",
    "\n",
    "coeff_even = []\n",
    "coeff_odd = []\n",
    "for i in range(1, 50,2):\n",
    "    coeff_odd.append(C.coeff(E**(i*I*theta)))\n",
    "    i +=1\n",
    "    coeff_even.append(C.coeff(E**(i *I*theta)))"
   ]
  },
  {
   "cell_type": "code",
   "execution_count": 120,
   "metadata": {},
   "outputs": [],
   "source": [
    "AAA = (coeff_even[0].collect(pi)*pi.collect(a)/a).simplify()"
   ]
  },
  {
   "cell_type": "code",
   "execution_count": 131,
   "metadata": {},
   "outputs": [],
   "source": [
    "BBB = ((coeff_odd[1].collect(pi)*2*pi/3).collect(b)/b**3/eta).simplify()"
   ]
  },
  {
   "cell_type": "code",
   "execution_count": 132,
   "metadata": {},
   "outputs": [
    {
     "data": {
      "text/latex": [
       "$\\displaystyle - \\frac{H^{*}_{\\sigma} e^{i \\alpha}}{2 b_{\\sigma}^{2}{\\left(t \\right)}} + \\frac{H_{\\sigma} b_{\\sigma}^{2}{\\left(t \\right)} e^{- i \\alpha}}{2} + i \\omega + \\frac{\\frac{d}{d t} b_{\\sigma}{\\left(t \\right)}}{b_{\\sigma}{\\left(t \\right)}}$"
      ],
      "text/plain": [
       "-H^*_\\sigma*exp(I*alpha)/(2*b_\\sigma(t)**2) + H_\\sigma*b_\\sigma(t)**2*exp(-I*alpha)/2 + I*omega + Derivative(b_\\sigma(t), t)/b_\\sigma(t)"
      ]
     },
     "execution_count": 132,
     "metadata": {},
     "output_type": "execute_result"
    }
   ],
   "source": [
    "BBB"
   ]
  },
  {
   "cell_type": "code",
   "execution_count": 133,
   "metadata": {},
   "outputs": [],
   "source": [
    "coeff_evens = [(coeff_even[i].collect([pi,a])/AAA).simplify() for i in range(25)]"
   ]
  },
  {
   "cell_type": "code",
   "execution_count": 134,
   "metadata": {},
   "outputs": [],
   "source": [
    "coeff_odds = [(coeff_odd[i].collect([pi,a])/BBB).simplify() for i in range(25)]"
   ]
  },
  {
   "cell_type": "code",
   "execution_count": 149,
   "metadata": {},
   "outputs": [
    {
     "data": {
      "text/latex": [
       "$\\displaystyle - \\frac{H^{*}_{\\sigma} e^{i \\alpha}}{2 \\pi} + \\frac{H_{\\sigma} a_{\\sigma}^{4}{\\left(t \\right)} e^{- i \\alpha}}{2 \\pi} + \\frac{i \\omega a_{\\sigma}^{2}{\\left(t \\right)}}{\\pi} + \\frac{a_{\\sigma}{\\left(t \\right)} \\frac{d}{d t} a_{\\sigma}{\\left(t \\right)}}{\\pi}$"
      ],
      "text/plain": [
       "-H^*_\\sigma*exp(I*alpha)/(2*pi) + H_\\sigma*a_\\sigma(t)**4*exp(-I*alpha)/(2*pi) + I*omega*a_\\sigma(t)**2/pi + a_\\sigma(t)*Derivative(a_\\sigma(t), t)/pi"
      ]
     },
     "execution_count": 149,
     "metadata": {},
     "output_type": "execute_result"
    }
   ],
   "source": [
    "C.coeff(E**(2*I*theta))"
   ]
  },
  {
   "cell_type": "code",
   "execution_count": 136,
   "metadata": {},
   "outputs": [
    {
     "data": {
      "text/latex": [
       "$\\displaystyle - \\frac{H^{*}_{\\sigma} e^{i \\alpha}}{2 b_{\\sigma}^{2}{\\left(t \\right)}} + \\frac{H_{\\sigma} b_{\\sigma}^{2}{\\left(t \\right)} e^{- i \\alpha}}{2} + i \\omega + \\frac{\\frac{d}{d t} b_{\\sigma}{\\left(t \\right)}}{b_{\\sigma}{\\left(t \\right)}}$"
      ],
      "text/plain": [
       "-H^*_\\sigma*exp(I*alpha)/(2*b_\\sigma(t)**2) + H_\\sigma*b_\\sigma(t)**2*exp(-I*alpha)/2 + I*omega + Derivative(b_\\sigma(t), t)/b_\\sigma(t)"
      ]
     },
     "execution_count": 136,
     "metadata": {},
     "output_type": "execute_result"
    }
   ],
   "source": [
    "BBB"
   ]
  },
  {
   "cell_type": "code",
   "execution_count": 145,
   "metadata": {},
   "outputs": [
    {
     "data": {
      "text/latex": [
       "$\\displaystyle \\frac{3 a_{\\sigma}^{5}{\\left(t \\right)}}{\\pi}$"
      ],
      "text/plain": [
       "3*a_\\sigma(t)**5/pi"
      ]
     },
     "execution_count": 145,
     "metadata": {},
     "output_type": "execute_result"
    }
   ],
   "source": [
    "coeff_evens[2]"
   ]
  },
  {
   "cell_type": "code",
   "execution_count": 142,
   "metadata": {},
   "outputs": [
    {
     "data": {
      "text/latex": [
       "$\\displaystyle \\frac{9 \\eta_{\\sigma} b_{\\sigma}^{9}{\\left(t \\right)}}{2 \\pi}$"
      ],
      "text/plain": [
       "9*eta_\\sigma*b_\\sigma(t)**9/(2*pi)"
      ]
     },
     "execution_count": 142,
     "metadata": {},
     "output_type": "execute_result"
    }
   ],
   "source": [
    "coeff_odds[4]"
   ]
  },
  {
   "cell_type": "markdown",
   "metadata": {},
   "source": [
    "$F_{odd} = \\eta_\\sigma\\left(\\sum_{n=2}^{\\infty}\\frac{(2n-1)\\cdot a_\\sigma^{2n-1}}{2\\pi}\\ \\right)\\left({\\dot{a}}_\\sigma+i\\omega a_\\sigma+\\frac{1}{2}\\left(H_\\sigma e^{-i\\alpha}a_\\sigma^3-H_\\sigma^\\ast e^{i\\alpha}a_\\sigma^{-1}\\right)\\right)$"
   ]
  },
  {
   "cell_type": "code",
   "execution_count": null,
   "metadata": {},
   "outputs": [],
   "source": []
  },
  {
   "cell_type": "code",
   "execution_count": 139,
   "metadata": {},
   "outputs": [
    {
     "data": {
      "text/latex": [
       "$\\displaystyle - \\frac{H^{*}_{\\sigma} \\eta_{\\sigma} b^{*}_{\\sigma}{\\left(t \\right)} e^{i \\alpha}}{4 \\pi} + \\frac{H_{\\sigma} \\eta_{\\sigma} b_{\\sigma}^{3}{\\left(t \\right)} e^{- i \\alpha}}{4 \\pi} + \\frac{i \\eta_{\\sigma} \\omega b_{\\sigma}{\\left(t \\right)}}{2 \\pi} + \\frac{\\eta_{\\sigma} \\frac{d}{d t} b_{\\sigma}{\\left(t \\right)}}{2 \\pi}$"
      ],
      "text/plain": [
       "-H^*_\\sigma*eta_\\sigma*b^*_\\sigma(t)*exp(I*alpha)/(4*pi) + H_\\sigma*eta_\\sigma*b_\\sigma(t)**3*exp(-I*alpha)/(4*pi) + I*eta_\\sigma*omega*b_\\sigma(t)/(2*pi) + eta_\\sigma*Derivative(b_\\sigma(t), t)/(2*pi)"
      ]
     },
     "execution_count": 139,
     "metadata": {},
     "output_type": "execute_result"
    }
   ],
   "source": [
    "coeff_odd[0]"
   ]
  },
  {
   "cell_type": "code",
   "execution_count": null,
   "metadata": {},
   "outputs": [],
   "source": [
    "H,Hs = symbols('H H^*',complex=True)\n",
    "theta,t,n = symbols('theta t n')\n",
    "alpha,beta,omega,eta = symbols('alpha beta omega eta',real=True)\n",
    "a = Function('a')('t')\n",
    "a_s = Function('a^*')('t')\n",
    "B = Sum((b*E**(2*I*theta))**n,(n,1,6)).doit()\n",
    "Bs = Sum((b_s*E**(-2*I*theta))**n,(n,1,6)).doit()\n",
    "f = 1/(2*pi) * (1+(B+Bs))\n",
    "v = omega + 1/(2*I) * (H*E**(-I*(2*theta+alpha))-Hs*E**(I*(2*theta+alpha)))"
   ]
  },
  {
   "cell_type": "markdown",
   "metadata": {},
   "source": [
    "# Initial condition $f_\\sigma$"
   ]
  },
  {
   "cell_type": "code",
   "execution_count": 208,
   "metadata": {},
   "outputs": [],
   "source": [
    "import numpy as np\n",
    "import matplotlib.pyplot as plt\n",
    "def dist_ab(x, a, b, eta):\n",
    "    a_ = a*np.exp(1j*x)/(1-a*np.exp(1j*x))\n",
    "    b_ = b*np.exp(1j*x)/(1-b*np.exp(1j*x))\n",
    "    f1 = 1/(2*np.pi) * (1+ (a_+a_.conjugate()))\n",
    "    f2 = 1/(2*np.pi) * (1+ (b_+b_.conjugate()))\n",
    "    f = (1+eta)/2 *f1+ (1-eta)/2 *f2\n",
    "    return np.real(f)\n",
    "\n",
    "\n",
    "def dist_a(x, a, eta):\n",
    "    f = 1/(np.pi) * (1-a**2 * np.cos(2*x)+eta*a*(1-a**2)*np.cos(x)) / (1-2*a**2*np.cos(2*x)+a**4) - 1/(2*np.pi)\n",
    "    return f"
   ]
  },
  {
   "cell_type": "code",
   "execution_count": 209,
   "metadata": {},
   "outputs": [],
   "source": [
    "x = np.linspace(-np.pi/2, 3*np.pi/2, 10000)\n",
    "xs_ = np.linspace(-np.pi/2, 3*np.pi/2, 5)\n",
    "A2 = np.sqrt(0.6)\n",
    "a2 =  A2*np.exp(0*1j)\n",
    "b2 =  a2* np.exp(np.pi*1j)"
   ]
  },
  {
   "cell_type": "code",
   "execution_count": 210,
   "metadata": {},
   "outputs": [
    {
     "data": {
      "text/plain": [
       "array([-1.57079633,  0.        ,  1.57079633,  3.14159265,  4.71238898])"
      ]
     },
     "execution_count": 210,
     "metadata": {},
     "output_type": "execute_result"
    }
   ],
   "source": [
    "xs_"
   ]
  },
  {
   "cell_type": "code",
   "execution_count": 211,
   "metadata": {},
   "outputs": [
    {
     "name": "stderr",
     "output_type": "stream",
     "text": [
      "/Library/Frameworks/Python.framework/Versions/3.11/lib/python3.11/site-packages/matplotlib/cbook.py:1762: ComplexWarning: Casting complex values to real discards the imaginary part\n",
      "  return math.isfinite(val)\n",
      "/Library/Frameworks/Python.framework/Versions/3.11/lib/python3.11/site-packages/matplotlib/cbook.py:1398: ComplexWarning: Casting complex values to real discards the imaginary part\n",
      "  return np.asarray(x, float)\n"
     ]
    },
    {
     "data": {
      "text/plain": [
       "([<matplotlib.axis.XTick at 0x17f0102d0>,\n",
       "  <matplotlib.axis.XTick at 0x17eee5fd0>,\n",
       "  <matplotlib.axis.XTick at 0x17ef09490>,\n",
       "  <matplotlib.axis.XTick at 0x17f022cd0>,\n",
       "  <matplotlib.axis.XTick at 0x17f038f50>],\n",
       " [Text(-1.5707963267948966, 0, '$-\\\\pi/2$'),\n",
       "  Text(0.0, 0, '$0$'),\n",
       "  Text(1.5707963267948966, 0, '$\\\\pi/2$'),\n",
       "  Text(3.141592653589793, 0, '$\\\\pi$'),\n",
       "  Text(4.71238898038469, 0, '$3\\\\pi/2$')])"
      ]
     },
     "execution_count": 211,
     "metadata": {},
     "output_type": "execute_result"
    },
    {
     "data": {
      "image/png": "[encoded data removed]",
      "text/plain": [
       "<Figure size 640x480 with 1 Axes>"
      ]
     },
     "metadata": {},
     "output_type": "display_data"
    }
   ],
   "source": [
    "f = dist_ab(x,a2,b2,eta=0.1)\n",
    "f2 = dist_a(x,a2,eta=0.1)\n",
    "plt.plot(x,f)\n",
    "plt.plot(x,f2)\n",
    "\n",
    "plt.xticks([*xs_],[r'$-\\pi/2$',r'$0$',r'$\\pi/2$',r'$\\pi$',r'$3\\pi/2$'],fontsize=13)"
   ]
  },
  {
   "cell_type": "code",
   "execution_count": 171,
   "metadata": {},
   "outputs": [
    {
     "data": {
      "text/plain": [
       "(2.1250531303128533, 1.000025002500166)"
      ]
     },
     "execution_count": 171,
     "metadata": {},
     "output_type": "execute_result"
    }
   ],
   "source": [
    "np.sum(np.abs(f2)*(x[1]-x[0])),np.sum(np.abs(f)*(x[1]-x[0]))"
   ]
  },
  {
   "cell_type": "code",
   "execution_count": null,
   "metadata": {},
   "outputs": [],
   "source": []
  }
 ],
 "metadata": {
  "kernelspec": {
   "display_name": "Python 3",
   "language": "python",
   "name": "python3"
  },
  "language_info": {
   "codemirror_mode": {
    "name": "ipython",
    "version": 3
   },
   "file_extension": ".py",
   "mimetype": "text/x-python",
   "name": "python",
   "nbconvert_exporter": "python",
   "pygments_lexer": "ipython3",
   "version": "3.11.9"
  }
 },
 "nbformat": 4,
 "nbformat_minor": 2
}
