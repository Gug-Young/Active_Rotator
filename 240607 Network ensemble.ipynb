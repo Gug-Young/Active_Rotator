{
 "cells": [
  {
   "cell_type": "code",
   "execution_count": 2,
   "metadata": {},
   "outputs": [],
   "source": [
    "from To_sim.for_multi import get_r_sigma_Z_D,get_r_sigma_Z_MF_D\n",
    "import numpy as np\n",
    "import parmap\n",
    "from tqdm.notebook import tqdm\n",
    "import networkx as nx\n",
    "import matplotlib.pyplot as plt\n",
    "import pickle\n",
    "import glob"
   ]
  },
  {
   "cell_type": "code",
   "execution_count": null,
   "metadata": {},
   "outputs": [],
   "source": [
    "A = glob.glob('DATA/*_ENSEMBLE_N*dt = 0.1.npz')"
   ]
  },
  {
   "cell_type": "code",
   "execution_count": null,
   "metadata": {},
   "outputs": [],
   "source": [
    "A = glob.glob('DATA/*_ENSEMBLE*dt = 0.1.npz')\n",
    "plt.figure(figsize=(15,4))\n",
    "NN = ['MF','ER','SF']\n",
    "\n",
    "Name = {'MF':['Complete graph','red'],'ER':['ER graph','green'],'SF':['SF graph','blue']}\n",
    "num = 142\n",
    "leg = []\n",
    "leg_name = []\n",
    "for net in NN:\n",
    "    plt.subplot(141)\n",
    "\n",
    "    for name in A:\n",
    "        temp = np.load(name)\n",
    "        name = name.split('/')[1].split('_')[0]\n",
    "        if net ==  name:\n",
    "            p, = plt.plot(temp['Ds'],temp['BCM'],'.-',label=Name[net][0],color=Name[net][1])\n",
    "            f = plt.fill_between(temp['Ds'],temp['BCM']-temp['BCS'],temp['BCM']+temp['BCS'],color=Name[net][1],alpha=0.3)\n",
    "            leg.append((p,f))\n",
    "            leg_name.append(Name[net][0])\n",
    "            \n",
    "    for name in A:\n",
    "        temp = np.load(name)\n",
    "        name = name.split('/')[1].split('_')[0]\n",
    "        if net ==  name:\n",
    "            if num == 142:\n",
    "                ax2 = plt.subplot(num)\n",
    "            else:\n",
    "                plt.subplot(num,sharey=ax2)\n",
    "            plt.title(Name[net][0],fontsize=15)\n",
    "            rp, = plt.plot(temp['Ds'],temp['BRM'],'o-',color=Name[net][1],label=r'$r$')\n",
    "            rf  = plt.fill_between(temp['Ds'],temp['BRM']-temp['BRS'],temp['BRM']+temp['BRS'],color=Name[net][1],alpha=0.3)\n",
    "            sp, = plt.plot(temp['Ds'],temp['BSM'],'o-',fillstyle='none',c=Name[net][1],label=r'$\\sigma$')\n",
    "            sf  = plt.fill_between(temp['Ds'],temp['BRM']-temp['BRS'],temp['BRM']+temp['BRS'],color=Name[net][1],alpha=0.3)\n",
    "            plt.legend([(rp,rf),(sp,sf)],[r'$r$',r'$\\sigma$'])\n",
    "            # plt.ylim(0,1)\n",
    "            plt.xlim(0,2.0)\n",
    "            plt.xlabel('Ds')\n",
    "            num += 1\n",
    "# plt.subplot(142)\n",
    "plt.sca(ax2)\n",
    "plt.ylabel(r'$r,\\sigma$')\n",
    "\n",
    "plt.subplot(141)\n",
    "plt.legend(leg,leg_name)\n",
    "plt.ylabel(r'$\\tilde{\\chi}$')\n",
    "# plt.ylim(0,10)\n",
    "b = temp['b']\n",
    "# plt.suptitle(f'b = {b}')\n",
    "plt.tight_layout()"
   ]
  }
 ],
 "metadata": {
  "kernelspec": {
   "display_name": "Python 3",
   "language": "python",
   "name": "python3"
  },
  "language_info": {
   "codemirror_mode": {
    "name": "ipython",
    "version": 3
   },
   "file_extension": ".py",
   "mimetype": "text/x-python",
   "name": "python",
   "nbconvert_exporter": "python",
   "pygments_lexer": "ipython3",
   "version": "3.11.8"
  }
 },
 "nbformat": 4,
 "nbformat_minor": 2
}
