{
 "cells": [
  {
   "cell_type": "code",
   "execution_count": 7,
   "metadata": {},
   "outputs": [],
   "source": [
    "import numpy as np\n",
    "from Simul import get_m1_m2,get_RQ_MOA,get_R_simul,get_RQ_MOA2,get_R_simul_wf,get_R_simul_wf2,RK4_ZZ2,Kuramoto_MF_CHIMERA,gen_dist2,gen_dist\n",
    "import matplotlib.pyplot as plt\n",
    "\n",
    "from tqdm.notebook import tqdm\n",
    "from parfor import parfor"
   ]
  },
  {
   "cell_type": "code",
   "execution_count": 8,
   "metadata": {},
   "outputs": [],
   "source": [
    "alpha = 0.2\n",
    "beta = 0.2\n",
    "eta1 = 0.1\n",
    "eta2 = 0.0\n",
    "shift = 0\n",
    "N = 10000\n",
    "Q1 = 1\n",
    "Q2 = 0.6"
   ]
  },
  {
   "cell_type": "code",
   "execution_count": 9,
   "metadata": {},
   "outputs": [],
   "source": [
    "N1 = N2 = N\n",
    "A1 = np.sqrt(Q1)\n",
    "A2 = np.sqrt(Q2)\n",
    "a1 =  A1 *np.exp(0j)\n",
    "b1 =  a1 * np.exp(np.pi*1j)\n",
    "a2 =  A2*np.exp(shift*1j)\n",
    "b2 =  a2* np.exp(np.pi*1j)\n",
    "T1 = np.r_[np.zeros(int((1/2 + eta1/2)*N)),np.pi* np.ones(N - int((1/2 + eta1/2)*N))]\n",
    "T2 = gen_dist(N,a2,b2,eta2)\n",
    "Theta =  np.r_[T1,T2]"
   ]
  },
  {
   "cell_type": "code",
   "execution_count": 14,
   "metadata": {},
   "outputs": [
    {
     "data": {
      "text/plain": [
       "(array([ 51.,  51.,  56.,  60.,  69.,  81., 100., 131., 181., 268., 421.,\n",
       "        645., 785., 643., 417., 266., 178., 130., 100.,  81.,  69.,  60.,\n",
       "         55.,  52.,  50.,  50.,  52.,  55.,  60.,  69.,  81., 100., 130.,\n",
       "        178., 266., 417., 643., 785., 645., 421., 268., 181., 131., 100.,\n",
       "         81.,  69.,  60.,  56.,  51.,  51.]),\n",
       " array([-1.5682828 , -1.44271964, -1.31715647, -1.19159331, -1.06603014,\n",
       "        -0.94046698, -0.81490381, -0.68934065, -0.56377748, -0.43821432,\n",
       "        -0.31265115, -0.18708798, -0.06152482,  0.06403835,  0.18960151,\n",
       "         0.31516468,  0.44072784,  0.56629101,  0.69185417,  0.81741734,\n",
       "         0.9429805 ,  1.06854367,  1.19410683,  1.31967   ,  1.44523316,\n",
       "         1.57079633,  1.69635949,  1.82192266,  1.94748582,  2.07304899,\n",
       "         2.19861215,  2.32417532,  2.44973848,  2.57530165,  2.70086481,\n",
       "         2.82642798,  2.95199114,  3.07755431,  3.20311747,  3.32868064,\n",
       "         3.4542438 ,  3.57980697,  3.70537013,  3.8309333 ,  3.95649646,\n",
       "         4.08205963,  4.20762279,  4.33318596,  4.45874912,  4.58431229,\n",
       "         4.70987545]),\n",
       " <BarContainer object of 50 artists>)"
      ]
     },
     "execution_count": 14,
     "metadata": {},
     "output_type": "execute_result"
    },
    {
     "data": {
      "image/png": "[encoded data removed]",
      "text/plain": [
       "<Figure size 640x480 with 1 Axes>"
      ]
     },
     "metadata": {},
     "output_type": "display_data"
    }
   ],
   "source": [
    "plt.hist(T2,bins=50)"
   ]
  },
  {
   "cell_type": "code",
   "execution_count": null,
   "metadata": {},
   "outputs": [],
   "source": [
    "N1,N2 = N,N\n",
    "K = 1\n",
    "alphas = np.linspace(0,np.pi/2,50)\n",
    "betas = np.linspace(0,1,51)[1:]\n",
    "\n",
    "\n",
    "R1s = []\n",
    "R2s = []\n",
    "Q1s = []\n",
    "Q2s = []\n",
    "\n",
    "for beta in tqdm(betas):\n",
    "\n",
    "    @parfor(alphas,args=(beta,),bar=False)\n",
    "    def ParFOR(alpha,beta):\n",
    "        (Z1as,Z1bs,Z2as,Z2bs) = RK4_ZZ2(Kuramoto_MF_CHIMERA,Theta.copy(),t,args=(N1,N2,beta,alpha,K))\n",
    "        R1 = np.abs(Z1as)[::1000]\n",
    "        R2 = np.abs(Z1bs)[::1000]\n",
    "        Q1 = np.abs(Z2as)[::1000]\n",
    "        Q2 = np.abs(Z2bs)[::1000]\n",
    "        \n",
    "        return R1,R2,Q1,Q2\n",
    "    R1,R2,Q1,Q2 = zip(*ParFOR)\n",
    "    R1s.append(R1)\n",
    "    R2s.append(R2)\n",
    "    Q1s.append(Q1)\n",
    "    Q2s.append(Q2)\n",
    "\n"
   ]
  }
 ],
 "metadata": {
  "kernelspec": {
   "display_name": "Python 3",
   "language": "python",
   "name": "python3"
  },
  "language_info": {
   "codemirror_mode": {
    "name": "ipython",
    "version": 3
   },
   "file_extension": ".py",
   "mimetype": "text/x-python",
   "name": "python",
   "nbconvert_exporter": "python",
   "pygments_lexer": "ipython3",
   "version": "3.11.1"
  }
 },
 "nbformat": 4,
 "nbformat_minor": 2
}
