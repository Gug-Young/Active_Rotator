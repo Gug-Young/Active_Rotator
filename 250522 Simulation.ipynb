{
 "cells": [
  {
   "cell_type": "code",
   "execution_count": 1,
   "metadata": {},
   "outputs": [],
   "source": [
    "import numpy as np\n",
    "from Simul import get_m1_m2,get_RQ_MOA,get_R_simul,get_RQ_MOA2,get_R_simul_wf,get_R_simul_wf2,RK4_ZZ2,Kuramoto_MF_CHIMERA,gen_dist2,gen_dist\n",
    "import matplotlib.pyplot as plt\n",
    "\n",
    "from tqdm.notebook import tqdm\n",
    "from parfor import parfor"
   ]
  },
  {
   "cell_type": "code",
   "execution_count": 5,
   "metadata": {},
   "outputs": [],
   "source": [
    "alpha = 0.2\n",
    "beta = 0.2\n",
    "eta1 = 0.1\n",
    "eta2 = 0.0\n",
    "shift = 0\n",
    "N = 10000\n",
    "Q1 = 1\n",
    "Q2 = 0.6\n",
    "t_end = 20_001\n",
    "t = np.arange(0,t_end,0.1)\n"
   ]
  },
  {
   "cell_type": "code",
   "execution_count": null,
   "metadata": {},
   "outputs": [],
   "source": [
    "import numpy as np\n",
    "from Simul import get_m1_m2,get_RQ_MOA,get_R_simul,get_RQ_MOA2,get_R_simul_wf,get_R_simul_wf2,RK4_ZZ2,Kuramoto_MF_CHIMERA,gen_dist2,gen_dist\n",
    "import matplotlib.pyplot as plt\n",
    "\n",
    "from tqdm.notebook import tqdm\n",
    "from parfor import parfor"
   ]
  },
  {
   "cell_type": "code",
   "execution_count": null,
   "metadata": {},
   "outputs": [],
   "source": [
    "alpha = 0.2\n",
    "beta = 0.2\n",
    "eta1 = 0.1\n",
    "eta2 = 0.0\n",
    "shift = 0\n",
    "N = 10000\n",
    "Q1 = 1\n",
    "Q2 = 0.6\n",
    "t_end = 20_001\n",
    "t = np.arange(0,t_end,0.1)\n"
   ]
  },
  {
   "cell_type": "code",
   "execution_count": null,
   "metadata": {},
   "outputs": [],
   "source": [
    "N1 = N2 = N\n",
    "A1 = np.sqrt(Q1)\n",
    "A2 = np.sqrt(Q2)\n",
    "a1 =  A1 *np.exp(0j)\n",
    "b1 =  a1 * np.exp(np.pi*1j)\n",
    "a2 =  A2*np.exp(shift*1j)\n",
    "b2 =  a2* np.exp(np.pi*1j)\n",
    "T1 = np.r_[np.zeros(int((1/2 + eta1/2)*N)),np.pi* np.ones(N - int((1/2 + eta1/2)*N))]\n",
    "T2 = gen_dist(N,a2,b2,eta2)\n",
    "Theta =  np.r_[T1,T2]"
   ]
  },
  {
   "cell_type": "code",
   "execution_count": null,
   "metadata": {},
   "outputs": [
    {
     "data": {
      "text/plain": [
       "(array([ 51.,  51.,  56.,  60.,  69.,  81., 100., 131., 181., 268., 421.,\n",
       "        645., 785., 643., 417., 266., 178., 130., 100.,  81.,  69.,  60.,\n",
       "         55.,  52.,  50.,  50.,  52.,  55.,  60.,  69.,  81., 100., 130.,\n",
       "        178., 266., 417., 643., 785., 645., 421., 268., 181., 131., 100.,\n",
       "         81.,  69.,  60.,  56.,  51.,  51.]),\n",
       " array([-1.5682828 , -1.44271964, -1.31715647, -1.19159331, -1.06603014,\n",
       "        -0.94046698, -0.81490381, -0.68934065, -0.56377748, -0.43821432,\n",
       "        -0.31265115, -0.18708798, -0.06152482,  0.06403835,  0.18960151,\n",
       "         0.31516468,  0.44072784,  0.56629101,  0.69185417,  0.81741734,\n",
       "         0.9429805 ,  1.06854367,  1.19410683,  1.31967   ,  1.44523316,\n",
       "         1.57079633,  1.69635949,  1.82192266,  1.94748582,  2.07304899,\n",
       "         2.19861215,  2.32417532,  2.44973848,  2.57530165,  2.70086481,\n",
       "         2.82642798,  2.95199114,  3.07755431,  3.20311747,  3.32868064,\n",
       "         3.4542438 ,  3.57980697,  3.70537013,  3.8309333 ,  3.95649646,\n",
       "         4.08205963,  4.20762279,  4.33318596,  4.45874912,  4.58431229,\n",
       "         4.70987545]),\n",
       " <BarContainer object of 50 artists>)"
      ]
     },
     "metadata": {},
     "output_type": "display_data"
    },
    {
     "data": {
      "image/png": "[encoded data removed]",
      "text/plain": [
       "<Figure size 640x480 with 1 Axes>"
      ]
     },
     "metadata": {},
     "output_type": "display_data"
    }
   ],
   "source": [
    "plt.hist(T2,bins=50)"
   ]
  },
  {
   "cell_type": "code",
   "execution_count": null,
   "metadata": {},
   "outputs": [
    {
     "data": {
      "application/vnd.jupyter.widget-view+json": {
       "model_id": "fcb4dbffae7c45af866914c61e3e3569",
       "version_major": 2,
       "version_minor": 0
      },
      "text/plain": [
       "  0%|          | 0/50 [00:00<?, ?it/s]"
      ]
     },
     "metadata": {},
     "output_type": "display_data"
    }
   ],
   "source": [
    "N1,N2 = N,N\n",
    "K = 1\n",
    "alphas = np.linspace(0,np.pi/2,50)\n",
    "betas = np.linspace(0,1,51)[1:]\n",
    "\n",
    "\n",
    "R1s = []\n",
    "R2s = []\n",
    "Q1s = []\n",
    "Q2s = []\n",
    "\n",
    "for beta in tqdm(betas):\n",
    "\n",
    "    @parfor(alphas,args=(beta,),bar=False)\n",
    "    def ParFOR(alpha,beta):\n",
    "        (Z1as,Z1bs,Z2as,Z2bs) = RK4_ZZ2(Kuramoto_MF_CHIMERA,Theta.copy(),t,args=(N1,N2,beta,alpha,K))\n",
    "        R1 = np.abs(Z1as)[::1000]\n",
    "        R2 = np.abs(Z1bs)[::1000]\n",
    "        Q1 = np.abs(Z2as)[::1000]\n",
    "        Q2 = np.abs(Z2bs)[::1000]\n",
    "        \n",
    "        return R1,R2,Q1,Q2\n",
    "    R1,R2,Q1,Q2 = zip(*ParFOR)\n",
    "    R1s.append(R1)\n",
    "    R2s.append(R2)\n",
    "    Q1s.append(Q1)\n",
    "    Q2s.append(Q2)\n",
    "\n"
   ]
  },
  {
   "cell_type": "code",
   "execution_count": 6,
   "metadata": {},
   "outputs": [],
   "source": [
    "N1 = N2 = N\n",
    "A1 = np.sqrt(Q1)\n",
    "A2 = np.sqrt(Q2)\n",
    "a1 =  A1 *np.exp(0j)\n",
    "b1 =  a1 * np.exp(np.pi*1j)\n",
    "a2 =  A2*np.exp(shift*1j)\n",
    "b2 =  a2* np.exp(np.pi*1j)\n",
    "T1 = np.r_[np.zeros(int((1/2 + eta1/2)*N)),np.pi* np.ones(N - int((1/2 + eta1/2)*N))]\n",
    "T2 = gen_dist(N,a2,b2,eta2)\n",
    "Theta =  np.r_[T1,T2]"
   ]
  },
  {
   "cell_type": "code",
   "execution_count": 4,
   "metadata": {},
   "outputs": [
    {
     "data": {
      "text/plain": [
       "(array([ 51.,  51.,  56.,  60.,  69.,  81., 100., 131., 181., 268., 421.,\n",
       "        645., 785., 643., 417., 266., 178., 130., 100.,  81.,  69.,  60.,\n",
       "         55.,  52.,  50.,  50.,  52.,  55.,  60.,  69.,  81., 100., 130.,\n",
       "        178., 266., 417., 643., 785., 645., 421., 268., 181., 131., 100.,\n",
       "         81.,  69.,  60.,  56.,  51.,  51.]),\n",
       " array([-1.5682828 , -1.44271964, -1.31715647, -1.19159331, -1.06603014,\n",
       "        -0.94046698, -0.81490381, -0.68934065, -0.56377748, -0.43821432,\n",
       "        -0.31265115, -0.18708798, -0.06152482,  0.06403835,  0.18960151,\n",
       "         0.31516468,  0.44072784,  0.56629101,  0.69185417,  0.81741734,\n",
       "         0.9429805 ,  1.06854367,  1.19410683,  1.31967   ,  1.44523316,\n",
       "         1.57079633,  1.69635949,  1.82192266,  1.94748582,  2.07304899,\n",
       "         2.19861215,  2.32417532,  2.44973848,  2.57530165,  2.70086481,\n",
       "         2.82642798,  2.95199114,  3.07755431,  3.20311747,  3.32868064,\n",
       "         3.4542438 ,  3.57980697,  3.70537013,  3.8309333 ,  3.95649646,\n",
       "         4.08205963,  4.20762279,  4.33318596,  4.45874912,  4.58431229,\n",
       "         4.70987545]),\n",
       " <BarContainer object of 50 artists>)"
      ]
     },
     "execution_count": 4,
     "metadata": {},
     "output_type": "execute_result"
    },
    {
     "data": {
      "image/png": "[encoded data removed]",
      "text/plain": [
       "<Figure size 640x480 with 1 Axes>"
      ]
     },
     "metadata": {},
     "output_type": "display_data"
    }
   ],
   "source": [
    "plt.hist(T2,bins=50)"
   ]
  },
  {
   "cell_type": "code",
   "execution_count": 7,
   "metadata": {},
   "outputs": [
    {
     "data": {
      "application/vnd.jupyter.widget-view+json": {
       "model_id": "fcb4dbffae7c45af866914c61e3e3569",
       "version_major": 2,
       "version_minor": 0
      },
      "text/plain": [
       "  0%|          | 0/50 [00:00<?, ?it/s]"
      ]
     },
     "metadata": {},
     "output_type": "display_data"
    },
    {
     "ename": "KeyboardInterrupt",
     "evalue": "",
     "output_type": "error",
     "traceback": [
      "\u001b[31m---------------------------------------------------------------------------\u001b[39m",
      "\u001b[31mKeyboardInterrupt\u001b[39m                         Traceback (most recent call last)",
      "\u001b[36mCell\u001b[39m\u001b[36m \u001b[39m\u001b[32mIn[7]\u001b[39m\u001b[32m, line 14\u001b[39m\n\u001b[32m     10\u001b[39m Q2s = []\n\u001b[32m     12\u001b[39m \u001b[38;5;28;01mfor\u001b[39;00m beta \u001b[38;5;129;01min\u001b[39;00m tqdm(betas):\n\u001b[32m---> \u001b[39m\u001b[32m14\u001b[39m \u001b[43m    \u001b[49m\u001b[38;5;129;43m@parfor\u001b[39;49m\u001b[43m(\u001b[49m\u001b[43malphas\u001b[49m\u001b[43m,\u001b[49m\u001b[43margs\u001b[49m\u001b[43m=\u001b[49m\u001b[43m(\u001b[49m\u001b[43mbeta\u001b[49m\u001b[43m,\u001b[49m\u001b[43m)\u001b[49m\u001b[43m,\u001b[49m\u001b[43mbar\u001b[49m\u001b[43m=\u001b[49m\u001b[38;5;28;43;01mFalse\u001b[39;49;00m\u001b[43m)\u001b[49m\n\u001b[32m     15\u001b[39m \u001b[43m    \u001b[49m\u001b[38;5;28;43;01mdef\u001b[39;49;00m\u001b[38;5;250;43m \u001b[39;49m\u001b[34;43mParFOR\u001b[39;49m\u001b[43m(\u001b[49m\u001b[43malpha\u001b[49m\u001b[43m,\u001b[49m\u001b[43mbeta\u001b[49m\u001b[43m)\u001b[49m\u001b[43m:\u001b[49m\n\u001b[32m     16\u001b[39m \u001b[43m        \u001b[49m\u001b[43m(\u001b[49m\u001b[43mZ1as\u001b[49m\u001b[43m,\u001b[49m\u001b[43mZ1bs\u001b[49m\u001b[43m,\u001b[49m\u001b[43mZ2as\u001b[49m\u001b[43m,\u001b[49m\u001b[43mZ2bs\u001b[49m\u001b[43m)\u001b[49m\u001b[43m \u001b[49m\u001b[43m=\u001b[49m\u001b[43m \u001b[49m\u001b[43mRK4_ZZ2\u001b[49m\u001b[43m(\u001b[49m\u001b[43mKuramoto_MF_CHIMERA\u001b[49m\u001b[43m,\u001b[49m\u001b[43mTheta\u001b[49m\u001b[43m.\u001b[49m\u001b[43mcopy\u001b[49m\u001b[43m(\u001b[49m\u001b[43m)\u001b[49m\u001b[43m,\u001b[49m\u001b[43mt\u001b[49m\u001b[43m,\u001b[49m\u001b[43margs\u001b[49m\u001b[43m=\u001b[49m\u001b[43m(\u001b[49m\u001b[43mN1\u001b[49m\u001b[43m,\u001b[49m\u001b[43mN2\u001b[49m\u001b[43m,\u001b[49m\u001b[43mbeta\u001b[49m\u001b[43m,\u001b[49m\u001b[43malpha\u001b[49m\u001b[43m,\u001b[49m\u001b[43mK\u001b[49m\u001b[43m)\u001b[49m\u001b[43m)\u001b[49m\n\u001b[32m     17\u001b[39m \u001b[43m        \u001b[49m\u001b[43mR1\u001b[49m\u001b[43m \u001b[49m\u001b[43m=\u001b[49m\u001b[43m \u001b[49m\u001b[43mnp\u001b[49m\u001b[43m.\u001b[49m\u001b[43mabs\u001b[49m\u001b[43m(\u001b[49m\u001b[43mZ1as\u001b[49m\u001b[43m)\u001b[49m\u001b[43m[\u001b[49m\u001b[43m:\u001b[49m\u001b[43m:\u001b[49m\u001b[32;43m1000\u001b[39;49m\u001b[43m]\u001b[49m\n",
      "\u001b[36mFile \u001b[39m\u001b[32m~\\AppData\\Local\\Packages\\PythonSoftwareFoundation.Python.3.11_qbz5n2kfra8p0\\LocalCache\\local-packages\\Python311\\site-packages\\parfor\\__init__.py:289\u001b[39m, in \u001b[36mparfor.<locals>.decfun\u001b[39m\u001b[34m(fun)\u001b[39m\n\u001b[32m    288\u001b[39m \u001b[38;5;28;01mdef\u001b[39;00m\u001b[38;5;250m \u001b[39m\u001b[34mdecfun\u001b[39m(fun: Callable[[Any, ...], Any]) -> \u001b[38;5;28mlist\u001b[39m[Any]:\n\u001b[32m--> \u001b[39m\u001b[32m289\u001b[39m     \u001b[38;5;28;01mreturn\u001b[39;00m \u001b[43mpmap\u001b[49m\u001b[43m(\u001b[49m\u001b[43mfun\u001b[49m\u001b[43m,\u001b[49m\u001b[43m \u001b[49m\u001b[43m*\u001b[49m\u001b[43margs\u001b[49m\u001b[43m,\u001b[49m\u001b[43m \u001b[49m\u001b[43m*\u001b[49m\u001b[43m*\u001b[49m\u001b[43mkwargs\u001b[49m\u001b[43m)\u001b[49m\n",
      "\u001b[36mFile \u001b[39m\u001b[32m~\\AppData\\Local\\Packages\\PythonSoftwareFoundation.Python.3.11_qbz5n2kfra8p0\\LocalCache\\local-packages\\Python311\\site-packages\\parfor\\__init__.py:284\u001b[39m, in \u001b[36mpmap\u001b[39m\u001b[34m(*args, **kwargs)\u001b[39m\n\u001b[32m    283\u001b[39m \u001b[38;5;28;01mdef\u001b[39;00m\u001b[38;5;250m \u001b[39m\u001b[34mpmap\u001b[39m(*args, **kwargs) -> \u001b[38;5;28mlist\u001b[39m[Any]:\n\u001b[32m--> \u001b[39m\u001b[32m284\u001b[39m     \u001b[38;5;28;01mreturn\u001b[39;00m \u001b[38;5;28;43mlist\u001b[39;49m\u001b[43m(\u001b[49m\u001b[43mgmap\u001b[49m\u001b[43m(\u001b[49m\u001b[43m*\u001b[49m\u001b[43margs\u001b[49m\u001b[43m,\u001b[49m\u001b[43m \u001b[49m\u001b[43m*\u001b[49m\u001b[43m*\u001b[49m\u001b[43mkwargs\u001b[49m\u001b[43m)\u001b[49m\u001b[43m)\u001b[49m\n",
      "\u001b[36mFile \u001b[39m\u001b[32m~\\AppData\\Local\\Packages\\PythonSoftwareFoundation.Python.3.11_qbz5n2kfra8p0\\LocalCache\\local-packages\\Python311\\site-packages\\parfor\\__init__.py:271\u001b[39m, in \u001b[36mgmap\u001b[39m\u001b[34m(fun, iterable, args, kwargs, total, desc, bar, terminator, serial, length, n_processes, yield_ordered, yield_index, **bar_kwargs)\u001b[39m\n\u001b[32m    269\u001b[39m     \u001b[38;5;28;01melse\u001b[39;00m:\n\u001b[32m    270\u001b[39m         \u001b[38;5;28;01mfor\u001b[39;00m i \u001b[38;5;129;01min\u001b[39;00m \u001b[38;5;28mrange\u001b[39m(\u001b[38;5;28mlen\u001b[39m(iterable)):\n\u001b[32m--> \u001b[39m\u001b[32m271\u001b[39m             \u001b[38;5;28;01myield from\u001b[39;00m \u001b[43mp\u001b[49m\u001b[43m[\u001b[49m\u001b[43mi\u001b[49m\u001b[43m]\u001b[49m\n\u001b[32m    272\u001b[39m \u001b[38;5;28;01melse\u001b[39;00m:\n\u001b[32m    273\u001b[39m     \u001b[38;5;28;01mif\u001b[39;00m yield_index:\n",
      "\u001b[36mFile \u001b[39m\u001b[32m~\\AppData\\Local\\Packages\\PythonSoftwareFoundation.Python.3.11_qbz5n2kfra8p0\\LocalCache\\local-packages\\Python311\\site-packages\\parfor\\gil.py:221\u001b[39m, in \u001b[36mParPool.__getitem__\u001b[39m\u001b[34m(self, handle)\u001b[39m\n\u001b[32m    219\u001b[39m     \u001b[38;5;28;01mraise\u001b[39;00m \u001b[38;5;167;01mValueError\u001b[39;00m(\u001b[33mf\u001b[39m\u001b[33m'\u001b[39m\u001b[33mNo handle: \u001b[39m\u001b[38;5;132;01m{\u001b[39;00mhandle\u001b[38;5;132;01m}\u001b[39;00m\u001b[33m in pool\u001b[39m\u001b[33m'\u001b[39m)\n\u001b[32m    220\u001b[39m \u001b[38;5;28;01mwhile\u001b[39;00m \u001b[38;5;129;01mnot\u001b[39;00m \u001b[38;5;28mself\u001b[39m.tasks[handle].done:\n\u001b[32m--> \u001b[39m\u001b[32m221\u001b[39m     \u001b[38;5;28;01mif\u001b[39;00m \u001b[38;5;129;01mnot\u001b[39;00m \u001b[38;5;28;43mself\u001b[39;49m\u001b[43m.\u001b[49m\u001b[43mspool\u001b[49m\u001b[43m.\u001b[49m\u001b[43mget_from_queue\u001b[49m\u001b[43m(\u001b[49m\u001b[43m)\u001b[49m \u001b[38;5;129;01mand\u001b[39;00m \u001b[38;5;129;01mnot\u001b[39;00m \u001b[38;5;28mself\u001b[39m.tasks[handle].done \u001b[38;5;129;01mand\u001b[39;00m \u001b[38;5;28mself\u001b[39m.is_started \\\n\u001b[32m    222\u001b[39m             \u001b[38;5;129;01mand\u001b[39;00m \u001b[38;5;129;01mnot\u001b[39;00m \u001b[38;5;28mself\u001b[39m.working:\n\u001b[32m    223\u001b[39m         \u001b[38;5;28;01mfor\u001b[39;00m _ \u001b[38;5;129;01min\u001b[39;00m \u001b[38;5;28mrange\u001b[39m(\u001b[32m10\u001b[39m):  \u001b[38;5;66;03m# wait some time while processing possible new messages\u001b[39;00m\n\u001b[32m    224\u001b[39m             \u001b[38;5;28mself\u001b[39m.spool.get_from_queue()\n",
      "\u001b[36mFile \u001b[39m\u001b[32m~\\AppData\\Local\\Packages\\PythonSoftwareFoundation.Python.3.11_qbz5n2kfra8p0\\LocalCache\\local-packages\\Python311\\site-packages\\parfor\\gil.py:338\u001b[39m, in \u001b[36mPoolSingleton.get_from_queue\u001b[39m\u001b[34m(self)\u001b[39m\n\u001b[32m    336\u001b[39m \u001b[38;5;250m\u001b[39m\u001b[33;03m\"\"\" Get an item from the queue and store it, return True if more messages are waiting. \"\"\"\u001b[39;00m\n\u001b[32m    337\u001b[39m \u001b[38;5;28;01mtry\u001b[39;00m:\n\u001b[32m--> \u001b[39m\u001b[32m338\u001b[39m     code, pool_id, *args = \u001b[38;5;28;43mself\u001b[39;49m\u001b[43m.\u001b[49m\u001b[43mqueue_out\u001b[49m\u001b[43m.\u001b[49m\u001b[43mget\u001b[49m\u001b[43m(\u001b[49m\u001b[38;5;28;43;01mTrue\u001b[39;49;00m\u001b[43m,\u001b[49m\u001b[43m \u001b[49m\u001b[32;43m0.02\u001b[39;49m\u001b[43m)\u001b[49m\n\u001b[32m    339\u001b[39m     \u001b[38;5;28;01mif\u001b[39;00m pool_id \u001b[38;5;129;01mis\u001b[39;00m \u001b[38;5;28;01mNone\u001b[39;00m:\n\u001b[32m    340\u001b[39m         \u001b[38;5;28mgetattr\u001b[39m(\u001b[38;5;28mself\u001b[39m, code)(*args)\n",
      "\u001b[36mFile \u001b[39m\u001b[32mC:\\Program Files\\WindowsApps\\PythonSoftwareFoundation.Python.3.11_3.11.2544.0_x64__qbz5n2kfra8p0\\Lib\\multiprocessing\\queues.py:113\u001b[39m, in \u001b[36mQueue.get\u001b[39m\u001b[34m(self, block, timeout)\u001b[39m\n\u001b[32m    111\u001b[39m \u001b[38;5;28;01mif\u001b[39;00m block:\n\u001b[32m    112\u001b[39m     timeout = deadline - time.monotonic()\n\u001b[32m--> \u001b[39m\u001b[32m113\u001b[39m     \u001b[38;5;28;01mif\u001b[39;00m \u001b[38;5;129;01mnot\u001b[39;00m \u001b[38;5;28;43mself\u001b[39;49m\u001b[43m.\u001b[49m\u001b[43m_poll\u001b[49m\u001b[43m(\u001b[49m\u001b[43mtimeout\u001b[49m\u001b[43m)\u001b[49m:\n\u001b[32m    114\u001b[39m         \u001b[38;5;28;01mraise\u001b[39;00m Empty\n\u001b[32m    115\u001b[39m \u001b[38;5;28;01melif\u001b[39;00m \u001b[38;5;129;01mnot\u001b[39;00m \u001b[38;5;28mself\u001b[39m._poll():\n",
      "\u001b[36mFile \u001b[39m\u001b[32mC:\\Program Files\\WindowsApps\\PythonSoftwareFoundation.Python.3.11_3.11.2544.0_x64__qbz5n2kfra8p0\\Lib\\multiprocessing\\connection.py:257\u001b[39m, in \u001b[36m_ConnectionBase.poll\u001b[39m\u001b[34m(self, timeout)\u001b[39m\n\u001b[32m    255\u001b[39m \u001b[38;5;28mself\u001b[39m._check_closed()\n\u001b[32m    256\u001b[39m \u001b[38;5;28mself\u001b[39m._check_readable()\n\u001b[32m--> \u001b[39m\u001b[32m257\u001b[39m \u001b[38;5;28;01mreturn\u001b[39;00m \u001b[38;5;28;43mself\u001b[39;49m\u001b[43m.\u001b[49m\u001b[43m_poll\u001b[49m\u001b[43m(\u001b[49m\u001b[43mtimeout\u001b[49m\u001b[43m)\u001b[49m\n",
      "\u001b[36mFile \u001b[39m\u001b[32mC:\\Program Files\\WindowsApps\\PythonSoftwareFoundation.Python.3.11_3.11.2544.0_x64__qbz5n2kfra8p0\\Lib\\multiprocessing\\connection.py:346\u001b[39m, in \u001b[36mPipeConnection._poll\u001b[39m\u001b[34m(self, timeout)\u001b[39m\n\u001b[32m    343\u001b[39m \u001b[38;5;28;01mif\u001b[39;00m (\u001b[38;5;28mself\u001b[39m._got_empty_message \u001b[38;5;129;01mor\u001b[39;00m\n\u001b[32m    344\u001b[39m             _winapi.PeekNamedPipe(\u001b[38;5;28mself\u001b[39m._handle)[\u001b[32m0\u001b[39m] != \u001b[32m0\u001b[39m):\n\u001b[32m    345\u001b[39m     \u001b[38;5;28;01mreturn\u001b[39;00m \u001b[38;5;28;01mTrue\u001b[39;00m\n\u001b[32m--> \u001b[39m\u001b[32m346\u001b[39m \u001b[38;5;28;01mreturn\u001b[39;00m \u001b[38;5;28mbool\u001b[39m(\u001b[43mwait\u001b[49m\u001b[43m(\u001b[49m\u001b[43m[\u001b[49m\u001b[38;5;28;43mself\u001b[39;49m\u001b[43m]\u001b[49m\u001b[43m,\u001b[49m\u001b[43m \u001b[49m\u001b[43mtimeout\u001b[49m\u001b[43m)\u001b[49m)\n",
      "\u001b[36mFile \u001b[39m\u001b[32mC:\\Program Files\\WindowsApps\\PythonSoftwareFoundation.Python.3.11_3.11.2544.0_x64__qbz5n2kfra8p0\\Lib\\multiprocessing\\connection.py:896\u001b[39m, in \u001b[36mwait\u001b[39m\u001b[34m(object_list, timeout)\u001b[39m\n\u001b[32m    893\u001b[39m                 ready_objects.add(o)\n\u001b[32m    894\u001b[39m                 timeout = \u001b[32m0\u001b[39m\n\u001b[32m--> \u001b[39m\u001b[32m896\u001b[39m     ready_handles = \u001b[43m_exhaustive_wait\u001b[49m\u001b[43m(\u001b[49m\u001b[43mwaithandle_to_obj\u001b[49m\u001b[43m.\u001b[49m\u001b[43mkeys\u001b[49m\u001b[43m(\u001b[49m\u001b[43m)\u001b[49m\u001b[43m,\u001b[49m\u001b[43m \u001b[49m\u001b[43mtimeout\u001b[49m\u001b[43m)\u001b[49m\n\u001b[32m    897\u001b[39m \u001b[38;5;28;01mfinally\u001b[39;00m:\n\u001b[32m    898\u001b[39m     \u001b[38;5;66;03m# request that overlapped reads stop\u001b[39;00m\n\u001b[32m    899\u001b[39m     \u001b[38;5;28;01mfor\u001b[39;00m ov \u001b[38;5;129;01min\u001b[39;00m ov_list:\n",
      "\u001b[36mFile \u001b[39m\u001b[32mC:\\Program Files\\WindowsApps\\PythonSoftwareFoundation.Python.3.11_3.11.2544.0_x64__qbz5n2kfra8p0\\Lib\\multiprocessing\\connection.py:828\u001b[39m, in \u001b[36m_exhaustive_wait\u001b[39m\u001b[34m(handles, timeout)\u001b[39m\n\u001b[32m    826\u001b[39m ready = []\n\u001b[32m    827\u001b[39m \u001b[38;5;28;01mwhile\u001b[39;00m L:\n\u001b[32m--> \u001b[39m\u001b[32m828\u001b[39m     res = _winapi.WaitForMultipleObjects(L, \u001b[38;5;28;01mFalse\u001b[39;00m, timeout)\n\u001b[32m    829\u001b[39m     \u001b[38;5;28;01mif\u001b[39;00m res == WAIT_TIMEOUT:\n\u001b[32m    830\u001b[39m         \u001b[38;5;28;01mbreak\u001b[39;00m\n",
      "\u001b[31mKeyboardInterrupt\u001b[39m: "
     ]
    }
   ],
   "source": [
    "N1,N2 = N,N\n",
    "K = 1\n",
    "alphas = np.linspace(0,np.pi/2,50)\n",
    "betas = np.linspace(0,1,51)[1:]\n",
    "\n",
    "\n",
    "R1s = []\n",
    "R2s = []\n",
    "Q1s = []\n",
    "Q2s = []\n",
    "\n",
    "for beta in tqdm(betas):\n",
    "\n",
    "    @parfor(alphas,args=(beta,),bar=False)\n",
    "    def ParFOR(alpha,beta):\n",
    "        (Z1as,Z1bs,Z2as,Z2bs) = RK4_ZZ2(Kuramoto_MF_CHIMERA,Theta.copy(),t,args=(N1,N2,beta,alpha,K))\n",
    "        R1 = np.abs(Z1as)[::1000]\n",
    "        R2 = np.abs(Z1bs)[::1000]\n",
    "        Q1 = np.abs(Z2as)[::1000]\n",
    "        Q2 = np.abs(Z2bs)[::1000]\n",
    "        \n",
    "        return R1,R2,Q1,Q2\n",
    "    R1,R2,Q1,Q2 = zip(*ParFOR)\n",
    "    R1s.append(R1)\n",
    "    R2s.append(R2)\n",
    "    Q1s.append(Q1)\n",
    "    Q2s.append(Q2)\n",
    "\n"
   ]
  },
  {
   "cell_type": "code",
   "execution_count": null,
   "metadata": {},
   "outputs": [],
   "source": []
  }
 ],
 "metadata": {
  "kernelspec": {
   "display_name": "Python 3",
   "language": "python",
   "name": "python3"
  },
  "language_info": {
   "codemirror_mode": {
    "name": "ipython",
    "version": 3
   },
   "file_extension": ".py",
   "mimetype": "text/x-python",
   "name": "python",
   "nbconvert_exporter": "python",
   "pygments_lexer": "ipython3",
   "version": "3.11.9"
  }
 },
 "nbformat": 4,
 "nbformat_minor": 2
}
