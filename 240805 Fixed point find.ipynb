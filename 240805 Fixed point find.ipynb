{
 "cells": [
  {
   "cell_type": "code",
   "execution_count": null,
   "metadata": {},
   "outputs": [],
   "source": [
    "import numpy as np\n",
    "import matplotlib.pyplot as plt\n",
    "from numba import njit"
   ]
  },
  {
   "cell_type": "code",
   "execution_count": null,
   "metadata": {},
   "outputs": [],
   "source": [
    "@njit()\n",
    "def RK4(f, y0, t, args=()):\n",
    "    n = len(t)\n",
    "    y = np.zeros((n,len(y0)))\n",
    "    y[0] = y0\n",
    "\n",
    "    for i in range(n - 1):\n",
    "        h = t[i + 1] - t[i]\n",
    "        k1 = f(y[i], t[i], *args)\n",
    "        k2 = f(y[i] + k1 * h / 2.0, t[i] + h / 2.0, *args)\n",
    "        k3 = f(y[i] + k2 * h / 2.0, t[i] + h / 2.0, *args)\n",
    "        k4 = f(y[i] + k3 * h, t[i] + h, *args)\n",
    "        y[i + 1] = y[i] + (h / 6.0) * (k1 + 2 * k2 + 2 * k3 + k4)\n",
    "    return y\n",
    "args = ()\n",
    "@njit()\n",
    "def myFun(u,t=0,args = args):\n",
    "    r = u[0]\n",
    "    phi = u[1]\n",
    "    beta,alpha,eta1,eta2 = args\n",
    "    dr = 1/2 * r* (1-r**2)*(eta2**2 * r**2 * np.cos(alpha) + 2 * beta*eta1*eta2*r*np.cos(alpha+phi) + beta**2 * eta1**2 * np.cos(alpha + 2*phi))\n",
    "    dpsi2 = -1/2 * (1+r**2)*(eta2**2 * r**2 * np.sin(alpha) + 2 * beta*eta1*eta2*r*np.sin(alpha+phi) + beta**2 * eta1**2 * np.sin(alpha + 2*phi))\n",
    "    dpsi1 = -1/2 * (2)*(eta1**2 * np.sin(alpha) + 2 * beta*eta1*eta2*r *np.sin(alpha-phi) + beta**2 * eta2**2 * r**2 * np.sin(alpha-2*phi))\n",
    "    dphi = dpsi2 - dpsi1\n",
    "    return np.array([dr,dphi])\n",
    "\n",
    "def myFun2(u,t=0,args = args):\n",
    "    r = u[0]\n",
    "    phi = u[1]\n",
    "    beta,alpha,eta1,eta2 = args\n",
    "    dr = 1/2 * r* (1-r**2)*(eta2**2 * r**2 * np.cos(alpha) + 2 * beta*eta1*eta2*r*np.cos(alpha+phi) + beta**2 * eta1**2 * np.cos(alpha + 2*phi))\n",
    "    dpsi2 = -1/2 * (1+r**2)*(eta2**2 * r**2 * np.sin(alpha) + 2 * beta*eta1*eta2*r*np.sin(alpha+phi) + beta**2 * eta1**2 * np.sin(alpha + 2*phi))\n",
    "    dpsi1 = -1/2 * (2)*(eta1**2 * np.sin(alpha) + 2 * beta*eta1*eta2*r *np.sin(alpha-phi) + beta**2 * eta2**2 * r**2 * np.sin(alpha-2*phi))\n",
    "    dphi =  dpsi2 - dpsi1\n",
    "    return np.array([dr,dphi])\n"
   ]
  },
  {
   "cell_type": "code",
   "execution_count": null,
   "metadata": {},
   "outputs": [],
   "source": [
    "# beta = 0.7\n",
    "# alpha = 1.2\n",
    "# eta1 = 0.1\n",
    "# eta2 = 0.05\n",
    "\n",
    "alpha = 0.5\n",
    "beta = 0.8\n",
    "eta1 = 0.1\n",
    "eta2 = 0.05\n",
    "\n",
    "args = beta,alpha,eta1,eta2\n",
    "t = np.arange(0,6000,0.1)\n",
    "y = np.linspace(0,0,1)\n",
    "x = np.linspace(0,2*np.pi,5)\n",
    "X,Y = np.meshgrid(x,y)\n",
    "fx = 0.5\n",
    "fy = 0.5\n",
    "# u0s = [[1-1e-3,0],[0 + 1e-3,1],[fx,fy]]\n",
    "u0s = [[1,0],[0,0],[0.2,0],[0.3,0],[0.6, 0],[0.9114966199929684-0.1,3.072208206306462+0.1]]\n",
    "# u0s = [[x_,y_] for x_,y_ in zip(X.flatten(),Y.flatten()) ]\n",
    "plt.figure(dpi=500)\n",
    "for i,u0 in enumerate(u0s):\n",
    "\n",
    "\tu = RK4(myFun,np.array(u0,dtype=float),t,args=(args,))\n",
    "\tif i == 3:\n",
    "\t\tc = plt.scatter(u[0,0],u[0,1]%(np.pi*2),s=50,label=r'$\\vec{x}^*(0)=(%.1f,%.1f)$'%(u0[0],u0[1]))\n",
    "\telse:\t\n",
    "\t\tc = plt.scatter(u[0,0],u[0,1]%(np.pi*2),s=50,label=r'$\\vec{x}(0)=(%.1f,%.1f)$'%(u0[0],u0[1]))\n",
    "\tplt.scatter(u[-1,0],u[-1,1]%(np.pi*2),s=50,marker='s',zorder=7,color=c.get_facecolor())\n",
    "\tplt.scatter(u[:,0],u[:,1]%(np.pi*2),s=1,alpha=0.8,zorder=6,color=c.get_facecolor())#,label=r'$\\vec{x}(0)=(%.1f,%.1f)$'%(u0[0],u0[1]))\n",
    "\n",
    "plt.legend()\n",
    "x = np.linspace(-0.1,1.2,30)\n",
    "y = np.linspace(0,2*np.pi,30)\n",
    "X,Y = np.meshgrid(x,y)\n",
    "\n",
    "U,V = myFun2([X,Y],0,args)\n",
    "M = (np.hypot(U,V))\n",
    "# U = U / np.sqrt(U**2 + V**2);\n",
    "# V = V / np.sqrt(U**2 + V**2);\n",
    "\n",
    "# V = 0*V\n",
    "xs = np.linspace(-3,-1e-5,1000)\n",
    "U = U / np.sqrt(U**2 + V**2);\n",
    "V = V / np.sqrt(U**2 + V**2);\n",
    "\n",
    "# plt.axhline(0,color='black')\n",
    "# plt.plot(xs,-np.log(-xs),color='black')\n",
    "# plt.plot(x,xdot(x,y))\n",
    "Q = plt.quiver(x,y,U,V,M,scale=20,pivot='mid',cmap='jet',zorder=3,alpha=0.7)\n",
    "plt.colorbar()\n",
    "plt.xlim(-0.1,1.1)\n",
    "plt.ylim(0,2*np.pi)\n",
    "# plt.legend()\n",
    "ax =plt.gca()\n",
    "xs = np.linspace(-10,10,1000)\n",
    "# plt.plot(xs,F(xs))\n",
    "ax.grid(True)\n",
    "ax.minorticks_on()\n",
    "plt.title(rf'$\\alpha={alpha},\\beta={beta},\\eta_1={eta1},\\eta_2={eta2}$')\n",
    "# plt.plot(-1,0,'o',ms=10,markeredgewidth=2,markerfacecolor='white')\n",
    "plt.xlabel('x',fontsize=15)\n",
    "plt.ylabel('y',fontsize=15)\n",
    "# plt.legend()\n",
    "\n",
    "# qk = plt.quiverkey(Q, 0.9, 0.9, 1, r'$2 \\frac{m}{s}$', labelpos='E',\n",
    "#                    coordinates='figure')\n",
    "\n"
   ]
  },
  {
   "cell_type": "markdown",
   "metadata": {},
   "source": [
    "## 1. dr = 0인 해를 dphi = 0인 해에 넣어서 풀기"
   ]
  },
  {
   "cell_type": "markdown",
   "metadata": {},
   "source": [
    "$dr=0$이 되는 해는  r = 0,-1,1,$\\frac{\\beta \\eta_1 \\left(-\\cos{\\left(\\alpha+\\phi\\right)}\\pm\\left|\\sin(\\alpha)\\right|\\right)}{\\eta_2\\cos{\\left(\\alpha+2\\phi\\right)}}$"
   ]
  },
  {
   "cell_type": "code",
   "execution_count": null,
   "metadata": {},
   "outputs": [],
   "source": [
    "import numpy as np\n",
    "import matplotlib.pyplot as plt\n",
    "from scipy.optimize import root_scalar\n",
    "from parfor import parfor\n",
    "from tqdm.notebook import tqdm"
   ]
  },
  {
   "cell_type": "code",
   "execution_count": null,
   "metadata": {},
   "outputs": [],
   "source": [
    "def r0_p(phi,alpha,beta,eta1,eta2):\n",
    "    r0 = beta*eta1*(-np.cos(alpha+phi)+np.sin(phi)) / (eta2*np.cos(alpha))\n",
    "    return r0\n",
    "\n",
    "def r0_m(phi,alpha,beta,eta1,eta2):\n",
    "    r0 = beta*eta1*(-np.cos(alpha+phi)-np.sin(phi)) / (eta2*np.cos(alpha))\n",
    "    return r0\n",
    "\n",
    "def r0_1(phi,alpha,beta,eta1,eta2):\n",
    "    return np.ones_like(phi)\n",
    "def r0_M1(phi,alpha,beta,eta1,eta2):\n",
    "    return -np.ones_like(phi)\n",
    "def r0_0(phi,alpha,beta,eta1,eta2):\n",
    "    return np.zeros_like(phi)\n",
    "\n",
    "def phi0(phi,alpha,beta,eta1,eta2,r):\n",
    "    # eta1 delta peak의 분포 차\n",
    "    r0 = r(phi,alpha,beta,eta1,eta2)\n",
    "    dpsi2 = - 1/2 * (1+r0**2)*(eta2*r0*np.sin(alpha)+2*beta*eta1*eta2*r0*np.sin(alpha+phi)+beta**2*eta1**2*np.sin(alpha+2*phi))\n",
    "    dpsi1 = - 1/2 * (2)*(eta1*np.sin(alpha)+2*beta*eta1*eta2*r0*np.sin(alpha-phi)+beta**2*eta2**2*r0**2*np.sin(alpha-2*phi))\n",
    "    dphi = dpsi2 - dpsi1\n",
    "    return dphi    \n",
    "\n",
    "def F_Jm(r,phi,alpha,beta,eta1,eta2):\n",
    "    # beta = eta2*r*(-np.cos(alpha+phi) - np.sin(phi))/ (eta1 * np.cos(alpha+2*phi))\n",
    "    drdr = -r**2*(beta**2*eta1**2*np.cos(alpha + 2*phi) + 2*beta*eta1*eta2*r*np.cos(alpha + phi) + eta2**2*r**2*np.cos(alpha)) + r*(1 - r**2)*(2*beta*eta1*eta2*np.cos(alpha + phi) + 2*eta2**2*r*np.cos(alpha))/2 + (1 - r**2)*(beta**2*eta1**2*np.cos(alpha + 2*phi) + 2*beta*eta1*eta2*r*np.cos(alpha + phi) + eta2**2*r**2*np.cos(alpha))/2\n",
    "    drdphi = r*(1 - r**2)*(-2*beta**2*eta1**2*np.sin(alpha + 2*phi) - 2*beta*eta1*eta2*r*np.sin(alpha + phi))/2\n",
    "    dphidr = 2*beta**2*eta2**2*r*np.sin(alpha - 2*phi) + 2*beta*eta1*eta2*np.sin(alpha - phi) - r*(beta**2*eta1**2*np.sin(alpha + 2*phi) + 2*beta*eta1*eta2*r*np.sin(alpha + phi) + eta2**2*r**2*np.sin(alpha)) + (-r**2/2 - 1/2)*(2*beta*eta1*eta2*np.sin(alpha + phi) + 2*eta2**2*r*np.sin(alpha))\n",
    "    dphidphi = -2*beta**2*eta2**2*r**2*np.cos(alpha - 2*phi) - 2*beta*eta1*eta2*r*np.cos(alpha - phi) + (-r**2/2 - 1/2)*(2*beta**2*eta1**2*np.cos(alpha + 2*phi) + 2*beta*eta1*eta2*r*np.cos(alpha + phi))\n",
    "    J = np.array([[drdr,drdphi],[dphidr,dphidphi]])\n",
    "    D = np.linalg.det(J)\n",
    "    tau = np.trace(J)\n",
    "    discriminant = tau**2 - 4*D\n",
    "    return np.linalg.det(J),np.trace(J),discriminant\n",
    "def Linear_analysis(Det,Trace,Delta):\n",
    "    D_sign = np.sign(Det)\n",
    "    T_sign = np.sign(Trace)\n",
    "    Delta_sign = np.sign(Delta)\n",
    "    if Delta_sign == 1:\n",
    "        C = 'node'\n",
    "    elif Delta_sign == -1:\n",
    "        C = 'spiral'\n",
    "    else:\n",
    "        C = 'Degenerate'\n",
    "    if D_sign == -1:\n",
    "        return 'Saddle'\n",
    "    elif D_sign == 0:\n",
    "        return 'Line/ need to analysis nonlinearity'\n",
    "    \n",
    "    if T_sign == 1:\n",
    "        B = 'Stable'\n",
    "    elif T_sign == -1:\n",
    "        B = 'Unstable'\n",
    "    else:\n",
    "        return 'Center/ Need to analysis nonlinearity'\n",
    "    return B + ' ' + C\n",
    "    \n"
   ]
  },
  {
   "cell_type": "code",
   "execution_count": null,
   "metadata": {},
   "outputs": [],
   "source": [
    "phis = np.linspace(0,2*np.pi,10000)\n",
    "alpha = 0.7\n",
    "beta = 0.8\n",
    "eta1 = 0.1\n",
    "eta2 = 1e-3\n",
    "Range = [(0,np.pi/2),(np.pi/2,np.pi),(np.pi,3*np.pi/2),(3*np.pi/2,2*np.pi)]\n"
   ]
  },
  {
   "cell_type": "code",
   "execution_count": null,
   "metadata": {},
   "outputs": [],
   "source": [
    "alphas = np.linspace(0,np.pi/2,50,endpoint=False)\n",
    "betas = np.linspace(0,1,51)[1:]\n",
    "AL,BE = np.meshgrid(alphas,betas)\n"
   ]
  },
  {
   "cell_type": "code",
   "execution_count": null,
   "metadata": {},
   "outputs": [],
   "source": [
    "RR,PPhi,TT = [],[],[]\n",
    "for beta in tqdm(betas):\n",
    "    @parfor(alphas,args=(beta,eta1,eta2,r0_m,*Range[0]),bar=False)\n",
    "    def get_R_phi(alpha,beta,eta1,eta2,R0,Pi,Pf):\n",
    "        # for R_i,R_f in Range:\n",
    "        try:\n",
    "            rot = root_scalar(phi0,args=(alpha,beta,eta1,eta2,R0),bracket=[Pi,Pf])\n",
    "            R,phi = R0(rot.root,alpha,beta,eta1,eta2),rot.root\n",
    "            J_S = F_Jm(R,phi,alpha,beta,eta1,eta2)\n",
    "            LA = Linear_analysis(*J_S)\n",
    "\n",
    "            # print(R,',',phi,Linear_analysis(*J_S))\n",
    "            return R,phi,LA\n",
    "        except ValueError:\n",
    "            return np.nan,np.nan,np.nan\n",
    "        \n",
    "    R,Phi,Type = zip(*get_R_phi)\n",
    "    RR.append(R)\n",
    "    PPhi.append(Phi)\n",
    "    TT.append(Type)\n"
   ]
  },
  {
   "cell_type": "code",
   "execution_count": null,
   "metadata": {},
   "outputs": [],
   "source": [
    "plt.pcolormesh(alphas,betas,np.array(RR))"
   ]
  },
  {
   "cell_type": "code",
   "execution_count": null,
   "metadata": {},
   "outputs": [],
   "source": []
  },
  {
   "cell_type": "code",
   "execution_count": null,
   "metadata": {},
   "outputs": [],
   "source": [
    "\n",
    "\n",
    "def get_R_phis(alphas,betas,eta1,eta2,R0,Pi,Pf):\n",
    "    RR,PPhi,TT = [],[],[]\n",
    "    for beta in tqdm(betas):\n",
    "        @parfor(alphas,args=(beta,eta1,eta2,R0,Pi,Pf),bar=False)\n",
    "        def get_R_phi(alpha,beta,eta1,eta2,R0,Pi,Pf):\n",
    "            # for R_i,R_f in Range:\n",
    "            try:\n",
    "                rot = root_scalar(phi0,args=(alpha,beta,eta1,eta2,R0),bracket=[Pi,Pf])\n",
    "                R,phi = R0(rot.root,alpha,beta,eta1,eta2),rot.root\n",
    "                J_S = F_Jm(R,phi,alpha,beta,eta1,eta2)\n",
    "                LA = Linear_analysis(*J_S)\n",
    "\n",
    "                # print(R,',',phi,Linear_analysis(*J_S))\n",
    "                return R,phi,LA\n",
    "            except ValueError:\n",
    "                return np.nan,np.nan,np.nan\n",
    "            \n",
    "        R,Phi,Type = zip(*get_R_phi)\n",
    "        RR.append(R)\n",
    "        PPhi.append(Phi)\n",
    "        TT.append(Type)\n",
    "    RR,PPhi,TT  = map(np.array,[RR,PPhi,TT])\n",
    "    return RR,PPhi,TT"
   ]
  },
  {
   "cell_type": "code",
   "execution_count": null,
   "metadata": {},
   "outputs": [],
   "source": [
    "RP = {}\n",
    "PP = {}\n",
    "TP = {}\n",
    "for i in range(4):\n",
    "    RP[i],PP[i],TP[i] = get_R_phis(alphas,betas,eta1,eta2,r0_p,*Range[i])"
   ]
  },
  {
   "cell_type": "code",
   "execution_count": null,
   "metadata": {},
   "outputs": [],
   "source": [
    "RM = {}\n",
    "PM = {}\n",
    "TM = {}\n",
    "for i in range(4):\n",
    "    RM[i],PM[i],TM[i] = get_R_phis(alphas,betas,eta1,eta2,r0_m,*Range[i])"
   ]
  },
  {
   "cell_type": "code",
   "execution_count": null,
   "metadata": {},
   "outputs": [],
   "source": [
    "R1 = {}\n",
    "P1 = {}\n",
    "T1 = {}\n",
    "for i in range(4):\n",
    "    R1[i],P1[i],T1[i] = get_R_phis(alphas,betas,eta1,eta2,r0_1,*Range[i])"
   ]
  },
  {
   "cell_type": "code",
   "execution_count": null,
   "metadata": {},
   "outputs": [],
   "source": [
    "RM1 = {}\n",
    "PM1 = {}\n",
    "TM1 = {}\n",
    "for i in range(4):\n",
    "    RM1[i],PM1[i],TM1[i] = get_R_phis(alphas,betas,eta1,eta2,r0_M1,*Range[i])"
   ]
  },
  {
   "cell_type": "code",
   "execution_count": null,
   "metadata": {},
   "outputs": [],
   "source": [
    "R0 = {}\n",
    "P0 = {}\n",
    "T0 = {}\n",
    "for i in range(4):\n",
    "    R0[i],P0[i],T0[i] = get_R_phis(alphas,betas,eta1,eta2,r0_0,*Range[i])"
   ]
  },
  {
   "cell_type": "code",
   "execution_count": null,
   "metadata": {},
   "outputs": [],
   "source": [
    "np.where((TP[0]=='Stable node')|(TP[0]=='Stable spiral'),RM[i],np.nan)\n"
   ]
  },
  {
   "cell_type": "code",
   "execution_count": null,
   "metadata": {},
   "outputs": [],
   "source": [
    "RR0 = np.array([RM1[i] for i in range(4)])\n",
    "\n",
    "plt.imshow(np.nanmin(RR0,axis=0),origin='lower')"
   ]
  },
  {
   "cell_type": "code",
   "execution_count": null,
   "metadata": {},
   "outputs": [],
   "source": [
    "RR0 = np.array([R0[i] for i in range(4)])\n",
    "\n",
    "plt.imshow(np.nanmin(RR0,axis=0),origin='lower')"
   ]
  },
  {
   "cell_type": "code",
   "execution_count": null,
   "metadata": {},
   "outputs": [],
   "source": [
    "R_NP = []\n",
    "R_NM = []\n",
    "for i in range(4):\n",
    "    plt.figure()\n",
    "    plt.subplot(131)\n",
    "    R_N = np.where((TP[i]=='Stable node')|(TP[i]=='Stable spiral'),RP[i],np.nan)\n",
    "    plt.pcolormesh(alphas,betas,RP[i],vmin=0,)\n",
    "    plt.colorbar()\n",
    "    R_NP.append(R_N)\n",
    "    plt.subplot(132)\n",
    "    R_N = np.where((TM[i]=='Stable node')|(TM[i]=='Stable spiral'),RM[i],np.nan)\n",
    "    plt.pcolormesh(alphas,betas,RM[i],vmin=0,)\n",
    "    plt.colorbar()\n",
    "    R_NM.append(R_N)\n",
    "\n",
    "    plt.subplot(133)\n",
    "    R_N = np.where((T1[i]=='Stable node')|(T1[i]=='Stable spiral'),R1[i],np.nan)\n",
    "    plt.pcolormesh(alphas,betas,R1[i],vmin=0,)\n",
    "    plt.colorbar()"
   ]
  },
  {
   "cell_type": "code",
   "execution_count": null,
   "metadata": {},
   "outputs": [],
   "source": [
    "R_NP = []\n",
    "R_NM = []\n",
    "for i in range(4):\n",
    "    plt.figure(figsize=(20,5))\n",
    "    plt.subplot(141)\n",
    "    R_N = np.where((TP[i]=='Stable spiral'),RP[i],np.nan)\n",
    "    plt.pcolormesh(alphas,betas,R_N,vmin=0,)\n",
    "    plt.colorbar()\n",
    "    R_NP.append(R_N)\n",
    "    plt.subplot(142)\n",
    "    R_N = np.where((TM[i]=='Stable spiral'),RM[i],np.nan)\n",
    "    plt.pcolormesh(alphas,betas,R_N,vmin=0,)\n",
    "    plt.colorbar()\n",
    "    R_NM.append(R_N)\n",
    "\n",
    "    plt.subplot(143)\n",
    "    R_N = np.where((T1[i]=='Stable spiral'),R1[i],np.nan)\n",
    "    plt.pcolormesh(alphas,betas,R_N,vmin=0,)\n",
    "    plt.colorbar()\n",
    "    plt.subplot(144)\n",
    "    R_N = np.where((T0[i]=='Stable spiral'),R0[i],np.nan)\n",
    "    plt.pcolormesh(alphas,betas,R_N,vmin=0,)\n",
    "    plt.colorbar()"
   ]
  },
  {
   "cell_type": "code",
   "execution_count": null,
   "metadata": {},
   "outputs": [],
   "source": [
    "R_NP = []\n",
    "R_NM = []\n",
    "for i in range(4):\n",
    "    plt.figure(figsize=(20,5))\n",
    "    plt.subplot(141)\n",
    "    R_N = np.where((TP[i]=='Unstable node')|(TP[i]=='Unstable spiral'),RP[i],np.nan)\n",
    "    plt.pcolormesh(alphas,betas,R_N,vmin=0,vmax=1)\n",
    "    plt.colorbar()\n",
    "    R_NP.append(R_N)\n",
    "    plt.subplot(142)\n",
    "    R_N = np.where((TM[i]=='Unstable node')|(TM[i]=='Unstable spiral'),RM[i],np.nan)\n",
    "    plt.pcolormesh(alphas,betas,R_N,vmin=0,)\n",
    "    plt.colorbar()\n",
    "    R_NM.append(R_N)\n",
    "\n",
    "    plt.subplot(143)\n",
    "    R_N = np.where((T1[i]=='Unstable node')|(T1[i]=='Unstable spiral'),R1[i],np.nan)\n",
    "    plt.pcolormesh(alphas,betas,R_N,vmin=0,)\n",
    "    plt.colorbar()\n",
    "    plt.subplot(144)\n",
    "    R_N = np.where((T0[i]=='Unstable node')|(T0[i]=='Unstable spiral'),R0[i],np.nan)\n",
    "    plt.pcolormesh(alphas,betas,R_N,vmin=0,)\n",
    "    plt.colorbar()"
   ]
  },
  {
   "cell_type": "code",
   "execution_count": null,
   "metadata": {},
   "outputs": [],
   "source": [
    "R_NP = []\n",
    "R_NM = []\n",
    "for i in range(4):\n",
    "    plt.figure(figsize=(20,5))\n",
    "    plt.subplot(141)\n",
    "    R_N = np.where((TP[i]=='Stable node')|(TP[i]=='Stable spiral'),RP[i],np.nan)\n",
    "    plt.pcolormesh(alphas,betas,R_N,vmin=0,)\n",
    "    plt.colorbar()\n",
    "    R_NP.append(R_N)\n",
    "    plt.subplot(142)\n",
    "    R_N = np.where((TM[i]=='Stable node')|(TM[i]=='Stable spiral'),RM[i],np.nan)\n",
    "    plt.pcolormesh(alphas,betas,R_N,vmin=0,)\n",
    "    plt.colorbar()\n",
    "    R_NM.append(R_N)\n",
    "\n",
    "    plt.subplot(143)\n",
    "    R_N = np.where((T1[i]=='Stable node')|(T1[i]=='Stable spiral'),R1[i],np.nan)\n",
    "    plt.pcolormesh(alphas,betas,R_N,vmin=0,)\n",
    "    plt.colorbar()\n",
    "    plt.subplot(144)\n",
    "    R_N = np.where((T0[i]=='Stable node')|(T0[i]=='Stable spiral'),R0[i],np.nan)\n",
    "    plt.pcolormesh(alphas,betas,R_N,vmin=0,)\n",
    "    plt.colorbar()"
   ]
  },
  {
   "cell_type": "code",
   "execution_count": null,
   "metadata": {},
   "outputs": [],
   "source": [
    "R_SP = [np.where((TP[i]=='Saddle'),RP[i],np.nan) for i in range(4)]\n",
    "R_SM = [np.where((TM[i]=='Saddle'),RM[i],np.nan) for i in range(4)]"
   ]
  },
  {
   "cell_type": "code",
   "execution_count": null,
   "metadata": {},
   "outputs": [],
   "source": [
    "R_NP = [np.where(((TP[i]=='Stable node')|(TP[i]=='Stable spiral'))&(np.abs(RP[i])<1),RP[i],np.nan) for i in range(4)]\n",
    "R_NM = [np.where(((TM[i]=='Stable node')|(TM[i]=='Stable spiral'))&(np.abs(RM[i])<1),RM[i],np.nan) for i in range(4)]\n",
    "R_N1 = [np.where(((T1[i]=='Stable node')|(T1[i]=='Stable spiral')),R1[i],np.nan) for i in range(4)]"
   ]
  },
  {
   "cell_type": "code",
   "execution_count": null,
   "metadata": {},
   "outputs": [],
   "source": [
    "R_UP = [np.where((TP[i]=='Unstable node')|(TP[i]=='Unstable spiral'),RP[i],np.nan) for i in range(4)]\n",
    "R_UM = [np.where((TM[i]=='Unstable node')|(TM[i]=='Unstable spiral'),RM[i],np.nan) for i in range(4)]\n",
    "R_U1 = [np.where((T1[i]=='Unstable node')|(T1[i]=='Unstable spiral'),R1[i],np.nan) for i in range(4)]"
   ]
  },
  {
   "cell_type": "code",
   "execution_count": null,
   "metadata": {},
   "outputs": [],
   "source": [
    "AN = np.nanmin(np.array(R_NP),axis=0)\n",
    "BN = np.nanmin(np.array(R_NM),axis=0)\n",
    "CN = np.nanmin(np.array(R_N1),axis=0)\n",
    "NNN = np.nanmin([AN,BN,CN],axis=0)"
   ]
  },
  {
   "cell_type": "code",
   "execution_count": null,
   "metadata": {},
   "outputs": [],
   "source": [
    "np.where()"
   ]
  },
  {
   "cell_type": "code",
   "execution_count": null,
   "metadata": {},
   "outputs": [],
   "source": [
    "AU = np.nanmin(np.array(R_UP),axis=0)\n",
    "BU = np.nanmin(np.array(R_UM),axis=0)\n",
    "# CU = np.nanmin(np.array(R_U1),axis=0)\n",
    "UUU = np.nanmin([AU,BU],axis=0)"
   ]
  },
  {
   "cell_type": "code",
   "execution_count": null,
   "metadata": {},
   "outputs": [],
   "source": [
    "AS,BS = np.nanmin(R_SP,axis=0),np.nanmin(R_SM,axis=0)\n",
    "plt.figure(figsize=(15,5))\n",
    "plt.subplot(131)\n",
    "plt.pcolormesh(alphas,betas,np.nanmin([AS,BS],axis=0),vmin = 0 ,vmax=1)\n",
    "plt.colorbar()\n",
    "plt.ylabel(r'$\\beta$',fontsize=15)\n",
    "plt.title('Saddle')\n",
    "\n",
    "plt.subplot(132)\n",
    "AS,BS = np.nanmin(R_SP,axis=0),np.nanmin(R_SM,axis=0)\n",
    "plt.pcolormesh(alphas,betas,NNN,vmin = 0 ,vmax=1)\n",
    "plt.colorbar()\n",
    "plt.title('Stable')\n",
    "plt.xlabel(r'$\\alpha$',fontsize=15)\n",
    "plt.subplot(133)\n",
    "plt.pcolormesh(alphas,betas,UUU,vmin = 1 ,vmax=1)\n",
    "plt.colorbar()\n",
    "plt.title('Unstable')\n",
    "\n",
    "plt.suptitle(rf'$\\eta_1 = {eta1},\\eta_2 = {eta2}$')"
   ]
  },
  {
   "cell_type": "code",
   "execution_count": null,
   "metadata": {},
   "outputs": [],
   "source": []
  },
  {
   "cell_type": "code",
   "execution_count": null,
   "metadata": {},
   "outputs": [],
   "source": [
    "plt.imshow(np.nanmin([A,B,C],axis=0),origin='lower')"
   ]
  },
  {
   "cell_type": "code",
   "execution_count": null,
   "metadata": {},
   "outputs": [],
   "source": [
    "plt.subplot(121)\n",
    "plt.imshow(np.nanmin(np.array(R_NP),axis=0),origin='lower',vmin=0,)\n",
    "\n",
    "plt.subplot(122)\n",
    "plt.imshow(np.nanmin(np.array(R_NM),axis=0),origin='lower',vmin=0,)\n",
    "plt.title('Stable fixed point')"
   ]
  },
  {
   "cell_type": "code",
   "execution_count": null,
   "metadata": {},
   "outputs": [],
   "source": [
    "plt.subplot(121)\n",
    "plt.imshow(np.nanmin(np.array(R_UP),axis=0),origin='lower',vmin=0,vmax=1)\n",
    "plt.subplot(122)\n",
    "plt.imshow(np.nanmin(np.array(R_UM),axis=0),origin='lower',vmin=0,vmax=1)\n"
   ]
  },
  {
   "cell_type": "code",
   "execution_count": null,
   "metadata": {},
   "outputs": [],
   "source": [
    "plt.imshow(np.nanmin(np.array(R_NP),axis=0),origin='lower',vmin=0.8)\n",
    "plt.colorbar()"
   ]
  },
  {
   "cell_type": "code",
   "execution_count": null,
   "metadata": {},
   "outputs": [],
   "source": [
    "plt.imshow(np.nanmax(np.array(R_NM),axis=0))"
   ]
  },
  {
   "cell_type": "code",
   "execution_count": null,
   "metadata": {},
   "outputs": [],
   "source": [
    "plt.imshow(RR1,vmax=1)"
   ]
  },
  {
   "cell_type": "code",
   "execution_count": null,
   "metadata": {},
   "outputs": [],
   "source": []
  },
  {
   "cell_type": "code",
   "execution_count": null,
   "metadata": {},
   "outputs": [],
   "source": [
    "V_R_Phi(alpha,beta,eta1,eta2,r0_m,*Range[0])"
   ]
  },
  {
   "cell_type": "code",
   "execution_count": null,
   "metadata": {},
   "outputs": [],
   "source": [
    "get_R_phi(alpha,beta,eta1,eta2,r0_m)"
   ]
  },
  {
   "cell_type": "code",
   "execution_count": null,
   "metadata": {},
   "outputs": [],
   "source": [
    "for i in F:\n",
    "    print(i)"
   ]
  },
  {
   "cell_type": "code",
   "execution_count": null,
   "metadata": {},
   "outputs": [],
   "source": [
    "print('1')\n",
    "Range = [(0,np.pi/2),(np.pi/2,np.pi),(np.pi,3*np.pi/2),(3*np.pi/2,2*np.pi)]\n",
    "for R_i,R_f in Range:\n",
    "    try:\n",
    "        rot = root_scalar(phi0,args=(alpha,beta,eta1,eta2,r0_1),bracket=[R_i,R_f])\n",
    "        J_S = F_Jm(r0_1(rot.root,alpha,beta,eta1,eta2),rot.root,alpha,eta1,eta2)\n",
    "        print(r0_1(rot.root,alpha,beta,eta1,eta2),rot.root,Linear_analysis(*J_S))\n",
    "\n",
    "    except ValueError:\n",
    "        pass\n",
    "        # print(R_i,R_f,'There is no solution') \n",
    "\n",
    "print('0')\n",
    "Range = [(0,np.pi/2),(np.pi/2,np.pi),(np.pi,3*np.pi/2),(3*np.pi/2,2*np.pi)]\n",
    "for R_i,R_f in Range:\n",
    "    try:\n",
    "        rot = root_scalar(phi0,args=(alpha,beta,eta1,eta2,r0_0),bracket=[R_i,R_f])\n",
    "        r0_0(rot.root,alpha,beta,eta1,eta2),rot.root\n",
    "        J_S = F_Jm(r0_0(rot.root,alpha,beta,eta1,eta2),rot.root,alpha,eta1,eta2)\n",
    "        print(r0_0(rot.root,alpha,beta,eta1,eta2),rot.root,Linear_analysis(*J_S))\n",
    "\n",
    "    except ValueError:\n",
    "        pass\n",
    "        # print(R_i,R_f,'There is no solution') \n",
    "\n",
    "print('Plus')\n",
    "Range = [(0,np.pi/2),(np.pi/2,np.pi),(np.pi,3*np.pi/2),(3*np.pi/2,2*np.pi)]\n",
    "for R_i,R_f in Range:\n",
    "    try:\n",
    "        rot = root_scalar(phi0,args=(alpha,beta,eta1,eta2,r0_p),bracket=[R_i,R_f])\n",
    "        r0_p(rot.root,alpha,beta,eta1,eta2),rot.root\n",
    "        J_S = F_Jm(r0_p(rot.root,alpha,beta,eta1,eta2),rot.root,alpha,eta1,eta2)\n",
    "        print(r0_p(rot.root,alpha,beta,eta1,eta2),rot.root,Linear_analysis(*J_S))\n",
    "\n",
    "    except ValueError:\n",
    "        pass\n",
    "        # print(R_i,R_f,'There is no solution') \n",
    "\n",
    "print('Minus')\n",
    "Range = [(0,np.pi/2),(np.pi/2,np.pi),(np.pi,3*np.pi/2),(3*np.pi/2,2*np.pi)]\n",
    "for R_i,R_f in Range:\n",
    "    try:\n",
    "        rot = root_scalar(phi0,args=(alpha,beta,eta1,eta2,r0_m),bracket=[R_i,R_f])\n",
    "        r0_m(rot.root,alpha,beta,eta1,eta2),rot.root\n",
    "        J_S = F_Jm(r0_m(rot.root,alpha,beta,eta1,eta2),rot.root,alpha,eta1,eta2)\n",
    "        print(r0_m(rot.root,alpha,beta,eta1,eta2),rot.root,Linear_analysis(*J_S))\n",
    "\n",
    "    except ValueError:\n",
    "        pass\n",
    "        # print(R_i,R_f,'There is no solution') "
   ]
  },
  {
   "cell_type": "code",
   "execution_count": null,
   "metadata": {},
   "outputs": [],
   "source": [
    "PP = np.linspace(0,2*np.pi,1000)\n",
    "def RRR(phi,alpha):\n",
    "    n = np.sin(2*alpha+phi)\n",
    "    d = np.sin(2*alpha-phi) + 2*np.sin(phi)\n",
    "    A = n/d\n",
    "    return np.sqrt(A)"
   ]
  },
  {
   "cell_type": "code",
   "execution_count": null,
   "metadata": {},
   "outputs": [],
   "source": [
    "np.nanmax(RRR(PP,1.5))"
   ]
  },
  {
   "cell_type": "markdown",
   "metadata": {},
   "source": [
    "## scipy"
   ]
  },
  {
   "cell_type": "code",
   "execution_count": null,
   "metadata": {},
   "outputs": [],
   "source": [
    "import sympy as sp"
   ]
  },
  {
   "cell_type": "code",
   "execution_count": null,
   "metadata": {},
   "outputs": [],
   "source": [
    "alpha,phi = sp.symbols(\"alpha phi\")"
   ]
  },
  {
   "cell_type": "code",
   "execution_count": null,
   "metadata": {},
   "outputs": [],
   "source": [
    "AAA = sp.cos(alpha +  phi) **2  - sp.cos(alpha)* sp.cos(alpha+2*phi)"
   ]
  },
  {
   "cell_type": "code",
   "execution_count": null,
   "metadata": {},
   "outputs": [],
   "source": [
    "cos(alpha +  phi) **2  - cos(alpha)* cos(alpha+2*phi)"
   ]
  },
  {
   "cell_type": "code",
   "execution_count": null,
   "metadata": {},
   "outputs": [],
   "source": [
    "AAA.simplify()"
   ]
  },
  {
   "cell_type": "code",
   "execution_count": null,
   "metadata": {},
   "outputs": [],
   "source": [
    "(sp.cos(alpha)* sp.cos(alpha+2*phi)).simplify()"
   ]
  },
  {
   "cell_type": "code",
   "execution_count": null,
   "metadata": {},
   "outputs": [],
   "source": [
    "eta1,eta2,r,phi,alpha,beta = sp.symbols('eta1 eta2 r phi alpha beta',real=True)\n",
    "Ap,Am= sp.symbols('A_+ A_-',real=True)\n",
    "beta_rp = eta2*r/(eta1*sp.cos(alpha+2*phi))*(-sp.cos(alpha+phi)+sp.sqrt(sp.cos(alpha+phi)**2-sp.cos(alpha)*sp.cos(alpha+2*phi)))\n",
    "beta_rm = eta2*r/(eta1*sp.cos(alpha+2*phi))*(-sp.cos(alpha+phi)-sp.sqrt(sp.cos(alpha+phi)**2-sp.cos(alpha)*sp.cos(alpha+2*phi)))\n",
    "\n",
    "# beta_rp = -eta2*r*(Ap)/(eta1*sp.cos(alpha + 2*phi))\n",
    "# beta_rm = -eta2*r*(Am)/(eta1*sp.cos(alpha + 2*phi))\n",
    "\n",
    "\n",
    "beta_rp = -eta2*r*(sp.cos(alpha + phi) + sp.sin(phi))/(eta1*sp.cos(alpha + 2*phi))\n",
    "beta_rm = -eta2*r*(sp.cos(alpha + phi) - sp.sin(phi))/(eta1*sp.cos(alpha + 2*phi))\n",
    "\n",
    "dr = sp.Rational(1,2) * r* (1-r**2)*(eta2**2 * r**2 * sp.cos(alpha) + 2 * beta*eta1*eta2*r*sp.cos(alpha+phi) + beta **2 *eta1**2 * sp.cos(alpha + 2*phi))\n",
    "dpsi2 = - sp.Rational(1,2) * (1+r**2)*(eta2**2 * r**2 * sp.sin(alpha) + 2 * beta*eta1*eta2*r*sp.sin(alpha+phi) + beta**2 * eta1**2 * sp.sin(alpha+2*phi))\n",
    "dpsi1 = - sp.Rational(1,2) * (2)*(eta1**2 *sp.sin(alpha) + 2 * beta*eta1*eta2*r *sp.sin(alpha-phi) + beta**2 * eta2**2 * r**2 * sp.sin(alpha-2*phi))\n",
    "dphi = dpsi2 - dpsi1\n",
    "sol_rs =  sp.solve(dr,r)"
   ]
  },
  {
   "cell_type": "code",
   "execution_count": null,
   "metadata": {},
   "outputs": [],
   "source": [
    "sp.print_latex(beta_rp)"
   ]
  },
  {
   "cell_type": "code",
   "execution_count": null,
   "metadata": {},
   "outputs": [],
   "source": [
    "dphi_r0 = sp.solve(dphi.subs(beta,beta_rm),r)"
   ]
  },
  {
   "cell_type": "code",
   "execution_count": null,
   "metadata": {},
   "outputs": [],
   "source": [
    "SIM = dphi.subs(beta,beta_rm).simplify()"
   ]
  },
  {
   "cell_type": "code",
   "execution_count": null,
   "metadata": {},
   "outputs": [],
   "source": [
    "n,_ = sp.fraction(SIM)"
   ]
  },
  {
   "cell_type": "code",
   "execution_count": null,
   "metadata": {},
   "outputs": [],
   "source": [
    "sp.print_latex(sp.collect((n*-2).expand(),r))"
   ]
  },
  {
   "cell_type": "code",
   "execution_count": null,
   "metadata": {},
   "outputs": [],
   "source": [
    "sp.print_latex(sp.collect(n*-2,r))"
   ]
  },
  {
   "cell_type": "code",
   "execution_count": null,
   "metadata": {},
   "outputs": [],
   "source": [
    "sp.print_latex(n*-2)#(1/eta1**2*1/eta2**2)"
   ]
  },
  {
   "cell_type": "code",
   "execution_count": null,
   "metadata": {},
   "outputs": [],
   "source": [
    "sol_phi0_r = sp.solve(n.simplify(),r)"
   ]
  },
  {
   "cell_type": "code",
   "execution_count": null,
   "metadata": {},
   "outputs": [],
   "source": [
    "sol_phi0_r"
   ]
  },
  {
   "cell_type": "code",
   "execution_count": null,
   "metadata": {},
   "outputs": [],
   "source": [
    "sp.print_latex(n.simplify())"
   ]
  },
  {
   "cell_type": "code",
   "execution_count": null,
   "metadata": {},
   "outputs": [],
   "source": [
    "sp.solve(dphi.subs(beta,beta_rp),r)[0]"
   ]
  },
  {
   "cell_type": "code",
   "execution_count": null,
   "metadata": {},
   "outputs": [],
   "source": [
    "dphi0_r2 = dphi_r0[2]#.simplify()\n",
    "# dphi0_r1 = sp.solve(dphi.subs(beta,beta_rp),r)[1].simplify()"
   ]
  },
  {
   "cell_type": "code",
   "execution_count": null,
   "metadata": {},
   "outputs": [],
   "source": [
    "eta1,eta2,r,phi,alpha,beta = sp.symbols('eta1 eta2 r phi alpha beta',real=True)\n",
    "\n",
    "F_PHIr0 = sp.lambdify((phi,(alpha,eta1,eta2)),sol_phi0_r[1])\n",
    "F_PHIr1 = sp.lambdify((phi,(alpha,eta1,eta2)),sol_phi0_r[3])"
   ]
  },
  {
   "cell_type": "code",
   "execution_count": null,
   "metadata": {},
   "outputs": [],
   "source": [
    "# dphi0_r2.series(phi, x0=1, n=4)"
   ]
  },
  {
   "cell_type": "code",
   "execution_count": null,
   "metadata": {},
   "outputs": [],
   "source": [
    "dphi0_r1 = sp.solve(dphi.subs(beta,beta_rp),r)[0].simplify()"
   ]
  },
  {
   "cell_type": "code",
   "execution_count": null,
   "metadata": {},
   "outputs": [],
   "source": [
    "print(dphi0_r0)"
   ]
  },
  {
   "cell_type": "code",
   "execution_count": null,
   "metadata": {},
   "outputs": [],
   "source": [
    "print(sol_beta[0])"
   ]
  },
  {
   "cell_type": "code",
   "execution_count": null,
   "metadata": {},
   "outputs": [],
   "source": [
    "alpha,phi,B = sp.symbols('alpha phi B',real = True)"
   ]
  },
  {
   "cell_type": "code",
   "execution_count": null,
   "metadata": {},
   "outputs": [],
   "source": [
    "import numpy as np\n",
    "import matplotlib.pyplot as plt"
   ]
  },
  {
   "cell_type": "code",
   "execution_count": null,
   "metadata": {},
   "outputs": [],
   "source": [
    "# alpha,phi,B = np.symbols('alpha phi B',real = True)\n",
    "eta1 = 0.1\n",
    "eta2 = 0.05\n",
    "alpha = 0.5\n",
    "B = (eta1/eta2)**2\n",
    "phi = np.linspace(0,3*np.pi,10000)\n",
    "\n",
    "A1 = np.sin(alpha)*np.cos(alpha+2*phi)**2\n",
    "AP = np.cos(alpha+phi) + np.sin(phi)\n",
    "CP = AP**2 * np.sin(alpha + 2*phi) - 2*AP*np.sin(alpha+phi)*np.cos(alpha+2*phi) + A1\n",
    "DP = CP - 2* AP**2 * np.sin(alpha-2*phi)/B\n",
    "EP = CP + 4*AP*np.sin(alpha - phi) *np.cos(alpha + 2*phi)\n"
   ]
  },
  {
   "cell_type": "code",
   "execution_count": null,
   "metadata": {},
   "outputs": [],
   "source": [
    "R2 = (-EP - np.sqrt(EP**2 + 8*DP*B*A1))/(2*DP)\n",
    "R1 = (-EP + np.sqrt(EP**2 + 8*DP*B*A1))/(2*DP)"
   ]
  },
  {
   "cell_type": "code",
   "execution_count": null,
   "metadata": {},
   "outputs": [],
   "source": [
    "plt.plot(phi,np.sqrt(R2))\n",
    "plt.plot(phi,np.sqrt(R1))\n",
    "plt.xticks([0,np.pi,np.pi*2,np.pi*3],['0',r'$\\pi$',r'$2\\pi$',r'$3\\pi$'])\n",
    "plt.ylabel(r'$r$')\n",
    "plt.xlabel(r'$\\phi$')\n",
    "plt.title(rf'$\\alpha={alpha}$')\n",
    "plt.axvline(np.pi)\n",
    "# plt.axhline(r)"
   ]
  },
  {
   "cell_type": "code",
   "execution_count": null,
   "metadata": {},
   "outputs": [],
   "source": [
    "# F_PHIrp0 = F_PHIr0\n",
    "# F_PHIrp1 = F_PHIr1"
   ]
  },
  {
   "cell_type": "code",
   "execution_count": null,
   "metadata": {},
   "outputs": [],
   "source": [
    "# plt.plot(phi,np.sqrt(R2))\n",
    "# plt.plot(phi,np.sqrt(R1))\n",
    "\n",
    "plt.plot(phi,F_PHIrp0(phi,(alpha,eta1,eta2)),color='blue')\n",
    "plt.plot(phi,F_PHIrp1(phi,(alpha,eta1,eta2)),color='blue')\n",
    "# \n",
    "plt.plot(phi,F_PHIr0(phi,(alpha,eta1,eta2)),color='red')\n",
    "plt.plot(phi,F_PHIr1(phi,(alpha,eta1,eta2)),color='red')\n"
   ]
  },
  {
   "cell_type": "code",
   "execution_count": null,
   "metadata": {},
   "outputs": [],
   "source": [
    "alpha,phi,B = sp.symbols('alpha phi B',real = True)\n",
    "# alpha = 0\n",
    "# B = sp.inf\n",
    "# phi = sp.linspace(0,2*sp.pi,1000)\n",
    "\n",
    "A1 = sp.sin(alpha)*sp.cos(alpha+2*phi)**2\n",
    "AP = sp.cos(alpha+phi) + sp.sin(phi)\n",
    "CP = AP**2 * sp.sin(alpha + 2*phi) - 2*AP*sp.sin(alpha+phi)*sp.cos(alpha+2*phi) + A1\n",
    "DP = CP - 2 * AP**2 * sp.sin(alpha-2*phi)/B\n",
    "EP = CP + 4*AP*sp.sin(alpha - phi) *sp.cos(alpha + 2*phi)\n"
   ]
  },
  {
   "cell_type": "code",
   "execution_count": null,
   "metadata": {},
   "outputs": [],
   "source": [
    "DP.expand().trigsimp()"
   ]
  },
  {
   "cell_type": "code",
   "execution_count": null,
   "metadata": {},
   "outputs": [],
   "source": [
    "sp.lambdify((phi,(alpha,eta1,eta2)),sol_dphi0_r[1])"
   ]
  },
  {
   "cell_type": "code",
   "execution_count": null,
   "metadata": {},
   "outputs": [],
   "source": [
    "DP.simplify()"
   ]
  },
  {
   "cell_type": "code",
   "execution_count": null,
   "metadata": {},
   "outputs": [],
   "source": [
    "plt.plot(DP)"
   ]
  },
  {
   "cell_type": "code",
   "execution_count": null,
   "metadata": {},
   "outputs": [],
   "source": [
    "EP.expand().trigsimp().simplify()"
   ]
  },
  {
   "cell_type": "markdown",
   "metadata": {},
   "source": [
    "# Linear stability"
   ]
  },
  {
   "cell_type": "code",
   "execution_count": 433,
   "metadata": {},
   "outputs": [],
   "source": [
    "import sympy as sp"
   ]
  },
  {
   "cell_type": "code",
   "execution_count": 434,
   "metadata": {},
   "outputs": [],
   "source": [
    "eta1,eta2,r,phi,alpha,beta = sp.symbols('eta1 eta2 r phi alpha beta',real=True)\n",
    "Ap,Am= sp.symbols('A_+ A_-',real=True)\n",
    "# beta_rp = eta2*r/(eta1*sp.cos(alpha+2*phi))*(-sp.cos(alpha+phi)+sp.sqrt(sp.cos(alpha+phi)**2-sp.cos(alpha)*sp.cos(alpha+2*phi)))\n",
    "# beta_rm = eta2*r/(eta1*sp.cos(alpha+2*phi))*(-sp.cos(alpha+phi)-sp.sqrt(sp.cos(alpha+phi)**2-sp.cos(alpha)*sp.cos(alpha+2*phi)))\n",
    "\n",
    "beta_rp = -eta2*r*(Ap)/(eta1*sp.cos(alpha + 2*phi))\n",
    "beta_rm = -eta2*r*(Am)/(eta1*sp.cos(alpha + 2*phi))\n",
    "A_p = sp.cos(alpha + phi) + sp.sin(phi)\n",
    "A_m = sp.cos(alpha + phi) - sp.sin(phi)\n",
    "\n",
    "beta_rp = -eta2*r*(sp.cos(alpha + phi) + sp.sin(phi))/(eta1*sp.cos(alpha + 2*phi))\n",
    "beta_rm = -eta2*r*(sp.cos(alpha + phi) - sp.sin(phi))/(eta1*sp.cos(alpha + 2*phi))\n",
    "\n",
    "dr = sp.Rational(1,2) * r* (1-r**2)*(eta2**2 * r**2 * sp.cos(alpha) + 2 * beta*eta1*eta2*r*sp.cos(alpha+phi) + beta **2 *eta1**2 * sp.cos(alpha + 2*phi))\n",
    "dpsi2 = - sp.Rational(1,2) * (1+r**2)*(eta2**2 * r**2 * sp.sin(alpha) + 2 * beta*eta1*eta2*r*sp.sin(alpha+phi) + beta**2 * eta1**2 * sp.sin(alpha+2*phi))\n",
    "dpsi1 = - sp.Rational(1,2) * (2)*(eta1**2 *sp.sin(alpha) + 2 * beta*eta1*eta2*r *sp.sin(alpha-phi) + beta**2 * eta2**2 * r**2 * sp.sin(alpha-2*phi))\n",
    "dphi = dpsi2 - dpsi1\n",
    "sol_rs =  sp.solve(dr,r)\n",
    "\n",
    "\n",
    "drdphi = sp.diff(dr,phi)\n",
    "drdr   = sp.diff(dr,r)\n",
    "\n",
    "dphidphi = sp.diff(dphi,phi)\n",
    "dphidr   = sp.diff(dphi,r)\n",
    "J = sp.Matrix([[drdr.subs(beta,beta_rp).simplify(),drdphi.subs(beta,beta_rp).simplify()],[dphidr.subs(beta,beta_rp).simplify(),dphidphi.subs(beta,beta_rp).simplify()]])"
   ]
  },
  {
   "cell_type": "code",
   "execution_count": null,
   "metadata": {},
   "outputs": [],
   "source": [
    "J_ = sp.Matrix([[drdr.simplify(),drdphi.simplify()],[dphidr.simplify(),dphidphi.simplify()]])\n"
   ]
  },
  {
   "cell_type": "code",
   "execution_count": 439,
   "metadata": {},
   "outputs": [
    {
     "data": {
      "text/latex": [
       "$\\displaystyle \\eta_{1} \\sqrt{- \\frac{\\left(A_{+}^{2} - 4 A_{+} \\cos{\\left(\\alpha - \\phi \\right)} + 2 A_{+} \\cos{\\left(\\alpha + \\phi \\right)} - 3 \\cos{\\left(\\alpha \\right)} \\cos{\\left(\\alpha + 2 \\phi \\right)}\\right) \\cos{\\left(\\alpha + 2 \\phi \\right)}}{5 A_{+}^{2} \\eta_{1}^{2} \\cos{\\left(\\alpha + 2 \\phi \\right)} + 4 A_{+}^{2} \\eta_{2}^{2} \\cos{\\left(\\alpha - 2 \\phi \\right)} - 10 A_{+} \\eta_{1}^{2} \\cos{\\left(\\alpha + \\phi \\right)} \\cos{\\left(\\alpha + 2 \\phi \\right)} + 5 \\eta_{1}^{2} \\cos{\\left(\\alpha \\right)} \\cos^{2}{\\left(\\alpha + 2 \\phi \\right)}}}$"
      ],
      "text/plain": [
       "eta1*sqrt(-(A_+**2 - 4*A_+*cos(alpha - phi) + 2*A_+*cos(alpha + phi) - 3*cos(alpha)*cos(alpha + 2*phi))*cos(alpha + 2*phi)/(5*A_+**2*eta1**2*cos(alpha + 2*phi) + 4*A_+**2*eta2**2*cos(alpha - 2*phi) - 10*A_+*eta1**2*cos(alpha + phi)*cos(alpha + 2*phi) + 5*eta1**2*cos(alpha)*cos(alpha + 2*phi)**2))"
      ]
     },
     "execution_count": 439,
     "metadata": {},
     "output_type": "execute_result"
    }
   ],
   "source": [
    "sp.solve(J.trace(),r)[2]"
   ]
  },
  {
   "cell_type": "code",
   "execution_count": null,
   "metadata": {},
   "outputs": [],
   "source": [
    "sp.print_latex(J_)"
   ]
  },
  {
   "cell_type": "code",
   "execution_count": null,
   "metadata": {},
   "outputs": [],
   "source": [
    "sp.print_latex(J.det())"
   ]
  },
  {
   "cell_type": "code",
   "execution_count": null,
   "metadata": {},
   "outputs": [],
   "source": [
    "import sympy as sp"
   ]
  },
  {
   "cell_type": "markdown",
   "metadata": {},
   "source": [
    "$B_1 = \\eta_1 /  \\eta_2$ \n",
    "``` Group 1 : Delta peak  Group 2 : Gaussian distribution```"
   ]
  },
  {
   "cell_type": "code",
   "execution_count": 266,
   "metadata": {},
   "outputs": [],
   "source": [
    "eta1,eta2,r,phi,alpha,beta = sp.symbols('eta1 eta2 r phi alpha beta',real=True)\n",
    "Apm,Ap,Am,A1,B1= sp.symbols('A_{\\pm} A_+ A_- A_1 B_1',real=True)\n",
    " \n",
    "# B1 = \\eta_2 /  \\eta_1\n",
    "\n",
    "beta_rp = -r*(Ap)/(B1*sp.cos(alpha + 2*phi))\n",
    "beta_rm = -r*(Am)/(B1*sp.cos(alpha + 2*phi))\n",
    "beta_rpm = -r*(Apm)/(B1*sp.cos(alpha + 2*phi))\n",
    "\n",
    "\n",
    "# beta_rp = -eta2*r*(sp.cos(alpha + phi) + sp.sin(phi))/(eta1*sp.cos(alpha + 2*phi))\n",
    "# beta_rm = -eta2*r*(sp.cos(alpha + phi) - sp.sin(phi))/(eta1*sp.cos(alpha + 2*phi))\n",
    "\n",
    "dr = (eta1*eta2)*sp.Rational(1,2) * r* (1-r**2)*(1/B1 * r**2 * sp.cos(alpha) + 2 * beta*r*sp.cos(alpha+phi) + beta **2 *B1 * sp.cos(alpha + 2*phi))\n",
    "dpsi2 = -  (eta1*eta2)*sp.Rational(1,2) * (1+r**2)*(1/B1 * r**2 * sp.sin(alpha) + 2 * beta*r*sp.sin(alpha+phi) + beta**2 * B1 * sp.sin(alpha+2*phi))\n",
    "dpsi1 = -  (eta1*eta2)*sp.Rational(1,2) * (2)*(B1 *sp.sin(alpha) + 2 * beta*r *sp.sin(alpha-phi) + beta**2 * 1/B1 * r**2 * sp.sin(alpha-2*phi))\n",
    "dphi = dpsi2 - dpsi1\n",
    "sol_rs =  sp.solve(dr,r)\n",
    "\n",
    "\n",
    "drdphi = sp.diff(dr,phi)\n",
    "drdr   = sp.diff(dr,r)\n",
    "\n",
    "dphidphi = sp.diff(dphi,phi)\n",
    "dphidr   = sp.diff(dphi,r)\n",
    "J = sp.Matrix([[drdr.subs(beta,beta_rpm).simplify(),drdphi.subs(beta,beta_rpm).simplify()],[dphidr.subs(beta,beta_rpm).simplify(),dphidphi.subs(beta,beta_rpm).simplify()]])"
   ]
  },
  {
   "cell_type": "code",
   "execution_count": 269,
   "metadata": {},
   "outputs": [],
   "source": [
    "J_Trace_r = sp.solve(J.trace().simplify(),r)"
   ]
  },
  {
   "cell_type": "code",
   "execution_count": 274,
   "metadata": {},
   "outputs": [],
   "source": [
    "J_TR = J_Trace_r[1].simplify()"
   ]
  },
  {
   "cell_type": "code",
   "execution_count": 279,
   "metadata": {},
   "outputs": [],
   "source": [
    "n_JTR,d_JTR = sp.fraction(J_TR.args[1]**2)"
   ]
  },
  {
   "cell_type": "code",
   "execution_count": 282,
   "metadata": {},
   "outputs": [
    {
     "name": "stdout",
     "output_type": "stream",
     "text": [
      "5*A_{\\pm}**2*B_1**2*cos(alpha + 2*phi) + 4*A_{\\pm}**2*cos(alpha - 2*phi) - 10*A_{\\pm}*B_1**2*cos(alpha + phi)*cos(alpha + 2*phi) + 5*B_1**2*cos(alpha)*cos(alpha + 2*phi)**2\n"
     ]
    }
   ],
   "source": [
    "print(d_JTR)"
   ]
  },
  {
   "cell_type": "code",
   "execution_count": 275,
   "metadata": {},
   "outputs": [
    {
     "name": "stdout",
     "output_type": "stream",
     "text": [
      "B_{1} \\sqrt{\\frac{\\left(- A_{\\pm}^{2} + 4 A_{\\pm} \\cos{\\left(\\alpha - \\phi \\right)} - 2 A_{\\pm} \\cos{\\left(\\alpha + \\phi \\right)} + 3 \\cos{\\left(\\alpha \\right)} \\cos{\\left(\\alpha + 2 \\phi \\right)}\\right) \\cos{\\left(\\alpha + 2 \\phi \\right)}}{5 A_{\\pm}^{2} B_{1}^{2} \\cos{\\left(\\alpha + 2 \\phi \\right)} + 4 A_{\\pm}^{2} \\cos{\\left(\\alpha - 2 \\phi \\right)} - 10 A_{\\pm} B_{1}^{2} \\cos{\\left(\\alpha + \\phi \\right)} \\cos{\\left(\\alpha + 2 \\phi \\right)} + 5 B_{1}^{2} \\cos{\\left(\\alpha \\right)} \\cos^{2}{\\left(\\alpha + 2 \\phi \\right)}}}\n"
     ]
    }
   ],
   "source": [
    "sp.print_latex(J_TR)"
   ]
  },
  {
   "cell_type": "code",
   "execution_count": null,
   "metadata": {},
   "outputs": [],
   "source": [
    "J = sp.Matrix([[drdr.subs(beta,beta_rpm),drdphi.subs(beta,beta_rpm)],[dphidr.subs(beta,beta_rpm),dphidphi.subs(beta,beta_rpm)]])"
   ]
  },
  {
   "cell_type": "code",
   "execution_count": null,
   "metadata": {},
   "outputs": [],
   "source": [
    "JJ = J.subs(sp.sin(alpha)*sp.cos(alpha+2*phi)**2,A1)"
   ]
  },
  {
   "cell_type": "code",
   "execution_count": null,
   "metadata": {},
   "outputs": [],
   "source": [
    "J_det_sim = JJ.det()#.simplify()"
   ]
  },
  {
   "cell_type": "code",
   "execution_count": null,
   "metadata": {},
   "outputs": [],
   "source": [
    "# J_det_sim.factor()"
   ]
  },
  {
   "cell_type": "code",
   "execution_count": null,
   "metadata": {},
   "outputs": [],
   "source": [
    "(drdr.subs(beta,beta_rpm) * dphidphi.subs(beta,beta_rpm)).simplify()"
   ]
  },
  {
   "cell_type": "code",
   "execution_count": null,
   "metadata": {},
   "outputs": [],
   "source": [
    "\n",
    "J_com = 1/( 4 / (Apm*eta1**2*eta2**2*r**4) * (B1**4*sp.cos(alpha + 2*phi)**4))\n",
    "\n",
    "JAC_ = (drdr.subs(beta,beta_rpm) * dphidphi.subs(beta,beta_rpm)).collect(r).factor()#.simplify()\n",
    "JAC = (JAC_ / J_com).expand()#.subs(sp.sin(alpha)*sp.cos(alpha+2*phi)**2,A1)\n"
   ]
  },
  {
   "cell_type": "code",
   "execution_count": null,
   "metadata": {},
   "outputs": [],
   "source": [
    "JAC"
   ]
  },
  {
   "cell_type": "code",
   "execution_count": null,
   "metadata": {},
   "outputs": [],
   "source": [
    "JBD_ = (drdphi.subs(beta,beta_rpm) * dphidr.subs(beta,beta_rpm)).subs(sp.sin(alpha)*sp.cos(alpha+2*phi)**2,A1).collect(r).factor()#.simplify()\n",
    "JBD = (JBD_ / J_com).expand()#.subs(sp.sin(alpha)*sp.cos(alpha+2*phi)**2,A1)\n"
   ]
  },
  {
   "cell_type": "code",
   "execution_count": null,
   "metadata": {},
   "outputs": [],
   "source": [
    "JBD.expand().subs(sp.sin(alpha)*sp.cos(alpha+2*phi)**2,A1).collect(Apm)"
   ]
  },
  {
   "cell_type": "code",
   "execution_count": null,
   "metadata": {},
   "outputs": [],
   "source": [
    "J_DET0 = (JAC- JBD).expand().collect(r)"
   ]
  },
  {
   "cell_type": "code",
   "execution_count": null,
   "metadata": {},
   "outputs": [],
   "source": [
    "J_DET0_0C = J_DET0 - J_DET0.coeff(r**4) * r**4 - J_DET0.coeff(r**2) * r**2\n",
    "J_DET0_4C = J_DET0.coeff(r**4)\n",
    "J_DET0_2C = J_DET0.coeff(r**2)"
   ]
  },
  {
   "cell_type": "code",
   "execution_count": null,
   "metadata": {},
   "outputs": [],
   "source": []
  },
  {
   "cell_type": "code",
   "execution_count": null,
   "metadata": {},
   "outputs": [],
   "source": [
    "J_DET0_4C.expand().collect([Apm,B1,sp.cos(alpha+2*phi)])"
   ]
  },
  {
   "cell_type": "code",
   "execution_count": null,
   "metadata": {},
   "outputs": [],
   "source": [
    "Adelta,Bdelta,Cdelta,CC = sp.symbols('A_\\Delta B_\\Delta C_\\Delta CC',real=True)"
   ]
  },
  {
   "cell_type": "code",
   "execution_count": null,
   "metadata": {},
   "outputs": [],
   "source": [
    "JJJ = J_DET0.subs([(J_DET0_2C,2*Bdelta),(J_DET0_4C,Adelta),(J_DET0_0C,Cdelta)])"
   ]
  },
  {
   "cell_type": "code",
   "execution_count": null,
   "metadata": {},
   "outputs": [],
   "source": [
    "J_DET_RP = sp.solve(JJJ,r)[3].subs([(Bdelta,J_DET0_2C/2),(Adelta,J_DET0_4C),(Cdelta,J_DET0_0C)]).subs([(Apm,A_p),(B1,eta1/eta2)])\n",
    "J_DET_RM = sp.solve(JJJ,r)[1].subs([(Bdelta,J_DET0_2C/2),(Adelta,J_DET0_4C),(Cdelta,J_DET0_0C)]).subs([(Apm,A_p),(B1,eta1/eta2)])"
   ]
  },
  {
   "cell_type": "code",
   "execution_count": null,
   "metadata": {},
   "outputs": [],
   "source": [
    "F_DET_RP = sp.lambdify((phi,(alpha,eta1,eta2)),J_DET_RP)\n",
    "F_DET_RM = sp.lambdify((phi,(alpha,eta1,eta2)),J_DET_RM)"
   ]
  },
  {
   "cell_type": "code",
   "execution_count": null,
   "metadata": {},
   "outputs": [],
   "source": [
    "print(sp.solve(JJJ,r)[3])"
   ]
  },
  {
   "cell_type": "code",
   "execution_count": 385,
   "metadata": {},
   "outputs": [
    {
     "data": {
      "text/plain": [
       "[-sqrt(-B_\\Delta/A_\\Delta - sqrt(-A_\\Delta*C_\\Delta + B_\\Delta**2)/A_\\Delta),\n",
       " sqrt(-B_\\Delta/A_\\Delta - sqrt(-A_\\Delta*C_\\Delta + B_\\Delta**2)/A_\\Delta),\n",
       " -sqrt(-B_\\Delta/A_\\Delta + sqrt(-A_\\Delta*C_\\Delta + B_\\Delta**2)/A_\\Delta),\n",
       " sqrt(-B_\\Delta/A_\\Delta + sqrt(-A_\\Delta*C_\\Delta + B_\\Delta**2)/A_\\Delta)]"
      ]
     },
     "execution_count": 385,
     "metadata": {},
     "output_type": "execute_result"
    }
   ],
   "source": [
    "sp.solve(JJJ,r)"
   ]
  },
  {
   "cell_type": "code",
   "execution_count": null,
   "metadata": {},
   "outputs": [],
   "source": [
    "J_DET0_2C/2"
   ]
  },
  {
   "cell_type": "code",
   "execution_count": null,
   "metadata": {},
   "outputs": [],
   "source": [
    "A_DD = J_DET0_4C\n",
    "B_DD = J_DET0_2C/2\n",
    "C_DD = J_DET0_0C"
   ]
  },
  {
   "cell_type": "code",
   "execution_count": null,
   "metadata": {},
   "outputs": [],
   "source": [
    "S_ACB = (-A_DD*C_DD + B_DD **2)"
   ]
  },
  {
   "cell_type": "code",
   "execution_count": null,
   "metadata": {},
   "outputs": [],
   "source": [
    "((-A_DD*C_DD).expand() + (B_DD **2).expand()).collect([B1,Apm]).collect(Apm)#.collect(sp.cos(alpha+2*phi))"
   ]
  },
  {
   "cell_type": "code",
   "execution_count": null,
   "metadata": {},
   "outputs": [],
   "source": [
    "S_ACB.simplify()"
   ]
  },
  {
   "cell_type": "code",
   "execution_count": null,
   "metadata": {},
   "outputs": [],
   "source": [
    "A_DD.collect([Apm,B1])"
   ]
  },
  {
   "cell_type": "code",
   "execution_count": null,
   "metadata": {},
   "outputs": [],
   "source": [
    "A_DD.collect([Apm,B1])"
   ]
  },
  {
   "cell_type": "code",
   "execution_count": null,
   "metadata": {},
   "outputs": [],
   "source": [
    "B_DD.collect([Apm,B1]).coeff(Apm**3)#.collect(B1).simplify()   #.simplify()"
   ]
  },
  {
   "cell_type": "code",
   "execution_count": null,
   "metadata": {},
   "outputs": [],
   "source": [
    "B_DD_ = B_DD.collect([Apm,B1])\n",
    "B_DDA3 = B_DD.collect([Apm,B1]).coeff(Apm**3)\n",
    "B_DDA2 = B_DD.collect([Apm,B1]).coeff(Apm**2)\n",
    "B_DDA1 = B_DD.collect([Apm,B1]).coeff(Apm)\n",
    "B_DD0 = B_DD_ - B_DDA3*Apm**3 - B_DDA2*Apm**2 - B_DDA1*Apm"
   ]
  },
  {
   "cell_type": "code",
   "execution_count": null,
   "metadata": {},
   "outputs": [],
   "source": []
  },
  {
   "cell_type": "code",
   "execution_count": null,
   "metadata": {},
   "outputs": [],
   "source": [
    "B_DA3B1 =  B_DDA3.collect([Apm,B1]).coeff(B1**2)\n",
    "B_DA3B0 =  B_DDA3.collect([Apm,B1]) - B_DDA3.collect([Apm,B1]).args[0]"
   ]
  },
  {
   "cell_type": "code",
   "execution_count": null,
   "metadata": {},
   "outputs": [],
   "source": [
    "B_DA2B1 =  B_DDA2.collect([Apm,B1]).coeff(B1**2)\n",
    "B_DA2B0 =  B_DDA2.collect([Apm,B1]) - B_DDA2.collect([Apm,B1]).args[0]"
   ]
  },
  {
   "cell_type": "code",
   "execution_count": null,
   "metadata": {},
   "outputs": [],
   "source": [
    "B_DDA3.collect(sp.cos(alpha+2*phi))"
   ]
  },
  {
   "cell_type": "code",
   "execution_count": null,
   "metadata": {},
   "outputs": [],
   "source": [
    "B_DDA2.collect(sp.cos(alpha+2*phi))"
   ]
  },
  {
   "cell_type": "code",
   "execution_count": null,
   "metadata": {},
   "outputs": [],
   "source": [
    "B_DA3B0.factor()"
   ]
  },
  {
   "cell_type": "code",
   "execution_count": null,
   "metadata": {},
   "outputs": [],
   "source": [
    "B_DA3B0"
   ]
  },
  {
   "cell_type": "code",
   "execution_count": null,
   "metadata": {},
   "outputs": [],
   "source": [
    "BDDA2 = B_DDA2.collect([sp.cos(alpha+2*phi),B1])"
   ]
  },
  {
   "cell_type": "code",
   "execution_count": null,
   "metadata": {},
   "outputs": [],
   "source": [
    "sp.print_latex(sp.poly(BDDA2.subs(sp.cos(alpha+2*phi),CC),CC).all_coeffs()[0].factor())\n",
    "sp.print_latex(sp.poly(BDDA2.subs(sp.cos(alpha+2*phi),CC),CC).all_coeffs()[1].factor())\n",
    "# sp.print_latex(sp.poly(BDDA2.subs(sp.cos(alpha+2*phi),CC),CC).all_coeffs()[2].factor())"
   ]
  },
  {
   "cell_type": "code",
   "execution_count": null,
   "metadata": {},
   "outputs": [],
   "source": [
    "sp.poly(sp.poly(BDDA2.subs(sp.cos(alpha+2*phi),CC),CC).all_coeffs()[1].factor(),B1).all_coeffs()[-1].factor()"
   ]
  },
  {
   "cell_type": "code",
   "execution_count": null,
   "metadata": {},
   "outputs": [],
   "source": [
    "sp.print_latex(sp.poly(BDDA2.subs(sp.cos(alpha+2*phi),CC),CC).all_coeffs()[1].collect(B1).coeff(B1**2).simplify())"
   ]
  },
  {
   "cell_type": "code",
   "execution_count": null,
   "metadata": {},
   "outputs": [],
   "source": [
    "B_DD_ = B_DD.collect([Apm,B1])\n",
    "B_DDA3 = B_DD.collect([Apm,B1]).coeff(Apm**3)\n",
    "B_DDA2 = B_DD.collect([Apm,B1]).coeff(Apm**2)\n",
    "B_DDA1 = B_DD.collect([Apm,B1]).coeff(Apm)\n",
    "B_DD0 = B_DD_ - B_DDA3*Apm**3 - B_DDA2*Apm**2 - B_DDA1*Apm"
   ]
  },
  {
   "cell_type": "code",
   "execution_count": null,
   "metadata": {},
   "outputs": [],
   "source": [
    "B_DD0.collect(sp.cos(alpha+2*phi))"
   ]
  },
  {
   "cell_type": "code",
   "execution_count": null,
   "metadata": {},
   "outputs": [],
   "source": [
    "sp.print_latex(A_DD.collect([Apm,B1]))"
   ]
  },
  {
   "cell_type": "code",
   "execution_count": null,
   "metadata": {},
   "outputs": [],
   "source": [
    "sp.print_latex(B_DD.collect([Apm,B1]))"
   ]
  },
  {
   "cell_type": "code",
   "execution_count": null,
   "metadata": {},
   "outputs": [],
   "source": [
    "B_DD.collect([Apm,B1]).coeff(Apm**2).collect(B1)#.collect(sp.cos(alpha + 2* phi))#.coeff(sp.cos(alpha+2*phi)).collect([B1**2,sp.sin(alpha+2*phi)])"
   ]
  },
  {
   "cell_type": "code",
   "execution_count": null,
   "metadata": {},
   "outputs": [],
   "source": [
    "sp.solve(JJJ,r)[1]"
   ]
  },
  {
   "cell_type": "code",
   "execution_count": null,
   "metadata": {},
   "outputs": [],
   "source": [
    "(2*sp.sin(alpha -  2*phi)*sp.sin(alpha  + 2*phi) - sp.cos(alpha -  2*phi)*sp.cos(alpha  + 2*phi)).trigsimp()"
   ]
  },
  {
   "cell_type": "code",
   "execution_count": null,
   "metadata": {},
   "outputs": [],
   "source": [
    "J_DET0_2C/2"
   ]
  },
  {
   "cell_type": "code",
   "execution_count": null,
   "metadata": {},
   "outputs": [],
   "source": [
    "sp.print_latex(J_DET0_2C/2)"
   ]
  },
  {
   "cell_type": "code",
   "execution_count": null,
   "metadata": {},
   "outputs": [],
   "source": [
    "J_DET0_0C"
   ]
  },
  {
   "cell_type": "code",
   "execution_count": null,
   "metadata": {},
   "outputs": [],
   "source": [
    "J_DET0_4C.trigsimp()"
   ]
  },
  {
   "cell_type": "code",
   "execution_count": null,
   "metadata": {},
   "outputs": [],
   "source": [
    "(Apm*eta1**2*eta2**2*r**4) * (B1**4*sp.cos(alpha + 2*phi)**4)"
   ]
  },
  {
   "cell_type": "code",
   "execution_count": null,
   "metadata": {},
   "outputs": [],
   "source": [
    "J_com = 1/( 1 / (Apm*eta1**2*eta2**2*r**4) * (B1**4*sp.cos(alpha + 2*phi)**4))"
   ]
  },
  {
   "cell_type": "code",
   "execution_count": null,
   "metadata": {},
   "outputs": [],
   "source": [
    "J_com"
   ]
  },
  {
   "cell_type": "code",
   "execution_count": null,
   "metadata": {},
   "outputs": [],
   "source": [
    "J_trace_sim = J.trace().simplify()"
   ]
  },
  {
   "cell_type": "code",
   "execution_count": null,
   "metadata": {},
   "outputs": [],
   "source": [
    "n_Jdet,_ = sp.fraction(J_det_sim)"
   ]
  },
  {
   "cell_type": "code",
   "execution_count": null,
   "metadata": {},
   "outputs": [],
   "source": [
    "J_det_sim"
   ]
  },
  {
   "cell_type": "code",
   "execution_count": null,
   "metadata": {},
   "outputs": [],
   "source": [
    "n_Jtrace,_ = sp.fraction(J_trace_sim)"
   ]
  },
  {
   "cell_type": "code",
   "execution_count": null,
   "metadata": {},
   "outputs": [],
   "source": [
    "sp.factor(SS.coeff(r**2).simplify())"
   ]
  },
  {
   "cell_type": "code",
   "execution_count": null,
   "metadata": {},
   "outputs": [],
   "source": [
    "SS = sp.factor_list(n_Jdet)[-1][-1][0]"
   ]
  },
  {
   "cell_type": "code",
   "execution_count": null,
   "metadata": {},
   "outputs": [],
   "source": [
    "SS.collect(r)"
   ]
  },
  {
   "cell_type": "code",
   "execution_count": null,
   "metadata": {},
   "outputs": [],
   "source": [
    "A_Det = SS.coeff(r**4)#.collect(r)"
   ]
  },
  {
   "cell_type": "code",
   "execution_count": null,
   "metadata": {},
   "outputs": [],
   "source": [
    "A_Det"
   ]
  },
  {
   "cell_type": "code",
   "execution_count": null,
   "metadata": {},
   "outputs": [],
   "source": [
    "sp.solve(SS,r)"
   ]
  },
  {
   "cell_type": "code",
   "execution_count": null,
   "metadata": {},
   "outputs": [],
   "source": [
    "sp.solve(n_Jtrace,r)[1].simplify()"
   ]
  },
  {
   "cell_type": "code",
   "execution_count": null,
   "metadata": {},
   "outputs": [],
   "source": [
    "sp.solve(n_Jtrace,r)[2]"
   ]
  },
  {
   "cell_type": "code",
   "execution_count": null,
   "metadata": {},
   "outputs": [],
   "source": [
    "sp.solve(n_Jtrace,r)[2].simplify()"
   ]
  },
  {
   "cell_type": "code",
   "execution_count": null,
   "metadata": {},
   "outputs": [],
   "source": [
    "n_Jdet"
   ]
  },
  {
   "cell_type": "code",
   "execution_count": null,
   "metadata": {},
   "outputs": [],
   "source": [
    "PP = sp.poly(sp.factor_list(n_Jdet)[-1][-1][0],r)"
   ]
  },
  {
   "cell_type": "code",
   "execution_count": null,
   "metadata": {},
   "outputs": [],
   "source": [
    "PP.coeffs()[0].simplify()"
   ]
  },
  {
   "cell_type": "code",
   "execution_count": null,
   "metadata": {},
   "outputs": [],
   "source": [
    "print(B_DDA2)"
   ]
  },
  {
   "cell_type": "code",
   "execution_count": null,
   "metadata": {},
   "outputs": [],
   "source": []
  },
  {
   "cell_type": "code",
   "execution_count": null,
   "metadata": {},
   "outputs": [],
   "source": [
    "A_DD_ = A_DD.collect([Apm,B1])\n",
    "A_DDA3 = A_DD.collect([Apm,B1]).coeff(Apm**3)\n",
    "A_DDA2 = A_DD.collect([Apm,B1]).coeff(Apm**2)\n",
    "A_DDA1 = A_DD.collect([Apm,B1]).coeff(Apm)\n",
    "A_DD0 = A_DD_ - A_DDA3*Apm**3 - A_DDA2*Apm**2 - A_DDA1*Apm"
   ]
  },
  {
   "cell_type": "code",
   "execution_count": null,
   "metadata": {},
   "outputs": [],
   "source": [
    "print(A_DDA3)"
   ]
  },
  {
   "cell_type": "code",
   "execution_count": null,
   "metadata": {},
   "outputs": [],
   "source": [
    "A3_1 = A_DDA3.collect(B1).simplify().factor().args[1]"
   ]
  },
  {
   "cell_type": "code",
   "execution_count": null,
   "metadata": {},
   "outputs": [],
   "source": [
    "sp.print_latex(A_DD_)"
   ]
  },
  {
   "cell_type": "code",
   "execution_count": null,
   "metadata": {},
   "outputs": [],
   "source": [
    "A3_1B =  A3_1.collect(B1).args[0]\n",
    "A3_1C = A3_1.collect(B1) - A3_1B"
   ]
  },
  {
   "cell_type": "code",
   "execution_count": null,
   "metadata": {},
   "outputs": [],
   "source": [
    "(A3_1C).factor()"
   ]
  },
  {
   "cell_type": "code",
   "execution_count": null,
   "metadata": {},
   "outputs": [],
   "source": [
    "C_DD_ = C_DD.collect([Apm,B1]).collect(B1)\n"
   ]
  },
  {
   "cell_type": "code",
   "execution_count": null,
   "metadata": {},
   "outputs": [],
   "source": [
    "C_DD.collect([Apm,B1]).collect(B1)"
   ]
  },
  {
   "cell_type": "code",
   "execution_count": null,
   "metadata": {},
   "outputs": [],
   "source": [
    "C_DD_ = C_DD.collect([Apm,B1]).collect(B1).args[1]\n",
    "C_DDA3 = C_DD_.collect([Apm,B1]).coeff(Apm**3)\n",
    "C_DDA2 = C_DD_.collect([Apm,B1]).coeff(Apm**2)\n",
    "C_DDA1 = C_DD_.collect([Apm,B1]).coeff(Apm)\n",
    "C_DD0 = C_DD_ - C_DDA3*Apm**3 - C_DDA2*Apm**2 - C_DDA1*Apm"
   ]
  },
  {
   "cell_type": "code",
   "execution_count": null,
   "metadata": {},
   "outputs": [],
   "source": [
    "B_DD_ = (B_DD/2).collect([Apm,B1]).collect(B1)\n",
    "B_DDA3 = B_DD_.collect([Apm,B1]).coeff(Apm**3)\n",
    "B_DDA2 = B_DD_.collect([Apm,B1]).coeff(Apm**2)\n",
    "B_DDA1 = B_DD_.collect([Apm,B1]).coeff(Apm)\n",
    "B_DD0 = B_DD_ - B_DDA3*Apm**3 - B_DDA2*Apm**2 - B_DDA1*Apm"
   ]
  },
  {
   "cell_type": "code",
   "execution_count": null,
   "metadata": {},
   "outputs": [],
   "source": [
    "print(C_DD0)"
   ]
  },
  {
   "cell_type": "code",
   "execution_count": null,
   "metadata": {},
   "outputs": [],
   "source": [
    "\n",
    "\n",
    "def r_Det_0P():\n",
    "    A_Delta,B_Delta,C_Delta \n",
    "    B_1 = eta1/eta2\n",
    "    SA = np.sin(alpha)\n",
    "    CA = np.cos(alpha)\n",
    "    SA_P1P = np.sin(alpha + phi)\n",
    "    SA_P2P = np.sin(alpha +2*phi)\n",
    "    CA_P1P = np.cos(alpha + phi)\n",
    "    CA_P2P = np.cos(alpha +2*phi)\n",
    "    SA_M1P = np.sin(alpha -phi)\n",
    "    SA_M2P = np.sin(alpha -2*phi)\n",
    "    CA_M1P = np.cos(alpha -phi)\n",
    "    CA_M2P = np.cos(alpha -2*phi)\n",
    "\n",
    "    A_DDA3 = 4*B_1**2*SA_P2P**2 + 6*B_1**2*CA_P2P**2 - 8*SA_M2P*SA_P2P + 12*CA_M2P*CA_P2P\n",
    "    A_DDA2 = -16*B_1**2*SA_P1P*SA_P2P*CA_P2P - 22*B_1**2*CA_P1P*CA_P2P**2 + 8*SA_M2P*SA_P1P*CA_P2P - 32*CA_M2P*CA_P1P*CA_P2P\n",
    "    A_DDA1 = 8*B_1**2*SA*SA_P2P*CA_P2P**2 + 12*B_1**2*SA_P1P**2*CA_P2P**2 + 10*B_1**2*CA*CA_P2P**3 + 16*B_1**2*CA_P1P**2*CA_P2P**2 + 20*CA*CA_M2P*CA_P2P**2\n",
    "    A_DD0 = B_1**2*(-8*SA*SA_P1P*CA_P2P**3 - 10*CA*CA_P1P*CA_P2P**3)\n",
    "    B_DDA3 = B_1**2*(-SA_P2P**2 + CA_P2P**2) + 2*SA_M2P*SA_P2P - CA_M2P*CA_P2P\n",
    "    B_DDA2 = B_1**2*(2*SA_M1P*SA_P2P*CA_P2P + 3*SA_P1P*SA_P2P*CA_P2P - 3*CA_M1P*CA_P2P**2 - 3*CA_P1P*CA_P2P**2) - 2*SA_M2P*SA_P1P*CA_P2P + 4*CA_M2P*CA_P1P*CA_P2P\n",
    "    B_DDA1 = B_1**2*(-SA*SA_P2P*CA_P2P**2 - 2*SA_M1P*SA_P1P*CA_P2P**2 - 2*SA_P1P**2*CA_P2P**2 + CA*CA_P2P**3 + 8*CA_M1P*CA_P1P*CA_P2P**2 + 2*CA_P1P**2*CA_P2P**2) - 3*CA*CA_M2P*CA_P2P**2\n",
    "    B_DD0 = B_1**2*(SA*SA_P1P*CA_P2P**3 - 5*CA*CA_M1P*CA_P2P**3 - CA*CA_P1P*CA_P2P**3)\n",
    "    C_DDA3 = -2*CA_P2P**2\n",
    "    C_DDA2 = -8*SA_M1P*SA_P2P*CA_P2P + 4*SA_P1P*SA_P2P*CA_P2P + 4*CA_M1P*CA_P2P**2 + 10*CA_P1P*CA_P2P**2\n",
    "    C_DDA1 = -4*SA*SA_P2P*CA_P2P**2 + 8*SA_M1P*SA_P1P*CA_P2P**2 - 4*SA_P1P**2*CA_P2P**2 - 6*CA*CA_P2P**3 - 16*CA_M1P*CA_P1P*CA_P2P**2 - 8*CA_P1P**2*CA_P2P**2\n",
    "    C_DD0 = 4*SA*SA_P1P*CA_P2P**3 + 12*CA*CA_M1P*CA_P2P**3 + 6*CA*CA_P1P*CA_P2P**3\n",
    "    A_Delta = A_DD0 + A_DDA3*Apm**3 + A_DDA2*Apm**2 + A_DDA1*Apm\n",
    "    B_Delta = (B_DD0 + B_DDA3*Apm**3 + B_DDA2*Apm**2 + B_DDA1*Apm)*2\n",
    "    C_Delta = (C_DD0 + C_DDA3*Apm**3 + C_DDA2*Apm**2 + C_DDA1*Apm)*B_1**2\n",
    "\n",
    "    r1 = sp.sqrt(-B_Delta/A_Delta + np.sqrt(-A_Delta*C_Delta + B_Delta**2)/A_Delta)\n",
    "    return r1"
   ]
  },
  {
   "cell_type": "code",
   "execution_count": null,
   "metadata": {},
   "outputs": [],
   "source": [
    "sp.print_latex(B_DD_)"
   ]
  },
  {
   "cell_type": "code",
   "execution_count": null,
   "metadata": {},
   "outputs": [],
   "source": [
    "Dpm,Epm = sp.symbols('D_\\pm E_\\pm',real=True)"
   ]
  },
  {
   "cell_type": "code",
   "execution_count": null,
   "metadata": {},
   "outputs": [],
   "source": [
    "A_D = sp.IndexedBase('A_\\Delta', real = True)\n",
    "B_D = sp.IndexedBase('B_\\Delta', real = True)\n",
    "C_D = sp.IndexedBase('C_\\Delta', real = True)"
   ]
  },
  {
   "cell_type": "code",
   "execution_count": null,
   "metadata": {},
   "outputs": [],
   "source": [
    "A_Delta = A_D[3]*Apm**3 + A_D[2]*Apm**2*sp.cos(alpha+2*phi) + A_D[1]*Apm*sp.cos(alpha+2*phi)**2 + A_D[0]*sp.cos(alpha+2*phi)**3\n",
    "C_Delta = (-sp.cos(alpha+2*phi)**2*Apm**3 + C_D[2]*Apm**2*sp.cos(alpha+2*phi) + C_D[1]*Apm*sp.cos(alpha+2*phi)**2 + C_D[0]*sp.cos(alpha+2*phi)**3) *B1**2\n",
    "B_Delta = B_D[3]*Apm**3 + B1**2*B_D[2]*Apm**2*sp.cos(alpha+2*phi) + B_D[1]*Apm*sp.cos(alpha+2*phi)**2 + B1**2 * B_D[0]*sp.cos(alpha+2*phi)**3"
   ]
  },
  {
   "cell_type": "code",
   "execution_count": null,
   "metadata": {},
   "outputs": [],
   "source": [
    "FFF = (Dpm*Cdelta)**2 + 4*Adelta**2*B1**4*A1**2 - 4*Adelta*B1**2*A1*Dpm*Cdelta + 4*Adelta*B1**2*A1*Bdelta*Epm - 2*Dpm*Cdelta*Bdelta*Epm + Epm**2*Adelta*Cdelta + 8*Dpm*B1**2*A1*Adelta*Cdelta - 8*Dpm*B1**2*A1*Bdelta**2\n",
    "Cpm = Apm**2*sp.sin(alpha+2*phi) - 2*Apm*sp.sin(alpha+phi)*sp.cos(alpha+2*phi)+sp.sin(alpha)*sp.cos(alpha+2*phi)\n",
    "\n",
    "FFF_1 = (Dpm*Cdelta)**2\n",
    "FFF_2 = + 4*Adelta**2*B1**4*A1**2\n",
    "FFF_3 = - 4*Adelta*B1**2*A1*Dpm*Cdelta\n",
    "FFF_4 = 4*Adelta*B1**2*A1*Bdelta*Epm\n",
    "FFF_5 = - 2*Dpm*Cdelta*Bdelta*Epm\n",
    "FFF_6 =  Epm**2*Adelta*Cdelta\n",
    "FFF_7 =  8*Dpm*B1**2*A1*Adelta*Cdelta\n",
    "FFF_8 = - 8*Dpm*B1**2*A1*Bdelta**2\n",
    "SUB = [(A1,sp.sin(alpha)*sp.cos(alpha+2*phi)),(Dpm,-2*Apm**2/(B1**2)*sp.sin(alpha-2*phi) + Cpm),(Epm,Cpm + 4*Apm*sp.sin(alpha-phi)*sp.cos(alpha+2*phi))]#,(Adelta,J_DET0_4C),(Bdelta,J_DET0_2C/2),(Cdelta,J_DET0_0C)]\n",
    "SUB2 = [(A1,sp.sin(alpha)*sp.cos(alpha+2*phi)),(Dpm,-2*Apm**2/(B1**2)*sp.sin(alpha-2*phi) + Cpm),(Epm,Cpm + 4*Apm*sp.sin(alpha-phi)*sp.cos(alpha+2*phi)),(Adelta,A_Delta),(Bdelta,B_Delta),(Cdelta,C_Delta)]\n"
   ]
  },
  {
   "cell_type": "code",
   "execution_count": null,
   "metadata": {},
   "outputs": [],
   "source": [
    "FFF_EX = FFF.subs(SUB2).expand()#.collect(Apm)"
   ]
  },
  {
   "cell_type": "code",
   "execution_count": null,
   "metadata": {},
   "outputs": [],
   "source": [
    "PP = sp.poly(FFF_EX,Apm)"
   ]
  },
  {
   "cell_type": "code",
   "execution_count": null,
   "metadata": {},
   "outputs": [],
   "source": [
    "PP.all_coeffs()[-2]"
   ]
  },
  {
   "cell_type": "code",
   "execution_count": null,
   "metadata": {},
   "outputs": [],
   "source": [
    "FFF_sub1 = FFF.subs(SUB2).simplify()"
   ]
  },
  {
   "cell_type": "code",
   "execution_count": null,
   "metadata": {},
   "outputs": [],
   "source": [
    "FFF_n,_ =  sp.fraction(FFF_sub1)\n"
   ]
  },
  {
   "cell_type": "code",
   "execution_count": null,
   "metadata": {},
   "outputs": [],
   "source": [
    "FFF_n.factor(Apm)"
   ]
  },
  {
   "cell_type": "code",
   "execution_count": null,
   "metadata": {},
   "outputs": [],
   "source": [
    "FFF_sub1 = FFF.subs(SUB).simplify()"
   ]
  },
  {
   "cell_type": "code",
   "execution_count": null,
   "metadata": {},
   "outputs": [],
   "source": [
    "FFF_n,_ =  sp.fraction(FFF_sub1)"
   ]
  },
  {
   "cell_type": "code",
   "execution_count": null,
   "metadata": {},
   "outputs": [],
   "source": [
    "FFF_APM_P = FFF_n.subs(SUB2)#.trigsimp()"
   ]
  },
  {
   "cell_type": "code",
   "execution_count": null,
   "metadata": {},
   "outputs": [],
   "source": [
    "FFF_APM_P.subs(sp.cos(alpha+2*phi),"
   ]
  },
  {
   "cell_type": "code",
   "execution_count": null,
   "metadata": {},
   "outputs": [],
   "source": [
    "FFF_APMP_CC = FFF_APM_P.subs(sp.cos(alpha+2*phi),CC)"
   ]
  },
  {
   "cell_type": "code",
   "execution_count": null,
   "metadata": {},
   "outputs": [],
   "source": []
  },
  {
   "cell_type": "code",
   "execution_count": null,
   "metadata": {},
   "outputs": [],
   "source": [
    "FFF_sub1.simplify()"
   ]
  },
  {
   "cell_type": "code",
   "execution_count": null,
   "metadata": {},
   "outputs": [],
   "source": [
    "FFF_1.subs(SUB).expand().simplify()"
   ]
  },
  {
   "cell_type": "code",
   "execution_count": null,
   "metadata": {},
   "outputs": [],
   "source": [
    "Cpm = Apm**2*sp.sin(alpha+2*phi) - 2*Apm*sp.sin(alpha+phi)*sp.cos(alpha+2*phi)+sp.sin(alpha)*sp.cos(alpha+2*phi)\n",
    "FFF_sub = FFF.subs([(A1,sp.sin(alpha)*sp.cos(alpha+2*phi)),(Dpm,-2*Apm**2/(B1**2)*sp.sin(alpha-2*phi) + Cpm),(Epm,Cpm + 4*Apm*sp.sin(alpha-phi)*sp.cos(alpha+2*phi)),(Adelta,J_DET0_4C),(Bdelta,J_DET0_2C/2),(Cdelta,J_DET0_0C)])#.factor()"
   ]
  },
  {
   "cell_type": "code",
   "execution_count": null,
   "metadata": {},
   "outputs": [],
   "source": [
    "sp.print_latex(FFF_sub)"
   ]
  },
  {
   "cell_type": "code",
   "execution_count": null,
   "metadata": {},
   "outputs": [],
   "source": [
    "sp.printing.matlab.matlab_code(FFF_sub)"
   ]
  },
  {
   "cell_type": "code",
   "execution_count": null,
   "metadata": {},
   "outputs": [],
   "source": [
    "eta1,eta2,r,phi,alpha,beta = sp.symbols('eta1 eta2 r phi alpha beta',real=True)"
   ]
  },
  {
   "cell_type": "code",
   "execution_count": null,
   "metadata": {},
   "outputs": [],
   "source": [
    "FFF_factor = FFF_sub.expand().collect(sp.cos(alpha+2*phi)).factor()"
   ]
  },
  {
   "cell_type": "code",
   "execution_count": null,
   "metadata": {},
   "outputs": [],
   "source": []
  },
  {
   "cell_type": "markdown",
   "metadata": {},
   "source": [
    "# Graph"
   ]
  },
  {
   "cell_type": "code",
   "execution_count": 457,
   "metadata": {},
   "outputs": [],
   "source": [
    "import numpy as np\n",
    "import matplotlib.pyplot as plt\n",
    "from scipy.optimize import root_scalar"
   ]
  },
  {
   "cell_type": "code",
   "execution_count": 458,
   "metadata": {},
   "outputs": [],
   "source": [
    "# alpha,phi,B = np.symbols('alpha phi B',real = True)\n",
    "eta1 = 0.1\n",
    "eta2 = 0.05\n",
    "alpha = 0.1\n",
    "B = (eta1/eta2)**2\n",
    "phi = np.linspace(0,2*np.pi,1000)\n",
    "\n",
    "A1 = np.sin(alpha)*np.cos(alpha+2*phi)**2\n",
    "Apm = np.cos(alpha+phi) + np.abs(np.sin(phi))\n",
    "CP = Apm**2 * np.sin(alpha + 2*phi) - 2*Apm*np.sin(alpha+phi)*np.cos(alpha+2*phi) + A1\n",
    "DP = CP - 2* Apm**2 * np.sin(alpha-2*phi)/B\n",
    "EP = CP + 4*Apm*np.sin(alpha - phi) *np.cos(alpha + 2*phi)\n"
   ]
  },
  {
   "cell_type": "code",
   "execution_count": 459,
   "metadata": {},
   "outputs": [],
   "source": [
    "def APM(phi,alpha,sign = 1):\n",
    "    Apm = np.cos(alpha+phi) + sign*np.sin(phi)\n",
    "    return Apm\n",
    "\n",
    "\n",
    "def get_R_phi0(phi,alpha,eta1,eta2,APM=APM,sign=1,R_sign=1):\n",
    "    Apm = APM(phi,alpha,sign)\n",
    "    B = (eta1/eta2)**2\n",
    "    A1 = np.sin(alpha)*np.cos(alpha+2*phi)**2\n",
    "    Apm = np.cos(alpha+phi) + np.abs(np.sin(phi))\n",
    "    CP = Apm**2 * np.sin(alpha + 2*phi) - 2*Apm*np.sin(alpha+phi)*np.cos(alpha+2*phi) + A1\n",
    "    DP = CP - 2* Apm**2 * np.sin(alpha-2*phi)/B\n",
    "    EP = CP + 4*Apm*np.sin(alpha - phi) *np.cos(alpha + 2*phi)\n",
    "    R1 = np.sqrt((-EP + R_sign*np.sqrt(EP**2 + 8*DP*B*A1))/(2*DP))\n",
    "    return R1\n",
    "\n",
    "\n",
    "def get_R_Det0(phi,alpha,eta1,eta2,APM=APM,sign=1,R_sign=1):\n",
    "    Apm = APM(phi,alpha,sign)\n",
    "    B = eta1/eta2\n",
    "    # Apm = np.cos(alpha+phi) + (np.sin(phi))\n",
    "    SA = np.sin(alpha)\n",
    "    CA = np.cos(alpha)\n",
    "    SA_P1P = np.sin(alpha + phi)\n",
    "    SA_P2P = np.sin(alpha +2*phi)\n",
    "    CA_P1P = np.cos(alpha + phi)\n",
    "    CA_P2P = np.cos(alpha +2*phi)\n",
    "    SA_M1P = np.sin(alpha -phi)\n",
    "    SA_M2P = np.sin(alpha -2*phi)\n",
    "    CA_M1P = np.cos(alpha -phi)\n",
    "    CA_M2P = np.cos(alpha -2*phi)\n",
    "\n",
    "    A_DDA3 = 4*B**2*SA_P2P**2 + 6*B**2*CA_P2P**2 - 8*SA_M2P*SA_P2P + 12*CA_M2P*CA_P2P\n",
    "    A_DDA2 = -16*B**2*SA_P1P*SA_P2P*CA_P2P - 22*B**2*CA_P1P*CA_P2P**2 + 8*SA_M2P*SA_P1P*CA_P2P - 32*CA_M2P*CA_P1P*CA_P2P\n",
    "    A_DDA1 = 8*B**2*SA*SA_P2P*CA_P2P**2 + 12*B**2*SA_P1P**2*CA_P2P**2 + 10*B**2*CA*CA_P2P**3 + 16*B**2*CA_P1P**2*CA_P2P**2 + 20*CA*CA_M2P*CA_P2P**2\n",
    "    A_DD0 = B**2*(-8*SA*SA_P1P*CA_P2P**3 - 10*CA*CA_P1P*CA_P2P**3)\n",
    "    B_DDA3 = B**2*(-SA_P2P**2 + CA_P2P**2) + 2*SA_M2P*SA_P2P - CA_M2P*CA_P2P\n",
    "    B_DDA2 = B**2*(2*SA_M1P*SA_P2P*CA_P2P + 3*SA_P1P*SA_P2P*CA_P2P - 3*CA_M1P*CA_P2P**2 - 3*CA_P1P*CA_P2P**2) - 2*SA_M2P*SA_P1P*CA_P2P + 4*CA_M2P*CA_P1P*CA_P2P\n",
    "    B_DDA1 = B**2*(-SA*SA_P2P*CA_P2P**2 - 2*SA_M1P*SA_P1P*CA_P2P**2 - 2*SA_P1P**2*CA_P2P**2 + CA*CA_P2P**3 + 8*CA_M1P*CA_P1P*CA_P2P**2 + 2*CA_P1P**2*CA_P2P**2) - 3*CA*CA_M2P*CA_P2P**2\n",
    "    B_DD0 = B**2*(SA*SA_P1P*CA_P2P**3 - 5*CA*CA_M1P*CA_P2P**3 - CA*CA_P1P*CA_P2P**3)\n",
    "    C_DDA3 = -2*CA_P2P**2\n",
    "    C_DDA2 = -8*SA_M1P*SA_P2P*CA_P2P + 4*SA_P1P*SA_P2P*CA_P2P + 4*CA_M1P*CA_P2P**2 + 10*CA_P1P*CA_P2P**2\n",
    "    C_DDA1 = -4*SA*SA_P2P*CA_P2P**2 + 8*SA_M1P*SA_P1P*CA_P2P**2 - 4*SA_P1P**2*CA_P2P**2 - 6*CA*CA_P2P**3 - 16*CA_M1P*CA_P1P*CA_P2P**2 - 8*CA_P1P**2*CA_P2P**2\n",
    "    C_DD0 = 4*SA*SA_P1P*CA_P2P**3 + 12*CA*CA_M1P*CA_P2P**3 + 6*CA*CA_P1P*CA_P2P**3\n",
    "    A_Delta = A_DD0 + A_DDA3*Apm**3 + A_DDA2*Apm**2 + A_DDA1*Apm\n",
    "    B_Delta = (B_DD0 + B_DDA3*Apm**3 + B_DDA2*Apm**2 + B_DDA1*Apm)*2\n",
    "    C_Delta = (C_DD0 + C_DDA3*Apm**3 + C_DDA2*Apm**2 + C_DDA1*Apm)*B**2\n",
    "\n",
    "    R1_DET = np.sqrt(-B_Delta/A_Delta +R_sign * np.sqrt(-A_Delta*C_Delta + B_Delta**2)/A_Delta)\n",
    "    # R2_DET = np.sqrt(-B_Delta/A_Delta  - np.sqrt(-A_Delta*C_Delta + B_Delta**2)/A_Delta)\n",
    "    return R1_DET\n",
    "\n",
    "def get_R_Trace0(phi,alpha,eta1,eta2,APM=APM,sign=1,R_sign=1):\n",
    "    Apm = APM(phi,alpha,sign)\n",
    "    B1 = eta1/eta2\n",
    "    n = (-Apm**2 + 4*Apm*np.cos(alpha - phi) - 2*Apm*np.cos(alpha + phi) + 3*np.cos(alpha)*np.cos(alpha + 2*phi))*np.cos(alpha + 2*phi)\n",
    "    d = 5*Apm**2*B1**2*np.cos(alpha + 2*phi) + 4*Apm**2*np.cos(alpha - 2*phi) - 10*Apm*B1**2*np.cos(alpha + phi)*np.cos(alpha + 2*phi) + 5*B1**2*np.cos(alpha)*np.cos(alpha + 2*phi)**2\n",
    "    r = B1**2*np.sqrt(n/d)\n",
    "    return r\n",
    "\n",
    "def get_R_00(phi,alpha,eta1,eta2,APM=APM,sign=1,R_sign=1):\n",
    "    # Apm = APM(phi,alpha,sign)\n",
    "    # B1 = eta1/eta2\n",
    "    # n = (-Apm**2 + 4*Apm*np.cos(alpha - phi) - 2*Apm*np.cos(alpha + phi) + 3*np.cos(alpha)*np.cos(alpha + 2*phi))*np.cos(alpha + 2*phi)\n",
    "    # d = 5*Apm**2*B1**2*np.cos(alpha + 2*phi) + 4*Apm**2*np.cos(alpha - 2*phi) - 10*Apm*B1**2*np.cos(alpha + phi)*np.cos(alpha + 2*phi) + 5*B1**2*np.cos(alpha)*np.cos(alpha + 2*phi)**2\n",
    "    r = phi*0\n",
    "    return r"
   ]
  },
  {
   "cell_type": "code",
   "execution_count": 460,
   "metadata": {},
   "outputs": [],
   "source": [
    "def get_Minus(phi,alpha,eta1,eta2,APM=APM,sign=1,L_sign=1,R_sign=1,L=get_R_phi0,R=get_R_Det0):\n",
    "    L_phi = L(phi,alpha,eta1,eta2,APM=APM,sign=sign,R_sign=L_sign)\n",
    "    R_phi = R(phi,alpha,eta1,eta2,APM=APM,sign=sign,R_sign=R_sign)\n",
    "    beta = -eta2*L_phi*APM(phi,alpha,sign = 1)/(eta1*np.cos(alpha + 2*phi))\n",
    "    zero =  L_phi - R_phi\n",
    "    return zero,L_phi,beta\n",
    "    \n",
    "def get_Root(phi,alpha,eta1,eta2,APM=APM,sign=1,L_sign=1,R_sign=1,L=get_R_phi0,R=get_R_Det0):\n",
    "    L_phi = L(phi,alpha,eta1,eta2,APM=APM,sign=sign,R_sign=L_sign)\n",
    "    R_phi = R(phi,alpha,eta1,eta2,APM=APM,sign=sign,R_sign=R_sign)\n",
    "    # beta = -eta2*L_phi*APM(phi,alpha,sign = 1)/(eta1*np.cos(alpha + 2*phi))\n",
    "    zero =  L_phi - R_phi\n",
    "    return zero"
   ]
  },
  {
   "cell_type": "code",
   "execution_count": 461,
   "metadata": {},
   "outputs": [
    {
     "name": "stderr",
     "output_type": "stream",
     "text": [
      "/var/folders/lj/v2s5sd8n1cv2xdh0yw2kf0x00000gn/T/ipykernel_61973/2601235906.py:1: RuntimeWarning: invalid value encountered in sqrt\n",
      "  R2 = (-EP - np.sqrt(EP**2 + 8*DP*B*A1))/(2*DP)\n",
      "/var/folders/lj/v2s5sd8n1cv2xdh0yw2kf0x00000gn/T/ipykernel_61973/2601235906.py:2: RuntimeWarning: invalid value encountered in sqrt\n",
      "  R1 = (-EP + np.sqrt(EP**2 + 8*DP*B*A1))/(2*DP)\n"
     ]
    }
   ],
   "source": [
    "R2 = (-EP - np.sqrt(EP**2 + 8*DP*B*A1))/(2*DP)\n",
    "R1 = (-EP + np.sqrt(EP**2 + 8*DP*B*A1))/(2*DP)"
   ]
  },
  {
   "cell_type": "code",
   "execution_count": 462,
   "metadata": {},
   "outputs": [
    {
     "name": "stderr",
     "output_type": "stream",
     "text": [
      "/var/folders/lj/v2s5sd8n1cv2xdh0yw2kf0x00000gn/T/ipykernel_61973/2888496686.py:14: RuntimeWarning: invalid value encountered in sqrt\n",
      "  R1 = np.sqrt((-EP + R_sign*np.sqrt(EP**2 + 8*DP*B*A1))/(2*DP))\n",
      "/var/folders/lj/v2s5sd8n1cv2xdh0yw2kf0x00000gn/T/ipykernel_61973/2888496686.py:49: RuntimeWarning: invalid value encountered in sqrt\n",
      "  R1_DET = np.sqrt(-B_Delta/A_Delta +R_sign * np.sqrt(-A_Delta*C_Delta + B_Delta**2)/A_Delta)\n"
     ]
    }
   ],
   "source": [
    "Zpp,Rpp,beta_pp = get_Minus(phi,alpha,eta1,eta2,APM=APM,sign=1,L_sign=1,R_sign=1,L=get_R_phi0,R=get_R_Det0)\n",
    "Zpm,Rpm,beta_pm = get_Minus(phi,alpha,eta1,eta2,APM=APM,sign=1,L_sign=1,R_sign=-1,L=get_R_phi0,R=get_R_Det0)\n",
    "Zmp,Rmp,beta_mp = get_Minus(phi,alpha,eta1,eta2,APM=APM,sign=1,L_sign=-1,R_sign=1,L=get_R_phi0,R=get_R_Det0)\n",
    "Zmm,Rmm,beta_mm = get_Minus(phi,alpha,eta1,eta2,APM=APM,sign=1,L_sign=-1,R_sign=-1,L=get_R_phi0,R=get_R_Det0)\n"
   ]
  },
  {
   "cell_type": "code",
   "execution_count": 463,
   "metadata": {},
   "outputs": [
    {
     "ename": "NameError",
     "evalue": "name 'args' is not defined",
     "output_type": "error",
     "traceback": [
      "\u001b[0;31m---------------------------------------------------------------------------\u001b[0m",
      "\u001b[0;31mNameError\u001b[0m                                 Traceback (most recent call last)",
      "Cell \u001b[0;32mIn[463], line 1\u001b[0m\n\u001b[0;32m----> 1\u001b[0m Zpp \u001b[38;5;241m=\u001b[39m get_Minus(phi,\u001b[38;5;241m*\u001b[39m\u001b[43margs\u001b[49m)\n\u001b[1;32m      2\u001b[0m Zpp\n",
      "\u001b[0;31mNameError\u001b[0m: name 'args' is not defined"
     ]
    }
   ],
   "source": [
    "Zpp = get_Minus(phi,*args)\n",
    "Zpp"
   ]
  },
  {
   "cell_type": "code",
   "execution_count": 464,
   "metadata": {},
   "outputs": [
    {
     "name": "stderr",
     "output_type": "stream",
     "text": [
      "/var/folders/lj/v2s5sd8n1cv2xdh0yw2kf0x00000gn/T/ipykernel_61973/2888496686.py:14: RuntimeWarning: invalid value encountered in sqrt\n",
      "  R1 = np.sqrt((-EP + R_sign*np.sqrt(EP**2 + 8*DP*B*A1))/(2*DP))\n",
      "/var/folders/lj/v2s5sd8n1cv2xdh0yw2kf0x00000gn/T/ipykernel_61973/2888496686.py:49: RuntimeWarning: invalid value encountered in sqrt\n",
      "  R1_DET = np.sqrt(-B_Delta/A_Delta +R_sign * np.sqrt(-A_Delta*C_Delta + B_Delta**2)/A_Delta)\n",
      "/var/folders/lj/v2s5sd8n1cv2xdh0yw2kf0x00000gn/T/ipykernel_61973/2888496686.py:49: RuntimeWarning: divide by zero encountered in divide\n",
      "  R1_DET = np.sqrt(-B_Delta/A_Delta +R_sign * np.sqrt(-A_Delta*C_Delta + B_Delta**2)/A_Delta)\n",
      "/var/folders/lj/v2s5sd8n1cv2xdh0yw2kf0x00000gn/T/ipykernel_61973/2888496686.py:49: RuntimeWarning: invalid value encountered in divide\n",
      "  R1_DET = np.sqrt(-B_Delta/A_Delta +R_sign * np.sqrt(-A_Delta*C_Delta + B_Delta**2)/A_Delta)\n",
      "/var/folders/lj/v2s5sd8n1cv2xdh0yw2kf0x00000gn/T/ipykernel_61973/2888496686.py:49: RuntimeWarning: invalid value encountered in add\n",
      "  R1_DET = np.sqrt(-B_Delta/A_Delta +R_sign * np.sqrt(-A_Delta*C_Delta + B_Delta**2)/A_Delta)\n",
      "/var/folders/lj/v2s5sd8n1cv2xdh0yw2kf0x00000gn/T/ipykernel_61973/2888496686.py:49: RuntimeWarning: divide by zero encountered in scalar divide\n",
      "  R1_DET = np.sqrt(-B_Delta/A_Delta +R_sign * np.sqrt(-A_Delta*C_Delta + B_Delta**2)/A_Delta)\n",
      "/var/folders/lj/v2s5sd8n1cv2xdh0yw2kf0x00000gn/T/ipykernel_61973/2888496686.py:49: RuntimeWarning: invalid value encountered in scalar add\n",
      "  R1_DET = np.sqrt(-B_Delta/A_Delta +R_sign * np.sqrt(-A_Delta*C_Delta + B_Delta**2)/A_Delta)\n",
      "/var/folders/lj/v2s5sd8n1cv2xdh0yw2kf0x00000gn/T/ipykernel_61973/2888496686.py:49: RuntimeWarning: invalid value encountered in scalar divide\n",
      "  R1_DET = np.sqrt(-B_Delta/A_Delta +R_sign * np.sqrt(-A_Delta*C_Delta + B_Delta**2)/A_Delta)\n",
      "/var/folders/lj/v2s5sd8n1cv2xdh0yw2kf0x00000gn/T/ipykernel_61973/2888496686.py:58: RuntimeWarning: invalid value encountered in sqrt\n",
      "  r = B1**2*np.sqrt(n/d)\n"
     ]
    }
   ],
   "source": [
    "alphas = np.linspace(0,np.pi/2,1000)[1:]\n",
    "alpha_s_pp = []\n",
    "R_s_pp = []\n",
    "beta_s_pp = []\n",
    "phi = np.linspace(0,2*np.pi,10000)\n",
    "eta1 = 0.2\n",
    "eta2 = 0.4\n",
    "for alpha in alphas:\n",
    "    args = (alpha,eta1,eta2,APM,1,1,1,get_R_phi0,get_R_Det0)\n",
    "    Zpp = get_Root(phi,*args)\n",
    "    try:\n",
    "        Phi_, = np.where(np.sign(Zpp[1:] * Zpp[:-1])==-1)\n",
    "        for i,phi_ in enumerate(Phi_):\n",
    "            # print(get_Root(phi[phi_],*args),get_Root(phi[phi_+1],*args))\n",
    "            try:\n",
    "                rot = root_scalar(get_Root,bracket=[phi[phi_],phi[phi_+1]],args=(alpha,eta1,eta2,APM,1,1,1,get_R_phi0,get_R_Det0),method='ridder')\n",
    "                p = rot.root\n",
    "                Z,R,beta =get_Minus(p,*args)\n",
    "                alpha_s_pp.append(alpha)\n",
    "                beta_s_pp.append(beta)\n",
    "                R_s_pp.append(R)\n",
    "            except ValueError: pass\n",
    "            \n",
    "            # print(rot.root, Z,R,beta)\n",
    "    except TypeError:\n",
    "        pass\n",
    "        print('error',alpha)\n",
    "\n",
    "\n",
    "\n",
    "\n",
    "\n",
    "alpha_s_pm = []\n",
    "R_s_pm = []\n",
    "beta_s_pm = []\n",
    "# del Phi_\n",
    "for alpha in alphas:\n",
    "    args = (alpha,eta1,eta2,APM,1,1,-1,get_R_phi0,get_R_Det0)\n",
    "    Zpp = get_Root(phi,*args)\n",
    "    try:\n",
    "        Phi_, = np.where(np.sign(Zpp[1:] * Zpp[:-1])==-1)\n",
    "        for i,phi_ in enumerate(Phi_):\n",
    "            # print(get_Root(phi[phi_],*args),get_Root(phi[phi_+1],*args))\n",
    "            try:\n",
    "                rot = root_scalar(get_Root,bracket=[phi[phi_],phi[phi_+1]],args=args,method='ridder')\n",
    "                p = rot.root\n",
    "                Z,R,beta =get_Minus(p,*args)\n",
    "                alpha_s_pm.append(alpha)\n",
    "                beta_s_pm.append(beta)\n",
    "                R_s_pm.append(R)\n",
    "            except ValueError: pass\n",
    "            \n",
    "            # print(rot.root, Z,R,beta)\n",
    "    except TypeError:\n",
    "        pass\n",
    "        print('error',alpha)\n",
    "\n",
    "    \n",
    "alpha_s_mp = []\n",
    "R_s_mp = []\n",
    "beta_s_mp = []\n",
    "# del Phi_\n",
    "for alpha in alphas:\n",
    "    args = (alpha,eta1,eta2,APM,1,-1,1,get_R_phi0,get_R_Det0)\n",
    "    Zpp = get_Root(phi,*args)\n",
    "    try:\n",
    "        Phi_, = np.where(np.sign(Zpp[1:] * Zpp[:-1])==-1)\n",
    "        for i,phi_ in enumerate(Phi_):\n",
    "            # print(get_Root(phi[phi_],*args),get_Root(phi[phi_+1],*args))\n",
    "            try:\n",
    "                rot = root_scalar(get_Root,bracket=[phi[phi_],phi[phi_+1]],args=args,method='ridder')\n",
    "                p = rot.root\n",
    "                Z,R,beta =get_Minus(p,*args)\n",
    "                alpha_s_mp.append(alpha)\n",
    "                beta_s_mp.append(beta)\n",
    "                R_s_mp.append(R)\n",
    "            except ValueError: pass\n",
    "            \n",
    "            # print(rot.root, Z,R,beta)\n",
    "    except TypeError:\n",
    "        pass\n",
    "        print('error',alpha)\n",
    "alpha_s_mm = []\n",
    "R_s_mm = []\n",
    "beta_s_mm = []\n",
    "# del Phi_\n",
    "for alpha in alphas:\n",
    "    args = (alpha,eta1,eta2,APM,1,-1,-1,get_R_phi0,get_R_Det0)\n",
    "    Zpp = get_Root(phi,*args)\n",
    "    try:\n",
    "        Phi_, = np.where(np.sign(Zpp[1:] * Zpp[:-1])==-1)\n",
    "        for i,phi_ in enumerate(Phi_):\n",
    "            # print(get_Root(phi[phi_],*args),get_Root(phi[phi_+1],*args))\n",
    "            try:\n",
    "                rot = root_scalar(get_Root,bracket=[phi[phi_],phi[phi_+1]],args=args,method='ridder')\n",
    "                p = rot.root\n",
    "                Z,R,beta =get_Minus(p,*args)\n",
    "                alpha_s_mm.append(alpha)\n",
    "                beta_s_mm.append(beta)\n",
    "                R_s_mm.append(R)\n",
    "            except ValueError: pass\n",
    "            \n",
    "            # print(rot.root, Z,R,beta)\n",
    "    except TypeError:\n",
    "        pass\n",
    "        print('error',alpha)\n",
    "\n",
    "\n",
    "alpha_s_trace_m = []\n",
    "R_s_trace_m = []\n",
    "beta_s_trace_m = []\n",
    "# del Phi_\n",
    "for alpha in alphas:\n",
    "    args = (alpha,eta1,eta2,APM,1,-1,-1,get_R_phi0,get_R_Trace0)\n",
    "    Zpp = get_Root(phi,*args)\n",
    "    try:\n",
    "        Phi_, = np.where(np.sign(Zpp[1:] * Zpp[:-1])==-1)\n",
    "        for i,phi_ in enumerate(Phi_):\n",
    "            # print(get_Root(phi[phi_],*args),get_Root(phi[phi_+1],*args))\n",
    "            try:\n",
    "                rot = root_scalar(get_Root,bracket=[phi[phi_],phi[phi_+1]],args=args,method='ridder')\n",
    "                p = rot.root\n",
    "                Z,R,beta =get_Minus(p,*args)\n",
    "                alpha_s_trace_m.append(alpha)\n",
    "                beta_s_trace_m.append(beta)\n",
    "                R_s_trace_m.append(R)\n",
    "            except ValueError: pass\n",
    "            \n",
    "            # print(rot.root, Z,R,beta)\n",
    "    except TypeError:\n",
    "        pass\n",
    "        print('error',alpha)\n",
    "\n",
    "    \n",
    "\n",
    "alpha_s_trace_p = []\n",
    "R_s_trace_p = []\n",
    "beta_s_trace_p = []\n",
    "# del Phi_\n",
    "for alpha in alphas:\n",
    "    args = (alpha,eta1,eta2,APM,1,1,-1,get_R_phi0,get_R_Trace0)\n",
    "    Zpp = get_Root(phi,*args)\n",
    "    try:\n",
    "        Phi_, = np.where(np.sign(Zpp[1:] * Zpp[:-1])==-1)\n",
    "        for i,phi_ in enumerate(Phi_):\n",
    "            # print(get_Root(phi[phi_],*args),get_Root(phi[phi_+1],*args))\n",
    "            try:\n",
    "                rot = root_scalar(get_Root,bracket=[phi[phi_],phi[phi_+1]],args=args,method='ridder')\n",
    "                p = rot.root\n",
    "                Z,R,beta =get_Minus(p,*args)\n",
    "                alpha_s_trace_p.append(alpha)\n",
    "                beta_s_trace_p.append(beta)\n",
    "                R_s_trace_p.append(R)\n",
    "            except ValueError: pass\n",
    "            \n",
    "            # print(rot.root, Z,R,beta)\n",
    "    except TypeError:\n",
    "        pass\n",
    "        print('error',alpha)\n",
    "\n",
    "\n",
    "# alpha_s_00P = []\n",
    "# R_s_00P = []\n",
    "# beta_s_00P = []\n",
    "# # del Phi_\n",
    "# for alpha in alphas:\n",
    "#     args = (alpha,eta1,eta2,APM,1,1,-1,get_R_phi0,get_R_00)\n",
    "#     Zpp = get_Root(phi,*args)\n",
    "#     try:\n",
    "#         Phi_, = np.where(np.sign(Zpp[1:] * Zpp[:-1])==-1)\n",
    "#         for i,phi_ in enumerate(Phi_):\n",
    "#             # print(get_Root(phi[phi_],*args),get_Root(phi[phi_+1],*args))\n",
    "#             try:\n",
    "#                 rot = root_scalar(get_Root,bracket=[phi[phi_],phi[phi_+1]],args=args,method='ridder')\n",
    "#                 p = rot.root\n",
    "#                 Z,R,beta =get_Minus(p,*args)\n",
    "#                 alpha_s_00P.append(alpha)\n",
    "#                 beta_s_00P.append(beta)\n",
    "#                 R_s_00P.append(R)\n",
    "#             except ValueError: pass\n",
    "            \n",
    "#             # print(rot.root, Z,R,beta)\n",
    "#     except TypeError:\n",
    "#         pass\n",
    "#         print('error',alpha)\n",
    "\n",
    "\n",
    "# alpha_s_00M = []\n",
    "# R_s_00M = []\n",
    "# beta_s_00M = []\n",
    "# # del Phi_\n",
    "# for alpha in alphas:\n",
    "#     args = (alpha,eta1,eta2,APM,1,-1,-1,get_R_phi0,get_R_00)\n",
    "#     Zpp = get_Root(phi,*args)\n",
    "#     try:\n",
    "#         Phi_, = np.where(np.sign(Zpp[1:] * Zpp[:-1])==-1)\n",
    "#         for i,phi_ in enumerate(Phi_):\n",
    "#             # print(get_Root(phi[phi_],*args),get_Root(phi[phi_+1],*args))\n",
    "#             try:\n",
    "#                 rot = root_scalar(get_Root,bracket=[phi[phi_],phi[phi_+1]],args=args,method='ridder')\n",
    "#                 p = rot.root\n",
    "#                 Z,R,beta =get_Minus(p,*args)\n",
    "#                 alpha_s_00M.append(alpha)\n",
    "#                 beta_s_00M.append(beta)\n",
    "#                 R_s_00M.append(R)\n",
    "#             except ValueError: \n",
    "#                 print('error',alpha)\n",
    "            \n",
    "#             # print(rot.root, Z,R,beta)\n",
    "#     except TypeError:\n",
    "#         print('error',alpha)\n",
    "#         pass"
   ]
  },
  {
   "cell_type": "code",
   "execution_count": 465,
   "metadata": {},
   "outputs": [
    {
     "name": "stderr",
     "output_type": "stream",
     "text": [
      "/var/folders/lj/v2s5sd8n1cv2xdh0yw2kf0x00000gn/T/ipykernel_61973/2888496686.py:14: RuntimeWarning: invalid value encountered in sqrt\n",
      "  R1 = np.sqrt((-EP + R_sign*np.sqrt(EP**2 + 8*DP*B*A1))/(2*DP))\n",
      "/var/folders/lj/v2s5sd8n1cv2xdh0yw2kf0x00000gn/T/ipykernel_61973/2888496686.py:49: RuntimeWarning: invalid value encountered in sqrt\n",
      "  R1_DET = np.sqrt(-B_Delta/A_Delta +R_sign * np.sqrt(-A_Delta*C_Delta + B_Delta**2)/A_Delta)\n",
      "/var/folders/lj/v2s5sd8n1cv2xdh0yw2kf0x00000gn/T/ipykernel_61973/2888496686.py:49: RuntimeWarning: divide by zero encountered in divide\n",
      "  R1_DET = np.sqrt(-B_Delta/A_Delta +R_sign * np.sqrt(-A_Delta*C_Delta + B_Delta**2)/A_Delta)\n",
      "/var/folders/lj/v2s5sd8n1cv2xdh0yw2kf0x00000gn/T/ipykernel_61973/2888496686.py:49: RuntimeWarning: invalid value encountered in add\n",
      "  R1_DET = np.sqrt(-B_Delta/A_Delta +R_sign * np.sqrt(-A_Delta*C_Delta + B_Delta**2)/A_Delta)\n",
      "/var/folders/lj/v2s5sd8n1cv2xdh0yw2kf0x00000gn/T/ipykernel_61973/2888496686.py:49: RuntimeWarning: divide by zero encountered in scalar divide\n",
      "  R1_DET = np.sqrt(-B_Delta/A_Delta +R_sign * np.sqrt(-A_Delta*C_Delta + B_Delta**2)/A_Delta)\n",
      "/var/folders/lj/v2s5sd8n1cv2xdh0yw2kf0x00000gn/T/ipykernel_61973/2888496686.py:49: RuntimeWarning: invalid value encountered in divide\n",
      "  R1_DET = np.sqrt(-B_Delta/A_Delta +R_sign * np.sqrt(-A_Delta*C_Delta + B_Delta**2)/A_Delta)\n",
      "/var/folders/lj/v2s5sd8n1cv2xdh0yw2kf0x00000gn/T/ipykernel_61973/2888496686.py:49: RuntimeWarning: invalid value encountered in scalar add\n",
      "  R1_DET = np.sqrt(-B_Delta/A_Delta +R_sign * np.sqrt(-A_Delta*C_Delta + B_Delta**2)/A_Delta)\n",
      "/var/folders/lj/v2s5sd8n1cv2xdh0yw2kf0x00000gn/T/ipykernel_61973/2888496686.py:49: RuntimeWarning: invalid value encountered in scalar divide\n",
      "  R1_DET = np.sqrt(-B_Delta/A_Delta +R_sign * np.sqrt(-A_Delta*C_Delta + B_Delta**2)/A_Delta)\n",
      "/var/folders/lj/v2s5sd8n1cv2xdh0yw2kf0x00000gn/T/ipykernel_61973/2888496686.py:58: RuntimeWarning: invalid value encountered in sqrt\n",
      "  r = B1**2*np.sqrt(n/d)\n"
     ]
    }
   ],
   "source": [
    "\n",
    "alpha_sm_pp = []\n",
    "R_sm_pp = []\n",
    "beta_sm_pp = []\n",
    "\n",
    "for alpha in alphas:\n",
    "    args = (alpha,eta1,eta2,APM,-1,1,1,get_R_phi0,get_R_Det0)\n",
    "    Zpp = get_Root(phi,*args)\n",
    "    try:\n",
    "        Phi_, = np.where(np.sign(Zpp[1:] * Zpp[:-1])==-1)\n",
    "        for i,phi_ in enumerate(Phi_):\n",
    "            # print(get_Root(phi[phi_],*args),get_Root(phi[phi_+1],*args))\n",
    "            try:\n",
    "                rot = root_scalar(get_Root,bracket=[phi[phi_],phi[phi_+1]],args=(alpha,eta1,eta2,APM,-1,1,1,get_R_phi0,get_R_Det0),method='ridder')\n",
    "                p = rot.root\n",
    "                Z,R,beta =get_Minus(p,*args)\n",
    "                alpha_sm_pp.append(alpha)\n",
    "                beta_sm_pp.append(beta)\n",
    "                R_sm_pp.append(R)\n",
    "            except ValueError: pass\n",
    "\n",
    "            # print(rot.root, Z,R,beta)\n",
    "    except TypeError or ValueError:\n",
    "        pass\n",
    "        print('error',alpha)\n",
    "\n",
    "\n",
    "\n",
    "\n",
    "\n",
    "alpha_sm_pm = []\n",
    "R_sm_pm = []\n",
    "beta_sm_pm = []\n",
    "# del Phi_\n",
    "for alpha in alphas:\n",
    "    args = (alpha,eta1,eta2,APM,-1,1,-1,get_R_phi0,get_R_Det0)\n",
    "    Zpp = get_Root(phi,*args)\n",
    "    try:\n",
    "        Phi_, = np.where(np.sign(Zpp[1:] * Zpp[:-1])==-1)\n",
    "        for i,phi_ in enumerate(Phi_):\n",
    "            # print(get_Root(phi[phi_],*args),get_Root(phi[phi_+1],*args))\n",
    "            try:\n",
    "                rot = root_scalar(get_Root,bracket=[phi[phi_],phi[phi_+1]],args=args,method='ridder')\n",
    "                p = rot.root\n",
    "                Z,R,beta =get_Minus(p,*args)\n",
    "                alpha_sm_pm.append(alpha)\n",
    "                beta_sm_pm.append(beta)\n",
    "                R_sm_pm.append(R)\n",
    "            except ValueError: pass\n",
    "            # print(rot.root, Z,R,beta)\n",
    "    except TypeError or ValueError:\n",
    "        pass\n",
    "        print('error',alpha)\n",
    "\n",
    "    \n",
    "alpha_sm_mp = []\n",
    "R_sm_mp = []\n",
    "beta_sm_mp = []\n",
    "# del Phi_\n",
    "for alpha in alphas:\n",
    "    args = (alpha,eta1,eta2,APM,-1,-1,1,get_R_phi0,get_R_Det0)\n",
    "    Zpp = get_Root(phi,*args)\n",
    "    try:\n",
    "        Phi_, = np.where(np.sign(Zpp[1:] * Zpp[:-1])==-1)\n",
    "        for i,phi_ in enumerate(Phi_):\n",
    "            # print(get_Root(phi[phi_],*args),get_Root(phi[phi_+1],*args))\n",
    "            try:\n",
    "                rot = root_scalar(get_Root,bracket=[phi[phi_],phi[phi_+1]],args=args,method='ridder')\n",
    "                p = rot.root\n",
    "                Z,R,beta =get_Minus(p,*args)\n",
    "                alpha_sm_mp.append(alpha)\n",
    "                beta_sm_mp.append(beta)\n",
    "                R_sm_mp.append(R)\n",
    "            except ValueError: pass\n",
    "            # print(rot.root, Z,R,beta)\n",
    "    except TypeError or ValueError:\n",
    "        pass\n",
    "        print('error',alpha)\n",
    "alpha_sm_mm = []\n",
    "R_sm_mm = []\n",
    "beta_sm_mm = []\n",
    "# del Phi_\n",
    "for alpha in alphas:\n",
    "    args = (alpha,eta1,eta2,APM,-1,-1,-1,get_R_phi0,get_R_Det0)\n",
    "    Zpp = get_Root(phi,*args)\n",
    "    try:\n",
    "        Phi_, = np.where(np.sign(Zpp[1:] * Zpp[:-1])==-1)\n",
    "        for i,phi_ in enumerate(Phi_):\n",
    "            try:\n",
    "            # print(get_Root(phi[phi_],*args),get_Root(phi[phi_+1],*args))\n",
    "                rot = root_scalar(get_Root,bracket=[phi[phi_],phi[phi_+1]],args=args,method='ridder')\n",
    "                p = rot.root\n",
    "                Z,R,beta =get_Minus(p,*args)\n",
    "                alpha_sm_mm.append(alpha)\n",
    "                beta_sm_mm.append(beta)\n",
    "                R_sm_mm.append(R)\n",
    "            except ValueError: pass\n",
    "            # print(rot.root, Z,R,beta)\n",
    "    except TypeError:\n",
    "        pass\n",
    "        print('error',alpha)\n",
    "\n",
    "\n",
    "\n",
    "alpha_s_trace_m = []\n",
    "R_s_trace_m = []\n",
    "beta_s_trace_m = []\n",
    "# del Phi_\n",
    "for alpha in alphas:\n",
    "    args = (alpha,eta1,eta2,APM,1,-1,-1,get_R_phi0,get_R_Trace0)\n",
    "    Zpp = get_Root(phi,*args)\n",
    "    try:\n",
    "        Phi_, = np.where(np.sign(Zpp[1:] * Zpp[:-1])==-1)\n",
    "        for i,phi_ in enumerate(Phi_):\n",
    "            try:\n",
    "            # print(get_Root(phi[phi_],*args),get_Root(phi[phi_+1],*args))\n",
    "                rot = root_scalar(get_Root,bracket=[phi[phi_],phi[phi_+1]],args=args,method='ridder')\n",
    "                p = rot.root\n",
    "                Z,R,beta =get_Minus(p,*args)\n",
    "                alpha_s_trace_m.append(alpha)\n",
    "                beta_s_trace_m.append(beta)\n",
    "                R_s_trace_m.append(R)\n",
    "            except ValueError: pass\n",
    "            # print(rot.root, Z,R,beta)\n",
    "    except TypeError:\n",
    "        pass\n",
    "        print('error',alpha)\n",
    "\n",
    "    \n",
    "\n",
    "alpha_s_trace_p = []\n",
    "R_s_trace_p = []\n",
    "beta_s_trace_p = []\n",
    "# del Phi_\n",
    "for alpha in alphas:\n",
    "    args = (alpha,eta1,eta2,APM,1,1,-1,get_R_phi0,get_R_Trace0)\n",
    "    Zpp = get_Root(phi,*args)\n",
    "    try:\n",
    "        Phi_, = np.where(np.sign(Zpp[1:] * Zpp[:-1])==-1)\n",
    "        for i,phi_ in enumerate(Phi_):\n",
    "            try:\n",
    "            # print(get_Root(phi[phi_],*args),get_Root(phi[phi_+1],*args))\n",
    "                rot = root_scalar(get_Root,bracket=[phi[phi_],phi[phi_+1]],args=args,method='ridder')\n",
    "                p = rot.root\n",
    "                Z,R,beta =get_Minus(p,*args)\n",
    "                alpha_s_trace_p.append(alpha)\n",
    "                beta_s_trace_p.append(beta)\n",
    "                R_s_trace_p.append(R)\n",
    "            except ValueError: pass\n",
    "            \n",
    "            # print(rot.root, Z,R,beta)\n",
    "    except TypeError or ValueError:\n",
    "        pass\n",
    "        print('error',alpha)\n",
    "\n",
    "\n",
    "alpha_ms_trace_m = []\n",
    "R_ms_trace_m = []\n",
    "beta_ms_trace_m = []\n",
    "# del Phi_\n",
    "for alpha in alphas:\n",
    "    args = (alpha,eta1,eta2,APM,-1,-1,-1,get_R_phi0,get_R_Trace0)\n",
    "    Zpp = get_Root(phi,*args)\n",
    "    try:\n",
    "        Phi_, = np.where(np.sign(Zpp[1:] * Zpp[:-1])==-1)\n",
    "        for i,phi_ in enumerate(Phi_):\n",
    "            # print(get_Root(phi[phi_],*args),get_Root(phi[phi_+1],*args))\n",
    "            try:\n",
    "                rot = root_scalar(get_Root,bracket=[phi[phi_],phi[phi_+1]],args=args,method='ridder')\n",
    "                p = rot.root\n",
    "                Z,R,beta =get_Minus(p,*args)\n",
    "                alpha_ms_trace_m.append(alpha)\n",
    "                beta_ms_trace_m.append(beta)\n",
    "                R_ms_trace_m.append(R)\n",
    "            except ValueError: pass\n",
    "            # print(rot.root, Z,R,beta)\n",
    "    except TypeError or ValueError:\n",
    "        pass\n",
    "        print('error',alpha)\n",
    "\n",
    "    \n",
    "\n",
    "alpha_ms_trace_p = []\n",
    "R_ms_trace_p = []\n",
    "beta_ms_trace_p = []\n",
    "# del Phi_\n",
    "for alpha in alphas:\n",
    "    args = (alpha,eta1,eta2,APM,-1,1,-1,get_R_phi0,get_R_Trace0)\n",
    "    Zpp = get_Root(phi,*args)\n",
    "    try:\n",
    "        Phi_, = np.where(np.sign(Zpp[1:] * Zpp[:-1])==-1)\n",
    "        for i,phi_ in enumerate(Phi_):\n",
    "            # print(get_Root(phi[phi_],*args),get_Root(phi[phi_+1],*args))\n",
    "            try:\n",
    "                rot = root_scalar(get_Root,bracket=[phi[phi_],phi[phi_+1]],args=args,method='ridder')\n",
    "                p = rot.root\n",
    "                Z,R,beta =get_Minus(p,*args)\n",
    "                alpha_ms_trace_p.append(alpha)\n",
    "                beta_ms_trace_p.append(beta)\n",
    "                R_ms_trace_p.append(R)\n",
    "            except ValueError: pass\n",
    "            # print(rot.root, Z,R,beta)\n",
    "    except TypeError or ValueError:\n",
    "        pass\n",
    "        print('error',alpha)\n",
    "\n",
    "\n",
    "\n",
    "# alpha_sm_00P = []\n",
    "# R_sm_00P = []\n",
    "# beta_sm_00P = []\n",
    "# # del Phi_\n",
    "# for alpha in alphas:\n",
    "#     args = (alpha,eta1,eta2,APM,-1,1,-1,get_R_phi0,get_R_00)\n",
    "#     Zpp = get_Root(phi,*args)\n",
    "#     try:\n",
    "#         Phi_, = np.where(np.sign(Zpp[1:] * Zpp[:-1])==-1)\n",
    "#         for i,phi_ in enumerate(Phi_):\n",
    "#             # print(get_Root(phi[phi_],*args),get_Root(phi[phi_+1],*args))\n",
    "#             try:\n",
    "#                 rot = root_scalar(get_Root,bracket=[phi[phi_],phi[phi_+1]],args=args,method='ridder')\n",
    "#                 p = rot.root\n",
    "#                 Z,R,beta =get_Minus(p,*args)\n",
    "#                 alpha_sm_00P.append(alpha)\n",
    "#                 beta_sm_00P.append(beta)\n",
    "#                 R_sm_00P.append(R)\n",
    "#             except ValueError: pass\n",
    "            \n",
    "#             # print(rot.root, Z,R,beta)\n",
    "#     except TypeError:\n",
    "#         pass\n",
    "#         print('error',alpha)\n",
    "\n",
    "\n",
    "# alpha_sm_00M = []\n",
    "# R_sm_00M = []\n",
    "# beta_sm_00M = []\n",
    "# # del Phi_\n",
    "# for alpha in alphas:\n",
    "#     args = (alpha,eta1,eta2,APM,-1,-1,-1,get_R_phi0,get_R_00)\n",
    "#     Zpp = get_Root(phi,*args)\n",
    "#     try:\n",
    "#         Phi_, = np.where(np.sign(Zpp[1:] * Zpp[:-1])==-1)\n",
    "#         for i,phi_ in enumerate(Phi_):\n",
    "#             # print(get_Root(phi[phi_],*args),get_Root(phi[phi_+1],*args))\n",
    "#             try:\n",
    "#                 rot = root_scalar(get_Root,bracket=[phi[phi_],phi[phi_+1]],args=args,method='ridder')\n",
    "#                 p = rot.root\n",
    "#                 Z,R,beta =get_Minus(p,*args)\n",
    "#                 alpha_sm_00M.append(alpha)\n",
    "#                 beta_sm_00M.append(beta)\n",
    "#                 R_s_00M.append(R)\n",
    "#             except ValueError: pass\n",
    "            \n",
    "#             # print(rot.root, Z,R,beta)\n",
    "#     except TypeError:\n",
    "#         pass\n",
    "#         print('error',alpha)"
   ]
  },
  {
   "cell_type": "code",
   "execution_count": 466,
   "metadata": {},
   "outputs": [
    {
     "data": {
      "image/png": "[encoded data removed]",
      "text/plain": [
       "<Figure size 640x480 with 4 Axes>"
      ]
     },
     "metadata": {},
     "output_type": "display_data"
    }
   ],
   "source": [
    "plt.subplot(121)\n",
    "\n",
    "plt.scatter(alpha_s_trace_p,beta_s_trace_p,s=1,c=R_s_trace_p,vmin=0,vmax=1,cmap='bwr',zorder=5,label='Hopf')\n",
    "plt.scatter(alpha_s_trace_m,beta_s_trace_m,s=1,c=R_s_trace_m,vmin=0,vmax=1,cmap='bwr',zorder=5)\n",
    "\n",
    "# plt.scatter(alpha_s_00P,beta_s_00P,s=1,c=R_s_00P,vmin=0,vmax=1,cmap='cool',zorder=3,label='0')\n",
    "# plt.scatter(alpha_s_00M,beta_s_00M,s=1,c=R_s_00M,vmin=0,vmax=1,cmap='cool',zorder=3)\n",
    "plt.scatter(alpha_s_pp,beta_s_pp,s=1,c=R_s_pp,vmin=0,vmax=1,label='Saddle node')\n",
    "plt.scatter(alpha_s_pm,beta_s_pm,s=1,c=R_s_pm,vmin=0,vmax=1)\n",
    "plt.scatter(alpha_s_mp,beta_s_mp,s=1,c=R_s_mp,vmin=0,vmax=1)\n",
    "plt.scatter(alpha_s_mm,beta_s_mm,s=1,c=R_s_mm,vmin=0,vmax=1)\n",
    "plt.legend()\n",
    "\n",
    "plt.colorbar()\n",
    "plt.ylim(0,1)\n",
    "plt.xlim(0,np.pi/2)\n",
    "plt.ylabel(r'$\\beta$')\n",
    "plt.xlabel(r'$\\alpha$')\n",
    "plt.title(r'$\\beta=-\\dfrac{\\eta_1r(\\cos(\\alpha+\\phi)+\\sin(\\phi))}{\\eta_2\\cos(\\alpha+2\\phi)}$')\n",
    "\n",
    "plt.subplot(122)\n",
    "plt.scatter(alpha_ms_trace_p,beta_ms_trace_p,s=1,c=R_ms_trace_p,vmin=0,vmax=1,cmap='bwr',zorder=5)\n",
    "plt.scatter(alpha_ms_trace_m,beta_ms_trace_m,s=1,c=R_ms_trace_m,vmin=0,vmax=1,cmap='bwr',zorder=5)\n",
    "\n",
    "# plt.scatter(alpha_sm_00P,beta_sm_00P,s=1,c=R_sm_00P,vmin=0,vmax=1,cmap='cool',zorder=3)\n",
    "# plt.scatter(alpha_sm_00M,beta_sm_00M,s=1,c=R_sm_00M,vmin=0,vmax=1,cmap='cool',zorder=3)\n",
    "\n",
    "plt.scatter(alpha_sm_pp,beta_sm_pp,s=1,c=R_sm_pp,vmin=0,vmax=1)\n",
    "plt.scatter(alpha_sm_pm,beta_sm_pm,s=1,c=R_sm_pm,vmin=0,vmax=1)\n",
    "plt.scatter(alpha_sm_mp,beta_sm_mp,s=1,c=R_sm_mp,vmin=0,vmax=1)\n",
    "plt.scatter(alpha_sm_mm,beta_sm_mm,s=1,c=R_sm_mm,vmin=0,vmax=1)\n",
    "\n",
    "plt.colorbar()\n",
    "# plt.ylim(0,1)\n",
    "plt.ylim(0,1)\n",
    "\n",
    "plt.xlim(0,np.pi/2)\n",
    "plt.ylabel(r'$\\beta$')\n",
    "plt.xlabel(r'$\\alpha$')\n",
    "plt.title(r'$\\beta=-\\dfrac{\\eta_1r(\\cos(\\alpha+\\phi)-\\sin(\\phi)))}{\\eta_2\\cos(\\alpha+2\\phi)}$')\n",
    "\n",
    "# plt.title()\n",
    "plt.suptitle('Hopf & Saddle node bifurcation\\n'+rf'$\\eta_1 = {eta1},\\eta_2={eta2}$')\n",
    "plt.tight_layout()"
   ]
  },
  {
   "cell_type": "code",
   "execution_count": 467,
   "metadata": {},
   "outputs": [
    {
     "data": {
      "image/png": "[encoded data removed]",
      "text/plain": [
       "<Figure size 640x480 with 4 Axes>"
      ]
     },
     "metadata": {},
     "output_type": "display_data"
    }
   ],
   "source": [
    "plt.subplot(121)\n",
    "\n",
    "plt.scatter(alpha_s_trace_p,beta_s_trace_p,s=1,c=R_s_trace_p,vmin=0,vmax=1,cmap='bwr',zorder=5,label='Hopf')\n",
    "plt.scatter(alpha_s_trace_m,beta_s_trace_m,s=1,c=R_s_trace_m,vmin=0,vmax=1,cmap='bwr',zorder=5)\n",
    "\n",
    "# plt.scatter(alpha_s_00P,beta_s_00P,s=1,c=R_s_00P,vmin=0,vmax=1,cmap='cool',zorder=3,label='0')\n",
    "# plt.scatter(alpha_s_00M,beta_s_00M,s=1,c=R_s_00M,vmin=0,vmax=1,cmap='cool',zorder=3)\n",
    "plt.scatter(alpha_s_pp,beta_s_pp,s=1,c=R_s_pp,vmin=0,vmax=1,label='Saddle node')\n",
    "plt.scatter(alpha_s_pm,beta_s_pm,s=1,c=R_s_pm,vmin=0,vmax=1)\n",
    "plt.scatter(alpha_s_mp,beta_s_mp,s=1,c=R_s_mp,vmin=0,vmax=1)\n",
    "plt.scatter(alpha_s_mm,beta_s_mm,s=1,c=R_s_mm,vmin=0,vmax=1)\n",
    "plt.legend()\n",
    "\n",
    "plt.colorbar()\n",
    "# plt.ylim(0,1)\n",
    "plt.xlim(0,np.pi/2)\n",
    "plt.ylabel(r'$\\beta$')\n",
    "plt.xlabel(r'$\\alpha$')\n",
    "plt.title(r'$\\beta=-\\dfrac{\\eta_1r(\\cos(\\alpha+\\phi)+\\sin(\\phi))}{\\eta_2\\cos(\\alpha+2\\phi)}$')\n",
    "\n",
    "plt.subplot(122)\n",
    "plt.scatter(alpha_ms_trace_p,beta_ms_trace_p,s=1,c=R_ms_trace_p,vmin=0,vmax=1,cmap='bwr',zorder=5)\n",
    "plt.scatter(alpha_ms_trace_m,beta_ms_trace_m,s=1,c=R_ms_trace_m,vmin=0,vmax=1,cmap='bwr',zorder=5)\n",
    "\n",
    "# plt.scatter(alpha_sm_00P,beta_sm_00P,s=1,c=R_sm_00P,vmin=0,vmax=1,cmap='cool',zorder=3)\n",
    "# plt.scatter(alpha_sm_00M,beta_sm_00M,s=1,c=R_sm_00M,vmin=0,vmax=1,cmap='cool',zorder=3)\n",
    "\n",
    "plt.scatter(alpha_sm_pp,beta_sm_pp,s=1,c=R_sm_pp,vmin=0,vmax=1)\n",
    "plt.scatter(alpha_sm_pm,beta_sm_pm,s=1,c=R_sm_pm,vmin=0,vmax=1)\n",
    "plt.scatter(alpha_sm_mp,beta_sm_mp,s=1,c=R_sm_mp,vmin=0,vmax=1)\n",
    "plt.scatter(alpha_sm_mm,beta_sm_mm,s=1,c=R_sm_mm,vmin=0,vmax=1)\n",
    "\n",
    "plt.colorbar()\n",
    "# plt.ylim(0,1)\n",
    "# plt.ylim(0,1)\n",
    "\n",
    "plt.xlim(0,np.pi/2)\n",
    "plt.ylabel(r'$\\beta$')\n",
    "plt.xlabel(r'$\\alpha$')\n",
    "plt.title(r'$\\beta=-\\dfrac{\\eta_1r(\\cos(\\alpha+\\phi)-\\sin(\\phi)))}{\\eta_2\\cos(\\alpha+2\\phi)}$')\n",
    "\n",
    "# plt.title()\n",
    "plt.suptitle('Hopf & Saddle node bifurcation\\n'+rf'$\\eta_1 = {eta1},\\eta_2={eta2}$')\n",
    "plt.tight_layout()"
   ]
  },
  {
   "cell_type": "code",
   "execution_count": 468,
   "metadata": {},
   "outputs": [
    {
     "data": {
      "image/png": "[encoded data removed]",
      "text/plain": [
       "<Figure size 640x480 with 4 Axes>"
      ]
     },
     "metadata": {},
     "output_type": "display_data"
    }
   ],
   "source": [
    "plt.subplot(121)\n",
    "\n",
    "plt.scatter(alpha_s_trace_p,beta_s_trace_p,s=1,c=R_s_trace_p,vmin=0,vmax=1,label='Hopf bifurcation')\n",
    "plt.scatter(alpha_s_trace_m,beta_s_trace_m,s=1,c=R_s_trace_m,vmin=0,vmax=1)\n",
    "\n",
    "plt.legend()\n",
    "\n",
    "plt.colorbar()\n",
    "# plt.ylim(0,1)\n",
    "plt.xlim(0,np.pi/2)\n",
    "plt.ylabel(r'$\\beta$')\n",
    "plt.xlabel(r'$\\alpha$')\n",
    "plt.title(r'$\\beta=-\\dfrac{\\eta_1r(\\cos(\\alpha+\\phi)+\\sin(\\phi))}{\\eta_2\\cos(\\alpha+2\\phi)}$')\n",
    "\n",
    "plt.subplot(122)\n",
    "plt.scatter(alpha_ms_trace_p,beta_ms_trace_p,s=1,c=R_ms_trace_p,vmin=0,vmax=1)\n",
    "plt.scatter(alpha_ms_trace_m,beta_ms_trace_m,s=1,c=R_ms_trace_m,vmin=0,vmax=1)\n",
    "\n",
    "\n",
    "plt.colorbar()\n",
    "# plt.ylim(0,1)\n",
    "plt.xlim(0,np.pi/2)\n",
    "plt.ylabel(r'$\\beta$')\n",
    "plt.xlabel(r'$\\alpha$')\n",
    "plt.title(r'$\\beta=-\\dfrac{\\eta_1r(\\cos(\\alpha+\\phi)-\\sin(\\phi)))}{\\eta_2\\cos(\\alpha+2\\phi)}$')\n",
    "\n",
    "# plt.title()\n",
    "plt.suptitle('Hopf bifurcation\\n'+rf'$\\eta_1 = {eta1},\\eta_2={eta2}$')\n",
    "plt.tight_layout()"
   ]
  },
  {
   "cell_type": "code",
   "execution_count": 469,
   "metadata": {},
   "outputs": [
    {
     "data": {
      "text/plain": [
       "array([], dtype=float64)"
      ]
     },
     "execution_count": 469,
     "metadata": {},
     "output_type": "execute_result"
    }
   ],
   "source": [
    "phi[np.where(np.sign(Zpp[1:] * Zpp[:-1])==-1)]\n"
   ]
  },
  {
   "cell_type": "code",
   "execution_count": 470,
   "metadata": {},
   "outputs": [],
   "source": [
    "phi = np.linspace(0,2*np.pi,1000)\n",
    "eta1 = 0.1\n",
    "eta2 = 0.1\n",
    "alpha = 0.1"
   ]
  },
  {
   "cell_type": "code",
   "execution_count": 471,
   "metadata": {},
   "outputs": [
    {
     "ename": "ValueError",
     "evalue": "x and y must have same first dimension, but have shapes (1000,) and (10000,)",
     "output_type": "error",
     "traceback": [
      "\u001b[0;31m---------------------------------------------------------------------------\u001b[0m",
      "\u001b[0;31mValueError\u001b[0m                                Traceback (most recent call last)",
      "Cell \u001b[0;32mIn[471], line 2\u001b[0m\n\u001b[1;32m      1\u001b[0m plt\u001b[38;5;241m.\u001b[39msubplot(\u001b[38;5;241m211\u001b[39m)\n\u001b[0;32m----> 2\u001b[0m \u001b[43mplt\u001b[49m\u001b[38;5;241;43m.\u001b[39;49m\u001b[43mplot\u001b[49m\u001b[43m(\u001b[49m\u001b[43mphi\u001b[49m\u001b[43m,\u001b[49m\u001b[43mZpp\u001b[49m\u001b[43m)\u001b[49m\n\u001b[1;32m      3\u001b[0m plt\u001b[38;5;241m.\u001b[39mplot(phi,Zpm)\n\u001b[1;32m      4\u001b[0m plt\u001b[38;5;241m.\u001b[39mplot(phi,Zmp)\n",
      "File \u001b[0;32m/Library/Frameworks/Python.framework/Versions/3.11/lib/python3.11/site-packages/matplotlib/pyplot.py:2812\u001b[0m, in \u001b[0;36mplot\u001b[0;34m(scalex, scaley, data, *args, **kwargs)\u001b[0m\n\u001b[1;32m   2810\u001b[0m \u001b[38;5;129m@_copy_docstring_and_deprecators\u001b[39m(Axes\u001b[38;5;241m.\u001b[39mplot)\n\u001b[1;32m   2811\u001b[0m \u001b[38;5;28;01mdef\u001b[39;00m \u001b[38;5;21mplot\u001b[39m(\u001b[38;5;241m*\u001b[39margs, scalex\u001b[38;5;241m=\u001b[39m\u001b[38;5;28;01mTrue\u001b[39;00m, scaley\u001b[38;5;241m=\u001b[39m\u001b[38;5;28;01mTrue\u001b[39;00m, data\u001b[38;5;241m=\u001b[39m\u001b[38;5;28;01mNone\u001b[39;00m, \u001b[38;5;241m*\u001b[39m\u001b[38;5;241m*\u001b[39mkwargs):\n\u001b[0;32m-> 2812\u001b[0m     \u001b[38;5;28;01mreturn\u001b[39;00m \u001b[43mgca\u001b[49m\u001b[43m(\u001b[49m\u001b[43m)\u001b[49m\u001b[38;5;241;43m.\u001b[39;49m\u001b[43mplot\u001b[49m\u001b[43m(\u001b[49m\n\u001b[1;32m   2813\u001b[0m \u001b[43m        \u001b[49m\u001b[38;5;241;43m*\u001b[39;49m\u001b[43margs\u001b[49m\u001b[43m,\u001b[49m\u001b[43m \u001b[49m\u001b[43mscalex\u001b[49m\u001b[38;5;241;43m=\u001b[39;49m\u001b[43mscalex\u001b[49m\u001b[43m,\u001b[49m\u001b[43m \u001b[49m\u001b[43mscaley\u001b[49m\u001b[38;5;241;43m=\u001b[39;49m\u001b[43mscaley\u001b[49m\u001b[43m,\u001b[49m\n\u001b[1;32m   2814\u001b[0m \u001b[43m        \u001b[49m\u001b[38;5;241;43m*\u001b[39;49m\u001b[38;5;241;43m*\u001b[39;49m\u001b[43m(\u001b[49m\u001b[43m{\u001b[49m\u001b[38;5;124;43m\"\u001b[39;49m\u001b[38;5;124;43mdata\u001b[39;49m\u001b[38;5;124;43m\"\u001b[39;49m\u001b[43m:\u001b[49m\u001b[43m \u001b[49m\u001b[43mdata\u001b[49m\u001b[43m}\u001b[49m\u001b[43m \u001b[49m\u001b[38;5;28;43;01mif\u001b[39;49;00m\u001b[43m \u001b[49m\u001b[43mdata\u001b[49m\u001b[43m \u001b[49m\u001b[38;5;129;43;01mis\u001b[39;49;00m\u001b[43m \u001b[49m\u001b[38;5;129;43;01mnot\u001b[39;49;00m\u001b[43m \u001b[49m\u001b[38;5;28;43;01mNone\u001b[39;49;00m\u001b[43m \u001b[49m\u001b[38;5;28;43;01melse\u001b[39;49;00m\u001b[43m \u001b[49m\u001b[43m{\u001b[49m\u001b[43m}\u001b[49m\u001b[43m)\u001b[49m\u001b[43m,\u001b[49m\u001b[43m \u001b[49m\u001b[38;5;241;43m*\u001b[39;49m\u001b[38;5;241;43m*\u001b[39;49m\u001b[43mkwargs\u001b[49m\u001b[43m)\u001b[49m\n",
      "File \u001b[0;32m/Library/Frameworks/Python.framework/Versions/3.11/lib/python3.11/site-packages/matplotlib/axes/_axes.py:1688\u001b[0m, in \u001b[0;36mAxes.plot\u001b[0;34m(self, scalex, scaley, data, *args, **kwargs)\u001b[0m\n\u001b[1;32m   1445\u001b[0m \u001b[38;5;250m\u001b[39m\u001b[38;5;124;03m\"\"\"\u001b[39;00m\n\u001b[1;32m   1446\u001b[0m \u001b[38;5;124;03mPlot y versus x as lines and/or markers.\u001b[39;00m\n\u001b[1;32m   1447\u001b[0m \n\u001b[0;32m   (...)\u001b[0m\n\u001b[1;32m   1685\u001b[0m \u001b[38;5;124;03m(``'green'``) or hex strings (``'#008000'``).\u001b[39;00m\n\u001b[1;32m   1686\u001b[0m \u001b[38;5;124;03m\"\"\"\u001b[39;00m\n\u001b[1;32m   1687\u001b[0m kwargs \u001b[38;5;241m=\u001b[39m cbook\u001b[38;5;241m.\u001b[39mnormalize_kwargs(kwargs, mlines\u001b[38;5;241m.\u001b[39mLine2D)\n\u001b[0;32m-> 1688\u001b[0m lines \u001b[38;5;241m=\u001b[39m [\u001b[38;5;241m*\u001b[39m\u001b[38;5;28mself\u001b[39m\u001b[38;5;241m.\u001b[39m_get_lines(\u001b[38;5;241m*\u001b[39margs, data\u001b[38;5;241m=\u001b[39mdata, \u001b[38;5;241m*\u001b[39m\u001b[38;5;241m*\u001b[39mkwargs)]\n\u001b[1;32m   1689\u001b[0m \u001b[38;5;28;01mfor\u001b[39;00m line \u001b[38;5;129;01min\u001b[39;00m lines:\n\u001b[1;32m   1690\u001b[0m     \u001b[38;5;28mself\u001b[39m\u001b[38;5;241m.\u001b[39madd_line(line)\n",
      "File \u001b[0;32m/Library/Frameworks/Python.framework/Versions/3.11/lib/python3.11/site-packages/matplotlib/axes/_base.py:311\u001b[0m, in \u001b[0;36m_process_plot_var_args.__call__\u001b[0;34m(self, data, *args, **kwargs)\u001b[0m\n\u001b[1;32m    309\u001b[0m     this \u001b[38;5;241m+\u001b[39m\u001b[38;5;241m=\u001b[39m args[\u001b[38;5;241m0\u001b[39m],\n\u001b[1;32m    310\u001b[0m     args \u001b[38;5;241m=\u001b[39m args[\u001b[38;5;241m1\u001b[39m:]\n\u001b[0;32m--> 311\u001b[0m \u001b[38;5;28;01myield from\u001b[39;00m \u001b[38;5;28;43mself\u001b[39;49m\u001b[38;5;241;43m.\u001b[39;49m\u001b[43m_plot_args\u001b[49m\u001b[43m(\u001b[49m\n\u001b[1;32m    312\u001b[0m \u001b[43m    \u001b[49m\u001b[43mthis\u001b[49m\u001b[43m,\u001b[49m\u001b[43m \u001b[49m\u001b[43mkwargs\u001b[49m\u001b[43m,\u001b[49m\u001b[43m \u001b[49m\u001b[43mambiguous_fmt_datakey\u001b[49m\u001b[38;5;241;43m=\u001b[39;49m\u001b[43mambiguous_fmt_datakey\u001b[49m\u001b[43m)\u001b[49m\n",
      "File \u001b[0;32m/Library/Frameworks/Python.framework/Versions/3.11/lib/python3.11/site-packages/matplotlib/axes/_base.py:504\u001b[0m, in \u001b[0;36m_process_plot_var_args._plot_args\u001b[0;34m(self, tup, kwargs, return_kwargs, ambiguous_fmt_datakey)\u001b[0m\n\u001b[1;32m    501\u001b[0m     \u001b[38;5;28mself\u001b[39m\u001b[38;5;241m.\u001b[39maxes\u001b[38;5;241m.\u001b[39myaxis\u001b[38;5;241m.\u001b[39mupdate_units(y)\n\u001b[1;32m    503\u001b[0m \u001b[38;5;28;01mif\u001b[39;00m x\u001b[38;5;241m.\u001b[39mshape[\u001b[38;5;241m0\u001b[39m] \u001b[38;5;241m!=\u001b[39m y\u001b[38;5;241m.\u001b[39mshape[\u001b[38;5;241m0\u001b[39m]:\n\u001b[0;32m--> 504\u001b[0m     \u001b[38;5;28;01mraise\u001b[39;00m \u001b[38;5;167;01mValueError\u001b[39;00m(\u001b[38;5;124mf\u001b[39m\u001b[38;5;124m\"\u001b[39m\u001b[38;5;124mx and y must have same first dimension, but \u001b[39m\u001b[38;5;124m\"\u001b[39m\n\u001b[1;32m    505\u001b[0m                      \u001b[38;5;124mf\u001b[39m\u001b[38;5;124m\"\u001b[39m\u001b[38;5;124mhave shapes \u001b[39m\u001b[38;5;132;01m{\u001b[39;00mx\u001b[38;5;241m.\u001b[39mshape\u001b[38;5;132;01m}\u001b[39;00m\u001b[38;5;124m and \u001b[39m\u001b[38;5;132;01m{\u001b[39;00my\u001b[38;5;241m.\u001b[39mshape\u001b[38;5;132;01m}\u001b[39;00m\u001b[38;5;124m\"\u001b[39m)\n\u001b[1;32m    506\u001b[0m \u001b[38;5;28;01mif\u001b[39;00m x\u001b[38;5;241m.\u001b[39mndim \u001b[38;5;241m>\u001b[39m \u001b[38;5;241m2\u001b[39m \u001b[38;5;129;01mor\u001b[39;00m y\u001b[38;5;241m.\u001b[39mndim \u001b[38;5;241m>\u001b[39m \u001b[38;5;241m2\u001b[39m:\n\u001b[1;32m    507\u001b[0m     \u001b[38;5;28;01mraise\u001b[39;00m \u001b[38;5;167;01mValueError\u001b[39;00m(\u001b[38;5;124mf\u001b[39m\u001b[38;5;124m\"\u001b[39m\u001b[38;5;124mx and y can be no greater than 2D, but have \u001b[39m\u001b[38;5;124m\"\u001b[39m\n\u001b[1;32m    508\u001b[0m                      \u001b[38;5;124mf\u001b[39m\u001b[38;5;124m\"\u001b[39m\u001b[38;5;124mshapes \u001b[39m\u001b[38;5;132;01m{\u001b[39;00mx\u001b[38;5;241m.\u001b[39mshape\u001b[38;5;132;01m}\u001b[39;00m\u001b[38;5;124m and \u001b[39m\u001b[38;5;132;01m{\u001b[39;00my\u001b[38;5;241m.\u001b[39mshape\u001b[38;5;132;01m}\u001b[39;00m\u001b[38;5;124m\"\u001b[39m)\n",
      "\u001b[0;31mValueError\u001b[0m: x and y must have same first dimension, but have shapes (1000,) and (10000,)"
     ]
    },
    {
     "data": {
      "image/png": "[encoded data removed]",
      "text/plain": [
       "<Figure size 640x480 with 1 Axes>"
      ]
     },
     "metadata": {},
     "output_type": "display_data"
    }
   ],
   "source": [
    "plt.subplot(211)\n",
    "plt.plot(phi,Zpp)\n",
    "plt.plot(phi,Zpm)\n",
    "plt.plot(phi,Zmp)\n",
    "plt.plot(phi,Zmm)\n",
    "plt.ylim(-1e-2,1e-2)\n",
    "plt.subplot(211)\n",
    "plt.subplot(212)\n",
    "# plt.plot(phi,beta_pp)\n",
    "plt.plot(phi,beta_pm)\n",
    "# plt.plot(phi,beta_mp)\n",
    "# plt.plot(phi,beta_mm)\n",
    "plt.ylim(0,1)"
   ]
  },
  {
   "cell_type": "code",
   "execution_count": null,
   "metadata": {},
   "outputs": [
    {
     "name": "stderr",
     "output_type": "stream",
     "text": [
      "/var/folders/z1/v9g3442s1hn29m34fht7zq8h0000gn/T/ipykernel_76042/2394010678.py:14: RuntimeWarning: invalid value encountered in sqrt\n",
      "  R1 = np.sqrt((-EP + R_sign*np.sqrt(EP**2 + 8*DP*B*A1))/(2*DP))\n",
      "/var/folders/z1/v9g3442s1hn29m34fht7zq8h0000gn/T/ipykernel_76042/2394010678.py:58: RuntimeWarning: invalid value encountered in sqrt\n",
      "  r = B1**2*np.sqrt(n/d)\n"
     ]
    },
    {
     "data": {
      "text/plain": [
       "[<matplotlib.lines.Line2D at 0x31eb35750>]"
      ]
     },
     "execution_count": 295,
     "metadata": {},
     "output_type": "execute_result"
    },
    {
     "data": {
      "image/png": "[encoded data removed]",
      "text/plain": [
       "<Figure size 640x480 with 1 Axes>"
      ]
     },
     "metadata": {},
     "output_type": "display_data"
    }
   ],
   "source": [
    "plt.plot(phi,get_R_phi0(phi,alpha,eta1,eta2,APM=APM,sign=1,R_sign=-1)-get_R_Trace0(phi,alpha,eta1,eta2,APM=APM,sign=1,R_sign=-1),color='green')"
   ]
  },
  {
   "cell_type": "code",
   "execution_count": null,
   "metadata": {},
   "outputs": [
    {
     "ename": "NameError",
     "evalue": "name 'get_R_Det0' is not defined",
     "output_type": "error",
     "traceback": [
      "\u001b[0;31m---------------------------------------------------------------------------\u001b[0m",
      "\u001b[0;31mNameError\u001b[0m                                 Traceback (most recent call last)",
      "Cell \u001b[0;32mIn[456], line 1\u001b[0m\n\u001b[0;32m----> 1\u001b[0m plt\u001b[38;5;241m.\u001b[39mplot(phi,\u001b[43mget_R_Det0\u001b[49m(phi,alpha,eta1,eta2,APM\u001b[38;5;241m=\u001b[39mAPM,sign\u001b[38;5;241m=\u001b[39m\u001b[38;5;241m1\u001b[39m,R_sign\u001b[38;5;241m=\u001b[39m\u001b[38;5;241m1\u001b[39m),color\u001b[38;5;241m=\u001b[39m\u001b[38;5;124m'\u001b[39m\u001b[38;5;124mred\u001b[39m\u001b[38;5;124m'\u001b[39m)\n\u001b[1;32m      2\u001b[0m plt\u001b[38;5;241m.\u001b[39mplot(phi,get_R_Det0(phi,alpha,eta1,eta2,APM\u001b[38;5;241m=\u001b[39mAPM,sign\u001b[38;5;241m=\u001b[39m\u001b[38;5;241m1\u001b[39m,R_sign\u001b[38;5;241m=\u001b[39m\u001b[38;5;241m-\u001b[39m\u001b[38;5;241m1\u001b[39m),color\u001b[38;5;241m=\u001b[39m\u001b[38;5;124m'\u001b[39m\u001b[38;5;124morange\u001b[39m\u001b[38;5;124m'\u001b[39m)\n\u001b[1;32m      4\u001b[0m plt\u001b[38;5;241m.\u001b[39mplot(phi,get_R_phi0(phi,alpha,eta1,eta2,APM\u001b[38;5;241m=\u001b[39mAPM,sign\u001b[38;5;241m=\u001b[39m\u001b[38;5;241m1\u001b[39m,R_sign\u001b[38;5;241m=\u001b[39m\u001b[38;5;241m1\u001b[39m),color\u001b[38;5;241m=\u001b[39m\u001b[38;5;124m'\u001b[39m\u001b[38;5;124mblue\u001b[39m\u001b[38;5;124m'\u001b[39m)\n",
      "\u001b[0;31mNameError\u001b[0m: name 'get_R_Det0' is not defined"
     ]
    }
   ],
   "source": [
    "plt.plot(phi,get_R_Det0(phi,alpha,eta1,eta2,APM=APM,sign=1,R_sign=1),color='red')\n",
    "plt.plot(phi,get_R_Det0(phi,alpha,eta1,eta2,APM=APM,sign=1,R_sign=-1),color='orange')\n",
    "\n",
    "plt.plot(phi,get_R_phi0(phi,alpha,eta1,eta2,APM=APM,sign=1,R_sign=1),color='blue')\n",
    "plt.plot(phi,get_R_phi0(phi,alpha,eta1,eta2,APM=APM,sign=1,R_sign=-1),color='green')\n",
    "plt.plot(phi,get_R_Trace0(phi,alpha,eta1,eta2,APM=APM,sign=1,R_sign=-1),color='purple')\n",
    "\n",
    "plt.ylim(-1,1)\n",
    "# plt.plot(phi,np.sqrt(R1))\n",
    "plt.xticks([0,np.pi,np.pi*2,np.pi*3],['0',r'$\\pi$',r'$2\\pi$',r'$3\\pi$'])\n",
    "plt.ylabel(r'$r$')\n",
    "plt.xlabel(r'$\\phi$')\n",
    "plt.title(rf'$\\alpha={alpha}$')\n",
    "plt.axvline(np.pi)\n",
    "# plt.axhline(r)"
   ]
  },
  {
   "cell_type": "code",
   "execution_count": null,
   "metadata": {},
   "outputs": [
    {
     "name": "stderr",
     "output_type": "stream",
     "text": [
      "<lambdifygenerated-1>:3: RuntimeWarning: divide by zero encountered in divide\n",
      "  return sqrt(sqrt(-(-2*eta1**2*(sin(phi) + cos(alpha + phi))**3*cos(alpha + 2*phi)**2/eta2**2 - 8*eta1**2*(sin(phi) + cos(alpha + phi))**2*sin(alpha - phi)*sin(alpha + 2*phi)*cos(alpha + 2*phi)/eta2**2 + 4*eta1**2*(sin(phi) + cos(alpha + phi))**2*sin(alpha + phi)*sin(alpha + 2*phi)*cos(alpha + 2*phi)/eta2**2 + 4*eta1**2*(sin(phi) + cos(alpha + phi))**2*cos(alpha - phi)*cos(alpha + 2*phi)**2/eta2**2 + 10*eta1**2*(sin(phi) + cos(alpha + phi))**2*cos(alpha + phi)*cos(alpha + 2*phi)**2/eta2**2 - 4*eta1**2*(sin(phi) + cos(alpha + phi))*sin(alpha)*sin(alpha + 2*phi)*cos(alpha + 2*phi)**2/eta2**2 + 8*eta1**2*(sin(phi) + cos(alpha + phi))*sin(alpha - phi)*sin(alpha + phi)*cos(alpha + 2*phi)**2/eta2**2 - 4*eta1**2*(sin(phi) + cos(alpha + phi))*sin(alpha + phi)**2*cos(alpha + 2*phi)**2/eta2**2 - 6*eta1**2*(sin(phi) + cos(alpha + phi))*cos(alpha)*cos(alpha + 2*phi)**3/eta2**2 - 16*eta1**2*(sin(phi) + cos(alpha + phi))*cos(alpha - phi)*cos(alpha + phi)*cos(alpha + 2*phi)**2/eta2**2 - 8*eta1**2*(sin(phi) + cos(alpha + phi))*cos(alpha + phi)**2*cos(alpha + 2*phi)**2/eta2**2 + 4*eta1**2*sin(alpha)*sin(alpha + phi)*cos(alpha + 2*phi)**3/eta2**2 + 12*eta1**2*cos(alpha)*cos(alpha - phi)*cos(alpha + 2*phi)**3/eta2**2 + 6*eta1**2*cos(alpha)*cos(alpha + phi)*cos(alpha + 2*phi)**3/eta2**2)*(4*eta1**2*(sin(phi) + cos(alpha + phi))**3*sin(alpha + 2*phi)**2/eta2**2 + 6*eta1**2*(sin(phi) + cos(alpha + phi))**3*cos(alpha + 2*phi)**2/eta2**2 - 16*eta1**2*(sin(phi) + cos(alpha + phi))**2*sin(alpha + phi)*sin(alpha + 2*phi)*cos(alpha + 2*phi)/eta2**2 - 22*eta1**2*(sin(phi) + cos(alpha + phi))**2*cos(alpha + phi)*cos(alpha + 2*phi)**2/eta2**2 + 8*eta1**2*(sin(phi) + cos(alpha + phi))*sin(alpha)*sin(alpha + 2*phi)*cos(alpha + 2*phi)**2/eta2**2 + 12*eta1**2*(sin(phi) + cos(alpha + phi))*sin(alpha + phi)**2*cos(alpha + 2*phi)**2/eta2**2 + 10*eta1**2*(sin(phi) + cos(alpha + phi))*cos(alpha)*cos(alpha + 2*phi)**3/eta2**2 + 16*eta1**2*(sin(phi) + cos(alpha + phi))*cos(alpha + phi)**2*cos(alpha + 2*phi)**2/eta2**2 - 8*eta1**2*sin(alpha)*sin(alpha + phi)*cos(alpha + 2*phi)**3/eta2**2 - 10*eta1**2*cos(alpha)*cos(alpha + phi)*cos(alpha + 2*phi)**3/eta2**2 - 8*(sin(phi) + cos(alpha + phi))**3*sin(alpha - 2*phi)*sin(alpha + 2*phi) + 12*(sin(phi) + cos(alpha + phi))**3*cos(alpha - 2*phi)*cos(alpha + 2*phi) + 8*(sin(phi) + cos(alpha + phi))**2*sin(alpha - 2*phi)*sin(alpha + phi)*cos(alpha + 2*phi) - 32*(sin(phi) + cos(alpha + phi))**2*cos(alpha - 2*phi)*cos(alpha + phi)*cos(alpha + 2*phi) + 20*(sin(phi) + cos(alpha + phi))*cos(alpha)*cos(alpha - 2*phi)*cos(alpha + 2*phi)**2) + (-2*eta1**2*(sin(phi) + cos(alpha + phi))**3*sin(alpha + 2*phi)**2/eta2**2 + 2*eta1**2*(sin(phi) + cos(alpha + phi))**3*cos(alpha + 2*phi)**2/eta2**2 + 4*eta1**2*(sin(phi) + cos(alpha + phi))**2*sin(alpha - phi)*sin(alpha + 2*phi)*cos(alpha + 2*phi)/eta2**2 + 6*eta1**2*(sin(phi) + cos(alpha + phi))**2*sin(alpha + phi)*sin(alpha + 2*phi)*cos(alpha + 2*phi)/eta2**2 - 6*eta1**2*(sin(phi) + cos(alpha + phi))**2*cos(alpha - phi)*cos(alpha + 2*phi)**2/eta2**2 - 6*eta1**2*(sin(phi) + cos(alpha + phi))**2*cos(alpha + phi)*cos(alpha + 2*phi)**2/eta2**2 - 2*eta1**2*(sin(phi) + cos(alpha + phi))*sin(alpha)*sin(alpha + 2*phi)*cos(alpha + 2*phi)**2/eta2**2 - 4*eta1**2*(sin(phi) + cos(alpha + phi))*sin(alpha - phi)*sin(alpha + phi)*cos(alpha + 2*phi)**2/eta2**2 - 4*eta1**2*(sin(phi) + cos(alpha + phi))*sin(alpha + phi)**2*cos(alpha + 2*phi)**2/eta2**2 + 2*eta1**2*(sin(phi) + cos(alpha + phi))*cos(alpha)*cos(alpha + 2*phi)**3/eta2**2 + 16*eta1**2*(sin(phi) + cos(alpha + phi))*cos(alpha - phi)*cos(alpha + phi)*cos(alpha + 2*phi)**2/eta2**2 + 4*eta1**2*(sin(phi) + cos(alpha + phi))*cos(alpha + phi)**2*cos(alpha + 2*phi)**2/eta2**2 + 2*eta1**2*sin(alpha)*sin(alpha + phi)*cos(alpha + 2*phi)**3/eta2**2 - 10*eta1**2*cos(alpha)*cos(alpha - phi)*cos(alpha + 2*phi)**3/eta2**2 - 2*eta1**2*cos(alpha)*cos(alpha + phi)*cos(alpha + 2*phi)**3/eta2**2 + 4*(sin(phi) + cos(alpha + phi))**3*sin(alpha - 2*phi)*sin(alpha + 2*phi) - 2*(sin(phi) + cos(alpha + phi))**3*cos(alpha - 2*phi)*cos(alpha + 2*phi) - 4*(sin(phi) + cos(alpha + phi))**2*sin(alpha - 2*phi)*sin(alpha + phi)*cos(alpha + 2*phi) + 8*(sin(phi) + cos(alpha + phi))**2*cos(alpha - 2*phi)*cos(alpha + phi)*cos(alpha + 2*phi) - 6*(sin(phi) + cos(alpha + phi))*cos(alpha)*cos(alpha - 2*phi)*cos(alpha + 2*phi)**2)**2)/(4*eta1**2*(sin(phi) + cos(alpha + phi))**3*sin(alpha + 2*phi)**2/eta2**2 + 6*eta1**2*(sin(phi) + cos(alpha + phi))**3*cos(alpha + 2*phi)**2/eta2**2 - 16*eta1**2*(sin(phi) + cos(alpha + phi))**2*sin(alpha + phi)*sin(alpha + 2*phi)*cos(alpha + 2*phi)/eta2**2 - 22*eta1**2*(sin(phi) + cos(alpha + phi))**2*cos(alpha + phi)*cos(alpha + 2*phi)**2/eta2**2 + 8*eta1**2*(sin(phi) + cos(alpha + phi))*sin(alpha)*sin(alpha + 2*phi)*cos(alpha + 2*phi)**2/eta2**2 + 12*eta1**2*(sin(phi) + cos(alpha + phi))*sin(alpha + phi)**2*cos(alpha + 2*phi)**2/eta2**2 + 10*eta1**2*(sin(phi) + cos(alpha + phi))*cos(alpha)*cos(alpha + 2*phi)**3/eta2**2 + 16*eta1**2*(sin(phi) + cos(alpha + phi))*cos(alpha + phi)**2*cos(alpha + 2*phi)**2/eta2**2 - 8*eta1**2*sin(alpha)*sin(alpha + phi)*cos(alpha + 2*phi)**3/eta2**2 - 10*eta1**2*cos(alpha)*cos(alpha + phi)*cos(alpha + 2*phi)**3/eta2**2 - 8*(sin(phi) + cos(alpha + phi))**3*sin(alpha - 2*phi)*sin(alpha + 2*phi) + 12*(sin(phi) + cos(alpha + phi))**3*cos(alpha - 2*phi)*cos(alpha + 2*phi) + 8*(sin(phi) + cos(alpha + phi))**2*sin(alpha - 2*phi)*sin(alpha + phi)*cos(alpha + 2*phi) - 32*(sin(phi) + cos(alpha + phi))**2*cos(alpha - 2*phi)*cos(alpha + phi)*cos(alpha + 2*phi) + 20*(sin(phi) + cos(alpha + phi))*cos(alpha)*cos(alpha - 2*phi)*cos(alpha + 2*phi)**2) - (-2*eta1**2*(sin(phi) + cos(alpha + phi))**3*sin(alpha + 2*phi)**2/eta2**2 + 2*eta1**2*(sin(phi) + cos(alpha + phi))**3*cos(alpha + 2*phi)**2/eta2**2 + 4*eta1**2*(sin(phi) + cos(alpha + phi))**2*sin(alpha - phi)*sin(alpha + 2*phi)*cos(alpha + 2*phi)/eta2**2 + 6*eta1**2*(sin(phi) + cos(alpha + phi))**2*sin(alpha + phi)*sin(alpha + 2*phi)*cos(alpha + 2*phi)/eta2**2 - 6*eta1**2*(sin(phi) + cos(alpha + phi))**2*cos(alpha - phi)*cos(alpha + 2*phi)**2/eta2**2 - 6*eta1**2*(sin(phi) + cos(alpha + phi))**2*cos(alpha + phi)*cos(alpha + 2*phi)**2/eta2**2 - 2*eta1**2*(sin(phi) + cos(alpha + phi))*sin(alpha)*sin(alpha + 2*phi)*cos(alpha + 2*phi)**2/eta2**2 - 4*eta1**2*(sin(phi) + cos(alpha + phi))*sin(alpha - phi)*sin(alpha + phi)*cos(alpha + 2*phi)**2/eta2**2 - 4*eta1**2*(sin(phi) + cos(alpha + phi))*sin(alpha + phi)**2*cos(alpha + 2*phi)**2/eta2**2 + 2*eta1**2*(sin(phi) + cos(alpha + phi))*cos(alpha)*cos(alpha + 2*phi)**3/eta2**2 + 16*eta1**2*(sin(phi) + cos(alpha + phi))*cos(alpha - phi)*cos(alpha + phi)*cos(alpha + 2*phi)**2/eta2**2 + 4*eta1**2*(sin(phi) + cos(alpha + phi))*cos(alpha + phi)**2*cos(alpha + 2*phi)**2/eta2**2 + 2*eta1**2*sin(alpha)*sin(alpha + phi)*cos(alpha + 2*phi)**3/eta2**2 - 10*eta1**2*cos(alpha)*cos(alpha - phi)*cos(alpha + 2*phi)**3/eta2**2 - 2*eta1**2*cos(alpha)*cos(alpha + phi)*cos(alpha + 2*phi)**3/eta2**2 + 4*(sin(phi) + cos(alpha + phi))**3*sin(alpha - 2*phi)*sin(alpha + 2*phi) - 2*(sin(phi) + cos(alpha + phi))**3*cos(alpha - 2*phi)*cos(alpha + 2*phi) - 4*(sin(phi) + cos(alpha + phi))**2*sin(alpha - 2*phi)*sin(alpha + phi)*cos(alpha + 2*phi) + 8*(sin(phi) + cos(alpha + phi))**2*cos(alpha - 2*phi)*cos(alpha + phi)*cos(alpha + 2*phi) - 6*(sin(phi) + cos(alpha + phi))*cos(alpha)*cos(alpha - 2*phi)*cos(alpha + 2*phi)**2)/(4*eta1**2*(sin(phi) + cos(alpha + phi))**3*sin(alpha + 2*phi)**2/eta2**2 + 6*eta1**2*(sin(phi) + cos(alpha + phi))**3*cos(alpha + 2*phi)**2/eta2**2 - 16*eta1**2*(sin(phi) + cos(alpha + phi))**2*sin(alpha + phi)*sin(alpha + 2*phi)*cos(alpha + 2*phi)/eta2**2 - 22*eta1**2*(sin(phi) + cos(alpha + phi))**2*cos(alpha + phi)*cos(alpha + 2*phi)**2/eta2**2 + 8*eta1**2*(sin(phi) + cos(alpha + phi))*sin(alpha)*sin(alpha + 2*phi)*cos(alpha + 2*phi)**2/eta2**2 + 12*eta1**2*(sin(phi) + cos(alpha + phi))*sin(alpha + phi)**2*cos(alpha + 2*phi)**2/eta2**2 + 10*eta1**2*(sin(phi) + cos(alpha + phi))*cos(alpha)*cos(alpha + 2*phi)**3/eta2**2 + 16*eta1**2*(sin(phi) + cos(alpha + phi))*cos(alpha + phi)**2*cos(alpha + 2*phi)**2/eta2**2 - 8*eta1**2*sin(alpha)*sin(alpha + phi)*cos(alpha + 2*phi)**3/eta2**2 - 10*eta1**2*cos(alpha)*cos(alpha + phi)*cos(alpha + 2*phi)**3/eta2**2 - 8*(sin(phi) + cos(alpha + phi))**3*sin(alpha - 2*phi)*sin(alpha + 2*phi) + 12*(sin(phi) + cos(alpha + phi))**3*cos(alpha - 2*phi)*cos(alpha + 2*phi) + 8*(sin(phi) + cos(alpha + phi))**2*sin(alpha - 2*phi)*sin(alpha + phi)*cos(alpha + 2*phi) - 32*(sin(phi) + cos(alpha + phi))**2*cos(alpha - 2*phi)*cos(alpha + phi)*cos(alpha + 2*phi) + 20*(sin(phi) + cos(alpha + phi))*cos(alpha)*cos(alpha - 2*phi)*cos(alpha + 2*phi)**2))\n",
      "<lambdifygenerated-1>:3: RuntimeWarning: invalid value encountered in subtract\n",
      "  return sqrt(sqrt(-(-2*eta1**2*(sin(phi) + cos(alpha + phi))**3*cos(alpha + 2*phi)**2/eta2**2 - 8*eta1**2*(sin(phi) + cos(alpha + phi))**2*sin(alpha - phi)*sin(alpha + 2*phi)*cos(alpha + 2*phi)/eta2**2 + 4*eta1**2*(sin(phi) + cos(alpha + phi))**2*sin(alpha + phi)*sin(alpha + 2*phi)*cos(alpha + 2*phi)/eta2**2 + 4*eta1**2*(sin(phi) + cos(alpha + phi))**2*cos(alpha - phi)*cos(alpha + 2*phi)**2/eta2**2 + 10*eta1**2*(sin(phi) + cos(alpha + phi))**2*cos(alpha + phi)*cos(alpha + 2*phi)**2/eta2**2 - 4*eta1**2*(sin(phi) + cos(alpha + phi))*sin(alpha)*sin(alpha + 2*phi)*cos(alpha + 2*phi)**2/eta2**2 + 8*eta1**2*(sin(phi) + cos(alpha + phi))*sin(alpha - phi)*sin(alpha + phi)*cos(alpha + 2*phi)**2/eta2**2 - 4*eta1**2*(sin(phi) + cos(alpha + phi))*sin(alpha + phi)**2*cos(alpha + 2*phi)**2/eta2**2 - 6*eta1**2*(sin(phi) + cos(alpha + phi))*cos(alpha)*cos(alpha + 2*phi)**3/eta2**2 - 16*eta1**2*(sin(phi) + cos(alpha + phi))*cos(alpha - phi)*cos(alpha + phi)*cos(alpha + 2*phi)**2/eta2**2 - 8*eta1**2*(sin(phi) + cos(alpha + phi))*cos(alpha + phi)**2*cos(alpha + 2*phi)**2/eta2**2 + 4*eta1**2*sin(alpha)*sin(alpha + phi)*cos(alpha + 2*phi)**3/eta2**2 + 12*eta1**2*cos(alpha)*cos(alpha - phi)*cos(alpha + 2*phi)**3/eta2**2 + 6*eta1**2*cos(alpha)*cos(alpha + phi)*cos(alpha + 2*phi)**3/eta2**2)*(4*eta1**2*(sin(phi) + cos(alpha + phi))**3*sin(alpha + 2*phi)**2/eta2**2 + 6*eta1**2*(sin(phi) + cos(alpha + phi))**3*cos(alpha + 2*phi)**2/eta2**2 - 16*eta1**2*(sin(phi) + cos(alpha + phi))**2*sin(alpha + phi)*sin(alpha + 2*phi)*cos(alpha + 2*phi)/eta2**2 - 22*eta1**2*(sin(phi) + cos(alpha + phi))**2*cos(alpha + phi)*cos(alpha + 2*phi)**2/eta2**2 + 8*eta1**2*(sin(phi) + cos(alpha + phi))*sin(alpha)*sin(alpha + 2*phi)*cos(alpha + 2*phi)**2/eta2**2 + 12*eta1**2*(sin(phi) + cos(alpha + phi))*sin(alpha + phi)**2*cos(alpha + 2*phi)**2/eta2**2 + 10*eta1**2*(sin(phi) + cos(alpha + phi))*cos(alpha)*cos(alpha + 2*phi)**3/eta2**2 + 16*eta1**2*(sin(phi) + cos(alpha + phi))*cos(alpha + phi)**2*cos(alpha + 2*phi)**2/eta2**2 - 8*eta1**2*sin(alpha)*sin(alpha + phi)*cos(alpha + 2*phi)**3/eta2**2 - 10*eta1**2*cos(alpha)*cos(alpha + phi)*cos(alpha + 2*phi)**3/eta2**2 - 8*(sin(phi) + cos(alpha + phi))**3*sin(alpha - 2*phi)*sin(alpha + 2*phi) + 12*(sin(phi) + cos(alpha + phi))**3*cos(alpha - 2*phi)*cos(alpha + 2*phi) + 8*(sin(phi) + cos(alpha + phi))**2*sin(alpha - 2*phi)*sin(alpha + phi)*cos(alpha + 2*phi) - 32*(sin(phi) + cos(alpha + phi))**2*cos(alpha - 2*phi)*cos(alpha + phi)*cos(alpha + 2*phi) + 20*(sin(phi) + cos(alpha + phi))*cos(alpha)*cos(alpha - 2*phi)*cos(alpha + 2*phi)**2) + (-2*eta1**2*(sin(phi) + cos(alpha + phi))**3*sin(alpha + 2*phi)**2/eta2**2 + 2*eta1**2*(sin(phi) + cos(alpha + phi))**3*cos(alpha + 2*phi)**2/eta2**2 + 4*eta1**2*(sin(phi) + cos(alpha + phi))**2*sin(alpha - phi)*sin(alpha + 2*phi)*cos(alpha + 2*phi)/eta2**2 + 6*eta1**2*(sin(phi) + cos(alpha + phi))**2*sin(alpha + phi)*sin(alpha + 2*phi)*cos(alpha + 2*phi)/eta2**2 - 6*eta1**2*(sin(phi) + cos(alpha + phi))**2*cos(alpha - phi)*cos(alpha + 2*phi)**2/eta2**2 - 6*eta1**2*(sin(phi) + cos(alpha + phi))**2*cos(alpha + phi)*cos(alpha + 2*phi)**2/eta2**2 - 2*eta1**2*(sin(phi) + cos(alpha + phi))*sin(alpha)*sin(alpha + 2*phi)*cos(alpha + 2*phi)**2/eta2**2 - 4*eta1**2*(sin(phi) + cos(alpha + phi))*sin(alpha - phi)*sin(alpha + phi)*cos(alpha + 2*phi)**2/eta2**2 - 4*eta1**2*(sin(phi) + cos(alpha + phi))*sin(alpha + phi)**2*cos(alpha + 2*phi)**2/eta2**2 + 2*eta1**2*(sin(phi) + cos(alpha + phi))*cos(alpha)*cos(alpha + 2*phi)**3/eta2**2 + 16*eta1**2*(sin(phi) + cos(alpha + phi))*cos(alpha - phi)*cos(alpha + phi)*cos(alpha + 2*phi)**2/eta2**2 + 4*eta1**2*(sin(phi) + cos(alpha + phi))*cos(alpha + phi)**2*cos(alpha + 2*phi)**2/eta2**2 + 2*eta1**2*sin(alpha)*sin(alpha + phi)*cos(alpha + 2*phi)**3/eta2**2 - 10*eta1**2*cos(alpha)*cos(alpha - phi)*cos(alpha + 2*phi)**3/eta2**2 - 2*eta1**2*cos(alpha)*cos(alpha + phi)*cos(alpha + 2*phi)**3/eta2**2 + 4*(sin(phi) + cos(alpha + phi))**3*sin(alpha - 2*phi)*sin(alpha + 2*phi) - 2*(sin(phi) + cos(alpha + phi))**3*cos(alpha - 2*phi)*cos(alpha + 2*phi) - 4*(sin(phi) + cos(alpha + phi))**2*sin(alpha - 2*phi)*sin(alpha + phi)*cos(alpha + 2*phi) + 8*(sin(phi) + cos(alpha + phi))**2*cos(alpha - 2*phi)*cos(alpha + phi)*cos(alpha + 2*phi) - 6*(sin(phi) + cos(alpha + phi))*cos(alpha)*cos(alpha - 2*phi)*cos(alpha + 2*phi)**2)**2)/(4*eta1**2*(sin(phi) + cos(alpha + phi))**3*sin(alpha + 2*phi)**2/eta2**2 + 6*eta1**2*(sin(phi) + cos(alpha + phi))**3*cos(alpha + 2*phi)**2/eta2**2 - 16*eta1**2*(sin(phi) + cos(alpha + phi))**2*sin(alpha + phi)*sin(alpha + 2*phi)*cos(alpha + 2*phi)/eta2**2 - 22*eta1**2*(sin(phi) + cos(alpha + phi))**2*cos(alpha + phi)*cos(alpha + 2*phi)**2/eta2**2 + 8*eta1**2*(sin(phi) + cos(alpha + phi))*sin(alpha)*sin(alpha + 2*phi)*cos(alpha + 2*phi)**2/eta2**2 + 12*eta1**2*(sin(phi) + cos(alpha + phi))*sin(alpha + phi)**2*cos(alpha + 2*phi)**2/eta2**2 + 10*eta1**2*(sin(phi) + cos(alpha + phi))*cos(alpha)*cos(alpha + 2*phi)**3/eta2**2 + 16*eta1**2*(sin(phi) + cos(alpha + phi))*cos(alpha + phi)**2*cos(alpha + 2*phi)**2/eta2**2 - 8*eta1**2*sin(alpha)*sin(alpha + phi)*cos(alpha + 2*phi)**3/eta2**2 - 10*eta1**2*cos(alpha)*cos(alpha + phi)*cos(alpha + 2*phi)**3/eta2**2 - 8*(sin(phi) + cos(alpha + phi))**3*sin(alpha - 2*phi)*sin(alpha + 2*phi) + 12*(sin(phi) + cos(alpha + phi))**3*cos(alpha - 2*phi)*cos(alpha + 2*phi) + 8*(sin(phi) + cos(alpha + phi))**2*sin(alpha - 2*phi)*sin(alpha + phi)*cos(alpha + 2*phi) - 32*(sin(phi) + cos(alpha + phi))**2*cos(alpha - 2*phi)*cos(alpha + phi)*cos(alpha + 2*phi) + 20*(sin(phi) + cos(alpha + phi))*cos(alpha)*cos(alpha - 2*phi)*cos(alpha + 2*phi)**2) - (-2*eta1**2*(sin(phi) + cos(alpha + phi))**3*sin(alpha + 2*phi)**2/eta2**2 + 2*eta1**2*(sin(phi) + cos(alpha + phi))**3*cos(alpha + 2*phi)**2/eta2**2 + 4*eta1**2*(sin(phi) + cos(alpha + phi))**2*sin(alpha - phi)*sin(alpha + 2*phi)*cos(alpha + 2*phi)/eta2**2 + 6*eta1**2*(sin(phi) + cos(alpha + phi))**2*sin(alpha + phi)*sin(alpha + 2*phi)*cos(alpha + 2*phi)/eta2**2 - 6*eta1**2*(sin(phi) + cos(alpha + phi))**2*cos(alpha - phi)*cos(alpha + 2*phi)**2/eta2**2 - 6*eta1**2*(sin(phi) + cos(alpha + phi))**2*cos(alpha + phi)*cos(alpha + 2*phi)**2/eta2**2 - 2*eta1**2*(sin(phi) + cos(alpha + phi))*sin(alpha)*sin(alpha + 2*phi)*cos(alpha + 2*phi)**2/eta2**2 - 4*eta1**2*(sin(phi) + cos(alpha + phi))*sin(alpha - phi)*sin(alpha + phi)*cos(alpha + 2*phi)**2/eta2**2 - 4*eta1**2*(sin(phi) + cos(alpha + phi))*sin(alpha + phi)**2*cos(alpha + 2*phi)**2/eta2**2 + 2*eta1**2*(sin(phi) + cos(alpha + phi))*cos(alpha)*cos(alpha + 2*phi)**3/eta2**2 + 16*eta1**2*(sin(phi) + cos(alpha + phi))*cos(alpha - phi)*cos(alpha + phi)*cos(alpha + 2*phi)**2/eta2**2 + 4*eta1**2*(sin(phi) + cos(alpha + phi))*cos(alpha + phi)**2*cos(alpha + 2*phi)**2/eta2**2 + 2*eta1**2*sin(alpha)*sin(alpha + phi)*cos(alpha + 2*phi)**3/eta2**2 - 10*eta1**2*cos(alpha)*cos(alpha - phi)*cos(alpha + 2*phi)**3/eta2**2 - 2*eta1**2*cos(alpha)*cos(alpha + phi)*cos(alpha + 2*phi)**3/eta2**2 + 4*(sin(phi) + cos(alpha + phi))**3*sin(alpha - 2*phi)*sin(alpha + 2*phi) - 2*(sin(phi) + cos(alpha + phi))**3*cos(alpha - 2*phi)*cos(alpha + 2*phi) - 4*(sin(phi) + cos(alpha + phi))**2*sin(alpha - 2*phi)*sin(alpha + phi)*cos(alpha + 2*phi) + 8*(sin(phi) + cos(alpha + phi))**2*cos(alpha - 2*phi)*cos(alpha + phi)*cos(alpha + 2*phi) - 6*(sin(phi) + cos(alpha + phi))*cos(alpha)*cos(alpha - 2*phi)*cos(alpha + 2*phi)**2)/(4*eta1**2*(sin(phi) + cos(alpha + phi))**3*sin(alpha + 2*phi)**2/eta2**2 + 6*eta1**2*(sin(phi) + cos(alpha + phi))**3*cos(alpha + 2*phi)**2/eta2**2 - 16*eta1**2*(sin(phi) + cos(alpha + phi))**2*sin(alpha + phi)*sin(alpha + 2*phi)*cos(alpha + 2*phi)/eta2**2 - 22*eta1**2*(sin(phi) + cos(alpha + phi))**2*cos(alpha + phi)*cos(alpha + 2*phi)**2/eta2**2 + 8*eta1**2*(sin(phi) + cos(alpha + phi))*sin(alpha)*sin(alpha + 2*phi)*cos(alpha + 2*phi)**2/eta2**2 + 12*eta1**2*(sin(phi) + cos(alpha + phi))*sin(alpha + phi)**2*cos(alpha + 2*phi)**2/eta2**2 + 10*eta1**2*(sin(phi) + cos(alpha + phi))*cos(alpha)*cos(alpha + 2*phi)**3/eta2**2 + 16*eta1**2*(sin(phi) + cos(alpha + phi))*cos(alpha + phi)**2*cos(alpha + 2*phi)**2/eta2**2 - 8*eta1**2*sin(alpha)*sin(alpha + phi)*cos(alpha + 2*phi)**3/eta2**2 - 10*eta1**2*cos(alpha)*cos(alpha + phi)*cos(alpha + 2*phi)**3/eta2**2 - 8*(sin(phi) + cos(alpha + phi))**3*sin(alpha - 2*phi)*sin(alpha + 2*phi) + 12*(sin(phi) + cos(alpha + phi))**3*cos(alpha - 2*phi)*cos(alpha + 2*phi) + 8*(sin(phi) + cos(alpha + phi))**2*sin(alpha - 2*phi)*sin(alpha + phi)*cos(alpha + 2*phi) - 32*(sin(phi) + cos(alpha + phi))**2*cos(alpha - 2*phi)*cos(alpha + phi)*cos(alpha + 2*phi) + 20*(sin(phi) + cos(alpha + phi))*cos(alpha)*cos(alpha - 2*phi)*cos(alpha + 2*phi)**2))\n",
      "<lambdifygenerated-1>:3: RuntimeWarning: invalid value encountered in sqrt\n",
      "  return sqrt(sqrt(-(-2*eta1**2*(sin(phi) + cos(alpha + phi))**3*cos(alpha + 2*phi)**2/eta2**2 - 8*eta1**2*(sin(phi) + cos(alpha + phi))**2*sin(alpha - phi)*sin(alpha + 2*phi)*cos(alpha + 2*phi)/eta2**2 + 4*eta1**2*(sin(phi) + cos(alpha + phi))**2*sin(alpha + phi)*sin(alpha + 2*phi)*cos(alpha + 2*phi)/eta2**2 + 4*eta1**2*(sin(phi) + cos(alpha + phi))**2*cos(alpha - phi)*cos(alpha + 2*phi)**2/eta2**2 + 10*eta1**2*(sin(phi) + cos(alpha + phi))**2*cos(alpha + phi)*cos(alpha + 2*phi)**2/eta2**2 - 4*eta1**2*(sin(phi) + cos(alpha + phi))*sin(alpha)*sin(alpha + 2*phi)*cos(alpha + 2*phi)**2/eta2**2 + 8*eta1**2*(sin(phi) + cos(alpha + phi))*sin(alpha - phi)*sin(alpha + phi)*cos(alpha + 2*phi)**2/eta2**2 - 4*eta1**2*(sin(phi) + cos(alpha + phi))*sin(alpha + phi)**2*cos(alpha + 2*phi)**2/eta2**2 - 6*eta1**2*(sin(phi) + cos(alpha + phi))*cos(alpha)*cos(alpha + 2*phi)**3/eta2**2 - 16*eta1**2*(sin(phi) + cos(alpha + phi))*cos(alpha - phi)*cos(alpha + phi)*cos(alpha + 2*phi)**2/eta2**2 - 8*eta1**2*(sin(phi) + cos(alpha + phi))*cos(alpha + phi)**2*cos(alpha + 2*phi)**2/eta2**2 + 4*eta1**2*sin(alpha)*sin(alpha + phi)*cos(alpha + 2*phi)**3/eta2**2 + 12*eta1**2*cos(alpha)*cos(alpha - phi)*cos(alpha + 2*phi)**3/eta2**2 + 6*eta1**2*cos(alpha)*cos(alpha + phi)*cos(alpha + 2*phi)**3/eta2**2)*(4*eta1**2*(sin(phi) + cos(alpha + phi))**3*sin(alpha + 2*phi)**2/eta2**2 + 6*eta1**2*(sin(phi) + cos(alpha + phi))**3*cos(alpha + 2*phi)**2/eta2**2 - 16*eta1**2*(sin(phi) + cos(alpha + phi))**2*sin(alpha + phi)*sin(alpha + 2*phi)*cos(alpha + 2*phi)/eta2**2 - 22*eta1**2*(sin(phi) + cos(alpha + phi))**2*cos(alpha + phi)*cos(alpha + 2*phi)**2/eta2**2 + 8*eta1**2*(sin(phi) + cos(alpha + phi))*sin(alpha)*sin(alpha + 2*phi)*cos(alpha + 2*phi)**2/eta2**2 + 12*eta1**2*(sin(phi) + cos(alpha + phi))*sin(alpha + phi)**2*cos(alpha + 2*phi)**2/eta2**2 + 10*eta1**2*(sin(phi) + cos(alpha + phi))*cos(alpha)*cos(alpha + 2*phi)**3/eta2**2 + 16*eta1**2*(sin(phi) + cos(alpha + phi))*cos(alpha + phi)**2*cos(alpha + 2*phi)**2/eta2**2 - 8*eta1**2*sin(alpha)*sin(alpha + phi)*cos(alpha + 2*phi)**3/eta2**2 - 10*eta1**2*cos(alpha)*cos(alpha + phi)*cos(alpha + 2*phi)**3/eta2**2 - 8*(sin(phi) + cos(alpha + phi))**3*sin(alpha - 2*phi)*sin(alpha + 2*phi) + 12*(sin(phi) + cos(alpha + phi))**3*cos(alpha - 2*phi)*cos(alpha + 2*phi) + 8*(sin(phi) + cos(alpha + phi))**2*sin(alpha - 2*phi)*sin(alpha + phi)*cos(alpha + 2*phi) - 32*(sin(phi) + cos(alpha + phi))**2*cos(alpha - 2*phi)*cos(alpha + phi)*cos(alpha + 2*phi) + 20*(sin(phi) + cos(alpha + phi))*cos(alpha)*cos(alpha - 2*phi)*cos(alpha + 2*phi)**2) + (-2*eta1**2*(sin(phi) + cos(alpha + phi))**3*sin(alpha + 2*phi)**2/eta2**2 + 2*eta1**2*(sin(phi) + cos(alpha + phi))**3*cos(alpha + 2*phi)**2/eta2**2 + 4*eta1**2*(sin(phi) + cos(alpha + phi))**2*sin(alpha - phi)*sin(alpha + 2*phi)*cos(alpha + 2*phi)/eta2**2 + 6*eta1**2*(sin(phi) + cos(alpha + phi))**2*sin(alpha + phi)*sin(alpha + 2*phi)*cos(alpha + 2*phi)/eta2**2 - 6*eta1**2*(sin(phi) + cos(alpha + phi))**2*cos(alpha - phi)*cos(alpha + 2*phi)**2/eta2**2 - 6*eta1**2*(sin(phi) + cos(alpha + phi))**2*cos(alpha + phi)*cos(alpha + 2*phi)**2/eta2**2 - 2*eta1**2*(sin(phi) + cos(alpha + phi))*sin(alpha)*sin(alpha + 2*phi)*cos(alpha + 2*phi)**2/eta2**2 - 4*eta1**2*(sin(phi) + cos(alpha + phi))*sin(alpha - phi)*sin(alpha + phi)*cos(alpha + 2*phi)**2/eta2**2 - 4*eta1**2*(sin(phi) + cos(alpha + phi))*sin(alpha + phi)**2*cos(alpha + 2*phi)**2/eta2**2 + 2*eta1**2*(sin(phi) + cos(alpha + phi))*cos(alpha)*cos(alpha + 2*phi)**3/eta2**2 + 16*eta1**2*(sin(phi) + cos(alpha + phi))*cos(alpha - phi)*cos(alpha + phi)*cos(alpha + 2*phi)**2/eta2**2 + 4*eta1**2*(sin(phi) + cos(alpha + phi))*cos(alpha + phi)**2*cos(alpha + 2*phi)**2/eta2**2 + 2*eta1**2*sin(alpha)*sin(alpha + phi)*cos(alpha + 2*phi)**3/eta2**2 - 10*eta1**2*cos(alpha)*cos(alpha - phi)*cos(alpha + 2*phi)**3/eta2**2 - 2*eta1**2*cos(alpha)*cos(alpha + phi)*cos(alpha + 2*phi)**3/eta2**2 + 4*(sin(phi) + cos(alpha + phi))**3*sin(alpha - 2*phi)*sin(alpha + 2*phi) - 2*(sin(phi) + cos(alpha + phi))**3*cos(alpha - 2*phi)*cos(alpha + 2*phi) - 4*(sin(phi) + cos(alpha + phi))**2*sin(alpha - 2*phi)*sin(alpha + phi)*cos(alpha + 2*phi) + 8*(sin(phi) + cos(alpha + phi))**2*cos(alpha - 2*phi)*cos(alpha + phi)*cos(alpha + 2*phi) - 6*(sin(phi) + cos(alpha + phi))*cos(alpha)*cos(alpha - 2*phi)*cos(alpha + 2*phi)**2)**2)/(4*eta1**2*(sin(phi) + cos(alpha + phi))**3*sin(alpha + 2*phi)**2/eta2**2 + 6*eta1**2*(sin(phi) + cos(alpha + phi))**3*cos(alpha + 2*phi)**2/eta2**2 - 16*eta1**2*(sin(phi) + cos(alpha + phi))**2*sin(alpha + phi)*sin(alpha + 2*phi)*cos(alpha + 2*phi)/eta2**2 - 22*eta1**2*(sin(phi) + cos(alpha + phi))**2*cos(alpha + phi)*cos(alpha + 2*phi)**2/eta2**2 + 8*eta1**2*(sin(phi) + cos(alpha + phi))*sin(alpha)*sin(alpha + 2*phi)*cos(alpha + 2*phi)**2/eta2**2 + 12*eta1**2*(sin(phi) + cos(alpha + phi))*sin(alpha + phi)**2*cos(alpha + 2*phi)**2/eta2**2 + 10*eta1**2*(sin(phi) + cos(alpha + phi))*cos(alpha)*cos(alpha + 2*phi)**3/eta2**2 + 16*eta1**2*(sin(phi) + cos(alpha + phi))*cos(alpha + phi)**2*cos(alpha + 2*phi)**2/eta2**2 - 8*eta1**2*sin(alpha)*sin(alpha + phi)*cos(alpha + 2*phi)**3/eta2**2 - 10*eta1**2*cos(alpha)*cos(alpha + phi)*cos(alpha + 2*phi)**3/eta2**2 - 8*(sin(phi) + cos(alpha + phi))**3*sin(alpha - 2*phi)*sin(alpha + 2*phi) + 12*(sin(phi) + cos(alpha + phi))**3*cos(alpha - 2*phi)*cos(alpha + 2*phi) + 8*(sin(phi) + cos(alpha + phi))**2*sin(alpha - 2*phi)*sin(alpha + phi)*cos(alpha + 2*phi) - 32*(sin(phi) + cos(alpha + phi))**2*cos(alpha - 2*phi)*cos(alpha + phi)*cos(alpha + 2*phi) + 20*(sin(phi) + cos(alpha + phi))*cos(alpha)*cos(alpha - 2*phi)*cos(alpha + 2*phi)**2) - (-2*eta1**2*(sin(phi) + cos(alpha + phi))**3*sin(alpha + 2*phi)**2/eta2**2 + 2*eta1**2*(sin(phi) + cos(alpha + phi))**3*cos(alpha + 2*phi)**2/eta2**2 + 4*eta1**2*(sin(phi) + cos(alpha + phi))**2*sin(alpha - phi)*sin(alpha + 2*phi)*cos(alpha + 2*phi)/eta2**2 + 6*eta1**2*(sin(phi) + cos(alpha + phi))**2*sin(alpha + phi)*sin(alpha + 2*phi)*cos(alpha + 2*phi)/eta2**2 - 6*eta1**2*(sin(phi) + cos(alpha + phi))**2*cos(alpha - phi)*cos(alpha + 2*phi)**2/eta2**2 - 6*eta1**2*(sin(phi) + cos(alpha + phi))**2*cos(alpha + phi)*cos(alpha + 2*phi)**2/eta2**2 - 2*eta1**2*(sin(phi) + cos(alpha + phi))*sin(alpha)*sin(alpha + 2*phi)*cos(alpha + 2*phi)**2/eta2**2 - 4*eta1**2*(sin(phi) + cos(alpha + phi))*sin(alpha - phi)*sin(alpha + phi)*cos(alpha + 2*phi)**2/eta2**2 - 4*eta1**2*(sin(phi) + cos(alpha + phi))*sin(alpha + phi)**2*cos(alpha + 2*phi)**2/eta2**2 + 2*eta1**2*(sin(phi) + cos(alpha + phi))*cos(alpha)*cos(alpha + 2*phi)**3/eta2**2 + 16*eta1**2*(sin(phi) + cos(alpha + phi))*cos(alpha - phi)*cos(alpha + phi)*cos(alpha + 2*phi)**2/eta2**2 + 4*eta1**2*(sin(phi) + cos(alpha + phi))*cos(alpha + phi)**2*cos(alpha + 2*phi)**2/eta2**2 + 2*eta1**2*sin(alpha)*sin(alpha + phi)*cos(alpha + 2*phi)**3/eta2**2 - 10*eta1**2*cos(alpha)*cos(alpha - phi)*cos(alpha + 2*phi)**3/eta2**2 - 2*eta1**2*cos(alpha)*cos(alpha + phi)*cos(alpha + 2*phi)**3/eta2**2 + 4*(sin(phi) + cos(alpha + phi))**3*sin(alpha - 2*phi)*sin(alpha + 2*phi) - 2*(sin(phi) + cos(alpha + phi))**3*cos(alpha - 2*phi)*cos(alpha + 2*phi) - 4*(sin(phi) + cos(alpha + phi))**2*sin(alpha - 2*phi)*sin(alpha + phi)*cos(alpha + 2*phi) + 8*(sin(phi) + cos(alpha + phi))**2*cos(alpha - 2*phi)*cos(alpha + phi)*cos(alpha + 2*phi) - 6*(sin(phi) + cos(alpha + phi))*cos(alpha)*cos(alpha - 2*phi)*cos(alpha + 2*phi)**2)/(4*eta1**2*(sin(phi) + cos(alpha + phi))**3*sin(alpha + 2*phi)**2/eta2**2 + 6*eta1**2*(sin(phi) + cos(alpha + phi))**3*cos(alpha + 2*phi)**2/eta2**2 - 16*eta1**2*(sin(phi) + cos(alpha + phi))**2*sin(alpha + phi)*sin(alpha + 2*phi)*cos(alpha + 2*phi)/eta2**2 - 22*eta1**2*(sin(phi) + cos(alpha + phi))**2*cos(alpha + phi)*cos(alpha + 2*phi)**2/eta2**2 + 8*eta1**2*(sin(phi) + cos(alpha + phi))*sin(alpha)*sin(alpha + 2*phi)*cos(alpha + 2*phi)**2/eta2**2 + 12*eta1**2*(sin(phi) + cos(alpha + phi))*sin(alpha + phi)**2*cos(alpha + 2*phi)**2/eta2**2 + 10*eta1**2*(sin(phi) + cos(alpha + phi))*cos(alpha)*cos(alpha + 2*phi)**3/eta2**2 + 16*eta1**2*(sin(phi) + cos(alpha + phi))*cos(alpha + phi)**2*cos(alpha + 2*phi)**2/eta2**2 - 8*eta1**2*sin(alpha)*sin(alpha + phi)*cos(alpha + 2*phi)**3/eta2**2 - 10*eta1**2*cos(alpha)*cos(alpha + phi)*cos(alpha + 2*phi)**3/eta2**2 - 8*(sin(phi) + cos(alpha + phi))**3*sin(alpha - 2*phi)*sin(alpha + 2*phi) + 12*(sin(phi) + cos(alpha + phi))**3*cos(alpha - 2*phi)*cos(alpha + 2*phi) + 8*(sin(phi) + cos(alpha + phi))**2*sin(alpha - 2*phi)*sin(alpha + phi)*cos(alpha + 2*phi) - 32*(sin(phi) + cos(alpha + phi))**2*cos(alpha - 2*phi)*cos(alpha + phi)*cos(alpha + 2*phi) + 20*(sin(phi) + cos(alpha + phi))*cos(alpha)*cos(alpha - 2*phi)*cos(alpha + 2*phi)**2))\n",
      "/var/folders/z1/v9g3442s1hn29m34fht7zq8h0000gn/T/ipykernel_76042/2394010678.py:49: RuntimeWarning: divide by zero encountered in divide\n",
      "  R1_DET = np.sqrt(-B_Delta/A_Delta +R_sign * np.sqrt(-A_Delta*C_Delta + B_Delta**2)/A_Delta)\n",
      "/var/folders/z1/v9g3442s1hn29m34fht7zq8h0000gn/T/ipykernel_76042/2394010678.py:49: RuntimeWarning: invalid value encountered in sqrt\n",
      "  R1_DET = np.sqrt(-B_Delta/A_Delta +R_sign * np.sqrt(-A_Delta*C_Delta + B_Delta**2)/A_Delta)\n",
      "/var/folders/z1/v9g3442s1hn29m34fht7zq8h0000gn/T/ipykernel_76042/2394010678.py:49: RuntimeWarning: invalid value encountered in add\n",
      "  R1_DET = np.sqrt(-B_Delta/A_Delta +R_sign * np.sqrt(-A_Delta*C_Delta + B_Delta**2)/A_Delta)\n",
      "<lambdifygenerated-2>:3: RuntimeWarning: divide by zero encountered in divide\n",
      "  return sqrt(-sqrt(-(-2*eta1**2*(sin(phi) + cos(alpha + phi))**3*cos(alpha + 2*phi)**2/eta2**2 - 8*eta1**2*(sin(phi) + cos(alpha + phi))**2*sin(alpha - phi)*sin(alpha + 2*phi)*cos(alpha + 2*phi)/eta2**2 + 4*eta1**2*(sin(phi) + cos(alpha + phi))**2*sin(alpha + phi)*sin(alpha + 2*phi)*cos(alpha + 2*phi)/eta2**2 + 4*eta1**2*(sin(phi) + cos(alpha + phi))**2*cos(alpha - phi)*cos(alpha + 2*phi)**2/eta2**2 + 10*eta1**2*(sin(phi) + cos(alpha + phi))**2*cos(alpha + phi)*cos(alpha + 2*phi)**2/eta2**2 - 4*eta1**2*(sin(phi) + cos(alpha + phi))*sin(alpha)*sin(alpha + 2*phi)*cos(alpha + 2*phi)**2/eta2**2 + 8*eta1**2*(sin(phi) + cos(alpha + phi))*sin(alpha - phi)*sin(alpha + phi)*cos(alpha + 2*phi)**2/eta2**2 - 4*eta1**2*(sin(phi) + cos(alpha + phi))*sin(alpha + phi)**2*cos(alpha + 2*phi)**2/eta2**2 - 6*eta1**2*(sin(phi) + cos(alpha + phi))*cos(alpha)*cos(alpha + 2*phi)**3/eta2**2 - 16*eta1**2*(sin(phi) + cos(alpha + phi))*cos(alpha - phi)*cos(alpha + phi)*cos(alpha + 2*phi)**2/eta2**2 - 8*eta1**2*(sin(phi) + cos(alpha + phi))*cos(alpha + phi)**2*cos(alpha + 2*phi)**2/eta2**2 + 4*eta1**2*sin(alpha)*sin(alpha + phi)*cos(alpha + 2*phi)**3/eta2**2 + 12*eta1**2*cos(alpha)*cos(alpha - phi)*cos(alpha + 2*phi)**3/eta2**2 + 6*eta1**2*cos(alpha)*cos(alpha + phi)*cos(alpha + 2*phi)**3/eta2**2)*(4*eta1**2*(sin(phi) + cos(alpha + phi))**3*sin(alpha + 2*phi)**2/eta2**2 + 6*eta1**2*(sin(phi) + cos(alpha + phi))**3*cos(alpha + 2*phi)**2/eta2**2 - 16*eta1**2*(sin(phi) + cos(alpha + phi))**2*sin(alpha + phi)*sin(alpha + 2*phi)*cos(alpha + 2*phi)/eta2**2 - 22*eta1**2*(sin(phi) + cos(alpha + phi))**2*cos(alpha + phi)*cos(alpha + 2*phi)**2/eta2**2 + 8*eta1**2*(sin(phi) + cos(alpha + phi))*sin(alpha)*sin(alpha + 2*phi)*cos(alpha + 2*phi)**2/eta2**2 + 12*eta1**2*(sin(phi) + cos(alpha + phi))*sin(alpha + phi)**2*cos(alpha + 2*phi)**2/eta2**2 + 10*eta1**2*(sin(phi) + cos(alpha + phi))*cos(alpha)*cos(alpha + 2*phi)**3/eta2**2 + 16*eta1**2*(sin(phi) + cos(alpha + phi))*cos(alpha + phi)**2*cos(alpha + 2*phi)**2/eta2**2 - 8*eta1**2*sin(alpha)*sin(alpha + phi)*cos(alpha + 2*phi)**3/eta2**2 - 10*eta1**2*cos(alpha)*cos(alpha + phi)*cos(alpha + 2*phi)**3/eta2**2 - 8*(sin(phi) + cos(alpha + phi))**3*sin(alpha - 2*phi)*sin(alpha + 2*phi) + 12*(sin(phi) + cos(alpha + phi))**3*cos(alpha - 2*phi)*cos(alpha + 2*phi) + 8*(sin(phi) + cos(alpha + phi))**2*sin(alpha - 2*phi)*sin(alpha + phi)*cos(alpha + 2*phi) - 32*(sin(phi) + cos(alpha + phi))**2*cos(alpha - 2*phi)*cos(alpha + phi)*cos(alpha + 2*phi) + 20*(sin(phi) + cos(alpha + phi))*cos(alpha)*cos(alpha - 2*phi)*cos(alpha + 2*phi)**2) + (-2*eta1**2*(sin(phi) + cos(alpha + phi))**3*sin(alpha + 2*phi)**2/eta2**2 + 2*eta1**2*(sin(phi) + cos(alpha + phi))**3*cos(alpha + 2*phi)**2/eta2**2 + 4*eta1**2*(sin(phi) + cos(alpha + phi))**2*sin(alpha - phi)*sin(alpha + 2*phi)*cos(alpha + 2*phi)/eta2**2 + 6*eta1**2*(sin(phi) + cos(alpha + phi))**2*sin(alpha + phi)*sin(alpha + 2*phi)*cos(alpha + 2*phi)/eta2**2 - 6*eta1**2*(sin(phi) + cos(alpha + phi))**2*cos(alpha - phi)*cos(alpha + 2*phi)**2/eta2**2 - 6*eta1**2*(sin(phi) + cos(alpha + phi))**2*cos(alpha + phi)*cos(alpha + 2*phi)**2/eta2**2 - 2*eta1**2*(sin(phi) + cos(alpha + phi))*sin(alpha)*sin(alpha + 2*phi)*cos(alpha + 2*phi)**2/eta2**2 - 4*eta1**2*(sin(phi) + cos(alpha + phi))*sin(alpha - phi)*sin(alpha + phi)*cos(alpha + 2*phi)**2/eta2**2 - 4*eta1**2*(sin(phi) + cos(alpha + phi))*sin(alpha + phi)**2*cos(alpha + 2*phi)**2/eta2**2 + 2*eta1**2*(sin(phi) + cos(alpha + phi))*cos(alpha)*cos(alpha + 2*phi)**3/eta2**2 + 16*eta1**2*(sin(phi) + cos(alpha + phi))*cos(alpha - phi)*cos(alpha + phi)*cos(alpha + 2*phi)**2/eta2**2 + 4*eta1**2*(sin(phi) + cos(alpha + phi))*cos(alpha + phi)**2*cos(alpha + 2*phi)**2/eta2**2 + 2*eta1**2*sin(alpha)*sin(alpha + phi)*cos(alpha + 2*phi)**3/eta2**2 - 10*eta1**2*cos(alpha)*cos(alpha - phi)*cos(alpha + 2*phi)**3/eta2**2 - 2*eta1**2*cos(alpha)*cos(alpha + phi)*cos(alpha + 2*phi)**3/eta2**2 + 4*(sin(phi) + cos(alpha + phi))**3*sin(alpha - 2*phi)*sin(alpha + 2*phi) - 2*(sin(phi) + cos(alpha + phi))**3*cos(alpha - 2*phi)*cos(alpha + 2*phi) - 4*(sin(phi) + cos(alpha + phi))**2*sin(alpha - 2*phi)*sin(alpha + phi)*cos(alpha + 2*phi) + 8*(sin(phi) + cos(alpha + phi))**2*cos(alpha - 2*phi)*cos(alpha + phi)*cos(alpha + 2*phi) - 6*(sin(phi) + cos(alpha + phi))*cos(alpha)*cos(alpha - 2*phi)*cos(alpha + 2*phi)**2)**2)/(4*eta1**2*(sin(phi) + cos(alpha + phi))**3*sin(alpha + 2*phi)**2/eta2**2 + 6*eta1**2*(sin(phi) + cos(alpha + phi))**3*cos(alpha + 2*phi)**2/eta2**2 - 16*eta1**2*(sin(phi) + cos(alpha + phi))**2*sin(alpha + phi)*sin(alpha + 2*phi)*cos(alpha + 2*phi)/eta2**2 - 22*eta1**2*(sin(phi) + cos(alpha + phi))**2*cos(alpha + phi)*cos(alpha + 2*phi)**2/eta2**2 + 8*eta1**2*(sin(phi) + cos(alpha + phi))*sin(alpha)*sin(alpha + 2*phi)*cos(alpha + 2*phi)**2/eta2**2 + 12*eta1**2*(sin(phi) + cos(alpha + phi))*sin(alpha + phi)**2*cos(alpha + 2*phi)**2/eta2**2 + 10*eta1**2*(sin(phi) + cos(alpha + phi))*cos(alpha)*cos(alpha + 2*phi)**3/eta2**2 + 16*eta1**2*(sin(phi) + cos(alpha + phi))*cos(alpha + phi)**2*cos(alpha + 2*phi)**2/eta2**2 - 8*eta1**2*sin(alpha)*sin(alpha + phi)*cos(alpha + 2*phi)**3/eta2**2 - 10*eta1**2*cos(alpha)*cos(alpha + phi)*cos(alpha + 2*phi)**3/eta2**2 - 8*(sin(phi) + cos(alpha + phi))**3*sin(alpha - 2*phi)*sin(alpha + 2*phi) + 12*(sin(phi) + cos(alpha + phi))**3*cos(alpha - 2*phi)*cos(alpha + 2*phi) + 8*(sin(phi) + cos(alpha + phi))**2*sin(alpha - 2*phi)*sin(alpha + phi)*cos(alpha + 2*phi) - 32*(sin(phi) + cos(alpha + phi))**2*cos(alpha - 2*phi)*cos(alpha + phi)*cos(alpha + 2*phi) + 20*(sin(phi) + cos(alpha + phi))*cos(alpha)*cos(alpha - 2*phi)*cos(alpha + 2*phi)**2) - (-2*eta1**2*(sin(phi) + cos(alpha + phi))**3*sin(alpha + 2*phi)**2/eta2**2 + 2*eta1**2*(sin(phi) + cos(alpha + phi))**3*cos(alpha + 2*phi)**2/eta2**2 + 4*eta1**2*(sin(phi) + cos(alpha + phi))**2*sin(alpha - phi)*sin(alpha + 2*phi)*cos(alpha + 2*phi)/eta2**2 + 6*eta1**2*(sin(phi) + cos(alpha + phi))**2*sin(alpha + phi)*sin(alpha + 2*phi)*cos(alpha + 2*phi)/eta2**2 - 6*eta1**2*(sin(phi) + cos(alpha + phi))**2*cos(alpha - phi)*cos(alpha + 2*phi)**2/eta2**2 - 6*eta1**2*(sin(phi) + cos(alpha + phi))**2*cos(alpha + phi)*cos(alpha + 2*phi)**2/eta2**2 - 2*eta1**2*(sin(phi) + cos(alpha + phi))*sin(alpha)*sin(alpha + 2*phi)*cos(alpha + 2*phi)**2/eta2**2 - 4*eta1**2*(sin(phi) + cos(alpha + phi))*sin(alpha - phi)*sin(alpha + phi)*cos(alpha + 2*phi)**2/eta2**2 - 4*eta1**2*(sin(phi) + cos(alpha + phi))*sin(alpha + phi)**2*cos(alpha + 2*phi)**2/eta2**2 + 2*eta1**2*(sin(phi) + cos(alpha + phi))*cos(alpha)*cos(alpha + 2*phi)**3/eta2**2 + 16*eta1**2*(sin(phi) + cos(alpha + phi))*cos(alpha - phi)*cos(alpha + phi)*cos(alpha + 2*phi)**2/eta2**2 + 4*eta1**2*(sin(phi) + cos(alpha + phi))*cos(alpha + phi)**2*cos(alpha + 2*phi)**2/eta2**2 + 2*eta1**2*sin(alpha)*sin(alpha + phi)*cos(alpha + 2*phi)**3/eta2**2 - 10*eta1**2*cos(alpha)*cos(alpha - phi)*cos(alpha + 2*phi)**3/eta2**2 - 2*eta1**2*cos(alpha)*cos(alpha + phi)*cos(alpha + 2*phi)**3/eta2**2 + 4*(sin(phi) + cos(alpha + phi))**3*sin(alpha - 2*phi)*sin(alpha + 2*phi) - 2*(sin(phi) + cos(alpha + phi))**3*cos(alpha - 2*phi)*cos(alpha + 2*phi) - 4*(sin(phi) + cos(alpha + phi))**2*sin(alpha - 2*phi)*sin(alpha + phi)*cos(alpha + 2*phi) + 8*(sin(phi) + cos(alpha + phi))**2*cos(alpha - 2*phi)*cos(alpha + phi)*cos(alpha + 2*phi) - 6*(sin(phi) + cos(alpha + phi))*cos(alpha)*cos(alpha - 2*phi)*cos(alpha + 2*phi)**2)/(4*eta1**2*(sin(phi) + cos(alpha + phi))**3*sin(alpha + 2*phi)**2/eta2**2 + 6*eta1**2*(sin(phi) + cos(alpha + phi))**3*cos(alpha + 2*phi)**2/eta2**2 - 16*eta1**2*(sin(phi) + cos(alpha + phi))**2*sin(alpha + phi)*sin(alpha + 2*phi)*cos(alpha + 2*phi)/eta2**2 - 22*eta1**2*(sin(phi) + cos(alpha + phi))**2*cos(alpha + phi)*cos(alpha + 2*phi)**2/eta2**2 + 8*eta1**2*(sin(phi) + cos(alpha + phi))*sin(alpha)*sin(alpha + 2*phi)*cos(alpha + 2*phi)**2/eta2**2 + 12*eta1**2*(sin(phi) + cos(alpha + phi))*sin(alpha + phi)**2*cos(alpha + 2*phi)**2/eta2**2 + 10*eta1**2*(sin(phi) + cos(alpha + phi))*cos(alpha)*cos(alpha + 2*phi)**3/eta2**2 + 16*eta1**2*(sin(phi) + cos(alpha + phi))*cos(alpha + phi)**2*cos(alpha + 2*phi)**2/eta2**2 - 8*eta1**2*sin(alpha)*sin(alpha + phi)*cos(alpha + 2*phi)**3/eta2**2 - 10*eta1**2*cos(alpha)*cos(alpha + phi)*cos(alpha + 2*phi)**3/eta2**2 - 8*(sin(phi) + cos(alpha + phi))**3*sin(alpha - 2*phi)*sin(alpha + 2*phi) + 12*(sin(phi) + cos(alpha + phi))**3*cos(alpha - 2*phi)*cos(alpha + 2*phi) + 8*(sin(phi) + cos(alpha + phi))**2*sin(alpha - 2*phi)*sin(alpha + phi)*cos(alpha + 2*phi) - 32*(sin(phi) + cos(alpha + phi))**2*cos(alpha - 2*phi)*cos(alpha + phi)*cos(alpha + 2*phi) + 20*(sin(phi) + cos(alpha + phi))*cos(alpha)*cos(alpha - 2*phi)*cos(alpha + 2*phi)**2))\n",
      "<lambdifygenerated-2>:3: RuntimeWarning: invalid value encountered in sqrt\n",
      "  return sqrt(-sqrt(-(-2*eta1**2*(sin(phi) + cos(alpha + phi))**3*cos(alpha + 2*phi)**2/eta2**2 - 8*eta1**2*(sin(phi) + cos(alpha + phi))**2*sin(alpha - phi)*sin(alpha + 2*phi)*cos(alpha + 2*phi)/eta2**2 + 4*eta1**2*(sin(phi) + cos(alpha + phi))**2*sin(alpha + phi)*sin(alpha + 2*phi)*cos(alpha + 2*phi)/eta2**2 + 4*eta1**2*(sin(phi) + cos(alpha + phi))**2*cos(alpha - phi)*cos(alpha + 2*phi)**2/eta2**2 + 10*eta1**2*(sin(phi) + cos(alpha + phi))**2*cos(alpha + phi)*cos(alpha + 2*phi)**2/eta2**2 - 4*eta1**2*(sin(phi) + cos(alpha + phi))*sin(alpha)*sin(alpha + 2*phi)*cos(alpha + 2*phi)**2/eta2**2 + 8*eta1**2*(sin(phi) + cos(alpha + phi))*sin(alpha - phi)*sin(alpha + phi)*cos(alpha + 2*phi)**2/eta2**2 - 4*eta1**2*(sin(phi) + cos(alpha + phi))*sin(alpha + phi)**2*cos(alpha + 2*phi)**2/eta2**2 - 6*eta1**2*(sin(phi) + cos(alpha + phi))*cos(alpha)*cos(alpha + 2*phi)**3/eta2**2 - 16*eta1**2*(sin(phi) + cos(alpha + phi))*cos(alpha - phi)*cos(alpha + phi)*cos(alpha + 2*phi)**2/eta2**2 - 8*eta1**2*(sin(phi) + cos(alpha + phi))*cos(alpha + phi)**2*cos(alpha + 2*phi)**2/eta2**2 + 4*eta1**2*sin(alpha)*sin(alpha + phi)*cos(alpha + 2*phi)**3/eta2**2 + 12*eta1**2*cos(alpha)*cos(alpha - phi)*cos(alpha + 2*phi)**3/eta2**2 + 6*eta1**2*cos(alpha)*cos(alpha + phi)*cos(alpha + 2*phi)**3/eta2**2)*(4*eta1**2*(sin(phi) + cos(alpha + phi))**3*sin(alpha + 2*phi)**2/eta2**2 + 6*eta1**2*(sin(phi) + cos(alpha + phi))**3*cos(alpha + 2*phi)**2/eta2**2 - 16*eta1**2*(sin(phi) + cos(alpha + phi))**2*sin(alpha + phi)*sin(alpha + 2*phi)*cos(alpha + 2*phi)/eta2**2 - 22*eta1**2*(sin(phi) + cos(alpha + phi))**2*cos(alpha + phi)*cos(alpha + 2*phi)**2/eta2**2 + 8*eta1**2*(sin(phi) + cos(alpha + phi))*sin(alpha)*sin(alpha + 2*phi)*cos(alpha + 2*phi)**2/eta2**2 + 12*eta1**2*(sin(phi) + cos(alpha + phi))*sin(alpha + phi)**2*cos(alpha + 2*phi)**2/eta2**2 + 10*eta1**2*(sin(phi) + cos(alpha + phi))*cos(alpha)*cos(alpha + 2*phi)**3/eta2**2 + 16*eta1**2*(sin(phi) + cos(alpha + phi))*cos(alpha + phi)**2*cos(alpha + 2*phi)**2/eta2**2 - 8*eta1**2*sin(alpha)*sin(alpha + phi)*cos(alpha + 2*phi)**3/eta2**2 - 10*eta1**2*cos(alpha)*cos(alpha + phi)*cos(alpha + 2*phi)**3/eta2**2 - 8*(sin(phi) + cos(alpha + phi))**3*sin(alpha - 2*phi)*sin(alpha + 2*phi) + 12*(sin(phi) + cos(alpha + phi))**3*cos(alpha - 2*phi)*cos(alpha + 2*phi) + 8*(sin(phi) + cos(alpha + phi))**2*sin(alpha - 2*phi)*sin(alpha + phi)*cos(alpha + 2*phi) - 32*(sin(phi) + cos(alpha + phi))**2*cos(alpha - 2*phi)*cos(alpha + phi)*cos(alpha + 2*phi) + 20*(sin(phi) + cos(alpha + phi))*cos(alpha)*cos(alpha - 2*phi)*cos(alpha + 2*phi)**2) + (-2*eta1**2*(sin(phi) + cos(alpha + phi))**3*sin(alpha + 2*phi)**2/eta2**2 + 2*eta1**2*(sin(phi) + cos(alpha + phi))**3*cos(alpha + 2*phi)**2/eta2**2 + 4*eta1**2*(sin(phi) + cos(alpha + phi))**2*sin(alpha - phi)*sin(alpha + 2*phi)*cos(alpha + 2*phi)/eta2**2 + 6*eta1**2*(sin(phi) + cos(alpha + phi))**2*sin(alpha + phi)*sin(alpha + 2*phi)*cos(alpha + 2*phi)/eta2**2 - 6*eta1**2*(sin(phi) + cos(alpha + phi))**2*cos(alpha - phi)*cos(alpha + 2*phi)**2/eta2**2 - 6*eta1**2*(sin(phi) + cos(alpha + phi))**2*cos(alpha + phi)*cos(alpha + 2*phi)**2/eta2**2 - 2*eta1**2*(sin(phi) + cos(alpha + phi))*sin(alpha)*sin(alpha + 2*phi)*cos(alpha + 2*phi)**2/eta2**2 - 4*eta1**2*(sin(phi) + cos(alpha + phi))*sin(alpha - phi)*sin(alpha + phi)*cos(alpha + 2*phi)**2/eta2**2 - 4*eta1**2*(sin(phi) + cos(alpha + phi))*sin(alpha + phi)**2*cos(alpha + 2*phi)**2/eta2**2 + 2*eta1**2*(sin(phi) + cos(alpha + phi))*cos(alpha)*cos(alpha + 2*phi)**3/eta2**2 + 16*eta1**2*(sin(phi) + cos(alpha + phi))*cos(alpha - phi)*cos(alpha + phi)*cos(alpha + 2*phi)**2/eta2**2 + 4*eta1**2*(sin(phi) + cos(alpha + phi))*cos(alpha + phi)**2*cos(alpha + 2*phi)**2/eta2**2 + 2*eta1**2*sin(alpha)*sin(alpha + phi)*cos(alpha + 2*phi)**3/eta2**2 - 10*eta1**2*cos(alpha)*cos(alpha - phi)*cos(alpha + 2*phi)**3/eta2**2 - 2*eta1**2*cos(alpha)*cos(alpha + phi)*cos(alpha + 2*phi)**3/eta2**2 + 4*(sin(phi) + cos(alpha + phi))**3*sin(alpha - 2*phi)*sin(alpha + 2*phi) - 2*(sin(phi) + cos(alpha + phi))**3*cos(alpha - 2*phi)*cos(alpha + 2*phi) - 4*(sin(phi) + cos(alpha + phi))**2*sin(alpha - 2*phi)*sin(alpha + phi)*cos(alpha + 2*phi) + 8*(sin(phi) + cos(alpha + phi))**2*cos(alpha - 2*phi)*cos(alpha + phi)*cos(alpha + 2*phi) - 6*(sin(phi) + cos(alpha + phi))*cos(alpha)*cos(alpha - 2*phi)*cos(alpha + 2*phi)**2)**2)/(4*eta1**2*(sin(phi) + cos(alpha + phi))**3*sin(alpha + 2*phi)**2/eta2**2 + 6*eta1**2*(sin(phi) + cos(alpha + phi))**3*cos(alpha + 2*phi)**2/eta2**2 - 16*eta1**2*(sin(phi) + cos(alpha + phi))**2*sin(alpha + phi)*sin(alpha + 2*phi)*cos(alpha + 2*phi)/eta2**2 - 22*eta1**2*(sin(phi) + cos(alpha + phi))**2*cos(alpha + phi)*cos(alpha + 2*phi)**2/eta2**2 + 8*eta1**2*(sin(phi) + cos(alpha + phi))*sin(alpha)*sin(alpha + 2*phi)*cos(alpha + 2*phi)**2/eta2**2 + 12*eta1**2*(sin(phi) + cos(alpha + phi))*sin(alpha + phi)**2*cos(alpha + 2*phi)**2/eta2**2 + 10*eta1**2*(sin(phi) + cos(alpha + phi))*cos(alpha)*cos(alpha + 2*phi)**3/eta2**2 + 16*eta1**2*(sin(phi) + cos(alpha + phi))*cos(alpha + phi)**2*cos(alpha + 2*phi)**2/eta2**2 - 8*eta1**2*sin(alpha)*sin(alpha + phi)*cos(alpha + 2*phi)**3/eta2**2 - 10*eta1**2*cos(alpha)*cos(alpha + phi)*cos(alpha + 2*phi)**3/eta2**2 - 8*(sin(phi) + cos(alpha + phi))**3*sin(alpha - 2*phi)*sin(alpha + 2*phi) + 12*(sin(phi) + cos(alpha + phi))**3*cos(alpha - 2*phi)*cos(alpha + 2*phi) + 8*(sin(phi) + cos(alpha + phi))**2*sin(alpha - 2*phi)*sin(alpha + phi)*cos(alpha + 2*phi) - 32*(sin(phi) + cos(alpha + phi))**2*cos(alpha - 2*phi)*cos(alpha + phi)*cos(alpha + 2*phi) + 20*(sin(phi) + cos(alpha + phi))*cos(alpha)*cos(alpha - 2*phi)*cos(alpha + 2*phi)**2) - (-2*eta1**2*(sin(phi) + cos(alpha + phi))**3*sin(alpha + 2*phi)**2/eta2**2 + 2*eta1**2*(sin(phi) + cos(alpha + phi))**3*cos(alpha + 2*phi)**2/eta2**2 + 4*eta1**2*(sin(phi) + cos(alpha + phi))**2*sin(alpha - phi)*sin(alpha + 2*phi)*cos(alpha + 2*phi)/eta2**2 + 6*eta1**2*(sin(phi) + cos(alpha + phi))**2*sin(alpha + phi)*sin(alpha + 2*phi)*cos(alpha + 2*phi)/eta2**2 - 6*eta1**2*(sin(phi) + cos(alpha + phi))**2*cos(alpha - phi)*cos(alpha + 2*phi)**2/eta2**2 - 6*eta1**2*(sin(phi) + cos(alpha + phi))**2*cos(alpha + phi)*cos(alpha + 2*phi)**2/eta2**2 - 2*eta1**2*(sin(phi) + cos(alpha + phi))*sin(alpha)*sin(alpha + 2*phi)*cos(alpha + 2*phi)**2/eta2**2 - 4*eta1**2*(sin(phi) + cos(alpha + phi))*sin(alpha - phi)*sin(alpha + phi)*cos(alpha + 2*phi)**2/eta2**2 - 4*eta1**2*(sin(phi) + cos(alpha + phi))*sin(alpha + phi)**2*cos(alpha + 2*phi)**2/eta2**2 + 2*eta1**2*(sin(phi) + cos(alpha + phi))*cos(alpha)*cos(alpha + 2*phi)**3/eta2**2 + 16*eta1**2*(sin(phi) + cos(alpha + phi))*cos(alpha - phi)*cos(alpha + phi)*cos(alpha + 2*phi)**2/eta2**2 + 4*eta1**2*(sin(phi) + cos(alpha + phi))*cos(alpha + phi)**2*cos(alpha + 2*phi)**2/eta2**2 + 2*eta1**2*sin(alpha)*sin(alpha + phi)*cos(alpha + 2*phi)**3/eta2**2 - 10*eta1**2*cos(alpha)*cos(alpha - phi)*cos(alpha + 2*phi)**3/eta2**2 - 2*eta1**2*cos(alpha)*cos(alpha + phi)*cos(alpha + 2*phi)**3/eta2**2 + 4*(sin(phi) + cos(alpha + phi))**3*sin(alpha - 2*phi)*sin(alpha + 2*phi) - 2*(sin(phi) + cos(alpha + phi))**3*cos(alpha - 2*phi)*cos(alpha + 2*phi) - 4*(sin(phi) + cos(alpha + phi))**2*sin(alpha - 2*phi)*sin(alpha + phi)*cos(alpha + 2*phi) + 8*(sin(phi) + cos(alpha + phi))**2*cos(alpha - 2*phi)*cos(alpha + phi)*cos(alpha + 2*phi) - 6*(sin(phi) + cos(alpha + phi))*cos(alpha)*cos(alpha - 2*phi)*cos(alpha + 2*phi)**2)/(4*eta1**2*(sin(phi) + cos(alpha + phi))**3*sin(alpha + 2*phi)**2/eta2**2 + 6*eta1**2*(sin(phi) + cos(alpha + phi))**3*cos(alpha + 2*phi)**2/eta2**2 - 16*eta1**2*(sin(phi) + cos(alpha + phi))**2*sin(alpha + phi)*sin(alpha + 2*phi)*cos(alpha + 2*phi)/eta2**2 - 22*eta1**2*(sin(phi) + cos(alpha + phi))**2*cos(alpha + phi)*cos(alpha + 2*phi)**2/eta2**2 + 8*eta1**2*(sin(phi) + cos(alpha + phi))*sin(alpha)*sin(alpha + 2*phi)*cos(alpha + 2*phi)**2/eta2**2 + 12*eta1**2*(sin(phi) + cos(alpha + phi))*sin(alpha + phi)**2*cos(alpha + 2*phi)**2/eta2**2 + 10*eta1**2*(sin(phi) + cos(alpha + phi))*cos(alpha)*cos(alpha + 2*phi)**3/eta2**2 + 16*eta1**2*(sin(phi) + cos(alpha + phi))*cos(alpha + phi)**2*cos(alpha + 2*phi)**2/eta2**2 - 8*eta1**2*sin(alpha)*sin(alpha + phi)*cos(alpha + 2*phi)**3/eta2**2 - 10*eta1**2*cos(alpha)*cos(alpha + phi)*cos(alpha + 2*phi)**3/eta2**2 - 8*(sin(phi) + cos(alpha + phi))**3*sin(alpha - 2*phi)*sin(alpha + 2*phi) + 12*(sin(phi) + cos(alpha + phi))**3*cos(alpha - 2*phi)*cos(alpha + 2*phi) + 8*(sin(phi) + cos(alpha + phi))**2*sin(alpha - 2*phi)*sin(alpha + phi)*cos(alpha + 2*phi) - 32*(sin(phi) + cos(alpha + phi))**2*cos(alpha - 2*phi)*cos(alpha + phi)*cos(alpha + 2*phi) + 20*(sin(phi) + cos(alpha + phi))*cos(alpha)*cos(alpha - 2*phi)*cos(alpha + 2*phi)**2))\n",
      "/var/folders/z1/v9g3442s1hn29m34fht7zq8h0000gn/T/ipykernel_76042/2394010678.py:58: RuntimeWarning: invalid value encountered in sqrt\n",
      "  r = B1**2*np.sqrt(n/d)\n"
     ]
    },
    {
     "data": {
      "text/plain": [
       "(-0.01, 0.01)"
      ]
     },
     "execution_count": 294,
     "metadata": {},
     "output_type": "execute_result"
    },
    {
     "data": {
      "image/png": "[encoded data removed]",
      "text/plain": [
       "<Figure size 640x480 with 1 Axes>"
      ]
     },
     "metadata": {},
     "output_type": "display_data"
    }
   ],
   "source": [
    "plt.plot(phi,F_DET_RP(phi,(alpha,eta1,eta2))-get_R_Det0(phi,alpha,eta1,eta2,APM=APM,sign=1,R_sign=1),color='red')\n",
    "plt.plot(phi,F_DET_RM(phi,(alpha,eta1,eta2))-get_R_Det0(phi,alpha,eta1,eta2,APM=APM,sign=1,R_sign=-1),color='red')\n",
    "plt.plot(phi,F_DET_RM(phi,(alpha,eta1,eta2))-get_R_Trace0(phi,alpha,eta1,eta2,APM=APM,sign=1,R_sign=-1),)\n",
    "plt.ylim(-1e-2,1e-2)\n",
    "# plt.plot(phi,get_R_Det0(phi,alpha,eta1,eta2,APM=APM,sign=1,R_sign=1))\n",
    "# plt.plot(phi,get_R_Det0(phi,alpha,eta1,eta2,APM=APM,sign=1,R_sign=-1))"
   ]
  },
  {
   "cell_type": "code",
   "execution_count": null,
   "metadata": {},
   "outputs": [],
   "source": [
    "\n",
    "\n",
    "\n",
    "B = eta1/eta2\n",
    "# Apm = np.cos(alpha+phi) + (np.sin(phi))\n",
    "SA = np.sin(alpha)\n",
    "CA = np.cos(alpha)\n",
    "SA_P1P = np.sin(alpha + phi)\n",
    "SA_P2P = np.sin(alpha +2*phi)\n",
    "CA_P1P = np.cos(alpha + phi)\n",
    "CA_P2P = np.cos(alpha +2*phi)\n",
    "SA_M1P = np.sin(alpha -phi)\n",
    "SA_M2P = np.sin(alpha -2*phi)\n",
    "CA_M1P = np.cos(alpha -phi)\n",
    "CA_M2P = np.cos(alpha -2*phi)\n",
    "\n",
    "A_DDA3 = 4*B**2*SA_P2P**2 + 6*B**2*CA_P2P**2 - 8*SA_M2P*SA_P2P + 12*CA_M2P*CA_P2P\n",
    "A_DDA2 = -16*B**2*SA_P1P*SA_P2P*CA_P2P - 22*B**2*CA_P1P*CA_P2P**2 + 8*SA_M2P*SA_P1P*CA_P2P - 32*CA_M2P*CA_P1P*CA_P2P\n",
    "A_DDA1 = 8*B**2*SA*SA_P2P*CA_P2P**2 + 12*B**2*SA_P1P**2*CA_P2P**2 + 10*B**2*CA*CA_P2P**3 + 16*B**2*CA_P1P**2*CA_P2P**2 + 20*CA*CA_M2P*CA_P2P**2\n",
    "A_DD0 = B**2*(-8*SA*SA_P1P*CA_P2P**3 - 10*CA*CA_P1P*CA_P2P**3)\n",
    "B_DDA3 = B**2*(-SA_P2P**2 + CA_P2P**2) + 2*SA_M2P*SA_P2P - CA_M2P*CA_P2P\n",
    "B_DDA2 = B**2*(2*SA_M1P*SA_P2P*CA_P2P + 3*SA_P1P*SA_P2P*CA_P2P - 3*CA_M1P*CA_P2P**2 - 3*CA_P1P*CA_P2P**2) - 2*SA_M2P*SA_P1P*CA_P2P + 4*CA_M2P*CA_P1P*CA_P2P\n",
    "B_DDA1 = B**2*(-SA*SA_P2P*CA_P2P**2 - 2*SA_M1P*SA_P1P*CA_P2P**2 - 2*SA_P1P**2*CA_P2P**2 + CA*CA_P2P**3 + 8*CA_M1P*CA_P1P*CA_P2P**2 + 2*CA_P1P**2*CA_P2P**2) - 3*CA*CA_M2P*CA_P2P**2\n",
    "B_DD0 = B**2*(SA*SA_P1P*CA_P2P**3 - 5*CA*CA_M1P*CA_P2P**3 - CA*CA_P1P*CA_P2P**3)\n",
    "C_DDA3 = -2*CA_P2P**2\n",
    "C_DDA2 = -8*SA_M1P*SA_P2P*CA_P2P + 4*SA_P1P*SA_P2P*CA_P2P + 4*CA_M1P*CA_P2P**2 + 10*CA_P1P*CA_P2P**2\n",
    "C_DDA1 = -4*SA*SA_P2P*CA_P2P**2 + 8*SA_M1P*SA_P1P*CA_P2P**2 - 4*SA_P1P**2*CA_P2P**2 - 6*CA*CA_P2P**3 - 16*CA_M1P*CA_P1P*CA_P2P**2 - 8*CA_P1P**2*CA_P2P**2\n",
    "C_DD0 = 4*SA*SA_P1P*CA_P2P**3 + 12*CA*CA_M1P*CA_P2P**3 + 6*CA*CA_P1P*CA_P2P**3\n",
    "A_Delta = A_DD0 + A_DDA3*Apm**3 + A_DDA2*Apm**2 + A_DDA1*Apm\n",
    "B_Delta = (B_DD0 + B_DDA3*Apm**3 + B_DDA2*Apm**2 + B_DDA1*Apm)*2\n",
    "C_Delta = (C_DD0 + C_DDA3*Apm**3 + C_DDA2*Apm**2 + C_DDA1*Apm)*B**2\n",
    "\n",
    "R1_DET = np.sqrt(-B_Delta/A_Delta + np.sqrt(-A_Delta*C_Delta + B_Delta**2)/A_Delta)\n",
    "R2_DET = np.sqrt(-B_Delta/A_Delta - np.sqrt(-A_Delta*C_Delta + B_Delta**2)/A_Delta)\n"
   ]
  },
  {
   "cell_type": "code",
   "execution_count": null,
   "metadata": {},
   "outputs": [],
   "source": [
    "# plt.plot(phi,np.sqrt(R2))\n",
    "# plt.plot(phi,np.sqrt(R1))\n",
    "\n",
    "plt.plot(phi,R1_DET - np.sqrt(R1))\n",
    "plt.plot(phi,R2_DET - np.sqrt(R1))\n",
    "\n",
    "plt.plot(phi,R1_DET - np.sqrt(R2))\n",
    "plt.plot(phi,R2_DET - np.sqrt(R2))\n",
    "\n",
    "\n",
    "plt.xticks([0,np.pi,np.pi*2,np.pi*3],['0',r'$\\pi$',r'$2\\pi$',r'$3\\pi$'])\n",
    "plt.ylabel(r'$r$')\n",
    "plt.xlabel(r'$\\phi$')\n",
    "plt.title(rf'$\\alpha={alpha}$')\n",
    "# plt.axvline(np.pi)\n",
    "plt.ylim(-0.1,1)\n",
    "plt.axhline(0)\n",
    "# plt.axvline(np.pi/2)\n",
    "# plt.axvline(np.pi/2)\n",
    "# plt.axhline(r)"
   ]
  },
  {
   "cell_type": "code",
   "execution_count": null,
   "metadata": {},
   "outputs": [],
   "source": []
  }
 ],
 "metadata": {
  "kernelspec": {
   "display_name": "Python 3",
   "language": "python",
   "name": "python3"
  },
  "language_info": {
   "codemirror_mode": {
    "name": "ipython",
    "version": 3
   },
   "file_extension": ".py",
   "mimetype": "text/x-python",
   "name": "python",
   "nbconvert_exporter": "python",
   "pygments_lexer": "ipython3",
   "version": "3.11.9"
  }
 },
 "nbformat": 4,
 "nbformat_minor": 2
}
