{
 "cells": [
  {
   "cell_type": "code",
   "execution_count": 1,
   "metadata": {},
   "outputs": [],
   "source": [
    "from sympy import *"
   ]
  },
  {
   "cell_type": "code",
   "execution_count": 57,
   "metadata": {},
   "outputs": [],
   "source": [
    "H,Hs = symbols('H H^*',complex=True)\n",
    "theta,t,alpha,n,omega,eta,K = symbols('theta t alpha n omega eta K')\n",
    "a = Function('a')('t')\n",
    "a_s = Function('a^*')('t')\n",
    "b = Function('b')('t')\n",
    "b_s = Function('b^*')('t')\n",
    "A = Sum((b**(2*n-1)*E**((2*n-1)*I*theta)),(n,1,8)).doit()\n",
    "As = Sum((b_s**(2*n-1)*E**(-(2*n-1)*I*theta)),(n,1,8)).doit()\n",
    "\n",
    "# A = Sum((b**(n)*E**((2*n-1)*I*theta)),(n,1,8)).doit()\n",
    "# As = Sum((b_s**(n)*E**(-(2*n-1)*I*theta)),(n,1,8)).doit()\n",
    "\n",
    "\n",
    "# B = Sum((b*E**(2*I*theta))**n,(n,1,8)).doit()\n",
    "# Bs = Sum((b_s*E**(-2*I*theta))**n,(n,1,8)).doit()\n",
    "f = 1/(2*pi) * (1+(A+As))#+B+Bs))\n",
    "f = 1/(2*pi) * ((A+As))#+B+Bs))\n",
    "v = omega + K/(2*I) * (H*E**(-I*(2*theta))-Hs*E**(I*(2*theta)))"
   ]
  },
  {
   "cell_type": "code",
   "execution_count": 58,
   "metadata": {},
   "outputs": [
    {
     "data": {
      "text/latex": [
       "$\\displaystyle - \\frac{17 H K \\left(b^{*}\\right)^{8}}{4 \\pi \\left(e^{1.0 i \\theta}\\right)^{17.0}} - \\frac{17 H^{*} K b^{8} \\left(e^{1.0 i \\theta}\\right)^{17.0}}{4 \\pi} + \\frac{- \\frac{15 H K \\left(b^{*}\\right)^{7}}{4 \\pi} - \\frac{15 i \\left(b^{*}\\right)^{8} \\omega}{2 \\pi} + \\frac{4 \\left(b^{*}\\right)^{7} \\frac{d}{d t} b^{*}}{\\pi}}{\\left(e^{1.0 i \\theta}\\right)^{15.0}} + \\left(- \\frac{15 H^{*} K b^{7}}{4 \\pi} + \\frac{4 \\dot{b} b^{7}}{\\pi} + \\frac{15 i b^{8} \\omega}{2 \\pi}\\right) \\left(e^{1.0 i \\theta}\\right)^{15.0} + \\frac{- \\frac{H K b}{4 \\pi} + \\frac{H^{*} K \\left(b^{*}\\right)^{2}}{4 \\pi} - \\frac{i b^{*} \\omega}{2 \\pi} + \\frac{\\frac{d}{d t} b^{*}}{2 \\pi}}{\\left(e^{1.0 i \\theta}\\right)^{1.0}} + \\left(\\frac{H K b^{2}}{4 \\pi} - \\frac{H^{*} K b^{*}}{4 \\pi} + \\frac{\\dot{b}}{2 \\pi} + \\frac{i b \\omega}{2 \\pi}\\right) \\left(e^{1.0 i \\theta}\\right)^{1.0} + \\left(\\frac{3 H K b^{3}}{4 \\pi} - \\frac{3 H^{*} K b}{4 \\pi} + \\frac{\\dot{b} b}{\\pi} + \\frac{3 i b^{2} \\omega}{2 \\pi}\\right) \\left(e^{1.0 i \\theta}\\right)^{3.0} + \\left(\\frac{5 H K b^{4}}{4 \\pi} - \\frac{5 H^{*} K b^{2}}{4 \\pi} + \\frac{3 \\dot{b} b^{2}}{2 \\pi} + \\frac{5 i b^{3} \\omega}{2 \\pi}\\right) \\left(e^{1.0 i \\theta}\\right)^{5.0} + \\left(\\frac{7 H K b^{5}}{4 \\pi} - \\frac{7 H^{*} K b^{3}}{4 \\pi} + \\frac{2 \\dot{b} b^{3}}{\\pi} + \\frac{7 i b^{4} \\omega}{2 \\pi}\\right) \\left(e^{1.0 i \\theta}\\right)^{7.0} + \\left(\\frac{9 H K b^{6}}{4 \\pi} - \\frac{9 H^{*} K b^{4}}{4 \\pi} + \\frac{5 \\dot{b} b^{4}}{2 \\pi} + \\frac{9 i b^{5} \\omega}{2 \\pi}\\right) \\left(e^{1.0 i \\theta}\\right)^{9.0} + \\left(\\frac{11 H K b^{7}}{4 \\pi} - \\frac{11 H^{*} K b^{5}}{4 \\pi} + \\frac{3 \\dot{b} b^{5}}{\\pi} + \\frac{11 i b^{6} \\omega}{2 \\pi}\\right) \\left(e^{1.0 i \\theta}\\right)^{11.0} + \\left(\\frac{13 H K b^{8}}{4 \\pi} - \\frac{13 H^{*} K b^{6}}{4 \\pi} + \\frac{7 \\dot{b} b^{6}}{2 \\pi} + \\frac{13 i b^{7} \\omega}{2 \\pi}\\right) \\left(e^{1.0 i \\theta}\\right)^{13.0} + \\frac{- \\frac{3 H K b^{*}}{4 \\pi} + \\frac{3 H^{*} K \\left(b^{*}\\right)^{3}}{4 \\pi} - \\frac{3 i \\left(b^{*}\\right)^{2} \\omega}{2 \\pi} + \\frac{b^{*} \\frac{d}{d t} b^{*}}{\\pi}}{\\left(e^{1.0 i \\theta}\\right)^{3.0}} + \\frac{- \\frac{5 H K \\left(b^{*}\\right)^{2}}{4 \\pi} + \\frac{5 H^{*} K \\left(b^{*}\\right)^{4}}{4 \\pi} - \\frac{5 i \\left(b^{*}\\right)^{3} \\omega}{2 \\pi} + \\frac{3 \\left(b^{*}\\right)^{2} \\frac{d}{d t} b^{*}}{2 \\pi}}{\\left(e^{1.0 i \\theta}\\right)^{5.0}} + \\frac{- \\frac{7 H K \\left(b^{*}\\right)^{3}}{4 \\pi} + \\frac{7 H^{*} K \\left(b^{*}\\right)^{5}}{4 \\pi} - \\frac{7 i \\left(b^{*}\\right)^{4} \\omega}{2 \\pi} + \\frac{2 \\left(b^{*}\\right)^{3} \\frac{d}{d t} b^{*}}{\\pi}}{\\left(e^{1.0 i \\theta}\\right)^{7.0}} + \\frac{- \\frac{9 H K \\left(b^{*}\\right)^{4}}{4 \\pi} + \\frac{9 H^{*} K \\left(b^{*}\\right)^{6}}{4 \\pi} - \\frac{9 i \\left(b^{*}\\right)^{5} \\omega}{2 \\pi} + \\frac{5 \\left(b^{*}\\right)^{4} \\frac{d}{d t} b^{*}}{2 \\pi}}{\\left(e^{1.0 i \\theta}\\right)^{9.0}} + \\frac{- \\frac{11 H K \\left(b^{*}\\right)^{5}}{4 \\pi} + \\frac{11 H^{*} K \\left(b^{*}\\right)^{7}}{4 \\pi} - \\frac{11 i \\left(b^{*}\\right)^{6} \\omega}{2 \\pi} + \\frac{3 \\left(b^{*}\\right)^{5} \\frac{d}{d t} b^{*}}{\\pi}}{\\left(e^{1.0 i \\theta}\\right)^{11.0}} + \\frac{- \\frac{13 H K \\left(b^{*}\\right)^{6}}{4 \\pi} + \\frac{13 H^{*} K \\left(b^{*}\\right)^{8}}{4 \\pi} - \\frac{13 i \\left(b^{*}\\right)^{7} \\omega}{2 \\pi} + \\frac{7 \\left(b^{*}\\right)^{6} \\frac{d}{d t} b^{*}}{2 \\pi}}{\\left(e^{1.0 i \\theta}\\right)^{13.0}}$"
      ],
      "text/plain": [
       "-17*H*K*b^***8/(4*pi*exp(1.0*I*theta)**17.0) - 17*H^**K*b**8*exp(1.0*I*theta)**17.0/(4*pi) + (-15*H*K*b^***7/(4*pi) - 15*I*b^***8*omega/(2*pi) + 4*b^***7*Derivative(b^*, t)/pi)/exp(1.0*I*theta)**15.0 + (-15*H^**K*b**7/(4*pi) + 4*\\dot{b}*b**7/pi + 15*I*b**8*omega/(2*pi))*exp(1.0*I*theta)**15.0 + (-H*K*b/(4*pi) + H^**K*b^***2/(4*pi) - I*b^**omega/(2*pi) + Derivative(b^*, t)/(2*pi))/exp(1.0*I*theta)**1.0 + (H*K*b**2/(4*pi) - H^**K*b^*/(4*pi) + \\dot{b}/(2*pi) + I*b*omega/(2*pi))*exp(1.0*I*theta)**1.0 + (3*H*K*b**3/(4*pi) - 3*H^**K*b/(4*pi) + \\dot{b}*b/pi + 3*I*b**2*omega/(2*pi))*exp(1.0*I*theta)**3.0 + (5*H*K*b**4/(4*pi) - 5*H^**K*b**2/(4*pi) + 3*\\dot{b}*b**2/(2*pi) + 5*I*b**3*omega/(2*pi))*exp(1.0*I*theta)**5.0 + (7*H*K*b**5/(4*pi) - 7*H^**K*b**3/(4*pi) + 2*\\dot{b}*b**3/pi + 7*I*b**4*omega/(2*pi))*exp(1.0*I*theta)**7.0 + (9*H*K*b**6/(4*pi) - 9*H^**K*b**4/(4*pi) + 5*\\dot{b}*b**4/(2*pi) + 9*I*b**5*omega/(2*pi))*exp(1.0*I*theta)**9.0 + (11*H*K*b**7/(4*pi) - 11*H^**K*b**5/(4*pi) + 3*\\dot{b}*b**5/pi + 11*I*b**6*omega/(2*pi))*exp(1.0*I*theta)**11.0 + (13*H*K*b**8/(4*pi) - 13*H^**K*b**6/(4*pi) + 7*\\dot{b}*b**6/(2*pi) + 13*I*b**7*omega/(2*pi))*exp(1.0*I*theta)**13.0 + (-3*H*K*b^*/(4*pi) + 3*H^**K*b^***3/(4*pi) - 3*I*b^***2*omega/(2*pi) + b^**Derivative(b^*, t)/pi)/exp(1.0*I*theta)**3.0 + (-5*H*K*b^***2/(4*pi) + 5*H^**K*b^***4/(4*pi) - 5*I*b^***3*omega/(2*pi) + 3*b^***2*Derivative(b^*, t)/(2*pi))/exp(1.0*I*theta)**5.0 + (-7*H*K*b^***3/(4*pi) + 7*H^**K*b^***5/(4*pi) - 7*I*b^***4*omega/(2*pi) + 2*b^***3*Derivative(b^*, t)/pi)/exp(1.0*I*theta)**7.0 + (-9*H*K*b^***4/(4*pi) + 9*H^**K*b^***6/(4*pi) - 9*I*b^***5*omega/(2*pi) + 5*b^***4*Derivative(b^*, t)/(2*pi))/exp(1.0*I*theta)**9.0 + (-11*H*K*b^***5/(4*pi) + 11*H^**K*b^***7/(4*pi) - 11*I*b^***6*omega/(2*pi) + 3*b^***5*Derivative(b^*, t)/pi)/exp(1.0*I*theta)**11.0 + (-13*H*K*b^***6/(4*pi) + 13*H^**K*b^***8/(4*pi) - 13*I*b^***7*omega/(2*pi) + 7*b^***6*Derivative(b^*, t)/(2*pi))/exp(1.0*I*theta)**13.0"
      ]
     },
     "execution_count": 58,
     "metadata": {},
     "output_type": "execute_result"
    }
   ],
   "source": [
    "col_"
   ]
  },
  {
   "cell_type": "code",
   "execution_count": 59,
   "metadata": {},
   "outputs": [
    {
     "data": {
      "text/plain": [
       "(3*H*K*b**5/(4*pi) - 3*H^**K*b/(4*pi) + 3*\\dot{b}*b**2/(2*pi) + 3*I*b**3*omega/(2*pi),\n",
       " 5*H*K*b**7/(4*pi) - 5*H^**K*b**3/(4*pi) + 5*\\dot{b}*b**4/(2*pi) + 5*I*b**5*omega/(2*pi),\n",
       " H*K*b**3/(4*pi) - H^**K*b^*/(4*pi) + \\dot{b}/(2*pi) + I*b*omega/(2*pi))"
      ]
     },
     "execution_count": 59,
     "metadata": {},
     "output_type": "execute_result"
    }
   ],
   "source": [
    "\n",
    "t = symbols('t')\n",
    "b = Function('b')(t)\n",
    "bs = Function('b^*')(t)\n",
    "b_dot = Derivative(b, t)\n",
    "\n",
    "# Replace b(t) with b and d/dt (b(t)) with \\dot{b}\n",
    "C = together(f.diff(t)+(f*v).diff(theta)).expand().subs({b: symbols('b'),bs:symbols('b^*'), b_dot: symbols(r'\\dot{b}')})\n",
    "col_ = collect(C,E**(1j*theta))\n",
    "col_\n",
    "coeff_7 = C.coeff(E**(7*I*theta))\n",
    "coeff_5 = C.coeff(E**(5*I*theta))\n",
    "coeff_3 = C.coeff(E**(3*I*theta))\n",
    "coeff_1 = C.coeff(E**(1*I*theta))\n",
    "\n",
    "coeff_3, coeff_5, coeff_1"
   ]
  },
  {
   "cell_type": "code",
   "execution_count": 69,
   "metadata": {},
   "outputs": [
    {
     "name": "stdout",
     "output_type": "stream",
     "text": [
      "\\frac{3 b \\left(H K b^{4} - H^{*} K + 2 \\dot{b} b + 2 i b^{2} \\omega\\right)}{4}\n"
     ]
    }
   ],
   "source": [
    "print_latex((pi * coeff_3).simplify())"
   ]
  },
  {
   "cell_type": "code",
   "execution_count": 77,
   "metadata": {},
   "outputs": [
    {
     "data": {
      "text/latex": [
       "$\\displaystyle \\frac{7 b^{5} \\left(H K b^{4} - H^{*} K + 2 \\dot{b} b + 2 i b^{2} \\omega\\right)}{4 \\pi}$"
      ],
      "text/plain": [
       "7*b**5*(H*K*b**4 - H^**K + 2*\\dot{b}*b + 2*I*b**2*omega)/(4*pi)"
      ]
     },
     "execution_count": 77,
     "metadata": {},
     "output_type": "execute_result"
    }
   ],
   "source": [
    "coeff_7.simplify()"
   ]
  },
  {
   "cell_type": "markdown",
   "metadata": {},
   "source": [
    "Odd term은 다음과 같이 요소가 겹치진 않는다."
   ]
  },
  {
   "cell_type": "code",
   "execution_count": null,
   "metadata": {},
   "outputs": [],
   "source": []
  },
  {
   "cell_type": "code",
   "execution_count": 29,
   "metadata": {},
   "outputs": [
    {
     "data": {
      "text/latex": [
       "$\\displaystyle \\frac{H b^{3} - H^{*} b^{*} + 2 \\dot{b} + 2 i b \\omega}{4 \\pi}$"
      ],
      "text/plain": [
       "(H*b**3 - H^**b^* + 2*\\dot{b} + 2*I*b*omega)/(4*pi)"
      ]
     },
     "execution_count": 29,
     "metadata": {},
     "output_type": "execute_result"
    }
   ],
   "source": [
    "from sympy import symbols, Function, Derivative\n",
    "\n",
    "# Define the symbols and functions\n",
    "t = symbols('t')\n",
    "b = Function('b')(t)\n",
    "bs = Function('b^*')(t)\n",
    "b_dot = Derivative(b, t)\n",
    "\n",
    "# Replace b(t) with b and d/dt (b(t)) with \\dot{b}\n",
    "coeff_1_simplified = coeff_1.simplify().subs({b: symbols('b'),bs:symbols('b^*'), b_dot: symbols(r'\\dot{b}')})\n",
    "coeff_1_simplified"
   ]
  },
  {
   "cell_type": "code",
   "execution_count": 33,
   "metadata": {},
   "outputs": [
    {
     "data": {
      "text/latex": [
       "$\\displaystyle \\frac{7 b^{4}}{3}$"
      ],
      "text/plain": [
       "7*b**4/3"
      ]
     },
     "execution_count": 33,
     "metadata": {},
     "output_type": "execute_result"
    }
   ],
   "source": [
    "# Find the factor that when multiplied with coeff_1 gives coeff_3\n",
    "factor = simplify(coeff_7 / coeff_3)\n",
    "factor"
   ]
  },
  {
   "cell_type": "markdown",
   "metadata": {},
   "source": [
    "# Check even term"
   ]
  },
  {
   "cell_type": "code",
   "execution_count": null,
   "metadata": {},
   "outputs": [],
   "source": [
    "H,Hs = symbols('H H^*',complex=True)\n",
    "theta,t,n = symbols('theta t n')\n",
    "alpha,beta,omega,eta = symbols('alpha beta omega eta',real=True)\n",
    "a = Function('a')('t')\n",
    "a_s = Function('a^*')('t')\n",
    "b = Function('b')('t')\n",
    "b_s = Function('b^*')('t')\n",
    "A = Sum((a**n*E**((2*n-1)*I*theta)),(n,1,6)).doit()\n",
    "As = Sum((a_s**n*E**(-(2*n-1)*I*theta)),(n,1,6)).doit()\n",
    "B = Sum((b*E**(2*I*theta))**n,(n,1,6)).doit()\n",
    "Bs = Sum((b_s*E**(-2*I*theta))**n,(n,1,6)).doit()\n",
    "f = 1/(2*pi) * (1+(B+Bs))\n",
    "v = omega + 1/(2*I) * (H*E**(-I*(2*theta+alpha))-Hs*E**(I*(2*theta+alpha)))"
   ]
  },
  {
   "cell_type": "code",
   "execution_count": null,
   "metadata": {},
   "outputs": [
    {
     "data": {
      "text/plain": [
       "(3*H*b(t)**4*exp(-I*alpha)/(2*pi) - 3*H^**b(t)**2*exp(I*alpha)/(2*pi) + 3*I*omega*b(t)**3/pi + 3*b(t)**2*Derivative(b(t), t)/(2*pi),\n",
       " H*b(t)**2*exp(-I*alpha)/(2*pi) - H^**exp(I*alpha)/(2*pi) + I*omega*b(t)/pi + Derivative(b(t), t)/(2*pi),\n",
       " H*b(t)**3*exp(-I*alpha)/pi - H^**b(t)*exp(I*alpha)/pi + 2*I*omega*b(t)**2/pi + b(t)*Derivative(b(t), t)/pi)"
      ]
     },
     "metadata": {},
     "output_type": "display_data"
    }
   ],
   "source": [
    "C = together(f.diff(t)+(f*v).diff(theta)).expand()\n",
    "col_ = collect(C,E**(1j*theta))\n",
    "col_\n",
    "coeff_4 = C.coeff(E**(4*I*theta))\n",
    "coeff_2 = C.coeff(E**(2*I*theta))\n",
    "coeff_6 = C.coeff(E**(6*I*theta))\n",
    "\n",
    "coeff_6, coeff_2, coeff_4"
   ]
  },
  {
   "cell_type": "code",
   "execution_count": 89,
   "metadata": {},
   "outputs": [
    {
     "data": {
      "text/latex": [
       "$\\displaystyle {a}_{{i}_{0\\mathrel{..}\\nobreak 1}}$"
      ],
      "text/plain": [
       "a[i]"
      ]
     },
     "execution_count": 89,
     "metadata": {},
     "output_type": "execute_result"
    }
   ],
   "source": [
    "from sympy import symbols, Function, IndexedBase, Idx\n",
    "\n",
    "# Define the symbols and indexed base\n",
    "t = symbols('t')\n",
    "a = IndexedBase('a')\n",
    "i = Idx('i', 2)  # Define the index with range 2 (for a_1 and a_2)\n",
    "\n",
    "# Define the indexed functions\n",
    "a_i = a[i]\n",
    "a_i"
   ]
  },
  {
   "cell_type": "markdown",
   "metadata": {},
   "source": [
    "# 일반항"
   ]
  },
  {
   "cell_type": "code",
   "execution_count": 147,
   "metadata": {},
   "outputs": [],
   "source": [
    "H,Hs = symbols('H H^*',complex=True)\n",
    "theta,t,alpha,n,omega,eta,K = symbols('theta t alpha n omega eta K')\n",
    "a = Function('a')('t')\n",
    "a_s = Function('a^*')('t')\n",
    "\n",
    "n_ = 20  # 원하는 함수 개수\n",
    "a_n = [Function(f'a_{i}')(t) for i in range(1, n_+1)]\n",
    "as_n = [Function(f'a^*_{i}')(t) for i in range(1, n_+1)]\n",
    "\n",
    "\n",
    "# A = Sum((b**(2*n-1)*E**((2*n-1)*I*theta)),(n,1,8)).doit()\n",
    "# As = Sum((b_s**(2*n-1)*E**(-(2*n-1)*I*theta)),(n,1,8)).doit()\n",
    "A = 0\n",
    "As = 0\n",
    "for n in range(1,8):\n",
    "    A += Function(f'a_{n}')(t) * E**(n*I*theta)\n",
    "    As += Function(f'a^*_{n}')(t) * E**(-n*I*theta)\n",
    "\n",
    "# Sum((a_n[n]*E**((n)*I*theta)),(n,1,8)).doit()\n",
    "# As = Sum((as_n[n]*E**(-(n)*I*theta)),(n,1,8)).doit()\n",
    "\n",
    "# A = Sum((b**(n)*E**((2*n-1)*I*theta)),(n,1,8)).doit()\n",
    "# As = Sum((b_s**(n)*E**(-(2*n-1)*I*theta)),(n,1,8)).doit()\n",
    "\n",
    "\n",
    "# B = Sum((b*E**(2*I*theta))**n,(n,1,8)).doit()\n",
    "# Bs = Sum((b_s*E**(-2*I*theta))**n,(n,1,8)).doit()\n",
    "f = 1/(2*pi) * (1+(A+As))#+B+Bs))\n",
    "# f = 1/(2*pi) * ((A+As))#+B+Bs))\n",
    "v = omega + K/(2*I) * (H*E**(-I*(2*theta))-Hs*E**(I*(2*theta)))"
   ]
  },
  {
   "cell_type": "code",
   "execution_count": 148,
   "metadata": {},
   "outputs": [
    {
     "data": {
      "text/latex": [
       "$\\displaystyle a_{1}{\\left(t \\right)} e^{i \\theta} + a_{2}{\\left(t \\right)} e^{2 i \\theta} + a_{3}{\\left(t \\right)} e^{3 i \\theta} + a_{4}{\\left(t \\right)} e^{4 i \\theta} + a_{5}{\\left(t \\right)} e^{5 i \\theta} + a_{6}{\\left(t \\right)} e^{6 i \\theta} + a_{7}{\\left(t \\right)} e^{7 i \\theta}$"
      ],
      "text/plain": [
       "a_1(t)*exp(I*theta) + a_2(t)*exp(2*I*theta) + a_3(t)*exp(3*I*theta) + a_4(t)*exp(4*I*theta) + a_5(t)*exp(5*I*theta) + a_6(t)*exp(6*I*theta) + a_7(t)*exp(7*I*theta)"
      ]
     },
     "execution_count": 148,
     "metadata": {},
     "output_type": "execute_result"
    }
   ],
   "source": [
    "A"
   ]
  },
  {
   "cell_type": "code",
   "execution_count": 149,
   "metadata": {},
   "outputs": [],
   "source": [
    "subs = {}\n",
    "for n in range(1,10):\n",
    "    subs[Function(f'a_{n}')(t)] = symbols(f'a_{n}')\n",
    "    subs[Function(f'a_{n}')(t).diff(t)] = symbols(rf'\\dot{{a}}_{n}')\n",
    "\n",
    "    subs[Function(f'a^*_{n}')(t)] = symbols(f'a^*_{n}')\n",
    "    subs[Function(f'a^*_{n}')(t).diff(t)] = symbols(rf'\\dot{{a^*}}_{n}')\n"
   ]
  },
  {
   "cell_type": "code",
   "execution_count": 150,
   "metadata": {},
   "outputs": [],
   "source": [
    "C = together(f.diff(t)+(f*v).diff(theta)).expand().subs(subs)\n",
    "col_ = collect(C,E**(1j*theta))\n",
    "col_\n",
    "\n",
    "def get_coeff(i):\n",
    "    co = C.coeff(E**(i*I*theta))\n",
    "    return co\n",
    "# coeff_2 = C.coeff(E**(2*I*theta))\n",
    "# coeff_4 = C.coeff(E**(4*I*theta))\n",
    "# coeff_6 = C.coeff(E**(6*I*theta))\n",
    "\n"
   ]
  },
  {
   "cell_type": "code",
   "execution_count": 164,
   "metadata": {},
   "outputs": [
    {
     "data": {
      "text/latex": [
       "$\\displaystyle \\frac{- H K a^{*}_{2} + H^{*} K a^{*}_{6} + \\frac{\\dot{a^*}_4}{2} - 2 i a^{*}_{4} \\omega}{\\pi}$"
      ],
      "text/plain": [
       "(-H*K*a^*_2 + H^**K*a^*_6 + \\dot{a^*}_4/2 - 2*I*a^*_4*omega)/pi"
      ]
     },
     "execution_count": 164,
     "metadata": {},
     "output_type": "execute_result"
    }
   ],
   "source": [
    "(get_coeff(-4)).simplify()"
   ]
  },
  {
   "cell_type": "code",
   "execution_count": null,
   "metadata": {},
   "outputs": [],
   "source": []
  }
 ],
 "metadata": {
  "kernelspec": {
   "display_name": "Python 3",
   "language": "python",
   "name": "python3"
  },
  "language_info": {
   "codemirror_mode": {
    "name": "ipython",
    "version": 3
   },
   "file_extension": ".py",
   "mimetype": "text/x-python",
   "name": "python",
   "nbconvert_exporter": "python",
   "pygments_lexer": "ipython3",
   "version": "3.11.1"
  }
 },
 "nbformat": 4,
 "nbformat_minor": 2
}
