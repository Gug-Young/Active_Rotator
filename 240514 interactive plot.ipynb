{
 "cells": [
  {
   "cell_type": "code",
   "execution_count": 5,
   "metadata": {},
   "outputs": [
    {
     "ename": "TypeError",
     "evalue": "'NoneType' object cannot be interpreted as an integer",
     "output_type": "error",
     "traceback": [
      "\u001b[0;31m---------------------------------------------------------------------------\u001b[0m",
      "\u001b[0;31mTypeError\u001b[0m                                 Traceback (most recent call last)",
      "Cell \u001b[0;32mIn[5], line 71\u001b[0m\n\u001b[1;32m     68\u001b[0m     \u001b[38;5;28;01mreturn\u001b[39;00m figure\n\u001b[1;32m     70\u001b[0m \u001b[38;5;66;03m# Jupyter Notebook에서 앱 실행\u001b[39;00m\n\u001b[0;32m---> 71\u001b[0m \u001b[43mapp\u001b[49m\u001b[38;5;241;43m.\u001b[39;49m\u001b[43mrun_server\u001b[49m\u001b[43m(\u001b[49m\u001b[43mmode\u001b[49m\u001b[38;5;241;43m=\u001b[39;49m\u001b[38;5;124;43m'\u001b[39;49m\u001b[38;5;124;43minline\u001b[39;49m\u001b[38;5;124;43m'\u001b[39;49m\u001b[43m)\u001b[49m\n",
      "File \u001b[0;32m/Library/Frameworks/Python.framework/Versions/3.11/lib/python3.11/site-packages/jupyter_dash/jupyter_app.py:222\u001b[0m, in \u001b[0;36mJupyterDash.run_server\u001b[0;34m(self, mode, width, height, inline_exceptions, **kwargs)\u001b[0m\n\u001b[1;32m    220\u001b[0m old_server \u001b[38;5;241m=\u001b[39m \u001b[38;5;28mself\u001b[39m\u001b[38;5;241m.\u001b[39m_server_threads\u001b[38;5;241m.\u001b[39mget((host, port))\n\u001b[1;32m    221\u001b[0m \u001b[38;5;28;01mif\u001b[39;00m old_server:\n\u001b[0;32m--> 222\u001b[0m     \u001b[43mold_server\u001b[49m\u001b[38;5;241;43m.\u001b[39;49m\u001b[43mkill\u001b[49m\u001b[43m(\u001b[49m\u001b[43m)\u001b[49m\n\u001b[1;32m    223\u001b[0m     old_server\u001b[38;5;241m.\u001b[39mjoin()\n\u001b[1;32m    224\u001b[0m     \u001b[38;5;28;01mdel\u001b[39;00m \u001b[38;5;28mself\u001b[39m\u001b[38;5;241m.\u001b[39m_server_threads[(host, port)]\n",
      "File \u001b[0;32m/Library/Frameworks/Python.framework/Versions/3.11/lib/python3.11/site-packages/jupyter_dash/_stoppable_thread.py:16\u001b[0m, in \u001b[0;36mStoppableThread.kill\u001b[0;34m(self)\u001b[0m\n\u001b[1;32m     13\u001b[0m \u001b[38;5;28;01mdef\u001b[39;00m \u001b[38;5;21mkill\u001b[39m(\u001b[38;5;28mself\u001b[39m):\n\u001b[1;32m     14\u001b[0m     thread_id \u001b[38;5;241m=\u001b[39m \u001b[38;5;28mself\u001b[39m\u001b[38;5;241m.\u001b[39mget_id()\n\u001b[1;32m     15\u001b[0m     res \u001b[38;5;241m=\u001b[39m ctypes\u001b[38;5;241m.\u001b[39mpythonapi\u001b[38;5;241m.\u001b[39mPyThreadState_SetAsyncExc(\n\u001b[0;32m---> 16\u001b[0m         \u001b[43mctypes\u001b[49m\u001b[38;5;241;43m.\u001b[39;49m\u001b[43mc_long\u001b[49m\u001b[43m(\u001b[49m\u001b[43mthread_id\u001b[49m\u001b[43m)\u001b[49m, ctypes\u001b[38;5;241m.\u001b[39mpy_object(\u001b[38;5;167;01mSystemExit\u001b[39;00m)\n\u001b[1;32m     17\u001b[0m     )\n\u001b[1;32m     18\u001b[0m     \u001b[38;5;28;01mif\u001b[39;00m res \u001b[38;5;241m==\u001b[39m \u001b[38;5;241m0\u001b[39m:\n\u001b[1;32m     19\u001b[0m         \u001b[38;5;28;01mraise\u001b[39;00m \u001b[38;5;167;01mValueError\u001b[39;00m(\u001b[38;5;124mf\u001b[39m\u001b[38;5;124m\"\u001b[39m\u001b[38;5;124mInvalid thread id: \u001b[39m\u001b[38;5;132;01m{\u001b[39;00mthread_id\u001b[38;5;132;01m}\u001b[39;00m\u001b[38;5;124m\"\u001b[39m)\n",
      "\u001b[0;31mTypeError\u001b[0m: 'NoneType' object cannot be interpreted as an integer"
     ]
    }
   ],
   "source": [
    "from jupyter_dash import JupyterDash\n",
    "from dash import dcc, html\n",
    "from dash.dependencies import Input, Output\n",
    "import plotly.graph_objs as go\n",
    "import numpy as np\n",
    "\n",
    "# JupyterDash 앱 초기화\n",
    "app = JupyterDash(__name__)\n",
    "\n",
    "# 앱 레이아웃 설정\n",
    "app.layout = html.Div([\n",
    "    dcc.Graph(id='graph'),\n",
    "    html.Label('Variable 1'),\n",
    "    dcc.Slider(\n",
    "        id='var1-slider',\n",
    "        min=0,\n",
    "        max=10,\n",
    "        step=0.1,\n",
    "        value=5,\n",
    "    ),\n",
    "    html.Label('Variable 2'),\n",
    "    dcc.Slider(\n",
    "        id='var2-slider',\n",
    "        min=0,\n",
    "        max=10,\n",
    "        step=0.1,\n",
    "        value=5,\n",
    "    ),\n",
    "    html.Label('Variable 3'),\n",
    "    dcc.Slider(\n",
    "        id='var3-slider',\n",
    "        min=0,\n",
    "        max=10,\n",
    "        step=0.1,\n",
    "        value=5,\n",
    "    ),\n",
    "])\n",
    "\n",
    "# 콜백 설정\n",
    "@app.callback(\n",
    "    Output('graph', 'figure'),\n",
    "    [\n",
    "        Input('var1-slider', 'value'),\n",
    "        Input('var2-slider', 'value'),\n",
    "        Input('var3-slider', 'value')\n",
    "    ]\n",
    ")\n",
    "def update_graph(var1, var2, var3):\n",
    "    # 예시 데이터 생성 (여기서 원하는 수식을 사용)\n",
    "    x = np.linspace(0, 10, 100)\n",
    "    y = var1 * np.sin(var2 * x + var3)\n",
    "\n",
    "    # 그래프 업데이트\n",
    "    figure = {\n",
    "        'data': [\n",
    "            go.Scatter(\n",
    "                x=x,\n",
    "                y=y,\n",
    "                mode='lines'\n",
    "            )\n",
    "        ],\n",
    "        'layout': go.Layout(\n",
    "            title='Interactive Plot',\n",
    "            xaxis={'title': 'X-axis'},\n",
    "            yaxis={'title': 'Y-axis'},\n",
    "        )\n",
    "    }\n",
    "    return figure\n",
    "\n",
    "# Jupyter Notebook에서 앱 실행\n",
    "app.run_server(mode='inline')\n"
   ]
  },
  {
   "cell_type": "markdown",
   "metadata": {},
   "source": [
    "# with finte size effect"
   ]
  },
  {
   "cell_type": "code",
   "execution_count": 1,
   "metadata": {},
   "outputs": [],
   "source": [
    "import numpy as np\n",
    "import matplotlib.pyplot as plt"
   ]
  },
  {
   "cell_type": "code",
   "execution_count": 2,
   "metadata": {},
   "outputs": [],
   "source": [
    "def function(phi,alpha,beta):\n",
    "    Z = beta*(-np.cos(alpha - phi) + abs(np.sin(phi)))/np.cos(alpha)\n",
    "    f = -Z**2*beta**2*np.sin(alpha + 2*phi) + (Z**2 + 1)*(Z**2*np.sin(alpha) + beta**2*np.sin(alpha - 2*phi))/2 - np.sin(alpha)\n",
    "    return f"
   ]
  },
  {
   "cell_type": "code",
   "execution_count": 1,
   "metadata": {},
   "outputs": [
    {
     "name": "stderr",
     "output_type": "stream",
     "text": [
      "/Library/Frameworks/Python.framework/Versions/3.11/lib/python3.11/site-packages/dash/dash.py:556: UserWarning:\n",
      "\n",
      "JupyterDash is deprecated, use Dash instead.\n",
      "See https://dash.plotly.com/dash-in-jupyter for more details.\n",
      "\n"
     ]
    },
    {
     "data": {
      "text/html": [
       "\n",
       "        <iframe\n",
       "            width=\"100%\"\n",
       "            height=\"650\"\n",
       "            src=\"http://127.0.0.1:8050/\"\n",
       "            frameborder=\"0\"\n",
       "            allowfullscreen\n",
       "            \n",
       "        ></iframe>\n",
       "        "
      ],
      "text/plain": [
       "<IPython.lib.display.IFrame at 0x10434dc50>"
      ]
     },
     "metadata": {},
     "output_type": "display_data"
    },
    {
     "data": {
      "text/html": [
       "\n",
       "        <iframe\n",
       "            width=\"100%\"\n",
       "            height=\"650\"\n",
       "            src=\"http://127.0.0.1:8050/\"\n",
       "            frameborder=\"0\"\n",
       "            allowfullscreen\n",
       "            \n",
       "        ></iframe>\n",
       "        "
      ],
      "text/plain": [
       "<IPython.lib.display.IFrame at 0x1043aca10>"
      ]
     },
     "metadata": {},
     "output_type": "display_data"
    }
   ],
   "source": [
    "from jupyter_dash import JupyterDash\n",
    "from dash import dcc, html\n",
    "from dash.dependencies import Input, Output\n",
    "import plotly.graph_objs as go\n",
    "import numpy as np\n",
    "\n",
    "# JupyterDash 앱 초기화\n",
    "app = JupyterDash(__name__)\n",
    "\n",
    "\n",
    "def function(phi,alpha,beta):\n",
    "    Z = beta*(-np.cos(alpha - phi) + abs(np.sin(phi)))/np.cos(alpha)\n",
    "    f = -Z**2*beta**2*np.sin(alpha + 2*phi) + (Z**2 + 1)*(Z**2*np.sin(alpha) + beta**2*np.sin(alpha - 2*phi))/2 - np.sin(alpha)\n",
    "    return f\n",
    "# 앱 레이아웃 설정\n",
    "app.layout = html.Div([\n",
    "    dcc.Graph(id='graph'),\n",
    "    html.Label('Alpha (\\\\( \\\\alpha \\\\))'),\n",
    "    dcc.Slider(\n",
    "        id='alpha-slider',\n",
    "        min=0,\n",
    "        max=2*np.pi,\n",
    "        step=0.02,\n",
    "        value=0,\n",
    "        marks={i: str(i) for i in range(11)}\n",
    "    ),\n",
    "    html.Label('Beta (\\\\( \\\\beta \\\\))'),\n",
    "    dcc.Slider(\n",
    "        id='beta-slider',\n",
    "        min=0,\n",
    "        max=1,\n",
    "        step=0.02,\n",
    "        value=0.5,\n",
    "        marks={i: str(i) for i in range(11)}\n",
    "    )\n",
    "])\n",
    "\n",
    "# 콜백 설정\n",
    "@app.callback(\n",
    "    Output('graph', 'figure'),\n",
    "    [\n",
    "        Input('alpha-slider', 'value'),\n",
    "        Input('beta-slider', 'value')\n",
    "    ]\n",
    ")\n",
    "def update_graph(alpha, beta):\n",
    "    # 예시 데이터 생성 (여기서 원하는 수식을 사용)\n",
    "    x = np.linspace(0, np.pi, 100)\n",
    "    y = function(x,alpha,beta)\n",
    "\n",
    "    # 그래프 업데이트\n",
    "    figure = {\n",
    "        'data': [\n",
    "            go.Scatter(\n",
    "                x=x,\n",
    "                y=y,\n",
    "                mode='lines'\n",
    "            )\n",
    "        ],\n",
    "        'layout': go.Layout(\n",
    "            title='Interactive Plot',\n",
    "            xaxis={'title': 'X-axis'},\n",
    "            yaxis={'title': 'Y-axis'},\n",
    "            annotations=[\n",
    "                {\n",
    "                    'x': 4,\n",
    "                    'y': (0,1),\n",
    "                    'xref': 'x',\n",
    "                    'yref': 'y',\n",
    "                    'text': f'( α = {alpha} ), ( β = {beta} )',\n",
    "                    'showarrow': False,\n",
    "                    'font': {\n",
    "                        'size': 16\n",
    "                    }\n",
    "                }\n",
    "            ]\n",
    "        )\n",
    "    }\n",
    "    return figure\n",
    "\n",
    "# Jupyter Notebook에서 앱 실행\n",
    "app.run_server(mode='inline')\n"
   ]
  },
  {
   "cell_type": "code",
   "execution_count": null,
   "metadata": {},
   "outputs": [],
   "source": []
  }
 ],
 "metadata": {
  "kernelspec": {
   "display_name": "Python 3",
   "language": "python",
   "name": "python3"
  },
  "language_info": {
   "codemirror_mode": {
    "name": "ipython",
    "version": 3
   },
   "file_extension": ".py",
   "mimetype": "text/x-python",
   "name": "python",
   "nbconvert_exporter": "python",
   "pygments_lexer": "ipython3",
   "version": "3.11.1"
  }
 },
 "nbformat": 4,
 "nbformat_minor": 2
}
