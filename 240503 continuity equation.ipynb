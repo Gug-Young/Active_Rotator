{
 "cells": [
  {
   "cell_type": "code",
   "execution_count": 1,
   "metadata": {},
   "outputs": [],
   "source": [
    "from sympy import *"
   ]
  },
  {
   "cell_type": "code",
   "execution_count": 6,
   "metadata": {},
   "outputs": [],
   "source": [
    "H,Hs = symbols('H H^*',complex=True)\n",
    "theta,t,alpha,n,omega = symbols('theta t alpha n omega')\n",
    "a = Function('a')('t')\n",
    "a_s = Function('a^*')('t')\n",
    "b = Function('b')('t')\n",
    "b_s = Function('b^*')('t')\n",
    "A = Sum((a*E**(I*theta))**n,(n,1,6)).doit()\n",
    "As = Sum((a_s*E**(-I*theta))**n,(n,1,6)).doit()\n",
    "B = Sum((b*E**(I*theta))**n,(n,1,6)).doit()\n",
    "Bs = Sum((b_s*E**(-I*theta))**n,(n,1,6)).doit()\n",
    "f = 1/(2*pi) * (1+(A+As+B+Bs)/2)\n",
    "v = omega + 1/(2*I) * (H*E**(-I*(2*theta+alpha))-Hs*E**(I*(2*theta+alpha)))"
   ]
  },
  {
   "cell_type": "code",
   "execution_count": 7,
   "metadata": {},
   "outputs": [
    {
     "data": {
      "text/latex": [
       "$\\displaystyle \\frac{3 a^{5}{\\left(t \\right)} e^{6 i \\theta} \\frac{d}{d t} a{\\left(t \\right)} + \\frac{5 a^{4}{\\left(t \\right)} e^{5 i \\theta} \\frac{d}{d t} a{\\left(t \\right)}}{2} + 2 a^{3}{\\left(t \\right)} e^{4 i \\theta} \\frac{d}{d t} a{\\left(t \\right)} + \\frac{3 a^{2}{\\left(t \\right)} e^{3 i \\theta} \\frac{d}{d t} a{\\left(t \\right)}}{2} + a{\\left(t \\right)} e^{2 i \\theta} \\frac{d}{d t} a{\\left(t \\right)} + 3 \\left(a^{*}\\right)^{5}{\\left(t \\right)} e^{- 6 i \\theta} \\frac{d}{d t} a^{*}{\\left(t \\right)} + \\frac{5 \\left(a^{*}\\right)^{4}{\\left(t \\right)} e^{- 5 i \\theta} \\frac{d}{d t} a^{*}{\\left(t \\right)}}{2} + 2 \\left(a^{*}\\right)^{3}{\\left(t \\right)} e^{- 4 i \\theta} \\frac{d}{d t} a^{*}{\\left(t \\right)} + \\frac{3 \\left(a^{*}\\right)^{2}{\\left(t \\right)} e^{- 3 i \\theta} \\frac{d}{d t} a^{*}{\\left(t \\right)}}{2} + a^{*}{\\left(t \\right)} e^{- 2 i \\theta} \\frac{d}{d t} a^{*}{\\left(t \\right)} + 3 b^{5}{\\left(t \\right)} e^{6 i \\theta} \\frac{d}{d t} b{\\left(t \\right)} + \\frac{5 b^{4}{\\left(t \\right)} e^{5 i \\theta} \\frac{d}{d t} b{\\left(t \\right)}}{2} + 2 b^{3}{\\left(t \\right)} e^{4 i \\theta} \\frac{d}{d t} b{\\left(t \\right)} + \\frac{3 b^{2}{\\left(t \\right)} e^{3 i \\theta} \\frac{d}{d t} b{\\left(t \\right)}}{2} + b{\\left(t \\right)} e^{2 i \\theta} \\frac{d}{d t} b{\\left(t \\right)} + 3 \\left(b^{*}\\right)^{5}{\\left(t \\right)} e^{- 6 i \\theta} \\frac{d}{d t} b^{*}{\\left(t \\right)} + \\frac{5 \\left(b^{*}\\right)^{4}{\\left(t \\right)} e^{- 5 i \\theta} \\frac{d}{d t} b^{*}{\\left(t \\right)}}{2} + 2 \\left(b^{*}\\right)^{3}{\\left(t \\right)} e^{- 4 i \\theta} \\frac{d}{d t} b^{*}{\\left(t \\right)} + \\frac{3 \\left(b^{*}\\right)^{2}{\\left(t \\right)} e^{- 3 i \\theta} \\frac{d}{d t} b^{*}{\\left(t \\right)}}{2} + b^{*}{\\left(t \\right)} e^{- 2 i \\theta} \\frac{d}{d t} b^{*}{\\left(t \\right)} + \\frac{e^{i \\theta} \\frac{d}{d t} a{\\left(t \\right)}}{2} + \\frac{e^{i \\theta} \\frac{d}{d t} b{\\left(t \\right)}}{2} + \\frac{e^{- i \\theta} \\frac{d}{d t} a^{*}{\\left(t \\right)}}{2} + \\frac{e^{- i \\theta} \\frac{d}{d t} b^{*}{\\left(t \\right)}}{2}}{2 \\pi}$"
      ],
      "text/plain": [
       "(3*a(t)**5*exp(6*I*theta)*Derivative(a(t), t) + 5*a(t)**4*exp(5*I*theta)*Derivative(a(t), t)/2 + 2*a(t)**3*exp(4*I*theta)*Derivative(a(t), t) + 3*a(t)**2*exp(3*I*theta)*Derivative(a(t), t)/2 + a(t)*exp(2*I*theta)*Derivative(a(t), t) + 3*a^*(t)**5*exp(-6*I*theta)*Derivative(a^*(t), t) + 5*a^*(t)**4*exp(-5*I*theta)*Derivative(a^*(t), t)/2 + 2*a^*(t)**3*exp(-4*I*theta)*Derivative(a^*(t), t) + 3*a^*(t)**2*exp(-3*I*theta)*Derivative(a^*(t), t)/2 + a^*(t)*exp(-2*I*theta)*Derivative(a^*(t), t) + 3*b(t)**5*exp(6*I*theta)*Derivative(b(t), t) + 5*b(t)**4*exp(5*I*theta)*Derivative(b(t), t)/2 + 2*b(t)**3*exp(4*I*theta)*Derivative(b(t), t) + 3*b(t)**2*exp(3*I*theta)*Derivative(b(t), t)/2 + b(t)*exp(2*I*theta)*Derivative(b(t), t) + 3*b^*(t)**5*exp(-6*I*theta)*Derivative(b^*(t), t) + 5*b^*(t)**4*exp(-5*I*theta)*Derivative(b^*(t), t)/2 + 2*b^*(t)**3*exp(-4*I*theta)*Derivative(b^*(t), t) + 3*b^*(t)**2*exp(-3*I*theta)*Derivative(b^*(t), t)/2 + b^*(t)*exp(-2*I*theta)*Derivative(b^*(t), t) + exp(I*theta)*Derivative(a(t), t)/2 + exp(I*theta)*Derivative(b(t), t)/2 + exp(-I*theta)*Derivative(a^*(t), t)/2 + exp(-I*theta)*Derivative(b^*(t), t)/2)/(2*pi)"
      ]
     },
     "execution_count": 7,
     "metadata": {},
     "output_type": "execute_result"
    }
   ],
   "source": [
    "f.diff(t)"
   ]
  },
  {
   "cell_type": "code",
   "execution_count": 8,
   "metadata": {},
   "outputs": [],
   "source": [
    "col_ = collect(together(f.diff(t)+(f*v).diff(theta)).expand(),E**(1j*theta))"
   ]
  },
  {
   "cell_type": "code",
   "execution_count": 9,
   "metadata": {},
   "outputs": [
    {
     "data": {
      "text/latex": [
       "$\\displaystyle \\frac{- \\frac{7 H \\left(a^{*}\\right)^{5}{\\left(t \\right)} e^{- i \\alpha}}{8 \\pi} - \\frac{7 H \\left(b^{*}\\right)^{5}{\\left(t \\right)} e^{- i \\alpha}}{8 \\pi}}{\\left(e^{1.0 i \\theta}\\right)^{7.0}} + \\frac{- \\frac{H \\left(a^{*}\\right)^{6}{\\left(t \\right)} e^{- i \\alpha}}{\\pi} - \\frac{H \\left(b^{*}\\right)^{6}{\\left(t \\right)} e^{- i \\alpha}}{\\pi}}{\\left(e^{1.0 i \\theta}\\right)^{8.0}} + \\left(- \\frac{7 H^{*} a^{5}{\\left(t \\right)} e^{i \\alpha}}{8 \\pi} - \\frac{7 H^{*} b^{5}{\\left(t \\right)} e^{i \\alpha}}{8 \\pi}\\right) \\left(e^{1.0 i \\theta}\\right)^{7.0} + \\left(- \\frac{H^{*} a^{6}{\\left(t \\right)} e^{i \\alpha}}{\\pi} - \\frac{H^{*} b^{6}{\\left(t \\right)} e^{i \\alpha}}{\\pi}\\right) \\left(e^{1.0 i \\theta}\\right)^{8.0} + \\frac{- \\frac{5 H \\left(a^{*}\\right)^{3}{\\left(t \\right)} e^{- i \\alpha}}{8 \\pi} - \\frac{5 H \\left(b^{*}\\right)^{3}{\\left(t \\right)} e^{- i \\alpha}}{8 \\pi} - \\frac{5 i \\omega \\left(a^{*}\\right)^{5}{\\left(t \\right)}}{4 \\pi} - \\frac{5 i \\omega \\left(b^{*}\\right)^{5}{\\left(t \\right)}}{4 \\pi} + \\frac{5 \\left(a^{*}\\right)^{4}{\\left(t \\right)} \\frac{d}{d t} a^{*}{\\left(t \\right)}}{4 \\pi} + \\frac{5 \\left(b^{*}\\right)^{4}{\\left(t \\right)} \\frac{d}{d t} b^{*}{\\left(t \\right)}}{4 \\pi}}{\\left(e^{1.0 i \\theta}\\right)^{5.0}} + \\frac{- \\frac{3 H \\left(a^{*}\\right)^{4}{\\left(t \\right)} e^{- i \\alpha}}{4 \\pi} - \\frac{3 H \\left(b^{*}\\right)^{4}{\\left(t \\right)} e^{- i \\alpha}}{4 \\pi} - \\frac{3 i \\omega \\left(a^{*}\\right)^{6}{\\left(t \\right)}}{2 \\pi} - \\frac{3 i \\omega \\left(b^{*}\\right)^{6}{\\left(t \\right)}}{2 \\pi} + \\frac{3 \\left(a^{*}\\right)^{5}{\\left(t \\right)} \\frac{d}{d t} a^{*}{\\left(t \\right)}}{2 \\pi} + \\frac{3 \\left(b^{*}\\right)^{5}{\\left(t \\right)} \\frac{d}{d t} b^{*}{\\left(t \\right)}}{2 \\pi}}{\\left(e^{1.0 i \\theta}\\right)^{6.0}} + \\left(- \\frac{5 H^{*} a^{3}{\\left(t \\right)} e^{i \\alpha}}{8 \\pi} - \\frac{5 H^{*} b^{3}{\\left(t \\right)} e^{i \\alpha}}{8 \\pi} + \\frac{5 i \\omega a^{5}{\\left(t \\right)}}{4 \\pi} + \\frac{5 i \\omega b^{5}{\\left(t \\right)}}{4 \\pi} + \\frac{5 a^{4}{\\left(t \\right)} \\frac{d}{d t} a{\\left(t \\right)}}{4 \\pi} + \\frac{5 b^{4}{\\left(t \\right)} \\frac{d}{d t} b{\\left(t \\right)}}{4 \\pi}\\right) \\left(e^{1.0 i \\theta}\\right)^{5.0} + \\left(- \\frac{3 H^{*} a^{4}{\\left(t \\right)} e^{i \\alpha}}{4 \\pi} - \\frac{3 H^{*} b^{4}{\\left(t \\right)} e^{i \\alpha}}{4 \\pi} + \\frac{3 i \\omega a^{6}{\\left(t \\right)}}{2 \\pi} + \\frac{3 i \\omega b^{6}{\\left(t \\right)}}{2 \\pi} + \\frac{3 a^{5}{\\left(t \\right)} \\frac{d}{d t} a{\\left(t \\right)}}{2 \\pi} + \\frac{3 b^{5}{\\left(t \\right)} \\frac{d}{d t} b{\\left(t \\right)}}{2 \\pi}\\right) \\left(e^{1.0 i \\theta}\\right)^{6.0} + \\frac{- \\frac{H e^{- i \\alpha}}{2 \\pi} + \\frac{H^{*} \\left(a^{*}\\right)^{4}{\\left(t \\right)} e^{i \\alpha}}{4 \\pi} + \\frac{H^{*} \\left(b^{*}\\right)^{4}{\\left(t \\right)} e^{i \\alpha}}{4 \\pi} - \\frac{i \\omega \\left(a^{*}\\right)^{2}{\\left(t \\right)}}{2 \\pi} - \\frac{i \\omega \\left(b^{*}\\right)^{2}{\\left(t \\right)}}{2 \\pi} + \\frac{a^{*}{\\left(t \\right)} \\frac{d}{d t} a^{*}{\\left(t \\right)}}{2 \\pi} + \\frac{b^{*}{\\left(t \\right)} \\frac{d}{d t} b^{*}{\\left(t \\right)}}{2 \\pi}}{\\left(e^{1.0 i \\theta}\\right)^{2.0}} + \\left(\\frac{H a^{4}{\\left(t \\right)} e^{- i \\alpha}}{4 \\pi} + \\frac{H b^{4}{\\left(t \\right)} e^{- i \\alpha}}{4 \\pi} - \\frac{H^{*} e^{i \\alpha}}{2 \\pi} + \\frac{i \\omega a^{2}{\\left(t \\right)}}{2 \\pi} + \\frac{i \\omega b^{2}{\\left(t \\right)}}{2 \\pi} + \\frac{a{\\left(t \\right)} \\frac{d}{d t} a{\\left(t \\right)}}{2 \\pi} + \\frac{b{\\left(t \\right)} \\frac{d}{d t} b{\\left(t \\right)}}{2 \\pi}\\right) \\left(e^{1.0 i \\theta}\\right)^{2.0} + \\frac{- \\frac{H a{\\left(t \\right)} e^{- i \\alpha}}{8 \\pi} - \\frac{H b{\\left(t \\right)} e^{- i \\alpha}}{8 \\pi} + \\frac{H^{*} \\left(a^{*}\\right)^{3}{\\left(t \\right)} e^{i \\alpha}}{8 \\pi} + \\frac{H^{*} \\left(b^{*}\\right)^{3}{\\left(t \\right)} e^{i \\alpha}}{8 \\pi} - \\frac{i \\omega a^{*}{\\left(t \\right)}}{4 \\pi} - \\frac{i \\omega b^{*}{\\left(t \\right)}}{4 \\pi} + \\frac{\\frac{d}{d t} a^{*}{\\left(t \\right)}}{4 \\pi} + \\frac{\\frac{d}{d t} b^{*}{\\left(t \\right)}}{4 \\pi}}{\\left(e^{1.0 i \\theta}\\right)^{1.0}} + \\left(\\frac{H a^{3}{\\left(t \\right)} e^{- i \\alpha}}{8 \\pi} + \\frac{H b^{3}{\\left(t \\right)} e^{- i \\alpha}}{8 \\pi} - \\frac{H^{*} a^{*}{\\left(t \\right)} e^{i \\alpha}}{8 \\pi} - \\frac{H^{*} b^{*}{\\left(t \\right)} e^{i \\alpha}}{8 \\pi} + \\frac{i \\omega a{\\left(t \\right)}}{4 \\pi} + \\frac{i \\omega b{\\left(t \\right)}}{4 \\pi} + \\frac{\\frac{d}{d t} a{\\left(t \\right)}}{4 \\pi} + \\frac{\\frac{d}{d t} b{\\left(t \\right)}}{4 \\pi}\\right) \\left(e^{1.0 i \\theta}\\right)^{1.0} + \\left(\\frac{3 H a^{5}{\\left(t \\right)} e^{- i \\alpha}}{8 \\pi} + \\frac{3 H b^{5}{\\left(t \\right)} e^{- i \\alpha}}{8 \\pi} - \\frac{3 H^{*} a{\\left(t \\right)} e^{i \\alpha}}{8 \\pi} - \\frac{3 H^{*} b{\\left(t \\right)} e^{i \\alpha}}{8 \\pi} + \\frac{3 i \\omega a^{3}{\\left(t \\right)}}{4 \\pi} + \\frac{3 i \\omega b^{3}{\\left(t \\right)}}{4 \\pi} + \\frac{3 a^{2}{\\left(t \\right)} \\frac{d}{d t} a{\\left(t \\right)}}{4 \\pi} + \\frac{3 b^{2}{\\left(t \\right)} \\frac{d}{d t} b{\\left(t \\right)}}{4 \\pi}\\right) \\left(e^{1.0 i \\theta}\\right)^{3.0} + \\left(\\frac{H a^{6}{\\left(t \\right)} e^{- i \\alpha}}{2 \\pi} + \\frac{H b^{6}{\\left(t \\right)} e^{- i \\alpha}}{2 \\pi} - \\frac{H^{*} a^{2}{\\left(t \\right)} e^{i \\alpha}}{2 \\pi} - \\frac{H^{*} b^{2}{\\left(t \\right)} e^{i \\alpha}}{2 \\pi} + \\frac{i \\omega a^{4}{\\left(t \\right)}}{\\pi} + \\frac{i \\omega b^{4}{\\left(t \\right)}}{\\pi} + \\frac{a^{3}{\\left(t \\right)} \\frac{d}{d t} a{\\left(t \\right)}}{\\pi} + \\frac{b^{3}{\\left(t \\right)} \\frac{d}{d t} b{\\left(t \\right)}}{\\pi}\\right) \\left(e^{1.0 i \\theta}\\right)^{4.0} + \\frac{- \\frac{3 H a^{*}{\\left(t \\right)} e^{- i \\alpha}}{8 \\pi} - \\frac{3 H b^{*}{\\left(t \\right)} e^{- i \\alpha}}{8 \\pi} + \\frac{3 H^{*} \\left(a^{*}\\right)^{5}{\\left(t \\right)} e^{i \\alpha}}{8 \\pi} + \\frac{3 H^{*} \\left(b^{*}\\right)^{5}{\\left(t \\right)} e^{i \\alpha}}{8 \\pi} - \\frac{3 i \\omega \\left(a^{*}\\right)^{3}{\\left(t \\right)}}{4 \\pi} - \\frac{3 i \\omega \\left(b^{*}\\right)^{3}{\\left(t \\right)}}{4 \\pi} + \\frac{3 \\left(a^{*}\\right)^{2}{\\left(t \\right)} \\frac{d}{d t} a^{*}{\\left(t \\right)}}{4 \\pi} + \\frac{3 \\left(b^{*}\\right)^{2}{\\left(t \\right)} \\frac{d}{d t} b^{*}{\\left(t \\right)}}{4 \\pi}}{\\left(e^{1.0 i \\theta}\\right)^{3.0}} + \\frac{- \\frac{H \\left(a^{*}\\right)^{2}{\\left(t \\right)} e^{- i \\alpha}}{2 \\pi} - \\frac{H \\left(b^{*}\\right)^{2}{\\left(t \\right)} e^{- i \\alpha}}{2 \\pi} + \\frac{H^{*} \\left(a^{*}\\right)^{6}{\\left(t \\right)} e^{i \\alpha}}{2 \\pi} + \\frac{H^{*} \\left(b^{*}\\right)^{6}{\\left(t \\right)} e^{i \\alpha}}{2 \\pi} - \\frac{i \\omega \\left(a^{*}\\right)^{4}{\\left(t \\right)}}{\\pi} - \\frac{i \\omega \\left(b^{*}\\right)^{4}{\\left(t \\right)}}{\\pi} + \\frac{\\left(a^{*}\\right)^{3}{\\left(t \\right)} \\frac{d}{d t} a^{*}{\\left(t \\right)}}{\\pi} + \\frac{\\left(b^{*}\\right)^{3}{\\left(t \\right)} \\frac{d}{d t} b^{*}{\\left(t \\right)}}{\\pi}}{\\left(e^{1.0 i \\theta}\\right)^{4.0}}$"
      ],
      "text/plain": [
       "(-7*H*a^*(t)**5*exp(-I*alpha)/(8*pi) - 7*H*b^*(t)**5*exp(-I*alpha)/(8*pi))/exp(1.0*I*theta)**7.0 + (-H*a^*(t)**6*exp(-I*alpha)/pi - H*b^*(t)**6*exp(-I*alpha)/pi)/exp(1.0*I*theta)**8.0 + (-7*H^**a(t)**5*exp(I*alpha)/(8*pi) - 7*H^**b(t)**5*exp(I*alpha)/(8*pi))*exp(1.0*I*theta)**7.0 + (-H^**a(t)**6*exp(I*alpha)/pi - H^**b(t)**6*exp(I*alpha)/pi)*exp(1.0*I*theta)**8.0 + (-5*H*a^*(t)**3*exp(-I*alpha)/(8*pi) - 5*H*b^*(t)**3*exp(-I*alpha)/(8*pi) - 5*I*omega*a^*(t)**5/(4*pi) - 5*I*omega*b^*(t)**5/(4*pi) + 5*a^*(t)**4*Derivative(a^*(t), t)/(4*pi) + 5*b^*(t)**4*Derivative(b^*(t), t)/(4*pi))/exp(1.0*I*theta)**5.0 + (-3*H*a^*(t)**4*exp(-I*alpha)/(4*pi) - 3*H*b^*(t)**4*exp(-I*alpha)/(4*pi) - 3*I*omega*a^*(t)**6/(2*pi) - 3*I*omega*b^*(t)**6/(2*pi) + 3*a^*(t)**5*Derivative(a^*(t), t)/(2*pi) + 3*b^*(t)**5*Derivative(b^*(t), t)/(2*pi))/exp(1.0*I*theta)**6.0 + (-5*H^**a(t)**3*exp(I*alpha)/(8*pi) - 5*H^**b(t)**3*exp(I*alpha)/(8*pi) + 5*I*omega*a(t)**5/(4*pi) + 5*I*omega*b(t)**5/(4*pi) + 5*a(t)**4*Derivative(a(t), t)/(4*pi) + 5*b(t)**4*Derivative(b(t), t)/(4*pi))*exp(1.0*I*theta)**5.0 + (-3*H^**a(t)**4*exp(I*alpha)/(4*pi) - 3*H^**b(t)**4*exp(I*alpha)/(4*pi) + 3*I*omega*a(t)**6/(2*pi) + 3*I*omega*b(t)**6/(2*pi) + 3*a(t)**5*Derivative(a(t), t)/(2*pi) + 3*b(t)**5*Derivative(b(t), t)/(2*pi))*exp(1.0*I*theta)**6.0 + (-H*exp(-I*alpha)/(2*pi) + H^**a^*(t)**4*exp(I*alpha)/(4*pi) + H^**b^*(t)**4*exp(I*alpha)/(4*pi) - I*omega*a^*(t)**2/(2*pi) - I*omega*b^*(t)**2/(2*pi) + a^*(t)*Derivative(a^*(t), t)/(2*pi) + b^*(t)*Derivative(b^*(t), t)/(2*pi))/exp(1.0*I*theta)**2.0 + (H*a(t)**4*exp(-I*alpha)/(4*pi) + H*b(t)**4*exp(-I*alpha)/(4*pi) - H^**exp(I*alpha)/(2*pi) + I*omega*a(t)**2/(2*pi) + I*omega*b(t)**2/(2*pi) + a(t)*Derivative(a(t), t)/(2*pi) + b(t)*Derivative(b(t), t)/(2*pi))*exp(1.0*I*theta)**2.0 + (-H*a(t)*exp(-I*alpha)/(8*pi) - H*b(t)*exp(-I*alpha)/(8*pi) + H^**a^*(t)**3*exp(I*alpha)/(8*pi) + H^**b^*(t)**3*exp(I*alpha)/(8*pi) - I*omega*a^*(t)/(4*pi) - I*omega*b^*(t)/(4*pi) + Derivative(a^*(t), t)/(4*pi) + Derivative(b^*(t), t)/(4*pi))/exp(1.0*I*theta)**1.0 + (H*a(t)**3*exp(-I*alpha)/(8*pi) + H*b(t)**3*exp(-I*alpha)/(8*pi) - H^**a^*(t)*exp(I*alpha)/(8*pi) - H^**b^*(t)*exp(I*alpha)/(8*pi) + I*omega*a(t)/(4*pi) + I*omega*b(t)/(4*pi) + Derivative(a(t), t)/(4*pi) + Derivative(b(t), t)/(4*pi))*exp(1.0*I*theta)**1.0 + (3*H*a(t)**5*exp(-I*alpha)/(8*pi) + 3*H*b(t)**5*exp(-I*alpha)/(8*pi) - 3*H^**a(t)*exp(I*alpha)/(8*pi) - 3*H^**b(t)*exp(I*alpha)/(8*pi) + 3*I*omega*a(t)**3/(4*pi) + 3*I*omega*b(t)**3/(4*pi) + 3*a(t)**2*Derivative(a(t), t)/(4*pi) + 3*b(t)**2*Derivative(b(t), t)/(4*pi))*exp(1.0*I*theta)**3.0 + (H*a(t)**6*exp(-I*alpha)/(2*pi) + H*b(t)**6*exp(-I*alpha)/(2*pi) - H^**a(t)**2*exp(I*alpha)/(2*pi) - H^**b(t)**2*exp(I*alpha)/(2*pi) + I*omega*a(t)**4/pi + I*omega*b(t)**4/pi + a(t)**3*Derivative(a(t), t)/pi + b(t)**3*Derivative(b(t), t)/pi)*exp(1.0*I*theta)**4.0 + (-3*H*a^*(t)*exp(-I*alpha)/(8*pi) - 3*H*b^*(t)*exp(-I*alpha)/(8*pi) + 3*H^**a^*(t)**5*exp(I*alpha)/(8*pi) + 3*H^**b^*(t)**5*exp(I*alpha)/(8*pi) - 3*I*omega*a^*(t)**3/(4*pi) - 3*I*omega*b^*(t)**3/(4*pi) + 3*a^*(t)**2*Derivative(a^*(t), t)/(4*pi) + 3*b^*(t)**2*Derivative(b^*(t), t)/(4*pi))/exp(1.0*I*theta)**3.0 + (-H*a^*(t)**2*exp(-I*alpha)/(2*pi) - H*b^*(t)**2*exp(-I*alpha)/(2*pi) + H^**a^*(t)**6*exp(I*alpha)/(2*pi) + H^**b^*(t)**6*exp(I*alpha)/(2*pi) - I*omega*a^*(t)**4/pi - I*omega*b^*(t)**4/pi + a^*(t)**3*Derivative(a^*(t), t)/pi + b^*(t)**3*Derivative(b^*(t), t)/pi)/exp(1.0*I*theta)**4.0"
      ]
     },
     "execution_count": 9,
     "metadata": {},
     "output_type": "execute_result"
    }
   ],
   "source": [
    "col_"
   ]
  },
  {
   "cell_type": "code",
   "execution_count": 151,
   "metadata": {},
   "outputs": [
    {
     "data": {
      "text/latex": [
       "$\\displaystyle \\frac{H a^{6}{\\left(t \\right)} e^{- i \\alpha} \\left(e^{1.0 i \\theta}\\right)^{4.0}}{\\pi} + \\frac{3 H a^{5}{\\left(t \\right)} e^{- i \\alpha} \\left(e^{1.0 i \\theta}\\right)^{3.0}}{4 \\pi} + \\frac{H a^{4}{\\left(t \\right)} e^{- i \\alpha} \\left(e^{1.0 i \\theta}\\right)^{2.0}}{2 \\pi} + \\frac{H a^{3}{\\left(t \\right)} e^{- i \\alpha} \\left(e^{1.0 i \\theta}\\right)^{1.0}}{4 \\pi} - \\frac{H a{\\left(t \\right)} e^{- i \\alpha}}{4 \\pi \\left(e^{1.0 i \\theta}\\right)^{1.0}} - \\frac{2 H \\left(a^{*}\\right)^{6}{\\left(t \\right)} e^{- i \\alpha}}{\\pi \\left(e^{1.0 i \\theta}\\right)^{8.0}} - \\frac{7 H \\left(a^{*}\\right)^{5}{\\left(t \\right)} e^{- i \\alpha}}{4 \\pi \\left(e^{1.0 i \\theta}\\right)^{7.0}} - \\frac{3 H \\left(a^{*}\\right)^{4}{\\left(t \\right)} e^{- i \\alpha}}{2 \\pi \\left(e^{1.0 i \\theta}\\right)^{6.0}} - \\frac{5 H \\left(a^{*}\\right)^{3}{\\left(t \\right)} e^{- i \\alpha}}{4 \\pi \\left(e^{1.0 i \\theta}\\right)^{5.0}} - \\frac{H \\left(a^{*}\\right)^{2}{\\left(t \\right)} e^{- i \\alpha}}{\\pi \\left(e^{1.0 i \\theta}\\right)^{4.0}} - \\frac{3 H a^{*}{\\left(t \\right)} e^{- i \\alpha}}{4 \\pi \\left(e^{1.0 i \\theta}\\right)^{3.0}} + \\frac{H b^{6}{\\left(t \\right)} e^{- i \\alpha} \\left(e^{1.0 i \\theta}\\right)^{4.0}}{\\pi} + \\frac{3 H b^{5}{\\left(t \\right)} e^{- i \\alpha} \\left(e^{1.0 i \\theta}\\right)^{3.0}}{4 \\pi} + \\frac{H b^{4}{\\left(t \\right)} e^{- i \\alpha} \\left(e^{1.0 i \\theta}\\right)^{2.0}}{2 \\pi} + \\frac{H b^{3}{\\left(t \\right)} e^{- i \\alpha} \\left(e^{1.0 i \\theta}\\right)^{1.0}}{4 \\pi} - \\frac{H b{\\left(t \\right)} e^{- i \\alpha}}{4 \\pi \\left(e^{1.0 i \\theta}\\right)^{1.0}} - \\frac{2 H \\left(b^{*}\\right)^{6}{\\left(t \\right)} e^{- i \\alpha}}{\\pi \\left(e^{1.0 i \\theta}\\right)^{8.0}} - \\frac{7 H \\left(b^{*}\\right)^{5}{\\left(t \\right)} e^{- i \\alpha}}{4 \\pi \\left(e^{1.0 i \\theta}\\right)^{7.0}} - \\frac{3 H \\left(b^{*}\\right)^{4}{\\left(t \\right)} e^{- i \\alpha}}{2 \\pi \\left(e^{1.0 i \\theta}\\right)^{6.0}} - \\frac{5 H \\left(b^{*}\\right)^{3}{\\left(t \\right)} e^{- i \\alpha}}{4 \\pi \\left(e^{1.0 i \\theta}\\right)^{5.0}} - \\frac{H \\left(b^{*}\\right)^{2}{\\left(t \\right)} e^{- i \\alpha}}{\\pi \\left(e^{1.0 i \\theta}\\right)^{4.0}} - \\frac{3 H b^{*}{\\left(t \\right)} e^{- i \\alpha}}{4 \\pi \\left(e^{1.0 i \\theta}\\right)^{3.0}} - \\frac{H e^{- i \\alpha}}{2 \\pi \\left(e^{1.0 i \\theta}\\right)^{2.0}} - \\frac{2 H^{*} a^{6}{\\left(t \\right)} e^{i \\alpha} \\left(e^{1.0 i \\theta}\\right)^{8.0}}{\\pi} - \\frac{7 H^{*} a^{5}{\\left(t \\right)} e^{i \\alpha} \\left(e^{1.0 i \\theta}\\right)^{7.0}}{4 \\pi} - \\frac{3 H^{*} a^{4}{\\left(t \\right)} e^{i \\alpha} \\left(e^{1.0 i \\theta}\\right)^{6.0}}{2 \\pi} - \\frac{5 H^{*} a^{3}{\\left(t \\right)} e^{i \\alpha} \\left(e^{1.0 i \\theta}\\right)^{5.0}}{4 \\pi} - \\frac{H^{*} a^{2}{\\left(t \\right)} e^{i \\alpha} \\left(e^{1.0 i \\theta}\\right)^{4.0}}{\\pi} - \\frac{3 H^{*} a{\\left(t \\right)} e^{i \\alpha} \\left(e^{1.0 i \\theta}\\right)^{3.0}}{4 \\pi} + \\frac{H^{*} \\left(a^{*}\\right)^{6}{\\left(t \\right)} e^{i \\alpha}}{\\pi \\left(e^{1.0 i \\theta}\\right)^{4.0}} + \\frac{3 H^{*} \\left(a^{*}\\right)^{5}{\\left(t \\right)} e^{i \\alpha}}{4 \\pi \\left(e^{1.0 i \\theta}\\right)^{3.0}} + \\frac{H^{*} \\left(a^{*}\\right)^{4}{\\left(t \\right)} e^{i \\alpha}}{2 \\pi \\left(e^{1.0 i \\theta}\\right)^{2.0}} + \\frac{H^{*} \\left(a^{*}\\right)^{3}{\\left(t \\right)} e^{i \\alpha}}{4 \\pi \\left(e^{1.0 i \\theta}\\right)^{1.0}} - \\frac{H^{*} a^{*}{\\left(t \\right)} e^{i \\alpha} \\left(e^{1.0 i \\theta}\\right)^{1.0}}{4 \\pi} - \\frac{2 H^{*} b^{6}{\\left(t \\right)} e^{i \\alpha} \\left(e^{1.0 i \\theta}\\right)^{8.0}}{\\pi} - \\frac{7 H^{*} b^{5}{\\left(t \\right)} e^{i \\alpha} \\left(e^{1.0 i \\theta}\\right)^{7.0}}{4 \\pi} - \\frac{3 H^{*} b^{4}{\\left(t \\right)} e^{i \\alpha} \\left(e^{1.0 i \\theta}\\right)^{6.0}}{2 \\pi} - \\frac{5 H^{*} b^{3}{\\left(t \\right)} e^{i \\alpha} \\left(e^{1.0 i \\theta}\\right)^{5.0}}{4 \\pi} - \\frac{H^{*} b^{2}{\\left(t \\right)} e^{i \\alpha} \\left(e^{1.0 i \\theta}\\right)^{4.0}}{\\pi} - \\frac{3 H^{*} b{\\left(t \\right)} e^{i \\alpha} \\left(e^{1.0 i \\theta}\\right)^{3.0}}{4 \\pi} + \\frac{H^{*} \\left(b^{*}\\right)^{6}{\\left(t \\right)} e^{i \\alpha}}{\\pi \\left(e^{1.0 i \\theta}\\right)^{4.0}} + \\frac{3 H^{*} \\left(b^{*}\\right)^{5}{\\left(t \\right)} e^{i \\alpha}}{4 \\pi \\left(e^{1.0 i \\theta}\\right)^{3.0}} + \\frac{H^{*} \\left(b^{*}\\right)^{4}{\\left(t \\right)} e^{i \\alpha}}{2 \\pi \\left(e^{1.0 i \\theta}\\right)^{2.0}} + \\frac{H^{*} \\left(b^{*}\\right)^{3}{\\left(t \\right)} e^{i \\alpha}}{4 \\pi \\left(e^{1.0 i \\theta}\\right)^{1.0}} - \\frac{H^{*} b^{*}{\\left(t \\right)} e^{i \\alpha} \\left(e^{1.0 i \\theta}\\right)^{1.0}}{4 \\pi} - \\frac{H^{*} e^{i \\alpha} \\left(e^{1.0 i \\theta}\\right)^{2.0}}{2 \\pi} + \\frac{3 i \\omega a^{6}{\\left(t \\right)} \\left(e^{1.0 i \\theta}\\right)^{6.0}}{\\pi} + \\frac{5 i \\omega a^{5}{\\left(t \\right)} \\left(e^{1.0 i \\theta}\\right)^{5.0}}{2 \\pi} + \\frac{2 i \\omega a^{4}{\\left(t \\right)} \\left(e^{1.0 i \\theta}\\right)^{4.0}}{\\pi} + \\frac{3 i \\omega a^{3}{\\left(t \\right)} \\left(e^{1.0 i \\theta}\\right)^{3.0}}{2 \\pi} + \\frac{i \\omega a^{2}{\\left(t \\right)} \\left(e^{1.0 i \\theta}\\right)^{2.0}}{\\pi} + \\frac{i \\omega a{\\left(t \\right)} \\left(e^{1.0 i \\theta}\\right)^{1.0}}{2 \\pi} - \\frac{3 i \\omega \\left(a^{*}\\right)^{6}{\\left(t \\right)}}{\\pi \\left(e^{1.0 i \\theta}\\right)^{6.0}} - \\frac{5 i \\omega \\left(a^{*}\\right)^{5}{\\left(t \\right)}}{2 \\pi \\left(e^{1.0 i \\theta}\\right)^{5.0}} - \\frac{2 i \\omega \\left(a^{*}\\right)^{4}{\\left(t \\right)}}{\\pi \\left(e^{1.0 i \\theta}\\right)^{4.0}} - \\frac{3 i \\omega \\left(a^{*}\\right)^{3}{\\left(t \\right)}}{2 \\pi \\left(e^{1.0 i \\theta}\\right)^{3.0}} - \\frac{i \\omega \\left(a^{*}\\right)^{2}{\\left(t \\right)}}{\\pi \\left(e^{1.0 i \\theta}\\right)^{2.0}} - \\frac{i \\omega a^{*}{\\left(t \\right)}}{2 \\pi \\left(e^{1.0 i \\theta}\\right)^{1.0}} + \\frac{3 i \\omega b^{6}{\\left(t \\right)} \\left(e^{1.0 i \\theta}\\right)^{6.0}}{\\pi} + \\frac{5 i \\omega b^{5}{\\left(t \\right)} \\left(e^{1.0 i \\theta}\\right)^{5.0}}{2 \\pi} + \\frac{2 i \\omega b^{4}{\\left(t \\right)} \\left(e^{1.0 i \\theta}\\right)^{4.0}}{\\pi} + \\frac{3 i \\omega b^{3}{\\left(t \\right)} \\left(e^{1.0 i \\theta}\\right)^{3.0}}{2 \\pi} + \\frac{i \\omega b^{2}{\\left(t \\right)} \\left(e^{1.0 i \\theta}\\right)^{2.0}}{\\pi} + \\frac{i \\omega b{\\left(t \\right)} \\left(e^{1.0 i \\theta}\\right)^{1.0}}{2 \\pi} - \\frac{3 i \\omega \\left(b^{*}\\right)^{6}{\\left(t \\right)}}{\\pi \\left(e^{1.0 i \\theta}\\right)^{6.0}} - \\frac{5 i \\omega \\left(b^{*}\\right)^{5}{\\left(t \\right)}}{2 \\pi \\left(e^{1.0 i \\theta}\\right)^{5.0}} - \\frac{2 i \\omega \\left(b^{*}\\right)^{4}{\\left(t \\right)}}{\\pi \\left(e^{1.0 i \\theta}\\right)^{4.0}} - \\frac{3 i \\omega \\left(b^{*}\\right)^{3}{\\left(t \\right)}}{2 \\pi \\left(e^{1.0 i \\theta}\\right)^{3.0}} - \\frac{i \\omega \\left(b^{*}\\right)^{2}{\\left(t \\right)}}{\\pi \\left(e^{1.0 i \\theta}\\right)^{2.0}} - \\frac{i \\omega b^{*}{\\left(t \\right)}}{2 \\pi \\left(e^{1.0 i \\theta}\\right)^{1.0}} + \\frac{3 a^{5}{\\left(t \\right)} \\left(e^{1.0 i \\theta}\\right)^{6.0} \\frac{d}{d t} a{\\left(t \\right)}}{\\pi} + \\frac{5 a^{4}{\\left(t \\right)} \\left(e^{1.0 i \\theta}\\right)^{5.0} \\frac{d}{d t} a{\\left(t \\right)}}{2 \\pi} + \\frac{2 a^{3}{\\left(t \\right)} \\left(e^{1.0 i \\theta}\\right)^{4.0} \\frac{d}{d t} a{\\left(t \\right)}}{\\pi} + \\frac{3 a^{2}{\\left(t \\right)} \\left(e^{1.0 i \\theta}\\right)^{3.0} \\frac{d}{d t} a{\\left(t \\right)}}{2 \\pi} + \\frac{a{\\left(t \\right)} \\left(e^{1.0 i \\theta}\\right)^{2.0} \\frac{d}{d t} a{\\left(t \\right)}}{\\pi} + \\frac{3 \\left(a^{*}\\right)^{5}{\\left(t \\right)} \\frac{d}{d t} a^{*}{\\left(t \\right)}}{\\pi \\left(e^{1.0 i \\theta}\\right)^{6.0}} + \\frac{5 \\left(a^{*}\\right)^{4}{\\left(t \\right)} \\frac{d}{d t} a^{*}{\\left(t \\right)}}{2 \\pi \\left(e^{1.0 i \\theta}\\right)^{5.0}} + \\frac{2 \\left(a^{*}\\right)^{3}{\\left(t \\right)} \\frac{d}{d t} a^{*}{\\left(t \\right)}}{\\pi \\left(e^{1.0 i \\theta}\\right)^{4.0}} + \\frac{3 \\left(a^{*}\\right)^{2}{\\left(t \\right)} \\frac{d}{d t} a^{*}{\\left(t \\right)}}{2 \\pi \\left(e^{1.0 i \\theta}\\right)^{3.0}} + \\frac{a^{*}{\\left(t \\right)} \\frac{d}{d t} a^{*}{\\left(t \\right)}}{\\pi \\left(e^{1.0 i \\theta}\\right)^{2.0}} + \\frac{3 b^{5}{\\left(t \\right)} \\left(e^{1.0 i \\theta}\\right)^{6.0} \\frac{d}{d t} b{\\left(t \\right)}}{\\pi} + \\frac{5 b^{4}{\\left(t \\right)} \\left(e^{1.0 i \\theta}\\right)^{5.0} \\frac{d}{d t} b{\\left(t \\right)}}{2 \\pi} + \\frac{2 b^{3}{\\left(t \\right)} \\left(e^{1.0 i \\theta}\\right)^{4.0} \\frac{d}{d t} b{\\left(t \\right)}}{\\pi} + \\frac{3 b^{2}{\\left(t \\right)} \\left(e^{1.0 i \\theta}\\right)^{3.0} \\frac{d}{d t} b{\\left(t \\right)}}{2 \\pi} + \\frac{b{\\left(t \\right)} \\left(e^{1.0 i \\theta}\\right)^{2.0} \\frac{d}{d t} b{\\left(t \\right)}}{\\pi} + \\frac{3 \\left(b^{*}\\right)^{5}{\\left(t \\right)} \\frac{d}{d t} b^{*}{\\left(t \\right)}}{\\pi \\left(e^{1.0 i \\theta}\\right)^{6.0}} + \\frac{5 \\left(b^{*}\\right)^{4}{\\left(t \\right)} \\frac{d}{d t} b^{*}{\\left(t \\right)}}{2 \\pi \\left(e^{1.0 i \\theta}\\right)^{5.0}} + \\frac{2 \\left(b^{*}\\right)^{3}{\\left(t \\right)} \\frac{d}{d t} b^{*}{\\left(t \\right)}}{\\pi \\left(e^{1.0 i \\theta}\\right)^{4.0}} + \\frac{3 \\left(b^{*}\\right)^{2}{\\left(t \\right)} \\frac{d}{d t} b^{*}{\\left(t \\right)}}{2 \\pi \\left(e^{1.0 i \\theta}\\right)^{3.0}} + \\frac{b^{*}{\\left(t \\right)} \\frac{d}{d t} b^{*}{\\left(t \\right)}}{\\pi \\left(e^{1.0 i \\theta}\\right)^{2.0}} + \\frac{\\frac{d}{d t} a^{*}{\\left(t \\right)}}{2 \\pi \\left(e^{1.0 i \\theta}\\right)^{1.0}} + \\frac{\\frac{d}{d t} b^{*}{\\left(t \\right)}}{2 \\pi \\left(e^{1.0 i \\theta}\\right)^{1.0}} + \\frac{\\left(e^{1.0 i \\theta}\\right)^{1.0} \\frac{d}{d t} a{\\left(t \\right)}}{2 \\pi} + \\frac{\\left(e^{1.0 i \\theta}\\right)^{1.0} \\frac{d}{d t} b{\\left(t \\right)}}{2 \\pi}$"
      ],
      "text/plain": [
       "H*a(t)**6*exp(-I*alpha)*exp(1.0*I*theta)**4.0/pi + 3*H*a(t)**5*exp(-I*alpha)*exp(1.0*I*theta)**3.0/(4*pi) + H*a(t)**4*exp(-I*alpha)*exp(1.0*I*theta)**2.0/(2*pi) + H*a(t)**3*exp(-I*alpha)*exp(1.0*I*theta)**1.0/(4*pi) - H*a(t)*exp(-I*alpha)/(4*pi*exp(1.0*I*theta)**1.0) - 2*H*a^*(t)**6*exp(-I*alpha)/(pi*exp(1.0*I*theta)**8.0) - 7*H*a^*(t)**5*exp(-I*alpha)/(4*pi*exp(1.0*I*theta)**7.0) - 3*H*a^*(t)**4*exp(-I*alpha)/(2*pi*exp(1.0*I*theta)**6.0) - 5*H*a^*(t)**3*exp(-I*alpha)/(4*pi*exp(1.0*I*theta)**5.0) - H*a^*(t)**2*exp(-I*alpha)/(pi*exp(1.0*I*theta)**4.0) - 3*H*a^*(t)*exp(-I*alpha)/(4*pi*exp(1.0*I*theta)**3.0) + H*b(t)**6*exp(-I*alpha)*exp(1.0*I*theta)**4.0/pi + 3*H*b(t)**5*exp(-I*alpha)*exp(1.0*I*theta)**3.0/(4*pi) + H*b(t)**4*exp(-I*alpha)*exp(1.0*I*theta)**2.0/(2*pi) + H*b(t)**3*exp(-I*alpha)*exp(1.0*I*theta)**1.0/(4*pi) - H*b(t)*exp(-I*alpha)/(4*pi*exp(1.0*I*theta)**1.0) - 2*H*b^*(t)**6*exp(-I*alpha)/(pi*exp(1.0*I*theta)**8.0) - 7*H*b^*(t)**5*exp(-I*alpha)/(4*pi*exp(1.0*I*theta)**7.0) - 3*H*b^*(t)**4*exp(-I*alpha)/(2*pi*exp(1.0*I*theta)**6.0) - 5*H*b^*(t)**3*exp(-I*alpha)/(4*pi*exp(1.0*I*theta)**5.0) - H*b^*(t)**2*exp(-I*alpha)/(pi*exp(1.0*I*theta)**4.0) - 3*H*b^*(t)*exp(-I*alpha)/(4*pi*exp(1.0*I*theta)**3.0) - H*exp(-I*alpha)/(2*pi*exp(1.0*I*theta)**2.0) - 2*H^**a(t)**6*exp(I*alpha)*exp(1.0*I*theta)**8.0/pi - 7*H^**a(t)**5*exp(I*alpha)*exp(1.0*I*theta)**7.0/(4*pi) - 3*H^**a(t)**4*exp(I*alpha)*exp(1.0*I*theta)**6.0/(2*pi) - 5*H^**a(t)**3*exp(I*alpha)*exp(1.0*I*theta)**5.0/(4*pi) - H^**a(t)**2*exp(I*alpha)*exp(1.0*I*theta)**4.0/pi - 3*H^**a(t)*exp(I*alpha)*exp(1.0*I*theta)**3.0/(4*pi) + H^**a^*(t)**6*exp(I*alpha)/(pi*exp(1.0*I*theta)**4.0) + 3*H^**a^*(t)**5*exp(I*alpha)/(4*pi*exp(1.0*I*theta)**3.0) + H^**a^*(t)**4*exp(I*alpha)/(2*pi*exp(1.0*I*theta)**2.0) + H^**a^*(t)**3*exp(I*alpha)/(4*pi*exp(1.0*I*theta)**1.0) - H^**a^*(t)*exp(I*alpha)*exp(1.0*I*theta)**1.0/(4*pi) - 2*H^**b(t)**6*exp(I*alpha)*exp(1.0*I*theta)**8.0/pi - 7*H^**b(t)**5*exp(I*alpha)*exp(1.0*I*theta)**7.0/(4*pi) - 3*H^**b(t)**4*exp(I*alpha)*exp(1.0*I*theta)**6.0/(2*pi) - 5*H^**b(t)**3*exp(I*alpha)*exp(1.0*I*theta)**5.0/(4*pi) - H^**b(t)**2*exp(I*alpha)*exp(1.0*I*theta)**4.0/pi - 3*H^**b(t)*exp(I*alpha)*exp(1.0*I*theta)**3.0/(4*pi) + H^**b^*(t)**6*exp(I*alpha)/(pi*exp(1.0*I*theta)**4.0) + 3*H^**b^*(t)**5*exp(I*alpha)/(4*pi*exp(1.0*I*theta)**3.0) + H^**b^*(t)**4*exp(I*alpha)/(2*pi*exp(1.0*I*theta)**2.0) + H^**b^*(t)**3*exp(I*alpha)/(4*pi*exp(1.0*I*theta)**1.0) - H^**b^*(t)*exp(I*alpha)*exp(1.0*I*theta)**1.0/(4*pi) - H^**exp(I*alpha)*exp(1.0*I*theta)**2.0/(2*pi) + 3*I*omega*a(t)**6*exp(1.0*I*theta)**6.0/pi + 5*I*omega*a(t)**5*exp(1.0*I*theta)**5.0/(2*pi) + 2*I*omega*a(t)**4*exp(1.0*I*theta)**4.0/pi + 3*I*omega*a(t)**3*exp(1.0*I*theta)**3.0/(2*pi) + I*omega*a(t)**2*exp(1.0*I*theta)**2.0/pi + I*omega*a(t)*exp(1.0*I*theta)**1.0/(2*pi) - 3*I*omega*a^*(t)**6/(pi*exp(1.0*I*theta)**6.0) - 5*I*omega*a^*(t)**5/(2*pi*exp(1.0*I*theta)**5.0) - 2*I*omega*a^*(t)**4/(pi*exp(1.0*I*theta)**4.0) - 3*I*omega*a^*(t)**3/(2*pi*exp(1.0*I*theta)**3.0) - I*omega*a^*(t)**2/(pi*exp(1.0*I*theta)**2.0) - I*omega*a^*(t)/(2*pi*exp(1.0*I*theta)**1.0) + 3*I*omega*b(t)**6*exp(1.0*I*theta)**6.0/pi + 5*I*omega*b(t)**5*exp(1.0*I*theta)**5.0/(2*pi) + 2*I*omega*b(t)**4*exp(1.0*I*theta)**4.0/pi + 3*I*omega*b(t)**3*exp(1.0*I*theta)**3.0/(2*pi) + I*omega*b(t)**2*exp(1.0*I*theta)**2.0/pi + I*omega*b(t)*exp(1.0*I*theta)**1.0/(2*pi) - 3*I*omega*b^*(t)**6/(pi*exp(1.0*I*theta)**6.0) - 5*I*omega*b^*(t)**5/(2*pi*exp(1.0*I*theta)**5.0) - 2*I*omega*b^*(t)**4/(pi*exp(1.0*I*theta)**4.0) - 3*I*omega*b^*(t)**3/(2*pi*exp(1.0*I*theta)**3.0) - I*omega*b^*(t)**2/(pi*exp(1.0*I*theta)**2.0) - I*omega*b^*(t)/(2*pi*exp(1.0*I*theta)**1.0) + 3*a(t)**5*exp(1.0*I*theta)**6.0*Derivative(a(t), t)/pi + 5*a(t)**4*exp(1.0*I*theta)**5.0*Derivative(a(t), t)/(2*pi) + 2*a(t)**3*exp(1.0*I*theta)**4.0*Derivative(a(t), t)/pi + 3*a(t)**2*exp(1.0*I*theta)**3.0*Derivative(a(t), t)/(2*pi) + a(t)*exp(1.0*I*theta)**2.0*Derivative(a(t), t)/pi + 3*a^*(t)**5*Derivative(a^*(t), t)/(pi*exp(1.0*I*theta)**6.0) + 5*a^*(t)**4*Derivative(a^*(t), t)/(2*pi*exp(1.0*I*theta)**5.0) + 2*a^*(t)**3*Derivative(a^*(t), t)/(pi*exp(1.0*I*theta)**4.0) + 3*a^*(t)**2*Derivative(a^*(t), t)/(2*pi*exp(1.0*I*theta)**3.0) + a^*(t)*Derivative(a^*(t), t)/(pi*exp(1.0*I*theta)**2.0) + 3*b(t)**5*exp(1.0*I*theta)**6.0*Derivative(b(t), t)/pi + 5*b(t)**4*exp(1.0*I*theta)**5.0*Derivative(b(t), t)/(2*pi) + 2*b(t)**3*exp(1.0*I*theta)**4.0*Derivative(b(t), t)/pi + 3*b(t)**2*exp(1.0*I*theta)**3.0*Derivative(b(t), t)/(2*pi) + b(t)*exp(1.0*I*theta)**2.0*Derivative(b(t), t)/pi + 3*b^*(t)**5*Derivative(b^*(t), t)/(pi*exp(1.0*I*theta)**6.0) + 5*b^*(t)**4*Derivative(b^*(t), t)/(2*pi*exp(1.0*I*theta)**5.0) + 2*b^*(t)**3*Derivative(b^*(t), t)/(pi*exp(1.0*I*theta)**4.0) + 3*b^*(t)**2*Derivative(b^*(t), t)/(2*pi*exp(1.0*I*theta)**3.0) + b^*(t)*Derivative(b^*(t), t)/(pi*exp(1.0*I*theta)**2.0) + Derivative(a^*(t), t)/(2*pi*exp(1.0*I*theta)**1.0) + Derivative(b^*(t), t)/(2*pi*exp(1.0*I*theta)**1.0) + exp(1.0*I*theta)**1.0*Derivative(a(t), t)/(2*pi) + exp(1.0*I*theta)**1.0*Derivative(b(t), t)/(2*pi)"
      ]
     },
     "execution_count": 151,
     "metadata": {},
     "output_type": "execute_result"
    }
   ],
   "source": [
    "poly_.as_expr(1)"
   ]
  },
  {
   "cell_type": "code",
   "execution_count": 195,
   "metadata": {},
   "outputs": [],
   "source": [
    "# H에 대한 부분 적기\n",
    "theta,t,alpha,n,omega = symbols('theta t alpha n omega',real=True)\n",
    "\n",
    "K,beta = symbols('K beta',real=True)\n",
    "sigma1,sigma2 = symbols('sigma1,sigma2')\n",
    "Z = IndexedBase('Z')\n",
    "Zs = IndexedBase('Z^*')\n",
    "R = IndexedBase('R', real = True)\n",
    "psi = IndexedBase('psi', real = True)\n",
    "Z1A = R['A']*E**(psi['A']*I)\n",
    "Z1B = R['B']*E**(psi['B']*I)\n",
    "Z1As = R['A']*E**(-psi['A']*I)\n",
    "Z1Bs = R['B']*E**(-psi['B']*I)\n",
    "H1 = K*Z1A*Z1A+ 2*K*beta*Z1A*Z1B + K*beta**2*Z1B*Z1B\n",
    "H1s = K*Z1As*Z1As + 2*K*beta*Z1As*Z1Bs + K*beta**2*Z1Bs*Z1Bs\n",
    "dZ1dt =  I*omega*Z1A + 1/2 *(H1*Z1As*E**(-I*alpha) - H1s*Z1A**3*E**(I*alpha))\n",
    "dR1dt = I*omega*R['A'] + 1/2 *(H1*R['A']*E**(-2j*psi['A'])*E**(-I*alpha) - H1s*R['A']**3*E**(2j*psi['A'])*E**(I*alpha))\n",
    "dpsi1dt = dZ1dt/Z1A"
   ]
  },
  {
   "cell_type": "code",
   "execution_count": 196,
   "metadata": {},
   "outputs": [],
   "source": [
    "dR_sim = re(dZ1dt/(E**(I*psi['A']))).simplify()"
   ]
  },
  {
   "cell_type": "code",
   "execution_count": 197,
   "metadata": {},
   "outputs": [],
   "source": [
    "dpsi_sim = im(dpsi1dt).simplify()"
   ]
  },
  {
   "cell_type": "code",
   "execution_count": 199,
   "metadata": {},
   "outputs": [
    {
     "data": {
      "text/latex": [
       "$\\displaystyle K \\left(- 0.5 \\beta^{2} \\cos{\\left(\\alpha + 2 {\\psi}_{A} - 2 {\\psi}_{B} \\right)} {R}_{A}^{2} {R}_{B}^{2} + 0.5 \\beta^{2} \\cos{\\left(\\alpha + 2 {\\psi}_{A} - 2 {\\psi}_{B} \\right)} {R}_{B}^{2} - 1.0 \\beta \\cos{\\left(\\alpha + {\\psi}_{A} - {\\psi}_{B} \\right)} {R}_{A}^{3} {R}_{B} + 1.0 \\beta \\cos{\\left(\\alpha + {\\psi}_{A} - {\\psi}_{B} \\right)} {R}_{A} {R}_{B} - 0.5 \\cos{\\left(\\alpha \\right)} {R}_{A}^{4} + 0.5 \\cos{\\left(\\alpha \\right)} {R}_{A}^{2}\\right) {R}_{A}$"
      ],
      "text/plain": [
       "K*(-0.5*beta**2*cos(alpha + 2*psi[A] - 2*psi[B])*R[A]**2*R[B]**2 + 0.5*beta**2*cos(alpha + 2*psi[A] - 2*psi[B])*R[B]**2 - 1.0*beta*cos(alpha + psi[A] - psi[B])*R[A]**3*R[B] + 1.0*beta*cos(alpha + psi[A] - psi[B])*R[A]*R[B] - 0.5*cos(alpha)*R[A]**4 + 0.5*cos(alpha)*R[A]**2)*R[A]"
      ]
     },
     "execution_count": 199,
     "metadata": {},
     "output_type": "execute_result"
    }
   ],
   "source": [
    "dR_sim"
   ]
  },
  {
   "cell_type": "code",
   "execution_count": 200,
   "metadata": {},
   "outputs": [
    {
     "data": {
      "text/latex": [
       "$\\displaystyle K \\left(\\beta^{2} \\left(- 0.5 {R}_{A}^{2} {R}_{B}^{2} + 0.5 {R}_{B}^{2}\\right) \\cos{\\left(\\alpha + 2 {\\psi}_{A} - 2 {\\psi}_{B} \\right)} + \\beta \\left(1.0 - 1.0 {R}_{A}^{2}\\right) \\cos{\\left(\\alpha + {\\psi}_{A} - {\\psi}_{B} \\right)} {R}_{A} {R}_{B} + \\left(- 0.5 {R}_{A}^{4} + 0.5 {R}_{A}^{2}\\right) \\cos{\\left(\\alpha \\right)}\\right) {R}_{A}$"
      ],
      "text/plain": [
       "K*(beta**2*(-0.5*R[A]**2*R[B]**2 + 0.5*R[B]**2)*cos(alpha + 2*psi[A] - 2*psi[B]) + beta*(1.0 - 1.0*R[A]**2)*cos(alpha + psi[A] - psi[B])*R[A]*R[B] + (-0.5*R[A]**4 + 0.5*R[A]**2)*cos(alpha))*R[A]"
      ]
     },
     "execution_count": 200,
     "metadata": {},
     "output_type": "execute_result"
    }
   ],
   "source": [
    "dR_sim.collect(cos(alpha)).collect(cos(alpha+psi['A']-psi['B'])).collect(cos(alpha+2*psi['A']-2*psi['B'])).collect(R['A']*R['B']).collect(beta)"
   ]
  },
  {
   "cell_type": "code",
   "execution_count": 172,
   "metadata": {},
   "outputs": [
    {
     "data": {
      "text/latex": [
       "$\\displaystyle K \\left(\\beta^{2} \\left(- 0.5 {R}_{A}^{2} {R}_{B}^{2} - 0.5 {R}_{B}^{2}\\right) \\sin{\\left(\\alpha + 2 {\\psi}_{A} - 2 {\\psi}_{B} \\right)} + \\beta \\left(- 1.0 {R}_{A}^{2} - 1.0\\right) \\sin{\\left(\\alpha + {\\psi}_{A} - {\\psi}_{B} \\right)} {R}_{A} {R}_{B} + \\left(- 0.5 {R}_{A}^{4} - 0.5 {R}_{A}^{2}\\right) \\sin{\\left(\\alpha \\right)}\\right) + 1.0 \\omega$"
      ],
      "text/plain": [
       "K*(beta**2*(-0.5*R[A]**2*R[B]**2 - 0.5*R[B]**2)*sin(alpha + 2*psi[A] - 2*psi[B]) + beta*(-1.0*R[A]**2 - 1.0)*sin(alpha + psi[A] - psi[B])*R[A]*R[B] + (-0.5*R[A]**4 - 0.5*R[A]**2)*sin(alpha)) + 1.0*omega"
      ]
     },
     "execution_count": 172,
     "metadata": {},
     "output_type": "execute_result"
    }
   ],
   "source": [
    "dpsi_sim.simplify().collect(K).collect(sin(alpha)).collect(sin(alpha+psi['A']-psi['B'])).collect(sin(alpha+2*psi['A']-2*psi['B'])).collect(R['A']*R['B']).collect(beta).collect(R['A']**2-1)"
   ]
  },
  {
   "cell_type": "code",
   "execution_count": 58,
   "metadata": {},
   "outputs": [
    {
     "data": {
      "text/latex": [
       "$\\displaystyle i \\omega {R}_{A} + 0.5 \\left(- i \\sin{\\left(\\alpha \\right)} + \\cos{\\left(\\alpha \\right)}\\right) \\left(- i \\sin{\\left(2 {\\psi}_{A} \\right)} + \\cos{\\left(2 {\\psi}_{A} \\right)}\\right) \\left(K \\beta^{2} \\left(i \\sin{\\left({\\psi}_{B} \\right)} + \\cos{\\left({\\psi}_{B} \\right)}\\right)^{2} {R}_{B}^{2} + 2 K \\beta \\left(i \\sin{\\left({\\psi}_{A} \\right)} + \\cos{\\left({\\psi}_{A} \\right)}\\right) \\left(i \\sin{\\left({\\psi}_{B} \\right)} + \\cos{\\left({\\psi}_{B} \\right)}\\right) {R}_{A} {R}_{B} + K \\left(i \\sin{\\left({\\psi}_{A} \\right)} + \\cos{\\left({\\psi}_{A} \\right)}\\right)^{2} {R}_{A}^{2}\\right) {R}_{A} + 0.5 \\left(i \\sin{\\left(\\alpha \\right)} + \\cos{\\left(\\alpha \\right)}\\right) \\left(i \\sin{\\left(2 {\\psi}_{A} \\right)} + \\cos{\\left(2 {\\psi}_{A} \\right)}\\right) \\left(K \\beta^{2} \\left(- i \\sin{\\left({\\psi}_{B} \\right)} + \\cos{\\left({\\psi}_{B} \\right)}\\right)^{2} {R}_{B}^{2} + 2 K \\beta \\left(- i \\sin{\\left({\\psi}_{A} \\right)} + \\cos{\\left({\\psi}_{A} \\right)}\\right) \\left(- i \\sin{\\left({\\psi}_{B} \\right)} + \\cos{\\left({\\psi}_{B} \\right)}\\right) {R}_{A} {R}_{B} + K \\left(- i \\sin{\\left({\\psi}_{A} \\right)} + \\cos{\\left({\\psi}_{A} \\right)}\\right)^{2} {R}_{A}^{2}\\right) {R}_{A}^{3}$"
      ],
      "text/plain": [
       "I*omega*R[A] + 0.5*(-I*sin(alpha) + cos(alpha))*(-I*sin(2*psi[A]) + cos(2*psi[A]))*(K*beta**2*(I*sin(psi[B]) + cos(psi[B]))**2*R[B]**2 + 2*K*beta*(I*sin(psi[A]) + cos(psi[A]))*(I*sin(psi[B]) + cos(psi[B]))*R[A]*R[B] + K*(I*sin(psi[A]) + cos(psi[A]))**2*R[A]**2)*R[A] + 0.5*(I*sin(alpha) + cos(alpha))*(I*sin(2*psi[A]) + cos(2*psi[A]))*(K*beta**2*(-I*sin(psi[B]) + cos(psi[B]))**2*R[B]**2 + 2*K*beta*(-I*sin(psi[A]) + cos(psi[A]))*(-I*sin(psi[B]) + cos(psi[B]))*R[A]*R[B] + K*(-I*sin(psi[A]) + cos(psi[A]))**2*R[A]**2)*R[A]**3"
      ]
     },
     "execution_count": 58,
     "metadata": {},
     "output_type": "execute_result"
    }
   ],
   "source": [
    "# H에 대한 부분 적기\n",
    "K,beta = symbols('K beta',real=True)\n",
    "sigma1,sigma2 = symbols('sigma1,sigma2')\n",
    "Z = IndexedBase('Z')\n",
    "Zs = IndexedBase('Z^*')\n",
    "R = IndexedBase('R', real = True)\n",
    "psi = IndexedBase('psi', real = True)\n",
    "Z1A = R['A']*(cos(psi['A'])+I*sin(psi['A']))\n",
    "Z1B = R['B']*(cos(psi['B'])+I*sin(psi['B']))\n",
    "Z1As = R['A']*(cos(psi['A'])-I*sin(psi['A']))\n",
    "Z1Bs = R['B']*(cos(psi['B'])-I*sin(psi['B']))\n",
    "Ea = cos(alpha) +I*sin(alpha)\n",
    "Eas = cos(alpha) - I*sin(alpha)\n",
    "H1 = K*Z1A*Z1A+ 2*K*beta*Z1A*Z1B + K*beta**2*Z1B*Z1B\n",
    "H1s = K*Z1As*Z1As + 2*K*beta*Z1As*Z1Bs + K*beta**2*Z1Bs*Z1Bs\n",
    "dZ1dt =  I*omega*Z1A + 1/2 *(H1*Z1As*E**(-1j*alpha) + H1s*Z1A**3*E**(1j*alpha))\n",
    "dR1dt = I*omega*R['A'] + 1/2 *(H1*R['A']*(cos(2*psi['A'])-I*sin(2*psi['A']))*Eas + H1s*R['A']**3*(cos(2*psi['A'])+I*sin(2*psi['A']))*Ea)\n",
    "dR1dt = I*omega*R['A'] + 1/2 *(H1*R['A']*(cos(2*psi['A'])-I*sin(2*psi['A']))*Eas + H1s*R['A']**3*(cos(2*psi['A'])+I*sin(2*psi['A']))*Ea)"
   ]
  },
  {
   "cell_type": "code",
   "execution_count": 65,
   "metadata": {},
   "outputs": [],
   "source": [
    "SIMP_dR1dt = re(dR1dt).trigsimp().simplify()"
   ]
  },
  {
   "cell_type": "code",
   "execution_count": 70,
   "metadata": {},
   "outputs": [
    {
     "data": {
      "text/latex": [
       "$\\displaystyle 0.5 K \\left({R}_{A}^{2} + 1\\right) \\left(\\beta^{2} \\left(\\left(- 2 \\sin{\\left(\\alpha + {\\psi}_{A} \\right)} + 4 \\sin{\\left({\\psi}_{B} \\right)} \\cos{\\left(\\alpha + {\\psi}_{A} - {\\psi}_{B} \\right)}\\right) \\sin{\\left({\\psi}_{A} \\right)} + 2 \\sin{\\left(\\alpha - {\\psi}_{B} \\right)} \\sin{\\left({\\psi}_{B} \\right)} + \\cos{\\left(\\alpha \\right)}\\right) {R}_{B}^{2} + 2 \\beta \\cos{\\left(\\alpha + {\\psi}_{A} - {\\psi}_{B} \\right)} {R}_{A} {R}_{B} + \\cos{\\left(\\alpha \\right)} {R}_{A}^{2}\\right) {R}_{A}$"
      ],
      "text/plain": [
       "0.5*K*(R[A]**2 + 1)*(beta**2*((-2*sin(alpha + psi[A]) + 4*sin(psi[B])*cos(alpha + psi[A] - psi[B]))*sin(psi[A]) + 2*sin(alpha - psi[B])*sin(psi[B]) + cos(alpha))*R[B]**2 + 2*beta*cos(alpha + psi[A] - psi[B])*R[A]*R[B] + cos(alpha)*R[A]**2)*R[A]"
      ]
     },
     "execution_count": 70,
     "metadata": {},
     "output_type": "execute_result"
    }
   ],
   "source": [
    "SIMP_dR1dt.collect(R['B']).collect(beta).collect(sin(psi['A']))"
   ]
  },
  {
   "cell_type": "code",
   "execution_count": 34,
   "metadata": {},
   "outputs": [
    {
     "data": {
      "text/latex": [
       "$\\displaystyle \\sin{\\left(\\theta \\right)}$"
      ],
      "text/plain": [
       "sin(theta)"
      ]
     },
     "execution_count": 34,
     "metadata": {},
     "output_type": "execute_result"
    }
   ],
   "source": [
    "im(E**(I*theta))"
   ]
  },
  {
   "cell_type": "code",
   "execution_count": 84,
   "metadata": {},
   "outputs": [
    {
     "data": {
      "text/latex": [
       "$\\displaystyle 0$"
      ],
      "text/plain": [
       "0"
      ]
     },
     "execution_count": 84,
     "metadata": {},
     "output_type": "execute_result"
    }
   ],
   "source": [
    "simplify(dR_sim.collect(R['A']) - SIMP_dR1dt)"
   ]
  },
  {
   "cell_type": "markdown",
   "metadata": {},
   "source": [
    "# 수정된 OA ansatz"
   ]
  },
  {
   "cell_type": "code",
   "execution_count": 232,
   "metadata": {},
   "outputs": [],
   "source": [
    "# H에 대한 부분 적기\n",
    "theta,t,alpha,n,omega = symbols('theta t alpha n omega',real=True)\n",
    "K,beta = symbols('K beta',real=True)\n",
    "sigma1,sigma2 = symbols('sigma1,sigma2')\n",
    "Z = IndexedBase('Z')\n",
    "Zs = IndexedBase('Z^*')\n",
    "r = IndexedBase('r', real = True)\n",
    "psi = IndexedBase('psi', real = True)\n",
    "zAa = (r[1,'a'])*E**(psi[1]*I)\n",
    "zAas = (r[1,'a'])*E**(-psi[1]*I)\n",
    "zBa = (r[2,'a'])*E**(psi[2]*I)\n",
    "zBas = (r[2,'a'])*E**(-psi[2]*I)\n",
    "\n",
    "zAb = (r[1,'b'])*E**(psi[1]*I)\n",
    "zAbs = (r[1,'b'])*E**(-psi[1]*I)\n",
    "zBb = (r[2,'b'])*E**(psi[2]*I)\n",
    "zBbs = (r[2,'b'])*E**(-psi[2]*I)\n",
    "\n",
    "\n",
    "Z1A =  (r[1,'b'])*E**(psi[1]*I)  #-r[1,'b]*E**(psi[1]*I)\n",
    "Z1B =  (r[2,'b'])*E**(psi[2]*I)  #-r[2,'b']*E**(psi[2]*I)\n",
    "Z1As = (r[1,'b'])*E**(-psi[1]*I) #-r[1,'b]*E**(-psi[1]*I)\n",
    "Z1Bs = (r[2,'b'])*E**(-psi[2]*I) #-r[2,'b']*E**(-psi[2]*I)\n",
    "\n",
    "# Z1A =  (r[1,'b'])*E**(psi[1]*I)  #-r[1,'b]*E**(psi[1]*I)\n",
    "# Z1B =  (r[2,'b'])*E**(psi[2]*I)  #-r[2,'b']*E**(psi[2]*I)\n",
    "# Z1As = (r[1,'b'])*E**(-psi[1]*I) #-r[1,'b]*E**(-psi[1]*I)\n",
    "# Z1Bs = (r[2,'b'])*E**(-psi[2]*I) #-r[2,'b']*E**(-psi[2]*I)\n",
    "\n",
    "# H1 = K*Z1A*Z1A+ 2*K*beta*Z1A*Z1B + K*beta**2*Z1B*Z1B\n",
    "# H1s = K*Z1As*Z1As + 2*K*beta*Z1As*Z1Bs + K*beta**2*Z1Bs*Z1Bs\n",
    "\n",
    "# H1 =  2*K*zAa*zAb#K*2*beta**2*zAb*zBb#+#K*beta*(zAa*zBb+zAb*zBa)\n",
    "# H1s =  2*K*zAas*zAbs#K*2*beta**2*zAbs*zBbs#+K*beta*(zAas*zBbs+zAbs*zBas) + \n",
    "# H1 =  K*2*beta**2*zBa*zBb#+#K*beta*(zAa*zBb+zAb*zBa)\n",
    "# H1s =  K*2*beta**2*zBas*zBbs#+K*beta*(zAas*zBbs+zAbs*zBas) + \n",
    "\n",
    "H1 =  K*beta*(zAb*zBa)\n",
    "H1s =  K*beta*(zAbs*zBas)\n",
    "\n",
    "dz1dt = I*omega*zAa + 1/2 *(H1*zAas*E**(-I*alpha) - H1s*zAa**3*E**(I*alpha))\n",
    "# dZ1dt =  I*omega*Z1A + 1/2 *(H1*Z1As*E**(-I*alpha) - H1s*Z1A**3*E**(I*alpha))\n",
    "\n",
    "dr1dt = dz1dt/(E**(psi[1]*I))\n",
    "dpsi1dt = dz1dt/zAa\n",
    "\n",
    "# dZ1dt =  I*omega*Z1A + 1/2 *(H1*Z1As*E**(-I*alpha) + H1s*Z1A**3*E**(I*alpha))\n",
    "# dR1dt = I*omega*R['A'] + 1/2 *(H1*R['A']*E**(-2j*psi['A'])*E**(-I*alpha) + H1s*R['A']**3*E**(I*alpha))"
   ]
  },
  {
   "cell_type": "code",
   "execution_count": 233,
   "metadata": {},
   "outputs": [],
   "source": [
    "dr_sim = re(dr1dt).simplify()"
   ]
  },
  {
   "cell_type": "code",
   "execution_count": 234,
   "metadata": {},
   "outputs": [
    {
     "data": {
      "text/latex": [
       "$\\displaystyle 0.5 K \\beta \\left(1 - {r}_{1,a}^{2}\\right) \\cos{\\left(\\alpha + {\\psi}_{1} - {\\psi}_{2} \\right)} {r}_{1,a} {r}_{1,b} {r}_{2,a}$"
      ],
      "text/plain": [
       "0.5*K*beta*(1 - r[1, a]**2)*cos(alpha + psi[1] - psi[2])*r[1, a]*r[1, b]*r[2, a]"
      ]
     },
     "execution_count": 234,
     "metadata": {},
     "output_type": "execute_result"
    }
   ],
   "source": [
    "dr_sim"
   ]
  },
  {
   "cell_type": "code",
   "execution_count": 212,
   "metadata": {},
   "outputs": [
    {
     "data": {
      "text/latex": [
       "$\\displaystyle K \\left(\\beta^{2} \\left(- 0.5 \\cos{\\left(- \\alpha + {\\psi}_{1} + {\\psi}_{2} \\right)} {r}_{1,a}^{2} {r}_{1,b} {r}_{2,b} - 0.5 \\cos{\\left(\\alpha + 3 {\\psi}_{1} - {\\psi}_{2} \\right)} {r}_{1,a}^{2} {r}_{1,b} {r}_{2,b}\\right) + \\beta \\left(\\left(- 0.25 \\cos{\\left(- \\alpha + {\\psi}_{1} + {\\psi}_{2} \\right)} {r}_{1,a} {r}_{1,b} - 0.25 \\cos{\\left(\\alpha + 3 {\\psi}_{1} - {\\psi}_{2} \\right)} {r}_{1,a} {r}_{1,b}\\right) {r}_{1,a} {r}_{2,a} - 0.25 \\cos{\\left(- \\alpha + {\\psi}_{1} + {\\psi}_{2} \\right)} {r}_{1,a}^{3} {r}_{2,b} - 0.25 \\cos{\\left(\\alpha + 3 {\\psi}_{1} - {\\psi}_{2} \\right)} {r}_{1,a}^{3} {r}_{2,b}\\right) + \\left(\\beta^{2} \\left(- 2.0 \\sin^{2}{\\left({\\psi}_{1} \\right)} {r}_{1,a}^{2} {r}_{1,b} {r}_{2,b} + 1.0 {r}_{1,b} {r}_{2,b}\\right) + \\beta \\left(- 1.0 \\sin^{2}{\\left({\\psi}_{1} \\right)} {r}_{1,a}^{3} {r}_{2,b} - 1.0 \\sin^{2}{\\left({\\psi}_{1} \\right)} {r}_{1,a}^{2} {r}_{1,b} {r}_{2,a} + 0.5 {r}_{1,a} {r}_{2,b} + 0.5 {r}_{1,b} {r}_{2,a}\\right)\\right) \\cos{\\left(\\alpha + {\\psi}_{1} - {\\psi}_{2} \\right)} + 1.0 \\sin{\\left(\\alpha \\right)} \\sin{\\left({\\psi}_{1} \\right)} \\cos{\\left({\\psi}_{1} \\right)} {r}_{1,a}^{3} {r}_{1,b} - 4.0 \\sin{\\left(\\alpha + {\\psi}_{1} \\right)} \\sin^{3}{\\left({\\psi}_{1} \\right)} {r}_{1,a}^{3} {r}_{1,b} - 1.0 \\sin{\\left(\\alpha + 3 {\\psi}_{1} \\right)} \\sin{\\left({\\psi}_{1} \\right)} {r}_{1,a}^{3} {r}_{1,b} + 3.0 \\sin^{2}{\\left({\\psi}_{1} \\right)} \\cos{\\left(\\alpha \\right)} {r}_{1,a}^{3} {r}_{1,b} - 1.0 \\cos{\\left(\\alpha \\right)} {r}_{1,a}^{3} {r}_{1,b} + 1.0 \\cos{\\left(\\alpha \\right)} {r}_{1,a} {r}_{1,b}\\right) {r}_{1,a}$"
      ],
      "text/plain": [
       "K*(beta**2*(-0.5*cos(-alpha + psi[1] + psi[2])*r[1, a]**2*r[1, b]*r[2, b] - 0.5*cos(alpha + 3*psi[1] - psi[2])*r[1, a]**2*r[1, b]*r[2, b]) + beta*((-0.25*cos(-alpha + psi[1] + psi[2])*r[1, a]*r[1, b] - 0.25*cos(alpha + 3*psi[1] - psi[2])*r[1, a]*r[1, b])*r[1, a]*r[2, a] - 0.25*cos(-alpha + psi[1] + psi[2])*r[1, a]**3*r[2, b] - 0.25*cos(alpha + 3*psi[1] - psi[2])*r[1, a]**3*r[2, b]) + (beta**2*(-2.0*sin(psi[1])**2*r[1, a]**2*r[1, b]*r[2, b] + 1.0*r[1, b]*r[2, b]) + beta*(-1.0*sin(psi[1])**2*r[1, a]**3*r[2, b] - 1.0*sin(psi[1])**2*r[1, a]**2*r[1, b]*r[2, a] + 0.5*r[1, a]*r[2, b] + 0.5*r[1, b]*r[2, a]))*cos(alpha + psi[1] - psi[2]) + 1.0*sin(alpha)*sin(psi[1])*cos(psi[1])*r[1, a]**3*r[1, b] - 4.0*sin(alpha + psi[1])*sin(psi[1])**3*r[1, a]**3*r[1, b] - 1.0*sin(alpha + 3*psi[1])*sin(psi[1])*r[1, a]**3*r[1, b] + 3.0*sin(psi[1])**2*cos(alpha)*r[1, a]**3*r[1, b] - 1.0*cos(alpha)*r[1, a]**3*r[1, b] + 1.0*cos(alpha)*r[1, a]*r[1, b])*r[1, a]"
      ]
     },
     "execution_count": 212,
     "metadata": {},
     "output_type": "execute_result"
    }
   ],
   "source": [
    "dr_sim.collect(cos(alpha+psi[1]-psi[2])).collect(cos(alpha+2*psi[1]-2*psi[2])).collect(r[1,'a']*r[2,'a']).collect(beta)"
   ]
  },
  {
   "cell_type": "code",
   "execution_count": null,
   "metadata": {},
   "outputs": [],
   "source": [
    "# H에 대한 부분 적기\n",
    "theta,t,alpha,n,omega = symbols('theta t alpha n omega',real=True)\n",
    "K,beta = symbols('K beta',real=True)\n",
    "sigma1,sigma2 = symbols('sigma1,sigma2')\n",
    "Z = IndexedBase('Z')\n",
    "Zs = IndexedBase('Z^*')\n",
    "r = IndexedBase('r', real = True)\n",
    "psi = IndexedBase('psi', real = True)\n",
    "zAa = (r[1,'a'])*E**(psi[1]*I)\n",
    "zAas = (r[1,'a'])*E**(-psi[1]*I)\n",
    "zBa = (r[2,'a'])*E**(psi[2]*I)\n",
    "zBas = (r[2,'a'])*E**(-psi[2]*I)\n",
    "\n",
    "zAb = (r[1,'b'])*E**(psi[1]*I)\n",
    "zAbs = (r[1,'b'])*E**(-psi[1]*I)\n",
    "zBb = (r[2,'b'])*E**(psi[2]*I)\n",
    "zBbs = (r[2,'b'])*E**(-psi[2]*I)\n",
    "\n",
    "\n",
    "Z1A =  (r[1,'b'])*E**(psi[1]*I)  #-r[1,'b]*E**(psi[1]*I)\n",
    "Z1B =  (r[2,'b'])*E**(psi[2]*I)  #-r[2,'b']*E**(psi[2]*I)\n",
    "Z1As = (r[1,'b'])*E**(-psi[1]*I) #-r[1,'b]*E**(-psi[1]*I)\n",
    "Z1Bs = (r[2,'b'])*E**(-psi[2]*I) #-r[2,'b']*E**(-psi[2]*I)\n",
    "\n",
    "# Z1A =  (r[1,'b'])*E**(psi[1]*I)  #-r[1,'b]*E**(psi[1]*I)\n",
    "# Z1B =  (r[2,'b'])*E**(psi[2]*I)  #-r[2,'b']*E**(psi[2]*I)\n",
    "# Z1As = (r[1,'b'])*E**(-psi[1]*I) #-r[1,'b]*E**(-psi[1]*I)\n",
    "# Z1Bs = (r[2,'b'])*E**(-psi[2]*I) #-r[2,'b']*E**(-psi[2]*I)\n",
    "\n",
    "# H1 = K*Z1A*Z1A+ 2*K*beta*Z1A*Z1B + K*beta**2*Z1B*Z1B\n",
    "# H1s = K*Z1As*Z1As + 2*K*beta*Z1As*Z1Bs + K*beta**2*Z1Bs*Z1Bs\n",
    "\n",
    "# H1 =  2*K*zAa*zAb#K*2*beta**2*zAb*zBb#+#K*beta*(zAa*zBb+zAb*zBa)\n",
    "# H1s =  2*K*zAas*zAbs#K*2*beta**2*zAbs*zBbs#+K*beta*(zAas*zBbs+zAbs*zBas) + \n",
    "# H1 =  K*2*beta**2*zBa*zBb#+#K*beta*(zAa*zBb+zAb*zBa)\n",
    "# H1s =  K*2*beta**2*zBas*zBbs#+K*beta*(zAas*zBbs+zAbs*zBas) + \n",
    "\n",
    "H1 =  K*beta*(zAb*zBa)\n",
    "H1s =  K*beta*(zAbs*zBas)\n",
    "\n",
    "dz1dt = I*omega*zAa + 1/2 *(H1*zAas*E**(-I*alpha) - H1s*zAa**3*E**(I*alpha))\n",
    "# dZ1dt =  I*omega*Z1A + 1/2 *(H1*Z1As*E**(-I*alpha) - H1s*Z1A**3*E**(I*alpha))\n",
    "\n",
    "dr1dt = dz1dt/(E**(psi[1]*I))\n",
    "dpsi1dt = dz1dt/zAa\n",
    "\n",
    "# dZ1dt =  I*omega*Z1A + 1/2 *(H1*Z1As*E**(-I*alpha) + H1s*Z1A**3*E**(I*alpha))\n",
    "# dR1dt = I*omega*R['A'] + 1/2 *(H1*R['A']*E**(-2j*psi['A'])*E**(-I*alpha) + H1s*R['A']**3*E**(I*alpha))"
   ]
  },
  {
   "cell_type": "code",
   "execution_count": 9,
   "metadata": {},
   "outputs": [],
   "source": [
    "a,b = symbols('a b')\n",
    "r = IndexedBase('r', real = True)\n",
    "e = IndexedBase('epsilon', real = True)\n",
    "phi,alpha,beta = symbols('phi alpha beta',real=True)\n",
    "R1 = r[1,a] - r[1,b]\n",
    "R2 = r[2,a] - r[2,b]\n",
    "F = R1**2*cos(alpha) + beta**2*R2*cos(alpha + 2*phi) + beta*R2*R1*cos(alpha + phi)\n"
   ]
  },
  {
   "cell_type": "code",
   "execution_count": 10,
   "metadata": {},
   "outputs": [
    {
     "data": {
      "text/latex": [
       "$\\displaystyle \\beta^{2} \\cos{\\left(\\alpha + 2 \\phi \\right)} {r}_{2,a} - \\beta^{2} \\cos{\\left(\\alpha + 2 \\phi \\right)} {r}_{2,b} - \\beta \\cos{\\left(\\alpha + \\phi \\right)} {r}_{1,b} {r}_{2,a} + \\beta \\cos{\\left(\\alpha + \\phi \\right)} {r}_{1,b} {r}_{2,b} + \\left(\\beta \\cos{\\left(\\alpha + \\phi \\right)} {r}_{2,a} - \\beta \\cos{\\left(\\alpha + \\phi \\right)} {r}_{2,b} - 2 \\cos{\\left(\\alpha \\right)} {r}_{1,b}\\right) {r}_{1,a} + \\cos{\\left(\\alpha \\right)} {r}_{1,a}^{2} + \\cos{\\left(\\alpha \\right)} {r}_{1,b}^{2}$"
      ],
      "text/plain": [
       "beta**2*cos(alpha + 2*phi)*r[2, a] - beta**2*cos(alpha + 2*phi)*r[2, b] - beta*cos(alpha + phi)*r[1, b]*r[2, a] + beta*cos(alpha + phi)*r[1, b]*r[2, b] + (beta*cos(alpha + phi)*r[2, a] - beta*cos(alpha + phi)*r[2, b] - 2*cos(alpha)*r[1, b])*r[1, a] + cos(alpha)*r[1, a]**2 + cos(alpha)*r[1, b]**2"
      ]
     },
     "execution_count": 10,
     "metadata": {},
     "output_type": "execute_result"
    }
   ],
   "source": [
    "F.expand().collect(r[1,a])"
   ]
  },
  {
   "cell_type": "code",
   "execution_count": null,
   "metadata": {},
   "outputs": [],
   "source": []
  },
  {
   "cell_type": "markdown",
   "metadata": {},
   "source": [
    "# 240513 finite size effect"
   ]
  },
  {
   "cell_type": "code",
   "execution_count": 6,
   "metadata": {},
   "outputs": [],
   "source": [
    "H,Hs = symbols('H H^*',complex=True)\n",
    "L,Ls = symbols('L L^*',complex=True)\n",
    "theta,t,alpha,n,omega,N = symbols('theta t alpha n omega N')\n",
    "a = Function('a')('t')\n",
    "a_s = Function('a^*')('t')\n",
    "b = Function('b')('t')\n",
    "b_s = Function('b^*')('t')\n",
    "A = Sum((a*E**(I*theta))**n,(n,1,6)).doit()\n",
    "As = Sum((a_s*E**(-I*theta))**n,(n,1,6)).doit()\n",
    "B = Sum((b*E**(I*theta))**n,(n,1,6)).doit()\n",
    "Bs = Sum((b_s*E**(-I*theta))**n,(n,1,6)).doit()\n",
    "f = 1/(2*pi) * (1+(A+As))\n",
    "v = omega + 1/(2*I) * (H*E**(-I*(2*theta+alpha))+L*E**(-I*(theta+alpha))+1/N**2 *(E**(-I*alpha)-E**(I*alpha))-Hs*E**(I*(2*theta+alpha))-Ls*E**(I*(theta+alpha)))"
   ]
  },
  {
   "cell_type": "code",
   "execution_count": 7,
   "metadata": {},
   "outputs": [
    {
     "data": {
      "text/latex": [
       "$\\displaystyle \\frac{6 a^{5}{\\left(t \\right)} e^{6 i \\theta} \\frac{d}{d t} a{\\left(t \\right)} + 5 a^{4}{\\left(t \\right)} e^{5 i \\theta} \\frac{d}{d t} a{\\left(t \\right)} + 4 a^{3}{\\left(t \\right)} e^{4 i \\theta} \\frac{d}{d t} a{\\left(t \\right)} + 3 a^{2}{\\left(t \\right)} e^{3 i \\theta} \\frac{d}{d t} a{\\left(t \\right)} + 2 a{\\left(t \\right)} e^{2 i \\theta} \\frac{d}{d t} a{\\left(t \\right)} + 6 \\left(a^{*}\\right)^{5}{\\left(t \\right)} e^{- 6 i \\theta} \\frac{d}{d t} a^{*}{\\left(t \\right)} + 5 \\left(a^{*}\\right)^{4}{\\left(t \\right)} e^{- 5 i \\theta} \\frac{d}{d t} a^{*}{\\left(t \\right)} + 4 \\left(a^{*}\\right)^{3}{\\left(t \\right)} e^{- 4 i \\theta} \\frac{d}{d t} a^{*}{\\left(t \\right)} + 3 \\left(a^{*}\\right)^{2}{\\left(t \\right)} e^{- 3 i \\theta} \\frac{d}{d t} a^{*}{\\left(t \\right)} + 2 a^{*}{\\left(t \\right)} e^{- 2 i \\theta} \\frac{d}{d t} a^{*}{\\left(t \\right)} + e^{i \\theta} \\frac{d}{d t} a{\\left(t \\right)} + e^{- i \\theta} \\frac{d}{d t} a^{*}{\\left(t \\right)}}{2 \\pi}$"
      ],
      "text/plain": [
       "(6*a(t)**5*exp(6*I*theta)*Derivative(a(t), t) + 5*a(t)**4*exp(5*I*theta)*Derivative(a(t), t) + 4*a(t)**3*exp(4*I*theta)*Derivative(a(t), t) + 3*a(t)**2*exp(3*I*theta)*Derivative(a(t), t) + 2*a(t)*exp(2*I*theta)*Derivative(a(t), t) + 6*a^*(t)**5*exp(-6*I*theta)*Derivative(a^*(t), t) + 5*a^*(t)**4*exp(-5*I*theta)*Derivative(a^*(t), t) + 4*a^*(t)**3*exp(-4*I*theta)*Derivative(a^*(t), t) + 3*a^*(t)**2*exp(-3*I*theta)*Derivative(a^*(t), t) + 2*a^*(t)*exp(-2*I*theta)*Derivative(a^*(t), t) + exp(I*theta)*Derivative(a(t), t) + exp(-I*theta)*Derivative(a^*(t), t))/(2*pi)"
      ]
     },
     "execution_count": 7,
     "metadata": {},
     "output_type": "execute_result"
    }
   ],
   "source": [
    "f.diff(t)"
   ]
  },
  {
   "cell_type": "code",
   "execution_count": 8,
   "metadata": {},
   "outputs": [],
   "source": [
    "col_ = collect(together(f.diff(t)+(f*v).diff(theta)).expand(),E**(1j*theta))"
   ]
  },
  {
   "cell_type": "code",
   "execution_count": 9,
   "metadata": {},
   "outputs": [
    {
     "data": {
      "text/latex": [
       "$\\displaystyle - \\frac{2 H \\left(a^{*}\\right)^{6}{\\left(t \\right)} e^{- i \\alpha}}{\\pi \\left(e^{1.0 i \\theta}\\right)^{8.0}} - \\frac{2 H^{*} a^{6}{\\left(t \\right)} e^{i \\alpha} \\left(e^{1.0 i \\theta}\\right)^{8.0}}{\\pi} + \\frac{- \\frac{7 H \\left(a^{*}\\right)^{5}{\\left(t \\right)} e^{- i \\alpha}}{4 \\pi} - \\frac{7 L \\left(a^{*}\\right)^{6}{\\left(t \\right)} e^{- i \\alpha}}{4 \\pi}}{\\left(e^{1.0 i \\theta}\\right)^{7.0}} + \\left(- \\frac{7 H^{*} a^{5}{\\left(t \\right)} e^{i \\alpha}}{4 \\pi} - \\frac{7 L^{*} a^{6}{\\left(t \\right)} e^{i \\alpha}}{4 \\pi}\\right) \\left(e^{1.0 i \\theta}\\right)^{7.0} + \\frac{- \\frac{3 H \\left(a^{*}\\right)^{4}{\\left(t \\right)} e^{- i \\alpha}}{2 \\pi} - \\frac{3 L \\left(a^{*}\\right)^{5}{\\left(t \\right)} e^{- i \\alpha}}{2 \\pi} - \\frac{3 i \\omega \\left(a^{*}\\right)^{6}{\\left(t \\right)}}{\\pi} + \\frac{3 \\left(a^{*}\\right)^{5}{\\left(t \\right)} \\frac{d}{d t} a^{*}{\\left(t \\right)}}{\\pi} + \\frac{3 \\left(a^{*}\\right)^{6}{\\left(t \\right)} e^{i \\alpha}}{2 \\pi N^{2}} - \\frac{3 \\left(a^{*}\\right)^{6}{\\left(t \\right)} e^{- i \\alpha}}{2 \\pi N^{2}}}{\\left(e^{1.0 i \\theta}\\right)^{6.0}} + \\left(- \\frac{3 H^{*} a^{4}{\\left(t \\right)} e^{i \\alpha}}{2 \\pi} - \\frac{3 L^{*} a^{5}{\\left(t \\right)} e^{i \\alpha}}{2 \\pi} + \\frac{3 i \\omega a^{6}{\\left(t \\right)}}{\\pi} + \\frac{3 a^{5}{\\left(t \\right)} \\frac{d}{d t} a{\\left(t \\right)}}{\\pi} - \\frac{3 a^{6}{\\left(t \\right)} e^{i \\alpha}}{2 \\pi N^{2}} + \\frac{3 a^{6}{\\left(t \\right)} e^{- i \\alpha}}{2 \\pi N^{2}}\\right) \\left(e^{1.0 i \\theta}\\right)^{6.0} + \\frac{- \\frac{5 H \\left(a^{*}\\right)^{3}{\\left(t \\right)} e^{- i \\alpha}}{4 \\pi} - \\frac{5 L \\left(a^{*}\\right)^{4}{\\left(t \\right)} e^{- i \\alpha}}{4 \\pi} + \\frac{5 L^{*} \\left(a^{*}\\right)^{6}{\\left(t \\right)} e^{i \\alpha}}{4 \\pi} - \\frac{5 i \\omega \\left(a^{*}\\right)^{5}{\\left(t \\right)}}{2 \\pi} + \\frac{5 \\left(a^{*}\\right)^{4}{\\left(t \\right)} \\frac{d}{d t} a^{*}{\\left(t \\right)}}{2 \\pi} + \\frac{5 \\left(a^{*}\\right)^{5}{\\left(t \\right)} e^{i \\alpha}}{4 \\pi N^{2}} - \\frac{5 \\left(a^{*}\\right)^{5}{\\left(t \\right)} e^{- i \\alpha}}{4 \\pi N^{2}}}{\\left(e^{1.0 i \\theta}\\right)^{5.0}} + \\left(- \\frac{5 H^{*} a^{3}{\\left(t \\right)} e^{i \\alpha}}{4 \\pi} + \\frac{5 L a^{6}{\\left(t \\right)} e^{- i \\alpha}}{4 \\pi} - \\frac{5 L^{*} a^{4}{\\left(t \\right)} e^{i \\alpha}}{4 \\pi} + \\frac{5 i \\omega a^{5}{\\left(t \\right)}}{2 \\pi} + \\frac{5 a^{4}{\\left(t \\right)} \\frac{d}{d t} a{\\left(t \\right)}}{2 \\pi} - \\frac{5 a^{5}{\\left(t \\right)} e^{i \\alpha}}{4 \\pi N^{2}} + \\frac{5 a^{5}{\\left(t \\right)} e^{- i \\alpha}}{4 \\pi N^{2}}\\right) \\left(e^{1.0 i \\theta}\\right)^{5.0} + \\frac{- \\frac{H e^{- i \\alpha}}{2 \\pi} + \\frac{H^{*} \\left(a^{*}\\right)^{4}{\\left(t \\right)} e^{i \\alpha}}{2 \\pi} - \\frac{L a^{*}{\\left(t \\right)} e^{- i \\alpha}}{2 \\pi} + \\frac{L^{*} \\left(a^{*}\\right)^{3}{\\left(t \\right)} e^{i \\alpha}}{2 \\pi} - \\frac{i \\omega \\left(a^{*}\\right)^{2}{\\left(t \\right)}}{\\pi} + \\frac{a^{*}{\\left(t \\right)} \\frac{d}{d t} a^{*}{\\left(t \\right)}}{\\pi} + \\frac{\\left(a^{*}\\right)^{2}{\\left(t \\right)} e^{i \\alpha}}{2 \\pi N^{2}} - \\frac{\\left(a^{*}\\right)^{2}{\\left(t \\right)} e^{- i \\alpha}}{2 \\pi N^{2}}}{\\left(e^{1.0 i \\theta}\\right)^{2.0}} + \\frac{- \\frac{H a{\\left(t \\right)} e^{- i \\alpha}}{4 \\pi} + \\frac{H^{*} \\left(a^{*}\\right)^{3}{\\left(t \\right)} e^{i \\alpha}}{4 \\pi} - \\frac{L e^{- i \\alpha}}{4 \\pi} + \\frac{L^{*} \\left(a^{*}\\right)^{2}{\\left(t \\right)} e^{i \\alpha}}{4 \\pi} - \\frac{i \\omega a^{*}{\\left(t \\right)}}{2 \\pi} + \\frac{\\frac{d}{d t} a^{*}{\\left(t \\right)}}{2 \\pi} + \\frac{a^{*}{\\left(t \\right)} e^{i \\alpha}}{4 \\pi N^{2}} - \\frac{a^{*}{\\left(t \\right)} e^{- i \\alpha}}{4 \\pi N^{2}}}{\\left(e^{1.0 i \\theta}\\right)^{1.0}} + \\left(\\frac{H a^{3}{\\left(t \\right)} e^{- i \\alpha}}{4 \\pi} - \\frac{H^{*} a^{*}{\\left(t \\right)} e^{i \\alpha}}{4 \\pi} + \\frac{L a^{2}{\\left(t \\right)} e^{- i \\alpha}}{4 \\pi} - \\frac{L^{*} e^{i \\alpha}}{4 \\pi} + \\frac{i \\omega a{\\left(t \\right)}}{2 \\pi} + \\frac{\\frac{d}{d t} a{\\left(t \\right)}}{2 \\pi} - \\frac{a{\\left(t \\right)} e^{i \\alpha}}{4 \\pi N^{2}} + \\frac{a{\\left(t \\right)} e^{- i \\alpha}}{4 \\pi N^{2}}\\right) \\left(e^{1.0 i \\theta}\\right)^{1.0} + \\left(\\frac{H a^{4}{\\left(t \\right)} e^{- i \\alpha}}{2 \\pi} - \\frac{H^{*} e^{i \\alpha}}{2 \\pi} + \\frac{L a^{3}{\\left(t \\right)} e^{- i \\alpha}}{2 \\pi} - \\frac{L^{*} a{\\left(t \\right)} e^{i \\alpha}}{2 \\pi} + \\frac{i \\omega a^{2}{\\left(t \\right)}}{\\pi} + \\frac{a{\\left(t \\right)} \\frac{d}{d t} a{\\left(t \\right)}}{\\pi} - \\frac{a^{2}{\\left(t \\right)} e^{i \\alpha}}{2 \\pi N^{2}} + \\frac{a^{2}{\\left(t \\right)} e^{- i \\alpha}}{2 \\pi N^{2}}\\right) \\left(e^{1.0 i \\theta}\\right)^{2.0} + \\left(\\frac{3 H a^{5}{\\left(t \\right)} e^{- i \\alpha}}{4 \\pi} - \\frac{3 H^{*} a{\\left(t \\right)} e^{i \\alpha}}{4 \\pi} + \\frac{3 L a^{4}{\\left(t \\right)} e^{- i \\alpha}}{4 \\pi} - \\frac{3 L^{*} a^{2}{\\left(t \\right)} e^{i \\alpha}}{4 \\pi} + \\frac{3 i \\omega a^{3}{\\left(t \\right)}}{2 \\pi} + \\frac{3 a^{2}{\\left(t \\right)} \\frac{d}{d t} a{\\left(t \\right)}}{2 \\pi} - \\frac{3 a^{3}{\\left(t \\right)} e^{i \\alpha}}{4 \\pi N^{2}} + \\frac{3 a^{3}{\\left(t \\right)} e^{- i \\alpha}}{4 \\pi N^{2}}\\right) \\left(e^{1.0 i \\theta}\\right)^{3.0} + \\left(\\frac{H a^{6}{\\left(t \\right)} e^{- i \\alpha}}{\\pi} - \\frac{H^{*} a^{2}{\\left(t \\right)} e^{i \\alpha}}{\\pi} + \\frac{L a^{5}{\\left(t \\right)} e^{- i \\alpha}}{\\pi} - \\frac{L^{*} a^{3}{\\left(t \\right)} e^{i \\alpha}}{\\pi} + \\frac{2 i \\omega a^{4}{\\left(t \\right)}}{\\pi} + \\frac{2 a^{3}{\\left(t \\right)} \\frac{d}{d t} a{\\left(t \\right)}}{\\pi} - \\frac{a^{4}{\\left(t \\right)} e^{i \\alpha}}{\\pi N^{2}} + \\frac{a^{4}{\\left(t \\right)} e^{- i \\alpha}}{\\pi N^{2}}\\right) \\left(e^{1.0 i \\theta}\\right)^{4.0} + \\frac{- \\frac{3 H a^{*}{\\left(t \\right)} e^{- i \\alpha}}{4 \\pi} + \\frac{3 H^{*} \\left(a^{*}\\right)^{5}{\\left(t \\right)} e^{i \\alpha}}{4 \\pi} - \\frac{3 L \\left(a^{*}\\right)^{2}{\\left(t \\right)} e^{- i \\alpha}}{4 \\pi} + \\frac{3 L^{*} \\left(a^{*}\\right)^{4}{\\left(t \\right)} e^{i \\alpha}}{4 \\pi} - \\frac{3 i \\omega \\left(a^{*}\\right)^{3}{\\left(t \\right)}}{2 \\pi} + \\frac{3 \\left(a^{*}\\right)^{2}{\\left(t \\right)} \\frac{d}{d t} a^{*}{\\left(t \\right)}}{2 \\pi} + \\frac{3 \\left(a^{*}\\right)^{3}{\\left(t \\right)} e^{i \\alpha}}{4 \\pi N^{2}} - \\frac{3 \\left(a^{*}\\right)^{3}{\\left(t \\right)} e^{- i \\alpha}}{4 \\pi N^{2}}}{\\left(e^{1.0 i \\theta}\\right)^{3.0}} + \\frac{- \\frac{H \\left(a^{*}\\right)^{2}{\\left(t \\right)} e^{- i \\alpha}}{\\pi} + \\frac{H^{*} \\left(a^{*}\\right)^{6}{\\left(t \\right)} e^{i \\alpha}}{\\pi} - \\frac{L \\left(a^{*}\\right)^{3}{\\left(t \\right)} e^{- i \\alpha}}{\\pi} + \\frac{L^{*} \\left(a^{*}\\right)^{5}{\\left(t \\right)} e^{i \\alpha}}{\\pi} - \\frac{2 i \\omega \\left(a^{*}\\right)^{4}{\\left(t \\right)}}{\\pi} + \\frac{2 \\left(a^{*}\\right)^{3}{\\left(t \\right)} \\frac{d}{d t} a^{*}{\\left(t \\right)}}{\\pi} + \\frac{\\left(a^{*}\\right)^{4}{\\left(t \\right)} e^{i \\alpha}}{\\pi N^{2}} - \\frac{\\left(a^{*}\\right)^{4}{\\left(t \\right)} e^{- i \\alpha}}{\\pi N^{2}}}{\\left(e^{1.0 i \\theta}\\right)^{4.0}}$"
      ],
      "text/plain": [
       "-2*H*a^*(t)**6*exp(-I*alpha)/(pi*exp(1.0*I*theta)**8.0) - 2*H^**a(t)**6*exp(I*alpha)*exp(1.0*I*theta)**8.0/pi + (-7*H*a^*(t)**5*exp(-I*alpha)/(4*pi) - 7*L*a^*(t)**6*exp(-I*alpha)/(4*pi))/exp(1.0*I*theta)**7.0 + (-7*H^**a(t)**5*exp(I*alpha)/(4*pi) - 7*L^**a(t)**6*exp(I*alpha)/(4*pi))*exp(1.0*I*theta)**7.0 + (-3*H*a^*(t)**4*exp(-I*alpha)/(2*pi) - 3*L*a^*(t)**5*exp(-I*alpha)/(2*pi) - 3*I*omega*a^*(t)**6/pi + 3*a^*(t)**5*Derivative(a^*(t), t)/pi + 3*a^*(t)**6*exp(I*alpha)/(2*pi*N**2) - 3*a^*(t)**6*exp(-I*alpha)/(2*pi*N**2))/exp(1.0*I*theta)**6.0 + (-3*H^**a(t)**4*exp(I*alpha)/(2*pi) - 3*L^**a(t)**5*exp(I*alpha)/(2*pi) + 3*I*omega*a(t)**6/pi + 3*a(t)**5*Derivative(a(t), t)/pi - 3*a(t)**6*exp(I*alpha)/(2*pi*N**2) + 3*a(t)**6*exp(-I*alpha)/(2*pi*N**2))*exp(1.0*I*theta)**6.0 + (-5*H*a^*(t)**3*exp(-I*alpha)/(4*pi) - 5*L*a^*(t)**4*exp(-I*alpha)/(4*pi) + 5*L^**a^*(t)**6*exp(I*alpha)/(4*pi) - 5*I*omega*a^*(t)**5/(2*pi) + 5*a^*(t)**4*Derivative(a^*(t), t)/(2*pi) + 5*a^*(t)**5*exp(I*alpha)/(4*pi*N**2) - 5*a^*(t)**5*exp(-I*alpha)/(4*pi*N**2))/exp(1.0*I*theta)**5.0 + (-5*H^**a(t)**3*exp(I*alpha)/(4*pi) + 5*L*a(t)**6*exp(-I*alpha)/(4*pi) - 5*L^**a(t)**4*exp(I*alpha)/(4*pi) + 5*I*omega*a(t)**5/(2*pi) + 5*a(t)**4*Derivative(a(t), t)/(2*pi) - 5*a(t)**5*exp(I*alpha)/(4*pi*N**2) + 5*a(t)**5*exp(-I*alpha)/(4*pi*N**2))*exp(1.0*I*theta)**5.0 + (-H*exp(-I*alpha)/(2*pi) + H^**a^*(t)**4*exp(I*alpha)/(2*pi) - L*a^*(t)*exp(-I*alpha)/(2*pi) + L^**a^*(t)**3*exp(I*alpha)/(2*pi) - I*omega*a^*(t)**2/pi + a^*(t)*Derivative(a^*(t), t)/pi + a^*(t)**2*exp(I*alpha)/(2*pi*N**2) - a^*(t)**2*exp(-I*alpha)/(2*pi*N**2))/exp(1.0*I*theta)**2.0 + (-H*a(t)*exp(-I*alpha)/(4*pi) + H^**a^*(t)**3*exp(I*alpha)/(4*pi) - L*exp(-I*alpha)/(4*pi) + L^**a^*(t)**2*exp(I*alpha)/(4*pi) - I*omega*a^*(t)/(2*pi) + Derivative(a^*(t), t)/(2*pi) + a^*(t)*exp(I*alpha)/(4*pi*N**2) - a^*(t)*exp(-I*alpha)/(4*pi*N**2))/exp(1.0*I*theta)**1.0 + (H*a(t)**3*exp(-I*alpha)/(4*pi) - H^**a^*(t)*exp(I*alpha)/(4*pi) + L*a(t)**2*exp(-I*alpha)/(4*pi) - L^**exp(I*alpha)/(4*pi) + I*omega*a(t)/(2*pi) + Derivative(a(t), t)/(2*pi) - a(t)*exp(I*alpha)/(4*pi*N**2) + a(t)*exp(-I*alpha)/(4*pi*N**2))*exp(1.0*I*theta)**1.0 + (H*a(t)**4*exp(-I*alpha)/(2*pi) - H^**exp(I*alpha)/(2*pi) + L*a(t)**3*exp(-I*alpha)/(2*pi) - L^**a(t)*exp(I*alpha)/(2*pi) + I*omega*a(t)**2/pi + a(t)*Derivative(a(t), t)/pi - a(t)**2*exp(I*alpha)/(2*pi*N**2) + a(t)**2*exp(-I*alpha)/(2*pi*N**2))*exp(1.0*I*theta)**2.0 + (3*H*a(t)**5*exp(-I*alpha)/(4*pi) - 3*H^**a(t)*exp(I*alpha)/(4*pi) + 3*L*a(t)**4*exp(-I*alpha)/(4*pi) - 3*L^**a(t)**2*exp(I*alpha)/(4*pi) + 3*I*omega*a(t)**3/(2*pi) + 3*a(t)**2*Derivative(a(t), t)/(2*pi) - 3*a(t)**3*exp(I*alpha)/(4*pi*N**2) + 3*a(t)**3*exp(-I*alpha)/(4*pi*N**2))*exp(1.0*I*theta)**3.0 + (H*a(t)**6*exp(-I*alpha)/pi - H^**a(t)**2*exp(I*alpha)/pi + L*a(t)**5*exp(-I*alpha)/pi - L^**a(t)**3*exp(I*alpha)/pi + 2*I*omega*a(t)**4/pi + 2*a(t)**3*Derivative(a(t), t)/pi - a(t)**4*exp(I*alpha)/(pi*N**2) + a(t)**4*exp(-I*alpha)/(pi*N**2))*exp(1.0*I*theta)**4.0 + (-3*H*a^*(t)*exp(-I*alpha)/(4*pi) + 3*H^**a^*(t)**5*exp(I*alpha)/(4*pi) - 3*L*a^*(t)**2*exp(-I*alpha)/(4*pi) + 3*L^**a^*(t)**4*exp(I*alpha)/(4*pi) - 3*I*omega*a^*(t)**3/(2*pi) + 3*a^*(t)**2*Derivative(a^*(t), t)/(2*pi) + 3*a^*(t)**3*exp(I*alpha)/(4*pi*N**2) - 3*a^*(t)**3*exp(-I*alpha)/(4*pi*N**2))/exp(1.0*I*theta)**3.0 + (-H*a^*(t)**2*exp(-I*alpha)/pi + H^**a^*(t)**6*exp(I*alpha)/pi - L*a^*(t)**3*exp(-I*alpha)/pi + L^**a^*(t)**5*exp(I*alpha)/pi - 2*I*omega*a^*(t)**4/pi + 2*a^*(t)**3*Derivative(a^*(t), t)/pi + a^*(t)**4*exp(I*alpha)/(pi*N**2) - a^*(t)**4*exp(-I*alpha)/(pi*N**2))/exp(1.0*I*theta)**4.0"
      ]
     },
     "execution_count": 9,
     "metadata": {},
     "output_type": "execute_result"
    }
   ],
   "source": [
    "col_"
   ]
  },
  {
   "cell_type": "code",
   "execution_count": 112,
   "metadata": {},
   "outputs": [],
   "source": [
    "K,alpha,beta = symbols('K alpha beta',real=True)\n",
    "r = IndexedBase('r', real = True)\n",
    "phi = IndexedBase('phi', real = True)\n",
    "R1 = (r[1,1]-r[1,2])/2\n",
    "R2 = (r[2,1]-r[2,2])/2\n",
    "\n",
    "\n",
    "dr11_dt = K/2 *(R1**2 *cos(alpha)+beta**2*R2**2*cos(alpha+2*phi) + 2*beta*R1*R2*cos(alpha+phi)-cos(alpha)/(2*N)*(r[1,1]**2+r[1,2]**2)-beta**2*cos(alpha+2*phi)/(2*N)*(r[2,1]**2+r[2,2]**2))*(r[1,1]-r[1,1]**3)-K/(2*N)*(R1*cos(alpha)+beta*R2*cos(alpha+phi))*(1-r[1,1]**2)\n",
    "dr12_dt = K/2 *(R1**2 *cos(alpha)+beta**2*R2**2*cos(alpha+2*phi) + 2*beta*R1*R2*cos(alpha+phi)-cos(alpha)/(2*N)*(r[1,1]**2+r[1,2]**2)-beta**2*cos(alpha+2*phi)/(2*N)*(r[2,1]**2+r[2,2]**2))*(r[1,2]-r[1,2]**3)-K/(2*N)*(R1*cos(alpha)+beta*R2*cos(alpha+phi))*(1-r[1,2]**2)\n",
    "dr21_dt = K/2 *(R2**2 *cos(alpha)+beta**2*R1**2*cos(alpha-2*phi) + 2*beta*R2*R1*cos(alpha-phi)-cos(alpha)/(2*N)*(r[2,1]**2+r[2,2]**2)-beta**2*cos(alpha-2*phi)/(2*N)*(r[1,1]**2+r[1,2]**2))*(r[2,1]-r[2,1]**3)-K/(2*N)*(R2*cos(alpha)+beta*R1*cos(alpha-phi))*(1-r[2,1]**2)\n",
    "dr22_dt = K/2 *(R2**2 *cos(alpha)+beta**2*R1**2*cos(alpha-2*phi) + 2*beta*R2*R1*cos(alpha-phi)-cos(alpha)/(2*N)*(r[2,1]**2+r[2,2]**2)-beta**2*cos(alpha-2*phi)/(2*N)*(r[1,1]**2+r[1,2]**2))*(r[2,2]-r[2,2]**3)-K/(2*N)*(R2*cos(alpha)+beta*R1*cos(alpha-phi))*(1-r[2,2]**2)\n",
    "\n",
    "dpsi1_dt = omega-sin(alpha)/N**2 - K/2*(R1**2*sin(alpha)+beta**2*R2**2*sin(alpha+2*phi)-1/N*(r[1,1]**2+r[1,2]**2)*sin(alpha)-beta**2/N*(r[2,1]**2+r[2,2]**2)*sin(alpha+2*phi))*(1+r[1,1]**2) - K/(2*N*r[1,1])*(R1*sin(alpha)+beta*R2*sin(alpha+phi))*(1+r[1,1])\n",
    "dpsi2_dt = omega-sin(alpha)/N**2 - K/2*(R2**2*sin(alpha)+beta**2*R1**2*sin(alpha-2*phi)-1/N*(r[2,1]**2+r[2,2]**2)*sin(alpha)-beta**2/N*(r[1,1]**2+r[1,2]**2)*sin(alpha-2*phi))*(1+r[2,1]**2) - K/(2*N*r[2,1])*(R2*sin(alpha)+beta*R1*sin(alpha-phi))*(1+r[2,1])\n",
    "dphi_dt = dpsi1_dt - dpsi2_dt\n"
   ]
  },
  {
   "cell_type": "code",
   "execution_count": 116,
   "metadata": {},
   "outputs": [
    {
     "data": {
      "text/latex": [
       "$\\displaystyle \\frac{K \\left(2 \\beta^{2} \\sin{\\left(\\alpha + 2 \\phi \\right)} {r}_{2,1}^{2} - \\left(\\beta^{2} \\sin{\\left(\\alpha - 2 \\phi \\right)} + \\sin{\\left(\\alpha \\right)} {r}_{2,1}^{2}\\right) \\left({r}_{2,1}^{2} + 1\\right) + 2 \\sin{\\left(\\alpha \\right)}\\right)}{N}$"
      ],
      "text/plain": [
       "K*(2*beta**2*sin(alpha + 2*phi)*r[2, 1]**2 - (beta**2*sin(alpha - 2*phi) + sin(alpha)*r[2, 1]**2)*(r[2, 1]**2 + 1) + 2*sin(alpha))/N"
      ]
     },
     "execution_count": 116,
     "metadata": {},
     "output_type": "execute_result"
    }
   ],
   "source": [
    "expand_trig(dphi_dt.subs([(r[1,2],1),(r[1,1],1),(r[2,2],r[2,1])])).simplify()"
   ]
  },
  {
   "cell_type": "code",
   "execution_count": 60,
   "metadata": {},
   "outputs": [],
   "source": [
    "DR21_dt = dr21_dt.subs([(r[1,2],1),(r[1,1],1),(r[2,2],r[2,1])])\n",
    "Dpsi1_dt = dpsi1_dt.subs([(r[1,2],1),(r[1,1],1),(r[2,2],r[2,1])])\n",
    "Dphi1_dt = dphi1_dt.subs([(r[1,2],1),(r[1,1],1),(r[2,2],r[2,1])])"
   ]
  },
  {
   "cell_type": "code",
   "execution_count": 87,
   "metadata": {},
   "outputs": [
    {
     "name": "stdout",
     "output_type": "stream",
     "text": [
      "-1\n",
      "0\n",
      "1\n",
      "-beta*sqrt(-cos(alpha - 2*phi)/cos(alpha))\n",
      "beta*sqrt(-cos(alpha - 2*phi)/cos(alpha))\n"
     ]
    }
   ],
   "source": [
    "for i in solve(DR21_dt ,r[2,1]): print(i)"
   ]
  },
  {
   "cell_type": "code",
   "execution_count": 138,
   "metadata": {},
   "outputs": [
    {
     "data": {
      "text/latex": [
       "$\\displaystyle \\frac{\\sqrt{2} \\sqrt{\\frac{- 2 K N \\sin{\\left(\\alpha \\right)} - N^{2} \\omega + \\sin{\\left(\\alpha \\right)}}{K N \\sin{\\left(\\alpha + 2 \\phi \\right)}}}}{2 \\beta}$"
      ],
      "text/plain": [
       "sqrt(2)*sqrt((-2*K*N*sin(alpha) - N**2*omega + sin(alpha))/(K*N*sin(alpha + 2*phi)))/(2*beta)"
      ]
     },
     "execution_count": 138,
     "metadata": {},
     "output_type": "execute_result"
    }
   ],
   "source": [
    "solve(Dpsi1_dt,r[2,1])[0].trigsimp().simplify()"
   ]
  },
  {
   "cell_type": "code",
   "execution_count": 119,
   "metadata": {},
   "outputs": [
    {
     "name": "stdout",
     "output_type": "stream",
     "text": [
      "-sqrt(2)*sqrt(-beta**2*sin(alpha - 2*phi)/sin(alpha) + 2*beta**2*sin(alpha + 2*phi)/sin(alpha) - sqrt(beta**4*sin(alpha - 2*phi)**2 - 4*beta**4*sin(alpha - 2*phi)*sin(alpha + 2*phi) + 4*beta**4*sin(alpha + 2*phi)**2 - 2*beta**2*sin(alpha)*sin(alpha - 2*phi) - 4*beta**2*sin(alpha)*sin(alpha + 2*phi) + 9*sin(alpha)**2)/sin(alpha) - 1)/2\n",
      "sqrt(2)*sqrt(-beta**2*sin(alpha - 2*phi)/sin(alpha) + 2*beta**2*sin(alpha + 2*phi)/sin(alpha) - sqrt(beta**4*sin(alpha - 2*phi)**2 - 4*beta**4*sin(alpha - 2*phi)*sin(alpha + 2*phi) + 4*beta**4*sin(alpha + 2*phi)**2 - 2*beta**2*sin(alpha)*sin(alpha - 2*phi) - 4*beta**2*sin(alpha)*sin(alpha + 2*phi) + 9*sin(alpha)**2)/sin(alpha) - 1)/2\n",
      "-sqrt(2)*sqrt(-beta**2*sin(alpha - 2*phi)/sin(alpha) + 2*beta**2*sin(alpha + 2*phi)/sin(alpha) + sqrt(beta**4*sin(alpha - 2*phi)**2 - 4*beta**4*sin(alpha - 2*phi)*sin(alpha + 2*phi) + 4*beta**4*sin(alpha + 2*phi)**2 - 2*beta**2*sin(alpha)*sin(alpha - 2*phi) - 4*beta**2*sin(alpha)*sin(alpha + 2*phi) + 9*sin(alpha)**2)/sin(alpha) - 1)/2\n",
      "sqrt(2)*sqrt(-beta**2*sin(alpha - 2*phi)/sin(alpha) + 2*beta**2*sin(alpha + 2*phi)/sin(alpha) + sqrt(beta**4*sin(alpha - 2*phi)**2 - 4*beta**4*sin(alpha - 2*phi)*sin(alpha + 2*phi) + 4*beta**4*sin(alpha + 2*phi)**2 - 2*beta**2*sin(alpha)*sin(alpha - 2*phi) - 4*beta**2*sin(alpha)*sin(alpha + 2*phi) + 9*sin(alpha)**2)/sin(alpha) - 1)/2\n"
     ]
    }
   ],
   "source": [
    "for i in solve(Dphi1_dt ,r[2,1]): print(i)"
   ]
  },
  {
   "cell_type": "code",
   "execution_count": 132,
   "metadata": {},
   "outputs": [
    {
     "data": {
      "text/latex": [
       "$\\displaystyle - \\beta \\sqrt{- \\frac{\\cos{\\left(\\alpha - 2 \\phi \\right)}}{\\cos{\\left(\\alpha \\right)}}}$"
      ],
      "text/plain": [
       "-beta*sqrt(-cos(alpha - 2*phi)/cos(alpha))"
      ]
     },
     "execution_count": 132,
     "metadata": {},
     "output_type": "execute_result"
    }
   ],
   "source": [
    "solve(DR21_dt ,r[2,1])[3].trigsimp()"
   ]
  },
  {
   "cell_type": "code",
   "execution_count": 126,
   "metadata": {},
   "outputs": [],
   "source": [
    "A = solve(DR21_dt ,r[2,1])[4]"
   ]
  },
  {
   "cell_type": "code",
   "execution_count": 105,
   "metadata": {},
   "outputs": [],
   "source": [
    "B = dpsi1_dt.subs([(r[1,2],1),(r[1,1],1),(r[2,2],r[2,1])])\n",
    "C = dpsi1_dt.subs([(r[1,2],1),(r[1,1],1),(r[2,2],r[2,1])])"
   ]
  },
  {
   "cell_type": "code",
   "execution_count": null,
   "metadata": {},
   "outputs": [],
   "source": [
    "rrr = solve(C,r[2,1])[0]\n"
   ]
  },
  {
   "cell_type": "code",
   "execution_count": 137,
   "metadata": {},
   "outputs": [
    {
     "data": {
      "text/latex": [
       "$\\displaystyle \\frac{K \\left(- \\frac{2 \\beta^{2} \\sin{\\left(\\alpha - 2 \\phi \\right)}}{N} - \\frac{2 \\sin{\\left(\\alpha \\right)} {r}_{2,1}^{2}}{N}\\right) \\left({r}_{2,1}^{2} + 1\\right)}{2} - K \\left(- \\frac{2 \\beta^{2} \\sin{\\left(\\alpha + 2 \\phi \\right)} {r}_{2,1}^{2}}{N} - \\frac{2 \\sin{\\left(\\alpha \\right)}}{N}\\right)$"
      ],
      "text/plain": [
       "K*(-2*beta**2*sin(alpha - 2*phi)/N - 2*sin(alpha)*r[2, 1]**2/N)*(r[2, 1]**2 + 1)/2 - K*(-2*beta**2*sin(alpha + 2*phi)*r[2, 1]**2/N - 2*sin(alpha)/N)"
      ]
     },
     "execution_count": 137,
     "metadata": {},
     "output_type": "execute_result"
    }
   ],
   "source": [
    "dphi_dt.subs([(r[1,2],1),(r[1,1],1),(r[2,2],r[2,1])])"
   ]
  },
  {
   "cell_type": "code",
   "execution_count": 136,
   "metadata": {},
   "outputs": [
    {
     "data": {
      "text/latex": [
       "$\\displaystyle \\frac{K \\left(2 \\beta^{2} \\sin{\\left(\\alpha + 2 \\phi \\right)} {r}_{2,1}^{2} - \\left(\\beta^{2} \\sin{\\left(\\alpha - 2 \\phi \\right)} + \\sin{\\left(\\alpha \\right)} {r}_{2,1}^{2}\\right) \\left({r}_{2,1}^{2} + 1\\right) + 2 \\sin{\\left(\\alpha \\right)}\\right)}{N}$"
      ],
      "text/plain": [
       "K*(2*beta**2*sin(alpha + 2*phi)*r[2, 1]**2 - (beta**2*sin(alpha - 2*phi) + sin(alpha)*r[2, 1]**2)*(r[2, 1]**2 + 1) + 2*sin(alpha))/N"
      ]
     },
     "execution_count": 136,
     "metadata": {},
     "output_type": "execute_result"
    }
   ],
   "source": []
  },
  {
   "cell_type": "code",
   "execution_count": 95,
   "metadata": {},
   "outputs": [
    {
     "ename": "KeyboardInterrupt",
     "evalue": "",
     "output_type": "error",
     "traceback": [
      "\u001b[0;31m---------------------------------------------------------------------------\u001b[0m",
      "\u001b[0;31mKeyboardInterrupt\u001b[0m                         Traceback (most recent call last)",
      "Cell \u001b[0;32mIn[95], line 1\u001b[0m\n\u001b[0;32m----> 1\u001b[0m \u001b[43msolve\u001b[49m\u001b[43m(\u001b[49m\u001b[43mB\u001b[49m\u001b[43m,\u001b[49m\u001b[43mphi\u001b[49m\u001b[43m)\u001b[49m\n",
      "File \u001b[0;32m/Library/Frameworks/Python.framework/Versions/3.11/lib/python3.11/site-packages/sympy/solvers/solvers.py:1112\u001b[0m, in \u001b[0;36msolve\u001b[0;34m(f, *symbols, **flags)\u001b[0m\n\u001b[1;32m   1108\u001b[0m \u001b[38;5;66;03m#\u001b[39;00m\n\u001b[1;32m   1109\u001b[0m \u001b[38;5;66;03m# try to get a solution\u001b[39;00m\n\u001b[1;32m   1110\u001b[0m \u001b[38;5;66;03m###########################################################################\u001b[39;00m\n\u001b[1;32m   1111\u001b[0m \u001b[38;5;28;01mif\u001b[39;00m bare_f:\n\u001b[0;32m-> 1112\u001b[0m     solution \u001b[38;5;241m=\u001b[39m \u001b[43m_solve\u001b[49m\u001b[43m(\u001b[49m\u001b[43mf\u001b[49m\u001b[43m[\u001b[49m\u001b[38;5;241;43m0\u001b[39;49m\u001b[43m]\u001b[49m\u001b[43m,\u001b[49m\u001b[43m \u001b[49m\u001b[38;5;241;43m*\u001b[39;49m\u001b[43msymbols\u001b[49m\u001b[43m,\u001b[49m\u001b[43m \u001b[49m\u001b[38;5;241;43m*\u001b[39;49m\u001b[38;5;241;43m*\u001b[39;49m\u001b[43mflags\u001b[49m\u001b[43m)\u001b[49m\n\u001b[1;32m   1113\u001b[0m \u001b[38;5;28;01melse\u001b[39;00m:\n\u001b[1;32m   1114\u001b[0m     solution \u001b[38;5;241m=\u001b[39m _solve_system(f, symbols, \u001b[38;5;241m*\u001b[39m\u001b[38;5;241m*\u001b[39mflags)\n",
      "File \u001b[0;32m/Library/Frameworks/Python.framework/Versions/3.11/lib/python3.11/site-packages/sympy/solvers/solvers.py:1580\u001b[0m, in \u001b[0;36m_solve\u001b[0;34m(f, *symbols, **flags)\u001b[0m\n\u001b[1;32m   1576\u001b[0m     \u001b[38;5;28;01mif\u001b[39;00m newf \u001b[38;5;241m!=\u001b[39m f_num:\n\u001b[1;32m   1577\u001b[0m         \u001b[38;5;66;03m# don't check the rewritten form --check\u001b[39;00m\n\u001b[1;32m   1578\u001b[0m         \u001b[38;5;66;03m# solutions in the un-rewritten form below\u001b[39;00m\n\u001b[1;32m   1579\u001b[0m         flags[\u001b[38;5;124m'\u001b[39m\u001b[38;5;124mcheck\u001b[39m\u001b[38;5;124m'\u001b[39m] \u001b[38;5;241m=\u001b[39m \u001b[38;5;28;01mFalse\u001b[39;00m\n\u001b[0;32m-> 1580\u001b[0m         result \u001b[38;5;241m=\u001b[39m \u001b[43m_solve\u001b[49m\u001b[43m(\u001b[49m\u001b[43mnewf\u001b[49m\u001b[43m,\u001b[49m\u001b[43m \u001b[49m\u001b[43msymbol\u001b[49m\u001b[43m,\u001b[49m\u001b[43m \u001b[49m\u001b[38;5;241;43m*\u001b[39;49m\u001b[38;5;241;43m*\u001b[39;49m\u001b[43mflags\u001b[49m\u001b[43m)\u001b[49m\n\u001b[1;32m   1581\u001b[0m         flags[\u001b[38;5;124m'\u001b[39m\u001b[38;5;124mcheck\u001b[39m\u001b[38;5;124m'\u001b[39m] \u001b[38;5;241m=\u001b[39m check\n\u001b[1;32m   1583\u001b[0m \u001b[38;5;66;03m# just a simple case - see if replacement of single function\u001b[39;00m\n\u001b[1;32m   1584\u001b[0m \u001b[38;5;66;03m# clears all symbol-dependent functions, e.g.\u001b[39;00m\n\u001b[1;32m   1585\u001b[0m \u001b[38;5;66;03m# log(x) - log(log(x) - 1) - 3 can be solved even though it has\u001b[39;00m\n\u001b[1;32m   1586\u001b[0m \u001b[38;5;66;03m# two generators.\u001b[39;00m\n",
      "File \u001b[0;32m/Library/Frameworks/Python.framework/Versions/3.11/lib/python3.11/site-packages/sympy/solvers/solvers.py:1580\u001b[0m, in \u001b[0;36m_solve\u001b[0;34m(f, *symbols, **flags)\u001b[0m\n\u001b[1;32m   1576\u001b[0m     \u001b[38;5;28;01mif\u001b[39;00m newf \u001b[38;5;241m!=\u001b[39m f_num:\n\u001b[1;32m   1577\u001b[0m         \u001b[38;5;66;03m# don't check the rewritten form --check\u001b[39;00m\n\u001b[1;32m   1578\u001b[0m         \u001b[38;5;66;03m# solutions in the un-rewritten form below\u001b[39;00m\n\u001b[1;32m   1579\u001b[0m         flags[\u001b[38;5;124m'\u001b[39m\u001b[38;5;124mcheck\u001b[39m\u001b[38;5;124m'\u001b[39m] \u001b[38;5;241m=\u001b[39m \u001b[38;5;28;01mFalse\u001b[39;00m\n\u001b[0;32m-> 1580\u001b[0m         result \u001b[38;5;241m=\u001b[39m \u001b[43m_solve\u001b[49m\u001b[43m(\u001b[49m\u001b[43mnewf\u001b[49m\u001b[43m,\u001b[49m\u001b[43m \u001b[49m\u001b[43msymbol\u001b[49m\u001b[43m,\u001b[49m\u001b[43m \u001b[49m\u001b[38;5;241;43m*\u001b[39;49m\u001b[38;5;241;43m*\u001b[39;49m\u001b[43mflags\u001b[49m\u001b[43m)\u001b[49m\n\u001b[1;32m   1581\u001b[0m         flags[\u001b[38;5;124m'\u001b[39m\u001b[38;5;124mcheck\u001b[39m\u001b[38;5;124m'\u001b[39m] \u001b[38;5;241m=\u001b[39m check\n\u001b[1;32m   1583\u001b[0m \u001b[38;5;66;03m# just a simple case - see if replacement of single function\u001b[39;00m\n\u001b[1;32m   1584\u001b[0m \u001b[38;5;66;03m# clears all symbol-dependent functions, e.g.\u001b[39;00m\n\u001b[1;32m   1585\u001b[0m \u001b[38;5;66;03m# log(x) - log(log(x) - 1) - 3 can be solved even though it has\u001b[39;00m\n\u001b[1;32m   1586\u001b[0m \u001b[38;5;66;03m# two generators.\u001b[39;00m\n",
      "File \u001b[0;32m/Library/Frameworks/Python.framework/Versions/3.11/lib/python3.11/site-packages/sympy/solvers/solvers.py:1736\u001b[0m, in \u001b[0;36m_solve\u001b[0;34m(f, *symbols, **flags)\u001b[0m\n\u001b[1;32m   1734\u001b[0m flags\u001b[38;5;241m.\u001b[39mpop(\u001b[38;5;124m'\u001b[39m\u001b[38;5;124mtsolve\u001b[39m\u001b[38;5;124m'\u001b[39m, \u001b[38;5;28;01mNone\u001b[39;00m)  \u001b[38;5;66;03m# allow tsolve to be used on next pass\u001b[39;00m\n\u001b[1;32m   1735\u001b[0m \u001b[38;5;28;01mtry\u001b[39;00m:\n\u001b[0;32m-> 1736\u001b[0m     soln \u001b[38;5;241m=\u001b[39m \u001b[43m_tsolve\u001b[49m\u001b[43m(\u001b[49m\u001b[43mf_num\u001b[49m\u001b[43m,\u001b[49m\u001b[43m \u001b[49m\u001b[43msymbol\u001b[49m\u001b[43m,\u001b[49m\u001b[43m \u001b[49m\u001b[38;5;241;43m*\u001b[39;49m\u001b[38;5;241;43m*\u001b[39;49m\u001b[43mflags\u001b[49m\u001b[43m)\u001b[49m\n\u001b[1;32m   1737\u001b[0m     \u001b[38;5;28;01mif\u001b[39;00m soln \u001b[38;5;129;01mis\u001b[39;00m \u001b[38;5;129;01mnot\u001b[39;00m \u001b[38;5;28;01mNone\u001b[39;00m:\n\u001b[1;32m   1738\u001b[0m         result \u001b[38;5;241m=\u001b[39m soln\n",
      "File \u001b[0;32m/Library/Frameworks/Python.framework/Versions/3.11/lib/python3.11/site-packages/sympy/solvers/solvers.py:2587\u001b[0m, in \u001b[0;36m_tsolve\u001b[0;34m(eq, sym, **flags)\u001b[0m\n\u001b[1;32m   2585\u001b[0m f \u001b[38;5;241m=\u001b[39m factor(powdenest(lhs \u001b[38;5;241m-\u001b[39m rhs))\n\u001b[1;32m   2586\u001b[0m \u001b[38;5;28;01mif\u001b[39;00m f\u001b[38;5;241m.\u001b[39mis_Mul:\n\u001b[0;32m-> 2587\u001b[0m     \u001b[38;5;28;01mreturn\u001b[39;00m \u001b[43m_solve\u001b[49m\u001b[43m(\u001b[49m\u001b[43mf\u001b[49m\u001b[43m,\u001b[49m\u001b[43m \u001b[49m\u001b[43msym\u001b[49m\u001b[43m,\u001b[49m\u001b[43m \u001b[49m\u001b[38;5;241;43m*\u001b[39;49m\u001b[38;5;241;43m*\u001b[39;49m\u001b[43mflags\u001b[49m\u001b[43m)\u001b[49m\n\u001b[1;32m   2588\u001b[0m \u001b[38;5;28;01mif\u001b[39;00m rhs:\n\u001b[1;32m   2589\u001b[0m     f \u001b[38;5;241m=\u001b[39m logcombine(lhs, force\u001b[38;5;241m=\u001b[39mflags\u001b[38;5;241m.\u001b[39mget(\u001b[38;5;124m'\u001b[39m\u001b[38;5;124mforce\u001b[39m\u001b[38;5;124m'\u001b[39m, \u001b[38;5;28;01mTrue\u001b[39;00m))\n",
      "File \u001b[0;32m/Library/Frameworks/Python.framework/Versions/3.11/lib/python3.11/site-packages/sympy/solvers/solvers.py:1418\u001b[0m, in \u001b[0;36m_solve\u001b[0;34m(f, *symbols, **flags)\u001b[0m\n\u001b[1;32m   1416\u001b[0m         result \u001b[38;5;241m=\u001b[39m \u001b[38;5;28mset\u001b[39m()\n\u001b[1;32m   1417\u001b[0m         \u001b[38;5;28;01mbreak\u001b[39;00m\n\u001b[0;32m-> 1418\u001b[0m     soln \u001b[38;5;241m=\u001b[39m \u001b[43m_solve\u001b[49m\u001b[43m(\u001b[49m\u001b[43mm\u001b[49m\u001b[43m,\u001b[49m\u001b[43m \u001b[49m\u001b[43msymbol\u001b[49m\u001b[43m,\u001b[49m\u001b[43m \u001b[49m\u001b[38;5;241;43m*\u001b[39;49m\u001b[38;5;241;43m*\u001b[39;49m\u001b[43mflags\u001b[49m\u001b[43m)\u001b[49m\n\u001b[1;32m   1419\u001b[0m     result\u001b[38;5;241m.\u001b[39mupdate(\u001b[38;5;28mset\u001b[39m(soln))\n\u001b[1;32m   1420\u001b[0m result \u001b[38;5;241m=\u001b[39m \u001b[38;5;28mlist\u001b[39m(result)\n",
      "File \u001b[0;32m/Library/Frameworks/Python.framework/Versions/3.11/lib/python3.11/site-packages/sympy/solvers/solvers.py:1736\u001b[0m, in \u001b[0;36m_solve\u001b[0;34m(f, *symbols, **flags)\u001b[0m\n\u001b[1;32m   1734\u001b[0m flags\u001b[38;5;241m.\u001b[39mpop(\u001b[38;5;124m'\u001b[39m\u001b[38;5;124mtsolve\u001b[39m\u001b[38;5;124m'\u001b[39m, \u001b[38;5;28;01mNone\u001b[39;00m)  \u001b[38;5;66;03m# allow tsolve to be used on next pass\u001b[39;00m\n\u001b[1;32m   1735\u001b[0m \u001b[38;5;28;01mtry\u001b[39;00m:\n\u001b[0;32m-> 1736\u001b[0m     soln \u001b[38;5;241m=\u001b[39m \u001b[43m_tsolve\u001b[49m\u001b[43m(\u001b[49m\u001b[43mf_num\u001b[49m\u001b[43m,\u001b[49m\u001b[43m \u001b[49m\u001b[43msymbol\u001b[49m\u001b[43m,\u001b[49m\u001b[43m \u001b[49m\u001b[38;5;241;43m*\u001b[39;49m\u001b[38;5;241;43m*\u001b[39;49m\u001b[43mflags\u001b[49m\u001b[43m)\u001b[49m\n\u001b[1;32m   1737\u001b[0m     \u001b[38;5;28;01mif\u001b[39;00m soln \u001b[38;5;129;01mis\u001b[39;00m \u001b[38;5;129;01mnot\u001b[39;00m \u001b[38;5;28;01mNone\u001b[39;00m:\n\u001b[1;32m   1738\u001b[0m         result \u001b[38;5;241m=\u001b[39m soln\n",
      "File \u001b[0;32m/Library/Frameworks/Python.framework/Versions/3.11/lib/python3.11/site-packages/sympy/solvers/solvers.py:2706\u001b[0m, in \u001b[0;36m_tsolve\u001b[0;34m(eq, sym, **flags)\u001b[0m\n\u001b[1;32m   2704\u001b[0m     rewrite \u001b[38;5;241m=\u001b[39m lhs\u001b[38;5;241m.\u001b[39mrewrite(exp)\n\u001b[1;32m   2705\u001b[0m     \u001b[38;5;28;01mif\u001b[39;00m rewrite \u001b[38;5;241m!=\u001b[39m lhs:\n\u001b[0;32m-> 2706\u001b[0m         \u001b[38;5;28;01mreturn\u001b[39;00m \u001b[43m_solve\u001b[49m\u001b[43m(\u001b[49m\u001b[43mrewrite\u001b[49m\u001b[43m \u001b[49m\u001b[38;5;241;43m-\u001b[39;49m\u001b[43m \u001b[49m\u001b[43mrhs\u001b[49m\u001b[43m,\u001b[49m\u001b[43m \u001b[49m\u001b[43msym\u001b[49m\u001b[43m,\u001b[49m\u001b[43m \u001b[49m\u001b[38;5;241;43m*\u001b[39;49m\u001b[38;5;241;43m*\u001b[39;49m\u001b[43mflags\u001b[49m\u001b[43m)\u001b[49m\n\u001b[1;32m   2707\u001b[0m \u001b[38;5;28;01mexcept\u001b[39;00m \u001b[38;5;167;01mNotImplementedError\u001b[39;00m:\n\u001b[1;32m   2708\u001b[0m     \u001b[38;5;28;01mpass\u001b[39;00m\n",
      "File \u001b[0;32m/Library/Frameworks/Python.framework/Versions/3.11/lib/python3.11/site-packages/sympy/solvers/solvers.py:1510\u001b[0m, in \u001b[0;36m_solve\u001b[0;34m(f, *symbols, **flags)\u001b[0m\n\u001b[1;32m   1508\u001b[0m \u001b[38;5;28;01mtry\u001b[39;00m:\n\u001b[1;32m   1509\u001b[0m     \u001b[38;5;28;01mif\u001b[39;00m poly \u001b[38;5;129;01mis\u001b[39;00m \u001b[38;5;28;01mNone\u001b[39;00m:\n\u001b[0;32m-> 1510\u001b[0m         poly \u001b[38;5;241m=\u001b[39m \u001b[43mPoly\u001b[49m\u001b[43m(\u001b[49m\u001b[43mf_num\u001b[49m\u001b[43m)\u001b[49m\n\u001b[1;32m   1511\u001b[0m     \u001b[38;5;28;01mif\u001b[39;00m poly \u001b[38;5;129;01mis\u001b[39;00m \u001b[38;5;28;01mNone\u001b[39;00m:\n\u001b[1;32m   1512\u001b[0m         \u001b[38;5;28;01mraise\u001b[39;00m \u001b[38;5;167;01mValueError\u001b[39;00m(\u001b[38;5;124m'\u001b[39m\u001b[38;5;124mcould not convert \u001b[39m\u001b[38;5;132;01m%s\u001b[39;00m\u001b[38;5;124m to Poly\u001b[39m\u001b[38;5;124m'\u001b[39m \u001b[38;5;241m%\u001b[39m f_num)\n",
      "File \u001b[0;32m/Library/Frameworks/Python.framework/Versions/3.11/lib/python3.11/site-packages/sympy/polys/polytools.py:182\u001b[0m, in \u001b[0;36mPoly.__new__\u001b[0;34m(cls, rep, *gens, **args)\u001b[0m\n\u001b[1;32m    180\u001b[0m     \u001b[38;5;28;01mreturn\u001b[39;00m \u001b[38;5;28mcls\u001b[39m\u001b[38;5;241m.\u001b[39m_from_poly(rep, opt)\n\u001b[1;32m    181\u001b[0m \u001b[38;5;28;01melse\u001b[39;00m:\n\u001b[0;32m--> 182\u001b[0m     \u001b[38;5;28;01mreturn\u001b[39;00m \u001b[38;5;28;43mcls\u001b[39;49m\u001b[38;5;241;43m.\u001b[39;49m\u001b[43m_from_expr\u001b[49m\u001b[43m(\u001b[49m\u001b[43mrep\u001b[49m\u001b[43m,\u001b[49m\u001b[43m \u001b[49m\u001b[43mopt\u001b[49m\u001b[43m)\u001b[49m\n",
      "File \u001b[0;32m/Library/Frameworks/Python.framework/Versions/3.11/lib/python3.11/site-packages/sympy/polys/polytools.py:311\u001b[0m, in \u001b[0;36mPoly._from_expr\u001b[0;34m(cls, rep, opt)\u001b[0m\n\u001b[1;32m    308\u001b[0m \u001b[38;5;129m@classmethod\u001b[39m\n\u001b[1;32m    309\u001b[0m \u001b[38;5;28;01mdef\u001b[39;00m \u001b[38;5;21m_from_expr\u001b[39m(\u001b[38;5;28mcls\u001b[39m, rep, opt):\n\u001b[1;32m    310\u001b[0m \u001b[38;5;250m    \u001b[39m\u001b[38;5;124;03m\"\"\"Construct a polynomial from an expression. \"\"\"\u001b[39;00m\n\u001b[0;32m--> 311\u001b[0m     rep, opt \u001b[38;5;241m=\u001b[39m \u001b[43m_dict_from_expr\u001b[49m\u001b[43m(\u001b[49m\u001b[43mrep\u001b[49m\u001b[43m,\u001b[49m\u001b[43m \u001b[49m\u001b[43mopt\u001b[49m\u001b[43m)\u001b[49m\n\u001b[1;32m    312\u001b[0m     \u001b[38;5;28;01mreturn\u001b[39;00m \u001b[38;5;28mcls\u001b[39m\u001b[38;5;241m.\u001b[39m_from_dict(rep, opt)\n",
      "File \u001b[0;32m/Library/Frameworks/Python.framework/Versions/3.11/lib/python3.11/site-packages/sympy/polys/polyutils.py:357\u001b[0m, in \u001b[0;36m_dict_from_expr\u001b[0;34m(expr, opt)\u001b[0m\n\u001b[1;32m    355\u001b[0m \u001b[38;5;28;01mif\u001b[39;00m \u001b[38;5;129;01mnot\u001b[39;00m \u001b[38;5;28misinstance\u001b[39m(expr, (Expr, Eq)):\n\u001b[1;32m    356\u001b[0m     \u001b[38;5;28;01mraise\u001b[39;00m PolynomialError(\u001b[38;5;124m'\u001b[39m\u001b[38;5;124mexpression must be of type Expr\u001b[39m\u001b[38;5;124m'\u001b[39m)\n\u001b[0;32m--> 357\u001b[0m expr \u001b[38;5;241m=\u001b[39m \u001b[43mexpr\u001b[49m\u001b[38;5;241;43m.\u001b[39;49m\u001b[43mexpand\u001b[49m\u001b[43m(\u001b[49m\u001b[43m)\u001b[49m\n\u001b[1;32m    358\u001b[0m \u001b[38;5;66;03m# TODO: Integrate this into expand() itself\u001b[39;00m\n\u001b[1;32m    359\u001b[0m \u001b[38;5;28;01mwhile\u001b[39;00m \u001b[38;5;28many\u001b[39m(_is_expandable_pow(i) \u001b[38;5;129;01mor\u001b[39;00m i\u001b[38;5;241m.\u001b[39mis_Mul \u001b[38;5;129;01mand\u001b[39;00m\n\u001b[1;32m    360\u001b[0m     \u001b[38;5;28many\u001b[39m(_is_expandable_pow(j) \u001b[38;5;28;01mfor\u001b[39;00m j \u001b[38;5;129;01min\u001b[39;00m i\u001b[38;5;241m.\u001b[39margs) \u001b[38;5;28;01mfor\u001b[39;00m i \u001b[38;5;129;01min\u001b[39;00m\n\u001b[1;32m    361\u001b[0m         Add\u001b[38;5;241m.\u001b[39mmake_args(expr)):\n",
      "File \u001b[0;32m/Library/Frameworks/Python.framework/Versions/3.11/lib/python3.11/site-packages/sympy/core/cache.py:70\u001b[0m, in \u001b[0;36m__cacheit.<locals>.func_wrapper.<locals>.wrapper\u001b[0;34m(*args, **kwargs)\u001b[0m\n\u001b[1;32m     67\u001b[0m \u001b[38;5;129m@wraps\u001b[39m(func)\n\u001b[1;32m     68\u001b[0m \u001b[38;5;28;01mdef\u001b[39;00m \u001b[38;5;21mwrapper\u001b[39m(\u001b[38;5;241m*\u001b[39margs, \u001b[38;5;241m*\u001b[39m\u001b[38;5;241m*\u001b[39mkwargs):\n\u001b[1;32m     69\u001b[0m     \u001b[38;5;28;01mtry\u001b[39;00m:\n\u001b[0;32m---> 70\u001b[0m         retval \u001b[38;5;241m=\u001b[39m \u001b[43mcfunc\u001b[49m\u001b[43m(\u001b[49m\u001b[38;5;241;43m*\u001b[39;49m\u001b[43margs\u001b[49m\u001b[43m,\u001b[49m\u001b[43m \u001b[49m\u001b[38;5;241;43m*\u001b[39;49m\u001b[38;5;241;43m*\u001b[39;49m\u001b[43mkwargs\u001b[49m\u001b[43m)\u001b[49m\n\u001b[1;32m     71\u001b[0m     \u001b[38;5;28;01mexcept\u001b[39;00m \u001b[38;5;167;01mTypeError\u001b[39;00m \u001b[38;5;28;01mas\u001b[39;00m e:\n\u001b[1;32m     72\u001b[0m         \u001b[38;5;28;01mif\u001b[39;00m \u001b[38;5;129;01mnot\u001b[39;00m e\u001b[38;5;241m.\u001b[39margs \u001b[38;5;129;01mor\u001b[39;00m \u001b[38;5;129;01mnot\u001b[39;00m e\u001b[38;5;241m.\u001b[39margs[\u001b[38;5;241m0\u001b[39m]\u001b[38;5;241m.\u001b[39mstartswith(\u001b[38;5;124m'\u001b[39m\u001b[38;5;124munhashable type:\u001b[39m\u001b[38;5;124m'\u001b[39m):\n",
      "File \u001b[0;32m/Library/Frameworks/Python.framework/Versions/3.11/lib/python3.11/site-packages/sympy/core/expr.py:3651\u001b[0m, in \u001b[0;36mExpr.expand\u001b[0;34m(self, deep, modulus, power_base, power_exp, mul, log, multinomial, basic, **hints)\u001b[0m\n\u001b[1;32m   3649\u001b[0m     \u001b[38;5;28;01mif\u001b[39;00m use_hint:\n\u001b[1;32m   3650\u001b[0m         hint \u001b[38;5;241m=\u001b[39m \u001b[38;5;124m'\u001b[39m\u001b[38;5;124m_eval_expand_\u001b[39m\u001b[38;5;124m'\u001b[39m \u001b[38;5;241m+\u001b[39m hint\n\u001b[0;32m-> 3651\u001b[0m         expr, hit \u001b[38;5;241m=\u001b[39m \u001b[43mExpr\u001b[49m\u001b[38;5;241;43m.\u001b[39;49m\u001b[43m_expand_hint\u001b[49m\u001b[43m(\u001b[49m\u001b[43mexpr\u001b[49m\u001b[43m,\u001b[49m\u001b[43m \u001b[49m\u001b[43mhint\u001b[49m\u001b[43m,\u001b[49m\u001b[43m \u001b[49m\u001b[43mdeep\u001b[49m\u001b[38;5;241;43m=\u001b[39;49m\u001b[43mdeep\u001b[49m\u001b[43m,\u001b[49m\u001b[43m \u001b[49m\u001b[38;5;241;43m*\u001b[39;49m\u001b[38;5;241;43m*\u001b[39;49m\u001b[43mhints\u001b[49m\u001b[43m)\u001b[49m\n\u001b[1;32m   3653\u001b[0m \u001b[38;5;28;01mwhile\u001b[39;00m \u001b[38;5;28;01mTrue\u001b[39;00m:\n\u001b[1;32m   3654\u001b[0m     was \u001b[38;5;241m=\u001b[39m expr\n",
      "File \u001b[0;32m/Library/Frameworks/Python.framework/Versions/3.11/lib/python3.11/site-packages/sympy/core/expr.py:3584\u001b[0m, in \u001b[0;36mExpr._expand_hint\u001b[0;34m(expr, hint, deep, **hints)\u001b[0m\n\u001b[1;32m   3582\u001b[0m sargs \u001b[38;5;241m=\u001b[39m []\n\u001b[1;32m   3583\u001b[0m \u001b[38;5;28;01mfor\u001b[39;00m arg \u001b[38;5;129;01min\u001b[39;00m expr\u001b[38;5;241m.\u001b[39margs:\n\u001b[0;32m-> 3584\u001b[0m     arg, arghit \u001b[38;5;241m=\u001b[39m \u001b[43mExpr\u001b[49m\u001b[38;5;241;43m.\u001b[39;49m\u001b[43m_expand_hint\u001b[49m\u001b[43m(\u001b[49m\u001b[43marg\u001b[49m\u001b[43m,\u001b[49m\u001b[43m \u001b[49m\u001b[43mhint\u001b[49m\u001b[43m,\u001b[49m\u001b[43m \u001b[49m\u001b[38;5;241;43m*\u001b[39;49m\u001b[38;5;241;43m*\u001b[39;49m\u001b[43mhints\u001b[49m\u001b[43m)\u001b[49m\n\u001b[1;32m   3585\u001b[0m     hit \u001b[38;5;241m|\u001b[39m\u001b[38;5;241m=\u001b[39m arghit\n\u001b[1;32m   3586\u001b[0m     sargs\u001b[38;5;241m.\u001b[39mappend(arg)\n",
      "File \u001b[0;32m/Library/Frameworks/Python.framework/Versions/3.11/lib/python3.11/site-packages/sympy/core/expr.py:3592\u001b[0m, in \u001b[0;36mExpr._expand_hint\u001b[0;34m(expr, hint, deep, **hints)\u001b[0m\n\u001b[1;32m   3589\u001b[0m         expr \u001b[38;5;241m=\u001b[39m expr\u001b[38;5;241m.\u001b[39mfunc(\u001b[38;5;241m*\u001b[39msargs)\n\u001b[1;32m   3591\u001b[0m \u001b[38;5;28;01mif\u001b[39;00m \u001b[38;5;28mhasattr\u001b[39m(expr, hint):\n\u001b[0;32m-> 3592\u001b[0m     newexpr \u001b[38;5;241m=\u001b[39m \u001b[38;5;28;43mgetattr\u001b[39;49m\u001b[43m(\u001b[49m\u001b[43mexpr\u001b[49m\u001b[43m,\u001b[49m\u001b[43m \u001b[49m\u001b[43mhint\u001b[49m\u001b[43m)\u001b[49m\u001b[43m(\u001b[49m\u001b[38;5;241;43m*\u001b[39;49m\u001b[38;5;241;43m*\u001b[39;49m\u001b[43mhints\u001b[49m\u001b[43m)\u001b[49m\n\u001b[1;32m   3593\u001b[0m     \u001b[38;5;28;01mif\u001b[39;00m newexpr \u001b[38;5;241m!=\u001b[39m expr:\n\u001b[1;32m   3594\u001b[0m         \u001b[38;5;28;01mreturn\u001b[39;00m (newexpr, \u001b[38;5;28;01mTrue\u001b[39;00m)\n",
      "File \u001b[0;32m/Library/Frameworks/Python.framework/Versions/3.11/lib/python3.11/site-packages/sympy/core/mul.py:950\u001b[0m, in \u001b[0;36mMul._eval_expand_mul\u001b[0;34m(self, **hints)\u001b[0m\n\u001b[1;32m    948\u001b[0m args \u001b[38;5;241m=\u001b[39m []\n\u001b[1;32m    949\u001b[0m \u001b[38;5;28;01mfor\u001b[39;00m term \u001b[38;5;129;01min\u001b[39;00m terms:\n\u001b[0;32m--> 950\u001b[0m     t \u001b[38;5;241m=\u001b[39m \u001b[38;5;28;43mself\u001b[39;49m\u001b[38;5;241;43m.\u001b[39;49m\u001b[43mfunc\u001b[49m\u001b[43m(\u001b[49m\u001b[43mplain\u001b[49m\u001b[43m,\u001b[49m\u001b[43m \u001b[49m\u001b[43mterm\u001b[49m\u001b[43m)\u001b[49m\n\u001b[1;32m    951\u001b[0m     \u001b[38;5;28;01mif\u001b[39;00m t\u001b[38;5;241m.\u001b[39mis_Mul \u001b[38;5;129;01mand\u001b[39;00m \u001b[38;5;28many\u001b[39m(a\u001b[38;5;241m.\u001b[39mis_Add \u001b[38;5;28;01mfor\u001b[39;00m a \u001b[38;5;129;01min\u001b[39;00m t\u001b[38;5;241m.\u001b[39margs) \u001b[38;5;129;01mand\u001b[39;00m deep:\n\u001b[1;32m    952\u001b[0m         t \u001b[38;5;241m=\u001b[39m t\u001b[38;5;241m.\u001b[39m_eval_expand_mul()\n",
      "File \u001b[0;32m/Library/Frameworks/Python.framework/Versions/3.11/lib/python3.11/site-packages/sympy/core/cache.py:70\u001b[0m, in \u001b[0;36m__cacheit.<locals>.func_wrapper.<locals>.wrapper\u001b[0;34m(*args, **kwargs)\u001b[0m\n\u001b[1;32m     67\u001b[0m \u001b[38;5;129m@wraps\u001b[39m(func)\n\u001b[1;32m     68\u001b[0m \u001b[38;5;28;01mdef\u001b[39;00m \u001b[38;5;21mwrapper\u001b[39m(\u001b[38;5;241m*\u001b[39margs, \u001b[38;5;241m*\u001b[39m\u001b[38;5;241m*\u001b[39mkwargs):\n\u001b[1;32m     69\u001b[0m     \u001b[38;5;28;01mtry\u001b[39;00m:\n\u001b[0;32m---> 70\u001b[0m         retval \u001b[38;5;241m=\u001b[39m \u001b[43mcfunc\u001b[49m\u001b[43m(\u001b[49m\u001b[38;5;241;43m*\u001b[39;49m\u001b[43margs\u001b[49m\u001b[43m,\u001b[49m\u001b[43m \u001b[49m\u001b[38;5;241;43m*\u001b[39;49m\u001b[38;5;241;43m*\u001b[39;49m\u001b[43mkwargs\u001b[49m\u001b[43m)\u001b[49m\n\u001b[1;32m     71\u001b[0m     \u001b[38;5;28;01mexcept\u001b[39;00m \u001b[38;5;167;01mTypeError\u001b[39;00m \u001b[38;5;28;01mas\u001b[39;00m e:\n\u001b[1;32m     72\u001b[0m         \u001b[38;5;28;01mif\u001b[39;00m \u001b[38;5;129;01mnot\u001b[39;00m e\u001b[38;5;241m.\u001b[39margs \u001b[38;5;129;01mor\u001b[39;00m \u001b[38;5;129;01mnot\u001b[39;00m e\u001b[38;5;241m.\u001b[39margs[\u001b[38;5;241m0\u001b[39m]\u001b[38;5;241m.\u001b[39mstartswith(\u001b[38;5;124m'\u001b[39m\u001b[38;5;124munhashable type:\u001b[39m\u001b[38;5;124m'\u001b[39m):\n",
      "File \u001b[0;32m/Library/Frameworks/Python.framework/Versions/3.11/lib/python3.11/site-packages/sympy/core/operations.py:98\u001b[0m, in \u001b[0;36mAssocOp.__new__\u001b[0;34m(cls, evaluate, _sympify, *args)\u001b[0m\n\u001b[1;32m     95\u001b[0m \u001b[38;5;28;01mif\u001b[39;00m \u001b[38;5;28mlen\u001b[39m(args) \u001b[38;5;241m==\u001b[39m \u001b[38;5;241m1\u001b[39m:\n\u001b[1;32m     96\u001b[0m     \u001b[38;5;28;01mreturn\u001b[39;00m args[\u001b[38;5;241m0\u001b[39m]\n\u001b[0;32m---> 98\u001b[0m c_part, nc_part, order_symbols \u001b[38;5;241m=\u001b[39m \u001b[38;5;28;43mcls\u001b[39;49m\u001b[38;5;241;43m.\u001b[39;49m\u001b[43mflatten\u001b[49m\u001b[43m(\u001b[49m\u001b[43margs\u001b[49m\u001b[43m)\u001b[49m\n\u001b[1;32m     99\u001b[0m is_commutative \u001b[38;5;241m=\u001b[39m \u001b[38;5;129;01mnot\u001b[39;00m nc_part\n\u001b[1;32m    100\u001b[0m obj \u001b[38;5;241m=\u001b[39m \u001b[38;5;28mcls\u001b[39m\u001b[38;5;241m.\u001b[39m_from_args(c_part \u001b[38;5;241m+\u001b[39m nc_part, is_commutative)\n",
      "File \u001b[0;32m/Library/Frameworks/Python.framework/Versions/3.11/lib/python3.11/site-packages/sympy/core/mul.py:482\u001b[0m, in \u001b[0;36mMul.flatten\u001b[0;34m(cls, seq)\u001b[0m\n\u001b[1;32m    479\u001b[0m     \u001b[38;5;28;01mreturn\u001b[39;00m new_c_powers\n\u001b[1;32m    481\u001b[0m \u001b[38;5;66;03m# in c_powers\u001b[39;00m\n\u001b[0;32m--> 482\u001b[0m c_powers \u001b[38;5;241m=\u001b[39m \u001b[43m_gather\u001b[49m\u001b[43m(\u001b[49m\u001b[43mc_powers\u001b[49m\u001b[43m)\u001b[49m\n\u001b[1;32m    484\u001b[0m \u001b[38;5;66;03m# and in num_exp\u001b[39;00m\n\u001b[1;32m    485\u001b[0m num_exp \u001b[38;5;241m=\u001b[39m _gather(num_exp)\n",
      "File \u001b[0;32m/Library/Frameworks/Python.framework/Versions/3.11/lib/python3.11/site-packages/sympy/core/mul.py:475\u001b[0m, in \u001b[0;36mMul.flatten.<locals>._gather\u001b[0;34m(c_powers)\u001b[0m\n\u001b[1;32m    473\u001b[0m \u001b[38;5;28;01mfor\u001b[39;00m b, d \u001b[38;5;129;01min\u001b[39;00m common_b\u001b[38;5;241m.\u001b[39mitems():\n\u001b[1;32m    474\u001b[0m     \u001b[38;5;28;01mfor\u001b[39;00m di, li \u001b[38;5;129;01min\u001b[39;00m d\u001b[38;5;241m.\u001b[39mitems():\n\u001b[0;32m--> 475\u001b[0m         \u001b[43md\u001b[49m\u001b[43m[\u001b[49m\u001b[43mdi\u001b[49m\u001b[43m]\u001b[49m \u001b[38;5;241m=\u001b[39m Add(\u001b[38;5;241m*\u001b[39mli)\n\u001b[1;32m    476\u001b[0m new_c_powers \u001b[38;5;241m=\u001b[39m []\n\u001b[1;32m    477\u001b[0m \u001b[38;5;28;01mfor\u001b[39;00m b, e \u001b[38;5;129;01min\u001b[39;00m common_b\u001b[38;5;241m.\u001b[39mitems():\n",
      "File \u001b[0;32m/Library/Frameworks/Python.framework/Versions/3.11/lib/python3.11/site-packages/sympy/core/numbers.py:2285\u001b[0m, in \u001b[0;36mInteger.__hash__\u001b[0;34m(self)\u001b[0m\n\u001b[1;32m   2284\u001b[0m \u001b[38;5;28;01mdef\u001b[39;00m \u001b[38;5;21m__hash__\u001b[39m(\u001b[38;5;28mself\u001b[39m):\n\u001b[0;32m-> 2285\u001b[0m     \u001b[38;5;28;01mreturn\u001b[39;00m \u001b[38;5;28mhash\u001b[39m(\u001b[38;5;28mself\u001b[39m\u001b[38;5;241m.\u001b[39mp)\n",
      "\u001b[0;31mKeyboardInterrupt\u001b[0m: "
     ]
    }
   ],
   "source": [
    "solve(B,phi)"
   ]
  },
  {
   "cell_type": "markdown",
   "metadata": {},
   "source": [
    "# without finitesize effect"
   ]
  },
  {
   "cell_type": "code",
   "execution_count": 139,
   "metadata": {},
   "outputs": [],
   "source": [
    "K,alpha,beta = symbols('K alpha beta',real=True)\n",
    "r = IndexedBase('r', real = True)\n",
    "phi = IndexedBase('phi', real = True)\n",
    "R1 = (r[1,1]-r[1,2])/2\n",
    "R2 = (r[2,1]-r[2,2])/2\n",
    "\n",
    "\n",
    "dr11_dt = K/2 *(R1**2 *cos(alpha)+beta**2*R2**2*cos(alpha+2*phi) + 2*beta*R1*R2*cos(alpha+phi)-cos(alpha)/(2*N)*(r[1,1]**2+r[1,2]**2)-beta**2*cos(alpha+2*phi)/(2*N)*(r[2,1]**2+r[2,2]**2))*(r[1,1]-r[1,1]**3)-K/(2*N)*(R1*cos(alpha)+beta*R2*cos(alpha+phi))*(1-r[1,1]**2)\n",
    "dr12_dt = K/2 *(R1**2 *cos(alpha)+beta**2*R2**2*cos(alpha+2*phi) + 2*beta*R1*R2*cos(alpha+phi)-cos(alpha)/(2*N)*(r[1,1]**2+r[1,2]**2)-beta**2*cos(alpha+2*phi)/(2*N)*(r[2,1]**2+r[2,2]**2))*(r[1,2]-r[1,2]**3)-K/(2*N)*(R1*cos(alpha)+beta*R2*cos(alpha+phi))*(1-r[1,2]**2)\n",
    "dr21_dt = K/2 *(R2**2 *cos(alpha)+beta**2*R1**2*cos(alpha-2*phi) + 2*beta*R2*R1*cos(alpha-phi)-cos(alpha)/(2*N)*(r[2,1]**2+r[2,2]**2)-beta**2*cos(alpha-2*phi)/(2*N)*(r[1,1]**2+r[1,2]**2))*(r[2,1]-r[2,1]**3)-K/(2*N)*(R2*cos(alpha)+beta*R1*cos(alpha-phi))*(1-r[2,1]**2)\n",
    "dr22_dt = K/2 *(R2**2 *cos(alpha)+beta**2*R1**2*cos(alpha-2*phi) + 2*beta*R2*R1*cos(alpha-phi)-cos(alpha)/(2*N)*(r[2,1]**2+r[2,2]**2)-beta**2*cos(alpha-2*phi)/(2*N)*(r[1,1]**2+r[1,2]**2))*(r[2,2]-r[2,2]**3)-K/(2*N)*(R2*cos(alpha)+beta*R1*cos(alpha-phi))*(1-r[2,2]**2)\n",
    "\n",
    "dpsi1_dt = omega-sin(alpha)/N**2 - K/2*(R1**2*sin(alpha)+beta**2*R2**2*sin(alpha+2*phi)-1/N*(r[1,1]**2+r[1,2]**2)*sin(alpha)-beta**2/N*(r[2,1]**2+r[2,2]**2)*sin(alpha+2*phi))*(1+r[1,1]**2) - K/(2*N*r[1,1])*(R1*sin(alpha)+beta*R2*sin(alpha+phi))*(1+r[1,1])\n",
    "dpsi2_dt = omega-sin(alpha)/N**2 - K/2*(R2**2*sin(alpha)+beta**2*R1**2*sin(alpha-2*phi)-1/N*(r[2,1]**2+r[2,2]**2)*sin(alpha)-beta**2/N*(r[1,1]**2+r[1,2]**2)*sin(alpha-2*phi))*(1+r[2,1]**2) - K/(2*N*r[2,1])*(R2*sin(alpha)+beta*R1*sin(alpha-phi))*(1+r[2,1])\n",
    "dphi_dt = dpsi1_dt - dpsi2_dt\n"
   ]
  },
  {
   "cell_type": "code",
   "execution_count": 158,
   "metadata": {},
   "outputs": [],
   "source": [
    "DR11_dt_N = dr11_dt.subs(N,oo)\n",
    "DR12_dt_N = dr12_dt.subs(N,oo)\n",
    "DR21_dt_N = dr21_dt.subs(N,oo)\n",
    "DR22_dt_N = dr22_dt.subs(N,oo)\n",
    "DPhi_dt = dphi_dt.subs(N,oo)"
   ]
  },
  {
   "cell_type": "code",
   "execution_count": 171,
   "metadata": {},
   "outputs": [
    {
     "data": {
      "text/latex": [
       "$\\displaystyle 0$"
      ],
      "text/plain": [
       "0"
      ]
     },
     "execution_count": 171,
     "metadata": {},
     "output_type": "execute_result"
    }
   ],
   "source": [
    "DPhi_dt.subs([(r[1,2],r[1,1]),(r[2,1],1),(r[2,2],1)])"
   ]
  },
  {
   "cell_type": "code",
   "execution_count": 170,
   "metadata": {},
   "outputs": [
    {
     "data": {
      "text/latex": [
       "$\\displaystyle \\frac{\\sqrt{\\frac{- \\beta^{2} \\sin{\\left(\\alpha + 2 \\phi \\right)} + \\sin{\\left(\\alpha \\right)} {r}_{2,1}^{2} + \\sin{\\left(\\alpha \\right)}}{\\sin{\\left(\\alpha + 2 \\phi \\right)}}}}{\\beta}$"
      ],
      "text/plain": [
       "sqrt((-beta**2*sin(alpha + 2*phi) + sin(alpha)*r[2, 1]**2 + sin(alpha))/sin(alpha + 2*phi))/beta"
      ]
     },
     "execution_count": 170,
     "metadata": {},
     "output_type": "execute_result"
    }
   ],
   "source": [
    "solve(DPhi_dt.subs([(r[1,2],r[1,1])]).simplify(),r[1,1])[1]"
   ]
  },
  {
   "cell_type": "code",
   "execution_count": 155,
   "metadata": {},
   "outputs": [],
   "source": [
    "a11 = solve(DR11_dt_N,r[1,1])[4]\n",
    "# a12 = solve(DR12_dt_N,r[1,2])[4]"
   ]
  },
  {
   "cell_type": "code",
   "execution_count": 156,
   "metadata": {},
   "outputs": [
    {
     "data": {
      "text/latex": [
       "$\\displaystyle \\frac{2 \\beta \\left({r}_{2,1} - {r}_{2,2}\\right) \\left|{\\sin{\\left(\\phi \\right)}}\\right| + \\cos{\\left(\\alpha \\right)} {r}_{1,2}}{\\cos{\\left(\\alpha \\right)}}$"
      ],
      "text/plain": [
       "(2*beta*(r[2, 1] - r[2, 2])*Abs(sin(phi)) + cos(alpha)*r[1, 2])/cos(alpha)"
      ]
     },
     "execution_count": 156,
     "metadata": {},
     "output_type": "execute_result"
    }
   ],
   "source": [
    "solve(DR12_dt_N,r[1,2])[4].subs(r[1,1],a11)"
   ]
  },
  {
   "cell_type": "code",
   "execution_count": null,
   "metadata": {},
   "outputs": [],
   "source": [
    "solve(DR21_dt_N,r[2,1]"
   ]
  }
 ],
 "metadata": {
  "kernelspec": {
   "display_name": "Python 3",
   "language": "python",
   "name": "python3"
  },
  "language_info": {
   "codemirror_mode": {
    "name": "ipython",
    "version": 3
   },
   "file_extension": ".py",
   "mimetype": "text/x-python",
   "name": "python",
   "nbconvert_exporter": "python",
   "pygments_lexer": "ipython3",
   "version": "3.11.1"
  }
 },
 "nbformat": 4,
 "nbformat_minor": 2
}
