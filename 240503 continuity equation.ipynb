{
 "cells": [
  {
   "cell_type": "code",
   "execution_count": 1,
   "metadata": {},
   "outputs": [],
   "source": [
    "from sympy import *"
   ]
  },
  {
   "cell_type": "code",
   "execution_count": 86,
   "metadata": {},
   "outputs": [],
   "source": [
    "theta,t,alpha,n,omega,H,Hs = symbols('theta t alpha n omega H H^*')\n",
    "a = Function('a')('t')\n",
    "a_s = Function('a^*')('t')\n",
    "b = Function('b')('t')\n",
    "b_s = Function('b^*')('t')\n",
    "A = Sum((a*E**(I*theta))**n,(n,1,10)).doit()\n",
    "As = Sum((a_s*E**(-I*theta))**n,(n,1,10)).doit()\n",
    "B = Sum((b*E**(I*theta))**n,(n,1,10)).doit()\n",
    "Bs = Sum((b_s*E**(-I*theta))**n,(n,1,10)).doit()\n",
    "f = 1/(2*pi) * (1+A+As)\n",
    "v = omega + 1/(2*I) * (H*E**(-I*(2*theta+alpha))-Hs*E**(I*(2*theta+alpha)))"
   ]
  },
  {
   "cell_type": "code",
   "execution_count": 87,
   "metadata": {},
   "outputs": [
    {
     "data": {
      "text/latex": [
       "$\\displaystyle - \\frac{3 H \\left(a^{*}\\right)^{10}{\\left(t \\right)} e^{- i \\alpha}}{\\pi \\left(e^{1.0 i \\theta}\\right)^{12.0}} - \\frac{11 H \\left(a^{*}\\right)^{9}{\\left(t \\right)} e^{- i \\alpha}}{4 \\pi \\left(e^{1.0 i \\theta}\\right)^{11.0}} - \\frac{3 H^{*} a^{10}{\\left(t \\right)} e^{i \\alpha} \\left(e^{1.0 i \\theta}\\right)^{12.0}}{\\pi} - \\frac{11 H^{*} a^{9}{\\left(t \\right)} e^{i \\alpha} \\left(e^{1.0 i \\theta}\\right)^{11.0}}{4 \\pi} + \\frac{- \\frac{9 H \\left(a^{*}\\right)^{7}{\\left(t \\right)} e^{- i \\alpha}}{4 \\pi} - \\frac{9 i \\omega \\left(a^{*}\\right)^{9}{\\left(t \\right)}}{2 \\pi} + \\frac{9 \\left(a^{*}\\right)^{8}{\\left(t \\right)} \\frac{d}{d t} a^{*}{\\left(t \\right)}}{2 \\pi}}{\\left(e^{1.0 i \\theta}\\right)^{9.0}} + \\frac{- \\frac{5 H \\left(a^{*}\\right)^{8}{\\left(t \\right)} e^{- i \\alpha}}{2 \\pi} - \\frac{5 i \\omega \\left(a^{*}\\right)^{10}{\\left(t \\right)}}{\\pi} + \\frac{5 \\left(a^{*}\\right)^{9}{\\left(t \\right)} \\frac{d}{d t} a^{*}{\\left(t \\right)}}{\\pi}}{\\left(e^{1.0 i \\theta}\\right)^{10.0}} + \\left(- \\frac{9 H^{*} a^{7}{\\left(t \\right)} e^{i \\alpha}}{4 \\pi} + \\frac{9 i \\omega a^{9}{\\left(t \\right)}}{2 \\pi} + \\frac{9 a^{8}{\\left(t \\right)} \\frac{d}{d t} a{\\left(t \\right)}}{2 \\pi}\\right) \\left(e^{1.0 i \\theta}\\right)^{9.0} + \\left(- \\frac{5 H^{*} a^{8}{\\left(t \\right)} e^{i \\alpha}}{2 \\pi} + \\frac{5 i \\omega a^{10}{\\left(t \\right)}}{\\pi} + \\frac{5 a^{9}{\\left(t \\right)} \\frac{d}{d t} a{\\left(t \\right)}}{\\pi}\\right) \\left(e^{1.0 i \\theta}\\right)^{10.0} + \\frac{- \\frac{H e^{- i \\alpha}}{2 \\pi} + \\frac{H^{*} \\left(a^{*}\\right)^{4}{\\left(t \\right)} e^{i \\alpha}}{2 \\pi} - \\frac{i \\omega \\left(a^{*}\\right)^{2}{\\left(t \\right)}}{\\pi} + \\frac{a^{*}{\\left(t \\right)} \\frac{d}{d t} a^{*}{\\left(t \\right)}}{\\pi}}{\\left(e^{1.0 i \\theta}\\right)^{2.0}} + \\frac{- \\frac{H a{\\left(t \\right)} e^{- i \\alpha}}{4 \\pi} + \\frac{H^{*} \\left(a^{*}\\right)^{3}{\\left(t \\right)} e^{i \\alpha}}{4 \\pi} - \\frac{i \\omega a^{*}{\\left(t \\right)}}{2 \\pi} + \\frac{\\frac{d}{d t} a^{*}{\\left(t \\right)}}{2 \\pi}}{\\left(e^{1.0 i \\theta}\\right)^{1.0}} + \\left(\\frac{H a^{3}{\\left(t \\right)} e^{- i \\alpha}}{4 \\pi} - \\frac{H^{*} a^{*}{\\left(t \\right)} e^{i \\alpha}}{4 \\pi} + \\frac{i \\omega a{\\left(t \\right)}}{2 \\pi} + \\frac{\\frac{d}{d t} a{\\left(t \\right)}}{2 \\pi}\\right) \\left(e^{1.0 i \\theta}\\right)^{1.0} + \\left(\\frac{H a^{4}{\\left(t \\right)} e^{- i \\alpha}}{2 \\pi} - \\frac{H^{*} e^{i \\alpha}}{2 \\pi} + \\frac{i \\omega a^{2}{\\left(t \\right)}}{\\pi} + \\frac{a{\\left(t \\right)} \\frac{d}{d t} a{\\left(t \\right)}}{\\pi}\\right) \\left(e^{1.0 i \\theta}\\right)^{2.0} + \\left(\\frac{3 H a^{5}{\\left(t \\right)} e^{- i \\alpha}}{4 \\pi} - \\frac{3 H^{*} a{\\left(t \\right)} e^{i \\alpha}}{4 \\pi} + \\frac{3 i \\omega a^{3}{\\left(t \\right)}}{2 \\pi} + \\frac{3 a^{2}{\\left(t \\right)} \\frac{d}{d t} a{\\left(t \\right)}}{2 \\pi}\\right) \\left(e^{1.0 i \\theta}\\right)^{3.0} + \\left(\\frac{H a^{6}{\\left(t \\right)} e^{- i \\alpha}}{\\pi} - \\frac{H^{*} a^{2}{\\left(t \\right)} e^{i \\alpha}}{\\pi} + \\frac{2 i \\omega a^{4}{\\left(t \\right)}}{\\pi} + \\frac{2 a^{3}{\\left(t \\right)} \\frac{d}{d t} a{\\left(t \\right)}}{\\pi}\\right) \\left(e^{1.0 i \\theta}\\right)^{4.0} + \\left(\\frac{5 H a^{7}{\\left(t \\right)} e^{- i \\alpha}}{4 \\pi} - \\frac{5 H^{*} a^{3}{\\left(t \\right)} e^{i \\alpha}}{4 \\pi} + \\frac{5 i \\omega a^{5}{\\left(t \\right)}}{2 \\pi} + \\frac{5 a^{4}{\\left(t \\right)} \\frac{d}{d t} a{\\left(t \\right)}}{2 \\pi}\\right) \\left(e^{1.0 i \\theta}\\right)^{5.0} + \\left(\\frac{3 H a^{8}{\\left(t \\right)} e^{- i \\alpha}}{2 \\pi} - \\frac{3 H^{*} a^{4}{\\left(t \\right)} e^{i \\alpha}}{2 \\pi} + \\frac{3 i \\omega a^{6}{\\left(t \\right)}}{\\pi} + \\frac{3 a^{5}{\\left(t \\right)} \\frac{d}{d t} a{\\left(t \\right)}}{\\pi}\\right) \\left(e^{1.0 i \\theta}\\right)^{6.0} + \\left(\\frac{7 H a^{9}{\\left(t \\right)} e^{- i \\alpha}}{4 \\pi} - \\frac{7 H^{*} a^{5}{\\left(t \\right)} e^{i \\alpha}}{4 \\pi} + \\frac{7 i \\omega a^{7}{\\left(t \\right)}}{2 \\pi} + \\frac{7 a^{6}{\\left(t \\right)} \\frac{d}{d t} a{\\left(t \\right)}}{2 \\pi}\\right) \\left(e^{1.0 i \\theta}\\right)^{7.0} + \\left(\\frac{2 H a^{10}{\\left(t \\right)} e^{- i \\alpha}}{\\pi} - \\frac{2 H^{*} a^{6}{\\left(t \\right)} e^{i \\alpha}}{\\pi} + \\frac{4 i \\omega a^{8}{\\left(t \\right)}}{\\pi} + \\frac{4 a^{7}{\\left(t \\right)} \\frac{d}{d t} a{\\left(t \\right)}}{\\pi}\\right) \\left(e^{1.0 i \\theta}\\right)^{8.0} + \\frac{- \\frac{3 H a^{*}{\\left(t \\right)} e^{- i \\alpha}}{4 \\pi} + \\frac{3 H^{*} \\left(a^{*}\\right)^{5}{\\left(t \\right)} e^{i \\alpha}}{4 \\pi} - \\frac{3 i \\omega \\left(a^{*}\\right)^{3}{\\left(t \\right)}}{2 \\pi} + \\frac{3 \\left(a^{*}\\right)^{2}{\\left(t \\right)} \\frac{d}{d t} a^{*}{\\left(t \\right)}}{2 \\pi}}{\\left(e^{1.0 i \\theta}\\right)^{3.0}} + \\frac{- \\frac{H \\left(a^{*}\\right)^{2}{\\left(t \\right)} e^{- i \\alpha}}{\\pi} + \\frac{H^{*} \\left(a^{*}\\right)^{6}{\\left(t \\right)} e^{i \\alpha}}{\\pi} - \\frac{2 i \\omega \\left(a^{*}\\right)^{4}{\\left(t \\right)}}{\\pi} + \\frac{2 \\left(a^{*}\\right)^{3}{\\left(t \\right)} \\frac{d}{d t} a^{*}{\\left(t \\right)}}{\\pi}}{\\left(e^{1.0 i \\theta}\\right)^{4.0}} + \\frac{- \\frac{5 H \\left(a^{*}\\right)^{3}{\\left(t \\right)} e^{- i \\alpha}}{4 \\pi} + \\frac{5 H^{*} \\left(a^{*}\\right)^{7}{\\left(t \\right)} e^{i \\alpha}}{4 \\pi} - \\frac{5 i \\omega \\left(a^{*}\\right)^{5}{\\left(t \\right)}}{2 \\pi} + \\frac{5 \\left(a^{*}\\right)^{4}{\\left(t \\right)} \\frac{d}{d t} a^{*}{\\left(t \\right)}}{2 \\pi}}{\\left(e^{1.0 i \\theta}\\right)^{5.0}} + \\frac{- \\frac{3 H \\left(a^{*}\\right)^{4}{\\left(t \\right)} e^{- i \\alpha}}{2 \\pi} + \\frac{3 H^{*} \\left(a^{*}\\right)^{8}{\\left(t \\right)} e^{i \\alpha}}{2 \\pi} - \\frac{3 i \\omega \\left(a^{*}\\right)^{6}{\\left(t \\right)}}{\\pi} + \\frac{3 \\left(a^{*}\\right)^{5}{\\left(t \\right)} \\frac{d}{d t} a^{*}{\\left(t \\right)}}{\\pi}}{\\left(e^{1.0 i \\theta}\\right)^{6.0}} + \\frac{- \\frac{7 H \\left(a^{*}\\right)^{5}{\\left(t \\right)} e^{- i \\alpha}}{4 \\pi} + \\frac{7 H^{*} \\left(a^{*}\\right)^{9}{\\left(t \\right)} e^{i \\alpha}}{4 \\pi} - \\frac{7 i \\omega \\left(a^{*}\\right)^{7}{\\left(t \\right)}}{2 \\pi} + \\frac{7 \\left(a^{*}\\right)^{6}{\\left(t \\right)} \\frac{d}{d t} a^{*}{\\left(t \\right)}}{2 \\pi}}{\\left(e^{1.0 i \\theta}\\right)^{7.0}} + \\frac{- \\frac{2 H \\left(a^{*}\\right)^{6}{\\left(t \\right)} e^{- i \\alpha}}{\\pi} + \\frac{2 H^{*} \\left(a^{*}\\right)^{10}{\\left(t \\right)} e^{i \\alpha}}{\\pi} - \\frac{4 i \\omega \\left(a^{*}\\right)^{8}{\\left(t \\right)}}{\\pi} + \\frac{4 \\left(a^{*}\\right)^{7}{\\left(t \\right)} \\frac{d}{d t} a^{*}{\\left(t \\right)}}{\\pi}}{\\left(e^{1.0 i \\theta}\\right)^{8.0}}$"
      ],
      "text/plain": [
       "-3*H*a^*(t)**10*exp(-I*alpha)/(pi*exp(1.0*I*theta)**12.0) - 11*H*a^*(t)**9*exp(-I*alpha)/(4*pi*exp(1.0*I*theta)**11.0) - 3*H^**a(t)**10*exp(I*alpha)*exp(1.0*I*theta)**12.0/pi - 11*H^**a(t)**9*exp(I*alpha)*exp(1.0*I*theta)**11.0/(4*pi) + (-9*H*a^*(t)**7*exp(-I*alpha)/(4*pi) - 9*I*omega*a^*(t)**9/(2*pi) + 9*a^*(t)**8*Derivative(a^*(t), t)/(2*pi))/exp(1.0*I*theta)**9.0 + (-5*H*a^*(t)**8*exp(-I*alpha)/(2*pi) - 5*I*omega*a^*(t)**10/pi + 5*a^*(t)**9*Derivative(a^*(t), t)/pi)/exp(1.0*I*theta)**10.0 + (-9*H^**a(t)**7*exp(I*alpha)/(4*pi) + 9*I*omega*a(t)**9/(2*pi) + 9*a(t)**8*Derivative(a(t), t)/(2*pi))*exp(1.0*I*theta)**9.0 + (-5*H^**a(t)**8*exp(I*alpha)/(2*pi) + 5*I*omega*a(t)**10/pi + 5*a(t)**9*Derivative(a(t), t)/pi)*exp(1.0*I*theta)**10.0 + (-H*exp(-I*alpha)/(2*pi) + H^**a^*(t)**4*exp(I*alpha)/(2*pi) - I*omega*a^*(t)**2/pi + a^*(t)*Derivative(a^*(t), t)/pi)/exp(1.0*I*theta)**2.0 + (-H*a(t)*exp(-I*alpha)/(4*pi) + H^**a^*(t)**3*exp(I*alpha)/(4*pi) - I*omega*a^*(t)/(2*pi) + Derivative(a^*(t), t)/(2*pi))/exp(1.0*I*theta)**1.0 + (H*a(t)**3*exp(-I*alpha)/(4*pi) - H^**a^*(t)*exp(I*alpha)/(4*pi) + I*omega*a(t)/(2*pi) + Derivative(a(t), t)/(2*pi))*exp(1.0*I*theta)**1.0 + (H*a(t)**4*exp(-I*alpha)/(2*pi) - H^**exp(I*alpha)/(2*pi) + I*omega*a(t)**2/pi + a(t)*Derivative(a(t), t)/pi)*exp(1.0*I*theta)**2.0 + (3*H*a(t)**5*exp(-I*alpha)/(4*pi) - 3*H^**a(t)*exp(I*alpha)/(4*pi) + 3*I*omega*a(t)**3/(2*pi) + 3*a(t)**2*Derivative(a(t), t)/(2*pi))*exp(1.0*I*theta)**3.0 + (H*a(t)**6*exp(-I*alpha)/pi - H^**a(t)**2*exp(I*alpha)/pi + 2*I*omega*a(t)**4/pi + 2*a(t)**3*Derivative(a(t), t)/pi)*exp(1.0*I*theta)**4.0 + (5*H*a(t)**7*exp(-I*alpha)/(4*pi) - 5*H^**a(t)**3*exp(I*alpha)/(4*pi) + 5*I*omega*a(t)**5/(2*pi) + 5*a(t)**4*Derivative(a(t), t)/(2*pi))*exp(1.0*I*theta)**5.0 + (3*H*a(t)**8*exp(-I*alpha)/(2*pi) - 3*H^**a(t)**4*exp(I*alpha)/(2*pi) + 3*I*omega*a(t)**6/pi + 3*a(t)**5*Derivative(a(t), t)/pi)*exp(1.0*I*theta)**6.0 + (7*H*a(t)**9*exp(-I*alpha)/(4*pi) - 7*H^**a(t)**5*exp(I*alpha)/(4*pi) + 7*I*omega*a(t)**7/(2*pi) + 7*a(t)**6*Derivative(a(t), t)/(2*pi))*exp(1.0*I*theta)**7.0 + (2*H*a(t)**10*exp(-I*alpha)/pi - 2*H^**a(t)**6*exp(I*alpha)/pi + 4*I*omega*a(t)**8/pi + 4*a(t)**7*Derivative(a(t), t)/pi)*exp(1.0*I*theta)**8.0 + (-3*H*a^*(t)*exp(-I*alpha)/(4*pi) + 3*H^**a^*(t)**5*exp(I*alpha)/(4*pi) - 3*I*omega*a^*(t)**3/(2*pi) + 3*a^*(t)**2*Derivative(a^*(t), t)/(2*pi))/exp(1.0*I*theta)**3.0 + (-H*a^*(t)**2*exp(-I*alpha)/pi + H^**a^*(t)**6*exp(I*alpha)/pi - 2*I*omega*a^*(t)**4/pi + 2*a^*(t)**3*Derivative(a^*(t), t)/pi)/exp(1.0*I*theta)**4.0 + (-5*H*a^*(t)**3*exp(-I*alpha)/(4*pi) + 5*H^**a^*(t)**7*exp(I*alpha)/(4*pi) - 5*I*omega*a^*(t)**5/(2*pi) + 5*a^*(t)**4*Derivative(a^*(t), t)/(2*pi))/exp(1.0*I*theta)**5.0 + (-3*H*a^*(t)**4*exp(-I*alpha)/(2*pi) + 3*H^**a^*(t)**8*exp(I*alpha)/(2*pi) - 3*I*omega*a^*(t)**6/pi + 3*a^*(t)**5*Derivative(a^*(t), t)/pi)/exp(1.0*I*theta)**6.0 + (-7*H*a^*(t)**5*exp(-I*alpha)/(4*pi) + 7*H^**a^*(t)**9*exp(I*alpha)/(4*pi) - 7*I*omega*a^*(t)**7/(2*pi) + 7*a^*(t)**6*Derivative(a^*(t), t)/(2*pi))/exp(1.0*I*theta)**7.0 + (-2*H*a^*(t)**6*exp(-I*alpha)/pi + 2*H^**a^*(t)**10*exp(I*alpha)/pi - 4*I*omega*a^*(t)**8/pi + 4*a^*(t)**7*Derivative(a^*(t), t)/pi)/exp(1.0*I*theta)**8.0"
      ]
     },
     "execution_count": 87,
     "metadata": {},
     "output_type": "execute_result"
    }
   ],
   "source": [
    "collect(together(f.diff(t)+(f*v).diff(theta)).expand(),E**(1j*theta))"
   ]
  },
  {
   "cell_type": "code",
   "execution_count": 81,
   "metadata": {},
   "outputs": [
    {
     "data": {
      "text/latex": [
       "$\\displaystyle \\frac{10 a^{9}{\\left(t \\right)} e^{10 i \\theta} \\frac{d}{d t} a{\\left(t \\right)} + 9 a^{8}{\\left(t \\right)} e^{9 i \\theta} \\frac{d}{d t} a{\\left(t \\right)} + 8 a^{7}{\\left(t \\right)} e^{8 i \\theta} \\frac{d}{d t} a{\\left(t \\right)} + 7 a^{6}{\\left(t \\right)} e^{7 i \\theta} \\frac{d}{d t} a{\\left(t \\right)} + 6 a^{5}{\\left(t \\right)} e^{6 i \\theta} \\frac{d}{d t} a{\\left(t \\right)} + 5 a^{4}{\\left(t \\right)} e^{5 i \\theta} \\frac{d}{d t} a{\\left(t \\right)} + 4 a^{3}{\\left(t \\right)} e^{4 i \\theta} \\frac{d}{d t} a{\\left(t \\right)} + 3 a^{2}{\\left(t \\right)} e^{3 i \\theta} \\frac{d}{d t} a{\\left(t \\right)} + 2 a{\\left(t \\right)} e^{2 i \\theta} \\frac{d}{d t} a{\\left(t \\right)} + 10 \\left(a^{*}\\right)^{9}{\\left(t \\right)} e^{- 10 i \\theta} \\frac{d}{d t} a^{*}{\\left(t \\right)} + 9 \\left(a^{*}\\right)^{8}{\\left(t \\right)} e^{- 9 i \\theta} \\frac{d}{d t} a^{*}{\\left(t \\right)} + 8 \\left(a^{*}\\right)^{7}{\\left(t \\right)} e^{- 8 i \\theta} \\frac{d}{d t} a^{*}{\\left(t \\right)} + 7 \\left(a^{*}\\right)^{6}{\\left(t \\right)} e^{- 7 i \\theta} \\frac{d}{d t} a^{*}{\\left(t \\right)} + 6 \\left(a^{*}\\right)^{5}{\\left(t \\right)} e^{- 6 i \\theta} \\frac{d}{d t} a^{*}{\\left(t \\right)} + 5 \\left(a^{*}\\right)^{4}{\\left(t \\right)} e^{- 5 i \\theta} \\frac{d}{d t} a^{*}{\\left(t \\right)} + 4 \\left(a^{*}\\right)^{3}{\\left(t \\right)} e^{- 4 i \\theta} \\frac{d}{d t} a^{*}{\\left(t \\right)} + 3 \\left(a^{*}\\right)^{2}{\\left(t \\right)} e^{- 3 i \\theta} \\frac{d}{d t} a^{*}{\\left(t \\right)} + 2 a^{*}{\\left(t \\right)} e^{- 2 i \\theta} \\frac{d}{d t} a^{*}{\\left(t \\right)} + e^{i \\theta} \\frac{d}{d t} a{\\left(t \\right)} + e^{- i \\theta} \\frac{d}{d t} a^{*}{\\left(t \\right)}}{2 \\pi}$"
      ],
      "text/plain": [
       "(10*a(t)**9*exp(10*I*theta)*Derivative(a(t), t) + 9*a(t)**8*exp(9*I*theta)*Derivative(a(t), t) + 8*a(t)**7*exp(8*I*theta)*Derivative(a(t), t) + 7*a(t)**6*exp(7*I*theta)*Derivative(a(t), t) + 6*a(t)**5*exp(6*I*theta)*Derivative(a(t), t) + 5*a(t)**4*exp(5*I*theta)*Derivative(a(t), t) + 4*a(t)**3*exp(4*I*theta)*Derivative(a(t), t) + 3*a(t)**2*exp(3*I*theta)*Derivative(a(t), t) + 2*a(t)*exp(2*I*theta)*Derivative(a(t), t) + 10*a^*(t)**9*exp(-10*I*theta)*Derivative(a^*(t), t) + 9*a^*(t)**8*exp(-9*I*theta)*Derivative(a^*(t), t) + 8*a^*(t)**7*exp(-8*I*theta)*Derivative(a^*(t), t) + 7*a^*(t)**6*exp(-7*I*theta)*Derivative(a^*(t), t) + 6*a^*(t)**5*exp(-6*I*theta)*Derivative(a^*(t), t) + 5*a^*(t)**4*exp(-5*I*theta)*Derivative(a^*(t), t) + 4*a^*(t)**3*exp(-4*I*theta)*Derivative(a^*(t), t) + 3*a^*(t)**2*exp(-3*I*theta)*Derivative(a^*(t), t) + 2*a^*(t)*exp(-2*I*theta)*Derivative(a^*(t), t) + exp(I*theta)*Derivative(a(t), t) + exp(-I*theta)*Derivative(a^*(t), t))/(2*pi)"
      ]
     },
     "execution_count": 81,
     "metadata": {},
     "output_type": "execute_result"
    }
   ],
   "source": [
    "dfdt = f.diff(t)\n",
    "dfdt"
   ]
  },
  {
   "cell_type": "code",
   "execution_count": null,
   "metadata": {},
   "outputs": [],
   "source": [
    "a"
   ]
  },
  {
   "cell_type": "code",
   "execution_count": null,
   "metadata": {},
   "outputs": [],
   "source": []
  }
 ],
 "metadata": {
  "kernelspec": {
   "display_name": "Python 3",
   "language": "python",
   "name": "python3"
  },
  "language_info": {
   "codemirror_mode": {
    "name": "ipython",
    "version": 3
   },
   "file_extension": ".py",
   "mimetype": "text/x-python",
   "name": "python",
   "nbconvert_exporter": "python",
   "pygments_lexer": "ipython3",
   "version": "3.11.1"
  }
 },
 "nbformat": 4,
 "nbformat_minor": 2
}
