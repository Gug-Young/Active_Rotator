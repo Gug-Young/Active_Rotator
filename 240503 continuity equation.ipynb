{
 "cells": [
  {
   "cell_type": "code",
   "execution_count": 1,
   "metadata": {},
   "outputs": [],
   "source": [
    "from sympy import *"
   ]
  },
  {
   "cell_type": "code",
   "execution_count": null,
   "metadata": {},
   "outputs": [],
   "source": []
  },
  {
   "cell_type": "code",
   "execution_count": 139,
   "metadata": {},
   "outputs": [],
   "source": [
    "H,Hs = symbols('H H^*',complex=True)\n",
    "theta,t,alpha,n,omega = symbols('theta t alpha n omega')\n",
    "a = Function('a')('t')\n",
    "a_s = Function('a^*')('t')\n",
    "b = Function('b')('t')\n",
    "b_s = Function('b^*')('t')\n",
    "A = Sum((a*E**(I*theta))**n,(n,1,6)).doit()\n",
    "As = Sum((a_s*E**(-I*theta))**n,(n,1,6)).doit()\n",
    "B = Sum((b*E**(I*theta))**n,(n,1,6)).doit()\n",
    "Bs = Sum((b_s*E**(-I*theta))**n,(n,1,6)).doit()\n",
    "f = 1/(2*pi) * (1+A+As+B+Bs)\n",
    "v = omega + 1/(2*I) * (H*E**(-I*(2*theta+alpha))-Hs*E**(I*(2*theta+alpha)))"
   ]
  },
  {
   "cell_type": "code",
   "execution_count": 140,
   "metadata": {},
   "outputs": [
    {
     "data": {
      "text/latex": [
       "$\\displaystyle \\frac{6 a^{5}{\\left(t \\right)} e^{6 i \\theta} \\frac{d}{d t} a{\\left(t \\right)} + 5 a^{4}{\\left(t \\right)} e^{5 i \\theta} \\frac{d}{d t} a{\\left(t \\right)} + 4 a^{3}{\\left(t \\right)} e^{4 i \\theta} \\frac{d}{d t} a{\\left(t \\right)} + 3 a^{2}{\\left(t \\right)} e^{3 i \\theta} \\frac{d}{d t} a{\\left(t \\right)} + 2 a{\\left(t \\right)} e^{2 i \\theta} \\frac{d}{d t} a{\\left(t \\right)} + 6 \\left(a^{*}\\right)^{5}{\\left(t \\right)} e^{- 6 i \\theta} \\frac{d}{d t} a^{*}{\\left(t \\right)} + 5 \\left(a^{*}\\right)^{4}{\\left(t \\right)} e^{- 5 i \\theta} \\frac{d}{d t} a^{*}{\\left(t \\right)} + 4 \\left(a^{*}\\right)^{3}{\\left(t \\right)} e^{- 4 i \\theta} \\frac{d}{d t} a^{*}{\\left(t \\right)} + 3 \\left(a^{*}\\right)^{2}{\\left(t \\right)} e^{- 3 i \\theta} \\frac{d}{d t} a^{*}{\\left(t \\right)} + 2 a^{*}{\\left(t \\right)} e^{- 2 i \\theta} \\frac{d}{d t} a^{*}{\\left(t \\right)} + 6 b^{5}{\\left(t \\right)} e^{6 i \\theta} \\frac{d}{d t} b{\\left(t \\right)} + 5 b^{4}{\\left(t \\right)} e^{5 i \\theta} \\frac{d}{d t} b{\\left(t \\right)} + 4 b^{3}{\\left(t \\right)} e^{4 i \\theta} \\frac{d}{d t} b{\\left(t \\right)} + 3 b^{2}{\\left(t \\right)} e^{3 i \\theta} \\frac{d}{d t} b{\\left(t \\right)} + 2 b{\\left(t \\right)} e^{2 i \\theta} \\frac{d}{d t} b{\\left(t \\right)} + 6 \\left(b^{*}\\right)^{5}{\\left(t \\right)} e^{- 6 i \\theta} \\frac{d}{d t} b^{*}{\\left(t \\right)} + 5 \\left(b^{*}\\right)^{4}{\\left(t \\right)} e^{- 5 i \\theta} \\frac{d}{d t} b^{*}{\\left(t \\right)} + 4 \\left(b^{*}\\right)^{3}{\\left(t \\right)} e^{- 4 i \\theta} \\frac{d}{d t} b^{*}{\\left(t \\right)} + 3 \\left(b^{*}\\right)^{2}{\\left(t \\right)} e^{- 3 i \\theta} \\frac{d}{d t} b^{*}{\\left(t \\right)} + 2 b^{*}{\\left(t \\right)} e^{- 2 i \\theta} \\frac{d}{d t} b^{*}{\\left(t \\right)} + e^{i \\theta} \\frac{d}{d t} a{\\left(t \\right)} + e^{i \\theta} \\frac{d}{d t} b{\\left(t \\right)} + e^{- i \\theta} \\frac{d}{d t} a^{*}{\\left(t \\right)} + e^{- i \\theta} \\frac{d}{d t} b^{*}{\\left(t \\right)}}{2 \\pi}$"
      ],
      "text/plain": [
       "(6*a(t)**5*exp(6*I*theta)*Derivative(a(t), t) + 5*a(t)**4*exp(5*I*theta)*Derivative(a(t), t) + 4*a(t)**3*exp(4*I*theta)*Derivative(a(t), t) + 3*a(t)**2*exp(3*I*theta)*Derivative(a(t), t) + 2*a(t)*exp(2*I*theta)*Derivative(a(t), t) + 6*a^*(t)**5*exp(-6*I*theta)*Derivative(a^*(t), t) + 5*a^*(t)**4*exp(-5*I*theta)*Derivative(a^*(t), t) + 4*a^*(t)**3*exp(-4*I*theta)*Derivative(a^*(t), t) + 3*a^*(t)**2*exp(-3*I*theta)*Derivative(a^*(t), t) + 2*a^*(t)*exp(-2*I*theta)*Derivative(a^*(t), t) + 6*b(t)**5*exp(6*I*theta)*Derivative(b(t), t) + 5*b(t)**4*exp(5*I*theta)*Derivative(b(t), t) + 4*b(t)**3*exp(4*I*theta)*Derivative(b(t), t) + 3*b(t)**2*exp(3*I*theta)*Derivative(b(t), t) + 2*b(t)*exp(2*I*theta)*Derivative(b(t), t) + 6*b^*(t)**5*exp(-6*I*theta)*Derivative(b^*(t), t) + 5*b^*(t)**4*exp(-5*I*theta)*Derivative(b^*(t), t) + 4*b^*(t)**3*exp(-4*I*theta)*Derivative(b^*(t), t) + 3*b^*(t)**2*exp(-3*I*theta)*Derivative(b^*(t), t) + 2*b^*(t)*exp(-2*I*theta)*Derivative(b^*(t), t) + exp(I*theta)*Derivative(a(t), t) + exp(I*theta)*Derivative(b(t), t) + exp(-I*theta)*Derivative(a^*(t), t) + exp(-I*theta)*Derivative(b^*(t), t))/(2*pi)"
      ]
     },
     "execution_count": 140,
     "metadata": {},
     "output_type": "execute_result"
    }
   ],
   "source": [
    "f.diff(t)"
   ]
  },
  {
   "cell_type": "code",
   "execution_count": 142,
   "metadata": {},
   "outputs": [],
   "source": [
    "col_ = collect(together(f.diff(t)+(f*v).diff(theta)).expand(),E**(1j*theta))"
   ]
  },
  {
   "cell_type": "code",
   "execution_count": 152,
   "metadata": {},
   "outputs": [
    {
     "data": {
      "text/latex": [
       "$\\displaystyle \\frac{- \\frac{7 H \\left(a^{*}\\right)^{5}{\\left(t \\right)} e^{- i \\alpha}}{4 \\pi} - \\frac{7 H \\left(b^{*}\\right)^{5}{\\left(t \\right)} e^{- i \\alpha}}{4 \\pi}}{\\left(e^{1.0 i \\theta}\\right)^{7.0}} + \\frac{- \\frac{2 H \\left(a^{*}\\right)^{6}{\\left(t \\right)} e^{- i \\alpha}}{\\pi} - \\frac{2 H \\left(b^{*}\\right)^{6}{\\left(t \\right)} e^{- i \\alpha}}{\\pi}}{\\left(e^{1.0 i \\theta}\\right)^{8.0}} + \\left(- \\frac{7 H^{*} a^{5}{\\left(t \\right)} e^{i \\alpha}}{4 \\pi} - \\frac{7 H^{*} b^{5}{\\left(t \\right)} e^{i \\alpha}}{4 \\pi}\\right) \\left(e^{1.0 i \\theta}\\right)^{7.0} + \\left(- \\frac{2 H^{*} a^{6}{\\left(t \\right)} e^{i \\alpha}}{\\pi} - \\frac{2 H^{*} b^{6}{\\left(t \\right)} e^{i \\alpha}}{\\pi}\\right) \\left(e^{1.0 i \\theta}\\right)^{8.0} + \\frac{- \\frac{5 H \\left(a^{*}\\right)^{3}{\\left(t \\right)} e^{- i \\alpha}}{4 \\pi} - \\frac{5 H \\left(b^{*}\\right)^{3}{\\left(t \\right)} e^{- i \\alpha}}{4 \\pi} - \\frac{5 i \\omega \\left(a^{*}\\right)^{5}{\\left(t \\right)}}{2 \\pi} - \\frac{5 i \\omega \\left(b^{*}\\right)^{5}{\\left(t \\right)}}{2 \\pi} + \\frac{5 \\left(a^{*}\\right)^{4}{\\left(t \\right)} \\frac{d}{d t} a^{*}{\\left(t \\right)}}{2 \\pi} + \\frac{5 \\left(b^{*}\\right)^{4}{\\left(t \\right)} \\frac{d}{d t} b^{*}{\\left(t \\right)}}{2 \\pi}}{\\left(e^{1.0 i \\theta}\\right)^{5.0}} + \\frac{- \\frac{3 H \\left(a^{*}\\right)^{4}{\\left(t \\right)} e^{- i \\alpha}}{2 \\pi} - \\frac{3 H \\left(b^{*}\\right)^{4}{\\left(t \\right)} e^{- i \\alpha}}{2 \\pi} - \\frac{3 i \\omega \\left(a^{*}\\right)^{6}{\\left(t \\right)}}{\\pi} - \\frac{3 i \\omega \\left(b^{*}\\right)^{6}{\\left(t \\right)}}{\\pi} + \\frac{3 \\left(a^{*}\\right)^{5}{\\left(t \\right)} \\frac{d}{d t} a^{*}{\\left(t \\right)}}{\\pi} + \\frac{3 \\left(b^{*}\\right)^{5}{\\left(t \\right)} \\frac{d}{d t} b^{*}{\\left(t \\right)}}{\\pi}}{\\left(e^{1.0 i \\theta}\\right)^{6.0}} + \\left(- \\frac{5 H^{*} a^{3}{\\left(t \\right)} e^{i \\alpha}}{4 \\pi} - \\frac{5 H^{*} b^{3}{\\left(t \\right)} e^{i \\alpha}}{4 \\pi} + \\frac{5 i \\omega a^{5}{\\left(t \\right)}}{2 \\pi} + \\frac{5 i \\omega b^{5}{\\left(t \\right)}}{2 \\pi} + \\frac{5 a^{4}{\\left(t \\right)} \\frac{d}{d t} a{\\left(t \\right)}}{2 \\pi} + \\frac{5 b^{4}{\\left(t \\right)} \\frac{d}{d t} b{\\left(t \\right)}}{2 \\pi}\\right) \\left(e^{1.0 i \\theta}\\right)^{5.0} + \\left(- \\frac{3 H^{*} a^{4}{\\left(t \\right)} e^{i \\alpha}}{2 \\pi} - \\frac{3 H^{*} b^{4}{\\left(t \\right)} e^{i \\alpha}}{2 \\pi} + \\frac{3 i \\omega a^{6}{\\left(t \\right)}}{\\pi} + \\frac{3 i \\omega b^{6}{\\left(t \\right)}}{\\pi} + \\frac{3 a^{5}{\\left(t \\right)} \\frac{d}{d t} a{\\left(t \\right)}}{\\pi} + \\frac{3 b^{5}{\\left(t \\right)} \\frac{d}{d t} b{\\left(t \\right)}}{\\pi}\\right) \\left(e^{1.0 i \\theta}\\right)^{6.0} + \\frac{- \\frac{H e^{- i \\alpha}}{2 \\pi} + \\frac{H^{*} \\left(a^{*}\\right)^{4}{\\left(t \\right)} e^{i \\alpha}}{2 \\pi} + \\frac{H^{*} \\left(b^{*}\\right)^{4}{\\left(t \\right)} e^{i \\alpha}}{2 \\pi} - \\frac{i \\omega \\left(a^{*}\\right)^{2}{\\left(t \\right)}}{\\pi} - \\frac{i \\omega \\left(b^{*}\\right)^{2}{\\left(t \\right)}}{\\pi} + \\frac{a^{*}{\\left(t \\right)} \\frac{d}{d t} a^{*}{\\left(t \\right)}}{\\pi} + \\frac{b^{*}{\\left(t \\right)} \\frac{d}{d t} b^{*}{\\left(t \\right)}}{\\pi}}{\\left(e^{1.0 i \\theta}\\right)^{2.0}} + \\left(\\frac{H a^{4}{\\left(t \\right)} e^{- i \\alpha}}{2 \\pi} + \\frac{H b^{4}{\\left(t \\right)} e^{- i \\alpha}}{2 \\pi} - \\frac{H^{*} e^{i \\alpha}}{2 \\pi} + \\frac{i \\omega a^{2}{\\left(t \\right)}}{\\pi} + \\frac{i \\omega b^{2}{\\left(t \\right)}}{\\pi} + \\frac{a{\\left(t \\right)} \\frac{d}{d t} a{\\left(t \\right)}}{\\pi} + \\frac{b{\\left(t \\right)} \\frac{d}{d t} b{\\left(t \\right)}}{\\pi}\\right) \\left(e^{1.0 i \\theta}\\right)^{2.0} + \\frac{- \\frac{H a{\\left(t \\right)} e^{- i \\alpha}}{4 \\pi} - \\frac{H b{\\left(t \\right)} e^{- i \\alpha}}{4 \\pi} + \\frac{H^{*} \\left(a^{*}\\right)^{3}{\\left(t \\right)} e^{i \\alpha}}{4 \\pi} + \\frac{H^{*} \\left(b^{*}\\right)^{3}{\\left(t \\right)} e^{i \\alpha}}{4 \\pi} - \\frac{i \\omega a^{*}{\\left(t \\right)}}{2 \\pi} - \\frac{i \\omega b^{*}{\\left(t \\right)}}{2 \\pi} + \\frac{\\frac{d}{d t} a^{*}{\\left(t \\right)}}{2 \\pi} + \\frac{\\frac{d}{d t} b^{*}{\\left(t \\right)}}{2 \\pi}}{\\left(e^{1.0 i \\theta}\\right)^{1.0}} + \\left(\\frac{H a^{3}{\\left(t \\right)} e^{- i \\alpha}}{4 \\pi} + \\frac{H b^{3}{\\left(t \\right)} e^{- i \\alpha}}{4 \\pi} - \\frac{H^{*} a^{*}{\\left(t \\right)} e^{i \\alpha}}{4 \\pi} - \\frac{H^{*} b^{*}{\\left(t \\right)} e^{i \\alpha}}{4 \\pi} + \\frac{i \\omega a{\\left(t \\right)}}{2 \\pi} + \\frac{i \\omega b{\\left(t \\right)}}{2 \\pi} + \\frac{\\frac{d}{d t} a{\\left(t \\right)}}{2 \\pi} + \\frac{\\frac{d}{d t} b{\\left(t \\right)}}{2 \\pi}\\right) \\left(e^{1.0 i \\theta}\\right)^{1.0} + \\left(\\frac{3 H a^{5}{\\left(t \\right)} e^{- i \\alpha}}{4 \\pi} + \\frac{3 H b^{5}{\\left(t \\right)} e^{- i \\alpha}}{4 \\pi} - \\frac{3 H^{*} a{\\left(t \\right)} e^{i \\alpha}}{4 \\pi} - \\frac{3 H^{*} b{\\left(t \\right)} e^{i \\alpha}}{4 \\pi} + \\frac{3 i \\omega a^{3}{\\left(t \\right)}}{2 \\pi} + \\frac{3 i \\omega b^{3}{\\left(t \\right)}}{2 \\pi} + \\frac{3 a^{2}{\\left(t \\right)} \\frac{d}{d t} a{\\left(t \\right)}}{2 \\pi} + \\frac{3 b^{2}{\\left(t \\right)} \\frac{d}{d t} b{\\left(t \\right)}}{2 \\pi}\\right) \\left(e^{1.0 i \\theta}\\right)^{3.0} + \\left(\\frac{H a^{6}{\\left(t \\right)} e^{- i \\alpha}}{\\pi} + \\frac{H b^{6}{\\left(t \\right)} e^{- i \\alpha}}{\\pi} - \\frac{H^{*} a^{2}{\\left(t \\right)} e^{i \\alpha}}{\\pi} - \\frac{H^{*} b^{2}{\\left(t \\right)} e^{i \\alpha}}{\\pi} + \\frac{2 i \\omega a^{4}{\\left(t \\right)}}{\\pi} + \\frac{2 i \\omega b^{4}{\\left(t \\right)}}{\\pi} + \\frac{2 a^{3}{\\left(t \\right)} \\frac{d}{d t} a{\\left(t \\right)}}{\\pi} + \\frac{2 b^{3}{\\left(t \\right)} \\frac{d}{d t} b{\\left(t \\right)}}{\\pi}\\right) \\left(e^{1.0 i \\theta}\\right)^{4.0} + \\frac{- \\frac{3 H a^{*}{\\left(t \\right)} e^{- i \\alpha}}{4 \\pi} - \\frac{3 H b^{*}{\\left(t \\right)} e^{- i \\alpha}}{4 \\pi} + \\frac{3 H^{*} \\left(a^{*}\\right)^{5}{\\left(t \\right)} e^{i \\alpha}}{4 \\pi} + \\frac{3 H^{*} \\left(b^{*}\\right)^{5}{\\left(t \\right)} e^{i \\alpha}}{4 \\pi} - \\frac{3 i \\omega \\left(a^{*}\\right)^{3}{\\left(t \\right)}}{2 \\pi} - \\frac{3 i \\omega \\left(b^{*}\\right)^{3}{\\left(t \\right)}}{2 \\pi} + \\frac{3 \\left(a^{*}\\right)^{2}{\\left(t \\right)} \\frac{d}{d t} a^{*}{\\left(t \\right)}}{2 \\pi} + \\frac{3 \\left(b^{*}\\right)^{2}{\\left(t \\right)} \\frac{d}{d t} b^{*}{\\left(t \\right)}}{2 \\pi}}{\\left(e^{1.0 i \\theta}\\right)^{3.0}} + \\frac{- \\frac{H \\left(a^{*}\\right)^{2}{\\left(t \\right)} e^{- i \\alpha}}{\\pi} - \\frac{H \\left(b^{*}\\right)^{2}{\\left(t \\right)} e^{- i \\alpha}}{\\pi} + \\frac{H^{*} \\left(a^{*}\\right)^{6}{\\left(t \\right)} e^{i \\alpha}}{\\pi} + \\frac{H^{*} \\left(b^{*}\\right)^{6}{\\left(t \\right)} e^{i \\alpha}}{\\pi} - \\frac{2 i \\omega \\left(a^{*}\\right)^{4}{\\left(t \\right)}}{\\pi} - \\frac{2 i \\omega \\left(b^{*}\\right)^{4}{\\left(t \\right)}}{\\pi} + \\frac{2 \\left(a^{*}\\right)^{3}{\\left(t \\right)} \\frac{d}{d t} a^{*}{\\left(t \\right)}}{\\pi} + \\frac{2 \\left(b^{*}\\right)^{3}{\\left(t \\right)} \\frac{d}{d t} b^{*}{\\left(t \\right)}}{\\pi}}{\\left(e^{1.0 i \\theta}\\right)^{4.0}}$"
      ],
      "text/plain": [
       "(-7*H*a^*(t)**5*exp(-I*alpha)/(4*pi) - 7*H*b^*(t)**5*exp(-I*alpha)/(4*pi))/exp(1.0*I*theta)**7.0 + (-2*H*a^*(t)**6*exp(-I*alpha)/pi - 2*H*b^*(t)**6*exp(-I*alpha)/pi)/exp(1.0*I*theta)**8.0 + (-7*H^**a(t)**5*exp(I*alpha)/(4*pi) - 7*H^**b(t)**5*exp(I*alpha)/(4*pi))*exp(1.0*I*theta)**7.0 + (-2*H^**a(t)**6*exp(I*alpha)/pi - 2*H^**b(t)**6*exp(I*alpha)/pi)*exp(1.0*I*theta)**8.0 + (-5*H*a^*(t)**3*exp(-I*alpha)/(4*pi) - 5*H*b^*(t)**3*exp(-I*alpha)/(4*pi) - 5*I*omega*a^*(t)**5/(2*pi) - 5*I*omega*b^*(t)**5/(2*pi) + 5*a^*(t)**4*Derivative(a^*(t), t)/(2*pi) + 5*b^*(t)**4*Derivative(b^*(t), t)/(2*pi))/exp(1.0*I*theta)**5.0 + (-3*H*a^*(t)**4*exp(-I*alpha)/(2*pi) - 3*H*b^*(t)**4*exp(-I*alpha)/(2*pi) - 3*I*omega*a^*(t)**6/pi - 3*I*omega*b^*(t)**6/pi + 3*a^*(t)**5*Derivative(a^*(t), t)/pi + 3*b^*(t)**5*Derivative(b^*(t), t)/pi)/exp(1.0*I*theta)**6.0 + (-5*H^**a(t)**3*exp(I*alpha)/(4*pi) - 5*H^**b(t)**3*exp(I*alpha)/(4*pi) + 5*I*omega*a(t)**5/(2*pi) + 5*I*omega*b(t)**5/(2*pi) + 5*a(t)**4*Derivative(a(t), t)/(2*pi) + 5*b(t)**4*Derivative(b(t), t)/(2*pi))*exp(1.0*I*theta)**5.0 + (-3*H^**a(t)**4*exp(I*alpha)/(2*pi) - 3*H^**b(t)**4*exp(I*alpha)/(2*pi) + 3*I*omega*a(t)**6/pi + 3*I*omega*b(t)**6/pi + 3*a(t)**5*Derivative(a(t), t)/pi + 3*b(t)**5*Derivative(b(t), t)/pi)*exp(1.0*I*theta)**6.0 + (-H*exp(-I*alpha)/(2*pi) + H^**a^*(t)**4*exp(I*alpha)/(2*pi) + H^**b^*(t)**4*exp(I*alpha)/(2*pi) - I*omega*a^*(t)**2/pi - I*omega*b^*(t)**2/pi + a^*(t)*Derivative(a^*(t), t)/pi + b^*(t)*Derivative(b^*(t), t)/pi)/exp(1.0*I*theta)**2.0 + (H*a(t)**4*exp(-I*alpha)/(2*pi) + H*b(t)**4*exp(-I*alpha)/(2*pi) - H^**exp(I*alpha)/(2*pi) + I*omega*a(t)**2/pi + I*omega*b(t)**2/pi + a(t)*Derivative(a(t), t)/pi + b(t)*Derivative(b(t), t)/pi)*exp(1.0*I*theta)**2.0 + (-H*a(t)*exp(-I*alpha)/(4*pi) - H*b(t)*exp(-I*alpha)/(4*pi) + H^**a^*(t)**3*exp(I*alpha)/(4*pi) + H^**b^*(t)**3*exp(I*alpha)/(4*pi) - I*omega*a^*(t)/(2*pi) - I*omega*b^*(t)/(2*pi) + Derivative(a^*(t), t)/(2*pi) + Derivative(b^*(t), t)/(2*pi))/exp(1.0*I*theta)**1.0 + (H*a(t)**3*exp(-I*alpha)/(4*pi) + H*b(t)**3*exp(-I*alpha)/(4*pi) - H^**a^*(t)*exp(I*alpha)/(4*pi) - H^**b^*(t)*exp(I*alpha)/(4*pi) + I*omega*a(t)/(2*pi) + I*omega*b(t)/(2*pi) + Derivative(a(t), t)/(2*pi) + Derivative(b(t), t)/(2*pi))*exp(1.0*I*theta)**1.0 + (3*H*a(t)**5*exp(-I*alpha)/(4*pi) + 3*H*b(t)**5*exp(-I*alpha)/(4*pi) - 3*H^**a(t)*exp(I*alpha)/(4*pi) - 3*H^**b(t)*exp(I*alpha)/(4*pi) + 3*I*omega*a(t)**3/(2*pi) + 3*I*omega*b(t)**3/(2*pi) + 3*a(t)**2*Derivative(a(t), t)/(2*pi) + 3*b(t)**2*Derivative(b(t), t)/(2*pi))*exp(1.0*I*theta)**3.0 + (H*a(t)**6*exp(-I*alpha)/pi + H*b(t)**6*exp(-I*alpha)/pi - H^**a(t)**2*exp(I*alpha)/pi - H^**b(t)**2*exp(I*alpha)/pi + 2*I*omega*a(t)**4/pi + 2*I*omega*b(t)**4/pi + 2*a(t)**3*Derivative(a(t), t)/pi + 2*b(t)**3*Derivative(b(t), t)/pi)*exp(1.0*I*theta)**4.0 + (-3*H*a^*(t)*exp(-I*alpha)/(4*pi) - 3*H*b^*(t)*exp(-I*alpha)/(4*pi) + 3*H^**a^*(t)**5*exp(I*alpha)/(4*pi) + 3*H^**b^*(t)**5*exp(I*alpha)/(4*pi) - 3*I*omega*a^*(t)**3/(2*pi) - 3*I*omega*b^*(t)**3/(2*pi) + 3*a^*(t)**2*Derivative(a^*(t), t)/(2*pi) + 3*b^*(t)**2*Derivative(b^*(t), t)/(2*pi))/exp(1.0*I*theta)**3.0 + (-H*a^*(t)**2*exp(-I*alpha)/pi - H*b^*(t)**2*exp(-I*alpha)/pi + H^**a^*(t)**6*exp(I*alpha)/pi + H^**b^*(t)**6*exp(I*alpha)/pi - 2*I*omega*a^*(t)**4/pi - 2*I*omega*b^*(t)**4/pi + 2*a^*(t)**3*Derivative(a^*(t), t)/pi + 2*b^*(t)**3*Derivative(b^*(t), t)/pi)/exp(1.0*I*theta)**4.0"
      ]
     },
     "execution_count": 152,
     "metadata": {},
     "output_type": "execute_result"
    }
   ],
   "source": [
    "col_"
   ]
  },
  {
   "cell_type": "code",
   "execution_count": 151,
   "metadata": {},
   "outputs": [
    {
     "data": {
      "text/latex": [
       "$\\displaystyle \\frac{H a^{6}{\\left(t \\right)} e^{- i \\alpha} \\left(e^{1.0 i \\theta}\\right)^{4.0}}{\\pi} + \\frac{3 H a^{5}{\\left(t \\right)} e^{- i \\alpha} \\left(e^{1.0 i \\theta}\\right)^{3.0}}{4 \\pi} + \\frac{H a^{4}{\\left(t \\right)} e^{- i \\alpha} \\left(e^{1.0 i \\theta}\\right)^{2.0}}{2 \\pi} + \\frac{H a^{3}{\\left(t \\right)} e^{- i \\alpha} \\left(e^{1.0 i \\theta}\\right)^{1.0}}{4 \\pi} - \\frac{H a{\\left(t \\right)} e^{- i \\alpha}}{4 \\pi \\left(e^{1.0 i \\theta}\\right)^{1.0}} - \\frac{2 H \\left(a^{*}\\right)^{6}{\\left(t \\right)} e^{- i \\alpha}}{\\pi \\left(e^{1.0 i \\theta}\\right)^{8.0}} - \\frac{7 H \\left(a^{*}\\right)^{5}{\\left(t \\right)} e^{- i \\alpha}}{4 \\pi \\left(e^{1.0 i \\theta}\\right)^{7.0}} - \\frac{3 H \\left(a^{*}\\right)^{4}{\\left(t \\right)} e^{- i \\alpha}}{2 \\pi \\left(e^{1.0 i \\theta}\\right)^{6.0}} - \\frac{5 H \\left(a^{*}\\right)^{3}{\\left(t \\right)} e^{- i \\alpha}}{4 \\pi \\left(e^{1.0 i \\theta}\\right)^{5.0}} - \\frac{H \\left(a^{*}\\right)^{2}{\\left(t \\right)} e^{- i \\alpha}}{\\pi \\left(e^{1.0 i \\theta}\\right)^{4.0}} - \\frac{3 H a^{*}{\\left(t \\right)} e^{- i \\alpha}}{4 \\pi \\left(e^{1.0 i \\theta}\\right)^{3.0}} + \\frac{H b^{6}{\\left(t \\right)} e^{- i \\alpha} \\left(e^{1.0 i \\theta}\\right)^{4.0}}{\\pi} + \\frac{3 H b^{5}{\\left(t \\right)} e^{- i \\alpha} \\left(e^{1.0 i \\theta}\\right)^{3.0}}{4 \\pi} + \\frac{H b^{4}{\\left(t \\right)} e^{- i \\alpha} \\left(e^{1.0 i \\theta}\\right)^{2.0}}{2 \\pi} + \\frac{H b^{3}{\\left(t \\right)} e^{- i \\alpha} \\left(e^{1.0 i \\theta}\\right)^{1.0}}{4 \\pi} - \\frac{H b{\\left(t \\right)} e^{- i \\alpha}}{4 \\pi \\left(e^{1.0 i \\theta}\\right)^{1.0}} - \\frac{2 H \\left(b^{*}\\right)^{6}{\\left(t \\right)} e^{- i \\alpha}}{\\pi \\left(e^{1.0 i \\theta}\\right)^{8.0}} - \\frac{7 H \\left(b^{*}\\right)^{5}{\\left(t \\right)} e^{- i \\alpha}}{4 \\pi \\left(e^{1.0 i \\theta}\\right)^{7.0}} - \\frac{3 H \\left(b^{*}\\right)^{4}{\\left(t \\right)} e^{- i \\alpha}}{2 \\pi \\left(e^{1.0 i \\theta}\\right)^{6.0}} - \\frac{5 H \\left(b^{*}\\right)^{3}{\\left(t \\right)} e^{- i \\alpha}}{4 \\pi \\left(e^{1.0 i \\theta}\\right)^{5.0}} - \\frac{H \\left(b^{*}\\right)^{2}{\\left(t \\right)} e^{- i \\alpha}}{\\pi \\left(e^{1.0 i \\theta}\\right)^{4.0}} - \\frac{3 H b^{*}{\\left(t \\right)} e^{- i \\alpha}}{4 \\pi \\left(e^{1.0 i \\theta}\\right)^{3.0}} - \\frac{H e^{- i \\alpha}}{2 \\pi \\left(e^{1.0 i \\theta}\\right)^{2.0}} - \\frac{2 H^{*} a^{6}{\\left(t \\right)} e^{i \\alpha} \\left(e^{1.0 i \\theta}\\right)^{8.0}}{\\pi} - \\frac{7 H^{*} a^{5}{\\left(t \\right)} e^{i \\alpha} \\left(e^{1.0 i \\theta}\\right)^{7.0}}{4 \\pi} - \\frac{3 H^{*} a^{4}{\\left(t \\right)} e^{i \\alpha} \\left(e^{1.0 i \\theta}\\right)^{6.0}}{2 \\pi} - \\frac{5 H^{*} a^{3}{\\left(t \\right)} e^{i \\alpha} \\left(e^{1.0 i \\theta}\\right)^{5.0}}{4 \\pi} - \\frac{H^{*} a^{2}{\\left(t \\right)} e^{i \\alpha} \\left(e^{1.0 i \\theta}\\right)^{4.0}}{\\pi} - \\frac{3 H^{*} a{\\left(t \\right)} e^{i \\alpha} \\left(e^{1.0 i \\theta}\\right)^{3.0}}{4 \\pi} + \\frac{H^{*} \\left(a^{*}\\right)^{6}{\\left(t \\right)} e^{i \\alpha}}{\\pi \\left(e^{1.0 i \\theta}\\right)^{4.0}} + \\frac{3 H^{*} \\left(a^{*}\\right)^{5}{\\left(t \\right)} e^{i \\alpha}}{4 \\pi \\left(e^{1.0 i \\theta}\\right)^{3.0}} + \\frac{H^{*} \\left(a^{*}\\right)^{4}{\\left(t \\right)} e^{i \\alpha}}{2 \\pi \\left(e^{1.0 i \\theta}\\right)^{2.0}} + \\frac{H^{*} \\left(a^{*}\\right)^{3}{\\left(t \\right)} e^{i \\alpha}}{4 \\pi \\left(e^{1.0 i \\theta}\\right)^{1.0}} - \\frac{H^{*} a^{*}{\\left(t \\right)} e^{i \\alpha} \\left(e^{1.0 i \\theta}\\right)^{1.0}}{4 \\pi} - \\frac{2 H^{*} b^{6}{\\left(t \\right)} e^{i \\alpha} \\left(e^{1.0 i \\theta}\\right)^{8.0}}{\\pi} - \\frac{7 H^{*} b^{5}{\\left(t \\right)} e^{i \\alpha} \\left(e^{1.0 i \\theta}\\right)^{7.0}}{4 \\pi} - \\frac{3 H^{*} b^{4}{\\left(t \\right)} e^{i \\alpha} \\left(e^{1.0 i \\theta}\\right)^{6.0}}{2 \\pi} - \\frac{5 H^{*} b^{3}{\\left(t \\right)} e^{i \\alpha} \\left(e^{1.0 i \\theta}\\right)^{5.0}}{4 \\pi} - \\frac{H^{*} b^{2}{\\left(t \\right)} e^{i \\alpha} \\left(e^{1.0 i \\theta}\\right)^{4.0}}{\\pi} - \\frac{3 H^{*} b{\\left(t \\right)} e^{i \\alpha} \\left(e^{1.0 i \\theta}\\right)^{3.0}}{4 \\pi} + \\frac{H^{*} \\left(b^{*}\\right)^{6}{\\left(t \\right)} e^{i \\alpha}}{\\pi \\left(e^{1.0 i \\theta}\\right)^{4.0}} + \\frac{3 H^{*} \\left(b^{*}\\right)^{5}{\\left(t \\right)} e^{i \\alpha}}{4 \\pi \\left(e^{1.0 i \\theta}\\right)^{3.0}} + \\frac{H^{*} \\left(b^{*}\\right)^{4}{\\left(t \\right)} e^{i \\alpha}}{2 \\pi \\left(e^{1.0 i \\theta}\\right)^{2.0}} + \\frac{H^{*} \\left(b^{*}\\right)^{3}{\\left(t \\right)} e^{i \\alpha}}{4 \\pi \\left(e^{1.0 i \\theta}\\right)^{1.0}} - \\frac{H^{*} b^{*}{\\left(t \\right)} e^{i \\alpha} \\left(e^{1.0 i \\theta}\\right)^{1.0}}{4 \\pi} - \\frac{H^{*} e^{i \\alpha} \\left(e^{1.0 i \\theta}\\right)^{2.0}}{2 \\pi} + \\frac{3 i \\omega a^{6}{\\left(t \\right)} \\left(e^{1.0 i \\theta}\\right)^{6.0}}{\\pi} + \\frac{5 i \\omega a^{5}{\\left(t \\right)} \\left(e^{1.0 i \\theta}\\right)^{5.0}}{2 \\pi} + \\frac{2 i \\omega a^{4}{\\left(t \\right)} \\left(e^{1.0 i \\theta}\\right)^{4.0}}{\\pi} + \\frac{3 i \\omega a^{3}{\\left(t \\right)} \\left(e^{1.0 i \\theta}\\right)^{3.0}}{2 \\pi} + \\frac{i \\omega a^{2}{\\left(t \\right)} \\left(e^{1.0 i \\theta}\\right)^{2.0}}{\\pi} + \\frac{i \\omega a{\\left(t \\right)} \\left(e^{1.0 i \\theta}\\right)^{1.0}}{2 \\pi} - \\frac{3 i \\omega \\left(a^{*}\\right)^{6}{\\left(t \\right)}}{\\pi \\left(e^{1.0 i \\theta}\\right)^{6.0}} - \\frac{5 i \\omega \\left(a^{*}\\right)^{5}{\\left(t \\right)}}{2 \\pi \\left(e^{1.0 i \\theta}\\right)^{5.0}} - \\frac{2 i \\omega \\left(a^{*}\\right)^{4}{\\left(t \\right)}}{\\pi \\left(e^{1.0 i \\theta}\\right)^{4.0}} - \\frac{3 i \\omega \\left(a^{*}\\right)^{3}{\\left(t \\right)}}{2 \\pi \\left(e^{1.0 i \\theta}\\right)^{3.0}} - \\frac{i \\omega \\left(a^{*}\\right)^{2}{\\left(t \\right)}}{\\pi \\left(e^{1.0 i \\theta}\\right)^{2.0}} - \\frac{i \\omega a^{*}{\\left(t \\right)}}{2 \\pi \\left(e^{1.0 i \\theta}\\right)^{1.0}} + \\frac{3 i \\omega b^{6}{\\left(t \\right)} \\left(e^{1.0 i \\theta}\\right)^{6.0}}{\\pi} + \\frac{5 i \\omega b^{5}{\\left(t \\right)} \\left(e^{1.0 i \\theta}\\right)^{5.0}}{2 \\pi} + \\frac{2 i \\omega b^{4}{\\left(t \\right)} \\left(e^{1.0 i \\theta}\\right)^{4.0}}{\\pi} + \\frac{3 i \\omega b^{3}{\\left(t \\right)} \\left(e^{1.0 i \\theta}\\right)^{3.0}}{2 \\pi} + \\frac{i \\omega b^{2}{\\left(t \\right)} \\left(e^{1.0 i \\theta}\\right)^{2.0}}{\\pi} + \\frac{i \\omega b{\\left(t \\right)} \\left(e^{1.0 i \\theta}\\right)^{1.0}}{2 \\pi} - \\frac{3 i \\omega \\left(b^{*}\\right)^{6}{\\left(t \\right)}}{\\pi \\left(e^{1.0 i \\theta}\\right)^{6.0}} - \\frac{5 i \\omega \\left(b^{*}\\right)^{5}{\\left(t \\right)}}{2 \\pi \\left(e^{1.0 i \\theta}\\right)^{5.0}} - \\frac{2 i \\omega \\left(b^{*}\\right)^{4}{\\left(t \\right)}}{\\pi \\left(e^{1.0 i \\theta}\\right)^{4.0}} - \\frac{3 i \\omega \\left(b^{*}\\right)^{3}{\\left(t \\right)}}{2 \\pi \\left(e^{1.0 i \\theta}\\right)^{3.0}} - \\frac{i \\omega \\left(b^{*}\\right)^{2}{\\left(t \\right)}}{\\pi \\left(e^{1.0 i \\theta}\\right)^{2.0}} - \\frac{i \\omega b^{*}{\\left(t \\right)}}{2 \\pi \\left(e^{1.0 i \\theta}\\right)^{1.0}} + \\frac{3 a^{5}{\\left(t \\right)} \\left(e^{1.0 i \\theta}\\right)^{6.0} \\frac{d}{d t} a{\\left(t \\right)}}{\\pi} + \\frac{5 a^{4}{\\left(t \\right)} \\left(e^{1.0 i \\theta}\\right)^{5.0} \\frac{d}{d t} a{\\left(t \\right)}}{2 \\pi} + \\frac{2 a^{3}{\\left(t \\right)} \\left(e^{1.0 i \\theta}\\right)^{4.0} \\frac{d}{d t} a{\\left(t \\right)}}{\\pi} + \\frac{3 a^{2}{\\left(t \\right)} \\left(e^{1.0 i \\theta}\\right)^{3.0} \\frac{d}{d t} a{\\left(t \\right)}}{2 \\pi} + \\frac{a{\\left(t \\right)} \\left(e^{1.0 i \\theta}\\right)^{2.0} \\frac{d}{d t} a{\\left(t \\right)}}{\\pi} + \\frac{3 \\left(a^{*}\\right)^{5}{\\left(t \\right)} \\frac{d}{d t} a^{*}{\\left(t \\right)}}{\\pi \\left(e^{1.0 i \\theta}\\right)^{6.0}} + \\frac{5 \\left(a^{*}\\right)^{4}{\\left(t \\right)} \\frac{d}{d t} a^{*}{\\left(t \\right)}}{2 \\pi \\left(e^{1.0 i \\theta}\\right)^{5.0}} + \\frac{2 \\left(a^{*}\\right)^{3}{\\left(t \\right)} \\frac{d}{d t} a^{*}{\\left(t \\right)}}{\\pi \\left(e^{1.0 i \\theta}\\right)^{4.0}} + \\frac{3 \\left(a^{*}\\right)^{2}{\\left(t \\right)} \\frac{d}{d t} a^{*}{\\left(t \\right)}}{2 \\pi \\left(e^{1.0 i \\theta}\\right)^{3.0}} + \\frac{a^{*}{\\left(t \\right)} \\frac{d}{d t} a^{*}{\\left(t \\right)}}{\\pi \\left(e^{1.0 i \\theta}\\right)^{2.0}} + \\frac{3 b^{5}{\\left(t \\right)} \\left(e^{1.0 i \\theta}\\right)^{6.0} \\frac{d}{d t} b{\\left(t \\right)}}{\\pi} + \\frac{5 b^{4}{\\left(t \\right)} \\left(e^{1.0 i \\theta}\\right)^{5.0} \\frac{d}{d t} b{\\left(t \\right)}}{2 \\pi} + \\frac{2 b^{3}{\\left(t \\right)} \\left(e^{1.0 i \\theta}\\right)^{4.0} \\frac{d}{d t} b{\\left(t \\right)}}{\\pi} + \\frac{3 b^{2}{\\left(t \\right)} \\left(e^{1.0 i \\theta}\\right)^{3.0} \\frac{d}{d t} b{\\left(t \\right)}}{2 \\pi} + \\frac{b{\\left(t \\right)} \\left(e^{1.0 i \\theta}\\right)^{2.0} \\frac{d}{d t} b{\\left(t \\right)}}{\\pi} + \\frac{3 \\left(b^{*}\\right)^{5}{\\left(t \\right)} \\frac{d}{d t} b^{*}{\\left(t \\right)}}{\\pi \\left(e^{1.0 i \\theta}\\right)^{6.0}} + \\frac{5 \\left(b^{*}\\right)^{4}{\\left(t \\right)} \\frac{d}{d t} b^{*}{\\left(t \\right)}}{2 \\pi \\left(e^{1.0 i \\theta}\\right)^{5.0}} + \\frac{2 \\left(b^{*}\\right)^{3}{\\left(t \\right)} \\frac{d}{d t} b^{*}{\\left(t \\right)}}{\\pi \\left(e^{1.0 i \\theta}\\right)^{4.0}} + \\frac{3 \\left(b^{*}\\right)^{2}{\\left(t \\right)} \\frac{d}{d t} b^{*}{\\left(t \\right)}}{2 \\pi \\left(e^{1.0 i \\theta}\\right)^{3.0}} + \\frac{b^{*}{\\left(t \\right)} \\frac{d}{d t} b^{*}{\\left(t \\right)}}{\\pi \\left(e^{1.0 i \\theta}\\right)^{2.0}} + \\frac{\\frac{d}{d t} a^{*}{\\left(t \\right)}}{2 \\pi \\left(e^{1.0 i \\theta}\\right)^{1.0}} + \\frac{\\frac{d}{d t} b^{*}{\\left(t \\right)}}{2 \\pi \\left(e^{1.0 i \\theta}\\right)^{1.0}} + \\frac{\\left(e^{1.0 i \\theta}\\right)^{1.0} \\frac{d}{d t} a{\\left(t \\right)}}{2 \\pi} + \\frac{\\left(e^{1.0 i \\theta}\\right)^{1.0} \\frac{d}{d t} b{\\left(t \\right)}}{2 \\pi}$"
      ],
      "text/plain": [
       "H*a(t)**6*exp(-I*alpha)*exp(1.0*I*theta)**4.0/pi + 3*H*a(t)**5*exp(-I*alpha)*exp(1.0*I*theta)**3.0/(4*pi) + H*a(t)**4*exp(-I*alpha)*exp(1.0*I*theta)**2.0/(2*pi) + H*a(t)**3*exp(-I*alpha)*exp(1.0*I*theta)**1.0/(4*pi) - H*a(t)*exp(-I*alpha)/(4*pi*exp(1.0*I*theta)**1.0) - 2*H*a^*(t)**6*exp(-I*alpha)/(pi*exp(1.0*I*theta)**8.0) - 7*H*a^*(t)**5*exp(-I*alpha)/(4*pi*exp(1.0*I*theta)**7.0) - 3*H*a^*(t)**4*exp(-I*alpha)/(2*pi*exp(1.0*I*theta)**6.0) - 5*H*a^*(t)**3*exp(-I*alpha)/(4*pi*exp(1.0*I*theta)**5.0) - H*a^*(t)**2*exp(-I*alpha)/(pi*exp(1.0*I*theta)**4.0) - 3*H*a^*(t)*exp(-I*alpha)/(4*pi*exp(1.0*I*theta)**3.0) + H*b(t)**6*exp(-I*alpha)*exp(1.0*I*theta)**4.0/pi + 3*H*b(t)**5*exp(-I*alpha)*exp(1.0*I*theta)**3.0/(4*pi) + H*b(t)**4*exp(-I*alpha)*exp(1.0*I*theta)**2.0/(2*pi) + H*b(t)**3*exp(-I*alpha)*exp(1.0*I*theta)**1.0/(4*pi) - H*b(t)*exp(-I*alpha)/(4*pi*exp(1.0*I*theta)**1.0) - 2*H*b^*(t)**6*exp(-I*alpha)/(pi*exp(1.0*I*theta)**8.0) - 7*H*b^*(t)**5*exp(-I*alpha)/(4*pi*exp(1.0*I*theta)**7.0) - 3*H*b^*(t)**4*exp(-I*alpha)/(2*pi*exp(1.0*I*theta)**6.0) - 5*H*b^*(t)**3*exp(-I*alpha)/(4*pi*exp(1.0*I*theta)**5.0) - H*b^*(t)**2*exp(-I*alpha)/(pi*exp(1.0*I*theta)**4.0) - 3*H*b^*(t)*exp(-I*alpha)/(4*pi*exp(1.0*I*theta)**3.0) - H*exp(-I*alpha)/(2*pi*exp(1.0*I*theta)**2.0) - 2*H^**a(t)**6*exp(I*alpha)*exp(1.0*I*theta)**8.0/pi - 7*H^**a(t)**5*exp(I*alpha)*exp(1.0*I*theta)**7.0/(4*pi) - 3*H^**a(t)**4*exp(I*alpha)*exp(1.0*I*theta)**6.0/(2*pi) - 5*H^**a(t)**3*exp(I*alpha)*exp(1.0*I*theta)**5.0/(4*pi) - H^**a(t)**2*exp(I*alpha)*exp(1.0*I*theta)**4.0/pi - 3*H^**a(t)*exp(I*alpha)*exp(1.0*I*theta)**3.0/(4*pi) + H^**a^*(t)**6*exp(I*alpha)/(pi*exp(1.0*I*theta)**4.0) + 3*H^**a^*(t)**5*exp(I*alpha)/(4*pi*exp(1.0*I*theta)**3.0) + H^**a^*(t)**4*exp(I*alpha)/(2*pi*exp(1.0*I*theta)**2.0) + H^**a^*(t)**3*exp(I*alpha)/(4*pi*exp(1.0*I*theta)**1.0) - H^**a^*(t)*exp(I*alpha)*exp(1.0*I*theta)**1.0/(4*pi) - 2*H^**b(t)**6*exp(I*alpha)*exp(1.0*I*theta)**8.0/pi - 7*H^**b(t)**5*exp(I*alpha)*exp(1.0*I*theta)**7.0/(4*pi) - 3*H^**b(t)**4*exp(I*alpha)*exp(1.0*I*theta)**6.0/(2*pi) - 5*H^**b(t)**3*exp(I*alpha)*exp(1.0*I*theta)**5.0/(4*pi) - H^**b(t)**2*exp(I*alpha)*exp(1.0*I*theta)**4.0/pi - 3*H^**b(t)*exp(I*alpha)*exp(1.0*I*theta)**3.0/(4*pi) + H^**b^*(t)**6*exp(I*alpha)/(pi*exp(1.0*I*theta)**4.0) + 3*H^**b^*(t)**5*exp(I*alpha)/(4*pi*exp(1.0*I*theta)**3.0) + H^**b^*(t)**4*exp(I*alpha)/(2*pi*exp(1.0*I*theta)**2.0) + H^**b^*(t)**3*exp(I*alpha)/(4*pi*exp(1.0*I*theta)**1.0) - H^**b^*(t)*exp(I*alpha)*exp(1.0*I*theta)**1.0/(4*pi) - H^**exp(I*alpha)*exp(1.0*I*theta)**2.0/(2*pi) + 3*I*omega*a(t)**6*exp(1.0*I*theta)**6.0/pi + 5*I*omega*a(t)**5*exp(1.0*I*theta)**5.0/(2*pi) + 2*I*omega*a(t)**4*exp(1.0*I*theta)**4.0/pi + 3*I*omega*a(t)**3*exp(1.0*I*theta)**3.0/(2*pi) + I*omega*a(t)**2*exp(1.0*I*theta)**2.0/pi + I*omega*a(t)*exp(1.0*I*theta)**1.0/(2*pi) - 3*I*omega*a^*(t)**6/(pi*exp(1.0*I*theta)**6.0) - 5*I*omega*a^*(t)**5/(2*pi*exp(1.0*I*theta)**5.0) - 2*I*omega*a^*(t)**4/(pi*exp(1.0*I*theta)**4.0) - 3*I*omega*a^*(t)**3/(2*pi*exp(1.0*I*theta)**3.0) - I*omega*a^*(t)**2/(pi*exp(1.0*I*theta)**2.0) - I*omega*a^*(t)/(2*pi*exp(1.0*I*theta)**1.0) + 3*I*omega*b(t)**6*exp(1.0*I*theta)**6.0/pi + 5*I*omega*b(t)**5*exp(1.0*I*theta)**5.0/(2*pi) + 2*I*omega*b(t)**4*exp(1.0*I*theta)**4.0/pi + 3*I*omega*b(t)**3*exp(1.0*I*theta)**3.0/(2*pi) + I*omega*b(t)**2*exp(1.0*I*theta)**2.0/pi + I*omega*b(t)*exp(1.0*I*theta)**1.0/(2*pi) - 3*I*omega*b^*(t)**6/(pi*exp(1.0*I*theta)**6.0) - 5*I*omega*b^*(t)**5/(2*pi*exp(1.0*I*theta)**5.0) - 2*I*omega*b^*(t)**4/(pi*exp(1.0*I*theta)**4.0) - 3*I*omega*b^*(t)**3/(2*pi*exp(1.0*I*theta)**3.0) - I*omega*b^*(t)**2/(pi*exp(1.0*I*theta)**2.0) - I*omega*b^*(t)/(2*pi*exp(1.0*I*theta)**1.0) + 3*a(t)**5*exp(1.0*I*theta)**6.0*Derivative(a(t), t)/pi + 5*a(t)**4*exp(1.0*I*theta)**5.0*Derivative(a(t), t)/(2*pi) + 2*a(t)**3*exp(1.0*I*theta)**4.0*Derivative(a(t), t)/pi + 3*a(t)**2*exp(1.0*I*theta)**3.0*Derivative(a(t), t)/(2*pi) + a(t)*exp(1.0*I*theta)**2.0*Derivative(a(t), t)/pi + 3*a^*(t)**5*Derivative(a^*(t), t)/(pi*exp(1.0*I*theta)**6.0) + 5*a^*(t)**4*Derivative(a^*(t), t)/(2*pi*exp(1.0*I*theta)**5.0) + 2*a^*(t)**3*Derivative(a^*(t), t)/(pi*exp(1.0*I*theta)**4.0) + 3*a^*(t)**2*Derivative(a^*(t), t)/(2*pi*exp(1.0*I*theta)**3.0) + a^*(t)*Derivative(a^*(t), t)/(pi*exp(1.0*I*theta)**2.0) + 3*b(t)**5*exp(1.0*I*theta)**6.0*Derivative(b(t), t)/pi + 5*b(t)**4*exp(1.0*I*theta)**5.0*Derivative(b(t), t)/(2*pi) + 2*b(t)**3*exp(1.0*I*theta)**4.0*Derivative(b(t), t)/pi + 3*b(t)**2*exp(1.0*I*theta)**3.0*Derivative(b(t), t)/(2*pi) + b(t)*exp(1.0*I*theta)**2.0*Derivative(b(t), t)/pi + 3*b^*(t)**5*Derivative(b^*(t), t)/(pi*exp(1.0*I*theta)**6.0) + 5*b^*(t)**4*Derivative(b^*(t), t)/(2*pi*exp(1.0*I*theta)**5.0) + 2*b^*(t)**3*Derivative(b^*(t), t)/(pi*exp(1.0*I*theta)**4.0) + 3*b^*(t)**2*Derivative(b^*(t), t)/(2*pi*exp(1.0*I*theta)**3.0) + b^*(t)*Derivative(b^*(t), t)/(pi*exp(1.0*I*theta)**2.0) + Derivative(a^*(t), t)/(2*pi*exp(1.0*I*theta)**1.0) + Derivative(b^*(t), t)/(2*pi*exp(1.0*I*theta)**1.0) + exp(1.0*I*theta)**1.0*Derivative(a(t), t)/(2*pi) + exp(1.0*I*theta)**1.0*Derivative(b(t), t)/(2*pi)"
      ]
     },
     "execution_count": 151,
     "metadata": {},
     "output_type": "execute_result"
    }
   ],
   "source": [
    "poly_.as_expr(1)"
   ]
  },
  {
   "cell_type": "code",
   "execution_count": 195,
   "metadata": {},
   "outputs": [],
   "source": [
    "# H에 대한 부분 적기\n",
    "theta,t,alpha,n,omega = symbols('theta t alpha n omega',real=True)\n",
    "\n",
    "K,beta = symbols('K beta',real=True)\n",
    "sigma1,sigma2 = symbols('sigma1,sigma2')\n",
    "Z = IndexedBase('Z')\n",
    "Zs = IndexedBase('Z^*')\n",
    "R = IndexedBase('R', real = True)\n",
    "psi = IndexedBase('psi', real = True)\n",
    "Z1A = R['A']*E**(psi['A']*I)\n",
    "Z1B = R['B']*E**(psi['B']*I)\n",
    "Z1As = R['A']*E**(-psi['A']*I)\n",
    "Z1Bs = R['B']*E**(-psi['B']*I)\n",
    "H1 = K*Z1A*Z1A+ 2*K*beta*Z1A*Z1B + K*beta**2*Z1B*Z1B\n",
    "H1s = K*Z1As*Z1As + 2*K*beta*Z1As*Z1Bs + K*beta**2*Z1Bs*Z1Bs\n",
    "dZ1dt =  I*omega*Z1A + 1/2 *(H1*Z1As*E**(-I*alpha) - H1s*Z1A**3*E**(I*alpha))\n",
    "dR1dt = I*omega*R['A'] + 1/2 *(H1*R['A']*E**(-2j*psi['A'])*E**(-I*alpha) - H1s*R['A']**3*E**(2j*psi['A'])*E**(I*alpha))\n",
    "dpsi1dt = dZ1dt/Z1A"
   ]
  },
  {
   "cell_type": "code",
   "execution_count": 196,
   "metadata": {},
   "outputs": [],
   "source": [
    "dR_sim = re(dZ1dt/(E**(I*psi['A']))).simplify()"
   ]
  },
  {
   "cell_type": "code",
   "execution_count": 197,
   "metadata": {},
   "outputs": [],
   "source": [
    "dpsi_sim = im(dpsi1dt).simplify()"
   ]
  },
  {
   "cell_type": "code",
   "execution_count": 199,
   "metadata": {},
   "outputs": [
    {
     "data": {
      "text/latex": [
       "$\\displaystyle K \\left(- 0.5 \\beta^{2} \\cos{\\left(\\alpha + 2 {\\psi}_{A} - 2 {\\psi}_{B} \\right)} {R}_{A}^{2} {R}_{B}^{2} + 0.5 \\beta^{2} \\cos{\\left(\\alpha + 2 {\\psi}_{A} - 2 {\\psi}_{B} \\right)} {R}_{B}^{2} - 1.0 \\beta \\cos{\\left(\\alpha + {\\psi}_{A} - {\\psi}_{B} \\right)} {R}_{A}^{3} {R}_{B} + 1.0 \\beta \\cos{\\left(\\alpha + {\\psi}_{A} - {\\psi}_{B} \\right)} {R}_{A} {R}_{B} - 0.5 \\cos{\\left(\\alpha \\right)} {R}_{A}^{4} + 0.5 \\cos{\\left(\\alpha \\right)} {R}_{A}^{2}\\right) {R}_{A}$"
      ],
      "text/plain": [
       "K*(-0.5*beta**2*cos(alpha + 2*psi[A] - 2*psi[B])*R[A]**2*R[B]**2 + 0.5*beta**2*cos(alpha + 2*psi[A] - 2*psi[B])*R[B]**2 - 1.0*beta*cos(alpha + psi[A] - psi[B])*R[A]**3*R[B] + 1.0*beta*cos(alpha + psi[A] - psi[B])*R[A]*R[B] - 0.5*cos(alpha)*R[A]**4 + 0.5*cos(alpha)*R[A]**2)*R[A]"
      ]
     },
     "execution_count": 199,
     "metadata": {},
     "output_type": "execute_result"
    }
   ],
   "source": [
    "dR_sim"
   ]
  },
  {
   "cell_type": "code",
   "execution_count": 200,
   "metadata": {},
   "outputs": [
    {
     "data": {
      "text/latex": [
       "$\\displaystyle K \\left(\\beta^{2} \\left(- 0.5 {R}_{A}^{2} {R}_{B}^{2} + 0.5 {R}_{B}^{2}\\right) \\cos{\\left(\\alpha + 2 {\\psi}_{A} - 2 {\\psi}_{B} \\right)} + \\beta \\left(1.0 - 1.0 {R}_{A}^{2}\\right) \\cos{\\left(\\alpha + {\\psi}_{A} - {\\psi}_{B} \\right)} {R}_{A} {R}_{B} + \\left(- 0.5 {R}_{A}^{4} + 0.5 {R}_{A}^{2}\\right) \\cos{\\left(\\alpha \\right)}\\right) {R}_{A}$"
      ],
      "text/plain": [
       "K*(beta**2*(-0.5*R[A]**2*R[B]**2 + 0.5*R[B]**2)*cos(alpha + 2*psi[A] - 2*psi[B]) + beta*(1.0 - 1.0*R[A]**2)*cos(alpha + psi[A] - psi[B])*R[A]*R[B] + (-0.5*R[A]**4 + 0.5*R[A]**2)*cos(alpha))*R[A]"
      ]
     },
     "execution_count": 200,
     "metadata": {},
     "output_type": "execute_result"
    }
   ],
   "source": [
    "dR_sim.collect(cos(alpha)).collect(cos(alpha+psi['A']-psi['B'])).collect(cos(alpha+2*psi['A']-2*psi['B'])).collect(R['A']*R['B']).collect(beta)"
   ]
  },
  {
   "cell_type": "code",
   "execution_count": 172,
   "metadata": {},
   "outputs": [
    {
     "data": {
      "text/latex": [
       "$\\displaystyle K \\left(\\beta^{2} \\left(- 0.5 {R}_{A}^{2} {R}_{B}^{2} - 0.5 {R}_{B}^{2}\\right) \\sin{\\left(\\alpha + 2 {\\psi}_{A} - 2 {\\psi}_{B} \\right)} + \\beta \\left(- 1.0 {R}_{A}^{2} - 1.0\\right) \\sin{\\left(\\alpha + {\\psi}_{A} - {\\psi}_{B} \\right)} {R}_{A} {R}_{B} + \\left(- 0.5 {R}_{A}^{4} - 0.5 {R}_{A}^{2}\\right) \\sin{\\left(\\alpha \\right)}\\right) + 1.0 \\omega$"
      ],
      "text/plain": [
       "K*(beta**2*(-0.5*R[A]**2*R[B]**2 - 0.5*R[B]**2)*sin(alpha + 2*psi[A] - 2*psi[B]) + beta*(-1.0*R[A]**2 - 1.0)*sin(alpha + psi[A] - psi[B])*R[A]*R[B] + (-0.5*R[A]**4 - 0.5*R[A]**2)*sin(alpha)) + 1.0*omega"
      ]
     },
     "execution_count": 172,
     "metadata": {},
     "output_type": "execute_result"
    }
   ],
   "source": [
    "dpsi_sim.simplify().collect(K).collect(sin(alpha)).collect(sin(alpha+psi['A']-psi['B'])).collect(sin(alpha+2*psi['A']-2*psi['B'])).collect(R['A']*R['B']).collect(beta).collect(R['A']**2-1)"
   ]
  },
  {
   "cell_type": "code",
   "execution_count": 58,
   "metadata": {},
   "outputs": [
    {
     "data": {
      "text/latex": [
       "$\\displaystyle i \\omega {R}_{A} + 0.5 \\left(- i \\sin{\\left(\\alpha \\right)} + \\cos{\\left(\\alpha \\right)}\\right) \\left(- i \\sin{\\left(2 {\\psi}_{A} \\right)} + \\cos{\\left(2 {\\psi}_{A} \\right)}\\right) \\left(K \\beta^{2} \\left(i \\sin{\\left({\\psi}_{B} \\right)} + \\cos{\\left({\\psi}_{B} \\right)}\\right)^{2} {R}_{B}^{2} + 2 K \\beta \\left(i \\sin{\\left({\\psi}_{A} \\right)} + \\cos{\\left({\\psi}_{A} \\right)}\\right) \\left(i \\sin{\\left({\\psi}_{B} \\right)} + \\cos{\\left({\\psi}_{B} \\right)}\\right) {R}_{A} {R}_{B} + K \\left(i \\sin{\\left({\\psi}_{A} \\right)} + \\cos{\\left({\\psi}_{A} \\right)}\\right)^{2} {R}_{A}^{2}\\right) {R}_{A} + 0.5 \\left(i \\sin{\\left(\\alpha \\right)} + \\cos{\\left(\\alpha \\right)}\\right) \\left(i \\sin{\\left(2 {\\psi}_{A} \\right)} + \\cos{\\left(2 {\\psi}_{A} \\right)}\\right) \\left(K \\beta^{2} \\left(- i \\sin{\\left({\\psi}_{B} \\right)} + \\cos{\\left({\\psi}_{B} \\right)}\\right)^{2} {R}_{B}^{2} + 2 K \\beta \\left(- i \\sin{\\left({\\psi}_{A} \\right)} + \\cos{\\left({\\psi}_{A} \\right)}\\right) \\left(- i \\sin{\\left({\\psi}_{B} \\right)} + \\cos{\\left({\\psi}_{B} \\right)}\\right) {R}_{A} {R}_{B} + K \\left(- i \\sin{\\left({\\psi}_{A} \\right)} + \\cos{\\left({\\psi}_{A} \\right)}\\right)^{2} {R}_{A}^{2}\\right) {R}_{A}^{3}$"
      ],
      "text/plain": [
       "I*omega*R[A] + 0.5*(-I*sin(alpha) + cos(alpha))*(-I*sin(2*psi[A]) + cos(2*psi[A]))*(K*beta**2*(I*sin(psi[B]) + cos(psi[B]))**2*R[B]**2 + 2*K*beta*(I*sin(psi[A]) + cos(psi[A]))*(I*sin(psi[B]) + cos(psi[B]))*R[A]*R[B] + K*(I*sin(psi[A]) + cos(psi[A]))**2*R[A]**2)*R[A] + 0.5*(I*sin(alpha) + cos(alpha))*(I*sin(2*psi[A]) + cos(2*psi[A]))*(K*beta**2*(-I*sin(psi[B]) + cos(psi[B]))**2*R[B]**2 + 2*K*beta*(-I*sin(psi[A]) + cos(psi[A]))*(-I*sin(psi[B]) + cos(psi[B]))*R[A]*R[B] + K*(-I*sin(psi[A]) + cos(psi[A]))**2*R[A]**2)*R[A]**3"
      ]
     },
     "execution_count": 58,
     "metadata": {},
     "output_type": "execute_result"
    }
   ],
   "source": [
    "# H에 대한 부분 적기\n",
    "K,beta = symbols('K beta',real=True)\n",
    "sigma1,sigma2 = symbols('sigma1,sigma2')\n",
    "Z = IndexedBase('Z')\n",
    "Zs = IndexedBase('Z^*')\n",
    "R = IndexedBase('R', real = True)\n",
    "psi = IndexedBase('psi', real = True)\n",
    "Z1A = R['A']*(cos(psi['A'])+I*sin(psi['A']))\n",
    "Z1B = R['B']*(cos(psi['B'])+I*sin(psi['B']))\n",
    "Z1As = R['A']*(cos(psi['A'])-I*sin(psi['A']))\n",
    "Z1Bs = R['B']*(cos(psi['B'])-I*sin(psi['B']))\n",
    "Ea = cos(alpha) +I*sin(alpha)\n",
    "Eas = cos(alpha) - I*sin(alpha)\n",
    "H1 = K*Z1A*Z1A+ 2*K*beta*Z1A*Z1B + K*beta**2*Z1B*Z1B\n",
    "H1s = K*Z1As*Z1As + 2*K*beta*Z1As*Z1Bs + K*beta**2*Z1Bs*Z1Bs\n",
    "dZ1dt =  I*omega*Z1A + 1/2 *(H1*Z1As*E**(-1j*alpha) + H1s*Z1A**3*E**(1j*alpha))\n",
    "dR1dt = I*omega*R['A'] + 1/2 *(H1*R['A']*(cos(2*psi['A'])-I*sin(2*psi['A']))*Eas + H1s*R['A']**3*(cos(2*psi['A'])+I*sin(2*psi['A']))*Ea)\n",
    "dR1dt = I*omega*R['A'] + 1/2 *(H1*R['A']*(cos(2*psi['A'])-I*sin(2*psi['A']))*Eas + H1s*R['A']**3*(cos(2*psi['A'])+I*sin(2*psi['A']))*Ea)"
   ]
  },
  {
   "cell_type": "code",
   "execution_count": 65,
   "metadata": {},
   "outputs": [],
   "source": [
    "SIMP_dR1dt = re(dR1dt).trigsimp().simplify()"
   ]
  },
  {
   "cell_type": "code",
   "execution_count": 70,
   "metadata": {},
   "outputs": [
    {
     "data": {
      "text/latex": [
       "$\\displaystyle 0.5 K \\left({R}_{A}^{2} + 1\\right) \\left(\\beta^{2} \\left(\\left(- 2 \\sin{\\left(\\alpha + {\\psi}_{A} \\right)} + 4 \\sin{\\left({\\psi}_{B} \\right)} \\cos{\\left(\\alpha + {\\psi}_{A} - {\\psi}_{B} \\right)}\\right) \\sin{\\left({\\psi}_{A} \\right)} + 2 \\sin{\\left(\\alpha - {\\psi}_{B} \\right)} \\sin{\\left({\\psi}_{B} \\right)} + \\cos{\\left(\\alpha \\right)}\\right) {R}_{B}^{2} + 2 \\beta \\cos{\\left(\\alpha + {\\psi}_{A} - {\\psi}_{B} \\right)} {R}_{A} {R}_{B} + \\cos{\\left(\\alpha \\right)} {R}_{A}^{2}\\right) {R}_{A}$"
      ],
      "text/plain": [
       "0.5*K*(R[A]**2 + 1)*(beta**2*((-2*sin(alpha + psi[A]) + 4*sin(psi[B])*cos(alpha + psi[A] - psi[B]))*sin(psi[A]) + 2*sin(alpha - psi[B])*sin(psi[B]) + cos(alpha))*R[B]**2 + 2*beta*cos(alpha + psi[A] - psi[B])*R[A]*R[B] + cos(alpha)*R[A]**2)*R[A]"
      ]
     },
     "execution_count": 70,
     "metadata": {},
     "output_type": "execute_result"
    }
   ],
   "source": [
    "SIMP_dR1dt.collect(R['B']).collect(beta).collect(sin(psi['A']))"
   ]
  },
  {
   "cell_type": "code",
   "execution_count": 34,
   "metadata": {},
   "outputs": [
    {
     "data": {
      "text/latex": [
       "$\\displaystyle \\sin{\\left(\\theta \\right)}$"
      ],
      "text/plain": [
       "sin(theta)"
      ]
     },
     "execution_count": 34,
     "metadata": {},
     "output_type": "execute_result"
    }
   ],
   "source": [
    "im(E**(I*theta))"
   ]
  },
  {
   "cell_type": "code",
   "execution_count": 84,
   "metadata": {},
   "outputs": [
    {
     "data": {
      "text/latex": [
       "$\\displaystyle 0$"
      ],
      "text/plain": [
       "0"
      ]
     },
     "execution_count": 84,
     "metadata": {},
     "output_type": "execute_result"
    }
   ],
   "source": [
    "simplify(dR_sim.collect(R['A']) - SIMP_dR1dt)"
   ]
  },
  {
   "cell_type": "markdown",
   "metadata": {},
   "source": [
    "# 수정된 OA ansatz"
   ]
  },
  {
   "cell_type": "code",
   "execution_count": 232,
   "metadata": {},
   "outputs": [],
   "source": [
    "# H에 대한 부분 적기\n",
    "theta,t,alpha,n,omega = symbols('theta t alpha n omega',real=True)\n",
    "K,beta = symbols('K beta',real=True)\n",
    "sigma1,sigma2 = symbols('sigma1,sigma2')\n",
    "Z = IndexedBase('Z')\n",
    "Zs = IndexedBase('Z^*')\n",
    "r = IndexedBase('r', real = True)\n",
    "psi = IndexedBase('psi', real = True)\n",
    "zAa = (r[1,'a'])*E**(psi[1]*I)\n",
    "zAas = (r[1,'a'])*E**(-psi[1]*I)\n",
    "zBa = (r[2,'a'])*E**(psi[2]*I)\n",
    "zBas = (r[2,'a'])*E**(-psi[2]*I)\n",
    "\n",
    "zAb = (r[1,'b'])*E**(psi[1]*I)\n",
    "zAbs = (r[1,'b'])*E**(-psi[1]*I)\n",
    "zBb = (r[2,'b'])*E**(psi[2]*I)\n",
    "zBbs = (r[2,'b'])*E**(-psi[2]*I)\n",
    "\n",
    "\n",
    "Z1A =  (r[1,'b'])*E**(psi[1]*I)  #-r[1,'b]*E**(psi[1]*I)\n",
    "Z1B =  (r[2,'b'])*E**(psi[2]*I)  #-r[2,'b']*E**(psi[2]*I)\n",
    "Z1As = (r[1,'b'])*E**(-psi[1]*I) #-r[1,'b]*E**(-psi[1]*I)\n",
    "Z1Bs = (r[2,'b'])*E**(-psi[2]*I) #-r[2,'b']*E**(-psi[2]*I)\n",
    "\n",
    "# Z1A =  (r[1,'b'])*E**(psi[1]*I)  #-r[1,'b]*E**(psi[1]*I)\n",
    "# Z1B =  (r[2,'b'])*E**(psi[2]*I)  #-r[2,'b']*E**(psi[2]*I)\n",
    "# Z1As = (r[1,'b'])*E**(-psi[1]*I) #-r[1,'b]*E**(-psi[1]*I)\n",
    "# Z1Bs = (r[2,'b'])*E**(-psi[2]*I) #-r[2,'b']*E**(-psi[2]*I)\n",
    "\n",
    "# H1 = K*Z1A*Z1A+ 2*K*beta*Z1A*Z1B + K*beta**2*Z1B*Z1B\n",
    "# H1s = K*Z1As*Z1As + 2*K*beta*Z1As*Z1Bs + K*beta**2*Z1Bs*Z1Bs\n",
    "\n",
    "# H1 =  2*K*zAa*zAb#K*2*beta**2*zAb*zBb#+#K*beta*(zAa*zBb+zAb*zBa)\n",
    "# H1s =  2*K*zAas*zAbs#K*2*beta**2*zAbs*zBbs#+K*beta*(zAas*zBbs+zAbs*zBas) + \n",
    "# H1 =  K*2*beta**2*zBa*zBb#+#K*beta*(zAa*zBb+zAb*zBa)\n",
    "# H1s =  K*2*beta**2*zBas*zBbs#+K*beta*(zAas*zBbs+zAbs*zBas) + \n",
    "\n",
    "H1 =  K*beta*(zAb*zBa)\n",
    "H1s =  K*beta*(zAbs*zBas)\n",
    "\n",
    "dz1dt = I*omega*zAa + 1/2 *(H1*zAas*E**(-I*alpha) - H1s*zAa**3*E**(I*alpha))\n",
    "# dZ1dt =  I*omega*Z1A + 1/2 *(H1*Z1As*E**(-I*alpha) - H1s*Z1A**3*E**(I*alpha))\n",
    "\n",
    "dr1dt = dz1dt/(E**(psi[1]*I))\n",
    "dpsi1dt = dz1dt/zAa\n",
    "\n",
    "# dZ1dt =  I*omega*Z1A + 1/2 *(H1*Z1As*E**(-I*alpha) + H1s*Z1A**3*E**(I*alpha))\n",
    "# dR1dt = I*omega*R['A'] + 1/2 *(H1*R['A']*E**(-2j*psi['A'])*E**(-I*alpha) + H1s*R['A']**3*E**(I*alpha))"
   ]
  },
  {
   "cell_type": "code",
   "execution_count": 233,
   "metadata": {},
   "outputs": [],
   "source": [
    "dr_sim = re(dr1dt).simplify()"
   ]
  },
  {
   "cell_type": "code",
   "execution_count": 234,
   "metadata": {},
   "outputs": [
    {
     "data": {
      "text/latex": [
       "$\\displaystyle 0.5 K \\beta \\left(1 - {r}_{1,a}^{2}\\right) \\cos{\\left(\\alpha + {\\psi}_{1} - {\\psi}_{2} \\right)} {r}_{1,a} {r}_{1,b} {r}_{2,a}$"
      ],
      "text/plain": [
       "0.5*K*beta*(1 - r[1, a]**2)*cos(alpha + psi[1] - psi[2])*r[1, a]*r[1, b]*r[2, a]"
      ]
     },
     "execution_count": 234,
     "metadata": {},
     "output_type": "execute_result"
    }
   ],
   "source": [
    "dr_sim"
   ]
  },
  {
   "cell_type": "code",
   "execution_count": 212,
   "metadata": {},
   "outputs": [
    {
     "data": {
      "text/latex": [
       "$\\displaystyle K \\left(\\beta^{2} \\left(- 0.5 \\cos{\\left(- \\alpha + {\\psi}_{1} + {\\psi}_{2} \\right)} {r}_{1,a}^{2} {r}_{1,b} {r}_{2,b} - 0.5 \\cos{\\left(\\alpha + 3 {\\psi}_{1} - {\\psi}_{2} \\right)} {r}_{1,a}^{2} {r}_{1,b} {r}_{2,b}\\right) + \\beta \\left(\\left(- 0.25 \\cos{\\left(- \\alpha + {\\psi}_{1} + {\\psi}_{2} \\right)} {r}_{1,a} {r}_{1,b} - 0.25 \\cos{\\left(\\alpha + 3 {\\psi}_{1} - {\\psi}_{2} \\right)} {r}_{1,a} {r}_{1,b}\\right) {r}_{1,a} {r}_{2,a} - 0.25 \\cos{\\left(- \\alpha + {\\psi}_{1} + {\\psi}_{2} \\right)} {r}_{1,a}^{3} {r}_{2,b} - 0.25 \\cos{\\left(\\alpha + 3 {\\psi}_{1} - {\\psi}_{2} \\right)} {r}_{1,a}^{3} {r}_{2,b}\\right) + \\left(\\beta^{2} \\left(- 2.0 \\sin^{2}{\\left({\\psi}_{1} \\right)} {r}_{1,a}^{2} {r}_{1,b} {r}_{2,b} + 1.0 {r}_{1,b} {r}_{2,b}\\right) + \\beta \\left(- 1.0 \\sin^{2}{\\left({\\psi}_{1} \\right)} {r}_{1,a}^{3} {r}_{2,b} - 1.0 \\sin^{2}{\\left({\\psi}_{1} \\right)} {r}_{1,a}^{2} {r}_{1,b} {r}_{2,a} + 0.5 {r}_{1,a} {r}_{2,b} + 0.5 {r}_{1,b} {r}_{2,a}\\right)\\right) \\cos{\\left(\\alpha + {\\psi}_{1} - {\\psi}_{2} \\right)} + 1.0 \\sin{\\left(\\alpha \\right)} \\sin{\\left({\\psi}_{1} \\right)} \\cos{\\left({\\psi}_{1} \\right)} {r}_{1,a}^{3} {r}_{1,b} - 4.0 \\sin{\\left(\\alpha + {\\psi}_{1} \\right)} \\sin^{3}{\\left({\\psi}_{1} \\right)} {r}_{1,a}^{3} {r}_{1,b} - 1.0 \\sin{\\left(\\alpha + 3 {\\psi}_{1} \\right)} \\sin{\\left({\\psi}_{1} \\right)} {r}_{1,a}^{3} {r}_{1,b} + 3.0 \\sin^{2}{\\left({\\psi}_{1} \\right)} \\cos{\\left(\\alpha \\right)} {r}_{1,a}^{3} {r}_{1,b} - 1.0 \\cos{\\left(\\alpha \\right)} {r}_{1,a}^{3} {r}_{1,b} + 1.0 \\cos{\\left(\\alpha \\right)} {r}_{1,a} {r}_{1,b}\\right) {r}_{1,a}$"
      ],
      "text/plain": [
       "K*(beta**2*(-0.5*cos(-alpha + psi[1] + psi[2])*r[1, a]**2*r[1, b]*r[2, b] - 0.5*cos(alpha + 3*psi[1] - psi[2])*r[1, a]**2*r[1, b]*r[2, b]) + beta*((-0.25*cos(-alpha + psi[1] + psi[2])*r[1, a]*r[1, b] - 0.25*cos(alpha + 3*psi[1] - psi[2])*r[1, a]*r[1, b])*r[1, a]*r[2, a] - 0.25*cos(-alpha + psi[1] + psi[2])*r[1, a]**3*r[2, b] - 0.25*cos(alpha + 3*psi[1] - psi[2])*r[1, a]**3*r[2, b]) + (beta**2*(-2.0*sin(psi[1])**2*r[1, a]**2*r[1, b]*r[2, b] + 1.0*r[1, b]*r[2, b]) + beta*(-1.0*sin(psi[1])**2*r[1, a]**3*r[2, b] - 1.0*sin(psi[1])**2*r[1, a]**2*r[1, b]*r[2, a] + 0.5*r[1, a]*r[2, b] + 0.5*r[1, b]*r[2, a]))*cos(alpha + psi[1] - psi[2]) + 1.0*sin(alpha)*sin(psi[1])*cos(psi[1])*r[1, a]**3*r[1, b] - 4.0*sin(alpha + psi[1])*sin(psi[1])**3*r[1, a]**3*r[1, b] - 1.0*sin(alpha + 3*psi[1])*sin(psi[1])*r[1, a]**3*r[1, b] + 3.0*sin(psi[1])**2*cos(alpha)*r[1, a]**3*r[1, b] - 1.0*cos(alpha)*r[1, a]**3*r[1, b] + 1.0*cos(alpha)*r[1, a]*r[1, b])*r[1, a]"
      ]
     },
     "execution_count": 212,
     "metadata": {},
     "output_type": "execute_result"
    }
   ],
   "source": [
    "dr_sim.collect(cos(alpha+psi[1]-psi[2])).collect(cos(alpha+2*psi[1]-2*psi[2])).collect(r[1,'a']*r[2,'a']).collect(beta)"
   ]
  },
  {
   "cell_type": "code",
   "execution_count": null,
   "metadata": {},
   "outputs": [],
   "source": [
    "# H에 대한 부분 적기\n",
    "theta,t,alpha,n,omega = symbols('theta t alpha n omega',real=True)\n",
    "K,beta = symbols('K beta',real=True)\n",
    "sigma1,sigma2 = symbols('sigma1,sigma2')\n",
    "Z = IndexedBase('Z')\n",
    "Zs = IndexedBase('Z^*')\n",
    "r = IndexedBase('r', real = True)\n",
    "psi = IndexedBase('psi', real = True)\n",
    "zAa = (r[1,'a'])*E**(psi[1]*I)\n",
    "zAas = (r[1,'a'])*E**(-psi[1]*I)\n",
    "zBa = (r[2,'a'])*E**(psi[2]*I)\n",
    "zBas = (r[2,'a'])*E**(-psi[2]*I)\n",
    "\n",
    "zAb = (r[1,'b'])*E**(psi[1]*I)\n",
    "zAbs = (r[1,'b'])*E**(-psi[1]*I)\n",
    "zBb = (r[2,'b'])*E**(psi[2]*I)\n",
    "zBbs = (r[2,'b'])*E**(-psi[2]*I)\n",
    "\n",
    "\n",
    "Z1A =  (r[1,'b'])*E**(psi[1]*I)  #-r[1,'b]*E**(psi[1]*I)\n",
    "Z1B =  (r[2,'b'])*E**(psi[2]*I)  #-r[2,'b']*E**(psi[2]*I)\n",
    "Z1As = (r[1,'b'])*E**(-psi[1]*I) #-r[1,'b]*E**(-psi[1]*I)\n",
    "Z1Bs = (r[2,'b'])*E**(-psi[2]*I) #-r[2,'b']*E**(-psi[2]*I)\n",
    "\n",
    "# Z1A =  (r[1,'b'])*E**(psi[1]*I)  #-r[1,'b]*E**(psi[1]*I)\n",
    "# Z1B =  (r[2,'b'])*E**(psi[2]*I)  #-r[2,'b']*E**(psi[2]*I)\n",
    "# Z1As = (r[1,'b'])*E**(-psi[1]*I) #-r[1,'b]*E**(-psi[1]*I)\n",
    "# Z1Bs = (r[2,'b'])*E**(-psi[2]*I) #-r[2,'b']*E**(-psi[2]*I)\n",
    "\n",
    "# H1 = K*Z1A*Z1A+ 2*K*beta*Z1A*Z1B + K*beta**2*Z1B*Z1B\n",
    "# H1s = K*Z1As*Z1As + 2*K*beta*Z1As*Z1Bs + K*beta**2*Z1Bs*Z1Bs\n",
    "\n",
    "# H1 =  2*K*zAa*zAb#K*2*beta**2*zAb*zBb#+#K*beta*(zAa*zBb+zAb*zBa)\n",
    "# H1s =  2*K*zAas*zAbs#K*2*beta**2*zAbs*zBbs#+K*beta*(zAas*zBbs+zAbs*zBas) + \n",
    "# H1 =  K*2*beta**2*zBa*zBb#+#K*beta*(zAa*zBb+zAb*zBa)\n",
    "# H1s =  K*2*beta**2*zBas*zBbs#+K*beta*(zAas*zBbs+zAbs*zBas) + \n",
    "\n",
    "H1 =  K*beta*(zAb*zBa)\n",
    "H1s =  K*beta*(zAbs*zBas)\n",
    "\n",
    "dz1dt = I*omega*zAa + 1/2 *(H1*zAas*E**(-I*alpha) - H1s*zAa**3*E**(I*alpha))\n",
    "# dZ1dt =  I*omega*Z1A + 1/2 *(H1*Z1As*E**(-I*alpha) - H1s*Z1A**3*E**(I*alpha))\n",
    "\n",
    "dr1dt = dz1dt/(E**(psi[1]*I))\n",
    "dpsi1dt = dz1dt/zAa\n",
    "\n",
    "# dZ1dt =  I*omega*Z1A + 1/2 *(H1*Z1As*E**(-I*alpha) + H1s*Z1A**3*E**(I*alpha))\n",
    "# dR1dt = I*omega*R['A'] + 1/2 *(H1*R['A']*E**(-2j*psi['A'])*E**(-I*alpha) + H1s*R['A']**3*E**(I*alpha))"
   ]
  },
  {
   "cell_type": "code",
   "execution_count": 9,
   "metadata": {},
   "outputs": [],
   "source": [
    "a,b = symbols('a b')\n",
    "r = IndexedBase('r', real = True)\n",
    "e = IndexedBase('epsilon', real = True)\n",
    "phi,alpha,beta = symbols('phi alpha beta',real=True)\n",
    "R1 = r[1,a] - r[1,b]\n",
    "R2 = r[2,a] - r[2,b]\n",
    "F = R1**2*cos(alpha) + beta**2*R2*cos(alpha + 2*phi) + beta*R2*R1*cos(alpha + phi)\n"
   ]
  },
  {
   "cell_type": "code",
   "execution_count": 10,
   "metadata": {},
   "outputs": [
    {
     "data": {
      "text/latex": [
       "$\\displaystyle \\beta^{2} \\cos{\\left(\\alpha + 2 \\phi \\right)} {r}_{2,a} - \\beta^{2} \\cos{\\left(\\alpha + 2 \\phi \\right)} {r}_{2,b} - \\beta \\cos{\\left(\\alpha + \\phi \\right)} {r}_{1,b} {r}_{2,a} + \\beta \\cos{\\left(\\alpha + \\phi \\right)} {r}_{1,b} {r}_{2,b} + \\left(\\beta \\cos{\\left(\\alpha + \\phi \\right)} {r}_{2,a} - \\beta \\cos{\\left(\\alpha + \\phi \\right)} {r}_{2,b} - 2 \\cos{\\left(\\alpha \\right)} {r}_{1,b}\\right) {r}_{1,a} + \\cos{\\left(\\alpha \\right)} {r}_{1,a}^{2} + \\cos{\\left(\\alpha \\right)} {r}_{1,b}^{2}$"
      ],
      "text/plain": [
       "beta**2*cos(alpha + 2*phi)*r[2, a] - beta**2*cos(alpha + 2*phi)*r[2, b] - beta*cos(alpha + phi)*r[1, b]*r[2, a] + beta*cos(alpha + phi)*r[1, b]*r[2, b] + (beta*cos(alpha + phi)*r[2, a] - beta*cos(alpha + phi)*r[2, b] - 2*cos(alpha)*r[1, b])*r[1, a] + cos(alpha)*r[1, a]**2 + cos(alpha)*r[1, b]**2"
      ]
     },
     "execution_count": 10,
     "metadata": {},
     "output_type": "execute_result"
    }
   ],
   "source": [
    "F.expand().collect(r[1,a])"
   ]
  },
  {
   "cell_type": "code",
   "execution_count": null,
   "metadata": {},
   "outputs": [],
   "source": []
  }
 ],
 "metadata": {
  "kernelspec": {
   "display_name": "Python 3",
   "language": "python",
   "name": "python3"
  },
  "language_info": {
   "codemirror_mode": {
    "name": "ipython",
    "version": 3
   },
   "file_extension": ".py",
   "mimetype": "text/x-python",
   "name": "python",
   "nbconvert_exporter": "python",
   "pygments_lexer": "ipython3",
   "version": "3.11.0"
  }
 },
 "nbformat": 4,
 "nbformat_minor": 2
}
