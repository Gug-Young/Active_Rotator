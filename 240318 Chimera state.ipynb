{
 "cells": [
  {
   "cell_type": "code",
   "execution_count": null,
   "metadata": {},
   "outputs": [],
   "source": [
    "import numpy as np\n",
    "import matplotlib.pyplot as plt\n",
    "from scipy.interpolate import interp1d"
   ]
  },
  {
   "cell_type": "code",
   "execution_count": null,
   "metadata": {},
   "outputs": [],
   "source": [
    "ms = np.linspace(0.5, 100,1000)\n",
    "g = 9.81\n",
    "def mass_x(h,m):\n",
    "    alpha = np.sqrt(2*m*g)\n",
    "    x = lambda t : alpha**2/g*np.log(np.cos(-g*t/alpha))\n",
    "    t = np.linspace(0,1,10000)\n",
    "    inv_x = interp1d(-x(t),t,kind='linear',bounds_error=False)\n",
    "    return float(inv_x(h)),alpha"
   ]
  },
  {
   "cell_type": "code",
   "execution_count": null,
   "metadata": {},
   "outputs": [],
   "source": [
    "float(np.nan)"
   ]
  },
  {
   "cell_type": "code",
   "execution_count": null,
   "metadata": {},
   "outputs": [],
   "source": [
    "mass_x(0.7,1)"
   ]
  },
  {
   "cell_type": "code",
   "execution_count": null,
   "metadata": {},
   "outputs": [],
   "source": [
    "vec_mass = np.vectorize(mass_x)\n",
    "# mass_x(0.7,1)"
   ]
  },
  {
   "cell_type": "code",
   "execution_count": null,
   "metadata": {},
   "outputs": [],
   "source": [
    "ts,alphas = vec_mass(0.7,ms)"
   ]
  },
  {
   "cell_type": "code",
   "execution_count": null,
   "metadata": {},
   "outputs": [],
   "source": [
    "vs = alphas*np.tan(-g*ts/alphas)"
   ]
  },
  {
   "cell_type": "code",
   "execution_count": null,
   "metadata": {},
   "outputs": [],
   "source": [
    "plt.plot(ms,vs**2)"
   ]
  },
  {
   "cell_type": "code",
   "execution_count": null,
   "metadata": {},
   "outputs": [],
   "source": [
    "N = 10\n",
    "Aij = np.ones((N,N)) - np.eye(N)\n",
    "Bijk = np.ones((N,N,N))\n",
    "Bij,Bjk,Bki = np.where(Bijk)"
   ]
  },
  {
   "cell_type": "code",
   "execution_count": null,
   "metadata": {},
   "outputs": [],
   "source": [
    "len(set((1,1,1)))"
   ]
  },
  {
   "cell_type": "markdown",
   "metadata": {},
   "source": [
    "# chimera state"
   ]
  },
  {
   "cell_type": "code",
   "execution_count": 31,
   "metadata": {},
   "outputs": [],
   "source": [
    "from numba import jit\n",
    "import numpy as np\n",
    "import matplotlib.pyplot as plt\n",
    "# @jit(nopython=True)\n",
    "def make_Bijk(N):\n",
    "    Bijk = np.ones((N,N,N)) - np.eye(N)\n",
    "    for i in range(N): Bijk[i,i,:]=0;Bijk[i,:,i]=0\n",
    "    return Bijk"
   ]
  },
  {
   "cell_type": "code",
   "execution_count": 32,
   "metadata": {},
   "outputs": [],
   "source": [
    "N = 50\n",
    "Aij = np.ones((N,N)) - np.eye(N)\n",
    "Bijk = make_Bijk(N)\n"
   ]
  },
  {
   "cell_type": "code",
   "execution_count": 33,
   "metadata": {},
   "outputs": [],
   "source": [
    "def Kuramoto_SOL_CHIMERA(Theta,t,omega,N,eps1,eps2,beta):\n",
    "    # print(\"Case m = 0\")\n",
    "    theta = Theta.copy()\n",
    "    # theta_i,theta_j = np.meshgrid(theta,theta,sparse=False,indexing='ij')\n",
    "    i,j,k = np.meshgrid(theta,theta,theta,sparse=False,indexing='ij')\n",
    "    # theta_i,theta_j = np.meshgrid(theta,theta,sparse=True)\n",
    "    dtheta = omega + eps2/N**2*np.sum(np.sum(np.sin(j+k-2*i-beta),axis=2),axis=1)\n",
    "    return dtheta"
   ]
  },
  {
   "cell_type": "code",
   "execution_count": 34,
   "metadata": {},
   "outputs": [],
   "source": [
    "# i,j,k = np.meshgrid([0,1,2],[0,1,2],[0,1,2],sparse=False,indexing='ij')\n",
    "i,j = np.meshgrid([0,1,2],[0,1,2],sparse=False,indexing='ij')"
   ]
  },
  {
   "cell_type": "code",
   "execution_count": 35,
   "metadata": {},
   "outputs": [],
   "source": [
    "t = np.arange(0,10,0.1)\n",
    "Theta = np.random.uniform(0,2*np.pi,N)"
   ]
  },
  {
   "cell_type": "code",
   "execution_count": 36,
   "metadata": {},
   "outputs": [],
   "source": [
    "def RK4(f, y0, t, args=()):\n",
    "    n = len(t)\n",
    "    y = np.zeros((n, len(y0)))\n",
    "    y[0] = y0\n",
    "\n",
    "    for i in range(n - 1):\n",
    "        h = t[i + 1] - t[i]\n",
    "        k1 = f(y[i], t[i], *args)\n",
    "        k2 = f(y[i] + k1 * h / 2.0, t[i] + h / 2.0, *args)\n",
    "        k3 = f(y[i] + k2 * h / 2.0, t[i] + h / 2.0, *args)\n",
    "        k4 = f(y[i] + k3 * h, t[i] + h, *args)\n",
    "        y[i + 1] = y[i] + (h / 6.0) * (k1 + 2 * k2 + 2 * k3 + k4)\n",
    "    return y"
   ]
  },
  {
   "cell_type": "code",
   "execution_count": 37,
   "metadata": {},
   "outputs": [],
   "source": [
    "t = np.arange(0,100,0.1)\n",
    "Theta = np.random.uniform(0,2*np.pi,N)"
   ]
  },
  {
   "cell_type": "code",
   "execution_count": 38,
   "metadata": {},
   "outputs": [],
   "source": [
    "sol = RK4(Kuramoto_SOL_CHIMERA,Theta,t,args=(1,N,1,2,0))"
   ]
  },
  {
   "cell_type": "code",
   "execution_count": 39,
   "metadata": {},
   "outputs": [
    {
     "data": {
      "text/plain": [
       "50"
      ]
     },
     "execution_count": 39,
     "metadata": {},
     "output_type": "execute_result"
    }
   ],
   "source": [
    "N"
   ]
  },
  {
   "cell_type": "code",
   "execution_count": 40,
   "metadata": {},
   "outputs": [
    {
     "data": {
      "text/plain": [
       "(array([41.,  7.,  0.,  1.,  0.,  0.,  0.,  0.,  0.,  1.]),\n",
       " array([1.42230142, 1.42230142, 1.42230142, 1.42230142, 1.42230142,\n",
       "        1.42230142, 1.42230142, 1.42230142, 1.42230142, 1.42230142,\n",
       "        1.42230142]),\n",
       " <BarContainer object of 10 artists>)"
      ]
     },
     "execution_count": 40,
     "metadata": {},
     "output_type": "execute_result"
    },
    {
     "data": {
      "image/png": "[encoded data removed]",
      "text/plain": [
       "<Figure size 640x480 with 1 Axes>"
      ]
     },
     "metadata": {},
     "output_type": "display_data"
    }
   ],
   "source": [
    "plt.hist(sol[0])\n",
    "plt.hist(sol[-1]%(np.pi))"
   ]
  },
  {
   "cell_type": "code",
   "execution_count": 41,
   "metadata": {},
   "outputs": [
    {
     "data": {
      "text/plain": [
       "array([49., 49., 49., 49., 49., 49., 49., 49., 49., 49., 49., 49., 49.,\n",
       "       49., 49., 49., 49., 49., 49., 49., 49., 49., 49., 49., 49., 49.,\n",
       "       49., 49., 49., 49., 49., 49., 49., 49., 49., 49., 49., 49., 49.,\n",
       "       49., 49., 49., 49., 49., 49., 49., 49., 49., 49., 49.])"
      ]
     },
     "execution_count": 41,
     "metadata": {},
     "output_type": "execute_result"
    }
   ],
   "source": [
    "np.sum(Aij,axis=0)"
   ]
  },
  {
   "cell_type": "code",
   "execution_count": 42,
   "metadata": {},
   "outputs": [],
   "source": [
    "# idx =-1\n",
    "# theta_i,theta_j,theta_k = np.meshgrid(sol[idx],sol[idx],sol[idx])\n",
    "# A = np.sum(np.sum(Bijk*np.exp(1j*theta_j+1j*theta_k),axis=2),axis=1)/N**2"
   ]
  },
  {
   "cell_type": "code",
   "execution_count": 43,
   "metadata": {},
   "outputs": [
    {
     "ename": "TypeError",
     "evalue": "bad operand type for abs(): 'module'",
     "output_type": "error",
     "traceback": [
      "\u001b[0;31m---------------------------------------------------------------------------\u001b[0m",
      "\u001b[0;31mTypeError\u001b[0m                                 Traceback (most recent call last)",
      "Cell \u001b[0;32mIn[43], line 1\u001b[0m\n\u001b[0;32m----> 1\u001b[0m rabs \u001b[38;5;241m=\u001b[39m \u001b[43mnp\u001b[49m\u001b[38;5;241;43m.\u001b[39;49m\u001b[43mabs\u001b[49m\u001b[43m(\u001b[49m\u001b[43mnp\u001b[49m\u001b[43m)\u001b[49m\n",
      "\u001b[0;31mTypeError\u001b[0m: bad operand type for abs(): 'module'"
     ]
    }
   ],
   "source": [
    "rabs = np.abs(np)"
   ]
  },
  {
   "cell_type": "code",
   "execution_count": null,
   "metadata": {},
   "outputs": [],
   "source": [
    "plt.plot(R1i)"
   ]
  },
  {
   "cell_type": "code",
   "execution_count": null,
   "metadata": {},
   "outputs": [],
   "source": [
    "rabs = np.mean(np.exp(2*sol.T*1j),axis=0)\n",
    "# rabs = rabs_[len(t)//2:]\n",
    "r = np.abs(rabs)\n"
   ]
  },
  {
   "cell_type": "code",
   "execution_count": 44,
   "metadata": {},
   "outputs": [
    {
     "data": {
      "text/plain": [
       "[<matplotlib.lines.Line2D at 0x1380d3650>]"
      ]
     },
     "execution_count": 44,
     "metadata": {},
     "output_type": "execute_result"
    },
    {
     "data": {
      "image/png": "[encoded data removed]",
      "text/plain": [
       "<Figure size 640x480 with 1 Axes>"
      ]
     },
     "metadata": {},
     "output_type": "display_data"
    }
   ],
   "source": [
    "plt.plot(r)"
   ]
  },
  {
   "cell_type": "code",
   "execution_count": 45,
   "metadata": {},
   "outputs": [
    {
     "data": {
      "text/plain": [
       "<matplotlib.collections.PathCollection at 0x1385faf10>"
      ]
     },
     "execution_count": 45,
     "metadata": {},
     "output_type": "execute_result"
    },
    {
     "data": {
      "image/png": "[encoded data removed]",
      "text/plain": [
       "<Figure size 640x480 with 1 Axes>"
      ]
     },
     "metadata": {},
     "output_type": "display_data"
    }
   ],
   "source": [
    "plt.scatter(sol[0],np.sort(sol[-1]%(np.pi*2)))\n",
    "# plt.plot(sol[-1]%(2*np.pi),'.')"
   ]
  },
  {
   "cell_type": "code",
   "execution_count": null,
   "metadata": {},
   "outputs": [],
   "source": [
    "sol[0].shape"
   ]
  },
  {
   "cell_type": "code",
   "execution_count": 47,
   "metadata": {},
   "outputs": [
    {
     "data": {
      "text/plain": [
       "[<matplotlib.lines.Line2D at 0x1386cee90>]"
      ]
     },
     "execution_count": 47,
     "metadata": {},
     "output_type": "execute_result"
    },
    {
     "data": {
      "image/png": "[encoded data removed]",
      "text/plain": [
       "<Figure size 640x480 with 1 Axes>"
      ]
     },
     "metadata": {},
     "output_type": "display_data"
    }
   ],
   "source": [
    "x = np.linspace(-np.pi,np.pi,1000)\n",
    "plt.axes().set_aspect(1)\n",
    "idx= 0;plt.scatter(np.sin(sol[idx]),np.cos(sol[idx]))\n",
    "idx= -1;plt.scatter(np.sin(sol[idx]),np.cos(sol[idx]))\n",
    "# idx= 110;plt.scatter(np.sin(sol[-idx]),np.cos(sol[-idx]))\n",
    "plt.plot(np.sin(x),np.cos(x))"
   ]
  },
  {
   "cell_type": "code",
   "execution_count": null,
   "metadata": {},
   "outputs": [],
   "source": [
    "plt.plot(r)\n",
    "# plt.xlim(0,10)"
   ]
  },
  {
   "cell_type": "markdown",
   "metadata": {},
   "source": [
    "# 2pi symetric을 어떻게 할지 고민중"
   ]
  },
  {
   "cell_type": "code",
   "execution_count": null,
   "metadata": {},
   "outputs": [],
   "source": [
    "R1i  = "
   ]
  },
  {
   "cell_type": "code",
   "execution_count": null,
   "metadata": {},
   "outputs": [],
   "source": [
    "N = 3\n",
    "i = np.arange(N)\n",
    "# i,j,k= np.meshgrid(i,i,i)\n",
    "i,j,k= np.meshgrid(i,i,i,indexing='ij',sparse=True)"
   ]
  },
  {
   "cell_type": "code",
   "execution_count": null,
   "metadata": {},
   "outputs": [],
   "source": [
    "BBB = j+k-2*i\n",
    "Bi,Bj,Bk = np.where(BBB==0)"
   ]
  },
  {
   "cell_type": "code",
   "execution_count": null,
   "metadata": {},
   "outputs": [],
   "source": [
    "Bi += 1\n",
    "Bj += 1\n",
    "Bk += 1"
   ]
  },
  {
   "cell_type": "code",
   "execution_count": null,
   "metadata": {},
   "outputs": [],
   "source": [
    "Bi,Bj,Bk"
   ]
  },
  {
   "cell_type": "code",
   "execution_count": null,
   "metadata": {},
   "outputs": [],
   "source": [
    "j[0,:,0]"
   ]
  },
  {
   "cell_type": "code",
   "execution_count": null,
   "metadata": {},
   "outputs": [],
   "source": [
    "import cv2\n",
    "import numpy as np"
   ]
  },
  {
   "cell_type": "code",
   "execution_count": null,
   "metadata": {},
   "outputs": [],
   "source": [
    "image = cv2.imread('Pasted image 20240321141711.png')"
   ]
  },
  {
   "cell_type": "code",
   "execution_count": null,
   "metadata": {},
   "outputs": [],
   "source": [
    "gray = cv2.cvtColor(image, cv2.COLOR_BGR2GRAY)\n",
    "gray_blurred = cv2.GaussianBlur(gray, (7, 7), 0)\n"
   ]
  },
  {
   "cell_type": "code",
   "execution_count": null,
   "metadata": {},
   "outputs": [],
   "source": [
    "circles = cv2.HoughCircles(gray_blurred, cv2.HOUGH_GRADIENT, 1, 20, param1=50, param2=30, minRadius=0, maxRadius=0)\n"
   ]
  },
  {
   "cell_type": "code",
   "execution_count": null,
   "metadata": {},
   "outputs": [],
   "source": [
    "\n",
    "src1_hsv = cv2.cvtColor(image, cv2.COLOR_BGR2HSV)\n",
    "dst1 = cv2.inRange(image, (95, 92, 252),(114, 98, 251))#, (150, 150, 255)) # B : 0 ~ 150, G : 0 ~ 150, R : 100 ~ 255\n",
    " \n",
    "dst2 = cv2.inRange(src1_hsv, (160, 200, 0), (179, 255, 255)) # H(색상) : 160 ~ 179, S(채도) : 100 ~ 255, V"
   ]
  },
  {
   "cell_type": "code",
   "execution_count": null,
   "metadata": {},
   "outputs": [],
   "source": [
    "lower_red = (95, 92, 250)\n",
    "upper_red = (114, 98, 251)\n",
    "mask = cv2.inRange(image, lower_red, upper_red)\n",
    "\n",
    "result = cv2.bitwise_and(image, image, mask=mask)\n",
    "\n",
    "cv2.imshow(\"Result\", result)\n",
    "cv2.waitKey(0)\n",
    "cv2.destroyAllWindows()"
   ]
  },
  {
   "cell_type": "code",
   "execution_count": null,
   "metadata": {},
   "outputs": [],
   "source": [
    "np.where(dst1==1)"
   ]
  },
  {
   "cell_type": "code",
   "execution_count": null,
   "metadata": {},
   "outputs": [],
   "source": [
    "\n",
    "# cv2.imshow('src1', src1)\n",
    "# cv2.imshow('dst1', dst1)\n",
    "# cv2.imshow('dst2', dst2)"
   ]
  },
  {
   "cell_type": "code",
   "execution_count": null,
   "metadata": {},
   "outputs": [],
   "source": [
    "import numpy as np\n",
    "import matplotlib.pyplot as plt\n",
    "from scipy.integrate import odeint\n",
    "\n",
    "a = 0.1\n",
    "def myFun(u,t=0,a=a):\n",
    "\tx,y = u[0],u[1]\n",
    "\tdx = -y+a*x*(x**2+y**2)\n",
    "\tdy = x+ a*y*(x**2+y**2)\n",
    "\treturn np.array([dx,dy])\n",
    "\n",
    "def RK4(f, y0, t, args=()):\n",
    "    n = len(t)\n",
    "    y = np.zeros((n,len(y0)))\n",
    "    y[0] = y0\n",
    "\n",
    "    for i in range(n - 1):\n",
    "        h = t[i + 1] - t[i]\n",
    "        k1 = f(y[i], t[i], *args)\n",
    "        k2 = f(y[i] + k1 * h / 2.0, t[i] + h / 2.0, *args)\n",
    "        k3 = f(y[i] + k2 * h / 2.0, t[i] + h / 2.0, *args)\n",
    "        k4 = f(y[i] + k3 * h, t[i] + h, *args)\n",
    "        y[i + 1] = y[i] + (h / 6.0) * (k1 + 2 * k2 + 2 * k3 + k4)\n",
    "    return y\n",
    "\n",
    "\n",
    "t = np.arange(0,200,0.01)\n",
    "x = 0.2* np.linspace(-1.2,1.2,2)\n",
    "y = 0.2* np.linspace(-1.2,1.2,2)\n",
    "X,Y = np.meshgrid(x,y)\n",
    "# u0s = [[-1,0],[-0.2,0],[-0.5,-1],[0,1]]\n",
    "u0s = [[x_,y_] for x_,y_ in zip(X.flatten(),Y.flatten()) ]\n",
    "for u0 in u0s:\n",
    "\tu = RK4(myFun,np.array(u0,dtype=float),t,args=(a,))\n",
    "\tplt.plot(u[:,0],u[:,1],lw=1.5,label=r'$\\vec{x}(0)=(%.1f,%.1f)$'%(u0[0],u0[1]))\n",
    "\n",
    "x = np.linspace(-2,2,15)\n",
    "y = np.linspace(-2,2,15)\n",
    "X,Y = np.meshgrid(x,y)\n",
    "U,V = myFun([X,Y],0)\n",
    "M = (np.hypot(U,V))\n",
    "# U = U / np.sqrt(U**2 + V**2);\n",
    "# V = V / np.sqrt(U**2 + V**2);\n",
    "\n",
    "\n",
    "xs = np.linspace(-3,-1e-5,1000)\n",
    "U = U / np.sqrt(U**2 + V**2);\n",
    "V = V / np.sqrt(U**2 + V**2);\n",
    "\n",
    "# plt.axhline(0,color='black')\n",
    "# plt.plot(xs,-np.log(-xs),color='black')\n",
    "# plt.plot(x,xdot(x,y))\n",
    "Q = plt.quiver(x,y,U,V,M,scale=13,pivot='mid',cmap='jet',zorder=3)\n",
    "plt.colorbar()\n",
    "plt.xlim(-2,2)\n",
    "plt.ylim(-2,2)\n",
    "ax =plt.gca()\n",
    "ax.grid(True)\n",
    "ax.minorticks_on()\n",
    "ax.set_aspect(1)\n",
    "# plt.plot(-1,0,'o',ms=10,markeredgewidth=2,markerfacecolor='white')\n",
    "plt.xlabel('x',fontsize=15)\n",
    "plt.ylabel('y',fontsize=15)\n",
    "plt.title(f'a={a}',fontsize=15)\n",
    "plt.legend()\n",
    "\n",
    "# qk = plt.quiverkey(Q, 0.9, 0.9, 1, r'$2 \\frac{m}{s}$', labelpos='E',\n",
    "#                    coordinates='figure')"
   ]
  },
  {
   "cell_type": "code",
   "execution_count": null,
   "metadata": {},
   "outputs": [],
   "source": [
    "centers_x =  []\n",
    "centers_y =  []\n",
    "if circles is not None:\n",
    "    circles = np.uint16(np.around(circles))\n",
    "    for i in circles[0, :]:\n",
    "        center = (i[0], i[1])  # Circle center\n",
    "        centers_x.append(i[0])\n",
    "        centers_y.append(i[1])\n",
    "        # Draw the center of the circle\n",
    "        # cv2.circle(image, center, 1, (0, 100, 100), 3)\n",
    "        # Optionally, draw the circumference of the circle\n",
    "        # cv2.circle(image, center, i[2], (255, 0, 255), 2)\n"
   ]
  },
  {
   "cell_type": "code",
   "execution_count": null,
   "metadata": {},
   "outputs": [],
   "source": [
    "cv2.imshow('Detected Circles', image)\n",
    "cv2.waitKey(0)\n",
    "cv2.destroyAllWindows()\n"
   ]
  },
  {
   "cell_type": "code",
   "execution_count": null,
   "metadata": {},
   "outputs": [],
   "source": []
  }
 ],
 "metadata": {
  "kernelspec": {
   "display_name": "Python 3",
   "language": "python",
   "name": "python3"
  },
  "language_info": {
   "codemirror_mode": {
    "name": "ipython",
    "version": 3
   },
   "file_extension": ".py",
   "mimetype": "text/x-python",
   "name": "python",
   "nbconvert_exporter": "python",
   "pygments_lexer": "ipython3",
   "version": "3.11.1"
  }
 },
 "nbformat": 4,
 "nbformat_minor": 2
}
